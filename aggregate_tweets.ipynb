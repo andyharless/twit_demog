{
 "cells": [
  {
   "cell_type": "code",
   "execution_count": 1,
   "metadata": {},
   "outputs": [],
   "source": [
    "DATAPATH = '../data/'\n",
    "TWEETPATH = '../data/tweets/'\n",
    "OUTFILE = 'aggtweets.csv'\n",
    "XFERPATH = '~/downloads'  # To transfer files to Google Colab"
   ]
  },
  {
   "cell_type": "code",
   "execution_count": 2,
   "metadata": {},
   "outputs": [],
   "source": [
    "import glob\n",
    "import json\n",
    "import pandas as pd\n",
    "import gender_guesser.detector as gender\n",
    "from utils import *"
   ]
  },
  {
   "cell_type": "code",
   "execution_count": 3,
   "metadata": {},
   "outputs": [],
   "source": [
    "names = []\n",
    "texts = []\n",
    "userids = []\n",
    "timestamps = []\n",
    "for fn in glob.glob(TWEETPATH+'*.json'):\n",
    "    with open(fn) as fi:\n",
    "        for line in fi:\n",
    "            r = json.loads(line)\n",
    "            names.append(r['user']['name'])\n",
    "            userids.append(r['user']['id'])\n",
    "            texts.append(get_text_cleaned(r))\n",
    "            timestamps.append(r['created_at'])"
   ]
  },
  {
   "cell_type": "code",
   "execution_count": 4,
   "metadata": {},
   "outputs": [
    {
     "data": {
      "text/plain": [
       "(31766, 31766, 31766, 31766)"
      ]
     },
     "execution_count": 4,
     "metadata": {},
     "output_type": "execute_result"
    }
   ],
   "source": [
    "len(timestamps), len(names), len(userids), len(texts)"
   ]
  },
  {
   "cell_type": "code",
   "execution_count": 5,
   "metadata": {},
   "outputs": [
    {
     "data": {
      "text/html": [
       "<div>\n",
       "<style scoped>\n",
       "    .dataframe tbody tr th:only-of-type {\n",
       "        vertical-align: middle;\n",
       "    }\n",
       "\n",
       "    .dataframe tbody tr th {\n",
       "        vertical-align: top;\n",
       "    }\n",
       "\n",
       "    .dataframe thead th {\n",
       "        text-align: right;\n",
       "    }\n",
       "</style>\n",
       "<table border=\"1\" class=\"dataframe\">\n",
       "  <thead>\n",
       "    <tr style=\"text-align: right;\">\n",
       "      <th></th>\n",
       "      <th></th>\n",
       "      <th>name</th>\n",
       "      <th>text</th>\n",
       "    </tr>\n",
       "  </thead>\n",
       "  <tbody>\n",
       "    <tr>\n",
       "      <th>425472153</th>\n",
       "      <th>Sat May 25 20:24:48 +0000 2019</th>\n",
       "      <td>Queen K</td>\n",
       "      <td>Everything and everybody is temporary ‼️</td>\n",
       "    </tr>\n",
       "    <tr>\n",
       "      <th>1081873499621273601</th>\n",
       "      <th>Sat May 25 20:24:48 +0000 2019</th>\n",
       "      <td>Alexandru Constantin</td>\n",
       "      <td>My poll about short stories was part of me adm...</td>\n",
       "    </tr>\n",
       "    <tr>\n",
       "      <th>987721418</th>\n",
       "      <th>Sat May 25 20:24:48 +0000 2019</th>\n",
       "      <td>Susie Carmichael</td>\n",
       "      <td>Wish I was in mobile right now</td>\n",
       "    </tr>\n",
       "    <tr>\n",
       "      <th>980758839770451973</th>\n",
       "      <th>Sat May 25 20:24:52 +0000 2019</th>\n",
       "      <td>Princess Sih.</td>\n",
       "      <td>how much for this promo ? Put me on ?</td>\n",
       "    </tr>\n",
       "    <tr>\n",
       "      <th>838620336367218692</th>\n",
       "      <th>Sat May 25 20:24:53 +0000 2019</th>\n",
       "      <td>Reid Kisselback</td>\n",
       "      <td>Keep an eye on the sky this evening if you hav...</td>\n",
       "    </tr>\n",
       "    <tr>\n",
       "      <th>719844437967388672</th>\n",
       "      <th>Sat May 25 20:24:56 +0000 2019</th>\n",
       "      <td>Steve Berry</td>\n",
       "      <td>It appears I’ve parked the Volvo on the set of...</td>\n",
       "    </tr>\n",
       "    <tr>\n",
       "      <th>2888535818</th>\n",
       "      <th>Sat May 25 20:24:57 +0000 2019</th>\n",
       "      <td>David S</td>\n",
       "      <td>Top Pitch.</td>\n",
       "    </tr>\n",
       "    <tr>\n",
       "      <th>1109541615520174082</th>\n",
       "      <th>Sat May 25 20:24:57 +0000 2019</th>\n",
       "      <td>Luke Richardson</td>\n",
       "      <td>Comment and I’ll rate your account</td>\n",
       "    </tr>\n",
       "    <tr>\n",
       "      <th>930686221260591104</th>\n",
       "      <th>Sat May 25 20:24:58 +0000 2019</th>\n",
       "      <td>Tom</td>\n",
       "      <td>Fuck I'd love to suck them nipples 😜</td>\n",
       "    </tr>\n",
       "    <tr>\n",
       "      <th>46486931</th>\n",
       "      <th>Sat May 25 20:25:00 +0000 2019</th>\n",
       "      <td>Savannah Robnett</td>\n",
       "      <td>TYPICAL</td>\n",
       "    </tr>\n",
       "  </tbody>\n",
       "</table>\n",
       "</div>"
      ],
      "text/plain": [
       "                                                                    name  \\\n",
       "425472153           Sat May 25 20:24:48 +0000 2019               Queen K   \n",
       "1081873499621273601 Sat May 25 20:24:48 +0000 2019  Alexandru Constantin   \n",
       "987721418           Sat May 25 20:24:48 +0000 2019      Susie Carmichael   \n",
       "980758839770451973  Sat May 25 20:24:52 +0000 2019         Princess Sih.   \n",
       "838620336367218692  Sat May 25 20:24:53 +0000 2019       Reid Kisselback   \n",
       "719844437967388672  Sat May 25 20:24:56 +0000 2019           Steve Berry   \n",
       "2888535818          Sat May 25 20:24:57 +0000 2019               David S   \n",
       "1109541615520174082 Sat May 25 20:24:57 +0000 2019       Luke Richardson   \n",
       "930686221260591104  Sat May 25 20:24:58 +0000 2019                   Tom   \n",
       "46486931            Sat May 25 20:25:00 +0000 2019      Savannah Robnett   \n",
       "\n",
       "                                                                                                 text  \n",
       "425472153           Sat May 25 20:24:48 +0000 2019           Everything and everybody is temporary ‼️  \n",
       "1081873499621273601 Sat May 25 20:24:48 +0000 2019  My poll about short stories was part of me adm...  \n",
       "987721418           Sat May 25 20:24:48 +0000 2019                     Wish I was in mobile right now  \n",
       "980758839770451973  Sat May 25 20:24:52 +0000 2019              how much for this promo ? Put me on ?  \n",
       "838620336367218692  Sat May 25 20:24:53 +0000 2019  Keep an eye on the sky this evening if you hav...  \n",
       "719844437967388672  Sat May 25 20:24:56 +0000 2019  It appears I’ve parked the Volvo on the set of...  \n",
       "2888535818          Sat May 25 20:24:57 +0000 2019                                         Top Pitch.  \n",
       "1109541615520174082 Sat May 25 20:24:57 +0000 2019                Comment and I’ll rate your account   \n",
       "930686221260591104  Sat May 25 20:24:58 +0000 2019               Fuck I'd love to suck them nipples 😜  \n",
       "46486931            Sat May 25 20:25:00 +0000 2019                                            TYPICAL  "
      ]
     },
     "execution_count": 5,
     "metadata": {},
     "output_type": "execute_result"
    }
   ],
   "source": [
    "df = pd.DataFrame({'name':names, 'text':texts},index=[userids, timestamps])\n",
    "df.head(10)"
   ]
  },
  {
   "cell_type": "code",
   "execution_count": 6,
   "metadata": {},
   "outputs": [
    {
     "data": {
      "text/html": [
       "<div>\n",
       "<style scoped>\n",
       "    .dataframe tbody tr th:only-of-type {\n",
       "        vertical-align: middle;\n",
       "    }\n",
       "\n",
       "    .dataframe tbody tr th {\n",
       "        vertical-align: top;\n",
       "    }\n",
       "\n",
       "    .dataframe thead th {\n",
       "        text-align: right;\n",
       "    }\n",
       "</style>\n",
       "<table border=\"1\" class=\"dataframe\">\n",
       "  <thead>\n",
       "    <tr style=\"text-align: right;\">\n",
       "      <th></th>\n",
       "      <th></th>\n",
       "      <th>name</th>\n",
       "      <th>text</th>\n",
       "    </tr>\n",
       "  </thead>\n",
       "  <tbody>\n",
       "    <tr>\n",
       "      <th>415142128</th>\n",
       "      <th>Tue May 21 23:50:47 +0000 2019</th>\n",
       "      <td>Joe “too thin” Sloss</td>\n",
       "      <td>Is a hot dog considered a sandwich</td>\n",
       "    </tr>\n",
       "    <tr>\n",
       "      <th>219912731</th>\n",
       "      <th>Tue May 21 23:50:47 +0000 2019</th>\n",
       "      <td>Stephen Williams</td>\n",
       "      <td>Yes, but how many people you know that had a ...</td>\n",
       "    </tr>\n",
       "    <tr>\n",
       "      <th>2975374749</th>\n",
       "      <th>Tue May 21 23:50:47 +0000 2019</th>\n",
       "      <td>Daniel McDermott</td>\n",
       "      <td>🤔i think someone wants to hold a certain ch...</td>\n",
       "    </tr>\n",
       "    <tr>\n",
       "      <th>2975770414</th>\n",
       "      <th>Tue May 21 23:50:48 +0000 2019</th>\n",
       "      <td>Scott Jaeger</td>\n",
       "      <td>Thanks Matt!!</td>\n",
       "    </tr>\n",
       "    <tr>\n",
       "      <th>1116552726412873728</th>\n",
       "      <th>Tue May 21 23:50:48 +0000 2019</th>\n",
       "      <td>Michaela Carrielies</td>\n",
       "      <td>twits can gob their garbage about B and C etc ...</td>\n",
       "    </tr>\n",
       "  </tbody>\n",
       "</table>\n",
       "</div>"
      ],
      "text/plain": [
       "                                                                    name  \\\n",
       "415142128           Tue May 21 23:50:47 +0000 2019  Joe “too thin” Sloss   \n",
       "219912731           Tue May 21 23:50:47 +0000 2019      Stephen Williams   \n",
       "2975374749          Tue May 21 23:50:47 +0000 2019      Daniel McDermott   \n",
       "2975770414          Tue May 21 23:50:48 +0000 2019          Scott Jaeger   \n",
       "1116552726412873728 Tue May 21 23:50:48 +0000 2019   Michaela Carrielies   \n",
       "\n",
       "                                                                                                 text  \n",
       "415142128           Tue May 21 23:50:47 +0000 2019                 Is a hot dog considered a sandwich  \n",
       "219912731           Tue May 21 23:50:47 +0000 2019   Yes, but how many people you know that had a ...  \n",
       "2975374749          Tue May 21 23:50:47 +0000 2019     🤔i think someone wants to hold a certain ch...  \n",
       "2975770414          Tue May 21 23:50:48 +0000 2019                                      Thanks Matt!!  \n",
       "1116552726412873728 Tue May 21 23:50:48 +0000 2019  twits can gob their garbage about B and C etc ...  "
      ]
     },
     "execution_count": 6,
     "metadata": {},
     "output_type": "execute_result"
    }
   ],
   "source": [
    "df.tail()"
   ]
  },
  {
   "cell_type": "code",
   "execution_count": 7,
   "metadata": {},
   "outputs": [
    {
     "data": {
      "text/plain": [
       "' how much for this promo ? Put me on ?'"
      ]
     },
     "execution_count": 7,
     "metadata": {},
     "output_type": "execute_result"
    }
   ],
   "source": [
    "texts[3]"
   ]
  },
  {
   "cell_type": "code",
   "execution_count": 8,
   "metadata": {},
   "outputs": [],
   "source": [
    "gd = gender.Detector()\n",
    "def is_male(x):\n",
    "    return(is_male_g(gd, x))"
   ]
  },
  {
   "cell_type": "code",
   "execution_count": 9,
   "metadata": {},
   "outputs": [
    {
     "data": {
      "text/html": [
       "<div>\n",
       "<style scoped>\n",
       "    .dataframe tbody tr th:only-of-type {\n",
       "        vertical-align: middle;\n",
       "    }\n",
       "\n",
       "    .dataframe tbody tr th {\n",
       "        vertical-align: top;\n",
       "    }\n",
       "\n",
       "    .dataframe thead th {\n",
       "        text-align: right;\n",
       "    }\n",
       "</style>\n",
       "<table border=\"1\" class=\"dataframe\">\n",
       "  <thead>\n",
       "    <tr style=\"text-align: right;\">\n",
       "      <th></th>\n",
       "      <th></th>\n",
       "      <th>name</th>\n",
       "      <th>text</th>\n",
       "      <th>male</th>\n",
       "    </tr>\n",
       "  </thead>\n",
       "  <tbody>\n",
       "    <tr>\n",
       "      <th>425472153</th>\n",
       "      <th>Sat May 25 20:24:48 +0000 2019</th>\n",
       "      <td>Queen K</td>\n",
       "      <td>Everything and everybody is temporary ‼️</td>\n",
       "      <td>False</td>\n",
       "    </tr>\n",
       "    <tr>\n",
       "      <th>1081873499621273601</th>\n",
       "      <th>Sat May 25 20:24:48 +0000 2019</th>\n",
       "      <td>Alexandru Constantin</td>\n",
       "      <td>My poll about short stories was part of me adm...</td>\n",
       "      <td>True</td>\n",
       "    </tr>\n",
       "    <tr>\n",
       "      <th>987721418</th>\n",
       "      <th>Sat May 25 20:24:48 +0000 2019</th>\n",
       "      <td>Susie Carmichael</td>\n",
       "      <td>Wish I was in mobile right now</td>\n",
       "      <td>False</td>\n",
       "    </tr>\n",
       "    <tr>\n",
       "      <th>980758839770451973</th>\n",
       "      <th>Sat May 25 20:24:52 +0000 2019</th>\n",
       "      <td>Princess Sih.</td>\n",
       "      <td>how much for this promo ? Put me on ?</td>\n",
       "      <td>False</td>\n",
       "    </tr>\n",
       "    <tr>\n",
       "      <th>838620336367218692</th>\n",
       "      <th>Sat May 25 20:24:53 +0000 2019</th>\n",
       "      <td>Reid Kisselback</td>\n",
       "      <td>Keep an eye on the sky this evening if you hav...</td>\n",
       "      <td>True</td>\n",
       "    </tr>\n",
       "  </tbody>\n",
       "</table>\n",
       "</div>"
      ],
      "text/plain": [
       "                                                                    name  \\\n",
       "425472153           Sat May 25 20:24:48 +0000 2019               Queen K   \n",
       "1081873499621273601 Sat May 25 20:24:48 +0000 2019  Alexandru Constantin   \n",
       "987721418           Sat May 25 20:24:48 +0000 2019      Susie Carmichael   \n",
       "980758839770451973  Sat May 25 20:24:52 +0000 2019         Princess Sih.   \n",
       "838620336367218692  Sat May 25 20:24:53 +0000 2019       Reid Kisselback   \n",
       "\n",
       "                                                                                                 text  \\\n",
       "425472153           Sat May 25 20:24:48 +0000 2019           Everything and everybody is temporary ‼️   \n",
       "1081873499621273601 Sat May 25 20:24:48 +0000 2019  My poll about short stories was part of me adm...   \n",
       "987721418           Sat May 25 20:24:48 +0000 2019                     Wish I was in mobile right now   \n",
       "980758839770451973  Sat May 25 20:24:52 +0000 2019              how much for this promo ? Put me on ?   \n",
       "838620336367218692  Sat May 25 20:24:53 +0000 2019  Keep an eye on the sky this evening if you hav...   \n",
       "\n",
       "                                                     male  \n",
       "425472153           Sat May 25 20:24:48 +0000 2019  False  \n",
       "1081873499621273601 Sat May 25 20:24:48 +0000 2019   True  \n",
       "987721418           Sat May 25 20:24:48 +0000 2019  False  \n",
       "980758839770451973  Sat May 25 20:24:52 +0000 2019  False  \n",
       "838620336367218692  Sat May 25 20:24:53 +0000 2019   True  "
      ]
     },
     "execution_count": 9,
     "metadata": {},
     "output_type": "execute_result"
    }
   ],
   "source": [
    "df['male'] = df.name.apply(is_male)\n",
    "df.head()"
   ]
  },
  {
   "cell_type": "code",
   "execution_count": 10,
   "metadata": {},
   "outputs": [
    {
     "data": {
      "text/html": [
       "<div>\n",
       "<style scoped>\n",
       "    .dataframe tbody tr th:only-of-type {\n",
       "        vertical-align: middle;\n",
       "    }\n",
       "\n",
       "    .dataframe tbody tr th {\n",
       "        vertical-align: top;\n",
       "    }\n",
       "\n",
       "    .dataframe thead th {\n",
       "        text-align: right;\n",
       "    }\n",
       "</style>\n",
       "<table border=\"1\" class=\"dataframe\">\n",
       "  <thead>\n",
       "    <tr style=\"text-align: right;\">\n",
       "      <th></th>\n",
       "      <th></th>\n",
       "      <th>name</th>\n",
       "      <th>text</th>\n",
       "      <th>male</th>\n",
       "    </tr>\n",
       "  </thead>\n",
       "  <tbody>\n",
       "    <tr>\n",
       "      <th>415142128</th>\n",
       "      <th>Tue May 21 23:50:47 +0000 2019</th>\n",
       "      <td>Joe “too thin” Sloss</td>\n",
       "      <td>Is a hot dog considered a sandwich</td>\n",
       "      <td>True</td>\n",
       "    </tr>\n",
       "    <tr>\n",
       "      <th>219912731</th>\n",
       "      <th>Tue May 21 23:50:47 +0000 2019</th>\n",
       "      <td>Stephen Williams</td>\n",
       "      <td>Yes, but how many people you know that had a ...</td>\n",
       "      <td>True</td>\n",
       "    </tr>\n",
       "    <tr>\n",
       "      <th>2975374749</th>\n",
       "      <th>Tue May 21 23:50:47 +0000 2019</th>\n",
       "      <td>Daniel McDermott</td>\n",
       "      <td>🤔i think someone wants to hold a certain ch...</td>\n",
       "      <td>True</td>\n",
       "    </tr>\n",
       "    <tr>\n",
       "      <th>2975770414</th>\n",
       "      <th>Tue May 21 23:50:48 +0000 2019</th>\n",
       "      <td>Scott Jaeger</td>\n",
       "      <td>Thanks Matt!!</td>\n",
       "      <td>True</td>\n",
       "    </tr>\n",
       "    <tr>\n",
       "      <th>1116552726412873728</th>\n",
       "      <th>Tue May 21 23:50:48 +0000 2019</th>\n",
       "      <td>Michaela Carrielies</td>\n",
       "      <td>twits can gob their garbage about B and C etc ...</td>\n",
       "      <td>False</td>\n",
       "    </tr>\n",
       "  </tbody>\n",
       "</table>\n",
       "</div>"
      ],
      "text/plain": [
       "                                                                    name  \\\n",
       "415142128           Tue May 21 23:50:47 +0000 2019  Joe “too thin” Sloss   \n",
       "219912731           Tue May 21 23:50:47 +0000 2019      Stephen Williams   \n",
       "2975374749          Tue May 21 23:50:47 +0000 2019      Daniel McDermott   \n",
       "2975770414          Tue May 21 23:50:48 +0000 2019          Scott Jaeger   \n",
       "1116552726412873728 Tue May 21 23:50:48 +0000 2019   Michaela Carrielies   \n",
       "\n",
       "                                                                                                 text  \\\n",
       "415142128           Tue May 21 23:50:47 +0000 2019                 Is a hot dog considered a sandwich   \n",
       "219912731           Tue May 21 23:50:47 +0000 2019   Yes, but how many people you know that had a ...   \n",
       "2975374749          Tue May 21 23:50:47 +0000 2019     🤔i think someone wants to hold a certain ch...   \n",
       "2975770414          Tue May 21 23:50:48 +0000 2019                                      Thanks Matt!!   \n",
       "1116552726412873728 Tue May 21 23:50:48 +0000 2019  twits can gob their garbage about B and C etc ...   \n",
       "\n",
       "                                                     male  \n",
       "415142128           Tue May 21 23:50:47 +0000 2019   True  \n",
       "219912731           Tue May 21 23:50:47 +0000 2019   True  \n",
       "2975374749          Tue May 21 23:50:47 +0000 2019   True  \n",
       "2975770414          Tue May 21 23:50:48 +0000 2019   True  \n",
       "1116552726412873728 Tue May 21 23:50:48 +0000 2019  False  "
      ]
     },
     "execution_count": 10,
     "metadata": {},
     "output_type": "execute_result"
    }
   ],
   "source": [
    "df.tail()"
   ]
  },
  {
   "cell_type": "code",
   "execution_count": 11,
   "metadata": {},
   "outputs": [],
   "source": [
    "outpath = DATAPATH+OUTFILE\n",
    "df.to_csv(outpath, index_label=['id','time'])"
   ]
  },
  {
   "cell_type": "code",
   "execution_count": 12,
   "metadata": {},
   "outputs": [],
   "source": [
    "!cp $outpath $XFERPATH "
   ]
  }
 ],
 "metadata": {
  "kernelspec": {
   "display_name": "Python 3",
   "language": "python",
   "name": "python3"
  },
  "language_info": {
   "codemirror_mode": {
    "name": "ipython",
    "version": 3
   },
   "file_extension": ".py",
   "mimetype": "text/x-python",
   "name": "python",
   "nbconvert_exporter": "python",
   "pygments_lexer": "ipython3",
   "version": "3.6.8"
  }
 },
 "nbformat": 4,
 "nbformat_minor": 2
}
