{
 "cells": [
  {
   "cell_type": "code",
   "execution_count": 1,
   "metadata": {},
   "outputs": [],
   "source": [
    "DATAPATH = '../data/'\n",
    "TRAIN_FNAME = 'embed_train_201906020021.csv'\n",
    "VALID_FNAME = 'embed_valid_201906020021.csv'\n",
    "TRAIN_RAW = 'twitgen_train_201906011956.csv'\n",
    "VALID_RAW = 'twitgen_valid_201906011956.csv'\n",
    "EMBEDDING_DIM = 512\n",
    "MODEL_TYPE_ID = 'lrp'\n",
    "MODEL_TIMESTAMP = '201906021549'"
   ]
  },
  {
   "cell_type": "code",
   "execution_count": 2,
   "metadata": {},
   "outputs": [],
   "source": [
    "import pandas as pd\n",
    "import numpy as np\n",
    "import joblib"
   ]
  },
  {
   "cell_type": "code",
   "execution_count": 3,
   "metadata": {},
   "outputs": [],
   "source": [
    "train_path = DATAPATH + MODEL_TYPE_ID + '_train_pred_' + MODEL_TIMESTAMP + '.csv'\n",
    "df_train_pred = pd.read_csv(train_path, index_col=['id','time'], parse_dates=['time'])\n",
    "\n",
    "valid_path = DATAPATH + MODEL_TYPE_ID + '_valid_pred_' + MODEL_TIMESTAMP + '.csv'\n",
    "df_valid_pred = pd.read_csv(valid_path, index_col=['id','time'], parse_dates=['time'])"
   ]
  },
  {
   "cell_type": "markdown",
   "metadata": {},
   "source": [
    "# Tweets with high-confidence predictions"
   ]
  },
  {
   "cell_type": "markdown",
   "metadata": {},
   "source": [
    "The tweets with the highest female probability are mostly about Poshmark:"
   ]
  },
  {
   "cell_type": "code",
   "execution_count": 4,
   "metadata": {},
   "outputs": [
    {
     "data": {
      "text/html": [
       "<div>\n",
       "<style scoped>\n",
       "    .dataframe tbody tr th:only-of-type {\n",
       "        vertical-align: middle;\n",
       "    }\n",
       "\n",
       "    .dataframe tbody tr th {\n",
       "        vertical-align: top;\n",
       "    }\n",
       "\n",
       "    .dataframe thead th {\n",
       "        text-align: right;\n",
       "    }\n",
       "</style>\n",
       "<table border=\"1\" class=\"dataframe\">\n",
       "  <thead>\n",
       "    <tr style=\"text-align: right;\">\n",
       "      <th></th>\n",
       "      <th></th>\n",
       "      <th>text</th>\n",
       "      <th>male</th>\n",
       "      <th>pred</th>\n",
       "    </tr>\n",
       "    <tr>\n",
       "      <th>id</th>\n",
       "      <th>time</th>\n",
       "      <th></th>\n",
       "      <th></th>\n",
       "      <th></th>\n",
       "    </tr>\n",
       "  </thead>\n",
       "  <tbody>\n",
       "    <tr>\n",
       "      <th>822945538999984128</th>\n",
       "      <th>2019-05-25 20:54:11+00:00</th>\n",
       "      <td>Check out what I just added to my closet on Po...</td>\n",
       "      <td>False</td>\n",
       "      <td>0.013270</td>\n",
       "    </tr>\n",
       "    <tr>\n",
       "      <th>2415931831</th>\n",
       "      <th>2019-05-27 23:43:08+00:00</th>\n",
       "      <td>Check out what I just added to my closet on Po...</td>\n",
       "      <td>False</td>\n",
       "      <td>0.015979</td>\n",
       "    </tr>\n",
       "    <tr>\n",
       "      <th>37978225</th>\n",
       "      <th>2019-05-23 00:11:00+00:00</th>\n",
       "      <td>Check out what I just added to my closet on Po...</td>\n",
       "      <td>False</td>\n",
       "      <td>0.016606</td>\n",
       "    </tr>\n",
       "    <tr>\n",
       "      <th>2415931831</th>\n",
       "      <th>2019-05-27 03:33:48+00:00</th>\n",
       "      <td>Check out what I just added to my closet on Po...</td>\n",
       "      <td>False</td>\n",
       "      <td>0.017397</td>\n",
       "    </tr>\n",
       "    <tr>\n",
       "      <th>1371010783</th>\n",
       "      <th>2019-05-27 03:28:36+00:00</th>\n",
       "      <td>Seeing  so happy and playing with makeup makes...</td>\n",
       "      <td>False</td>\n",
       "      <td>0.017760</td>\n",
       "    </tr>\n",
       "    <tr>\n",
       "      <th rowspan=\"2\" valign=\"top\">2415931831</th>\n",
       "      <th>2019-05-27 03:34:14+00:00</th>\n",
       "      <td>Check out what I just added to my closet on Po...</td>\n",
       "      <td>False</td>\n",
       "      <td>0.018193</td>\n",
       "    </tr>\n",
       "    <tr>\n",
       "      <th>2019-05-27 23:42:50+00:00</th>\n",
       "      <td>Check out what I just added to my closet on Po...</td>\n",
       "      <td>False</td>\n",
       "      <td>0.018272</td>\n",
       "    </tr>\n",
       "    <tr>\n",
       "      <th>3251614401</th>\n",
       "      <th>2019-05-27 23:23:59+00:00</th>\n",
       "      <td>Check out what I just added to my closet on Po...</td>\n",
       "      <td>False</td>\n",
       "      <td>0.018317</td>\n",
       "    </tr>\n",
       "    <tr>\n",
       "      <th>26642530</th>\n",
       "      <th>2019-05-23 00:04:35+00:00</th>\n",
       "      <td>Check out what I just added to my closet on Po...</td>\n",
       "      <td>False</td>\n",
       "      <td>0.018487</td>\n",
       "    </tr>\n",
       "    <tr>\n",
       "      <th>1190127265</th>\n",
       "      <th>2019-05-28 03:45:08+00:00</th>\n",
       "      <td>Check out what I just added to my closet on Po...</td>\n",
       "      <td>False</td>\n",
       "      <td>0.018552</td>\n",
       "    </tr>\n",
       "  </tbody>\n",
       "</table>\n",
       "</div>"
      ],
      "text/plain": [
       "                                                                                           text  \\\n",
       "id                 time                                                                           \n",
       "822945538999984128 2019-05-25 20:54:11+00:00  Check out what I just added to my closet on Po...   \n",
       "2415931831         2019-05-27 23:43:08+00:00  Check out what I just added to my closet on Po...   \n",
       "37978225           2019-05-23 00:11:00+00:00  Check out what I just added to my closet on Po...   \n",
       "2415931831         2019-05-27 03:33:48+00:00  Check out what I just added to my closet on Po...   \n",
       "1371010783         2019-05-27 03:28:36+00:00  Seeing  so happy and playing with makeup makes...   \n",
       "2415931831         2019-05-27 03:34:14+00:00  Check out what I just added to my closet on Po...   \n",
       "                   2019-05-27 23:42:50+00:00  Check out what I just added to my closet on Po...   \n",
       "3251614401         2019-05-27 23:23:59+00:00  Check out what I just added to my closet on Po...   \n",
       "26642530           2019-05-23 00:04:35+00:00  Check out what I just added to my closet on Po...   \n",
       "1190127265         2019-05-28 03:45:08+00:00  Check out what I just added to my closet on Po...   \n",
       "\n",
       "                                               male      pred  \n",
       "id                 time                                        \n",
       "822945538999984128 2019-05-25 20:54:11+00:00  False  0.013270  \n",
       "2415931831         2019-05-27 23:43:08+00:00  False  0.015979  \n",
       "37978225           2019-05-23 00:11:00+00:00  False  0.016606  \n",
       "2415931831         2019-05-27 03:33:48+00:00  False  0.017397  \n",
       "1371010783         2019-05-27 03:28:36+00:00  False  0.017760  \n",
       "2415931831         2019-05-27 03:34:14+00:00  False  0.018193  \n",
       "                   2019-05-27 23:42:50+00:00  False  0.018272  \n",
       "3251614401         2019-05-27 23:23:59+00:00  False  0.018317  \n",
       "26642530           2019-05-23 00:04:35+00:00  False  0.018487  \n",
       "1190127265         2019-05-28 03:45:08+00:00  False  0.018552  "
      ]
     },
     "execution_count": 4,
     "metadata": {},
     "output_type": "execute_result"
    }
   ],
   "source": [
    "df_train_text = pd.read_csv(DATAPATH+TRAIN_RAW, index_col=['id','time'], parse_dates=['time']\n",
    "                           ).drop(['male'],axis=1).join(df_train_pred).sort_values('pred')\n",
    "df_train_text.head(10)"
   ]
  },
  {
   "cell_type": "code",
   "execution_count": 5,
   "metadata": {},
   "outputs": [
    {
     "data": {
      "text/plain": [
       "array(['Check out what I just added to my closet on Poshmark: Social Butterfly BFYHC.  via  ',\n",
       "       'Check out what I just added to my closet on Poshmark: Free People Gates to the Garden Midi Dress 8 NWOT.… ',\n",
       "       'Check out what I just added to my closet on Poshmark: Walt Disney Baby Sleeper Size 12 Months.… ',\n",
       "       'Check out what I just added to my closet on Poshmark: Free People Bridget Stripe Set S Small NWT.… ',\n",
       "       'Seeing  so happy and playing with makeup makes my heart happy... now I want to play with my makeup this week 💙💙',\n",
       "       'Check out what I just added to my closet on Poshmark: Free People Abbie Embroidered Set M BNWOT.… ',\n",
       "       'Check out what I just added to my closet on Poshmark: Free People Hillside Jumper S Small BNWOT.… ',\n",
       "       'Check out what I just added to my closet on Poshmark: TC leggings Lularoe.  via  ',\n",
       "       'Check out what I just added to my closet on Poshmark: Victoria’s Secret Dream Angels Lined Demi 34DD NWT.… ',\n",
       "       'Check out what I just added to my closet on Poshmark: Lululemon Serenity dress/top.  via  '],\n",
       "      dtype=object)"
      ]
     },
     "execution_count": 5,
     "metadata": {},
     "output_type": "execute_result"
    }
   ],
   "source": [
    "df_train_text.head(10)['text'].values"
   ]
  },
  {
   "cell_type": "markdown",
   "metadata": {},
   "source": [
    "Aside from the Poshmark topic, the tweets with the highest female probability tend to be emotionally expressive."
   ]
  },
  {
   "cell_type": "code",
   "execution_count": 6,
   "metadata": {},
   "outputs": [
    {
     "data": {
      "text/html": [
       "<div>\n",
       "<style scoped>\n",
       "    .dataframe tbody tr th:only-of-type {\n",
       "        vertical-align: middle;\n",
       "    }\n",
       "\n",
       "    .dataframe tbody tr th {\n",
       "        vertical-align: top;\n",
       "    }\n",
       "\n",
       "    .dataframe thead th {\n",
       "        text-align: right;\n",
       "    }\n",
       "</style>\n",
       "<table border=\"1\" class=\"dataframe\">\n",
       "  <thead>\n",
       "    <tr style=\"text-align: right;\">\n",
       "      <th></th>\n",
       "      <th></th>\n",
       "      <th>text</th>\n",
       "      <th>male</th>\n",
       "      <th>pred</th>\n",
       "    </tr>\n",
       "    <tr>\n",
       "      <th>id</th>\n",
       "      <th>time</th>\n",
       "      <th></th>\n",
       "      <th></th>\n",
       "      <th></th>\n",
       "    </tr>\n",
       "  </thead>\n",
       "  <tbody>\n",
       "    <tr>\n",
       "      <th>1371010783</th>\n",
       "      <th>2019-05-27 03:28:36+00:00</th>\n",
       "      <td>Seeing  so happy and playing with makeup makes...</td>\n",
       "      <td>False</td>\n",
       "      <td>0.017760</td>\n",
       "    </tr>\n",
       "    <tr>\n",
       "      <th>2675042686</th>\n",
       "      <th>2019-05-24 15:26:40+00:00</th>\n",
       "      <td>Seeing The Vamps meet and greet photos on my t...</td>\n",
       "      <td>False</td>\n",
       "      <td>0.025164</td>\n",
       "    </tr>\n",
       "    <tr>\n",
       "      <th>3048307170</th>\n",
       "      <th>2019-05-24 15:30:19+00:00</th>\n",
       "      <td>So good I had to share! Check out all the item...</td>\n",
       "      <td>False</td>\n",
       "      <td>0.026613</td>\n",
       "    </tr>\n",
       "    <tr>\n",
       "      <th>704060539</th>\n",
       "      <th>2019-05-23 18:23:17+00:00</th>\n",
       "      <td>I cannot get over how grown many of my babie...</td>\n",
       "      <td>False</td>\n",
       "      <td>0.028862</td>\n",
       "    </tr>\n",
       "    <tr>\n",
       "      <th>2351105438</th>\n",
       "      <th>2019-05-27 03:29:03+00:00</th>\n",
       "      <td>I bought an apron that has little strawberries...</td>\n",
       "      <td>False</td>\n",
       "      <td>0.028890</td>\n",
       "    </tr>\n",
       "    <tr>\n",
       "      <th>4541535795</th>\n",
       "      <th>2019-05-24 15:45:01+00:00</th>\n",
       "      <td>Yassss!!! Thank you   for sharing. 👏👏🏆</td>\n",
       "      <td>False</td>\n",
       "      <td>0.028954</td>\n",
       "    </tr>\n",
       "    <tr>\n",
       "      <th>928154424</th>\n",
       "      <th>2019-05-26 07:41:38+00:00</th>\n",
       "      <td>Ugh if I could just never leave my boyfriends ...</td>\n",
       "      <td>False</td>\n",
       "      <td>0.030977</td>\n",
       "    </tr>\n",
       "    <tr>\n",
       "      <th>559481203</th>\n",
       "      <th>2019-05-23 00:02:06+00:00</th>\n",
       "      <td>I’m ready to get out this place 😩 I hate looki...</td>\n",
       "      <td>False</td>\n",
       "      <td>0.032194</td>\n",
       "    </tr>\n",
       "    <tr>\n",
       "      <th>930865333300318217</th>\n",
       "      <th>2019-05-27 03:13:04+00:00</th>\n",
       "      <td>Gah! Omg this is amazing! Makes me want to m...</td>\n",
       "      <td>False</td>\n",
       "      <td>0.032262</td>\n",
       "    </tr>\n",
       "    <tr>\n",
       "      <th>965647417050849280</th>\n",
       "      <th>2019-05-24 18:53:50+00:00</th>\n",
       "      <td>Believe in Pixie Hart is now available to buy ...</td>\n",
       "      <td>False</td>\n",
       "      <td>0.032811</td>\n",
       "    </tr>\n",
       "  </tbody>\n",
       "</table>\n",
       "</div>"
      ],
      "text/plain": [
       "                                                                                           text  \\\n",
       "id                 time                                                                           \n",
       "1371010783         2019-05-27 03:28:36+00:00  Seeing  so happy and playing with makeup makes...   \n",
       "2675042686         2019-05-24 15:26:40+00:00  Seeing The Vamps meet and greet photos on my t...   \n",
       "3048307170         2019-05-24 15:30:19+00:00  So good I had to share! Check out all the item...   \n",
       "704060539          2019-05-23 18:23:17+00:00    I cannot get over how grown many of my babie...   \n",
       "2351105438         2019-05-27 03:29:03+00:00  I bought an apron that has little strawberries...   \n",
       "4541535795         2019-05-24 15:45:01+00:00             Yassss!!! Thank you   for sharing. 👏👏🏆   \n",
       "928154424          2019-05-26 07:41:38+00:00  Ugh if I could just never leave my boyfriends ...   \n",
       "559481203          2019-05-23 00:02:06+00:00  I’m ready to get out this place 😩 I hate looki...   \n",
       "930865333300318217 2019-05-27 03:13:04+00:00    Gah! Omg this is amazing! Makes me want to m...   \n",
       "965647417050849280 2019-05-24 18:53:50+00:00  Believe in Pixie Hart is now available to buy ...   \n",
       "\n",
       "                                               male      pred  \n",
       "id                 time                                        \n",
       "1371010783         2019-05-27 03:28:36+00:00  False  0.017760  \n",
       "2675042686         2019-05-24 15:26:40+00:00  False  0.025164  \n",
       "3048307170         2019-05-24 15:30:19+00:00  False  0.026613  \n",
       "704060539          2019-05-23 18:23:17+00:00  False  0.028862  \n",
       "2351105438         2019-05-27 03:29:03+00:00  False  0.028890  \n",
       "4541535795         2019-05-24 15:45:01+00:00  False  0.028954  \n",
       "928154424          2019-05-26 07:41:38+00:00  False  0.030977  \n",
       "559481203          2019-05-23 00:02:06+00:00  False  0.032194  \n",
       "930865333300318217 2019-05-27 03:13:04+00:00  False  0.032262  \n",
       "965647417050849280 2019-05-24 18:53:50+00:00  False  0.032811  "
      ]
     },
     "execution_count": 6,
     "metadata": {},
     "output_type": "execute_result"
    }
   ],
   "source": [
    "df_train_text[~df_train_text.text.str.contains('Poshmark')].head(10)"
   ]
  },
  {
   "cell_type": "code",
   "execution_count": 7,
   "metadata": {},
   "outputs": [
    {
     "data": {
      "text/plain": [
       "array(['Seeing  so happy and playing with makeup makes my heart happy... now I want to play with my makeup this week 💙💙',\n",
       "       'Seeing The Vamps meet and greet photos on my timeline is genuinely making me sad..... 😭😂 I wanna meet them one day ☹️',\n",
       "       \"So good I had to share! Check out all the items I'm loving on  from @alwaysmorefinds  … \",\n",
       "       '  I cannot get over how grown many of my babies are!!! Ayodele, Itzel, Caitlin, Sheena,… ',\n",
       "       'I bought an apron that has little strawberries and I’ve never been so excited! \\U0001f970',\n",
       "       'Yassss!!! Thank you   for sharing. 👏👏🏆',\n",
       "       'Ugh if I could just never leave my boyfriends arms/side I’d be great. I just love him so much!❤️😫',\n",
       "       'I’m ready to get out this place 😩 I hate looking at the same people everyday...',\n",
       "       '  Gah! Omg this is amazing! Makes me want to make something inspired by this! Keep u… ',\n",
       "       'Believe in Pixie Hart is now available to buy at  🌈😍🌿💗 Lola (despite the serious face) and I are SO excit… '],\n",
       "      dtype=object)"
      ]
     },
     "execution_count": 7,
     "metadata": {},
     "output_type": "execute_result"
    }
   ],
   "source": [
    "df_train_text[~df_train_text.text.str.contains('Poshmark')].head(10).text.values"
   ]
  },
  {
   "cell_type": "markdown",
   "metadata": {},
   "source": [
    "The tweets with the highest male probability are typically associated with sports."
   ]
  },
  {
   "cell_type": "code",
   "execution_count": 8,
   "metadata": {},
   "outputs": [
    {
     "data": {
      "text/html": [
       "<div>\n",
       "<style scoped>\n",
       "    .dataframe tbody tr th:only-of-type {\n",
       "        vertical-align: middle;\n",
       "    }\n",
       "\n",
       "    .dataframe tbody tr th {\n",
       "        vertical-align: top;\n",
       "    }\n",
       "\n",
       "    .dataframe thead th {\n",
       "        text-align: right;\n",
       "    }\n",
       "</style>\n",
       "<table border=\"1\" class=\"dataframe\">\n",
       "  <thead>\n",
       "    <tr style=\"text-align: right;\">\n",
       "      <th></th>\n",
       "      <th></th>\n",
       "      <th>text</th>\n",
       "      <th>male</th>\n",
       "      <th>pred</th>\n",
       "    </tr>\n",
       "    <tr>\n",
       "      <th>id</th>\n",
       "      <th>time</th>\n",
       "      <th></th>\n",
       "      <th></th>\n",
       "      <th></th>\n",
       "    </tr>\n",
       "  </thead>\n",
       "  <tbody>\n",
       "    <tr>\n",
       "      <th>152321483</th>\n",
       "      <th>2019-05-26 12:36:04+00:00</th>\n",
       "      <td>Now we have football instead. Proof that the ...</td>\n",
       "      <td>True</td>\n",
       "      <td>0.963087</td>\n",
       "    </tr>\n",
       "    <tr>\n",
       "      <th>768696526671646720</th>\n",
       "      <th>2019-05-25 20:59:36+00:00</th>\n",
       "      <td>8.8 tho, according to the match stats.</td>\n",
       "      <td>True</td>\n",
       "      <td>0.963300</td>\n",
       "    </tr>\n",
       "    <tr>\n",
       "      <th>1074792761721843712</th>\n",
       "      <th>2019-05-24 18:01:10+00:00</th>\n",
       "      <td>At the same that Betway and West Ham strike a...</td>\n",
       "      <td>True</td>\n",
       "      <td>0.963521</td>\n",
       "    </tr>\n",
       "    <tr>\n",
       "      <th>14592289</th>\n",
       "      <th>2019-05-26 07:18:34+00:00</th>\n",
       "      <td>getting a bit tempestuous on the pitch STK v ...</td>\n",
       "      <td>True</td>\n",
       "      <td>0.963861</td>\n",
       "    </tr>\n",
       "    <tr>\n",
       "      <th>21166551</th>\n",
       "      <th>2019-05-24 18:48:00+00:00</th>\n",
       "      <td>Almora's diving catch in front of him to end t...</td>\n",
       "      <td>True</td>\n",
       "      <td>0.964009</td>\n",
       "    </tr>\n",
       "    <tr>\n",
       "      <th>262215245</th>\n",
       "      <th>2019-05-24 18:47:20+00:00</th>\n",
       "      <td>8' - Millar wins a penalty for a high tackle a...</td>\n",
       "      <td>True</td>\n",
       "      <td>0.965413</td>\n",
       "    </tr>\n",
       "    <tr>\n",
       "      <th>423665127</th>\n",
       "      <th>2019-05-24 18:59:24+00:00</th>\n",
       "      <td>I’d give it a go for league minimum. Pro rat...</td>\n",
       "      <td>True</td>\n",
       "      <td>0.965452</td>\n",
       "    </tr>\n",
       "    <tr>\n",
       "      <th>335571861</th>\n",
       "      <th>2019-05-21 23:32:22+00:00</th>\n",
       "      <td>Well any manager he played under for a st...</td>\n",
       "      <td>True</td>\n",
       "      <td>0.966760</td>\n",
       "    </tr>\n",
       "    <tr>\n",
       "      <th>400009818</th>\n",
       "      <th>2019-05-25 11:13:04+00:00</th>\n",
       "      <td>Offside by 5 yards mate. A seen it</td>\n",
       "      <td>True</td>\n",
       "      <td>0.967377</td>\n",
       "    </tr>\n",
       "    <tr>\n",
       "      <th>851151412331520005</th>\n",
       "      <th>2019-05-25 20:59:01+00:00</th>\n",
       "      <td>mate, gettin the printer out for next season</td>\n",
       "      <td>True</td>\n",
       "      <td>0.970701</td>\n",
       "    </tr>\n",
       "  </tbody>\n",
       "</table>\n",
       "</div>"
      ],
      "text/plain": [
       "                                                                                            text  \\\n",
       "id                  time                                                                           \n",
       "152321483           2019-05-26 12:36:04+00:00   Now we have football instead. Proof that the ...   \n",
       "768696526671646720  2019-05-25 20:59:36+00:00             8.8 tho, according to the match stats.   \n",
       "1074792761721843712 2019-05-24 18:01:10+00:00   At the same that Betway and West Ham strike a...   \n",
       "14592289            2019-05-26 07:18:34+00:00   getting a bit tempestuous on the pitch STK v ...   \n",
       "21166551            2019-05-24 18:48:00+00:00  Almora's diving catch in front of him to end t...   \n",
       "262215245           2019-05-24 18:47:20+00:00  8' - Millar wins a penalty for a high tackle a...   \n",
       "423665127           2019-05-24 18:59:24+00:00    I’d give it a go for league minimum. Pro rat...   \n",
       "335571861           2019-05-21 23:32:22+00:00       Well any manager he played under for a st...   \n",
       "400009818           2019-05-25 11:13:04+00:00                 Offside by 5 yards mate. A seen it   \n",
       "851151412331520005  2019-05-25 20:59:01+00:00       mate, gettin the printer out for next season   \n",
       "\n",
       "                                               male      pred  \n",
       "id                  time                                       \n",
       "152321483           2019-05-26 12:36:04+00:00  True  0.963087  \n",
       "768696526671646720  2019-05-25 20:59:36+00:00  True  0.963300  \n",
       "1074792761721843712 2019-05-24 18:01:10+00:00  True  0.963521  \n",
       "14592289            2019-05-26 07:18:34+00:00  True  0.963861  \n",
       "21166551            2019-05-24 18:48:00+00:00  True  0.964009  \n",
       "262215245           2019-05-24 18:47:20+00:00  True  0.965413  \n",
       "423665127           2019-05-24 18:59:24+00:00  True  0.965452  \n",
       "335571861           2019-05-21 23:32:22+00:00  True  0.966760  \n",
       "400009818           2019-05-25 11:13:04+00:00  True  0.967377  \n",
       "851151412331520005  2019-05-25 20:59:01+00:00  True  0.970701  "
      ]
     },
     "execution_count": 8,
     "metadata": {},
     "output_type": "execute_result"
    }
   ],
   "source": [
    "df_train_text.tail(10)"
   ]
  },
  {
   "cell_type": "code",
   "execution_count": 9,
   "metadata": {},
   "outputs": [
    {
     "data": {
      "text/plain": [
       "array([' Now we have football instead. Proof that the old days were mostly terrible.',\n",
       "       ' 8.8 tho, according to the match stats.',\n",
       "       ' At the same that Betway and West Ham strike a record deal.',\n",
       "       ' getting a bit tempestuous on the pitch STK v CAR end of 3rd...',\n",
       "       \"Almora's diving catch in front of him to end top 2nd (robbing Dietrich of a hit) was a 3-Star grab per Statcast. Co… \",\n",
       "       \"8' - Millar wins a penalty for a high tackle and Walker kicks over halfway. (0-6)\",\n",
       "       '  I’d give it a go for league minimum. Pro rated of course.',\n",
       "       '     Well any manager he played under for a start… ',\n",
       "       '      Offside by 5 yards mate. A seen it',\n",
       "       ' mate, gettin the printer out for next season'], dtype=object)"
      ]
     },
     "execution_count": 9,
     "metadata": {},
     "output_type": "execute_result"
    }
   ],
   "source": [
    "df_train_text.tail(10).text.values"
   ]
  },
  {
   "cell_type": "markdown",
   "metadata": {},
   "source": [
    "Similar patterns in the validation data"
   ]
  },
  {
   "cell_type": "code",
   "execution_count": 10,
   "metadata": {},
   "outputs": [
    {
     "data": {
      "text/html": [
       "<div>\n",
       "<style scoped>\n",
       "    .dataframe tbody tr th:only-of-type {\n",
       "        vertical-align: middle;\n",
       "    }\n",
       "\n",
       "    .dataframe tbody tr th {\n",
       "        vertical-align: top;\n",
       "    }\n",
       "\n",
       "    .dataframe thead th {\n",
       "        text-align: right;\n",
       "    }\n",
       "</style>\n",
       "<table border=\"1\" class=\"dataframe\">\n",
       "  <thead>\n",
       "    <tr style=\"text-align: right;\">\n",
       "      <th></th>\n",
       "      <th></th>\n",
       "      <th>text</th>\n",
       "      <th>male</th>\n",
       "      <th>pred</th>\n",
       "    </tr>\n",
       "    <tr>\n",
       "      <th>id</th>\n",
       "      <th>time</th>\n",
       "      <th></th>\n",
       "      <th></th>\n",
       "      <th></th>\n",
       "    </tr>\n",
       "  </thead>\n",
       "  <tbody>\n",
       "    <tr>\n",
       "      <th>3196880624</th>\n",
       "      <th>2019-05-29 19:02:46+00:00</th>\n",
       "      <td>Check out what I just added to my closet on Po...</td>\n",
       "      <td>False</td>\n",
       "      <td>0.016536</td>\n",
       "    </tr>\n",
       "    <tr>\n",
       "      <th>1115489096170901504</th>\n",
       "      <th>2019-05-29 03:56:40+00:00</th>\n",
       "      <td>Check out what I just added to my closet on Po...</td>\n",
       "      <td>False</td>\n",
       "      <td>0.020844</td>\n",
       "    </tr>\n",
       "    <tr>\n",
       "      <th>133581522</th>\n",
       "      <th>2019-05-29 03:49:09+00:00</th>\n",
       "      <td>Check out what I just added to my closet on Po...</td>\n",
       "      <td>False</td>\n",
       "      <td>0.021462</td>\n",
       "    </tr>\n",
       "    <tr>\n",
       "      <th>101163606</th>\n",
       "      <th>2019-05-29 17:02:33+00:00</th>\n",
       "      <td>Check out what I just added to my closet on Po...</td>\n",
       "      <td>False</td>\n",
       "      <td>0.023454</td>\n",
       "    </tr>\n",
       "    <tr>\n",
       "      <th>779647770361724928</th>\n",
       "      <th>2019-05-29 17:26:09+00:00</th>\n",
       "      <td>Check out what I just added to my closet on Po...</td>\n",
       "      <td>False</td>\n",
       "      <td>0.024574</td>\n",
       "    </tr>\n",
       "    <tr>\n",
       "      <th>3282622243</th>\n",
       "      <th>2019-05-28 13:00:03+00:00</th>\n",
       "      <td>Check out what I just added to my closet on Po...</td>\n",
       "      <td>False</td>\n",
       "      <td>0.025664</td>\n",
       "    </tr>\n",
       "    <tr>\n",
       "      <th>26358918</th>\n",
       "      <th>2019-05-28 13:05:45+00:00</th>\n",
       "      <td>Check out what I just added to my closet on Po...</td>\n",
       "      <td>False</td>\n",
       "      <td>0.025914</td>\n",
       "    </tr>\n",
       "    <tr>\n",
       "      <th>465814478</th>\n",
       "      <th>2019-05-29 19:04:21+00:00</th>\n",
       "      <td>Check out what I just added to my closet on Po...</td>\n",
       "      <td>False</td>\n",
       "      <td>0.026221</td>\n",
       "    </tr>\n",
       "    <tr>\n",
       "      <th>585239077</th>\n",
       "      <th>2019-05-29 19:04:01+00:00</th>\n",
       "      <td>I’m mad  didn’t say not a thing about her bein...</td>\n",
       "      <td>False</td>\n",
       "      <td>0.027279</td>\n",
       "    </tr>\n",
       "    <tr>\n",
       "      <th>2909936586</th>\n",
       "      <th>2019-05-29 18:46:35+00:00</th>\n",
       "      <td>Check out what I just added to my closet on Po...</td>\n",
       "      <td>False</td>\n",
       "      <td>0.028876</td>\n",
       "    </tr>\n",
       "  </tbody>\n",
       "</table>\n",
       "</div>"
      ],
      "text/plain": [
       "                                                                                            text  \\\n",
       "id                  time                                                                           \n",
       "3196880624          2019-05-29 19:02:46+00:00  Check out what I just added to my closet on Po...   \n",
       "1115489096170901504 2019-05-29 03:56:40+00:00  Check out what I just added to my closet on Po...   \n",
       "133581522           2019-05-29 03:49:09+00:00  Check out what I just added to my closet on Po...   \n",
       "101163606           2019-05-29 17:02:33+00:00  Check out what I just added to my closet on Po...   \n",
       "779647770361724928  2019-05-29 17:26:09+00:00  Check out what I just added to my closet on Po...   \n",
       "3282622243          2019-05-28 13:00:03+00:00  Check out what I just added to my closet on Po...   \n",
       "26358918            2019-05-28 13:05:45+00:00  Check out what I just added to my closet on Po...   \n",
       "465814478           2019-05-29 19:04:21+00:00  Check out what I just added to my closet on Po...   \n",
       "585239077           2019-05-29 19:04:01+00:00  I’m mad  didn’t say not a thing about her bein...   \n",
       "2909936586          2019-05-29 18:46:35+00:00  Check out what I just added to my closet on Po...   \n",
       "\n",
       "                                                male      pred  \n",
       "id                  time                                        \n",
       "3196880624          2019-05-29 19:02:46+00:00  False  0.016536  \n",
       "1115489096170901504 2019-05-29 03:56:40+00:00  False  0.020844  \n",
       "133581522           2019-05-29 03:49:09+00:00  False  0.021462  \n",
       "101163606           2019-05-29 17:02:33+00:00  False  0.023454  \n",
       "779647770361724928  2019-05-29 17:26:09+00:00  False  0.024574  \n",
       "3282622243          2019-05-28 13:00:03+00:00  False  0.025664  \n",
       "26358918            2019-05-28 13:05:45+00:00  False  0.025914  \n",
       "465814478           2019-05-29 19:04:21+00:00  False  0.026221  \n",
       "585239077           2019-05-29 19:04:01+00:00  False  0.027279  \n",
       "2909936586          2019-05-29 18:46:35+00:00  False  0.028876  "
      ]
     },
     "execution_count": 10,
     "metadata": {},
     "output_type": "execute_result"
    }
   ],
   "source": [
    "df_valid_text = pd.read_csv(DATAPATH+VALID_RAW, index_col=['id','time'], parse_dates=['time']\n",
    "                           ).drop(['male'],axis=1).join(df_valid_pred).sort_values('pred')\n",
    "df_valid_text.head(10)"
   ]
  },
  {
   "cell_type": "code",
   "execution_count": 11,
   "metadata": {},
   "outputs": [
    {
     "data": {
      "text/html": [
       "<div>\n",
       "<style scoped>\n",
       "    .dataframe tbody tr th:only-of-type {\n",
       "        vertical-align: middle;\n",
       "    }\n",
       "\n",
       "    .dataframe tbody tr th {\n",
       "        vertical-align: top;\n",
       "    }\n",
       "\n",
       "    .dataframe thead th {\n",
       "        text-align: right;\n",
       "    }\n",
       "</style>\n",
       "<table border=\"1\" class=\"dataframe\">\n",
       "  <thead>\n",
       "    <tr style=\"text-align: right;\">\n",
       "      <th></th>\n",
       "      <th></th>\n",
       "      <th>text</th>\n",
       "      <th>male</th>\n",
       "      <th>pred</th>\n",
       "    </tr>\n",
       "    <tr>\n",
       "      <th>id</th>\n",
       "      <th>time</th>\n",
       "      <th></th>\n",
       "      <th></th>\n",
       "      <th></th>\n",
       "    </tr>\n",
       "  </thead>\n",
       "  <tbody>\n",
       "    <tr>\n",
       "      <th>585239077</th>\n",
       "      <th>2019-05-29 19:04:01+00:00</th>\n",
       "      <td>I’m mad  didn’t say not a thing about her bein...</td>\n",
       "      <td>False</td>\n",
       "      <td>0.027279</td>\n",
       "    </tr>\n",
       "    <tr>\n",
       "      <th>2591267360</th>\n",
       "      <th>2019-05-30 03:10:20+00:00</th>\n",
       "      <td>thank you so much omg 🥺💙</td>\n",
       "      <td>False</td>\n",
       "      <td>0.029963</td>\n",
       "    </tr>\n",
       "    <tr>\n",
       "      <th>336234924</th>\n",
       "      <th>2019-05-28 12:49:57+00:00</th>\n",
       "      <td>🙌 I’m super excited to be teaching Boho weddin...</td>\n",
       "      <td>False</td>\n",
       "      <td>0.030893</td>\n",
       "    </tr>\n",
       "    <tr>\n",
       "      <th>635029166</th>\n",
       "      <th>2019-05-29 15:12:25+00:00</th>\n",
       "      <td>I’m going to have look 😍 I wanted to order on...</td>\n",
       "      <td>False</td>\n",
       "      <td>0.033224</td>\n",
       "    </tr>\n",
       "    <tr>\n",
       "      <th>995872262476779520</th>\n",
       "      <th>2019-05-29 17:05:19+00:00</th>\n",
       "      <td>I’m a small makeup artist still trying to put...</td>\n",
       "      <td>False</td>\n",
       "      <td>0.034452</td>\n",
       "    </tr>\n",
       "    <tr>\n",
       "      <th>53059640</th>\n",
       "      <th>2019-05-30 03:14:49+00:00</th>\n",
       "      <td>I want all of y’all to glow &amp;amp; to help you ...</td>\n",
       "      <td>False</td>\n",
       "      <td>0.040039</td>\n",
       "    </tr>\n",
       "    <tr>\n",
       "      <th>856566359362125825</th>\n",
       "      <th>2019-05-30 03:20:50+00:00</th>\n",
       "      <td>Face mask, Netflix, and tea.. sooo relaxed 🤩</td>\n",
       "      <td>False</td>\n",
       "      <td>0.040499</td>\n",
       "    </tr>\n",
       "    <tr>\n",
       "      <th>1618257992</th>\n",
       "      <th>2019-05-30 02:58:34+00:00</th>\n",
       "      <td>Omg me 😭😭😭</td>\n",
       "      <td>False</td>\n",
       "      <td>0.040562</td>\n",
       "    </tr>\n",
       "    <tr>\n",
       "      <th>1138440176</th>\n",
       "      <th>2019-05-29 04:01:39+00:00</th>\n",
       "      <td>Yup. I totally faved that. Even though I don't...</td>\n",
       "      <td>True</td>\n",
       "      <td>0.041261</td>\n",
       "    </tr>\n",
       "    <tr>\n",
       "      <th>706614543</th>\n",
       "      <th>2019-05-29 18:55:18+00:00</th>\n",
       "      <td>Me after my bridal spray tan trial 😅</td>\n",
       "      <td>False</td>\n",
       "      <td>0.041825</td>\n",
       "    </tr>\n",
       "  </tbody>\n",
       "</table>\n",
       "</div>"
      ],
      "text/plain": [
       "                                                                                           text  \\\n",
       "id                 time                                                                           \n",
       "585239077          2019-05-29 19:04:01+00:00  I’m mad  didn’t say not a thing about her bein...   \n",
       "2591267360         2019-05-30 03:10:20+00:00                           thank you so much omg 🥺💙   \n",
       "336234924          2019-05-28 12:49:57+00:00  🙌 I’m super excited to be teaching Boho weddin...   \n",
       "635029166          2019-05-29 15:12:25+00:00   I’m going to have look 😍 I wanted to order on...   \n",
       "995872262476779520 2019-05-29 17:05:19+00:00   I’m a small makeup artist still trying to put...   \n",
       "53059640           2019-05-30 03:14:49+00:00  I want all of y’all to glow &amp; to help you ...   \n",
       "856566359362125825 2019-05-30 03:20:50+00:00       Face mask, Netflix, and tea.. sooo relaxed 🤩   \n",
       "1618257992         2019-05-30 02:58:34+00:00                                         Omg me 😭😭😭   \n",
       "1138440176         2019-05-29 04:01:39+00:00  Yup. I totally faved that. Even though I don't...   \n",
       "706614543          2019-05-29 18:55:18+00:00              Me after my bridal spray tan trial 😅    \n",
       "\n",
       "                                               male      pred  \n",
       "id                 time                                        \n",
       "585239077          2019-05-29 19:04:01+00:00  False  0.027279  \n",
       "2591267360         2019-05-30 03:10:20+00:00  False  0.029963  \n",
       "336234924          2019-05-28 12:49:57+00:00  False  0.030893  \n",
       "635029166          2019-05-29 15:12:25+00:00  False  0.033224  \n",
       "995872262476779520 2019-05-29 17:05:19+00:00  False  0.034452  \n",
       "53059640           2019-05-30 03:14:49+00:00  False  0.040039  \n",
       "856566359362125825 2019-05-30 03:20:50+00:00  False  0.040499  \n",
       "1618257992         2019-05-30 02:58:34+00:00  False  0.040562  \n",
       "1138440176         2019-05-29 04:01:39+00:00   True  0.041261  \n",
       "706614543          2019-05-29 18:55:18+00:00  False  0.041825  "
      ]
     },
     "execution_count": 11,
     "metadata": {},
     "output_type": "execute_result"
    }
   ],
   "source": [
    "df_valid_text[~df_valid_text.text.str.contains('Poshmark')].head(10)"
   ]
  },
  {
   "cell_type": "code",
   "execution_count": 12,
   "metadata": {},
   "outputs": [
    {
     "data": {
      "text/plain": [
       "array(['I’m mad  didn’t say not a thing about her being in labor until Ava was already here lol. I can’t wait t… ',\n",
       "       ' thank you so much omg \\U0001f97a💙',\n",
       "       '🙌 I’m super excited to be teaching Boho wedding hair on June 20th and July 18th  for thebridalstylistsworkshops.… ',\n",
       "       ' I’m going to have look 😍 I wanted to order one from them before Rae was born but never got to it... might have too now 🤗',\n",
       "       ' I’m a small makeup artist still trying to put together a full makeup kit. I love your products and wou… ',\n",
       "       'I want all of y’all to glow &amp; to help you achieve your skin goals. \\nI do have sessions available. \\nBook me. Consult… ',\n",
       "       'Face mask, Netflix, and tea.. sooo relaxed \\U0001f929',\n",
       "       'Omg me 😭😭😭',\n",
       "       \"Yup. I totally faved that. Even though I don't know that person. Because. Why not? I'm in a faving mood...\",\n",
       "       'Me after my bridal spray tan trial 😅 '], dtype=object)"
      ]
     },
     "execution_count": 12,
     "metadata": {},
     "output_type": "execute_result"
    }
   ],
   "source": [
    "df_valid_text[~df_valid_text.text.str.contains('Poshmark')].head(10).text.values"
   ]
  },
  {
   "cell_type": "code",
   "execution_count": 13,
   "metadata": {},
   "outputs": [
    {
     "data": {
      "text/html": [
       "<div>\n",
       "<style scoped>\n",
       "    .dataframe tbody tr th:only-of-type {\n",
       "        vertical-align: middle;\n",
       "    }\n",
       "\n",
       "    .dataframe tbody tr th {\n",
       "        vertical-align: top;\n",
       "    }\n",
       "\n",
       "    .dataframe thead th {\n",
       "        text-align: right;\n",
       "    }\n",
       "</style>\n",
       "<table border=\"1\" class=\"dataframe\">\n",
       "  <thead>\n",
       "    <tr style=\"text-align: right;\">\n",
       "      <th></th>\n",
       "      <th></th>\n",
       "      <th>text</th>\n",
       "      <th>male</th>\n",
       "      <th>pred</th>\n",
       "    </tr>\n",
       "    <tr>\n",
       "      <th>id</th>\n",
       "      <th>time</th>\n",
       "      <th></th>\n",
       "      <th></th>\n",
       "      <th></th>\n",
       "    </tr>\n",
       "  </thead>\n",
       "  <tbody>\n",
       "    <tr>\n",
       "      <th>953387960401002497</th>\n",
       "      <th>2019-05-29 03:48:13+00:00</th>\n",
       "      <td>Should be a fun series coming up. The  drafted...</td>\n",
       "      <td>False</td>\n",
       "      <td>0.954449</td>\n",
       "    </tr>\n",
       "    <tr>\n",
       "      <th>1468513446</th>\n",
       "      <th>2019-05-29 03:22:50+00:00</th>\n",
       "      <td>If my team is good enough to compete for a ...</td>\n",
       "      <td>True</td>\n",
       "      <td>0.954912</td>\n",
       "    </tr>\n",
       "    <tr>\n",
       "      <th>227273275</th>\n",
       "      <th>2019-05-29 15:10:11+00:00</th>\n",
       "      <td>If a fight breaks out hold Gary Lineker respon...</td>\n",
       "      <td>False</td>\n",
       "      <td>0.955665</td>\n",
       "    </tr>\n",
       "    <tr>\n",
       "      <th>1113162214272319488</th>\n",
       "      <th>2019-05-29 19:02:36+00:00</th>\n",
       "      <td>He played 180 or so games. I was approximat...</td>\n",
       "      <td>True</td>\n",
       "      <td>0.956813</td>\n",
       "    </tr>\n",
       "    <tr>\n",
       "      <th>703200433</th>\n",
       "      <th>2019-05-29 19:03:52+00:00</th>\n",
       "      <td>This camera angle looks like the dodgy default...</td>\n",
       "      <td>True</td>\n",
       "      <td>0.957062</td>\n",
       "    </tr>\n",
       "    <tr>\n",
       "      <th>146772890</th>\n",
       "      <th>2019-05-29 17:17:19+00:00</th>\n",
       "      <td>check your zeros and then call me mate.</td>\n",
       "      <td>True</td>\n",
       "      <td>0.957895</td>\n",
       "    </tr>\n",
       "    <tr>\n",
       "      <th>2326225789</th>\n",
       "      <th>2019-05-29 17:11:56+00:00</th>\n",
       "      <td>Andy Green seems to have something against put...</td>\n",
       "      <td>True</td>\n",
       "      <td>0.961531</td>\n",
       "    </tr>\n",
       "    <tr>\n",
       "      <th>353677199</th>\n",
       "      <th>2019-05-29 03:45:10+00:00</th>\n",
       "      <td>The situational hitting is terrible though to...</td>\n",
       "      <td>True</td>\n",
       "      <td>0.965164</td>\n",
       "    </tr>\n",
       "    <tr>\n",
       "      <th>344305601</th>\n",
       "      <th>2019-05-29 04:06:07+00:00</th>\n",
       "      <td>Hey  , I can still throw low 80's with pretty ...</td>\n",
       "      <td>True</td>\n",
       "      <td>0.967167</td>\n",
       "    </tr>\n",
       "    <tr>\n",
       "      <th>52043141</th>\n",
       "      <th>2019-05-29 17:23:35+00:00</th>\n",
       "      <td>World class players influence big games when ...</td>\n",
       "      <td>True</td>\n",
       "      <td>0.970357</td>\n",
       "    </tr>\n",
       "  </tbody>\n",
       "</table>\n",
       "</div>"
      ],
      "text/plain": [
       "                                                                                            text  \\\n",
       "id                  time                                                                           \n",
       "953387960401002497  2019-05-29 03:48:13+00:00  Should be a fun series coming up. The  drafted...   \n",
       "1468513446          2019-05-29 03:22:50+00:00     If my team is good enough to compete for a ...   \n",
       "227273275           2019-05-29 15:10:11+00:00  If a fight breaks out hold Gary Lineker respon...   \n",
       "1113162214272319488 2019-05-29 19:02:36+00:00     He played 180 or so games. I was approximat...   \n",
       "703200433           2019-05-29 19:03:52+00:00  This camera angle looks like the dodgy default...   \n",
       "146772890           2019-05-29 17:17:19+00:00            check your zeros and then call me mate.   \n",
       "2326225789          2019-05-29 17:11:56+00:00  Andy Green seems to have something against put...   \n",
       "353677199           2019-05-29 03:45:10+00:00   The situational hitting is terrible though to...   \n",
       "344305601           2019-05-29 04:06:07+00:00  Hey  , I can still throw low 80's with pretty ...   \n",
       "52043141            2019-05-29 17:23:35+00:00   World class players influence big games when ...   \n",
       "\n",
       "                                                male      pred  \n",
       "id                  time                                        \n",
       "953387960401002497  2019-05-29 03:48:13+00:00  False  0.954449  \n",
       "1468513446          2019-05-29 03:22:50+00:00   True  0.954912  \n",
       "227273275           2019-05-29 15:10:11+00:00  False  0.955665  \n",
       "1113162214272319488 2019-05-29 19:02:36+00:00   True  0.956813  \n",
       "703200433           2019-05-29 19:03:52+00:00   True  0.957062  \n",
       "146772890           2019-05-29 17:17:19+00:00   True  0.957895  \n",
       "2326225789          2019-05-29 17:11:56+00:00   True  0.961531  \n",
       "353677199           2019-05-29 03:45:10+00:00   True  0.965164  \n",
       "344305601           2019-05-29 04:06:07+00:00   True  0.967167  \n",
       "52043141            2019-05-29 17:23:35+00:00   True  0.970357  "
      ]
     },
     "execution_count": 13,
     "metadata": {},
     "output_type": "execute_result"
    }
   ],
   "source": [
    "df_valid_text.tail(10)"
   ]
  },
  {
   "cell_type": "code",
   "execution_count": 14,
   "metadata": {},
   "outputs": [
    {
     "data": {
      "text/plain": [
       "array(['Should be a fun series coming up. The  drafted Rocco Baldelli in 2000 where his promising career was cut short… ',\n",
       "       '   If my team is good enough to compete for a chip then adding a pl… ',\n",
       "       'If a fight breaks out hold Gary Lineker responsible.',\n",
       "       '   He played 180 or so games. I was approximating\\n\\n28 homers and 85 RBI is still above average, no?',\n",
       "       'This camera angle looks like the dodgy default FIFA career mode angle 😷\\n\\n ',\n",
       "       '    check your zeros and then call me mate.',\n",
       "       'Andy Green seems to have something against putting a competitive hitter at the top of the line up',\n",
       "       ' The situational hitting is terrible though too many strikeouts again and you’re not gonna beat good… ',\n",
       "       \"Hey  , I can still throw low 80's with pretty good control if you're looking for a bullpen arm. Couldn't be much worse.\",\n",
       "       \" World class players influence big games when it matters and grealish didn't do that in any of the pla… \"],\n",
       "      dtype=object)"
      ]
     },
     "execution_count": 14,
     "metadata": {},
     "output_type": "execute_result"
    }
   ],
   "source": [
    "df_valid_text.tail(10).text.values"
   ]
  },
  {
   "cell_type": "markdown",
   "metadata": {},
   "source": [
    "# Feature Importance"
   ]
  },
  {
   "cell_type": "code",
   "execution_count": 15,
   "metadata": {},
   "outputs": [],
   "source": [
    "model_path = DATAPATH + MODEL_TYPE_ID + '_model_' + MODEL_TIMESTAMP + '.joblib'\n",
    "model = joblib.load(model_path)"
   ]
  },
  {
   "cell_type": "code",
   "execution_count": 16,
   "metadata": {},
   "outputs": [],
   "source": [
    "df_train = pd.read_csv(DATAPATH+TRAIN_FNAME, index_col=[0,1], parse_dates=['time'])\n",
    "X_train = df_train.drop(['male'],axis=1).values / 1e6"
   ]
  },
  {
   "cell_type": "code",
   "execution_count": 17,
   "metadata": {},
   "outputs": [
    {
     "data": {
      "text/plain": [
       "(0.662978988082227, -0.5454911448664289)"
      ]
     },
     "execution_count": 17,
     "metadata": {},
     "output_type": "execute_result"
    }
   ],
   "source": [
    "pca = model.named_steps['pca']\n",
    "pcs = pca.transform(X_train)\n",
    "pcs.max().max(), pcs.min().min()"
   ]
  },
  {
   "cell_type": "code",
   "execution_count": 18,
   "metadata": {},
   "outputs": [],
   "source": [
    "# Get prediction (male probability) associated with each principal component\n",
    "pca_dim = 50\n",
    "pc_preds = []\n",
    "for i in range(pca_dim):\n",
    "    vector = np.zeros([1,pca_dim])\n",
    "    vector[0,i] = 1\n",
    "    pc_preds.append(model.predict_proba(pca.inverse_transform(vector))[0][1])"
   ]
  },
  {
   "cell_type": "code",
   "execution_count": 19,
   "metadata": {},
   "outputs": [
    {
     "data": {
      "text/plain": [
       "1     0.930726\n",
       "9     0.899280\n",
       "3     0.897400\n",
       "27    0.860004\n",
       "dtype: float64"
      ]
     },
     "execution_count": 19,
     "metadata": {},
     "output_type": "execute_result"
    }
   ],
   "source": [
    "# Most 'masculine' principal components\n",
    "pd.Series(pc_preds).nlargest(4)"
   ]
  },
  {
   "cell_type": "code",
   "execution_count": 20,
   "metadata": {},
   "outputs": [
    {
     "data": {
      "text/plain": [
       "2     0.156578\n",
       "13    0.262952\n",
       "41    0.285052\n",
       "15    0.286470\n",
       "dtype: float64"
      ]
     },
     "execution_count": 20,
     "metadata": {},
     "output_type": "execute_result"
    }
   ],
   "source": [
    "# Most 'feminine' principal components\n",
    "pd.Series(pc_preds).nsmallest(4)"
   ]
  },
  {
   "cell_type": "code",
   "execution_count": 21,
   "metadata": {},
   "outputs": [],
   "source": [
    "most_masculine_components = pd.Series(pc_preds).nlargest(4).index.values\n",
    "most_feminine_components = pd.Series(pc_preds).nsmallest(4).index.values"
   ]
  },
  {
   "cell_type": "markdown",
   "metadata": {},
   "source": [
    "The most 'masculine' component seems to correspond to something like 'argumentativeness':"
   ]
  },
  {
   "cell_type": "code",
   "execution_count": 22,
   "metadata": {},
   "outputs": [
    {
     "name": "stdout",
     "output_type": "stream",
     "text": [
      "['  Sure, but apparently you dont see the other issues that brings up. Such as the measu… '\n",
      " ' Except without a compelling reason to do so.'\n",
      " 'On what \"grounds\"?  Another NOTHINGBURGER!'\n",
      " \"  that's such bs! and comes from a spineless complicit person who supports the \"\n",
      " 'And it shouldn’t be avoided for political expediency either.'\n",
      " ' What a BS headline. Either you know that and are being dishonest or your incredibly stupid. Or both.\\nProbably both.'\n",
      " '  Very simplistic. But. Ok.' ' No shit.' '   No shit!'\n",
      " ' Bit tricky when he supports it 🤷🏼\\u200d♂️'\n",
      " '  His claims are simply disingenuous and muddle headedly wrong.'\n",
      " '  Not necessarily...' '       To be fair, neither… '\n",
      " '“...deplorable...” didn’t work last time.'\n",
      " ' And you think these two things are related?'\n",
      " \"  That's not helpful here, as true as it is.\"\n",
      " \"       That's absolutely false… \" ' Doesn’t fit their narrative.  POS'\n",
      " 'your understanding does not see the overall'\n",
      " \" No they don't.  That's just bs from the MSM.\"] \n",
      "\n"
     ]
    }
   ],
   "source": [
    "component_id = most_masculine_components[0]\n",
    "largest = pd.Series(pca.transform(X_train)[:,component_id]).nlargest(20).index.values\n",
    "idxs = [df_train.index[b] for b in largest]\n",
    "print(df_train_text.loc[idxs].text.values, '\\n')"
   ]
  },
  {
   "cell_type": "markdown",
   "metadata": {},
   "source": [
    "The second most 'masculine' component seems to correspond to something like 'inspirational talk':"
   ]
  },
  {
   "cell_type": "code",
   "execution_count": 23,
   "metadata": {},
   "outputs": [
    {
     "name": "stdout",
     "output_type": "stream",
     "text": [
      "['Dont allow the negative things in your life spoil all of the good things you have, Never stop counting your blessings and being happy!!'\n",
      " \"Inspirational Thought | Working through whatever pain you're dealing with is part of being a champion! … \"\n",
      " 'Remove yourself from people who treat you like your time doesn’t matter, your feelings are worthless, or like your soul is replaceable.'\n",
      " '\"Success is getting what you want. Happiness is wanting what you get.\" -Dale Carnegie  '\n",
      " \"Life doesn't get easier or more forgiving; we get stronger and more resilient. - Steve Maraboli quote\"\n",
      " 'Dedication is the first but most important step to living the life you want to live.'\n",
      " '“Passion is energy. Feel the power that comes from focusing on what excites you” '\n",
      " 'Enlightenment is just the process of getting over yourself. '\n",
      " 'The Most Important Trait Shared by Successful Athletes and Entrepreneurs | by davidmeltzer '\n",
      " \"If you can focus on doing what YOU do best - instead of trying to imitate someone else - you'll eventually reap the rewards\"\n",
      " '  Overcoming what the common sense of transcendence suggests is for intelligent.'\n",
      " \"When you feel like shit, remember that you're fucking perfect to \"\n",
      " 'Perfect read! Become your own master! Better than  with a practical approach. '\n",
      " '\"The two most important days in your life are the day you are born and the day you find out why.\" \\n\\x97 Mark Twain'\n",
      " 'Evolving circumstances require you to adjust your approach to ... More for Taurus '\n",
      " 'Evolving circumstances require you to adjust your approach to ... More for Taurus '\n",
      " 'Evolving circumstances require you to adjust your approach to ... More for Taurus '\n",
      " 'each day. Don’t let someone’s negative 10 seconds ruin the remaining 86,390. Don’t sweat the smallest things, your time is precious.'\n",
      " '\"The secret of success in life is for a man to be ready for his opportunity when it comes.\" -Benjamin Disraeli… '\n",
      " '427: Think About Money Differently, Build , and Optimize Like a Millionaire with  Chris Miles… '] \n",
      "\n"
     ]
    }
   ],
   "source": [
    "component_id = most_masculine_components[1]\n",
    "largest = pd.Series(pca.transform(X_train)[:,component_id]).nlargest(20).index.values\n",
    "idxs = [df_train.index[b] for b in largest]\n",
    "print(df_train_text.loc[idxs].text.values, '\\n')"
   ]
  },
  {
   "cell_type": "markdown",
   "metadata": {},
   "source": [
    "The third most 'masculine' component is harder to define. Lots of references to male celebrities."
   ]
  },
  {
   "cell_type": "code",
   "execution_count": 24,
   "metadata": {},
   "outputs": [
    {
     "name": "stdout",
     "output_type": "stream",
     "text": [
      "['Lmao mans are that shook because of drake???'\n",
      " '  That shit was funny asf, Jey just a pussy'\n",
      " 'that nigga did her like Blake and CP3 did Deandre Jordan'\n",
      " '  Wtff lmao I thought he was always on pacers'\n",
      " ' And Wayne but he does have a lot of corny bars too'\n",
      " ' Ahahaha nah eminem like buck 65 levels of white. Dude keep chapstick in his 5th pocket.'\n",
      " '  Had a quick glance at that and thought tyler was at raise the roof tonight, gutter hahahah'\n",
      " ' The dude on bulls bench started walking away like he knew that shit was good 😂'\n",
      " 'Billy the goat needs his own mf show lol'\n",
      " 'seth rogen really hit the light flex with the gucci ashtray 😭'\n",
      " ' Toney woulda been licking his lips watching that game yesterday...'\n",
      " ' ELP has You hung in the tree of Whoa but plays to much and takes a german suplex good spot'\n",
      " '   That aint R-truth thats K-kwik getting rowdy lmao 😆😁\\U0001f92a😜'\n",
      " 'Taylor tried to do a Jose Canseco, but he’s not quite tall enough. '\n",
      " \"    he'd give ashley sampi a run for his money leaping like that!\"\n",
      " \" Up until G arth, I was with you.   Dude can't even come close to Garth \"\n",
      " 'Not even gonna lie, Rashford looks sick af in this.'\n",
      " 'Jesus christ...he looks like he swallowed a walrus.'\n",
      " 'Man  doing Jordan Hicks Dirty this season. \\n\\nNot fair to him. Butchering his value.\\n\\n '\n",
      " ' Must be because he has the best teeth in the game.'] \n",
      "\n"
     ]
    }
   ],
   "source": [
    "component_id = most_masculine_components[2]\n",
    "largest = pd.Series(pca.transform(X_train)[:,component_id]).nlargest(20).index.values\n",
    "idxs = [df_train.index[b] for b in largest]\n",
    "print(df_train_text.loc[idxs].text.values, '\\n')"
   ]
  },
  {
   "cell_type": "markdown",
   "metadata": {},
   "source": [
    "I can't make hide or hair of the 4th most 'masculine' component:"
   ]
  },
  {
   "cell_type": "code",
   "execution_count": 25,
   "metadata": {},
   "outputs": [
    {
     "name": "stdout",
     "output_type": "stream",
     "text": [
      "['  I have never voted for the treacherous bastads NEVER WILL spent my ££ on  &amp; recently '\n",
      " 'Need 1 for the 1k with   &amp;  dm'\n",
      " 'Next time I go, DROP OF DOOM IS A MF MUST'\n",
      " ' nice man I got a gorgon and a tamamo from one pull'\n",
      " ' after such a terrible experience with your roaming pack, we have been stamped with a huge bill of INR 7… '\n",
      " 'NO DEPOSIT - 10 FREE SPINS on registration + 100% bonus &amp; 100 free spins\\n   … '\n",
      " ' Lucifer, iron fist, got'\n",
      " '  after farming the warrior for days I got this bad boy instead of what I needed is it good? '\n",
      " 'Yeah necro is pretty cool ' '  Sorry No signet in eldoret signal down'\n",
      " ' i got a renegade and will trade u i’ll go first it has ikonik too '\n",
      " ' 66. Must be my second marr'\n",
      " 'TalkTalk data breach customer details found online  '\n",
      " \"I just earned the 'God Save the Queen (Level 67)' badge on ! \"\n",
      " '  One of the best albums of all time!'\n",
      " ' Okay pls trust me, station 11 is an absolute stone cold banger'\n",
      " 'Hit LIKE, RETWEET &amp; follow the link to get 2 Silver Caskets!\\n➡️  ⬅️ \\nOpen them from your Inv… '\n",
      " 'My battery is complete trash'\n",
      " '      Lucifer Album featuring full versions of all o… '\n",
      " 'The Black &amp; White Truth!!! '] \n",
      "\n"
     ]
    }
   ],
   "source": [
    "component_id = most_masculine_components[3]\n",
    "largest = pd.Series(pca.transform(X_train)[:,component_id]).nlargest(20).index.values\n",
    "idxs = [df_train.index[b] for b in largest]\n",
    "print(df_train_text.loc[idxs].text.values, '\\n')"
   ]
  },
  {
   "cell_type": "markdown",
   "metadata": {},
   "source": [
    "The most 'feminine' component seems to have something to do with emotions, mostly negative emotions, and mostly in an interpersonal context:"
   ]
  },
  {
   "cell_type": "code",
   "execution_count": 26,
   "metadata": {},
   "outputs": [
    {
     "name": "stdout",
     "output_type": "stream",
     "text": [
      "['Like how can you lie to my face alllll the time . You must have no self respect for the things your doing'\n",
      " ' I hate that kind of individual. The make life so complicated'\n",
      " 'But I have that little part of me being like, “do they think I’m a fuckin weirdo”\\nThough I know that’s not totally the case.'\n",
      " 'Hate people like this who say ‘if you actually watched’.\\n\\nIf you had any idea who you are talking to, you would kno… '\n",
      " 'I wish I can tell ppl to stop loving me and just go on with their life , is that selfish?🤔😔'\n",
      " ' Really frustrates me how someone can be horrible to an animal x'\n",
      " 'I never give up on people that i love, but if i do, know that you really messed up.'\n",
      " 'No, that’s immaturity. I might not express I think he’s cute again but you don’t automatically stop liking someone… '\n",
      " 'I don’t get how someone can meet me and not be in love it don’t be making sense 😔'\n",
      " 'I mean yea I’m probably angry but don’t ASSUME'\n",
      " 'I get my mf feelings hurt when I get left on read. YOURE LUCKY I RESPONDED. I don’t respond to shit'\n",
      " ' Because I mess things up plus I know he doesn’t like me like that'\n",
      " ' “I didn’t know if she was insulting me.” ??? He really is '\n",
      " 'my word and actions sometimes cover up the fact that I love you. i really don’t wanna lose you.'\n",
      " ' I have heard that people do this but haven’t seen it. It’s not okay. I’ve never understood going out of your way to be mean.'\n",
      " 'I honestly feel like it’s almost impossible to get back someone’s trust once you cross them.... no matter how hard… '\n",
      " ' Very relatable the only difference is I’m disgusted in all of my actions'\n",
      " ' I know we have a lot of fake misunderstandings and sometimes I want to break your head but you’re honest… '\n",
      " ' I dont even talk to my ex' 'Emotional manipulation ain’t the way man'] \n",
      "\n"
     ]
    }
   ],
   "source": [
    "component_id = most_feminine_components[0]\n",
    "largest = pd.Series(pca.transform(X_train)[:,component_id]).nlargest(20).index.values\n",
    "idxs = [df_train.index[b] for b in largest]\n",
    "print(df_train_text.loc[idxs].text.values, '\\n')"
   ]
  },
  {
   "cell_type": "markdown",
   "metadata": {},
   "source": [
    "The second most 'feminine' component is hard to define, but it seems to involve a lot of geographic references:"
   ]
  },
  {
   "cell_type": "code",
   "execution_count": 27,
   "metadata": {},
   "outputs": [
    {
     "name": "stdout",
     "output_type": "stream",
     "text": [
      "['People depress me all the time. I expect so much humanity kahit paulit ulit na kong nadisappoint, nasaktan, at naga… '\n",
      " \" Cheltenham was mostly a disaster for me, so I didn't bother with Aintree and then I watched my fanc… \"\n",
      " 'You know I was wondering for sometime why the level of music in my sweet Barbados has dropped and I now understand.'\n",
      " 'A thread worth reading, on the residents of . Having grown up and gone to school in Shankill and Killiney, I… '\n",
      " ' Holy shit, I’m actually in shock... ALL. THIS. TIME. 🤦🏽\\u200d♀️ I wish I saw the Hindi version growing up..… '\n",
      " 'Jesus thanks  now I AM CRAVING FOR NASI LEMAK ... I DONT EVEN LIKE NASI LEMAK THAT MUCH TO BEGIN WITH?!'\n",
      " 'When I went to Kasur the first time the children were already tired &amp; harassed by an insensitive media. They desper… '\n",
      " 'Most of the shows were on during the weekday afternoons for me so I had to watch them cereal-less. We certainly wer… '\n",
      " 'Belgaum, Karnataka.19 yr old Shivu Uppar was murdered &amp; hanged in Bagewadi Bus stand in Belagavi dist. for protecti… '\n",
      " 'Can’t believe I tried to go into  at Marton shops for a quick sausage roll and couldn’t get in becau… '\n",
      " \" Heard about this as a common thing 😂 I didn't experience the same being of Chinese descent. If anythin… \"\n",
      " ' Understandable. Lockerbie CSC (yes we once had an air disaster)'\n",
      " 'This is so true.\\n\\nI lost my mum 22 years ago - way too soon, I thought at the time. Now I realise that there never… '\n",
      " 'YRS ago Bhopal Gas tragedy happened....yet this matter came even during these elections....what happened yesterday… '\n",
      " 'Sitting out here on I-465 trying to get off Crawfordsville Road to go into . Traffic is HORRIBLE already and it… '\n",
      " '    I used to study Quran with hanafi bangladeshis bro worst three… '\n",
      " ' A couple of years ago I heard a piece on NPR about how trees can feel pain and it really stuck wit… '\n",
      " ' The most piquant aspect of it is how Integralist Catholics today sound like Fideist Muslims of past centuries.'\n",
      " 'Very sad incident in , May the souls of died people rest in peace.  '\n",
      " ' Good for them. But am still jobless jam sb, &amp; their are severl natives like me who r facing same vulnera… '] \n",
      "\n"
     ]
    }
   ],
   "source": [
    "component_id = most_feminine_components[1]\n",
    "largest = pd.Series(pca.transform(X_train)[:,component_id]).nlargest(20).index.values\n",
    "idxs = [df_train.index[b] for b in largest]\n",
    "print(df_train_text.loc[idxs].text.values, '\\n')"
   ]
  },
  {
   "cell_type": "markdown",
   "metadata": {},
   "source": [
    "The third most 'feminine' component. Initially, there's a lot of repetition, so let's try to eliminate that and get a more broadly representative set of tweets."
   ]
  },
  {
   "cell_type": "code",
   "execution_count": 28,
   "metadata": {},
   "outputs": [
    {
     "name": "stdout",
     "output_type": "stream",
     "text": [
      "[' Hi, BTS UK Army are on a mission to get the London Eye lit purple for the 2 days that BTS will be here.… '\n",
      " ' Get stuffed ! Crocodile tears  !'\n",
      " 'Expressing care and concern can make you feel emotionally awkw... More for Leo '\n",
      " 'Expressing care and concern can make you feel emotionally awkw... More for Leo '\n",
      " 'Expressing care and concern can make you feel emotionally awkw... More for Leo '\n",
      " 'Expressing care and concern can make you feel emotionally awkw... More for Leo '\n",
      " 'Expressing care and concern can make you feel emotionally awkw... More for Leo '\n",
      " 'Expressing care and concern can make you feel emotionally awkw... More for Leo '\n",
      " 'Expressing care and concern can make you feel emotionally awkw... More for Leo '\n",
      " 'Expressing care and concern can make you feel emotionally awkw... More for Leo '\n",
      " 'Expressing care and concern can make you feel emotionally awkw... More for Leo '\n",
      " 'Expressing care and concern can make you feel emotionally awkw... More for Leo '\n",
      " 'Expressing care and concern can make you feel emotionally awkw... More for Leo '\n",
      " 'Expressing care and concern can make you feel emotionally awkw... More for Leo '\n",
      " 'Expressing care and concern can make you feel emotionally awkw... More for Leo '\n",
      " 'Expressing care and concern can make you feel emotionally awkw... More for Leo '\n",
      " '  Bond, all the way!' 'Copper the havapookie as a puppy Tote Bag '\n",
      " 'Russell making the case for Hearts over Diamonds in the wider world.'\n",
      " '  That would be football. Basketball accounts for small percentage of tears in young m… '] \n",
      "\n"
     ]
    }
   ],
   "source": [
    "component_id = most_feminine_components[2]\n",
    "largest = pd.Series(pca.transform(X_train)[:,component_id]).nlargest(20).index.values\n",
    "idxs = [df_train.index[b] for b in largest]\n",
    "print(df_train_text.loc[idxs].text.values, '\\n')"
   ]
  },
  {
   "cell_type": "markdown",
   "metadata": {},
   "source": [
    "A lot of this component is about tears and emotion, but it's hard to characterize generally:"
   ]
  },
  {
   "cell_type": "code",
   "execution_count": 29,
   "metadata": {},
   "outputs": [
    {
     "name": "stdout",
     "output_type": "stream",
     "text": [
      "[' Hi, BTS UK Army are on a mission to get the London Eye lit purple for the 2 days that BTS will be here.… '\n",
      " ' Get stuffed ! Crocodile tears  !' '  Bond, all the way!'\n",
      " 'Copper the havapookie as a puppy Tote Bag '\n",
      " 'Russell making the case for Hearts over Diamonds in the wider world.'\n",
      " '  That would be football. Basketball accounts for small percentage of tears in young m… '\n",
      " ' Rory Stewart the Dr Doolittle of the plant world' 'Fake awards'\n",
      " ' Truth Hurts Mr. Green. Is he better than Mike? Or Kobe?'\n",
      " 'What does one do with their Oakley’s once they’re done rowing? I am open to suggestions'\n",
      " 'Would you like to donate $1,000 to the Discovery Museum  and get clean, solar energy to power your hom… '\n",
      " \"Win a Concept 2 Rower and a Year's Supply of O2   \"\n",
      " 'Someone give this dude an Oscar lol'\n",
      " ' I was the captain if my House cricket Team at college and Captain of Rifle Shooting Team for 4 years at University.'\n",
      " 'Our brave veterans serve and then spend a lifetime coping with what they have witnessed. So many suffer from PTSD.… '\n",
      " \"I'm not crying. There's just something in my eye.\"\n",
      " '  Clown. If you think Basketball relations is so important that people should be seriously… '\n",
      " '    the light is purple because it was NYU’s graduation ceremony and… '\n",
      " ' petition to make Jon Voight give back his Coming Home Oscar..?'\n",
      " ' PLEASE IM TEARY EYED'] \n",
      "\n"
     ]
    }
   ],
   "source": [
    "component_id = most_feminine_components[2]\n",
    "largest = pd.Series(pca.transform(X_train)[:,component_id]).nlargest(34).index.values\n",
    "idxs = [df_train.index[b] for b in largest]\n",
    "phrase_to_avoid = 'Expressing care and concern can make you feel emotionally awkw'\n",
    "mask = ~df_train_text.loc[idxs].text.str.contains(phrase_to_avoid)\n",
    "print(df_train_text.loc[idxs].text[mask].values, '\\n')"
   ]
  },
  {
   "cell_type": "markdown",
   "metadata": {},
   "source": [
    "The 4th most 'feminine' component seems to be associated with children/parenthood and with making a living:"
   ]
  },
  {
   "cell_type": "code",
   "execution_count": 30,
   "metadata": {},
   "outputs": [
    {
     "name": "stdout",
     "output_type": "stream",
     "text": [
      "['I really failed as a parent if my children ever become a stripper, “sex worker”,drug dealer, running a celebrity fa… '\n",
      " '$LainaPop |  Baby needs to pay off these student loans! Lol'\n",
      " ' No  called your son is lazy &amp; was probably GIVEN everything to him in his life😅😅. Now he has to work wah wah wah'\n",
      " ' My boy is looking for $450. Just need a proper cleaning job. Tons of life.'\n",
      " 'I’m sorry but if i was Janelle I’ll leave my husband 😂she was making 6 figures with teen mom'\n",
      " '  Former veterinarian should be current prison inmate'\n",
      " 'Drugmaker Teva to pay $85 million to settle Oklahoma opioid lawsuit '\n",
      " \"Also please research Chris with Waco quality LLC I feel like it was a scam!! He's got my signature..\"\n",
      " 'Child support'\n",
      " 'The fact that I pay 720 a month for Ava’s preschool makes me wanna through up'\n",
      " ':  Counselor Social Worker Therapist- Coeur d’Alene, ID: Opportunities for Counselor Social Worker… '\n",
      " ' I hope he gets more $ to hire a good assistant coach for the offense'\n",
      " \"'Real Housewives of Miami's Joanna Krupa Is Expecting First Child with Husband Douglas Nunes - Entertainment Tonigh… \"\n",
      " 'If you really wanna be called as Moms, try to learn from his real mom.. 😒'\n",
      " 'A housewife. 😔'\n",
      " 'LifeNet Health is looking for Product Manager - Global Spine &amp; General Orthopedics. Learn more or Jobvite a friend.… '\n",
      " 'MUST SEE: Free Case Study Reveals How A 9th Grade High School Dropout Makes $3,745/Day From Home! #8'\n",
      " ' He should just go and learn herbal and start selling yoyo bitters or better still herbalist'\n",
      " '  I need seven orders to start my business. Please help a struggling sister. '\n",
      " '  I need seven orders to start my business. Please help a struggling sister. '] \n",
      "\n"
     ]
    }
   ],
   "source": [
    "component_id = most_feminine_components[3]\n",
    "largest = pd.Series(pca.transform(X_train)[:,component_id]).nlargest(20).index.values\n",
    "idxs = [df_train.index[b] for b in largest]\n",
    "print(df_train_text.loc[idxs].text.values, '\\n')"
   ]
  }
 ],
 "metadata": {
  "kernelspec": {
   "display_name": "Python 3",
   "language": "python",
   "name": "python3"
  },
  "language_info": {
   "codemirror_mode": {
    "name": "ipython",
    "version": 3
   },
   "file_extension": ".py",
   "mimetype": "text/x-python",
   "name": "python",
   "nbconvert_exporter": "python",
   "pygments_lexer": "ipython3",
   "version": "3.6.8"
  }
 },
 "nbformat": 4,
 "nbformat_minor": 2
}
