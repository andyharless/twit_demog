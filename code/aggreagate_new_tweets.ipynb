{
 "cells": [
  {
   "cell_type": "code",
   "execution_count": 1,
   "metadata": {},
   "outputs": [],
   "source": [
    "DATAPATH = '../data/'\n",
    "TWEETPATH = '../data/tweets/'\n",
    "OUTFILE = 'aggtweets601thru706.csv'"
   ]
  },
  {
   "cell_type": "code",
   "execution_count": 2,
   "metadata": {},
   "outputs": [],
   "source": [
    "import glob\n",
    "import json\n",
    "import pandas as pd\n",
    "import gender_guesser.detector as gender\n",
    "from utils import *"
   ]
  },
  {
   "cell_type": "code",
   "execution_count": 3,
   "metadata": {},
   "outputs": [],
   "source": [
    "names = []\n",
    "texts = []\n",
    "userids = []\n",
    "timestamps = []\n",
    "for fn in glob.glob(TWEETPATH+'*.json'):\n",
    "    with open(fn) as fi:\n",
    "        for line in fi:\n",
    "            r = json.loads(line)\n",
    "            names.append(r['user']['name'])\n",
    "            userids.append(r['user']['id'])\n",
    "            texts.append(get_text_cleaned(r))\n",
    "            timestamps.append(r['created_at'])"
   ]
  },
  {
   "cell_type": "code",
   "execution_count": 4,
   "metadata": {},
   "outputs": [
    {
     "data": {
      "text/plain": [
       "(176721, 176721, 176721, 176721)"
      ]
     },
     "execution_count": 4,
     "metadata": {},
     "output_type": "execute_result"
    }
   ],
   "source": [
    "len(timestamps), len(names), len(userids), len(texts)"
   ]
  },
  {
   "cell_type": "code",
   "execution_count": 5,
   "metadata": {},
   "outputs": [
    {
     "data": {
      "text/html": [
       "<div>\n",
       "<style scoped>\n",
       "    .dataframe tbody tr th:only-of-type {\n",
       "        vertical-align: middle;\n",
       "    }\n",
       "\n",
       "    .dataframe tbody tr th {\n",
       "        vertical-align: top;\n",
       "    }\n",
       "\n",
       "    .dataframe thead th {\n",
       "        text-align: right;\n",
       "    }\n",
       "</style>\n",
       "<table border=\"1\" class=\"dataframe\">\n",
       "  <thead>\n",
       "    <tr style=\"text-align: right;\">\n",
       "      <th></th>\n",
       "      <th></th>\n",
       "      <th>name</th>\n",
       "      <th>text</th>\n",
       "    </tr>\n",
       "  </thead>\n",
       "  <tbody>\n",
       "    <tr>\n",
       "      <th>2222959046</th>\n",
       "      <th>Sun Jun 16 13:40:13 +0000 2019</th>\n",
       "      <td>Guy #IAmBrin #FBPE #WeAreTheOppositionNow</td>\n",
       "      <td>Of you were competent you would have been doi...</td>\n",
       "    </tr>\n",
       "    <tr>\n",
       "      <th>3286359792</th>\n",
       "      <th>Sun Jun 16 13:40:14 +0000 2019</th>\n",
       "      <td>Syeda Fatima</td>\n",
       "      <td>Thank you❤❤❤❤</td>\n",
       "    </tr>\n",
       "    <tr>\n",
       "      <th>36200387</th>\n",
       "      <th>Sun Jun 16 13:40:14 +0000 2019</th>\n",
       "      <td>David Cleary</td>\n",
       "      <td>Fuck’s sake. THAT is a photo. Excellent.</td>\n",
       "    </tr>\n",
       "    <tr>\n",
       "      <th>1136707302961160192</th>\n",
       "      <th>Sun Jun 16 13:40:14 +0000 2019</th>\n",
       "      <td>Bradley Howard</td>\n",
       "      <td>This is absolutely disgusting and disrespectfu...</td>\n",
       "    </tr>\n",
       "    <tr>\n",
       "      <th>1000191217622306817</th>\n",
       "      <th>Sun Jun 16 13:40:15 +0000 2019</th>\n",
       "      <td>Megan Fox</td>\n",
       "      <td>Educating girls has proven to be one of the wo...</td>\n",
       "    </tr>\n",
       "    <tr>\n",
       "      <th>864864072248045568</th>\n",
       "      <th>Sun Jun 16 13:40:16 +0000 2019</th>\n",
       "      <td>Albert Rosco</td>\n",
       "      <td>God punish everyone involved in this movie. 😢😢</td>\n",
       "    </tr>\n",
       "    <tr>\n",
       "      <th>1042481751560413184</th>\n",
       "      <th>Sun Jun 16 13:40:17 +0000 2019</th>\n",
       "      <td>Michael Mahoney</td>\n",
       "      <td>Why, you don’t believe polls unless they bene...</td>\n",
       "    </tr>\n",
       "    <tr>\n",
       "      <th>1093124083032694785</th>\n",
       "      <th>Sun Jun 16 13:40:17 +0000 2019</th>\n",
       "      <td>Brian Schiess</td>\n",
       "      <td>And still cleaner than coal! Even \"\"\"clean\"\"...</td>\n",
       "    </tr>\n",
       "    <tr>\n",
       "      <th>18184606</th>\n",
       "      <th>Sun Jun 16 13:40:17 +0000 2019</th>\n",
       "      <td>Jerry Hoskin</td>\n",
       "      <td>Fight against something and we focus on the th...</td>\n",
       "    </tr>\n",
       "    <tr>\n",
       "      <th>823606571427041281</th>\n",
       "      <th>Sun Jun 16 13:40:17 +0000 2019</th>\n",
       "      <td>Darin Williams</td>\n",
       "      <td>Featured Art of the Day: \"Classics\". Buy it at:</td>\n",
       "    </tr>\n",
       "  </tbody>\n",
       "</table>\n",
       "</div>"
      ],
      "text/plain": [
       "                                                                                         name  \\\n",
       "2222959046          Sun Jun 16 13:40:13 +0000 2019  Guy #IAmBrin #FBPE #WeAreTheOppositionNow   \n",
       "3286359792          Sun Jun 16 13:40:14 +0000 2019                               Syeda Fatima   \n",
       "36200387            Sun Jun 16 13:40:14 +0000 2019                               David Cleary   \n",
       "1136707302961160192 Sun Jun 16 13:40:14 +0000 2019                             Bradley Howard   \n",
       "1000191217622306817 Sun Jun 16 13:40:15 +0000 2019                                  Megan Fox   \n",
       "864864072248045568  Sun Jun 16 13:40:16 +0000 2019                               Albert Rosco   \n",
       "1042481751560413184 Sun Jun 16 13:40:17 +0000 2019                            Michael Mahoney   \n",
       "1093124083032694785 Sun Jun 16 13:40:17 +0000 2019                              Brian Schiess   \n",
       "18184606            Sun Jun 16 13:40:17 +0000 2019                               Jerry Hoskin   \n",
       "823606571427041281  Sun Jun 16 13:40:17 +0000 2019                             Darin Williams   \n",
       "\n",
       "                                                                                                 text  \n",
       "2222959046          Sun Jun 16 13:40:13 +0000 2019   Of you were competent you would have been doi...  \n",
       "3286359792          Sun Jun 16 13:40:14 +0000 2019                                      Thank you❤❤❤❤  \n",
       "36200387            Sun Jun 16 13:40:14 +0000 2019           Fuck’s sake. THAT is a photo. Excellent.  \n",
       "1136707302961160192 Sun Jun 16 13:40:14 +0000 2019  This is absolutely disgusting and disrespectfu...  \n",
       "1000191217622306817 Sun Jun 16 13:40:15 +0000 2019  Educating girls has proven to be one of the wo...  \n",
       "864864072248045568  Sun Jun 16 13:40:16 +0000 2019    God punish everyone involved in this movie. 😢😢   \n",
       "1042481751560413184 Sun Jun 16 13:40:17 +0000 2019   Why, you don’t believe polls unless they bene...  \n",
       "1093124083032694785 Sun Jun 16 13:40:17 +0000 2019    And still cleaner than coal! Even \"\"\"clean\"\"...  \n",
       "18184606            Sun Jun 16 13:40:17 +0000 2019  Fight against something and we focus on the th...  \n",
       "823606571427041281  Sun Jun 16 13:40:17 +0000 2019  Featured Art of the Day: \"Classics\". Buy it at:    "
      ]
     },
     "execution_count": 5,
     "metadata": {},
     "output_type": "execute_result"
    }
   ],
   "source": [
    "df = pd.DataFrame({'name':names, 'text':texts},index=[userids, timestamps])\n",
    "df.head(10)"
   ]
  },
  {
   "cell_type": "code",
   "execution_count": 6,
   "metadata": {},
   "outputs": [
    {
     "data": {
      "text/html": [
       "<div>\n",
       "<style scoped>\n",
       "    .dataframe tbody tr th:only-of-type {\n",
       "        vertical-align: middle;\n",
       "    }\n",
       "\n",
       "    .dataframe tbody tr th {\n",
       "        vertical-align: top;\n",
       "    }\n",
       "\n",
       "    .dataframe thead th {\n",
       "        text-align: right;\n",
       "    }\n",
       "</style>\n",
       "<table border=\"1\" class=\"dataframe\">\n",
       "  <thead>\n",
       "    <tr style=\"text-align: right;\">\n",
       "      <th></th>\n",
       "      <th></th>\n",
       "      <th>name</th>\n",
       "      <th>text</th>\n",
       "    </tr>\n",
       "  </thead>\n",
       "  <tbody>\n",
       "    <tr>\n",
       "      <th>765984504745959424</th>\n",
       "      <th>Mon Jun 03 03:09:37 +0000 2019</th>\n",
       "      <td>Madyson Rayner</td>\n",
       "      <td>I’ll pretend this wasn’t tweeted for attenti...</td>\n",
       "    </tr>\n",
       "    <tr>\n",
       "      <th>1114757848150319104</th>\n",
       "      <th>Mon Jun 03 03:09:37 +0000 2019</th>\n",
       "      <td>Ai loc</td>\n",
       "      <td>blonkarmy can camp at an army tweet abt bp ...</td>\n",
       "    </tr>\n",
       "    <tr>\n",
       "      <th>988644297586151424</th>\n",
       "      <th>Mon Jun 03 03:09:38 +0000 2019</th>\n",
       "      <td>Rebecca 💯🇱🇷@POTUS</td>\n",
       "      <td>Are you going to fine yourself? Of course not...</td>\n",
       "    </tr>\n",
       "    <tr>\n",
       "      <th>1043267400</th>\n",
       "      <th>Mon Jun 03 03:09:38 +0000 2019</th>\n",
       "      <td>Clem</td>\n",
       "      <td>! Enter to  a $50   Card! Spend on  fun items,...</td>\n",
       "    </tr>\n",
       "    <tr>\n",
       "      <th>934894929037398016</th>\n",
       "      <th>Mon Jun 03 03:09:39 +0000 2019</th>\n",
       "      <td>Nicole Cage</td>\n",
       "      <td>Omg yes that one</td>\n",
       "    </tr>\n",
       "  </tbody>\n",
       "</table>\n",
       "</div>"
      ],
      "text/plain": [
       "                                                                 name  \\\n",
       "765984504745959424  Mon Jun 03 03:09:37 +0000 2019     Madyson Rayner   \n",
       "1114757848150319104 Mon Jun 03 03:09:37 +0000 2019             Ai loc   \n",
       "988644297586151424  Mon Jun 03 03:09:38 +0000 2019  Rebecca 💯🇱🇷@POTUS   \n",
       "1043267400          Mon Jun 03 03:09:38 +0000 2019               Clem   \n",
       "934894929037398016  Mon Jun 03 03:09:39 +0000 2019        Nicole Cage   \n",
       "\n",
       "                                                                                                 text  \n",
       "765984504745959424  Mon Jun 03 03:09:37 +0000 2019    I’ll pretend this wasn’t tweeted for attenti...  \n",
       "1114757848150319104 Mon Jun 03 03:09:37 +0000 2019     blonkarmy can camp at an army tweet abt bp ...  \n",
       "988644297586151424  Mon Jun 03 03:09:38 +0000 2019   Are you going to fine yourself? Of course not...  \n",
       "1043267400          Mon Jun 03 03:09:38 +0000 2019  ! Enter to  a $50   Card! Spend on  fun items,...  \n",
       "934894929037398016  Mon Jun 03 03:09:39 +0000 2019                                   Omg yes that one  "
      ]
     },
     "execution_count": 6,
     "metadata": {},
     "output_type": "execute_result"
    }
   ],
   "source": [
    "df.tail()"
   ]
  },
  {
   "cell_type": "code",
   "execution_count": 7,
   "metadata": {},
   "outputs": [
    {
     "data": {
      "text/plain": [
       "'This is absolutely disgusting and disrespectful to the memory of Harriet Tubman. Not only should the design be out… '"
      ]
     },
     "execution_count": 7,
     "metadata": {},
     "output_type": "execute_result"
    }
   ],
   "source": [
    "texts[3]"
   ]
  },
  {
   "cell_type": "code",
   "execution_count": 8,
   "metadata": {},
   "outputs": [],
   "source": [
    "gd = gender.Detector()\n",
    "def is_male(x):\n",
    "    return(is_male_g(gd, x))"
   ]
  },
  {
   "cell_type": "code",
   "execution_count": 9,
   "metadata": {},
   "outputs": [
    {
     "data": {
      "text/html": [
       "<div>\n",
       "<style scoped>\n",
       "    .dataframe tbody tr th:only-of-type {\n",
       "        vertical-align: middle;\n",
       "    }\n",
       "\n",
       "    .dataframe tbody tr th {\n",
       "        vertical-align: top;\n",
       "    }\n",
       "\n",
       "    .dataframe thead th {\n",
       "        text-align: right;\n",
       "    }\n",
       "</style>\n",
       "<table border=\"1\" class=\"dataframe\">\n",
       "  <thead>\n",
       "    <tr style=\"text-align: right;\">\n",
       "      <th></th>\n",
       "      <th></th>\n",
       "      <th>name</th>\n",
       "      <th>text</th>\n",
       "      <th>male</th>\n",
       "    </tr>\n",
       "  </thead>\n",
       "  <tbody>\n",
       "    <tr>\n",
       "      <th>2222959046</th>\n",
       "      <th>Sun Jun 16 13:40:13 +0000 2019</th>\n",
       "      <td>Guy #IAmBrin #FBPE #WeAreTheOppositionNow</td>\n",
       "      <td>Of you were competent you would have been doi...</td>\n",
       "      <td>True</td>\n",
       "    </tr>\n",
       "    <tr>\n",
       "      <th>3286359792</th>\n",
       "      <th>Sun Jun 16 13:40:14 +0000 2019</th>\n",
       "      <td>Syeda Fatima</td>\n",
       "      <td>Thank you❤❤❤❤</td>\n",
       "      <td>False</td>\n",
       "    </tr>\n",
       "    <tr>\n",
       "      <th>36200387</th>\n",
       "      <th>Sun Jun 16 13:40:14 +0000 2019</th>\n",
       "      <td>David Cleary</td>\n",
       "      <td>Fuck’s sake. THAT is a photo. Excellent.</td>\n",
       "      <td>True</td>\n",
       "    </tr>\n",
       "    <tr>\n",
       "      <th>1136707302961160192</th>\n",
       "      <th>Sun Jun 16 13:40:14 +0000 2019</th>\n",
       "      <td>Bradley Howard</td>\n",
       "      <td>This is absolutely disgusting and disrespectfu...</td>\n",
       "      <td>True</td>\n",
       "    </tr>\n",
       "    <tr>\n",
       "      <th>1000191217622306817</th>\n",
       "      <th>Sun Jun 16 13:40:15 +0000 2019</th>\n",
       "      <td>Megan Fox</td>\n",
       "      <td>Educating girls has proven to be one of the wo...</td>\n",
       "      <td>False</td>\n",
       "    </tr>\n",
       "  </tbody>\n",
       "</table>\n",
       "</div>"
      ],
      "text/plain": [
       "                                                                                         name  \\\n",
       "2222959046          Sun Jun 16 13:40:13 +0000 2019  Guy #IAmBrin #FBPE #WeAreTheOppositionNow   \n",
       "3286359792          Sun Jun 16 13:40:14 +0000 2019                               Syeda Fatima   \n",
       "36200387            Sun Jun 16 13:40:14 +0000 2019                               David Cleary   \n",
       "1136707302961160192 Sun Jun 16 13:40:14 +0000 2019                             Bradley Howard   \n",
       "1000191217622306817 Sun Jun 16 13:40:15 +0000 2019                                  Megan Fox   \n",
       "\n",
       "                                                                                                 text  \\\n",
       "2222959046          Sun Jun 16 13:40:13 +0000 2019   Of you were competent you would have been doi...   \n",
       "3286359792          Sun Jun 16 13:40:14 +0000 2019                                      Thank you❤❤❤❤   \n",
       "36200387            Sun Jun 16 13:40:14 +0000 2019           Fuck’s sake. THAT is a photo. Excellent.   \n",
       "1136707302961160192 Sun Jun 16 13:40:14 +0000 2019  This is absolutely disgusting and disrespectfu...   \n",
       "1000191217622306817 Sun Jun 16 13:40:15 +0000 2019  Educating girls has proven to be one of the wo...   \n",
       "\n",
       "                                                     male  \n",
       "2222959046          Sun Jun 16 13:40:13 +0000 2019   True  \n",
       "3286359792          Sun Jun 16 13:40:14 +0000 2019  False  \n",
       "36200387            Sun Jun 16 13:40:14 +0000 2019   True  \n",
       "1136707302961160192 Sun Jun 16 13:40:14 +0000 2019   True  \n",
       "1000191217622306817 Sun Jun 16 13:40:15 +0000 2019  False  "
      ]
     },
     "execution_count": 9,
     "metadata": {},
     "output_type": "execute_result"
    }
   ],
   "source": [
    "df['male'] = df.name.apply(is_male)\n",
    "df.head()"
   ]
  },
  {
   "cell_type": "code",
   "execution_count": 10,
   "metadata": {},
   "outputs": [
    {
     "data": {
      "text/html": [
       "<div>\n",
       "<style scoped>\n",
       "    .dataframe tbody tr th:only-of-type {\n",
       "        vertical-align: middle;\n",
       "    }\n",
       "\n",
       "    .dataframe tbody tr th {\n",
       "        vertical-align: top;\n",
       "    }\n",
       "\n",
       "    .dataframe thead th {\n",
       "        text-align: right;\n",
       "    }\n",
       "</style>\n",
       "<table border=\"1\" class=\"dataframe\">\n",
       "  <thead>\n",
       "    <tr style=\"text-align: right;\">\n",
       "      <th></th>\n",
       "      <th></th>\n",
       "      <th>name</th>\n",
       "      <th>text</th>\n",
       "      <th>male</th>\n",
       "    </tr>\n",
       "  </thead>\n",
       "  <tbody>\n",
       "    <tr>\n",
       "      <th>765984504745959424</th>\n",
       "      <th>Mon Jun 03 03:09:37 +0000 2019</th>\n",
       "      <td>Madyson Rayner</td>\n",
       "      <td>I’ll pretend this wasn’t tweeted for attenti...</td>\n",
       "      <td>False</td>\n",
       "    </tr>\n",
       "    <tr>\n",
       "      <th>1114757848150319104</th>\n",
       "      <th>Mon Jun 03 03:09:37 +0000 2019</th>\n",
       "      <td>Ai loc</td>\n",
       "      <td>blonkarmy can camp at an army tweet abt bp ...</td>\n",
       "      <td>False</td>\n",
       "    </tr>\n",
       "    <tr>\n",
       "      <th>988644297586151424</th>\n",
       "      <th>Mon Jun 03 03:09:38 +0000 2019</th>\n",
       "      <td>Rebecca 💯🇱🇷@POTUS</td>\n",
       "      <td>Are you going to fine yourself? Of course not...</td>\n",
       "      <td>False</td>\n",
       "    </tr>\n",
       "    <tr>\n",
       "      <th>1043267400</th>\n",
       "      <th>Mon Jun 03 03:09:38 +0000 2019</th>\n",
       "      <td>Clem</td>\n",
       "      <td>! Enter to  a $50   Card! Spend on  fun items,...</td>\n",
       "      <td>True</td>\n",
       "    </tr>\n",
       "    <tr>\n",
       "      <th>934894929037398016</th>\n",
       "      <th>Mon Jun 03 03:09:39 +0000 2019</th>\n",
       "      <td>Nicole Cage</td>\n",
       "      <td>Omg yes that one</td>\n",
       "      <td>False</td>\n",
       "    </tr>\n",
       "  </tbody>\n",
       "</table>\n",
       "</div>"
      ],
      "text/plain": [
       "                                                                 name  \\\n",
       "765984504745959424  Mon Jun 03 03:09:37 +0000 2019     Madyson Rayner   \n",
       "1114757848150319104 Mon Jun 03 03:09:37 +0000 2019             Ai loc   \n",
       "988644297586151424  Mon Jun 03 03:09:38 +0000 2019  Rebecca 💯🇱🇷@POTUS   \n",
       "1043267400          Mon Jun 03 03:09:38 +0000 2019               Clem   \n",
       "934894929037398016  Mon Jun 03 03:09:39 +0000 2019        Nicole Cage   \n",
       "\n",
       "                                                                                                 text  \\\n",
       "765984504745959424  Mon Jun 03 03:09:37 +0000 2019    I’ll pretend this wasn’t tweeted for attenti...   \n",
       "1114757848150319104 Mon Jun 03 03:09:37 +0000 2019     blonkarmy can camp at an army tweet abt bp ...   \n",
       "988644297586151424  Mon Jun 03 03:09:38 +0000 2019   Are you going to fine yourself? Of course not...   \n",
       "1043267400          Mon Jun 03 03:09:38 +0000 2019  ! Enter to  a $50   Card! Spend on  fun items,...   \n",
       "934894929037398016  Mon Jun 03 03:09:39 +0000 2019                                   Omg yes that one   \n",
       "\n",
       "                                                     male  \n",
       "765984504745959424  Mon Jun 03 03:09:37 +0000 2019  False  \n",
       "1114757848150319104 Mon Jun 03 03:09:37 +0000 2019  False  \n",
       "988644297586151424  Mon Jun 03 03:09:38 +0000 2019  False  \n",
       "1043267400          Mon Jun 03 03:09:38 +0000 2019   True  \n",
       "934894929037398016  Mon Jun 03 03:09:39 +0000 2019  False  "
      ]
     },
     "execution_count": 10,
     "metadata": {},
     "output_type": "execute_result"
    }
   ],
   "source": [
    "df.tail()"
   ]
  },
  {
   "cell_type": "code",
   "execution_count": 11,
   "metadata": {},
   "outputs": [
    {
     "data": {
      "text/html": [
       "<div>\n",
       "<style scoped>\n",
       "    .dataframe tbody tr th:only-of-type {\n",
       "        vertical-align: middle;\n",
       "    }\n",
       "\n",
       "    .dataframe tbody tr th {\n",
       "        vertical-align: top;\n",
       "    }\n",
       "\n",
       "    .dataframe thead th {\n",
       "        text-align: right;\n",
       "    }\n",
       "</style>\n",
       "<table border=\"1\" class=\"dataframe\">\n",
       "  <thead>\n",
       "    <tr style=\"text-align: right;\">\n",
       "      <th></th>\n",
       "      <th></th>\n",
       "      <th>name</th>\n",
       "      <th>text</th>\n",
       "      <th>male</th>\n",
       "    </tr>\n",
       "  </thead>\n",
       "  <tbody>\n",
       "    <tr>\n",
       "      <th>90083667</th>\n",
       "      <th>Thu Jul 04 00:00:04 +0000 2019</th>\n",
       "      <td>Larry F</td>\n",
       "      <td>weather data \\r 8:00 PM 76.0 83 pct 1.6 NW</td>\n",
       "      <td>True</td>\n",
       "    </tr>\n",
       "    <tr>\n",
       "      <th>284658938</th>\n",
       "      <th>Thu Jun 20 15:00:01 +0000 2019</th>\n",
       "      <td>Tim Murray</td>\n",
       "      <td>WTHD Lagrange Weather  \\r 11:00 AM Temp.60.9  ...</td>\n",
       "      <td>True</td>\n",
       "    </tr>\n",
       "    <tr>\n",
       "      <th>90083667</th>\n",
       "      <th>Wed Jun 12 05:45:02 +0000 2019</th>\n",
       "      <td>Larry F</td>\n",
       "      <td>weather data \\r 01:45 AM 47.5 92 pct 0.0 WNW</td>\n",
       "      <td>True</td>\n",
       "    </tr>\n",
       "  </tbody>\n",
       "</table>\n",
       "</div>"
      ],
      "text/plain": [
       "                                                name  \\\n",
       "90083667  Thu Jul 04 00:00:04 +0000 2019     Larry F   \n",
       "284658938 Thu Jun 20 15:00:01 +0000 2019  Tim Murray   \n",
       "90083667  Wed Jun 12 05:45:02 +0000 2019     Larry F   \n",
       "\n",
       "                                                                                       text  \\\n",
       "90083667  Thu Jul 04 00:00:04 +0000 2019         weather data \\r 8:00 PM 76.0 83 pct 1.6 NW   \n",
       "284658938 Thu Jun 20 15:00:01 +0000 2019  WTHD Lagrange Weather  \\r 11:00 AM Temp.60.9  ...   \n",
       "90083667  Wed Jun 12 05:45:02 +0000 2019       weather data \\r 01:45 AM 47.5 92 pct 0.0 WNW   \n",
       "\n",
       "                                          male  \n",
       "90083667  Thu Jul 04 00:00:04 +0000 2019  True  \n",
       "284658938 Thu Jun 20 15:00:01 +0000 2019  True  \n",
       "90083667  Wed Jun 12 05:45:02 +0000 2019  True  "
      ]
     },
     "execution_count": 11,
     "metadata": {},
     "output_type": "execute_result"
    }
   ],
   "source": [
    "# These tweets caused problems in parsing the output csv later, so I'm just going to drop them\n",
    "df[(df.name=='Larry F') | (df.name=='Tim Murray')]"
   ]
  },
  {
   "cell_type": "code",
   "execution_count": 12,
   "metadata": {},
   "outputs": [
    {
     "data": {
      "text/plain": [
       "(176721, 3)"
      ]
     },
     "execution_count": 12,
     "metadata": {},
     "output_type": "execute_result"
    }
   ],
   "source": [
    "df.shape"
   ]
  },
  {
   "cell_type": "code",
   "execution_count": 13,
   "metadata": {},
   "outputs": [],
   "source": [
    "df = df[~((df.name=='Larry F') | (df.name=='Tim Murray'))]"
   ]
  },
  {
   "cell_type": "code",
   "execution_count": 14,
   "metadata": {},
   "outputs": [
    {
     "data": {
      "text/plain": [
       "(176718, 3)"
      ]
     },
     "execution_count": 14,
     "metadata": {},
     "output_type": "execute_result"
    }
   ],
   "source": [
    "df.shape"
   ]
  },
  {
   "cell_type": "code",
   "execution_count": 15,
   "metadata": {},
   "outputs": [],
   "source": [
    "outpath = DATAPATH+OUTFILE\n",
    "df.to_csv(outpath, index_label=['id','time'])"
   ]
  }
 ],
 "metadata": {
  "kernelspec": {
   "display_name": "Python 3",
   "language": "python",
   "name": "python3"
  },
  "language_info": {
   "codemirror_mode": {
    "name": "ipython",
    "version": 3
   },
   "file_extension": ".py",
   "mimetype": "text/x-python",
   "name": "python",
   "nbconvert_exporter": "python",
   "pygments_lexer": "ipython3",
   "version": "3.7.3"
  }
 },
 "nbformat": 4,
 "nbformat_minor": 2
}
