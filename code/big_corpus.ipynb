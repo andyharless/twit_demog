{
 "cells": [
  {
   "cell_type": "code",
   "execution_count": 1,
   "metadata": {},
   "outputs": [],
   "source": [
    "DATAPATH = '../data/'\n",
    "FILENAMES = ['aggtweets.csv', 'tweets_agg_201906011717.csv',  'aggtweets601thru706.csv']\n",
    "USEL_MODEL_FILE = 'USELModel_201906161241.h5'"
   ]
  },
  {
   "cell_type": "code",
   "execution_count": 2,
   "metadata": {},
   "outputs": [],
   "source": [
    "import pandas as pd\n",
    "from datetime import datetime\n",
    "from utils import balance"
   ]
  },
  {
   "cell_type": "code",
   "execution_count": 3,
   "metadata": {},
   "outputs": [
    {
     "data": {
      "text/plain": [
       "(252111, 2)"
      ]
     },
     "execution_count": 3,
     "metadata": {},
     "output_type": "execute_result"
    }
   ],
   "source": [
    "df = pd.DataFrame()\n",
    "for f in FILENAMES:\n",
    "    df = pd.concat([df, pd.read_csv(DATAPATH + f, \n",
    "                                    index_col=['id','time'],\n",
    "                                    parse_dates=['time']).drop(['name'],axis=1)]).dropna()\n",
    "df.shape"
   ]
  },
  {
   "cell_type": "code",
   "execution_count": 4,
   "metadata": {},
   "outputs": [
    {
     "data": {
      "text/html": [
       "<div>\n",
       "<style scoped>\n",
       "    .dataframe tbody tr th:only-of-type {\n",
       "        vertical-align: middle;\n",
       "    }\n",
       "\n",
       "    .dataframe tbody tr th {\n",
       "        vertical-align: top;\n",
       "    }\n",
       "\n",
       "    .dataframe thead th {\n",
       "        text-align: right;\n",
       "    }\n",
       "</style>\n",
       "<table border=\"1\" class=\"dataframe\">\n",
       "  <thead>\n",
       "    <tr style=\"text-align: right;\">\n",
       "      <th></th>\n",
       "      <th></th>\n",
       "      <th>text</th>\n",
       "      <th>male</th>\n",
       "    </tr>\n",
       "    <tr>\n",
       "      <th>id</th>\n",
       "      <th>time</th>\n",
       "      <th></th>\n",
       "      <th></th>\n",
       "    </tr>\n",
       "  </thead>\n",
       "  <tbody>\n",
       "    <tr>\n",
       "      <th>425472153</th>\n",
       "      <th>2019-05-25 20:24:48+00:00</th>\n",
       "      <td>Everything and everybody is temporary ‼️</td>\n",
       "      <td>False</td>\n",
       "    </tr>\n",
       "    <tr>\n",
       "      <th>1081873499621273601</th>\n",
       "      <th>2019-05-25 20:24:48+00:00</th>\n",
       "      <td>My poll about short stories was part of me adm...</td>\n",
       "      <td>True</td>\n",
       "    </tr>\n",
       "    <tr>\n",
       "      <th>987721418</th>\n",
       "      <th>2019-05-25 20:24:48+00:00</th>\n",
       "      <td>Wish I was in mobile right now</td>\n",
       "      <td>False</td>\n",
       "    </tr>\n",
       "    <tr>\n",
       "      <th>980758839770451973</th>\n",
       "      <th>2019-05-25 20:24:52+00:00</th>\n",
       "      <td>how much for this promo ? Put me on ?</td>\n",
       "      <td>False</td>\n",
       "    </tr>\n",
       "    <tr>\n",
       "      <th>838620336367218692</th>\n",
       "      <th>2019-05-25 20:24:53+00:00</th>\n",
       "      <td>Keep an eye on the sky this evening if you hav...</td>\n",
       "      <td>True</td>\n",
       "    </tr>\n",
       "  </tbody>\n",
       "</table>\n",
       "</div>"
      ],
      "text/plain": [
       "                                                                                            text  \\\n",
       "id                  time                                                                           \n",
       "425472153           2019-05-25 20:24:48+00:00           Everything and everybody is temporary ‼️   \n",
       "1081873499621273601 2019-05-25 20:24:48+00:00  My poll about short stories was part of me adm...   \n",
       "987721418           2019-05-25 20:24:48+00:00                     Wish I was in mobile right now   \n",
       "980758839770451973  2019-05-25 20:24:52+00:00              how much for this promo ? Put me on ?   \n",
       "838620336367218692  2019-05-25 20:24:53+00:00  Keep an eye on the sky this evening if you hav...   \n",
       "\n",
       "                                                male  \n",
       "id                  time                              \n",
       "425472153           2019-05-25 20:24:48+00:00  False  \n",
       "1081873499621273601 2019-05-25 20:24:48+00:00   True  \n",
       "987721418           2019-05-25 20:24:48+00:00  False  \n",
       "980758839770451973  2019-05-25 20:24:52+00:00  False  \n",
       "838620336367218692  2019-05-25 20:24:53+00:00   True  "
      ]
     },
     "execution_count": 4,
     "metadata": {},
     "output_type": "execute_result"
    }
   ],
   "source": [
    "df.head()"
   ]
  },
  {
   "cell_type": "code",
   "execution_count": 5,
   "metadata": {},
   "outputs": [],
   "source": [
    "xy = balance(df).sort_values(by='time')"
   ]
  },
  {
   "cell_type": "code",
   "execution_count": 6,
   "metadata": {},
   "outputs": [
    {
     "data": {
      "text/html": [
       "<div>\n",
       "<style scoped>\n",
       "    .dataframe tbody tr th:only-of-type {\n",
       "        vertical-align: middle;\n",
       "    }\n",
       "\n",
       "    .dataframe tbody tr th {\n",
       "        vertical-align: top;\n",
       "    }\n",
       "\n",
       "    .dataframe thead th {\n",
       "        text-align: right;\n",
       "    }\n",
       "</style>\n",
       "<table border=\"1\" class=\"dataframe\">\n",
       "  <thead>\n",
       "    <tr style=\"text-align: right;\">\n",
       "      <th></th>\n",
       "      <th></th>\n",
       "      <th>text</th>\n",
       "      <th>male</th>\n",
       "    </tr>\n",
       "    <tr>\n",
       "      <th>id</th>\n",
       "      <th>time</th>\n",
       "      <th></th>\n",
       "      <th></th>\n",
       "    </tr>\n",
       "  </thead>\n",
       "  <tbody>\n",
       "    <tr>\n",
       "      <th>1703564846</th>\n",
       "      <th>2019-05-21 17:50:48+00:00</th>\n",
       "      <td>I prefer tubs.. but nice try jiggly</td>\n",
       "      <td>True</td>\n",
       "    </tr>\n",
       "    <tr>\n",
       "      <th>211806644</th>\n",
       "      <th>2019-05-21 17:50:48+00:00</th>\n",
       "      <td>It's the shop. I'd never have paid for 2 year...</td>\n",
       "      <td>False</td>\n",
       "    </tr>\n",
       "    <tr>\n",
       "      <th>971515498411241472</th>\n",
       "      <th>2019-05-21 17:50:48+00:00</th>\n",
       "      <td>Why  can’t attend Cannes 🎬</td>\n",
       "      <td>False</td>\n",
       "    </tr>\n",
       "    <tr>\n",
       "      <th>2430359987</th>\n",
       "      <th>2019-05-21 17:50:49+00:00</th>\n",
       "      <td>Raspberry gin and tonic, nomnom 😋 beautiful ev...</td>\n",
       "      <td>False</td>\n",
       "    </tr>\n",
       "    <tr>\n",
       "      <th>2860188236</th>\n",
       "      <th>2019-05-21 17:50:49+00:00</th>\n",
       "      <td>This is  🏴󠁧󠁢󠁥󠁮󠁧󠁿🇬🇧🏴󠁧󠁢󠁥󠁮󠁧󠁿🇬🇧🏴󠁧󠁢󠁥󠁮󠁧󠁿 here we g...</td>\n",
       "      <td>True</td>\n",
       "    </tr>\n",
       "  </tbody>\n",
       "</table>\n",
       "</div>"
      ],
      "text/plain": [
       "                                                                                           text  \\\n",
       "id                 time                                                                           \n",
       "1703564846         2019-05-21 17:50:48+00:00                I prefer tubs.. but nice try jiggly   \n",
       "211806644          2019-05-21 17:50:48+00:00   It's the shop. I'd never have paid for 2 year...   \n",
       "971515498411241472 2019-05-21 17:50:48+00:00                        Why  can’t attend Cannes 🎬    \n",
       "2430359987         2019-05-21 17:50:49+00:00  Raspberry gin and tonic, nomnom 😋 beautiful ev...   \n",
       "2860188236         2019-05-21 17:50:49+00:00    This is  🏴󠁧󠁢󠁥󠁮󠁧󠁿🇬🇧🏴󠁧󠁢󠁥󠁮󠁧󠁿🇬🇧🏴󠁧󠁢󠁥󠁮󠁧󠁿 here we g...   \n",
       "\n",
       "                                               male  \n",
       "id                 time                              \n",
       "1703564846         2019-05-21 17:50:48+00:00   True  \n",
       "211806644          2019-05-21 17:50:48+00:00  False  \n",
       "971515498411241472 2019-05-21 17:50:48+00:00  False  \n",
       "2430359987         2019-05-21 17:50:49+00:00  False  \n",
       "2860188236         2019-05-21 17:50:49+00:00   True  "
      ]
     },
     "execution_count": 6,
     "metadata": {},
     "output_type": "execute_result"
    }
   ],
   "source": [
    "xy.head()"
   ]
  },
  {
   "cell_type": "code",
   "execution_count": 7,
   "metadata": {},
   "outputs": [
    {
     "data": {
      "text/html": [
       "<div>\n",
       "<style scoped>\n",
       "    .dataframe tbody tr th:only-of-type {\n",
       "        vertical-align: middle;\n",
       "    }\n",
       "\n",
       "    .dataframe tbody tr th {\n",
       "        vertical-align: top;\n",
       "    }\n",
       "\n",
       "    .dataframe thead th {\n",
       "        text-align: right;\n",
       "    }\n",
       "</style>\n",
       "<table border=\"1\" class=\"dataframe\">\n",
       "  <thead>\n",
       "    <tr style=\"text-align: right;\">\n",
       "      <th></th>\n",
       "      <th></th>\n",
       "      <th>text</th>\n",
       "      <th>male</th>\n",
       "    </tr>\n",
       "    <tr>\n",
       "      <th>id</th>\n",
       "      <th>time</th>\n",
       "      <th></th>\n",
       "      <th></th>\n",
       "    </tr>\n",
       "  </thead>\n",
       "  <tbody>\n",
       "    <tr>\n",
       "      <th>970657219</th>\n",
       "      <th>2019-07-06 17:01:02+00:00</th>\n",
       "      <td>Butterfly and Bee Picture, Bee and Butterfly f...</td>\n",
       "      <td>False</td>\n",
       "    </tr>\n",
       "    <tr>\n",
       "      <th>1144347639200256000</th>\n",
       "      <th>2019-07-06 17:01:03+00:00</th>\n",
       "      <td>Plus I'd rather be \"pathetic\" than sexist as ...</td>\n",
       "      <td>False</td>\n",
       "    </tr>\n",
       "    <tr>\n",
       "      <th>2540538534</th>\n",
       "      <th>2019-07-06 17:01:04+00:00</th>\n",
       "      <td>I GOT IN THE DOORWAY THIS TIME LOL</td>\n",
       "      <td>False</td>\n",
       "    </tr>\n",
       "    <tr>\n",
       "      <th>19669474</th>\n",
       "      <th>2019-07-06 17:01:05+00:00</th>\n",
       "      <td>Open Access Journal Back List: Journal of Anci...</td>\n",
       "      <td>True</td>\n",
       "    </tr>\n",
       "    <tr>\n",
       "      <th>891741719225565185</th>\n",
       "      <th>2019-07-06 17:01:05+00:00</th>\n",
       "      <td>The stress of that one is plenty abeg</td>\n",
       "      <td>False</td>\n",
       "    </tr>\n",
       "  </tbody>\n",
       "</table>\n",
       "</div>"
      ],
      "text/plain": [
       "                                                                                            text  \\\n",
       "id                  time                                                                           \n",
       "970657219           2019-07-06 17:01:02+00:00  Butterfly and Bee Picture, Bee and Butterfly f...   \n",
       "1144347639200256000 2019-07-06 17:01:03+00:00   Plus I'd rather be \"pathetic\" than sexist as ...   \n",
       "2540538534          2019-07-06 17:01:04+00:00                 I GOT IN THE DOORWAY THIS TIME LOL   \n",
       "19669474            2019-07-06 17:01:05+00:00  Open Access Journal Back List: Journal of Anci...   \n",
       "891741719225565185  2019-07-06 17:01:05+00:00              The stress of that one is plenty abeg   \n",
       "\n",
       "                                                male  \n",
       "id                  time                              \n",
       "970657219           2019-07-06 17:01:02+00:00  False  \n",
       "1144347639200256000 2019-07-06 17:01:03+00:00  False  \n",
       "2540538534          2019-07-06 17:01:04+00:00  False  \n",
       "19669474            2019-07-06 17:01:05+00:00   True  \n",
       "891741719225565185  2019-07-06 17:01:05+00:00  False  "
      ]
     },
     "execution_count": 7,
     "metadata": {},
     "output_type": "execute_result"
    }
   ],
   "source": [
    "xy.tail()"
   ]
  },
  {
   "cell_type": "code",
   "execution_count": 8,
   "metadata": {},
   "outputs": [
    {
     "data": {
      "text/plain": [
       "(191512, 2)"
      ]
     },
     "execution_count": 8,
     "metadata": {},
     "output_type": "execute_result"
    }
   ],
   "source": [
    "xy.shape"
   ]
  },
  {
   "cell_type": "code",
   "execution_count": 9,
   "metadata": {},
   "outputs": [
    {
     "data": {
      "text/plain": [
       "(114907, 153209)"
      ]
     },
     "execution_count": 9,
     "metadata": {},
     "output_type": "execute_result"
    }
   ],
   "source": [
    "# Split (hypotehtically) into burn-in, validation, and test sections\n",
    "val_frac = .2\n",
    "test_frac = .2\n",
    "\n",
    "burn_frac = 1 - val_frac - test_frac\n",
    "burn_in = int(burn_frac*len(xy))\n",
    "val_end = burn_in + int(val_frac*len(xy))\n",
    "burn_in, val_end"
   ]
  },
  {
   "cell_type": "code",
   "execution_count": 10,
   "metadata": {},
   "outputs": [],
   "source": [
    "timestamp = datetime.now().strftime('%Y%m%d%H%M')\n",
    "fp_big_corpus = DATAPATH + 'twitgen_big_corpus_' + timestamp + '.csv'\n",
    "xy.to_csv(fp_big_corpus)"
   ]
  },
  {
   "cell_type": "code",
   "execution_count": 11,
   "metadata": {},
   "outputs": [
    {
     "data": {
      "text/plain": [
       "'201907251843'"
      ]
     },
     "execution_count": 11,
     "metadata": {},
     "output_type": "execute_result"
    }
   ],
   "source": [
    "timestamp"
   ]
  }
 ],
 "metadata": {
  "kernelspec": {
   "display_name": "Python 3",
   "language": "python",
   "name": "python3"
  },
  "language_info": {
   "codemirror_mode": {
    "name": "ipython",
    "version": 3
   },
   "file_extension": ".py",
   "mimetype": "text/x-python",
   "name": "python",
   "nbconvert_exporter": "python",
   "pygments_lexer": "ipython3",
   "version": "3.7.3"
  }
 },
 "nbformat": 4,
 "nbformat_minor": 2
}
