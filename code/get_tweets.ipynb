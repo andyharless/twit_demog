{
 "cells": [
  {
   "cell_type": "markdown",
   "metadata": {},
   "source": [
    "External packages needed:<br>\n",
    "`pip install oauth2` (see https://pypi.org/project/oauth2/)<br>\n",
    "`pip install gender-guesser` (see https://pypi.org/project/gender-guesser/)"
   ]
  },
  {
   "cell_type": "code",
   "execution_count": 1,
   "metadata": {},
   "outputs": [],
   "source": [
    "NSAMPLES = 3000\n",
    "DATAPATH = '../data/'"
   ]
  },
  {
   "cell_type": "code",
   "execution_count": 2,
   "metadata": {},
   "outputs": [],
   "source": [
    "import oauth2 as oauth\n",
    "import gender_guesser.detector as gender\n",
    "from urllib import request\n",
    "import json\n",
    "from tqdm import tqdm\n",
    "from datetime import datetime"
   ]
  },
  {
   "cell_type": "code",
   "execution_count": 3,
   "metadata": {},
   "outputs": [
    {
     "data": {
      "text/plain": [
       "'tweet_sample_201907061227.json'"
      ]
     },
     "execution_count": 3,
     "metadata": {},
     "output_type": "execute_result"
    }
   ],
   "source": [
    "FILENAME = 'tweet_sample_' + datetime.now().strftime('%Y%m%d%H%M') + '.json'\n",
    "FILENAME"
   ]
  },
  {
   "cell_type": "code",
   "execution_count": 4,
   "metadata": {},
   "outputs": [],
   "source": [
    "# api_key, api_secret, access_token_key, and access_token_secret\n",
    "# obtained from https://developer.twitter.com/\n",
    "from keys import *"
   ]
  },
  {
   "cell_type": "code",
   "execution_count": 5,
   "metadata": {},
   "outputs": [],
   "source": [
    "oauth_token    = oauth.Token(key=access_token_key, secret=access_token_secret)\n",
    "oauth_consumer = oauth.Consumer(key=api_key, secret=api_secret)\n",
    "\n",
    "signature_method_hmac_sha1 = oauth.SignatureMethod_HMAC_SHA1()\n",
    "\n",
    "http_method = \"GET\""
   ]
  },
  {
   "cell_type": "code",
   "execution_count": 6,
   "metadata": {},
   "outputs": [],
   "source": [
    "_debug = 0\n",
    "http_handler  = request.HTTPHandler(debuglevel=_debug)\n",
    "https_handler = request.HTTPSHandler(debuglevel=_debug)"
   ]
  },
  {
   "cell_type": "code",
   "execution_count": 7,
   "metadata": {},
   "outputs": [],
   "source": [
    "def twitterreq(url, http_method, parameters):\n",
    "  req = oauth.Request.from_consumer_and_token(oauth_consumer,\n",
    "                                             token=oauth_token,\n",
    "                                             http_method=http_method,\n",
    "                                             http_url=url, \n",
    "                                             parameters=parameters)\n",
    "\n",
    "  req.sign_request(signature_method_hmac_sha1, oauth_consumer, oauth_token)\n",
    "\n",
    "  headers = req.to_header()\n",
    "\n",
    "  if http_method == \"POST\":\n",
    "    encoded_post_data = req.to_postdata()\n",
    "  else:\n",
    "    encoded_post_data = None\n",
    "    url = req.to_url()\n",
    "\n",
    "  opener = request.OpenerDirector()\n",
    "  opener.add_handler(http_handler)\n",
    "  opener.add_handler(https_handler)\n",
    "  \n",
    "  response = opener.open(url, encoded_post_data)\n",
    "\n",
    "  return response"
   ]
  },
  {
   "cell_type": "code",
   "execution_count": 8,
   "metadata": {},
   "outputs": [],
   "source": [
    "d = gender.Detector()\n",
    "\n",
    "def is_male(name):\n",
    "    if len(name)>0:\n",
    "        return(d.get_gender(name.split()[0])=='male')\n",
    "    else:\n",
    "        return(False)\n",
    "\n",
    "def is_female(name):\n",
    "    if len(name)>0:\n",
    "        return(d.get_gender(name.split()[0])=='female')\n",
    "    else:\n",
    "        return(False)"
   ]
  },
  {
   "cell_type": "code",
   "execution_count": 9,
   "metadata": {},
   "outputs": [],
   "source": [
    "def contains_required_info(r):\n",
    "    if 'delete' in r or 'retweeted_status' in r:\n",
    "        return(False)  # Ignore deletes and retweets\n",
    "    elif 'lang' not in r or 'user' not in r or 'text' not in r:\n",
    "        return(False)  # Bad tweet record\n",
    "    elif r['lang']!='en':\n",
    "        return(False)  # Ingore non-English tweets\n",
    "    elif 'name' not in  r['user'] or 'id' not in r['user']:\n",
    "        return(False)  # Bad user record\n",
    "    elif not is_male(r['user']['name']) and not is_female(r['user']['name']):\n",
    "        return(False)  # Gender not conclusive\n",
    "    else:\n",
    "        return(True)"
   ]
  },
  {
   "cell_type": "code",
   "execution_count": 10,
   "metadata": {},
   "outputs": [],
   "source": [
    "def fetchsamples(n):\n",
    "  with open(DATAPATH+FILENAME, 'w') as fi:\n",
    "      url = \"https://stream.twitter.com/1.1/statuses/sample.json\"\n",
    "      parameters = []\n",
    "      response = twitterreq(url, \"GET\", parameters)\n",
    "      for i in tqdm(range(n)):\n",
    "          try:\n",
    "              while True:\n",
    "                  line = next(response)\n",
    "                  if (contains_required_info(json.loads(line.strip()))):\n",
    "                      break\n",
    "          except StopIteration:\n",
    "              print('Stopped after {} lines'.format(i))\n",
    "              break\n",
    "          fi.write(\"%s\\n\" % line.strip().decode('utf-8'))"
   ]
  },
  {
   "cell_type": "code",
   "execution_count": 11,
   "metadata": {},
   "outputs": [
    {
     "name": "stderr",
     "output_type": "stream",
     "text": [
      "100%|██████████| 3000/3000 [33:55<00:00,  1.97it/s] \n"
     ]
    }
   ],
   "source": [
    "fetchsamples(NSAMPLES)"
   ]
  }
 ],
 "metadata": {
  "kernelspec": {
   "display_name": "Python 3",
   "language": "python",
   "name": "python3"
  },
  "language_info": {
   "codemirror_mode": {
    "name": "ipython",
    "version": 3
   },
   "file_extension": ".py",
   "mimetype": "text/x-python",
   "name": "python",
   "nbconvert_exporter": "python",
   "pygments_lexer": "ipython3",
   "version": "3.6.7"
  }
 },
 "nbformat": 4,
 "nbformat_minor": 2
}
