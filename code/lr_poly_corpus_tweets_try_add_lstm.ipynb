{
 "cells": [
  {
   "cell_type": "code",
   "execution_count": 1,
   "metadata": {},
   "outputs": [],
   "source": [
    "COPY_DATA = False\n",
    "\n",
    "DATAPATH = '../data/'\n",
    "XFERPATH = '~/gdrive/twitgen/'  # To transfer files from Google Colab\n",
    "TRAIN_FNAME = 'embed_train_201906161241.csv'\n",
    "VALID_FNAME = 'embed_valid_201906161241.csv'\n",
    "TEST_FNAME = 'embed_test_201906161241.csv'\n",
    "LSTM_TRAIN_FNAME = 'activ_train_201907261114.csv'\n",
    "LSTM_VALID_FNAME = 'activ_valid_201907261114.csv'\n",
    "LSTM_TEST_FNAME = 'activ_test_201907261114.csv'\n",
    "MODEL_TYPE_ID = 'lrpl'"
   ]
  },
  {
   "cell_type": "code",
   "execution_count": 2,
   "metadata": {},
   "outputs": [],
   "source": [
    "train_from = XFERPATH + TRAIN_FNAME\n",
    "valid_from = XFERPATH + VALID_FNAME\n",
    "test_from = XFERPATH + TEST_FNAME\n",
    "lstm_train_from = XFERPATH + LSTM_TRAIN_FNAME\n",
    "lstm_valid_from = XFERPATH + LSTM_VALID_FNAME\n",
    "lstm_test_from = XFERPATH + LSTM_TEST_FNAME\n",
    "if COPY_DATA:\n",
    "    !cp $train_from $DATAPATH\n",
    "    !cp $valid_from $DATAPATH\n",
    "    !cp $test_from $DATAPATH\n",
    "    !cp $lstm_train_from $DATAPATH\n",
    "    !cp $lstm_valid_from $DATAPATH\n",
    "    !cp $lstm_test_from $DATAPATH"
   ]
  },
  {
   "cell_type": "code",
   "execution_count": 3,
   "metadata": {},
   "outputs": [],
   "source": [
    "from sklearn.linear_model import LogisticRegression\n",
    "from sklearn.preprocessing import PolynomialFeatures\n",
    "from sklearn.pipeline import Pipeline\n",
    "from sklearn.decomposition import PCA\n",
    "import pandas as pd\n",
    "import numpy as np\n",
    "from sklearn.metrics import confusion_matrix\n",
    "from sklearn.metrics import accuracy_score\n",
    "from sklearn.metrics import f1_score\n",
    "from sklearn.metrics import roc_curve, auc\n",
    "from statsmodels.stats.proportion import proportion_confint\n",
    "import matplotlib.pyplot as plt\n",
    "from datetime import datetime"
   ]
  },
  {
   "cell_type": "code",
   "execution_count": 4,
   "metadata": {},
   "outputs": [
    {
     "data": {
      "text/plain": [
       "'201907301515'"
      ]
     },
     "execution_count": 4,
     "metadata": {},
     "output_type": "execute_result"
    }
   ],
   "source": [
    "timestamp = datetime.now().strftime('%Y%m%d%H%M')\n",
    "timestamp"
   ]
  },
  {
   "cell_type": "code",
   "execution_count": 5,
   "metadata": {},
   "outputs": [
    {
     "data": {
      "text/html": [
       "<div>\n",
       "<style scoped>\n",
       "    .dataframe tbody tr th:only-of-type {\n",
       "        vertical-align: middle;\n",
       "    }\n",
       "\n",
       "    .dataframe tbody tr th {\n",
       "        vertical-align: top;\n",
       "    }\n",
       "\n",
       "    .dataframe thead th {\n",
       "        text-align: right;\n",
       "    }\n",
       "</style>\n",
       "<table border=\"1\" class=\"dataframe\">\n",
       "  <thead>\n",
       "    <tr style=\"text-align: right;\">\n",
       "      <th></th>\n",
       "      <th></th>\n",
       "      <th>male</th>\n",
       "      <th>embed0</th>\n",
       "      <th>embed1</th>\n",
       "      <th>embed2</th>\n",
       "      <th>embed3</th>\n",
       "      <th>embed4</th>\n",
       "      <th>embed5</th>\n",
       "    </tr>\n",
       "    <tr>\n",
       "      <th>id</th>\n",
       "      <th>time</th>\n",
       "      <th></th>\n",
       "      <th></th>\n",
       "      <th></th>\n",
       "      <th></th>\n",
       "      <th></th>\n",
       "      <th></th>\n",
       "      <th></th>\n",
       "    </tr>\n",
       "  </thead>\n",
       "  <tbody>\n",
       "    <tr>\n",
       "      <th>1083596943807393792</th>\n",
       "      <th>2019-05-27 23:27:08+00:00</th>\n",
       "      <td>True</td>\n",
       "      <td>-9031</td>\n",
       "      <td>78190</td>\n",
       "      <td>28476</td>\n",
       "      <td>15732</td>\n",
       "      <td>-3761</td>\n",
       "      <td>22135</td>\n",
       "    </tr>\n",
       "    <tr>\n",
       "      <th>815783987784187904</th>\n",
       "      <th>2019-05-24 15:36:01+00:00</th>\n",
       "      <td>False</td>\n",
       "      <td>-1787</td>\n",
       "      <td>-57509</td>\n",
       "      <td>29939</td>\n",
       "      <td>-32859</td>\n",
       "      <td>-20955</td>\n",
       "      <td>13103</td>\n",
       "    </tr>\n",
       "    <tr>\n",
       "      <th>3458239641</th>\n",
       "      <th>2019-05-24 19:00:37+00:00</th>\n",
       "      <td>False</td>\n",
       "      <td>-42708</td>\n",
       "      <td>-31384</td>\n",
       "      <td>17130</td>\n",
       "      <td>60833</td>\n",
       "      <td>11307</td>\n",
       "      <td>35467</td>\n",
       "    </tr>\n",
       "    <tr>\n",
       "      <th>1003729876250226688</th>\n",
       "      <th>2019-05-26 12:53:00+00:00</th>\n",
       "      <td>True</td>\n",
       "      <td>-5514</td>\n",
       "      <td>61646</td>\n",
       "      <td>16234</td>\n",
       "      <td>105381</td>\n",
       "      <td>-7119</td>\n",
       "      <td>-35271</td>\n",
       "    </tr>\n",
       "    <tr>\n",
       "      <th>2360143940</th>\n",
       "      <th>2019-05-28 03:50:46+00:00</th>\n",
       "      <td>False</td>\n",
       "      <td>6762</td>\n",
       "      <td>-16422</td>\n",
       "      <td>-36991</td>\n",
       "      <td>29061</td>\n",
       "      <td>37017</td>\n",
       "      <td>-27550</td>\n",
       "    </tr>\n",
       "  </tbody>\n",
       "</table>\n",
       "</div>"
      ],
      "text/plain": [
       "                                                male  embed0  embed1  embed2  \\\n",
       "id                  time                                                       \n",
       "1083596943807393792 2019-05-27 23:27:08+00:00   True   -9031   78190   28476   \n",
       "815783987784187904  2019-05-24 15:36:01+00:00  False   -1787  -57509   29939   \n",
       "3458239641          2019-05-24 19:00:37+00:00  False  -42708  -31384   17130   \n",
       "1003729876250226688 2019-05-26 12:53:00+00:00   True   -5514   61646   16234   \n",
       "2360143940          2019-05-28 03:50:46+00:00  False    6762  -16422  -36991   \n",
       "\n",
       "                                               embed3  embed4  embed5  \n",
       "id                  time                                               \n",
       "1083596943807393792 2019-05-27 23:27:08+00:00   15732   -3761   22135  \n",
       "815783987784187904  2019-05-24 15:36:01+00:00  -32859  -20955   13103  \n",
       "3458239641          2019-05-24 19:00:37+00:00   60833   11307   35467  \n",
       "1003729876250226688 2019-05-26 12:53:00+00:00  105381   -7119  -35271  \n",
       "2360143940          2019-05-28 03:50:46+00:00   29061   37017  -27550  "
      ]
     },
     "execution_count": 5,
     "metadata": {},
     "output_type": "execute_result"
    }
   ],
   "source": [
    "df_train = pd.read_csv(DATAPATH+TRAIN_FNAME, index_col=[0,1], parse_dates=['time'])\n",
    "df_valid = pd.read_csv(DATAPATH+VALID_FNAME, index_col=[0,1], parse_dates=['time'])\n",
    "df_test = pd.read_csv(DATAPATH+TEST_FNAME, index_col=[0,1], parse_dates=['time'])\n",
    "df_train.head().iloc[:,:7]"
   ]
  },
  {
   "cell_type": "code",
   "execution_count": 6,
   "metadata": {},
   "outputs": [],
   "source": [
    "# Remove duplicate index values\n",
    "def remove_dups(df):\n",
    "    return(df[~df.index.duplicated()])"
   ]
  },
  {
   "cell_type": "code",
   "execution_count": 7,
   "metadata": {},
   "outputs": [],
   "source": [
    "df_train = remove_dups(df_train)\n",
    "df_valid = remove_dups(df_valid)\n",
    "df_test = remove_dups(df_test)"
   ]
  },
  {
   "cell_type": "code",
   "execution_count": 8,
   "metadata": {},
   "outputs": [
    {
     "name": "stdout",
     "output_type": "stream",
     "text": [
      "(34115, 513) (10908, 513) (10441, 513)\n",
      "2019-05-21 17:50:48+00:00 2019-05-28 12:44:26+00:00\n",
      "2019-05-28 12:44:27+00:00 2019-05-30 12:09:54+00:00\n",
      "2019-05-30 12:10:02+00:00 2019-06-01 19:55:43+00:00\n"
     ]
    }
   ],
   "source": [
    "print(df_train.shape, df_valid.shape, df_test.shape)\n",
    "print(df_train.index.get_level_values(1).min(), df_train.index.get_level_values(1).max())\n",
    "print(df_valid.index.get_level_values(1).min(), df_valid.index.get_level_values(1).max())\n",
    "print(df_test.index.get_level_values(1).min(), df_test.index.get_level_values(1).max())"
   ]
  },
  {
   "cell_type": "code",
   "execution_count": 9,
   "metadata": {},
   "outputs": [
    {
     "data": {
      "text/html": [
       "<div>\n",
       "<style scoped>\n",
       "    .dataframe tbody tr th:only-of-type {\n",
       "        vertical-align: middle;\n",
       "    }\n",
       "\n",
       "    .dataframe tbody tr th {\n",
       "        vertical-align: top;\n",
       "    }\n",
       "\n",
       "    .dataframe thead th {\n",
       "        text-align: right;\n",
       "    }\n",
       "</style>\n",
       "<table border=\"1\" class=\"dataframe\">\n",
       "  <thead>\n",
       "    <tr style=\"text-align: right;\">\n",
       "      <th></th>\n",
       "      <th></th>\n",
       "      <th>male</th>\n",
       "      <th>activ0</th>\n",
       "      <th>activ1</th>\n",
       "      <th>activ2</th>\n",
       "      <th>activ3</th>\n",
       "      <th>activ4</th>\n",
       "      <th>activ5</th>\n",
       "    </tr>\n",
       "    <tr>\n",
       "      <th>id</th>\n",
       "      <th>time</th>\n",
       "      <th></th>\n",
       "      <th></th>\n",
       "      <th></th>\n",
       "      <th></th>\n",
       "      <th></th>\n",
       "      <th></th>\n",
       "      <th></th>\n",
       "    </tr>\n",
       "  </thead>\n",
       "  <tbody>\n",
       "    <tr>\n",
       "      <th>1083596943807393792</th>\n",
       "      <th>2019-05-27 23:27:08+00:00</th>\n",
       "      <td>True</td>\n",
       "      <td>-88660</td>\n",
       "      <td>-179010</td>\n",
       "      <td>-122969</td>\n",
       "      <td>86287</td>\n",
       "      <td>85738</td>\n",
       "      <td>-230103</td>\n",
       "    </tr>\n",
       "    <tr>\n",
       "      <th>815783987784187904</th>\n",
       "      <th>2019-05-24 15:36:01+00:00</th>\n",
       "      <td>False</td>\n",
       "      <td>24546</td>\n",
       "      <td>34365</td>\n",
       "      <td>30151</td>\n",
       "      <td>-30778</td>\n",
       "      <td>-102346</td>\n",
       "      <td>37726</td>\n",
       "    </tr>\n",
       "    <tr>\n",
       "      <th>3458239641</th>\n",
       "      <th>2019-05-24 19:00:37+00:00</th>\n",
       "      <td>False</td>\n",
       "      <td>10382</td>\n",
       "      <td>43310</td>\n",
       "      <td>-31917</td>\n",
       "      <td>-32257</td>\n",
       "      <td>-94097</td>\n",
       "      <td>-10748</td>\n",
       "    </tr>\n",
       "    <tr>\n",
       "      <th>1003729876250226688</th>\n",
       "      <th>2019-05-26 12:53:00+00:00</th>\n",
       "      <td>True</td>\n",
       "      <td>-58185</td>\n",
       "      <td>-141029</td>\n",
       "      <td>-130128</td>\n",
       "      <td>-8833</td>\n",
       "      <td>72594</td>\n",
       "      <td>-183613</td>\n",
       "    </tr>\n",
       "    <tr>\n",
       "      <th>2360143940</th>\n",
       "      <th>2019-05-28 03:50:46+00:00</th>\n",
       "      <td>False</td>\n",
       "      <td>-67848</td>\n",
       "      <td>-110605</td>\n",
       "      <td>-125555</td>\n",
       "      <td>-19150</td>\n",
       "      <td>32870</td>\n",
       "      <td>-139791</td>\n",
       "    </tr>\n",
       "  </tbody>\n",
       "</table>\n",
       "</div>"
      ],
      "text/plain": [
       "                                                male  activ0  activ1  activ2  \\\n",
       "id                  time                                                       \n",
       "1083596943807393792 2019-05-27 23:27:08+00:00   True  -88660 -179010 -122969   \n",
       "815783987784187904  2019-05-24 15:36:01+00:00  False   24546   34365   30151   \n",
       "3458239641          2019-05-24 19:00:37+00:00  False   10382   43310  -31917   \n",
       "1003729876250226688 2019-05-26 12:53:00+00:00   True  -58185 -141029 -130128   \n",
       "2360143940          2019-05-28 03:50:46+00:00  False  -67848 -110605 -125555   \n",
       "\n",
       "                                               activ3  activ4  activ5  \n",
       "id                  time                                               \n",
       "1083596943807393792 2019-05-27 23:27:08+00:00   86287   85738 -230103  \n",
       "815783987784187904  2019-05-24 15:36:01+00:00  -30778 -102346   37726  \n",
       "3458239641          2019-05-24 19:00:37+00:00  -32257  -94097  -10748  \n",
       "1003729876250226688 2019-05-26 12:53:00+00:00   -8833   72594 -183613  \n",
       "2360143940          2019-05-28 03:50:46+00:00  -19150   32870 -139791  "
      ]
     },
     "execution_count": 9,
     "metadata": {},
     "output_type": "execute_result"
    }
   ],
   "source": [
    "df_train_lstm = pd.read_csv(DATAPATH+LSTM_TRAIN_FNAME, index_col=[0,1], parse_dates=['time'])\n",
    "df_valid_lstm = pd.read_csv(DATAPATH+LSTM_VALID_FNAME, index_col=[0,1], parse_dates=['time'])\n",
    "df_test_lstm = pd.read_csv(DATAPATH+LSTM_TEST_FNAME, index_col=[0,1], parse_dates=['time'])\n",
    "df_train_lstm = remove_dups(df_train_lstm)\n",
    "df_valid_lstm = remove_dups(df_valid_lstm)\n",
    "df_test_lstm = remove_dups(df_test_lstm)\n",
    "df_train_lstm.head().iloc[:,:7]"
   ]
  },
  {
   "cell_type": "code",
   "execution_count": 10,
   "metadata": {},
   "outputs": [
    {
     "name": "stdout",
     "output_type": "stream",
     "text": [
      "(34115, 241) (10908, 241) (10441, 241)\n",
      "2019-05-21 17:50:48+00:00 2019-05-28 12:44:26+00:00\n",
      "2019-05-28 12:44:27+00:00 2019-05-30 12:09:54+00:00\n",
      "2019-05-30 12:10:02+00:00 2019-06-01 19:55:43+00:00\n"
     ]
    }
   ],
   "source": [
    "print(df_train_lstm.shape, df_valid_lstm.shape, df_test_lstm.shape)\n",
    "print(df_train_lstm.index.get_level_values(1).min(), df_train_lstm.index.get_level_values(1).max())\n",
    "print(df_valid_lstm.index.get_level_values(1).min(), df_valid_lstm.index.get_level_values(1).max())\n",
    "print(df_test_lstm.index.get_level_values(1).min(), df_test_lstm.index.get_level_values(1).max())"
   ]
  },
  {
   "cell_type": "code",
   "execution_count": 11,
   "metadata": {},
   "outputs": [
    {
     "data": {
      "text/plain": [
       "252.71324352145328"
      ]
     },
     "execution_count": 11,
     "metadata": {},
     "output_type": "execute_result"
    }
   ],
   "source": [
    "df_train.drop(['male'],axis=1).mean().mean()"
   ]
  },
  {
   "cell_type": "code",
   "execution_count": 12,
   "metadata": {},
   "outputs": [
    {
     "data": {
      "text/plain": [
       "13054.855856294884"
      ]
     },
     "execution_count": 12,
     "metadata": {},
     "output_type": "execute_result"
    }
   ],
   "source": [
    "df_train_lstm.drop(['male'],axis=1).mean().mean()"
   ]
  },
  {
   "cell_type": "code",
   "execution_count": 13,
   "metadata": {},
   "outputs": [],
   "source": [
    "scaledown = 7\n",
    "npc = 30"
   ]
  },
  {
   "cell_type": "code",
   "execution_count": 14,
   "metadata": {},
   "outputs": [
    {
     "data": {
      "text/plain": [
       "((34115, 753), (10908, 753), (10441, 753))"
      ]
     },
     "execution_count": 14,
     "metadata": {},
     "output_type": "execute_result"
    }
   ],
   "source": [
    "df_train_final = df_train.join(df_train_lstm.drop(['male'],axis=1)/scaledown, rsuffix='lstm')\n",
    "df_valid_final = df_valid.join(df_valid_lstm.drop(['male'],axis=1)/scaledown, rsuffix='lstm')\n",
    "df_test_final = df_test.join(df_test_lstm.drop(['male'],axis=1)/scaledown, rsuffix='lstm')\n",
    "df_train_final.shape, df_valid_final.shape, df_test_final.shape"
   ]
  },
  {
   "cell_type": "code",
   "execution_count": 15,
   "metadata": {},
   "outputs": [],
   "source": [
    "def getxy(df):\n",
    "    X = df.drop(['male'],axis=1).values / 1e6\n",
    "    y = 1*df.male.values\n",
    "    return(X, y)\n",
    "    \n",
    "X_train, y_train = getxy(df_train_final)\n",
    "X_valid, y_valid = getxy(df_valid_final)\n",
    "X_test, y_test = getxy(df_test_final)"
   ]
  },
  {
   "cell_type": "code",
   "execution_count": 16,
   "metadata": {},
   "outputs": [
    {
     "name": "stdout",
     "output_type": "stream",
     "text": [
      "[0.08414473 0.05967445 0.03490426 0.02504428 0.02347338 0.02197571\n",
      " 0.02083662 0.01858585 0.01835672 0.0169359  0.01591419 0.01494099\n",
      " 0.01417069 0.01397894 0.01338657 0.01276766 0.01234793 0.01184324\n",
      " 0.01165123 0.01146153 0.01107228 0.01065046 0.01016589 0.0099496\n",
      " 0.00984195 0.00953663 0.00913053 0.00900523 0.00868021 0.00844712\n",
      " 0.00817561 0.00810878 0.00779879 0.00776223 0.00757619 0.00744286\n",
      " 0.00729771 0.00719404 0.00710696 0.00705318 0.00683044 0.00669094\n",
      " 0.00654019 0.0064327  0.00633126 0.00609477 0.00601329 0.00594554\n",
      " 0.00588085 0.00581729 0.00573598 0.00552089 0.00546884 0.00540239\n",
      " 0.00536893 0.00529337 0.00522842 0.0051757  0.00508423 0.00500887\n",
      " 0.00484503 0.004806   0.00469307 0.00464216]\n"
     ]
    }
   ],
   "source": [
    "pca = PCA(64)\n",
    "pca.fit(X_train)\n",
    "print(pca.explained_variance_ratio_)"
   ]
  },
  {
   "cell_type": "code",
   "execution_count": 17,
   "metadata": {},
   "outputs": [
    {
     "name": "stderr",
     "output_type": "stream",
     "text": [
      "/home/andy/anaconda3/lib/python3.7/site-packages/sklearn/linear_model/logistic.py:433: FutureWarning: Default solver will be changed to 'lbfgs' in 0.22. Specify a solver to silence this warning.\n",
      "  FutureWarning)\n"
     ]
    }
   ],
   "source": [
    "model = Pipeline([('pca',  PCA(npc)),\n",
    "                  ('poly', PolynomialFeatures()),\n",
    "                  ('lr',   LogisticRegression(C=.08))])\n",
    "model = model.fit(X_train, y_train)"
   ]
  },
  {
   "cell_type": "code",
   "execution_count": 18,
   "metadata": {},
   "outputs": [],
   "source": [
    "def save_predictions(df, predictions, which_set):\n",
    "    pred_df = df[['male']].copy()\n",
    "    pred_df['pred'] = predictions\n",
    "    path = DATAPATH + MODEL_TYPE_ID + '_' + which_set + '_pred_' + timestamp + '.csv'\n",
    "    pred_df.to_csv(path)    "
   ]
  },
  {
   "cell_type": "code",
   "execution_count": 19,
   "metadata": {},
   "outputs": [
    {
     "data": {
      "text/plain": [
       "0.6940466120234519"
      ]
     },
     "execution_count": 19,
     "metadata": {},
     "output_type": "execute_result"
    }
   ],
   "source": [
    "y_train_pred = model.predict_proba(X_train)[:,1]\n",
    "save_predictions(df_train_final, y_train_pred, 'train')\n",
    "f1_score(y_train, y_train_pred>.5)"
   ]
  },
  {
   "cell_type": "code",
   "execution_count": 20,
   "metadata": {},
   "outputs": [
    {
     "name": "stdout",
     "output_type": "stream",
     "text": [
      "[[3382 2074]\n",
      " [1914 3538]]\n"
     ]
    },
    {
     "data": {
      "text/plain": [
       "0.6395516992046276"
      ]
     },
     "execution_count": 20,
     "metadata": {},
     "output_type": "execute_result"
    }
   ],
   "source": [
    "y_pred = model.predict_proba(X_valid)[:,1]\n",
    "save_predictions(df_valid_final, y_pred, 'valid')\n",
    "print( confusion_matrix(y_valid, (y_pred>.5)) )\n",
    "f1_score(y_valid, y_pred>.5)"
   ]
  },
  {
   "cell_type": "code",
   "execution_count": 21,
   "metadata": {},
   "outputs": [
    {
     "data": {
      "text/plain": [
       "0.6343967730106344"
      ]
     },
     "execution_count": 21,
     "metadata": {},
     "output_type": "execute_result"
    }
   ],
   "source": [
    "accuracy_score(y_valid, y_pred>.5)"
   ]
  },
  {
   "cell_type": "code",
   "execution_count": 22,
   "metadata": {},
   "outputs": [
    {
     "name": "stdout",
     "output_type": "stream",
     "text": [
      "[[3182 2038]\n",
      " [1882 3339]]\n"
     ]
    },
    {
     "data": {
      "text/plain": [
       "0.630118890356671"
      ]
     },
     "execution_count": 22,
     "metadata": {},
     "output_type": "execute_result"
    }
   ],
   "source": [
    "y_test_pred = model.predict_proba(X_test)[:,1]\n",
    "save_predictions(df_test_final, y_test_pred, 'test')\n",
    "print( confusion_matrix(y_test, (y_test_pred>.5)) )\n",
    "f1_score(y_test, y_test_pred>.5)"
   ]
  },
  {
   "cell_type": "code",
   "execution_count": 23,
   "metadata": {},
   "outputs": [
    {
     "data": {
      "text/plain": [
       "0.6245570347667848"
      ]
     },
     "execution_count": 23,
     "metadata": {},
     "output_type": "execute_result"
    }
   ],
   "source": [
    "accuracy_score(y_test, y_test_pred>.5)"
   ]
  },
  {
   "cell_type": "code",
   "execution_count": 24,
   "metadata": {},
   "outputs": [
    {
     "name": "stdout",
     "output_type": "stream",
     "text": [
      "Test set ROC AUC: 0.6766427542469586\n"
     ]
    },
    {
     "data": {
      "image/png": "[encoded data removed]",
      "text/plain": [
       "<Figure size 432x288 with 1 Axes>"
      ]
     },
     "metadata": {
      "needs_background": "light"
     },
     "output_type": "display_data"
    }
   ],
   "source": [
    "fpr, tpr, _ = roc_curve(y_test, y_test_pred)\n",
    "roc_auc = auc(fpr, tpr)\n",
    "\n",
    "plt.figure()\n",
    "plt.plot(fpr, tpr, color='darkorange',\n",
    "         lw=1, label='ROC curve (area = %0.3f)' % roc_auc)\n",
    "plt.plot([0, 1], [0, 1], color='navy', lw=1, linestyle='--')\n",
    "plt.xlim([0.0, 1.0])\n",
    "plt.ylim([0.0, 1.05])\n",
    "plt.xlabel('False Positive Rate')\n",
    "plt.ylabel('True Positive Rate')\n",
    "plt.title('Receiver operating characteristic curve')\n",
    "plt.legend(loc=\"lower right\")\n",
    "print('Test set ROC AUC: {}'.format(auc(fpr, tpr)))\n",
    "plt.show()"
   ]
  },
  {
   "cell_type": "code",
   "execution_count": 25,
   "metadata": {},
   "outputs": [
    {
     "data": {
      "image/png": "[encoded data removed]",
      "text/plain": [
       "<Figure size 432x288 with 1 Axes>"
      ]
     },
     "metadata": {
      "needs_background": "light"
     },
     "output_type": "display_data"
    }
   ],
   "source": [
    "pd.Series(y_test_pred).hist()\n",
    "plt.show()"
   ]
  },
  {
   "cell_type": "code",
   "execution_count": 26,
   "metadata": {},
   "outputs": [
    {
     "data": {
      "text/html": [
       "<div>\n",
       "<style scoped>\n",
       "    .dataframe tbody tr th:only-of-type {\n",
       "        vertical-align: middle;\n",
       "    }\n",
       "\n",
       "    .dataframe tbody tr th {\n",
       "        vertical-align: top;\n",
       "    }\n",
       "\n",
       "    .dataframe thead th {\n",
       "        text-align: right;\n",
       "    }\n",
       "</style>\n",
       "<table border=\"1\" class=\"dataframe\">\n",
       "  <thead>\n",
       "    <tr style=\"text-align: right;\">\n",
       "      <th></th>\n",
       "      <th></th>\n",
       "      <th>count</th>\n",
       "      <th>accuracy</th>\n",
       "      <th>lconf95</th>\n",
       "      <th>hconf95</th>\n",
       "    </tr>\n",
       "    <tr>\n",
       "      <th>minprob</th>\n",
       "      <th>maxprob</th>\n",
       "      <th></th>\n",
       "      <th></th>\n",
       "      <th></th>\n",
       "      <th></th>\n",
       "    </tr>\n",
       "  </thead>\n",
       "  <tbody>\n",
       "    <tr>\n",
       "      <th>0.0</th>\n",
       "      <th>0.1</th>\n",
       "      <td>195</td>\n",
       "      <td>0.871795</td>\n",
       "      <td>0.824871</td>\n",
       "      <td>0.918718</td>\n",
       "    </tr>\n",
       "    <tr>\n",
       "      <th>0.1</th>\n",
       "      <th>0.2</th>\n",
       "      <td>687</td>\n",
       "      <td>0.775837</td>\n",
       "      <td>0.744653</td>\n",
       "      <td>0.807021</td>\n",
       "    </tr>\n",
       "    <tr>\n",
       "      <th>0.2</th>\n",
       "      <th>0.3</th>\n",
       "      <td>1115</td>\n",
       "      <td>0.679821</td>\n",
       "      <td>0.652436</td>\n",
       "      <td>0.707205</td>\n",
       "    </tr>\n",
       "    <tr>\n",
       "      <th>0.3</th>\n",
       "      <th>0.4</th>\n",
       "      <td>1409</td>\n",
       "      <td>0.596877</td>\n",
       "      <td>0.571265</td>\n",
       "      <td>0.622490</td>\n",
       "    </tr>\n",
       "    <tr>\n",
       "      <th>0.4</th>\n",
       "      <th>0.5</th>\n",
       "      <td>1658</td>\n",
       "      <td>0.530760</td>\n",
       "      <td>0.506738</td>\n",
       "      <td>0.554782</td>\n",
       "    </tr>\n",
       "    <tr>\n",
       "      <th>0.5</th>\n",
       "      <th>0.6</th>\n",
       "      <td>1748</td>\n",
       "      <td>0.536613</td>\n",
       "      <td>0.513237</td>\n",
       "      <td>0.559990</td>\n",
       "    </tr>\n",
       "    <tr>\n",
       "      <th>0.6</th>\n",
       "      <th>0.7</th>\n",
       "      <td>1473</td>\n",
       "      <td>0.573659</td>\n",
       "      <td>0.548404</td>\n",
       "      <td>0.598914</td>\n",
       "    </tr>\n",
       "    <tr>\n",
       "      <th>0.7</th>\n",
       "      <th>0.8</th>\n",
       "      <td>1113</td>\n",
       "      <td>0.658580</td>\n",
       "      <td>0.630722</td>\n",
       "      <td>0.686438</td>\n",
       "    </tr>\n",
       "    <tr>\n",
       "      <th>0.8</th>\n",
       "      <th>0.9</th>\n",
       "      <td>704</td>\n",
       "      <td>0.747159</td>\n",
       "      <td>0.715053</td>\n",
       "      <td>0.779266</td>\n",
       "    </tr>\n",
       "    <tr>\n",
       "      <th>0.9</th>\n",
       "      <th>1.0</th>\n",
       "      <td>339</td>\n",
       "      <td>0.876106</td>\n",
       "      <td>0.841035</td>\n",
       "      <td>0.911177</td>\n",
       "    </tr>\n",
       "  </tbody>\n",
       "</table>\n",
       "</div>"
      ],
      "text/plain": [
       "                count  accuracy   lconf95   hconf95\n",
       "minprob maxprob                                    \n",
       "0.0     0.1       195  0.871795  0.824871  0.918718\n",
       "0.1     0.2       687  0.775837  0.744653  0.807021\n",
       "0.2     0.3      1115  0.679821  0.652436  0.707205\n",
       "0.3     0.4      1409  0.596877  0.571265  0.622490\n",
       "0.4     0.5      1658  0.530760  0.506738  0.554782\n",
       "0.5     0.6      1748  0.536613  0.513237  0.559990\n",
       "0.6     0.7      1473  0.573659  0.548404  0.598914\n",
       "0.7     0.8      1113  0.658580  0.630722  0.686438\n",
       "0.8     0.9       704  0.747159  0.715053  0.779266\n",
       "0.9     1.0       339  0.876106  0.841035  0.911177"
      ]
     },
     "execution_count": 26,
     "metadata": {},
     "output_type": "execute_result"
    }
   ],
   "source": [
    "df_acc = pd.DataFrame(columns=['minprob','maxprob','count','accuracy','lconf95','hconf95'])\n",
    "for pbot in np.linspace(0,.9,10):\n",
    "    ptop = pbot+.1\n",
    "    mask = (y_test_pred>=pbot)&(y_test_pred<ptop)\n",
    "    count = int(mask.sum())\n",
    "    if count>0:\n",
    "        actual = pd.Series(y_test)[mask].values\n",
    "        pred_prob = pd.Series(y_test_pred)[mask].values\n",
    "        pred_bin = pred_prob>.5\n",
    "        acc = accuracy_score(actual, pred_bin)\n",
    "        nsucc = sum(actual==pred_bin)\n",
    "        confint = proportion_confint(nsucc, count)\n",
    "        minconf = confint[0]\n",
    "        maxconf = confint[1]\n",
    "    else:\n",
    "        acc = np.nan\n",
    "        minconf = np.nan\n",
    "        maxconf = np.nan\n",
    "    row = pd.DataFrame({'minprob':[pbot], 'maxprob':[ptop], 'count':[count], \n",
    "                        'accuracy':[acc], 'lconf95':[minconf], 'hconf95':[maxconf]})\n",
    "    df_acc = pd.concat([df_acc, row], sort=False)\n",
    "df_acc.set_index(['minprob','maxprob'])"
   ]
  },
  {
   "cell_type": "code",
   "execution_count": 27,
   "metadata": {},
   "outputs": [
    {
     "data": {
      "image/png": "[encoded data removed]",
      "text/plain": [
       "<Figure size 432x288 with 1 Axes>"
      ]
     },
     "metadata": {
      "needs_background": "light"
     },
     "output_type": "display_data"
    }
   ],
   "source": [
    "df_acc['avgprob'] = .5*(df_acc.minprob+df_acc.maxprob)\n",
    "ax = df_acc.drop(['count','minprob','maxprob'],axis=1).set_index('avgprob').plot(\n",
    "        title='Accuracy of Predictions by Range')\n",
    "ax.legend(labels=['accuracy', '95% conf, lower', '95% conf, upper'])\n",
    "ax.set(xlabel=\"center of probability bin\", ylabel=\"fraction of correct predicitons\")\n",
    "plt.show()"
   ]
  },
  {
   "cell_type": "code",
   "execution_count": 28,
   "metadata": {},
   "outputs": [
    {
     "data": {
      "text/plain": [
       "['../data/lrpl_model_201907301515.joblib']"
      ]
     },
     "execution_count": 28,
     "metadata": {},
     "output_type": "execute_result"
    }
   ],
   "source": [
    "from joblib import dump\n",
    "model_path = DATAPATH + MODEL_TYPE_ID + '_model_' + timestamp + '.joblib'\n",
    "dump(model, model_path)"
   ]
  },
  {
   "cell_type": "code",
   "execution_count": null,
   "metadata": {},
   "outputs": [],
   "source": []
  }
 ],
 "metadata": {
  "kernelspec": {
   "display_name": "Python 3",
   "language": "python",
   "name": "python3"
  },
  "language_info": {
   "codemirror_mode": {
    "name": "ipython",
    "version": 3
   },
   "file_extension": ".py",
   "mimetype": "text/x-python",
   "name": "python",
   "nbconvert_exporter": "python",
   "pygments_lexer": "ipython3",
   "version": "3.7.3"
  }
 },
 "nbformat": 4,
 "nbformat_minor": 2
}
