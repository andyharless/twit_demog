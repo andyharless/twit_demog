{
 "cells": [
  {
   "cell_type": "code",
   "execution_count": 1,
   "metadata": {},
   "outputs": [],
   "source": [
    "COPY_DATA = False\n",
    "\n",
    "DATAPATH = '../data/'\n",
    "XFERPATH = '~/gdrive/twitgen/'  # To transfer files from Google Colab\n",
    "TRAIN_FNAME = 'embed_train_201906161241.csv'\n",
    "VALID_FNAME = 'embed_valid_201906161241.csv'\n",
    "TEST_FNAME = 'embed_test_201906161241.csv'\n",
    "LSTM_TRAIN_FNAME = 'activ_train_201907032046.csv'\n",
    "LSTM_VALID_FNAME = 'activ_valid_201907032046.csv'\n",
    "LSTM_TEST_FNAME = 'activ_test_201907032046.csv'\n",
    "MODEL_TYPE_ID = 'lrpl'"
   ]
  },
  {
   "cell_type": "code",
   "execution_count": 2,
   "metadata": {},
   "outputs": [],
   "source": [
    "train_from = XFERPATH + TRAIN_FNAME\n",
    "valid_from = XFERPATH + VALID_FNAME\n",
    "test_from = XFERPATH + TEST_FNAME\n",
    "lstm_train_from = XFERPATH + LSTM_TRAIN_FNAME\n",
    "lstm_valid_from = XFERPATH + LSTM_VALID_FNAME\n",
    "lstm_test_from = XFERPATH + LSTM_TEST_FNAME\n",
    "if COPY_DATA:\n",
    "    !cp $train_from $DATAPATH\n",
    "    !cp $valid_from $DATAPATH\n",
    "    !cp $test_from $DATAPATH\n",
    "    !cp $lstm_train_from $DATAPATH\n",
    "    !cp $lstm_valid_from $DATAPATH\n",
    "    !cp $lstm_test_from $DATAPATH"
   ]
  },
  {
   "cell_type": "code",
   "execution_count": 3,
   "metadata": {},
   "outputs": [],
   "source": [
    "from sklearn.linear_model import LogisticRegression\n",
    "from sklearn.preprocessing import PolynomialFeatures\n",
    "from sklearn.pipeline import Pipeline\n",
    "from sklearn.decomposition import PCA\n",
    "import pandas as pd\n",
    "import numpy as np\n",
    "from sklearn.metrics import confusion_matrix\n",
    "from sklearn.metrics import accuracy_score\n",
    "from sklearn.metrics import f1_score\n",
    "from sklearn.metrics import roc_curve, auc\n",
    "import matplotlib.pyplot as plt\n",
    "from datetime import datetime"
   ]
  },
  {
   "cell_type": "code",
   "execution_count": 4,
   "metadata": {},
   "outputs": [
    {
     "data": {
      "text/plain": [
       "'201907101744'"
      ]
     },
     "execution_count": 4,
     "metadata": {},
     "output_type": "execute_result"
    }
   ],
   "source": [
    "timestamp = datetime.now().strftime('%Y%m%d%H%M')\n",
    "timestamp"
   ]
  },
  {
   "cell_type": "code",
   "execution_count": 5,
   "metadata": {},
   "outputs": [
    {
     "data": {
      "text/html": [
       "<div>\n",
       "<style scoped>\n",
       "    .dataframe tbody tr th:only-of-type {\n",
       "        vertical-align: middle;\n",
       "    }\n",
       "\n",
       "    .dataframe tbody tr th {\n",
       "        vertical-align: top;\n",
       "    }\n",
       "\n",
       "    .dataframe thead th {\n",
       "        text-align: right;\n",
       "    }\n",
       "</style>\n",
       "<table border=\"1\" class=\"dataframe\">\n",
       "  <thead>\n",
       "    <tr style=\"text-align: right;\">\n",
       "      <th></th>\n",
       "      <th></th>\n",
       "      <th>male</th>\n",
       "      <th>embed0</th>\n",
       "      <th>embed1</th>\n",
       "      <th>embed2</th>\n",
       "      <th>embed3</th>\n",
       "      <th>embed4</th>\n",
       "      <th>embed5</th>\n",
       "    </tr>\n",
       "    <tr>\n",
       "      <th>id</th>\n",
       "      <th>time</th>\n",
       "      <th></th>\n",
       "      <th></th>\n",
       "      <th></th>\n",
       "      <th></th>\n",
       "      <th></th>\n",
       "      <th></th>\n",
       "      <th></th>\n",
       "    </tr>\n",
       "  </thead>\n",
       "  <tbody>\n",
       "    <tr>\n",
       "      <th>1083596943807393792</th>\n",
       "      <th>2019-05-27 23:27:08+00:00</th>\n",
       "      <td>True</td>\n",
       "      <td>-9031</td>\n",
       "      <td>78190</td>\n",
       "      <td>28476</td>\n",
       "      <td>15732</td>\n",
       "      <td>-3761</td>\n",
       "      <td>22135</td>\n",
       "    </tr>\n",
       "    <tr>\n",
       "      <th>815783987784187904</th>\n",
       "      <th>2019-05-24 15:36:01+00:00</th>\n",
       "      <td>False</td>\n",
       "      <td>-1787</td>\n",
       "      <td>-57509</td>\n",
       "      <td>29939</td>\n",
       "      <td>-32859</td>\n",
       "      <td>-20955</td>\n",
       "      <td>13103</td>\n",
       "    </tr>\n",
       "    <tr>\n",
       "      <th>3458239641</th>\n",
       "      <th>2019-05-24 19:00:37+00:00</th>\n",
       "      <td>False</td>\n",
       "      <td>-42708</td>\n",
       "      <td>-31384</td>\n",
       "      <td>17130</td>\n",
       "      <td>60833</td>\n",
       "      <td>11307</td>\n",
       "      <td>35467</td>\n",
       "    </tr>\n",
       "    <tr>\n",
       "      <th>1003729876250226688</th>\n",
       "      <th>2019-05-26 12:53:00+00:00</th>\n",
       "      <td>True</td>\n",
       "      <td>-5514</td>\n",
       "      <td>61646</td>\n",
       "      <td>16234</td>\n",
       "      <td>105381</td>\n",
       "      <td>-7119</td>\n",
       "      <td>-35271</td>\n",
       "    </tr>\n",
       "    <tr>\n",
       "      <th>2360143940</th>\n",
       "      <th>2019-05-28 03:50:46+00:00</th>\n",
       "      <td>False</td>\n",
       "      <td>6762</td>\n",
       "      <td>-16422</td>\n",
       "      <td>-36991</td>\n",
       "      <td>29061</td>\n",
       "      <td>37017</td>\n",
       "      <td>-27550</td>\n",
       "    </tr>\n",
       "  </tbody>\n",
       "</table>\n",
       "</div>"
      ],
      "text/plain": [
       "                                                male  embed0  embed1  embed2  \\\n",
       "id                  time                                                       \n",
       "1083596943807393792 2019-05-27 23:27:08+00:00   True   -9031   78190   28476   \n",
       "815783987784187904  2019-05-24 15:36:01+00:00  False   -1787  -57509   29939   \n",
       "3458239641          2019-05-24 19:00:37+00:00  False  -42708  -31384   17130   \n",
       "1003729876250226688 2019-05-26 12:53:00+00:00   True   -5514   61646   16234   \n",
       "2360143940          2019-05-28 03:50:46+00:00  False    6762  -16422  -36991   \n",
       "\n",
       "                                               embed3  embed4  embed5  \n",
       "id                  time                                               \n",
       "1083596943807393792 2019-05-27 23:27:08+00:00   15732   -3761   22135  \n",
       "815783987784187904  2019-05-24 15:36:01+00:00  -32859  -20955   13103  \n",
       "3458239641          2019-05-24 19:00:37+00:00   60833   11307   35467  \n",
       "1003729876250226688 2019-05-26 12:53:00+00:00  105381   -7119  -35271  \n",
       "2360143940          2019-05-28 03:50:46+00:00   29061   37017  -27550  "
      ]
     },
     "execution_count": 5,
     "metadata": {},
     "output_type": "execute_result"
    }
   ],
   "source": [
    "df_train = pd.read_csv(DATAPATH+TRAIN_FNAME, index_col=[0,1], parse_dates=['time'])\n",
    "df_valid = pd.read_csv(DATAPATH+VALID_FNAME, index_col=[0,1], parse_dates=['time'])\n",
    "df_test = pd.read_csv(DATAPATH+TEST_FNAME, index_col=[0,1], parse_dates=['time'])\n",
    "df_train.head().iloc[:,:7]"
   ]
  },
  {
   "cell_type": "code",
   "execution_count": 6,
   "metadata": {},
   "outputs": [
    {
     "name": "stdout",
     "output_type": "stream",
     "text": [
      "(34146, 513) (10914, 513) (10450, 513)\n",
      "2019-05-21 17:50:48+00:00 2019-05-28 12:44:26+00:00\n",
      "2019-05-28 12:44:27+00:00 2019-05-30 12:09:54+00:00\n",
      "2019-05-30 12:10:02+00:00 2019-06-01 19:55:43+00:00\n"
     ]
    }
   ],
   "source": [
    "print(df_train.shape, df_valid.shape, df_test.shape)\n",
    "print(df_train.index.get_level_values(1).min(), df_train.index.get_level_values(1).max())\n",
    "print(df_valid.index.get_level_values(1).min(), df_valid.index.get_level_values(1).max())\n",
    "print(df_test.index.get_level_values(1).min(), df_test.index.get_level_values(1).max())"
   ]
  },
  {
   "cell_type": "code",
   "execution_count": 7,
   "metadata": {},
   "outputs": [
    {
     "data": {
      "text/html": [
       "<div>\n",
       "<style scoped>\n",
       "    .dataframe tbody tr th:only-of-type {\n",
       "        vertical-align: middle;\n",
       "    }\n",
       "\n",
       "    .dataframe tbody tr th {\n",
       "        vertical-align: top;\n",
       "    }\n",
       "\n",
       "    .dataframe thead th {\n",
       "        text-align: right;\n",
       "    }\n",
       "</style>\n",
       "<table border=\"1\" class=\"dataframe\">\n",
       "  <thead>\n",
       "    <tr style=\"text-align: right;\">\n",
       "      <th></th>\n",
       "      <th></th>\n",
       "      <th>male</th>\n",
       "      <th>activ0</th>\n",
       "      <th>activ1</th>\n",
       "      <th>activ2</th>\n",
       "      <th>activ3</th>\n",
       "      <th>activ4</th>\n",
       "      <th>activ5</th>\n",
       "    </tr>\n",
       "    <tr>\n",
       "      <th>id</th>\n",
       "      <th>time</th>\n",
       "      <th></th>\n",
       "      <th></th>\n",
       "      <th></th>\n",
       "      <th></th>\n",
       "      <th></th>\n",
       "      <th></th>\n",
       "      <th></th>\n",
       "    </tr>\n",
       "  </thead>\n",
       "  <tbody>\n",
       "    <tr>\n",
       "      <th>1083596943807393792</th>\n",
       "      <th>2019-05-27 23:27:08+00:00</th>\n",
       "      <td>True</td>\n",
       "      <td>208329</td>\n",
       "      <td>272917</td>\n",
       "      <td>-232952</td>\n",
       "      <td>361499</td>\n",
       "      <td>114593</td>\n",
       "      <td>-280181</td>\n",
       "    </tr>\n",
       "    <tr>\n",
       "      <th>815783987784187904</th>\n",
       "      <th>2019-05-24 15:36:01+00:00</th>\n",
       "      <td>False</td>\n",
       "      <td>-17652</td>\n",
       "      <td>-21131</td>\n",
       "      <td>65560</td>\n",
       "      <td>-60671</td>\n",
       "      <td>-35859</td>\n",
       "      <td>85437</td>\n",
       "    </tr>\n",
       "    <tr>\n",
       "      <th>3458239641</th>\n",
       "      <th>2019-05-24 19:00:37+00:00</th>\n",
       "      <td>False</td>\n",
       "      <td>-10612</td>\n",
       "      <td>8708</td>\n",
       "      <td>56736</td>\n",
       "      <td>-36488</td>\n",
       "      <td>-57626</td>\n",
       "      <td>103292</td>\n",
       "    </tr>\n",
       "    <tr>\n",
       "      <th>1003729876250226688</th>\n",
       "      <th>2019-05-26 12:53:00+00:00</th>\n",
       "      <td>True</td>\n",
       "      <td>115526</td>\n",
       "      <td>234496</td>\n",
       "      <td>-143965</td>\n",
       "      <td>274234</td>\n",
       "      <td>73038</td>\n",
       "      <td>-176876</td>\n",
       "    </tr>\n",
       "    <tr>\n",
       "      <th>2360143940</th>\n",
       "      <th>2019-05-28 03:50:46+00:00</th>\n",
       "      <td>False</td>\n",
       "      <td>103081</td>\n",
       "      <td>143957</td>\n",
       "      <td>-113044</td>\n",
       "      <td>186899</td>\n",
       "      <td>56687</td>\n",
       "      <td>39322</td>\n",
       "    </tr>\n",
       "  </tbody>\n",
       "</table>\n",
       "</div>"
      ],
      "text/plain": [
       "                                                male  activ0  activ1  activ2  \\\n",
       "id                  time                                                       \n",
       "1083596943807393792 2019-05-27 23:27:08+00:00   True  208329  272917 -232952   \n",
       "815783987784187904  2019-05-24 15:36:01+00:00  False  -17652  -21131   65560   \n",
       "3458239641          2019-05-24 19:00:37+00:00  False  -10612    8708   56736   \n",
       "1003729876250226688 2019-05-26 12:53:00+00:00   True  115526  234496 -143965   \n",
       "2360143940          2019-05-28 03:50:46+00:00  False  103081  143957 -113044   \n",
       "\n",
       "                                               activ3  activ4  activ5  \n",
       "id                  time                                               \n",
       "1083596943807393792 2019-05-27 23:27:08+00:00  361499  114593 -280181  \n",
       "815783987784187904  2019-05-24 15:36:01+00:00  -60671  -35859   85437  \n",
       "3458239641          2019-05-24 19:00:37+00:00  -36488  -57626  103292  \n",
       "1003729876250226688 2019-05-26 12:53:00+00:00  274234   73038 -176876  \n",
       "2360143940          2019-05-28 03:50:46+00:00  186899   56687   39322  "
      ]
     },
     "execution_count": 7,
     "metadata": {},
     "output_type": "execute_result"
    }
   ],
   "source": [
    "df_train_lstm = pd.read_csv(DATAPATH+LSTM_TRAIN_FNAME, index_col=[0,1], parse_dates=['time'])\n",
    "df_valid_lstm = pd.read_csv(DATAPATH+LSTM_VALID_FNAME, index_col=[0,1], parse_dates=['time'])\n",
    "df_test_lstm = pd.read_csv(DATAPATH+LSTM_TEST_FNAME, index_col=[0,1], parse_dates=['time'])\n",
    "df_train_lstm.head().iloc[:,:7]"
   ]
  },
  {
   "cell_type": "code",
   "execution_count": 8,
   "metadata": {},
   "outputs": [
    {
     "name": "stdout",
     "output_type": "stream",
     "text": [
      "(34146, 241) (10914, 241) (10450, 241)\n",
      "2019-05-21 17:50:48+00:00 2019-05-28 12:44:26+00:00\n",
      "2019-05-28 12:44:27+00:00 2019-05-30 12:09:54+00:00\n",
      "2019-05-30 12:10:02+00:00 2019-06-01 19:55:43+00:00\n"
     ]
    }
   ],
   "source": [
    "print(df_train_lstm.shape, df_valid_lstm.shape, df_test_lstm.shape)\n",
    "print(df_train_lstm.index.get_level_values(1).min(), df_train_lstm.index.get_level_values(1).max())\n",
    "print(df_valid_lstm.index.get_level_values(1).min(), df_valid_lstm.index.get_level_values(1).max())\n",
    "print(df_test_lstm.index.get_level_values(1).min(), df_test_lstm.index.get_level_values(1).max())"
   ]
  },
  {
   "cell_type": "code",
   "execution_count": 9,
   "metadata": {},
   "outputs": [
    {
     "data": {
      "text/plain": [
       "252.62822392035346"
      ]
     },
     "execution_count": 9,
     "metadata": {},
     "output_type": "execute_result"
    }
   ],
   "source": [
    "df_train.drop(['male'],axis=1).mean().mean()"
   ]
  },
  {
   "cell_type": "code",
   "execution_count": 10,
   "metadata": {},
   "outputs": [
    {
     "data": {
      "text/plain": [
       "16982.058741507055"
      ]
     },
     "execution_count": 10,
     "metadata": {},
     "output_type": "execute_result"
    }
   ],
   "source": [
    "df_train_lstm.drop(['male'],axis=1).mean().mean()"
   ]
  },
  {
   "cell_type": "code",
   "execution_count": 11,
   "metadata": {},
   "outputs": [],
   "source": [
    "scaledown = 7\n",
    "npc = 30"
   ]
  },
  {
   "cell_type": "code",
   "execution_count": 12,
   "metadata": {},
   "outputs": [
    {
     "data": {
      "text/plain": [
       "((34210, 753), (10926, 753), (10468, 753))"
      ]
     },
     "execution_count": 12,
     "metadata": {},
     "output_type": "execute_result"
    }
   ],
   "source": [
    "df_train_final = df_train.join(df_train_lstm.drop(['male'],axis=1)/scaledown, rsuffix='lstm')\n",
    "df_valid_final = df_valid.join(df_valid_lstm.drop(['male'],axis=1)/scaledown, rsuffix='lstm')\n",
    "df_test_final = df_test.join(df_test_lstm.drop(['male'],axis=1)/scaledown, rsuffix='lstm')\n",
    "df_train_final.shape, df_valid_final.shape, df_test_final.shape"
   ]
  },
  {
   "cell_type": "code",
   "execution_count": 13,
   "metadata": {},
   "outputs": [],
   "source": [
    "def getxy(df):\n",
    "    X = df.drop(['male'],axis=1).values / 1e6\n",
    "    y = 1*df.male.values\n",
    "    return(X, y)\n",
    "    \n",
    "X_train, y_train = getxy(df_train_final)\n",
    "X_valid, y_valid = getxy(df_valid_final)\n",
    "X_test, y_test = getxy(df_test_final)"
   ]
  },
  {
   "cell_type": "code",
   "execution_count": 14,
   "metadata": {},
   "outputs": [
    {
     "name": "stdout",
     "output_type": "stream",
     "text": [
      "[0.07983388 0.06030922 0.03426421 0.02523611 0.02366964 0.02220967\n",
      " 0.0208101  0.0187212  0.01829029 0.01693587 0.01594814 0.01502276\n",
      " 0.01432944 0.01403678 0.01346281 0.01273368 0.01247834 0.01202509\n",
      " 0.01156475 0.01134987 0.01122996 0.01076806 0.01024252 0.00995816\n",
      " 0.00986125 0.00961738 0.00920105 0.00907114 0.00862213 0.00849038\n",
      " 0.00823527 0.00814717 0.00788659 0.00781772 0.00762074 0.00751277\n",
      " 0.00731362 0.00724109 0.00717297 0.00711817 0.00690384 0.00674569\n",
      " 0.00655441 0.00650357 0.00635286 0.00614301 0.00602186 0.00599983\n",
      " 0.00590171 0.00582297 0.00573262 0.00558059 0.00553714 0.00543464\n",
      " 0.00536382 0.00531075 0.00528039 0.00521782 0.00514724 0.00503769\n",
      " 0.00490968 0.00489929 0.00478587 0.00471153]\n"
     ]
    }
   ],
   "source": [
    "pca = PCA(64)\n",
    "pca.fit(X_train)\n",
    "print(pca.explained_variance_ratio_)"
   ]
  },
  {
   "cell_type": "code",
   "execution_count": 15,
   "metadata": {},
   "outputs": [
    {
     "name": "stderr",
     "output_type": "stream",
     "text": [
      "/home/andy/anaconda3/lib/python3.7/site-packages/sklearn/linear_model/logistic.py:433: FutureWarning: Default solver will be changed to 'lbfgs' in 0.22. Specify a solver to silence this warning.\n",
      "  FutureWarning)\n"
     ]
    }
   ],
   "source": [
    "model = Pipeline([('pca',  PCA(npc)),\n",
    "                  ('poly', PolynomialFeatures()),\n",
    "                  ('lr',   LogisticRegression(C=.08))])\n",
    "model = model.fit(X_train, y_train)"
   ]
  },
  {
   "cell_type": "code",
   "execution_count": 16,
   "metadata": {},
   "outputs": [],
   "source": [
    "def save_predictions(df, predictions, which_set):\n",
    "    pred_df = df[['male']].copy()\n",
    "    pred_df['pred'] = predictions\n",
    "    path = DATAPATH + MODEL_TYPE_ID + '_' + which_set + '_pred_' + timestamp + '.csv'\n",
    "    pred_df.to_csv(path)    "
   ]
  },
  {
   "cell_type": "code",
   "execution_count": 17,
   "metadata": {},
   "outputs": [
    {
     "data": {
      "text/plain": [
       "0.6908299255685328"
      ]
     },
     "execution_count": 17,
     "metadata": {},
     "output_type": "execute_result"
    }
   ],
   "source": [
    "y_train_pred = model.predict_proba(X_train)[:,1]\n",
    "save_predictions(df_train_final, y_train_pred, 'train')\n",
    "f1_score(y_train, y_train_pred>.5)"
   ]
  },
  {
   "cell_type": "code",
   "execution_count": 18,
   "metadata": {},
   "outputs": [
    {
     "name": "stdout",
     "output_type": "stream",
     "text": [
      "[[3430 2029]\n",
      " [1975 3492]]\n"
     ]
    },
    {
     "data": {
      "text/plain": [
       "0.6356024754277394"
      ]
     },
     "execution_count": 18,
     "metadata": {},
     "output_type": "execute_result"
    }
   ],
   "source": [
    "y_pred = model.predict_proba(X_valid)[:,1]\n",
    "save_predictions(df_valid_final, y_pred, 'valid')\n",
    "print( confusion_matrix(y_valid, (y_pred>.5)) )\n",
    "f1_score(y_valid, y_pred>.5)"
   ]
  },
  {
   "cell_type": "code",
   "execution_count": 19,
   "metadata": {},
   "outputs": [
    {
     "data": {
      "text/plain": [
       "0.633534687900421"
      ]
     },
     "execution_count": 19,
     "metadata": {},
     "output_type": "execute_result"
    }
   ],
   "source": [
    "accuracy_score(y_valid, y_pred>.5)"
   ]
  },
  {
   "cell_type": "code",
   "execution_count": 20,
   "metadata": {},
   "outputs": [
    {
     "name": "stdout",
     "output_type": "stream",
     "text": [
      "[[3241 1994]\n",
      " [1917 3316]]\n"
     ]
    },
    {
     "data": {
      "text/plain": [
       "0.6290429668974676"
      ]
     },
     "execution_count": 20,
     "metadata": {},
     "output_type": "execute_result"
    }
   ],
   "source": [
    "y_test_pred = model.predict_proba(X_test)[:,1]\n",
    "save_predictions(df_test_final, y_test_pred, 'test')\n",
    "print( confusion_matrix(y_test, (y_test_pred>.5)) )\n",
    "f1_score(y_test, y_test_pred>.5)"
   ]
  },
  {
   "cell_type": "code",
   "execution_count": 21,
   "metadata": {},
   "outputs": [
    {
     "data": {
      "text/plain": [
       "0.6263851738632021"
      ]
     },
     "execution_count": 21,
     "metadata": {},
     "output_type": "execute_result"
    }
   ],
   "source": [
    "accuracy_score(y_test, y_test_pred>.5)"
   ]
  },
  {
   "cell_type": "code",
   "execution_count": 22,
   "metadata": {},
   "outputs": [
    {
     "name": "stdout",
     "output_type": "stream",
     "text": [
      "Test set ROC AUC: 0.6773698286405554\n"
     ]
    },
    {
     "data": {
      "image/png": "[encoded data removed]",
      "text/plain": [
       "<Figure size 432x288 with 1 Axes>"
      ]
     },
     "metadata": {
      "needs_background": "light"
     },
     "output_type": "display_data"
    }
   ],
   "source": [
    "fpr, tpr, _ = roc_curve(y_test, y_test_pred)\n",
    "roc_auc = auc(fpr, tpr)\n",
    "\n",
    "plt.figure()\n",
    "plt.plot(fpr, tpr, color='darkorange',\n",
    "         lw=1, label='ROC curve (area = %0.3f)' % roc_auc)\n",
    "plt.plot([0, 1], [0, 1], color='navy', lw=1, linestyle='--')\n",
    "plt.xlim([0.0, 1.0])\n",
    "plt.ylim([0.0, 1.05])\n",
    "plt.xlabel('False Positive Rate')\n",
    "plt.ylabel('True Positive Rate')\n",
    "plt.title('Receiver operating characteristic curve')\n",
    "plt.legend(loc=\"lower right\")\n",
    "print('Test set ROC AUC: {}'.format(auc(fpr, tpr)))\n",
    "plt.show()"
   ]
  },
  {
   "cell_type": "code",
   "execution_count": 23,
   "metadata": {},
   "outputs": [
    {
     "data": {
      "image/png": "[encoded data removed]",
      "text/plain": [
       "<Figure size 432x288 with 1 Axes>"
      ]
     },
     "metadata": {
      "needs_background": "light"
     },
     "output_type": "display_data"
    }
   ],
   "source": [
    "pd.Series(y_test_pred).hist()\n",
    "plt.show()"
   ]
  },
  {
   "cell_type": "code",
   "execution_count": 24,
   "metadata": {},
   "outputs": [
    {
     "data": {
      "text/html": [
       "<div>\n",
       "<style scoped>\n",
       "    .dataframe tbody tr th:only-of-type {\n",
       "        vertical-align: middle;\n",
       "    }\n",
       "\n",
       "    .dataframe tbody tr th {\n",
       "        vertical-align: top;\n",
       "    }\n",
       "\n",
       "    .dataframe thead th {\n",
       "        text-align: right;\n",
       "    }\n",
       "</style>\n",
       "<table border=\"1\" class=\"dataframe\">\n",
       "  <thead>\n",
       "    <tr style=\"text-align: right;\">\n",
       "      <th></th>\n",
       "      <th></th>\n",
       "      <th>count</th>\n",
       "      <th>accuracy</th>\n",
       "    </tr>\n",
       "    <tr>\n",
       "      <th>minprob</th>\n",
       "      <th>maxprob</th>\n",
       "      <th></th>\n",
       "      <th></th>\n",
       "    </tr>\n",
       "  </thead>\n",
       "  <tbody>\n",
       "    <tr>\n",
       "      <th>0.0</th>\n",
       "      <th>0.1</th>\n",
       "      <td>184</td>\n",
       "      <td>0.869565</td>\n",
       "    </tr>\n",
       "    <tr>\n",
       "      <th>0.1</th>\n",
       "      <th>0.2</th>\n",
       "      <td>680</td>\n",
       "      <td>0.769118</td>\n",
       "    </tr>\n",
       "    <tr>\n",
       "      <th>0.2</th>\n",
       "      <th>0.3</th>\n",
       "      <td>1164</td>\n",
       "      <td>0.682990</td>\n",
       "    </tr>\n",
       "    <tr>\n",
       "      <th>0.3</th>\n",
       "      <th>0.4</th>\n",
       "      <td>1410</td>\n",
       "      <td>0.601418</td>\n",
       "    </tr>\n",
       "    <tr>\n",
       "      <th>0.4</th>\n",
       "      <th>0.5</th>\n",
       "      <td>1720</td>\n",
       "      <td>0.531977</td>\n",
       "    </tr>\n",
       "    <tr>\n",
       "      <th>0.5</th>\n",
       "      <th>0.6</th>\n",
       "      <td>1652</td>\n",
       "      <td>0.541162</td>\n",
       "    </tr>\n",
       "    <tr>\n",
       "      <th>0.6</th>\n",
       "      <th>0.7</th>\n",
       "      <td>1477</td>\n",
       "      <td>0.582938</td>\n",
       "    </tr>\n",
       "    <tr>\n",
       "      <th>0.7</th>\n",
       "      <th>0.8</th>\n",
       "      <td>1140</td>\n",
       "      <td>0.643860</td>\n",
       "    </tr>\n",
       "    <tr>\n",
       "      <th>0.8</th>\n",
       "      <th>0.9</th>\n",
       "      <td>705</td>\n",
       "      <td>0.760284</td>\n",
       "    </tr>\n",
       "    <tr>\n",
       "      <th>0.9</th>\n",
       "      <th>1.0</th>\n",
       "      <td>336</td>\n",
       "      <td>0.866071</td>\n",
       "    </tr>\n",
       "  </tbody>\n",
       "</table>\n",
       "</div>"
      ],
      "text/plain": [
       "                count  accuracy\n",
       "minprob maxprob                \n",
       "0.0     0.1       184  0.869565\n",
       "0.1     0.2       680  0.769118\n",
       "0.2     0.3      1164  0.682990\n",
       "0.3     0.4      1410  0.601418\n",
       "0.4     0.5      1720  0.531977\n",
       "0.5     0.6      1652  0.541162\n",
       "0.6     0.7      1477  0.582938\n",
       "0.7     0.8      1140  0.643860\n",
       "0.8     0.9       705  0.760284\n",
       "0.9     1.0       336  0.866071"
      ]
     },
     "execution_count": 24,
     "metadata": {},
     "output_type": "execute_result"
    }
   ],
   "source": [
    "df_acc = pd.DataFrame(columns=['minprob','maxprob','count','accuracy'])\n",
    "for pbot in np.linspace(0,.9,10):\n",
    "    ptop = pbot+.1\n",
    "    mask = (y_test_pred>=pbot)&(y_test_pred<ptop)\n",
    "    count = int(mask.sum())\n",
    "    acc = accuracy_score(y_test[mask], y_test_pred[mask]>.5)\n",
    "    row = pd.DataFrame({'minprob':[pbot], 'maxprob':[ptop], 'count':[count], 'accuracy':[acc]})\n",
    "    df_acc = pd.concat([df_acc, row])\n",
    "df_acc.set_index(['minprob','maxprob'])"
   ]
  },
  {
   "cell_type": "code",
   "execution_count": 25,
   "metadata": {},
   "outputs": [
    {
     "data": {
      "text/plain": [
       "['../data/lrpl_model_201907101744.joblib']"
      ]
     },
     "execution_count": 25,
     "metadata": {},
     "output_type": "execute_result"
    }
   ],
   "source": [
    "from joblib import dump\n",
    "model_path = DATAPATH + MODEL_TYPE_ID + '_model_' + timestamp + '.joblib'\n",
    "dump(model, model_path)"
   ]
  },
  {
   "cell_type": "code",
   "execution_count": null,
   "metadata": {},
   "outputs": [],
   "source": []
  }
 ],
 "metadata": {
  "kernelspec": {
   "display_name": "Python 3",
   "language": "python",
   "name": "python3"
  },
  "language_info": {
   "codemirror_mode": {
    "name": "ipython",
    "version": 3
   },
   "file_extension": ".py",
   "mimetype": "text/x-python",
   "name": "python",
   "nbconvert_exporter": "python",
   "pygments_lexer": "ipython3",
   "version": "3.7.3"
  }
 },
 "nbformat": 4,
 "nbformat_minor": 2
}
