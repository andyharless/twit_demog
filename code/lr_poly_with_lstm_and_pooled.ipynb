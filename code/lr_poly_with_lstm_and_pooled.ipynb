{
 "cells": [
  {
   "cell_type": "code",
   "execution_count": 1,
   "metadata": {},
   "outputs": [],
   "source": [
    "COPY_DATA = False\n",
    "SAVE_MODEL = True\n",
    "\n",
    "DATAPATH = '../data/'\n",
    "XFERPATH = '~/gdrive/twitgen/'  # To transfer files from Google Colab\n",
    "TRAIN_FNAME = 'embed_train_201906161241.csv'\n",
    "VALID_FNAME = 'embed_valid_201906161241.csv'\n",
    "TEST_FNAME = 'embed_test_201906161241.csv'\n",
    "LSTM_TRAIN_FNAME = 'activ_train_201907261114.csv'\n",
    "LSTM_VALID_FNAME = 'activ_valid_201907261114.csv'\n",
    "LSTM_TEST_FNAME = 'activ_test_201907261114.csv'\n",
    "POOL_TRAIN_FNAME = 'activ_train_201907041941.csv'\n",
    "POOL_VALID_FNAME = 'activ_valid_201907041941.csv'\n",
    "POOL_TEST_FNAME = 'activ_test_201907041941.csv'\n",
    "\n",
    "MODEL_TYPE_ID = 'lrp3'"
   ]
  },
  {
   "cell_type": "code",
   "execution_count": 2,
   "metadata": {},
   "outputs": [],
   "source": [
    "train_from = XFERPATH + TRAIN_FNAME\n",
    "valid_from = XFERPATH + VALID_FNAME\n",
    "test_from = XFERPATH + TEST_FNAME\n",
    "lstm_train_from = XFERPATH + LSTM_TRAIN_FNAME\n",
    "lstm_valid_from = XFERPATH + LSTM_VALID_FNAME\n",
    "lstm_test_from = XFERPATH + LSTM_TEST_FNAME\n",
    "if COPY_DATA:\n",
    "    !cp $train_from $DATAPATH\n",
    "    !cp $valid_from $DATAPATH\n",
    "    !cp $test_from $DATAPATH\n",
    "    !cp $lstm_train_from $DATAPATH\n",
    "    !cp $lstm_valid_from $DATAPATH\n",
    "    !cp $lstm_test_from $DATAPATH"
   ]
  },
  {
   "cell_type": "code",
   "execution_count": 3,
   "metadata": {},
   "outputs": [],
   "source": [
    "from sklearn.linear_model import LogisticRegression\n",
    "from sklearn.preprocessing import PolynomialFeatures\n",
    "from sklearn.pipeline import Pipeline\n",
    "from sklearn.decomposition import PCA\n",
    "import pandas as pd\n",
    "import numpy as np\n",
    "from sklearn.metrics import confusion_matrix\n",
    "from sklearn.metrics import accuracy_score\n",
    "from sklearn.metrics import f1_score\n",
    "from sklearn.metrics import roc_curve, auc\n",
    "from statsmodels.stats.proportion import proportion_confint\n",
    "import matplotlib.pyplot as plt\n",
    "from datetime import datetime"
   ]
  },
  {
   "cell_type": "code",
   "execution_count": 4,
   "metadata": {},
   "outputs": [
    {
     "data": {
      "text/plain": [
       "'201907301122'"
      ]
     },
     "execution_count": 4,
     "metadata": {},
     "output_type": "execute_result"
    }
   ],
   "source": [
    "timestamp = datetime.now().strftime('%Y%m%d%H%M')\n",
    "timestamp"
   ]
  },
  {
   "cell_type": "code",
   "execution_count": 5,
   "metadata": {},
   "outputs": [
    {
     "data": {
      "text/html": [
       "<div>\n",
       "<style scoped>\n",
       "    .dataframe tbody tr th:only-of-type {\n",
       "        vertical-align: middle;\n",
       "    }\n",
       "\n",
       "    .dataframe tbody tr th {\n",
       "        vertical-align: top;\n",
       "    }\n",
       "\n",
       "    .dataframe thead th {\n",
       "        text-align: right;\n",
       "    }\n",
       "</style>\n",
       "<table border=\"1\" class=\"dataframe\">\n",
       "  <thead>\n",
       "    <tr style=\"text-align: right;\">\n",
       "      <th></th>\n",
       "      <th></th>\n",
       "      <th>male</th>\n",
       "      <th>embed0</th>\n",
       "      <th>embed1</th>\n",
       "      <th>embed2</th>\n",
       "      <th>embed3</th>\n",
       "      <th>embed4</th>\n",
       "      <th>embed5</th>\n",
       "    </tr>\n",
       "    <tr>\n",
       "      <th>id</th>\n",
       "      <th>time</th>\n",
       "      <th></th>\n",
       "      <th></th>\n",
       "      <th></th>\n",
       "      <th></th>\n",
       "      <th></th>\n",
       "      <th></th>\n",
       "      <th></th>\n",
       "    </tr>\n",
       "  </thead>\n",
       "  <tbody>\n",
       "    <tr>\n",
       "      <th>1083596943807393792</th>\n",
       "      <th>2019-05-27 23:27:08+00:00</th>\n",
       "      <td>True</td>\n",
       "      <td>-9031</td>\n",
       "      <td>78190</td>\n",
       "      <td>28476</td>\n",
       "      <td>15732</td>\n",
       "      <td>-3761</td>\n",
       "      <td>22135</td>\n",
       "    </tr>\n",
       "    <tr>\n",
       "      <th>815783987784187904</th>\n",
       "      <th>2019-05-24 15:36:01+00:00</th>\n",
       "      <td>False</td>\n",
       "      <td>-1787</td>\n",
       "      <td>-57509</td>\n",
       "      <td>29939</td>\n",
       "      <td>-32859</td>\n",
       "      <td>-20955</td>\n",
       "      <td>13103</td>\n",
       "    </tr>\n",
       "    <tr>\n",
       "      <th>3458239641</th>\n",
       "      <th>2019-05-24 19:00:37+00:00</th>\n",
       "      <td>False</td>\n",
       "      <td>-42708</td>\n",
       "      <td>-31384</td>\n",
       "      <td>17130</td>\n",
       "      <td>60833</td>\n",
       "      <td>11307</td>\n",
       "      <td>35467</td>\n",
       "    </tr>\n",
       "    <tr>\n",
       "      <th>1003729876250226688</th>\n",
       "      <th>2019-05-26 12:53:00+00:00</th>\n",
       "      <td>True</td>\n",
       "      <td>-5514</td>\n",
       "      <td>61646</td>\n",
       "      <td>16234</td>\n",
       "      <td>105381</td>\n",
       "      <td>-7119</td>\n",
       "      <td>-35271</td>\n",
       "    </tr>\n",
       "    <tr>\n",
       "      <th>2360143940</th>\n",
       "      <th>2019-05-28 03:50:46+00:00</th>\n",
       "      <td>False</td>\n",
       "      <td>6762</td>\n",
       "      <td>-16422</td>\n",
       "      <td>-36991</td>\n",
       "      <td>29061</td>\n",
       "      <td>37017</td>\n",
       "      <td>-27550</td>\n",
       "    </tr>\n",
       "  </tbody>\n",
       "</table>\n",
       "</div>"
      ],
      "text/plain": [
       "                                                male  embed0  embed1  embed2  \\\n",
       "id                  time                                                       \n",
       "1083596943807393792 2019-05-27 23:27:08+00:00   True   -9031   78190   28476   \n",
       "815783987784187904  2019-05-24 15:36:01+00:00  False   -1787  -57509   29939   \n",
       "3458239641          2019-05-24 19:00:37+00:00  False  -42708  -31384   17130   \n",
       "1003729876250226688 2019-05-26 12:53:00+00:00   True   -5514   61646   16234   \n",
       "2360143940          2019-05-28 03:50:46+00:00  False    6762  -16422  -36991   \n",
       "\n",
       "                                               embed3  embed4  embed5  \n",
       "id                  time                                               \n",
       "1083596943807393792 2019-05-27 23:27:08+00:00   15732   -3761   22135  \n",
       "815783987784187904  2019-05-24 15:36:01+00:00  -32859  -20955   13103  \n",
       "3458239641          2019-05-24 19:00:37+00:00   60833   11307   35467  \n",
       "1003729876250226688 2019-05-26 12:53:00+00:00  105381   -7119  -35271  \n",
       "2360143940          2019-05-28 03:50:46+00:00   29061   37017  -27550  "
      ]
     },
     "execution_count": 5,
     "metadata": {},
     "output_type": "execute_result"
    }
   ],
   "source": [
    "df_train = pd.read_csv(DATAPATH+TRAIN_FNAME, index_col=[0,1], parse_dates=['time'])\n",
    "df_valid = pd.read_csv(DATAPATH+VALID_FNAME, index_col=[0,1], parse_dates=['time'])\n",
    "df_test = pd.read_csv(DATAPATH+TEST_FNAME, index_col=[0,1], parse_dates=['time'])\n",
    "df_train.head().iloc[:,:7]"
   ]
  },
  {
   "cell_type": "code",
   "execution_count": 6,
   "metadata": {},
   "outputs": [
    {
     "name": "stdout",
     "output_type": "stream",
     "text": [
      "(34146, 513) (10914, 513) (10450, 513)\n",
      "2019-05-21 17:50:48+00:00 2019-05-28 12:44:26+00:00\n",
      "2019-05-28 12:44:27+00:00 2019-05-30 12:09:54+00:00\n",
      "2019-05-30 12:10:02+00:00 2019-06-01 19:55:43+00:00\n"
     ]
    }
   ],
   "source": [
    "print(df_train.shape, df_valid.shape, df_test.shape)\n",
    "print(df_train.index.get_level_values(1).min(), df_train.index.get_level_values(1).max())\n",
    "print(df_valid.index.get_level_values(1).min(), df_valid.index.get_level_values(1).max())\n",
    "print(df_test.index.get_level_values(1).min(), df_test.index.get_level_values(1).max())"
   ]
  },
  {
   "cell_type": "code",
   "execution_count": 7,
   "metadata": {},
   "outputs": [
    {
     "data": {
      "text/html": [
       "<div>\n",
       "<style scoped>\n",
       "    .dataframe tbody tr th:only-of-type {\n",
       "        vertical-align: middle;\n",
       "    }\n",
       "\n",
       "    .dataframe tbody tr th {\n",
       "        vertical-align: top;\n",
       "    }\n",
       "\n",
       "    .dataframe thead th {\n",
       "        text-align: right;\n",
       "    }\n",
       "</style>\n",
       "<table border=\"1\" class=\"dataframe\">\n",
       "  <thead>\n",
       "    <tr style=\"text-align: right;\">\n",
       "      <th></th>\n",
       "      <th></th>\n",
       "      <th>male</th>\n",
       "      <th>activ0</th>\n",
       "      <th>activ1</th>\n",
       "      <th>activ2</th>\n",
       "      <th>activ3</th>\n",
       "      <th>activ4</th>\n",
       "      <th>activ5</th>\n",
       "    </tr>\n",
       "    <tr>\n",
       "      <th>id</th>\n",
       "      <th>time</th>\n",
       "      <th></th>\n",
       "      <th></th>\n",
       "      <th></th>\n",
       "      <th></th>\n",
       "      <th></th>\n",
       "      <th></th>\n",
       "      <th></th>\n",
       "    </tr>\n",
       "  </thead>\n",
       "  <tbody>\n",
       "    <tr>\n",
       "      <th>1083596943807393792</th>\n",
       "      <th>2019-05-27 23:27:08+00:00</th>\n",
       "      <td>True</td>\n",
       "      <td>-88660</td>\n",
       "      <td>-179010</td>\n",
       "      <td>-122969</td>\n",
       "      <td>86287</td>\n",
       "      <td>85738</td>\n",
       "      <td>-230103</td>\n",
       "    </tr>\n",
       "    <tr>\n",
       "      <th>815783987784187904</th>\n",
       "      <th>2019-05-24 15:36:01+00:00</th>\n",
       "      <td>False</td>\n",
       "      <td>24546</td>\n",
       "      <td>34365</td>\n",
       "      <td>30151</td>\n",
       "      <td>-30778</td>\n",
       "      <td>-102346</td>\n",
       "      <td>37726</td>\n",
       "    </tr>\n",
       "    <tr>\n",
       "      <th>3458239641</th>\n",
       "      <th>2019-05-24 19:00:37+00:00</th>\n",
       "      <td>False</td>\n",
       "      <td>10382</td>\n",
       "      <td>43310</td>\n",
       "      <td>-31917</td>\n",
       "      <td>-32257</td>\n",
       "      <td>-94097</td>\n",
       "      <td>-10748</td>\n",
       "    </tr>\n",
       "    <tr>\n",
       "      <th>1003729876250226688</th>\n",
       "      <th>2019-05-26 12:53:00+00:00</th>\n",
       "      <td>True</td>\n",
       "      <td>-58185</td>\n",
       "      <td>-141029</td>\n",
       "      <td>-130128</td>\n",
       "      <td>-8833</td>\n",
       "      <td>72594</td>\n",
       "      <td>-183613</td>\n",
       "    </tr>\n",
       "    <tr>\n",
       "      <th>2360143940</th>\n",
       "      <th>2019-05-28 03:50:46+00:00</th>\n",
       "      <td>False</td>\n",
       "      <td>-67848</td>\n",
       "      <td>-110605</td>\n",
       "      <td>-125555</td>\n",
       "      <td>-19150</td>\n",
       "      <td>32870</td>\n",
       "      <td>-139791</td>\n",
       "    </tr>\n",
       "  </tbody>\n",
       "</table>\n",
       "</div>"
      ],
      "text/plain": [
       "                                                male  activ0  activ1  activ2  \\\n",
       "id                  time                                                       \n",
       "1083596943807393792 2019-05-27 23:27:08+00:00   True  -88660 -179010 -122969   \n",
       "815783987784187904  2019-05-24 15:36:01+00:00  False   24546   34365   30151   \n",
       "3458239641          2019-05-24 19:00:37+00:00  False   10382   43310  -31917   \n",
       "1003729876250226688 2019-05-26 12:53:00+00:00   True  -58185 -141029 -130128   \n",
       "2360143940          2019-05-28 03:50:46+00:00  False  -67848 -110605 -125555   \n",
       "\n",
       "                                               activ3  activ4  activ5  \n",
       "id                  time                                               \n",
       "1083596943807393792 2019-05-27 23:27:08+00:00   86287   85738 -230103  \n",
       "815783987784187904  2019-05-24 15:36:01+00:00  -30778 -102346   37726  \n",
       "3458239641          2019-05-24 19:00:37+00:00  -32257  -94097  -10748  \n",
       "1003729876250226688 2019-05-26 12:53:00+00:00   -8833   72594 -183613  \n",
       "2360143940          2019-05-28 03:50:46+00:00  -19150   32870 -139791  "
      ]
     },
     "execution_count": 7,
     "metadata": {},
     "output_type": "execute_result"
    }
   ],
   "source": [
    "df_train_lstm = pd.read_csv(DATAPATH+LSTM_TRAIN_FNAME, index_col=[0,1], parse_dates=['time'])\n",
    "df_valid_lstm = pd.read_csv(DATAPATH+LSTM_VALID_FNAME, index_col=[0,1], parse_dates=['time'])\n",
    "df_test_lstm = pd.read_csv(DATAPATH+LSTM_TEST_FNAME, index_col=[0,1], parse_dates=['time'])\n",
    "df_train_lstm.head().iloc[:,:7]"
   ]
  },
  {
   "cell_type": "code",
   "execution_count": 8,
   "metadata": {},
   "outputs": [
    {
     "name": "stdout",
     "output_type": "stream",
     "text": [
      "(34146, 241) (10914, 241) (10450, 241)\n",
      "2019-05-21 17:50:48+00:00 2019-05-28 12:44:26+00:00\n",
      "2019-05-28 12:44:27+00:00 2019-05-30 12:09:54+00:00\n",
      "2019-05-30 12:10:02+00:00 2019-06-01 19:55:43+00:00\n"
     ]
    }
   ],
   "source": [
    "print(df_train_lstm.shape, df_valid_lstm.shape, df_test_lstm.shape)\n",
    "print(df_train_lstm.index.get_level_values(1).min(), df_train_lstm.index.get_level_values(1).max())\n",
    "print(df_valid_lstm.index.get_level_values(1).min(), df_valid_lstm.index.get_level_values(1).max())\n",
    "print(df_test_lstm.index.get_level_values(1).min(), df_test_lstm.index.get_level_values(1).max())"
   ]
  },
  {
   "cell_type": "code",
   "execution_count": 9,
   "metadata": {},
   "outputs": [
    {
     "data": {
      "text/html": [
       "<div>\n",
       "<style scoped>\n",
       "    .dataframe tbody tr th:only-of-type {\n",
       "        vertical-align: middle;\n",
       "    }\n",
       "\n",
       "    .dataframe tbody tr th {\n",
       "        vertical-align: top;\n",
       "    }\n",
       "\n",
       "    .dataframe thead th {\n",
       "        text-align: right;\n",
       "    }\n",
       "</style>\n",
       "<table border=\"1\" class=\"dataframe\">\n",
       "  <thead>\n",
       "    <tr style=\"text-align: right;\">\n",
       "      <th></th>\n",
       "      <th></th>\n",
       "      <th>male</th>\n",
       "      <th>activ0</th>\n",
       "      <th>activ1</th>\n",
       "      <th>activ2</th>\n",
       "      <th>activ3</th>\n",
       "      <th>activ4</th>\n",
       "      <th>activ5</th>\n",
       "    </tr>\n",
       "    <tr>\n",
       "      <th>id</th>\n",
       "      <th>time</th>\n",
       "      <th></th>\n",
       "      <th></th>\n",
       "      <th></th>\n",
       "      <th></th>\n",
       "      <th></th>\n",
       "      <th></th>\n",
       "      <th></th>\n",
       "    </tr>\n",
       "  </thead>\n",
       "  <tbody>\n",
       "    <tr>\n",
       "      <th>1083596943807393792</th>\n",
       "      <th>2019-05-27 23:27:08+00:00</th>\n",
       "      <td>True</td>\n",
       "      <td>473413</td>\n",
       "      <td>827363</td>\n",
       "      <td>643289</td>\n",
       "      <td>334101</td>\n",
       "      <td>326992</td>\n",
       "      <td>407009</td>\n",
       "    </tr>\n",
       "    <tr>\n",
       "      <th>815783987784187904</th>\n",
       "      <th>2019-05-24 15:36:01+00:00</th>\n",
       "      <td>False</td>\n",
       "      <td>-11328</td>\n",
       "      <td>53738</td>\n",
       "      <td>203284</td>\n",
       "      <td>727116</td>\n",
       "      <td>-2273</td>\n",
       "      <td>-7213</td>\n",
       "    </tr>\n",
       "    <tr>\n",
       "      <th>3458239641</th>\n",
       "      <th>2019-05-24 19:00:37+00:00</th>\n",
       "      <td>False</td>\n",
       "      <td>270408</td>\n",
       "      <td>453517</td>\n",
       "      <td>200170</td>\n",
       "      <td>342878</td>\n",
       "      <td>-2273</td>\n",
       "      <td>362414</td>\n",
       "    </tr>\n",
       "    <tr>\n",
       "      <th>1003729876250226688</th>\n",
       "      <th>2019-05-26 12:53:00+00:00</th>\n",
       "      <td>True</td>\n",
       "      <td>473413</td>\n",
       "      <td>924623</td>\n",
       "      <td>671763</td>\n",
       "      <td>327450</td>\n",
       "      <td>587344</td>\n",
       "      <td>518195</td>\n",
       "    </tr>\n",
       "    <tr>\n",
       "      <th>2360143940</th>\n",
       "      <th>2019-05-28 03:50:46+00:00</th>\n",
       "      <td>False</td>\n",
       "      <td>605926</td>\n",
       "      <td>424324</td>\n",
       "      <td>643289</td>\n",
       "      <td>915150</td>\n",
       "      <td>552783</td>\n",
       "      <td>827734</td>\n",
       "    </tr>\n",
       "  </tbody>\n",
       "</table>\n",
       "</div>"
      ],
      "text/plain": [
       "                                                male  activ0  activ1  activ2  \\\n",
       "id                  time                                                       \n",
       "1083596943807393792 2019-05-27 23:27:08+00:00   True  473413  827363  643289   \n",
       "815783987784187904  2019-05-24 15:36:01+00:00  False  -11328   53738  203284   \n",
       "3458239641          2019-05-24 19:00:37+00:00  False  270408  453517  200170   \n",
       "1003729876250226688 2019-05-26 12:53:00+00:00   True  473413  924623  671763   \n",
       "2360143940          2019-05-28 03:50:46+00:00  False  605926  424324  643289   \n",
       "\n",
       "                                               activ3  activ4  activ5  \n",
       "id                  time                                               \n",
       "1083596943807393792 2019-05-27 23:27:08+00:00  334101  326992  407009  \n",
       "815783987784187904  2019-05-24 15:36:01+00:00  727116   -2273   -7213  \n",
       "3458239641          2019-05-24 19:00:37+00:00  342878   -2273  362414  \n",
       "1003729876250226688 2019-05-26 12:53:00+00:00  327450  587344  518195  \n",
       "2360143940          2019-05-28 03:50:46+00:00  915150  552783  827734  "
      ]
     },
     "execution_count": 9,
     "metadata": {},
     "output_type": "execute_result"
    }
   ],
   "source": [
    "df_train_pool = pd.read_csv(DATAPATH+POOL_TRAIN_FNAME, index_col=[0,1], parse_dates=['time'])\n",
    "df_valid_pool = pd.read_csv(DATAPATH+POOL_VALID_FNAME, index_col=[0,1], parse_dates=['time'])\n",
    "df_test_pool = pd.read_csv(DATAPATH+POOL_TEST_FNAME, index_col=[0,1], parse_dates=['time'])\n",
    "df_train_pool.head().iloc[:,:7]"
   ]
  },
  {
   "cell_type": "code",
   "execution_count": 10,
   "metadata": {},
   "outputs": [
    {
     "name": "stdout",
     "output_type": "stream",
     "text": [
      "(34146, 401) (10914, 401) (10450, 401)\n",
      "2019-05-21 17:50:48+00:00 2019-05-28 12:44:26+00:00\n",
      "2019-05-28 12:44:27+00:00 2019-05-30 12:09:54+00:00\n",
      "2019-05-30 12:10:02+00:00 2019-06-01 19:55:43+00:00\n"
     ]
    }
   ],
   "source": [
    "print(df_train_pool.shape, df_valid_pool.shape, df_test_pool.shape)\n",
    "print(df_train_pool.index.get_level_values(1).min(), df_train_pool.index.get_level_values(1).max())\n",
    "print(df_valid_pool.index.get_level_values(1).min(), df_valid_pool.index.get_level_values(1).max())\n",
    "print(df_test_pool.index.get_level_values(1).min(), df_test_pool.index.get_level_values(1).max())"
   ]
  },
  {
   "cell_type": "code",
   "execution_count": 11,
   "metadata": {},
   "outputs": [
    {
     "data": {
      "text/plain": [
       "252.62822392035346"
      ]
     },
     "execution_count": 11,
     "metadata": {},
     "output_type": "execute_result"
    }
   ],
   "source": [
    "df_train.drop(['male'],axis=1).mean().mean()"
   ]
  },
  {
   "cell_type": "code",
   "execution_count": 12,
   "metadata": {},
   "outputs": [
    {
     "data": {
      "text/plain": [
       "13051.11434147972"
      ]
     },
     "execution_count": 12,
     "metadata": {},
     "output_type": "execute_result"
    }
   ],
   "source": [
    "df_train_lstm.drop(['male'],axis=1).mean().mean()"
   ]
  },
  {
   "cell_type": "code",
   "execution_count": 13,
   "metadata": {},
   "outputs": [
    {
     "data": {
      "text/plain": [
       "235059.60889006036"
      ]
     },
     "execution_count": 13,
     "metadata": {},
     "output_type": "execute_result"
    }
   ],
   "source": [
    "df_train_pool.drop(['male'],axis=1).mean().mean()"
   ]
  },
  {
   "cell_type": "code",
   "execution_count": 14,
   "metadata": {},
   "outputs": [],
   "source": [
    "scaledown_lstm = 7\n",
    "scaledown_pool = 700\n",
    "npc = 25"
   ]
  },
  {
   "cell_type": "code",
   "execution_count": 15,
   "metadata": {},
   "outputs": [
    {
     "data": {
      "text/plain": [
       "((34344, 1153), (10950, 1153), (10504, 1153))"
      ]
     },
     "execution_count": 15,
     "metadata": {},
     "output_type": "execute_result"
    }
   ],
   "source": [
    "df_train_final = df_train.join(df_train_lstm.drop(['male'],axis=1)/scaledown_lstm, rsuffix='lstm').join(\n",
    "                               df_train_pool.drop(['male'],axis=1)/scaledown_pool, rsuffix='pool')\n",
    "df_valid_final = df_valid.join(df_valid_lstm.drop(['male'],axis=1)/scaledown_lstm, rsuffix='lstm').join(\n",
    "                               df_valid_pool.drop(['male'],axis=1)/scaledown_pool, rsuffix='pool')\n",
    "df_test_final = df_test.join(df_test_lstm.drop(['male'],axis=1)/scaledown_lstm, rsuffix='lstm').join(\n",
    "                               df_test_pool.drop(['male'],axis=1)/scaledown_pool, rsuffix='pool')\n",
    "df_train_final.shape, df_valid_final.shape, df_test_final.shape"
   ]
  },
  {
   "cell_type": "code",
   "execution_count": 16,
   "metadata": {},
   "outputs": [],
   "source": [
    "def getxy(df):\n",
    "    X = df.drop(['male'],axis=1).values / 1e6\n",
    "    y = 1*df.male.values\n",
    "    return(X, y)\n",
    "    \n",
    "X_train, y_train = getxy(df_train_final)\n",
    "X_valid, y_valid = getxy(df_valid_final)\n",
    "X_test, y_test = getxy(df_test_final)"
   ]
  },
  {
   "cell_type": "code",
   "execution_count": 17,
   "metadata": {},
   "outputs": [
    {
     "name": "stdout",
     "output_type": "stream",
     "text": [
      "[0.0840018  0.05962835 0.03491041 0.02501981 0.02347588 0.02198942\n",
      " 0.02095227 0.01857888 0.01833872 0.01689312 0.01592373 0.01492102\n",
      " 0.01418395 0.0139682  0.01338086 0.01274687 0.01235511 0.01182713\n",
      " 0.01163787 0.01144145 0.01106522 0.01065158 0.01016328 0.00999616\n",
      " 0.00986527 0.009523   0.0091166  0.00900152 0.00869209 0.00848215\n",
      " 0.00821881 0.00811397 0.00781129 0.00775586 0.0075733  0.00743603\n",
      " 0.00730283 0.00719444 0.00710472 0.00705717 0.00684278 0.00667421\n",
      " 0.00653684 0.0064514  0.00631084 0.0061102  0.0060131  0.00595679\n",
      " 0.005893   0.00582699 0.00572069 0.0055123  0.00546271 0.00539503\n",
      " 0.00537113 0.0053049  0.00520065 0.00517616 0.00511662 0.00502124\n",
      " 0.004898   0.00481744 0.00477075 0.00468668]\n"
     ]
    }
   ],
   "source": [
    "pca = PCA(64)\n",
    "pca.fit(X_train)\n",
    "print(pca.explained_variance_ratio_)"
   ]
  },
  {
   "cell_type": "code",
   "execution_count": 18,
   "metadata": {},
   "outputs": [
    {
     "name": "stderr",
     "output_type": "stream",
     "text": [
      "/home/andy/anaconda3/lib/python3.7/site-packages/sklearn/linear_model/logistic.py:433: FutureWarning: Default solver will be changed to 'lbfgs' in 0.22. Specify a solver to silence this warning.\n",
      "  FutureWarning)\n"
     ]
    }
   ],
   "source": [
    "model = Pipeline([('pca',  PCA(npc)),\n",
    "                  ('poly', PolynomialFeatures()),\n",
    "                  ('lr',   LogisticRegression(C=.08))])\n",
    "model = model.fit(X_train, y_train)"
   ]
  },
  {
   "cell_type": "code",
   "execution_count": 19,
   "metadata": {},
   "outputs": [],
   "source": [
    "def save_predictions(df, predictions, which_set):\n",
    "    pred_df = df[['male']].copy()\n",
    "    pred_df['pred'] = predictions\n",
    "    path = DATAPATH + MODEL_TYPE_ID + '_' + which_set + '_pred_' + timestamp + '.csv'\n",
    "    pred_df.to_csv(path)    "
   ]
  },
  {
   "cell_type": "code",
   "execution_count": 20,
   "metadata": {},
   "outputs": [
    {
     "data": {
      "text/plain": [
       "0.6918690479636437"
      ]
     },
     "execution_count": 20,
     "metadata": {},
     "output_type": "execute_result"
    }
   ],
   "source": [
    "y_train_pred = model.predict_proba(X_train)[:,1]\n",
    "save_predictions(df_train_final, y_train_pred, 'train')\n",
    "f1_score(y_train, y_train_pred>.5)"
   ]
  },
  {
   "cell_type": "code",
   "execution_count": 21,
   "metadata": {},
   "outputs": [
    {
     "name": "stdout",
     "output_type": "stream",
     "text": [
      "[[3401 2062]\n",
      " [1906 3581]]\n"
     ]
    },
    {
     "data": {
      "text/plain": [
       "0.6434860736747529"
      ]
     },
     "execution_count": 21,
     "metadata": {},
     "output_type": "execute_result"
    }
   ],
   "source": [
    "y_pred = model.predict_proba(X_valid)[:,1]\n",
    "save_predictions(df_valid_final, y_pred, 'valid')\n",
    "print( confusion_matrix(y_valid, (y_pred>.5)) )\n",
    "f1_score(y_valid, y_pred>.5)"
   ]
  },
  {
   "cell_type": "code",
   "execution_count": 22,
   "metadata": {},
   "outputs": [
    {
     "data": {
      "text/plain": [
       "0.6376255707762557"
      ]
     },
     "execution_count": 22,
     "metadata": {},
     "output_type": "execute_result"
    }
   ],
   "source": [
    "accuracy_score(y_valid, y_pred>.5)"
   ]
  },
  {
   "cell_type": "code",
   "execution_count": 23,
   "metadata": {},
   "outputs": [
    {
     "name": "stdout",
     "output_type": "stream",
     "text": [
      "[[3204 2051]\n",
      " [1891 3358]]\n"
     ]
    },
    {
     "data": {
      "text/plain": [
       "0.6301369863013698"
      ]
     },
     "execution_count": 23,
     "metadata": {},
     "output_type": "execute_result"
    }
   ],
   "source": [
    "y_test_pred = model.predict_proba(X_test)[:,1]\n",
    "save_predictions(df_test_final, y_test_pred, 'test')\n",
    "print( confusion_matrix(y_test, (y_test_pred>.5)) )\n",
    "f1_score(y_test, y_test_pred>.5)"
   ]
  },
  {
   "cell_type": "code",
   "execution_count": 24,
   "metadata": {},
   "outputs": [
    {
     "data": {
      "text/plain": [
       "0.6247143945163747"
      ]
     },
     "execution_count": 24,
     "metadata": {},
     "output_type": "execute_result"
    }
   ],
   "source": [
    "accuracy_score(y_test, y_test_pred>.5)"
   ]
  },
  {
   "cell_type": "code",
   "execution_count": 25,
   "metadata": {},
   "outputs": [
    {
     "name": "stdout",
     "output_type": "stream",
     "text": [
      "Test set ROC AUC: 0.67849768493804\n"
     ]
    },
    {
     "data": {
      "image/png": "[encoded data removed]",
      "text/plain": [
       "<Figure size 432x288 with 1 Axes>"
      ]
     },
     "metadata": {
      "needs_background": "light"
     },
     "output_type": "display_data"
    }
   ],
   "source": [
    "fpr, tpr, _ = roc_curve(y_test, y_test_pred)\n",
    "roc_auc = auc(fpr, tpr)\n",
    "\n",
    "plt.figure()\n",
    "plt.plot(fpr, tpr, color='darkorange',\n",
    "         lw=1, label='ROC curve (area = %0.3f)' % roc_auc)\n",
    "plt.plot([0, 1], [0, 1], color='navy', lw=1, linestyle='--')\n",
    "plt.xlim([0.0, 1.0])\n",
    "plt.ylim([0.0, 1.05])\n",
    "plt.xlabel('False Positive Rate')\n",
    "plt.ylabel('True Positive Rate')\n",
    "plt.title('Receiver operating characteristic curve')\n",
    "plt.legend(loc=\"lower right\")\n",
    "print('Test set ROC AUC: {}'.format(auc(fpr, tpr)))\n",
    "plt.show()"
   ]
  },
  {
   "cell_type": "code",
   "execution_count": 26,
   "metadata": {},
   "outputs": [
    {
     "data": {
      "image/png": "[encoded data removed]",
      "text/plain": [
       "<Figure size 432x288 with 1 Axes>"
      ]
     },
     "metadata": {
      "needs_background": "light"
     },
     "output_type": "display_data"
    }
   ],
   "source": [
    "pd.Series(y_test_pred).hist()\n",
    "plt.show()"
   ]
  },
  {
   "cell_type": "code",
   "execution_count": 27,
   "metadata": {},
   "outputs": [
    {
     "data": {
      "text/html": [
       "<div>\n",
       "<style scoped>\n",
       "    .dataframe tbody tr th:only-of-type {\n",
       "        vertical-align: middle;\n",
       "    }\n",
       "\n",
       "    .dataframe tbody tr th {\n",
       "        vertical-align: top;\n",
       "    }\n",
       "\n",
       "    .dataframe thead th {\n",
       "        text-align: right;\n",
       "    }\n",
       "</style>\n",
       "<table border=\"1\" class=\"dataframe\">\n",
       "  <thead>\n",
       "    <tr style=\"text-align: right;\">\n",
       "      <th></th>\n",
       "      <th></th>\n",
       "      <th>count</th>\n",
       "      <th>accuracy</th>\n",
       "      <th>lconf95</th>\n",
       "      <th>hconf95</th>\n",
       "    </tr>\n",
       "    <tr>\n",
       "      <th>minprob</th>\n",
       "      <th>maxprob</th>\n",
       "      <th></th>\n",
       "      <th></th>\n",
       "      <th></th>\n",
       "      <th></th>\n",
       "    </tr>\n",
       "  </thead>\n",
       "  <tbody>\n",
       "    <tr>\n",
       "      <th>0.0</th>\n",
       "      <th>0.1</th>\n",
       "      <td>181</td>\n",
       "      <td>0.867403</td>\n",
       "      <td>0.817997</td>\n",
       "      <td>0.916810</td>\n",
       "    </tr>\n",
       "    <tr>\n",
       "      <th>0.1</th>\n",
       "      <th>0.2</th>\n",
       "      <td>687</td>\n",
       "      <td>0.778748</td>\n",
       "      <td>0.747709</td>\n",
       "      <td>0.809787</td>\n",
       "    </tr>\n",
       "    <tr>\n",
       "      <th>0.2</th>\n",
       "      <th>0.3</th>\n",
       "      <td>1066</td>\n",
       "      <td>0.681989</td>\n",
       "      <td>0.654032</td>\n",
       "      <td>0.709945</td>\n",
       "    </tr>\n",
       "    <tr>\n",
       "      <th>0.3</th>\n",
       "      <th>0.4</th>\n",
       "      <td>1488</td>\n",
       "      <td>0.608871</td>\n",
       "      <td>0.584076</td>\n",
       "      <td>0.633666</td>\n",
       "    </tr>\n",
       "    <tr>\n",
       "      <th>0.4</th>\n",
       "      <th>0.5</th>\n",
       "      <td>1673</td>\n",
       "      <td>0.525403</td>\n",
       "      <td>0.501475</td>\n",
       "      <td>0.549332</td>\n",
       "    </tr>\n",
       "    <tr>\n",
       "      <th>0.5</th>\n",
       "      <th>0.6</th>\n",
       "      <td>1762</td>\n",
       "      <td>0.527809</td>\n",
       "      <td>0.504499</td>\n",
       "      <td>0.551119</td>\n",
       "    </tr>\n",
       "    <tr>\n",
       "      <th>0.6</th>\n",
       "      <th>0.7</th>\n",
       "      <td>1508</td>\n",
       "      <td>0.594164</td>\n",
       "      <td>0.569380</td>\n",
       "      <td>0.618949</td>\n",
       "    </tr>\n",
       "    <tr>\n",
       "      <th>0.7</th>\n",
       "      <th>0.8</th>\n",
       "      <td>1133</td>\n",
       "      <td>0.649603</td>\n",
       "      <td>0.621822</td>\n",
       "      <td>0.677383</td>\n",
       "    </tr>\n",
       "    <tr>\n",
       "      <th>0.8</th>\n",
       "      <th>0.9</th>\n",
       "      <td>697</td>\n",
       "      <td>0.758967</td>\n",
       "      <td>0.727214</td>\n",
       "      <td>0.790720</td>\n",
       "    </tr>\n",
       "    <tr>\n",
       "      <th>0.9</th>\n",
       "      <th>1.0</th>\n",
       "      <td>309</td>\n",
       "      <td>0.864078</td>\n",
       "      <td>0.825866</td>\n",
       "      <td>0.902289</td>\n",
       "    </tr>\n",
       "  </tbody>\n",
       "</table>\n",
       "</div>"
      ],
      "text/plain": [
       "                count  accuracy   lconf95   hconf95\n",
       "minprob maxprob                                    \n",
       "0.0     0.1       181  0.867403  0.817997  0.916810\n",
       "0.1     0.2       687  0.778748  0.747709  0.809787\n",
       "0.2     0.3      1066  0.681989  0.654032  0.709945\n",
       "0.3     0.4      1488  0.608871  0.584076  0.633666\n",
       "0.4     0.5      1673  0.525403  0.501475  0.549332\n",
       "0.5     0.6      1762  0.527809  0.504499  0.551119\n",
       "0.6     0.7      1508  0.594164  0.569380  0.618949\n",
       "0.7     0.8      1133  0.649603  0.621822  0.677383\n",
       "0.8     0.9       697  0.758967  0.727214  0.790720\n",
       "0.9     1.0       309  0.864078  0.825866  0.902289"
      ]
     },
     "execution_count": 27,
     "metadata": {},
     "output_type": "execute_result"
    }
   ],
   "source": [
    "df_acc = pd.DataFrame(columns=['minprob','maxprob','count','accuracy','lconf95','hconf95'])\n",
    "for pbot in np.linspace(0,.9,10):\n",
    "    ptop = pbot+.1\n",
    "    mask = (y_test_pred>=pbot)&(y_test_pred<ptop)\n",
    "    count = int(mask.sum())\n",
    "    if count>0:\n",
    "        actual = pd.Series(y_test)[mask].values\n",
    "        pred_prob = pd.Series(y_test_pred)[mask].values\n",
    "        pred_bin = pred_prob>.5\n",
    "        acc = accuracy_score(actual, pred_bin)\n",
    "        nsucc = sum(actual==pred_bin)\n",
    "        confint = proportion_confint(nsucc, count)\n",
    "        minconf = confint[0]\n",
    "        maxconf = confint[1]\n",
    "    else:\n",
    "        acc = np.nan\n",
    "        minconf = np.nan\n",
    "        maxconf = np.nan\n",
    "    row = pd.DataFrame({'minprob':[pbot], 'maxprob':[ptop], 'count':[count], \n",
    "                        'accuracy':[acc], 'lconf95':[minconf], 'hconf95':[maxconf]})\n",
    "    df_acc = pd.concat([df_acc, row], sort=False)\n",
    "df_acc.set_index(['minprob','maxprob'])"
   ]
  },
  {
   "cell_type": "code",
   "execution_count": 28,
   "metadata": {},
   "outputs": [
    {
     "data": {
      "image/png": "[encoded data removed]",
      "text/plain": [
       "<Figure size 432x288 with 1 Axes>"
      ]
     },
     "metadata": {
      "needs_background": "light"
     },
     "output_type": "display_data"
    }
   ],
   "source": [
    "df_acc['avgprob'] = .5*(df_acc.minprob+df_acc.maxprob)\n",
    "ax = df_acc.drop(['count','minprob','maxprob'],axis=1).set_index('avgprob').plot(\n",
    "        title='Accuracy of Predictions by Range')\n",
    "ax.legend(labels=['accuracy', '95% conf, lower', '95% conf, upper'])\n",
    "ax.set(xlabel=\"center of probability bin\", ylabel=\"fraction of correct predicitons\")\n",
    "plt.show()"
   ]
  },
  {
   "cell_type": "code",
   "execution_count": 29,
   "metadata": {},
   "outputs": [
    {
     "name": "stdout",
     "output_type": "stream",
     "text": [
      "../data/lrp3_model_201907301122.joblib\n"
     ]
    }
   ],
   "source": [
    "if SAVE_MODEL:\n",
    "    from joblib import dump\n",
    "    model_path = DATAPATH + MODEL_TYPE_ID + '_model_' + timestamp + '.joblib'\n",
    "    dump(model, model_path)\n",
    "    print(model_path)"
   ]
  }
 ],
 "metadata": {
  "kernelspec": {
   "display_name": "Python 3",
   "language": "python",
   "name": "python3"
  },
  "language_info": {
   "codemirror_mode": {
    "name": "ipython",
    "version": 3
   },
   "file_extension": ".py",
   "mimetype": "text/x-python",
   "name": "python",
   "nbconvert_exporter": "python",
   "pygments_lexer": "ipython3",
   "version": "3.7.3"
  }
 },
 "nbformat": 4,
 "nbformat_minor": 2
}
