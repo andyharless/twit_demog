{
 "cells": [
  {
   "cell_type": "code",
   "execution_count": 1,
   "metadata": {},
   "outputs": [],
   "source": [
    "MODEL_FILE = 'USELModel_201908071556.h5'\n",
    "MODEL_DIR = '../data'\n",
    "EMBEDDING_DIM = 512"
   ]
  },
  {
   "cell_type": "code",
   "execution_count": 2,
   "metadata": {},
   "outputs": [],
   "source": [
    "import tensorflow as tf\n",
    "import pandas as pd\n",
    "import numpy as np\n",
    "import os\n",
    "import tensorflow_hub as hub\n",
    "import tensorflow.keras.backend as K\n",
    "from tensorflow.keras.models import Model, load_model\n",
    "from tensorflow.keras.layers import Layer\n",
    "import tensorflow.keras.layers as layers\n",
    "from tensorflow.keras.optimizers import Adam, Adagrad"
   ]
  },
  {
   "cell_type": "code",
   "execution_count": 17,
   "metadata": {},
   "outputs": [],
   "source": [
    "class USEEmbeddingLayer(Layer):\n",
    "    def __init__(self, trainable=True, **kwargs):\n",
    "        self.dimensions = EMBEDDING_DIM\n",
    "        super(USEEmbeddingLayer, self).__init__(**kwargs)\n",
    "        self.trainable=trainable\n",
    "\n",
    "    def build(self, input_shape):\n",
    "        self.use = hub.Module('https://tfhub.dev/google/universal-sentence-encoder-large/3', trainable=True,\n",
    "                               name=\"{}_module\".format(self.name))\n",
    "        wts = tf.trainable_variables(scope=\".*{}_module/.*\".format(self.name))\n",
    "        wts = [v for v in wts if not (\"SNLI\" in v.name or \"SHARED_RANK_ANSWER\" in v.name)]\n",
    "        if len(wts)>0:\n",
    "          if self.trainable:\n",
    "            self._trainable_weights += wts\n",
    "          else:\n",
    "            self._non_trainable_weights += wts\n",
    "        else:\n",
    "          print('WARNING: No weights in Embedding Layer')\n",
    "        super(USEEmbeddingLayer, self).build(input_shape)\n",
    "\n",
    "   \n",
    "    def call(self, x, mask=None):\n",
    "        result = self.use(tf.squeeze(tf.cast(x, tf.string), axis=1))\n",
    "        return result\n",
    "\n",
    "    def compute_mask(self, inputs, mask=None):\n",
    "        return tf.not_equal(inputs, '--PAD--')\n",
    "\n",
    "    def compute_output_shape(self, input_shape):\n",
    "        return (input_shape[0], self.dimensions)"
   ]
  },
  {
   "cell_type": "code",
   "execution_count": 48,
   "metadata": {},
   "outputs": [],
   "source": [
    "def build_model(): \n",
    "  input_text = layers.Input(shape=(1,), dtype=\"string\")\n",
    "  embedding = USEEmbeddingLayer(trainable=False)(input_text)\n",
    "  dense1 = layers.Dense(512, activation='relu')(embedding)\n",
    "\n",
    "  dropout0 = layers.Dropout(0)(dense1)\n",
    "  pred = layers.Dense(1, activation='sigmoid')(dropout0)\n",
    "\n",
    "  model = Model(inputs=[input_text], outputs=pred)\n",
    "\n",
    "  return model"
   ]
  },
  {
   "cell_type": "code",
   "execution_count": 49,
   "metadata": {
    "scrolled": true
   },
   "outputs": [
    {
     "name": "stdout",
     "output_type": "stream",
     "text": [
      "INFO:tensorflow:Saver not created because there are no variables in the graph to restore\n"
     ]
    },
    {
     "name": "stderr",
     "output_type": "stream",
     "text": [
      "I1001 13:23:58.309897 140256719836992 saver.py:1483] Saver not created because there are no variables in the graph to restore\n"
     ]
    }
   ],
   "source": [
    "model = build_model()"
   ]
  },
  {
   "cell_type": "code",
   "execution_count": 50,
   "metadata": {},
   "outputs": [],
   "source": [
    "init = tf.global_variables_initializer()\n",
    "table_init = tf.tables_initializer()\n",
    "sess = tf.Session()\n",
    "sess.run([init, table_init])\n",
    "K.set_session(sess)\n",
    "\n",
    "model_path = os.path.join(MODEL_DIR, MODEL_FILE)\n",
    "model.load_weights(model_path)"
   ]
  },
  {
   "cell_type": "code",
   "execution_count": 51,
   "metadata": {},
   "outputs": [],
   "source": [
    "def sex(s):\n",
    "    it = model.predict(np.array([s]).reshape(-1,1))[0][0]\n",
    "    return(it)"
   ]
  },
  {
   "cell_type": "code",
   "execution_count": 53,
   "metadata": {},
   "outputs": [
    {
     "data": {
      "text/plain": [
       "0.9581755362451077"
      ]
     },
     "execution_count": 53,
     "metadata": {},
     "output_type": "execute_result"
    }
   ],
   "source": [
    "tweet = 'omg omg omg omg i cried so much, my awkward, estranged, my adorable chocolate uterus. '+\\\n",
    "    'everyone loves closed eye chiffon skirts. omg omg i hate them so '+\\\n",
    "    'yet i feel so alone. omg omg herbals with fashioinable pistils'\n",
    "1-sex(tweet)"
   ]
  },
  {
   "cell_type": "code",
   "execution_count": 54,
   "metadata": {},
   "outputs": [
    {
     "data": {
      "text/plain": [
       "0.9628115"
      ]
     },
     "execution_count": 54,
     "metadata": {},
     "output_type": "execute_result"
    }
   ],
   "source": [
    "tweet='false logic fucked football optimize deep essential solid golf '+\\\n",
    "    'unproven can entirely fucked simulate with deadweight Becker Friedman loaded AK-47 or fucked ass'\n",
    "sex(tweet)"
   ]
  }
 ],
 "metadata": {
  "kernelspec": {
   "display_name": "tf1",
   "language": "python",
   "name": "tf1"
  },
  "language_info": {
   "codemirror_mode": {
    "name": "ipython",
    "version": 3
   },
   "file_extension": ".py",
   "mimetype": "text/x-python",
   "name": "python",
   "nbconvert_exporter": "python",
   "pygments_lexer": "ipython3",
   "version": "3.7.3"
  }
 },
 "nbformat": 4,
 "nbformat_minor": 2
}
