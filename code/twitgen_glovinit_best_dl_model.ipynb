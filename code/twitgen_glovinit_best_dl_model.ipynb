{
  "nbformat": 4,
  "nbformat_minor": 0,
  "metadata": {
    "colab": {
      "name": "twitgen_glovinit_best_dl_model",
      "version": "0.3.2",
      "provenance": [],
      "collapsed_sections": [],
      "include_colab_link": true
    },
    "kernelspec": {
      "name": "python3",
      "display_name": "Python 3"
    },
    "accelerator": "GPU"
  },
  "cells": [
    {
      "cell_type": "markdown",
      "metadata": {
        "id": "view-in-github",
        "colab_type": "text"
      },
      "source": [
        "<a href=\"https://colab.research.google.com/github/andyharless/twit_demog/blob/master/twitgen_glovinit_best_dl_model.ipynb\" target=\"_parent\"><img src=\"https://colab.research.google.com/assets/colab-badge.svg\" alt=\"Open In Colab\"/></a>"
      ]
    },
    {
      "cell_type": "code",
      "metadata": {
        "id": "Ax4RdzBXu65o",
        "colab_type": "code",
        "outputId": "f09465fa-bbd0-4338-e319-89b27fbafddb",
        "colab": {
          "base_uri": "https://localhost:8080/",
          "height": 122
        }
      },
      "source": [
        "do_mount=True\n",
        "if do_mount:\n",
        "  from google.colab import drive\n",
        "  drive.mount('/content/gdrive')"
      ],
      "execution_count": 1,
      "outputs": [
        {
          "output_type": "stream",
          "text": [
            "Go to this URL in a browser: https://accounts.google.com/o/oauth2/auth?client_id=947318989803-6bn6qk8qdgf4n4g3pfee6491hc0brc4i.apps.googleusercontent.com&redirect_uri=urn%3Aietf%3Awg%3Aoauth%3A2.0%3Aoob&scope=email%20https%3A%2F%2Fwww.googleapis.com%2Fauth%2Fdocs.test%20https%3A%2F%2Fwww.googleapis.com%2Fauth%2Fdrive%20https%3A%2F%2Fwww.googleapis.com%2Fauth%2Fdrive.photos.readonly%20https%3A%2F%2Fwww.googleapis.com%2Fauth%2Fpeopleapi.readonly&response_type=code\n",
            "\n",
            "Enter your authorization code:\n",
            "··········\n",
            "Mounted at /content/gdrive\n"
          ],
          "name": "stdout"
        }
      ]
    },
    {
      "cell_type": "code",
      "metadata": {
        "id": "Hg5Y784oysWW",
        "colab_type": "code",
        "colab": {}
      },
      "source": [
        "# Parameters\n",
        "do_save_activations = True\n",
        "\n",
        "TRAIN_INPUT = 'twitgen_train_201906011956.csv'\n",
        "VALID_INPUT = 'twitgen_valid_201906011956.csv'\n",
        "TEST_INPUT = 'twitgen_test_201906011956.csv'\n",
        "EMBEDDING_DIM = 200\n",
        "MAXLEN = 50  # Maximum number of words per tweet that will be processed"
      ],
      "execution_count": 0,
      "outputs": []
    },
    {
      "cell_type": "code",
      "metadata": {
        "id": "x-H3ypYSfqro",
        "colab_type": "code",
        "colab": {}
      },
      "source": [
        "basepath = '/content/gdrive/My Drive/twitgen/'\n",
        "glovefile = 'glove.twitter.27B.200d.txt.gz'\n",
        "glovepath = basepath + glovefile"
      ],
      "execution_count": 0,
      "outputs": []
    },
    {
      "cell_type": "code",
      "metadata": {
        "id": "ZTHMDATrw2or",
        "colab_type": "code",
        "outputId": "8e574c7e-2ac5-4059-8d40-379f343bb3a9",
        "colab": {
          "base_uri": "https://localhost:8080/",
          "height": 85
        }
      },
      "source": [
        "if do_mount:\n",
        "  # Get the embedding initialization file\n",
        "  !cp '$glovepath' .\n",
        "  !gunzip $glovefile\n",
        "  !ls -l"
      ],
      "execution_count": 4,
      "outputs": [
        {
          "output_type": "stream",
          "text": [
            "total 2009380\n",
            "drwx------ 3 root root       4096 Jul  3 18:57 gdrive\n",
            "-rw------- 1 root root 2057590469 Jul  3 18:57 glove.twitter.27B.200d.txt\n",
            "drwxr-xr-x 1 root root       4096 Jun 18 16:14 sample_data\n"
          ],
          "name": "stdout"
        }
      ]
    },
    {
      "cell_type": "code",
      "metadata": {
        "id": "Ki5FWLkTycV4",
        "colab_type": "code",
        "outputId": "9974b4f1-447e-43ad-f00f-d07839d3c3a8",
        "colab": {
          "base_uri": "https://localhost:8080/",
          "height": 51
        }
      },
      "source": [
        "import tensorflow as tf\n",
        "import pandas as pd\n",
        "import os\n",
        "import re\n",
        "import keras\n",
        "from keras import backend as K\n",
        "import keras.layers as layers\n",
        "from keras.models import Model, load_model\n",
        "from keras.engine import Layer\n",
        "from keras.optimizers import Adam, Adagrad\n",
        "from keras.preprocessing.text import Tokenizer\n",
        "from keras.preprocessing.sequence import pad_sequences\n",
        "import numpy as np\n",
        "from datetime import datetime\n",
        "import string\n",
        "\n",
        "keras.__version__"
      ],
      "execution_count": 5,
      "outputs": [
        {
          "output_type": "stream",
          "text": [
            "Using TensorFlow backend.\n"
          ],
          "name": "stderr"
        },
        {
          "output_type": "execute_result",
          "data": {
            "text/plain": [
              "'2.2.4'"
            ]
          },
          "metadata": {
            "tags": []
          },
          "execution_count": 5
        }
      ]
    },
    {
      "cell_type": "code",
      "metadata": {
        "id": "diA4mf7rx5dG",
        "colab_type": "code",
        "outputId": "c89158f1-1deb-4379-94e1-1aff10661ccd",
        "colab": {
          "base_uri": "https://localhost:8080/",
          "height": 235
        }
      },
      "source": [
        "# Read in the data\n",
        "df_train = pd.read_csv(basepath+TRAIN_INPUT, index_col=['id','time'], parse_dates=['time'])\n",
        "df_valid = pd.read_csv(basepath+VALID_INPUT, index_col=['id','time'], parse_dates=['time'])\n",
        "df_test = pd.read_csv(basepath+TEST_INPUT, index_col=['id','time'], parse_dates=['time'])\n",
        "df_train.head()"
      ],
      "execution_count": 6,
      "outputs": [
        {
          "output_type": "execute_result",
          "data": {
            "text/html": [
              "<div>\n",
              "<style scoped>\n",
              "    .dataframe tbody tr th:only-of-type {\n",
              "        vertical-align: middle;\n",
              "    }\n",
              "\n",
              "    .dataframe tbody tr th {\n",
              "        vertical-align: top;\n",
              "    }\n",
              "\n",
              "    .dataframe thead th {\n",
              "        text-align: right;\n",
              "    }\n",
              "</style>\n",
              "<table border=\"1\" class=\"dataframe\">\n",
              "  <thead>\n",
              "    <tr style=\"text-align: right;\">\n",
              "      <th></th>\n",
              "      <th></th>\n",
              "      <th>text</th>\n",
              "      <th>male</th>\n",
              "    </tr>\n",
              "    <tr>\n",
              "      <th>id</th>\n",
              "      <th>time</th>\n",
              "      <th></th>\n",
              "      <th></th>\n",
              "    </tr>\n",
              "  </thead>\n",
              "  <tbody>\n",
              "    <tr>\n",
              "      <th>1083596943807393792</th>\n",
              "      <th>2019-05-27 23:27:08+00:00</th>\n",
              "      <td>Ah, the Flat Earth gambit.\\nWell played.</td>\n",
              "      <td>True</td>\n",
              "    </tr>\n",
              "    <tr>\n",
              "      <th>815783987784187904</th>\n",
              "      <th>2019-05-24 15:36:01+00:00</th>\n",
              "      <td>Aw ily</td>\n",
              "      <td>False</td>\n",
              "    </tr>\n",
              "    <tr>\n",
              "      <th>3458239641</th>\n",
              "      <th>2019-05-24 19:00:37+00:00</th>\n",
              "      <td>I hate being sick</td>\n",
              "      <td>False</td>\n",
              "    </tr>\n",
              "    <tr>\n",
              "      <th>1003729876250226688</th>\n",
              "      <th>2019-05-26 12:53:00+00:00</th>\n",
              "      <td>You still didn't' do shit tho. Slow down the...</td>\n",
              "      <td>True</td>\n",
              "    </tr>\n",
              "    <tr>\n",
              "      <th>2360143940</th>\n",
              "      <th>2019-05-28 03:50:46+00:00</th>\n",
              "      <td>Harriet Tubman may not be on the $20 bill... f...</td>\n",
              "      <td>False</td>\n",
              "    </tr>\n",
              "  </tbody>\n",
              "</table>\n",
              "</div>"
            ],
            "text/plain": [
              "                                                                                            text   male\n",
              "id                  time                                                                               \n",
              "1083596943807393792 2019-05-27 23:27:08+00:00           Ah, the Flat Earth gambit.\\nWell played.   True\n",
              "815783987784187904  2019-05-24 15:36:01+00:00                                             Aw ily  False\n",
              "3458239641          2019-05-24 19:00:37+00:00                                  I hate being sick  False\n",
              "1003729876250226688 2019-05-26 12:53:00+00:00    You still didn't' do shit tho. Slow down the...   True\n",
              "2360143940          2019-05-28 03:50:46+00:00  Harriet Tubman may not be on the $20 bill... f...  False"
            ]
          },
          "metadata": {
            "tags": []
          },
          "execution_count": 6
        }
      ]
    },
    {
      "cell_type": "code",
      "metadata": {
        "id": "tiWLlkKOx_G2",
        "colab_type": "code",
        "outputId": "c0956eac-c420-47a0-981d-248b238318be",
        "colab": {
          "base_uri": "https://localhost:8080/",
          "height": 34
        }
      },
      "source": [
        "# Maximum number of words per tweet in each data set\n",
        "(df_train.text.str.split().apply(len).max(), \n",
        " df_valid.text.str.split().apply(len).max(),\n",
        " df_test.text.str.split().apply(len).max())"
      ],
      "execution_count": 7,
      "outputs": [
        {
          "output_type": "execute_result",
          "data": {
            "text/plain": [
              "(34, 30, 31)"
            ]
          },
          "metadata": {
            "tags": []
          },
          "execution_count": 7
        }
      ]
    },
    {
      "cell_type": "code",
      "metadata": {
        "id": "TYo_WNX3x_PO",
        "colab_type": "code",
        "colab": {}
      },
      "source": [
        "# Text Normalization function\n",
        "\n",
        "# Taken from \n",
        "# https://medium.com/@sabber/classifying-yelp-review-comments-using-lstm-and-word-embeddings-part-1-eb2275e4066b\n",
        "# which was taken from https://www.kaggle.com/lystdo/lstm-with-word2vec-embeddings\n",
        "# but this version no longer does stemming or stop word elmination\n",
        "\n",
        "# This is for general text, not Twitter-specific.\n",
        "# Maybe would get a better classifier if we used a Python transaltion of this:\n",
        "# https://nlp.stanford.edu/projects/glove/preprocess-twitter.rb\n",
        "# but that is arguably outside the scope of this project\n",
        "# and my initial attempts to use Twitter-specific preprocessing have been unsuccessful\n",
        "\n",
        "\n",
        "def clean_text(text):\n",
        "    \n",
        "    ## Remove puncuation\n",
        "    text = text.translate(string.punctuation)\n",
        "    \n",
        "    ## Convert words to lower case and split them\n",
        "    text = text.lower().split()\n",
        "    \n",
        "    text = \" \".join(text)\n",
        "    ## Clean the text\n",
        "    text = re.sub(r\"[^A-Za-z0-9^,!.\\/'+-=]\", \" \", text)\n",
        "    text = re.sub(r\"what's\", \"what is \", text)\n",
        "    text = re.sub(r\"\\'s\", \" \", text)\n",
        "    text = re.sub(r\"\\'ve\", \" have \", text)\n",
        "    text = re.sub(r\"n't\", \" not \", text)\n",
        "    text = re.sub(r\"i'm\", \"i am \", text)\n",
        "    text = re.sub(r\"\\'re\", \" are \", text)\n",
        "    text = re.sub(r\"\\'d\", \" would \", text)\n",
        "    text = re.sub(r\"\\'ll\", \" will \", text)\n",
        "    text = re.sub(r\",\", \" \", text)\n",
        "    text = re.sub(r\"\\.\", \" \", text)\n",
        "    text = re.sub(r\"!\", \" ! \", text)\n",
        "    text = re.sub(r\"\\/\", \" \", text)\n",
        "    text = re.sub(r\"\\^\", \" ^ \", text)\n",
        "    text = re.sub(r\"\\+\", \" + \", text)\n",
        "    text = re.sub(r\"\\-\", \" - \", text)\n",
        "    text = re.sub(r\"\\=\", \" = \", text)\n",
        "    text = re.sub(r\"'\", \" \", text)\n",
        "    text = re.sub(r\"(\\d+)(k)\", r\"\\g<1>000\", text)\n",
        "    text = re.sub(r\":\", \" : \", text)\n",
        "    text = re.sub(r\" e g \", \" eg \", text)\n",
        "    text = re.sub(r\" b g \", \" bg \", text)\n",
        "    text = re.sub(r\" u s \", \" american \", text)\n",
        "    text = re.sub(r\"\\0s\", \"0\", text)\n",
        "    text = re.sub(r\" 9 11 \", \"911\", text)\n",
        "    text = re.sub(r\"e - mail\", \"email\", text)\n",
        "    text = re.sub(r\"j k\", \"jk\", text)\n",
        "    text = re.sub(r\"\\s{2,}\", \" \", text)\n",
        "\n",
        "    return text\n"
      ],
      "execution_count": 0,
      "outputs": []
    },
    {
      "cell_type": "code",
      "metadata": {
        "id": "d1bOaiLe-Cwq",
        "colab_type": "code",
        "outputId": "cf5f3846-6c61-4404-81d4-ed736e1c6902",
        "colab": {
          "base_uri": "https://localhost:8080/",
          "height": 34
        }
      },
      "source": [
        "# Process the data for model input\n",
        "def get_texts_and_labels(df):\n",
        "  texts = df['text'].map(lambda x: clean_text(x)).tolist()\n",
        "  texts = [t.split()[0:MAXLEN] for t in texts]\n",
        "  labels = df['male'].tolist()\n",
        "  return texts, labels\n",
        "\n",
        "train_text, train_label = get_texts_and_labels(df_train)\n",
        "valid_text, valid_label = get_texts_and_labels(df_valid)\n",
        "test_text, test_label = get_texts_and_labels(df_test)\n",
        "\n",
        "max([len(x) for x in train_text]), max([len(x) for x in valid_text]), max([len(x) for x in test_text])"
      ],
      "execution_count": 9,
      "outputs": [
        {
          "output_type": "execute_result",
          "data": {
            "text/plain": [
              "(47, 42, 42)"
            ]
          },
          "metadata": {
            "tags": []
          },
          "execution_count": 9
        }
      ]
    },
    {
      "cell_type": "code",
      "metadata": {
        "id": "HGxYN53F8chY",
        "colab_type": "code",
        "colab": {}
      },
      "source": [
        "# Fit tokenizer on training data\n",
        "tok = Tokenizer()\n",
        "tok.fit_on_texts(train_text)\n",
        "vocab_size = len(tok.word_index) + 1"
      ],
      "execution_count": 0,
      "outputs": []
    },
    {
      "cell_type": "code",
      "metadata": {
        "id": "5FVpEPUM9M9D",
        "colab_type": "code",
        "outputId": "2f876571-be12-4897-b7b9-4e402b0565a6",
        "colab": {
          "base_uri": "https://localhost:8080/",
          "height": 68
        }
      },
      "source": [
        "# Tokenize the data\n",
        "def get_tokenized_texts(texts):\n",
        "  encoded_docs = tok.texts_to_sequences(texts)\n",
        "  padded_docs = pad_sequences(encoded_docs, maxlen=MAXLEN, padding='post')\n",
        "  return padded_docs\n",
        "\n",
        "docs_train = get_tokenized_texts(train_text)\n",
        "docs_valid = get_tokenized_texts(valid_text)\n",
        "docs_test = get_tokenized_texts(test_text)\n",
        "\n",
        "print(type(docs_train), len(docs_train), len(docs_valid), len(docs_test))\n",
        "docs_train[0][:10]"
      ],
      "execution_count": 11,
      "outputs": [
        {
          "output_type": "stream",
          "text": [
            "<class 'numpy.ndarray'> 34146 10914 10450\n"
          ],
          "name": "stdout"
        },
        {
          "output_type": "execute_result",
          "data": {
            "text/plain": [
              "array([  956,     1,  4035,  1154, 13312,     8,    98,   732,     0,\n",
              "           0], dtype=int32)"
            ]
          },
          "metadata": {
            "tags": []
          },
          "execution_count": 11
        }
      ]
    },
    {
      "cell_type": "code",
      "metadata": {
        "id": "i6x12xlm8ckN",
        "colab_type": "code",
        "outputId": "b88b8dc9-e7cd-4236-bbae-e74fa05c34b5",
        "colab": {
          "base_uri": "https://localhost:8080/",
          "height": 34
        }
      },
      "source": [
        "# Load the whole embedding into memory\n",
        "embeddings_index = dict()\n",
        "f = open(glovefile[:-3])\n",
        "for line in f:\n",
        "\tvalues = line.split()\n",
        "\tword = values[0]\n",
        "\tcoefs = np.asarray(values[1:], dtype='float32')\n",
        "\tembeddings_index[word] = coefs\n",
        "f.close()\n",
        "print('Loaded %s word vectors.' % len(embeddings_index))"
      ],
      "execution_count": 12,
      "outputs": [
        {
          "output_type": "stream",
          "text": [
            "Loaded 1193514 word vectors.\n"
          ],
          "name": "stdout"
        }
      ]
    },
    {
      "cell_type": "code",
      "metadata": {
        "id": "JXkU0hx6JoXx",
        "colab_type": "code",
        "colab": {}
      },
      "source": [
        "# Create a weight matrix for words in training docs\n",
        "embedding_matrix = np.zeros((vocab_size, EMBEDDING_DIM))\n",
        "for word, i in tok.word_index.items():\n",
        "\tembedding_vector = embeddings_index.get(word)\n",
        "\tif embedding_vector is not None:\n",
        "\t\tembedding_matrix[i] = embedding_vector"
      ],
      "execution_count": 0,
      "outputs": []
    },
    {
      "cell_type": "code",
      "metadata": {
        "id": "pTM8vFvYvrBQ",
        "colab_type": "code",
        "outputId": "51e94d24-4742-43eb-8b09-8f446798b63e",
        "colab": {
          "base_uri": "https://localhost:8080/",
          "height": 1000
        }
      },
      "source": [
        "# NERUAL NETWORK MODEL\n",
        "\n",
        "\n",
        "# PARAMETERS\n",
        "batchsize = 128\n",
        "\n",
        "lstm_dim = 80\n",
        "residual_connection_width = 40\n",
        "\n",
        "dropout_factor = 1.07\n",
        "spatiotemporal_dropout = 0.25 * dropout_factor\n",
        "lstm_dropout = 0.3 * dropout_factor\n",
        "residual_connection_dropout = 0.6 * dropout_factor\n",
        "final_dropout = 0.7 * dropout_factor\n",
        "\n",
        "base_frozen_lr = 1e-3\n",
        "base_frozen_decay = 1e-4\n",
        "frozen_epochs = 35\n",
        "frozen_batchsize = batchsize\n",
        "\n",
        "base_unfrozen_lr = 1.3e-4\n",
        "base_unfrozen_decay = 2.5e-4\n",
        "unfrozen_epochs = 29\n",
        "unfrozen_batchsize = batchsize\n",
        "\n",
        "\n",
        "base_batchsize = 512\n",
        "\n",
        "frozen_lr_factor = frozen_batchsize / base_batchsize\n",
        "unfrozen_lr_factor = unfrozen_batchsize / base_batchsize\n",
        "\n",
        "frozen_lr = base_frozen_lr * frozen_lr_factor\n",
        "frozen_decay = base_frozen_decay * frozen_lr_factor\n",
        "\n",
        "unfrozen_lr = base_unfrozen_lr * unfrozen_lr_factor\n",
        "unfrozen_decay = base_unfrozen_decay * unfrozen_lr_factor\n",
        "\n",
        "\n",
        "inputs = layers.Input((MAXLEN,), dtype=\"int32\")\n",
        "\n",
        "\n",
        "# EMBEDDING BLOCK\n",
        "raw_embed = layers.Embedding(vocab_size, \n",
        "                           EMBEDDING_DIM, \n",
        "                           weights=[embedding_matrix], \n",
        "                           input_length=MAXLEN, \n",
        "                           trainable=False)(inputs)\n",
        "embed_random_drop = layers.Dropout(rate=spatiotemporal_dropout)(raw_embed)\n",
        "embed_time_drop = layers.Dropout(rate=spatiotemporal_dropout, \n",
        "                       noise_shape=(None, MAXLEN, 1))(embed_random_drop)\n",
        "\n",
        "\n",
        "# LEFT LSTM BLOCK\n",
        "\n",
        "# Backward LSTM layer\n",
        "lstm_bottom_left = layers.LSTM(lstm_dim, return_sequences=True, \n",
        "                               go_backwards=True, dropout=lstm_dropout, \n",
        "                               recurrent_dropout=lstm_dropout)(embed_time_drop)\n",
        "lstm_random_drop_left = layers.Dropout(rate=spatiotemporal_dropout)(lstm_bottom_left)\n",
        "lstm_time_drop_left = layers.Dropout(rate=spatiotemporal_dropout, \n",
        "                            noise_shape=(None,MAXLEN,1))(lstm_random_drop_left)\n",
        "# Forward LSTM layer\n",
        "lstm_top_left = layers.LSTM(lstm_dim, return_sequences=False, dropout=lstm_dropout, \n",
        "                            recurrent_dropout=lstm_dropout)(lstm_time_drop_left)\n",
        "\n",
        "\n",
        "# RIGHT LSTM BLOCK\n",
        "\n",
        "# Forward LSTM layer\n",
        "lstm_bottom_right = layers.LSTM(lstm_dim, return_sequences=True, dropout=lstm_dropout, \n",
        "                                recurrent_dropout=lstm_dropout)(embed_time_drop)\n",
        "lstm_random_drop_right = layers.Dropout(rate=spatiotemporal_dropout)(lstm_bottom_right)\n",
        "lstm_time_drop_right = layers.Dropout(rate=spatiotemporal_dropout, \n",
        "                            noise_shape=(None,MAXLEN,1))(lstm_random_drop_right)\n",
        "# Backward LSTM layer\n",
        "lstm_top_right = layers.LSTM(80, return_sequences=False, \n",
        "                             go_backwards=True, dropout=lstm_dropout, \n",
        "                             recurrent_dropout=lstm_dropout)(lstm_time_drop_right)\n",
        "\n",
        "\n",
        "# MERGE LEFT AND RIGHT BLOCK\n",
        "merged_lstm = layers.merge.concatenate([lstm_top_left, lstm_top_right])\n",
        "\n",
        "\n",
        "# LEFT RESIDUAL BRANCH\n",
        "dropout_resid = layers.Dropout(rate=residual_connection_dropout)(merged_lstm)\n",
        "dense_resid = layers.Dense(residual_connection_width, activation='relu')(dropout_resid)\n",
        "\n",
        "# RIGHT RESIDUAL BRANCH\n",
        "dropout_resid2 = layers.Dropout(rate=residual_connection_dropout)(merged_lstm)\n",
        "dense_resid2 = layers.Dense(residual_connection_width, activation='relu')(dropout_resid2)\n",
        "\n",
        "\n",
        "# FINAL DENSE BLOCK\n",
        "merged_resid = layers.merge.concatenate([merged_lstm, dense_resid, dense_resid2],\n",
        "                                       name='final_concat')\n",
        "dropout = layers.Dropout(rate=final_dropout)(merged_resid)\n",
        "pred = layers.Dense(1, activation='sigmoid')(dropout)\n",
        "\n",
        "\n",
        "# FINAL MODEL\n",
        "model = Model(inputs=[inputs], outputs=pred)\n",
        "model.compile(optimizer=Adam(frozen_lr, decay=frozen_decay), \n",
        "              loss='binary_crossentropy', metrics=['acc'])\n",
        "model.summary()"
      ],
      "execution_count": 14,
      "outputs": [
        {
          "output_type": "stream",
          "text": [
            "WARNING: Logging before flag parsing goes to stderr.\n",
            "W0703 18:58:37.001498 140369849288576 deprecation_wrapper.py:119] From /usr/local/lib/python3.6/dist-packages/keras/backend/tensorflow_backend.py:74: The name tf.get_default_graph is deprecated. Please use tf.compat.v1.get_default_graph instead.\n",
            "\n",
            "W0703 18:58:37.038145 140369849288576 deprecation_wrapper.py:119] From /usr/local/lib/python3.6/dist-packages/keras/backend/tensorflow_backend.py:517: The name tf.placeholder is deprecated. Please use tf.compat.v1.placeholder instead.\n",
            "\n",
            "W0703 18:58:37.045511 140369849288576 deprecation_wrapper.py:119] From /usr/local/lib/python3.6/dist-packages/keras/backend/tensorflow_backend.py:4138: The name tf.random_uniform is deprecated. Please use tf.random.uniform instead.\n",
            "\n",
            "W0703 18:58:37.055853 140369849288576 deprecation_wrapper.py:119] From /usr/local/lib/python3.6/dist-packages/keras/backend/tensorflow_backend.py:174: The name tf.get_default_session is deprecated. Please use tf.compat.v1.get_default_session instead.\n",
            "\n",
            "W0703 18:58:37.056718 140369849288576 deprecation_wrapper.py:119] From /usr/local/lib/python3.6/dist-packages/keras/backend/tensorflow_backend.py:181: The name tf.ConfigProto is deprecated. Please use tf.compat.v1.ConfigProto instead.\n",
            "\n",
            "W0703 18:58:39.671691 140369849288576 deprecation.py:506] From /usr/local/lib/python3.6/dist-packages/keras/backend/tensorflow_backend.py:3445: calling dropout (from tensorflow.python.ops.nn_ops) with keep_prob is deprecated and will be removed in a future version.\n",
            "Instructions for updating:\n",
            "Please use `rate` instead of `keep_prob`. Rate should be set to `rate = 1 - keep_prob`.\n",
            "W0703 18:58:41.337154 140369849288576 nn_ops.py:4224] Large dropout rate: 0.642 (>0.5). In TensorFlow 2.x, dropout() uses dropout rate instead of keep_prob. Please ensure that this is intended.\n",
            "W0703 18:58:41.368628 140369849288576 nn_ops.py:4224] Large dropout rate: 0.642 (>0.5). In TensorFlow 2.x, dropout() uses dropout rate instead of keep_prob. Please ensure that this is intended.\n",
            "W0703 18:58:41.398545 140369849288576 nn_ops.py:4224] Large dropout rate: 0.749 (>0.5). In TensorFlow 2.x, dropout() uses dropout rate instead of keep_prob. Please ensure that this is intended.\n",
            "W0703 18:58:41.436438 140369849288576 deprecation_wrapper.py:119] From /usr/local/lib/python3.6/dist-packages/keras/optimizers.py:790: The name tf.train.Optimizer is deprecated. Please use tf.compat.v1.train.Optimizer instead.\n",
            "\n",
            "W0703 18:58:41.447036 140369849288576 deprecation.py:323] From /usr/local/lib/python3.6/dist-packages/tensorflow/python/ops/nn_impl.py:180: add_dispatch_support.<locals>.wrapper (from tensorflow.python.ops.array_ops) is deprecated and will be removed in a future version.\n",
            "Instructions for updating:\n",
            "Use tf.where in 2.0, which has the same broadcast rule as np.where\n"
          ],
          "name": "stderr"
        },
        {
          "output_type": "stream",
          "text": [
            "__________________________________________________________________________________________________\n",
            "Layer (type)                    Output Shape         Param #     Connected to                     \n",
            "==================================================================================================\n",
            "input_1 (InputLayer)            (None, 50)           0                                            \n",
            "__________________________________________________________________________________________________\n",
            "embedding_1 (Embedding)         (None, 50, 200)      6026200     input_1[0][0]                    \n",
            "__________________________________________________________________________________________________\n",
            "dropout_1 (Dropout)             (None, 50, 200)      0           embedding_1[0][0]                \n",
            "__________________________________________________________________________________________________\n",
            "dropout_2 (Dropout)             (None, 50, 200)      0           dropout_1[0][0]                  \n",
            "__________________________________________________________________________________________________\n",
            "lstm_1 (LSTM)                   (None, 50, 80)       89920       dropout_2[0][0]                  \n",
            "__________________________________________________________________________________________________\n",
            "lstm_3 (LSTM)                   (None, 50, 80)       89920       dropout_2[0][0]                  \n",
            "__________________________________________________________________________________________________\n",
            "dropout_3 (Dropout)             (None, 50, 80)       0           lstm_1[0][0]                     \n",
            "__________________________________________________________________________________________________\n",
            "dropout_5 (Dropout)             (None, 50, 80)       0           lstm_3[0][0]                     \n",
            "__________________________________________________________________________________________________\n",
            "dropout_4 (Dropout)             (None, 50, 80)       0           dropout_3[0][0]                  \n",
            "__________________________________________________________________________________________________\n",
            "dropout_6 (Dropout)             (None, 50, 80)       0           dropout_5[0][0]                  \n",
            "__________________________________________________________________________________________________\n",
            "lstm_2 (LSTM)                   (None, 80)           51520       dropout_4[0][0]                  \n",
            "__________________________________________________________________________________________________\n",
            "lstm_4 (LSTM)                   (None, 80)           51520       dropout_6[0][0]                  \n",
            "__________________________________________________________________________________________________\n",
            "concatenate_1 (Concatenate)     (None, 160)          0           lstm_2[0][0]                     \n",
            "                                                                 lstm_4[0][0]                     \n",
            "__________________________________________________________________________________________________\n",
            "dropout_7 (Dropout)             (None, 160)          0           concatenate_1[0][0]              \n",
            "__________________________________________________________________________________________________\n",
            "dropout_8 (Dropout)             (None, 160)          0           concatenate_1[0][0]              \n",
            "__________________________________________________________________________________________________\n",
            "dense_1 (Dense)                 (None, 40)           6440        dropout_7[0][0]                  \n",
            "__________________________________________________________________________________________________\n",
            "dense_2 (Dense)                 (None, 40)           6440        dropout_8[0][0]                  \n",
            "__________________________________________________________________________________________________\n",
            "final_concat (Concatenate)      (None, 240)          0           concatenate_1[0][0]              \n",
            "                                                                 dense_1[0][0]                    \n",
            "                                                                 dense_2[0][0]                    \n",
            "__________________________________________________________________________________________________\n",
            "dropout_9 (Dropout)             (None, 240)          0           final_concat[0][0]               \n",
            "__________________________________________________________________________________________________\n",
            "dense_3 (Dense)                 (None, 1)            241         dropout_9[0][0]                  \n",
            "==================================================================================================\n",
            "Total params: 6,322,201\n",
            "Trainable params: 296,001\n",
            "Non-trainable params: 6,026,200\n",
            "__________________________________________________________________________________________________\n"
          ],
          "name": "stdout"
        }
      ]
    },
    {
      "cell_type": "code",
      "metadata": {
        "id": "ahWwgKxU2BgX",
        "colab_type": "code",
        "outputId": "b1c203f7-cd24-454f-9ced-abfed34db31f",
        "colab": {
          "base_uri": "https://localhost:8080/",
          "height": 357
        }
      },
      "source": [
        "model.layers"
      ],
      "execution_count": 15,
      "outputs": [
        {
          "output_type": "execute_result",
          "data": {
            "text/plain": [
              "[<keras.engine.input_layer.InputLayer at 0x7faa0eb2fe48>,\n",
              " <keras.layers.embeddings.Embedding at 0x7faa0eb2feb8>,\n",
              " <keras.layers.core.Dropout at 0x7faa0eb2d400>,\n",
              " <keras.layers.core.Dropout at 0x7faa0eb2fe80>,\n",
              " <keras.layers.recurrent.LSTM at 0x7faa0eb2d198>,\n",
              " <keras.layers.recurrent.LSTM at 0x7faa0e305f60>,\n",
              " <keras.layers.core.Dropout at 0x7faa0eb2d0f0>,\n",
              " <keras.layers.core.Dropout at 0x7faa000b2eb8>,\n",
              " <keras.layers.core.Dropout at 0x7faa00502c18>,\n",
              " <keras.layers.core.Dropout at 0x7fa9b4f366a0>,\n",
              " <keras.layers.recurrent.LSTM at 0x7faa004d3b00>,\n",
              " <keras.layers.recurrent.LSTM at 0x7fa9b4f1f7f0>,\n",
              " <keras.layers.merge.Concatenate at 0x7fa9b4f1fa90>,\n",
              " <keras.layers.core.Dropout at 0x7fa9b4a10ef0>,\n",
              " <keras.layers.core.Dropout at 0x7fa9b49ae828>,\n",
              " <keras.layers.core.Dense at 0x7fa9b468f7f0>,\n",
              " <keras.layers.core.Dense at 0x7fa9b4563c50>,\n",
              " <keras.layers.merge.Concatenate at 0x7fa9b4563630>,\n",
              " <keras.layers.core.Dropout at 0x7fa9b44ef710>,\n",
              " <keras.layers.core.Dense at 0x7fa9b49aeeb8>]"
            ]
          },
          "metadata": {
            "tags": []
          },
          "execution_count": 15
        }
      ]
    },
    {
      "cell_type": "code",
      "metadata": {
        "id": "ATBuyXs8PIJr",
        "colab_type": "code",
        "outputId": "b7c7d22f-74ba-4576-f94d-a843e0f74604",
        "colab": {
          "base_uri": "https://localhost:8080/",
          "height": 1000
        }
      },
      "source": [
        "# Fit the frozen model\n",
        "\n",
        "model.fit(docs_train, train_label, epochs=frozen_epochs, \n",
        "          validation_data=(docs_valid, valid_label), batch_size=batchsize)"
      ],
      "execution_count": 16,
      "outputs": [
        {
          "output_type": "stream",
          "text": [
            "Train on 34146 samples, validate on 10914 samples\n",
            "Epoch 1/35\n",
            "34146/34146 [==============================] - 102s 3ms/step - loss: 0.6991 - acc: 0.5112 - val_loss: 0.6835 - val_acc: 0.5662\n",
            "Epoch 2/35\n",
            "34146/34146 [==============================] - 99s 3ms/step - loss: 0.6893 - acc: 0.5399 - val_loss: 0.6741 - val_acc: 0.5837\n",
            "Epoch 3/35\n",
            "34146/34146 [==============================] - 99s 3ms/step - loss: 0.6832 - acc: 0.5601 - val_loss: 0.6687 - val_acc: 0.5927\n",
            "Epoch 4/35\n",
            "34146/34146 [==============================] - 99s 3ms/step - loss: 0.6782 - acc: 0.5693 - val_loss: 0.6649 - val_acc: 0.5983\n",
            "Epoch 5/35\n",
            "34146/34146 [==============================] - 98s 3ms/step - loss: 0.6763 - acc: 0.5754 - val_loss: 0.6623 - val_acc: 0.6019\n",
            "Epoch 6/35\n",
            "34146/34146 [==============================] - 98s 3ms/step - loss: 0.6751 - acc: 0.5756 - val_loss: 0.6615 - val_acc: 0.6022\n",
            "Epoch 7/35\n",
            "34146/34146 [==============================] - 99s 3ms/step - loss: 0.6750 - acc: 0.5778 - val_loss: 0.6612 - val_acc: 0.6026\n",
            "Epoch 8/35\n",
            "34146/34146 [==============================] - 98s 3ms/step - loss: 0.6734 - acc: 0.5809 - val_loss: 0.6601 - val_acc: 0.6045\n",
            "Epoch 9/35\n",
            "34146/34146 [==============================] - 98s 3ms/step - loss: 0.6700 - acc: 0.5857 - val_loss: 0.6592 - val_acc: 0.6027\n",
            "Epoch 10/35\n",
            "34146/34146 [==============================] - 98s 3ms/step - loss: 0.6704 - acc: 0.5857 - val_loss: 0.6605 - val_acc: 0.6030\n",
            "Epoch 11/35\n",
            "34146/34146 [==============================] - 98s 3ms/step - loss: 0.6709 - acc: 0.5877 - val_loss: 0.6596 - val_acc: 0.6055\n",
            "Epoch 12/35\n",
            "34146/34146 [==============================] - 98s 3ms/step - loss: 0.6689 - acc: 0.5867 - val_loss: 0.6602 - val_acc: 0.6003\n",
            "Epoch 13/35\n",
            "34146/34146 [==============================] - 98s 3ms/step - loss: 0.6707 - acc: 0.5852 - val_loss: 0.6590 - val_acc: 0.6045\n",
            "Epoch 14/35\n",
            "34146/34146 [==============================] - 98s 3ms/step - loss: 0.6695 - acc: 0.5875 - val_loss: 0.6586 - val_acc: 0.6036\n",
            "Epoch 15/35\n",
            "34146/34146 [==============================] - 98s 3ms/step - loss: 0.6671 - acc: 0.5908 - val_loss: 0.6579 - val_acc: 0.6054\n",
            "Epoch 16/35\n",
            "34146/34146 [==============================] - 98s 3ms/step - loss: 0.6670 - acc: 0.5929 - val_loss: 0.6593 - val_acc: 0.6055\n",
            "Epoch 17/35\n",
            "34146/34146 [==============================] - 98s 3ms/step - loss: 0.6664 - acc: 0.5922 - val_loss: 0.6583 - val_acc: 0.6051\n",
            "Epoch 18/35\n",
            "34146/34146 [==============================] - 98s 3ms/step - loss: 0.6665 - acc: 0.5931 - val_loss: 0.6567 - val_acc: 0.6084\n",
            "Epoch 19/35\n",
            "34146/34146 [==============================] - 98s 3ms/step - loss: 0.6665 - acc: 0.5919 - val_loss: 0.6575 - val_acc: 0.6083\n",
            "Epoch 20/35\n",
            "34146/34146 [==============================] - 98s 3ms/step - loss: 0.6658 - acc: 0.5929 - val_loss: 0.6561 - val_acc: 0.6120\n",
            "Epoch 21/35\n",
            "34146/34146 [==============================] - 98s 3ms/step - loss: 0.6666 - acc: 0.5937 - val_loss: 0.6571 - val_acc: 0.6062\n",
            "Epoch 22/35\n",
            "34146/34146 [==============================] - 98s 3ms/step - loss: 0.6658 - acc: 0.5971 - val_loss: 0.6555 - val_acc: 0.6078\n",
            "Epoch 23/35\n",
            "34146/34146 [==============================] - 98s 3ms/step - loss: 0.6656 - acc: 0.5932 - val_loss: 0.6556 - val_acc: 0.6104\n",
            "Epoch 24/35\n",
            "34146/34146 [==============================] - 98s 3ms/step - loss: 0.6648 - acc: 0.5928 - val_loss: 0.6562 - val_acc: 0.6098\n",
            "Epoch 25/35\n",
            "34146/34146 [==============================] - 98s 3ms/step - loss: 0.6654 - acc: 0.5942 - val_loss: 0.6558 - val_acc: 0.6112\n",
            "Epoch 26/35\n",
            "34146/34146 [==============================] - 98s 3ms/step - loss: 0.6648 - acc: 0.5951 - val_loss: 0.6557 - val_acc: 0.6116\n",
            "Epoch 27/35\n",
            "34146/34146 [==============================] - 98s 3ms/step - loss: 0.6633 - acc: 0.5994 - val_loss: 0.6549 - val_acc: 0.6090\n",
            "Epoch 28/35\n",
            "34146/34146 [==============================] - 98s 3ms/step - loss: 0.6635 - acc: 0.5922 - val_loss: 0.6551 - val_acc: 0.6129\n",
            "Epoch 29/35\n",
            "34146/34146 [==============================] - 98s 3ms/step - loss: 0.6631 - acc: 0.5985 - val_loss: 0.6562 - val_acc: 0.6070\n",
            "Epoch 30/35\n",
            "34146/34146 [==============================] - 98s 3ms/step - loss: 0.6620 - acc: 0.6014 - val_loss: 0.6556 - val_acc: 0.6075\n",
            "Epoch 31/35\n",
            "34146/34146 [==============================] - 98s 3ms/step - loss: 0.6617 - acc: 0.5975 - val_loss: 0.6543 - val_acc: 0.6120\n",
            "Epoch 32/35\n",
            "34146/34146 [==============================] - 98s 3ms/step - loss: 0.6620 - acc: 0.5984 - val_loss: 0.6539 - val_acc: 0.6098\n",
            "Epoch 33/35\n",
            "34146/34146 [==============================] - 98s 3ms/step - loss: 0.6627 - acc: 0.5968 - val_loss: 0.6551 - val_acc: 0.6100\n",
            "Epoch 34/35\n",
            "34146/34146 [==============================] - 98s 3ms/step - loss: 0.6600 - acc: 0.6011 - val_loss: 0.6537 - val_acc: 0.6091\n",
            "Epoch 35/35\n",
            "34146/34146 [==============================] - 98s 3ms/step - loss: 0.6624 - acc: 0.5996 - val_loss: 0.6543 - val_acc: 0.6102\n"
          ],
          "name": "stdout"
        },
        {
          "output_type": "execute_result",
          "data": {
            "text/plain": [
              "<keras.callbacks.History at 0x7faa0ebc5470>"
            ]
          },
          "metadata": {
            "tags": []
          },
          "execution_count": 16
        }
      ]
    },
    {
      "cell_type": "code",
      "metadata": {
        "id": "MY-pnpQY3aL7",
        "colab_type": "code",
        "outputId": "5879da08-d36e-4d31-a862-a364cca4b6e9",
        "colab": {
          "base_uri": "https://localhost:8080/",
          "height": 357
        }
      },
      "source": [
        "[(l.name, l.trainable) for l in model.layers]"
      ],
      "execution_count": 17,
      "outputs": [
        {
          "output_type": "execute_result",
          "data": {
            "text/plain": [
              "[('input_1', False),\n",
              " ('embedding_1', False),\n",
              " ('dropout_1', True),\n",
              " ('dropout_2', True),\n",
              " ('lstm_1', True),\n",
              " ('lstm_3', True),\n",
              " ('dropout_3', True),\n",
              " ('dropout_5', True),\n",
              " ('dropout_4', True),\n",
              " ('dropout_6', True),\n",
              " ('lstm_2', True),\n",
              " ('lstm_4', True),\n",
              " ('concatenate_1', True),\n",
              " ('dropout_7', True),\n",
              " ('dropout_8', True),\n",
              " ('dense_1', True),\n",
              " ('dense_2', True),\n",
              " ('final_concat', True),\n",
              " ('dropout_9', True),\n",
              " ('dense_3', True)]"
            ]
          },
          "metadata": {
            "tags": []
          },
          "execution_count": 17
        }
      ]
    },
    {
      "cell_type": "code",
      "metadata": {
        "id": "MkW7g59L4RtL",
        "colab_type": "code",
        "outputId": "5c9eb406-162c-402b-939c-b616743f9693",
        "colab": {
          "base_uri": "https://localhost:8080/",
          "height": 867
        }
      },
      "source": [
        "# Unfreeze the embeddings\n",
        "model.layers[1].trainable = True\n",
        "model.compile(optimizer=Adam(unfrozen_lr, decay=unfrozen_decay), \n",
        "              loss='binary_crossentropy', metrics=['acc'])\n",
        "model.summary()"
      ],
      "execution_count": 18,
      "outputs": [
        {
          "output_type": "stream",
          "text": [
            "__________________________________________________________________________________________________\n",
            "Layer (type)                    Output Shape         Param #     Connected to                     \n",
            "==================================================================================================\n",
            "input_1 (InputLayer)            (None, 50)           0                                            \n",
            "__________________________________________________________________________________________________\n",
            "embedding_1 (Embedding)         (None, 50, 200)      6026200     input_1[0][0]                    \n",
            "__________________________________________________________________________________________________\n",
            "dropout_1 (Dropout)             (None, 50, 200)      0           embedding_1[0][0]                \n",
            "__________________________________________________________________________________________________\n",
            "dropout_2 (Dropout)             (None, 50, 200)      0           dropout_1[0][0]                  \n",
            "__________________________________________________________________________________________________\n",
            "lstm_1 (LSTM)                   (None, 50, 80)       89920       dropout_2[0][0]                  \n",
            "__________________________________________________________________________________________________\n",
            "lstm_3 (LSTM)                   (None, 50, 80)       89920       dropout_2[0][0]                  \n",
            "__________________________________________________________________________________________________\n",
            "dropout_3 (Dropout)             (None, 50, 80)       0           lstm_1[0][0]                     \n",
            "__________________________________________________________________________________________________\n",
            "dropout_5 (Dropout)             (None, 50, 80)       0           lstm_3[0][0]                     \n",
            "__________________________________________________________________________________________________\n",
            "dropout_4 (Dropout)             (None, 50, 80)       0           dropout_3[0][0]                  \n",
            "__________________________________________________________________________________________________\n",
            "dropout_6 (Dropout)             (None, 50, 80)       0           dropout_5[0][0]                  \n",
            "__________________________________________________________________________________________________\n",
            "lstm_2 (LSTM)                   (None, 80)           51520       dropout_4[0][0]                  \n",
            "__________________________________________________________________________________________________\n",
            "lstm_4 (LSTM)                   (None, 80)           51520       dropout_6[0][0]                  \n",
            "__________________________________________________________________________________________________\n",
            "concatenate_1 (Concatenate)     (None, 160)          0           lstm_2[0][0]                     \n",
            "                                                                 lstm_4[0][0]                     \n",
            "__________________________________________________________________________________________________\n",
            "dropout_7 (Dropout)             (None, 160)          0           concatenate_1[0][0]              \n",
            "__________________________________________________________________________________________________\n",
            "dropout_8 (Dropout)             (None, 160)          0           concatenate_1[0][0]              \n",
            "__________________________________________________________________________________________________\n",
            "dense_1 (Dense)                 (None, 40)           6440        dropout_7[0][0]                  \n",
            "__________________________________________________________________________________________________\n",
            "dense_2 (Dense)                 (None, 40)           6440        dropout_8[0][0]                  \n",
            "__________________________________________________________________________________________________\n",
            "final_concat (Concatenate)      (None, 240)          0           concatenate_1[0][0]              \n",
            "                                                                 dense_1[0][0]                    \n",
            "                                                                 dense_2[0][0]                    \n",
            "__________________________________________________________________________________________________\n",
            "dropout_9 (Dropout)             (None, 240)          0           final_concat[0][0]               \n",
            "__________________________________________________________________________________________________\n",
            "dense_3 (Dense)                 (None, 1)            241         dropout_9[0][0]                  \n",
            "==================================================================================================\n",
            "Total params: 6,322,201\n",
            "Trainable params: 6,322,201\n",
            "Non-trainable params: 0\n",
            "__________________________________________________________________________________________________\n"
          ],
          "name": "stdout"
        }
      ]
    },
    {
      "cell_type": "code",
      "metadata": {
        "id": "yQKYvhz5Kqw8",
        "colab_type": "code",
        "outputId": "b9fd5f66-e957-440e-fe3c-9fa7d5ed14ab",
        "colab": {
          "base_uri": "https://localhost:8080/",
          "height": 1000
        }
      },
      "source": [
        "# Fit the unfrozen model\n",
        "\n",
        "model.fit(docs_train, train_label, epochs=unfrozen_epochs, \n",
        "          validation_data=(docs_valid, valid_label), batch_size=unfrozen_batchsize)"
      ],
      "execution_count": 19,
      "outputs": [
        {
          "output_type": "stream",
          "text": [
            "Train on 34146 samples, validate on 10914 samples\n",
            "Epoch 1/29\n",
            "34146/34146 [==============================] - 109s 3ms/step - loss: 0.6609 - acc: 0.6010 - val_loss: 0.6538 - val_acc: 0.6114\n",
            "Epoch 2/29\n",
            "34146/34146 [==============================] - 104s 3ms/step - loss: 0.6587 - acc: 0.6026 - val_loss: 0.6533 - val_acc: 0.6118\n",
            "Epoch 3/29\n",
            "34146/34146 [==============================] - 104s 3ms/step - loss: 0.6595 - acc: 0.5981 - val_loss: 0.6533 - val_acc: 0.6121\n",
            "Epoch 4/29\n",
            "34146/34146 [==============================] - 104s 3ms/step - loss: 0.6574 - acc: 0.6062 - val_loss: 0.6531 - val_acc: 0.6131\n",
            "Epoch 5/29\n",
            "34146/34146 [==============================] - 104s 3ms/step - loss: 0.6591 - acc: 0.6024 - val_loss: 0.6532 - val_acc: 0.6132\n",
            "Epoch 6/29\n",
            "34146/34146 [==============================] - 104s 3ms/step - loss: 0.6565 - acc: 0.6038 - val_loss: 0.6531 - val_acc: 0.6132\n",
            "Epoch 7/29\n",
            "34146/34146 [==============================] - 105s 3ms/step - loss: 0.6570 - acc: 0.6090 - val_loss: 0.6531 - val_acc: 0.6136\n",
            "Epoch 8/29\n",
            "34146/34146 [==============================] - 104s 3ms/step - loss: 0.6564 - acc: 0.6062 - val_loss: 0.6528 - val_acc: 0.6137\n",
            "Epoch 9/29\n",
            "34146/34146 [==============================] - 104s 3ms/step - loss: 0.6563 - acc: 0.6079 - val_loss: 0.6529 - val_acc: 0.6146\n",
            "Epoch 10/29\n",
            "34146/34146 [==============================] - 104s 3ms/step - loss: 0.6552 - acc: 0.6079 - val_loss: 0.6534 - val_acc: 0.6113\n",
            "Epoch 11/29\n",
            "34146/34146 [==============================] - 104s 3ms/step - loss: 0.6555 - acc: 0.6106 - val_loss: 0.6525 - val_acc: 0.6142\n",
            "Epoch 12/29\n",
            "34146/34146 [==============================] - 104s 3ms/step - loss: 0.6550 - acc: 0.6074 - val_loss: 0.6525 - val_acc: 0.6138\n",
            "Epoch 13/29\n",
            "34146/34146 [==============================] - 104s 3ms/step - loss: 0.6530 - acc: 0.6142 - val_loss: 0.6524 - val_acc: 0.6144\n",
            "Epoch 14/29\n",
            "34146/34146 [==============================] - 104s 3ms/step - loss: 0.6528 - acc: 0.6123 - val_loss: 0.6526 - val_acc: 0.6137\n",
            "Epoch 15/29\n",
            "34146/34146 [==============================] - 103s 3ms/step - loss: 0.6534 - acc: 0.6134 - val_loss: 0.6526 - val_acc: 0.6121\n",
            "Epoch 16/29\n",
            "34146/34146 [==============================] - 104s 3ms/step - loss: 0.6533 - acc: 0.6124 - val_loss: 0.6527 - val_acc: 0.6138\n",
            "Epoch 17/29\n",
            "34146/34146 [==============================] - 104s 3ms/step - loss: 0.6519 - acc: 0.6171 - val_loss: 0.6527 - val_acc: 0.6129\n",
            "Epoch 18/29\n",
            "34146/34146 [==============================] - 104s 3ms/step - loss: 0.6518 - acc: 0.6134 - val_loss: 0.6526 - val_acc: 0.6120\n",
            "Epoch 19/29\n",
            "34146/34146 [==============================] - 104s 3ms/step - loss: 0.6506 - acc: 0.6155 - val_loss: 0.6524 - val_acc: 0.6135\n",
            "Epoch 20/29\n",
            "34146/34146 [==============================] - 104s 3ms/step - loss: 0.6502 - acc: 0.6156 - val_loss: 0.6523 - val_acc: 0.6133\n",
            "Epoch 21/29\n",
            "34146/34146 [==============================] - 104s 3ms/step - loss: 0.6527 - acc: 0.6110 - val_loss: 0.6521 - val_acc: 0.6132\n",
            "Epoch 22/29\n",
            "34146/34146 [==============================] - 104s 3ms/step - loss: 0.6491 - acc: 0.6188 - val_loss: 0.6522 - val_acc: 0.6132\n",
            "Epoch 23/29\n",
            "34146/34146 [==============================] - 104s 3ms/step - loss: 0.6482 - acc: 0.6227 - val_loss: 0.6523 - val_acc: 0.6129\n",
            "Epoch 24/29\n",
            "34146/34146 [==============================] - 104s 3ms/step - loss: 0.6487 - acc: 0.6186 - val_loss: 0.6522 - val_acc: 0.6142\n",
            "Epoch 25/29\n",
            "34146/34146 [==============================] - 104s 3ms/step - loss: 0.6476 - acc: 0.6181 - val_loss: 0.6524 - val_acc: 0.6136\n",
            "Epoch 26/29\n",
            "34146/34146 [==============================] - 104s 3ms/step - loss: 0.6489 - acc: 0.6197 - val_loss: 0.6523 - val_acc: 0.6126\n",
            "Epoch 27/29\n",
            "34146/34146 [==============================] - 104s 3ms/step - loss: 0.6470 - acc: 0.6195 - val_loss: 0.6523 - val_acc: 0.6130\n",
            "Epoch 28/29\n",
            "34146/34146 [==============================] - 103s 3ms/step - loss: 0.6469 - acc: 0.6198 - val_loss: 0.6523 - val_acc: 0.6134\n",
            "Epoch 29/29\n",
            "34146/34146 [==============================] - 102s 3ms/step - loss: 0.6451 - acc: 0.6238 - val_loss: 0.6522 - val_acc: 0.6147\n"
          ],
          "name": "stdout"
        },
        {
          "output_type": "execute_result",
          "data": {
            "text/plain": [
              "<keras.callbacks.History at 0x7faa0ebc5da0>"
            ]
          },
          "metadata": {
            "tags": []
          },
          "execution_count": 19
        }
      ]
    },
    {
      "cell_type": "code",
      "metadata": {
        "id": "1fW-rzCJMZQX",
        "colab_type": "code",
        "colab": {}
      },
      "source": [
        "timestamp = datetime.now().strftime('%Y%m%d%H%M')"
      ],
      "execution_count": 0,
      "outputs": []
    },
    {
      "cell_type": "code",
      "metadata": {
        "id": "jGKTleLcixRy",
        "colab_type": "code",
        "colab": {}
      },
      "source": [
        "if do_save_activations:\n",
        "\n",
        "  inp = model.input\n",
        "  layer_name = 'final_concat'\n",
        "  activations = model.get_layer(layer_name).output\n",
        "  get_activations = K.function([inp, K.learning_phase()], [activations])\n",
        "\n",
        "  def get_inference_activations(docs):\n",
        "    return(get_activations([docs, 0])[0])\n",
        "  \n",
        "  def save_activations(df, docs, split, timestamp):\n",
        "\n",
        "    split_activations = get_inference_activations(docs)\n",
        "\n",
        "    for i in range(split_activations.shape[1]):\n",
        "      df['activ'+str(i)] = (split_activations[:,i]*1e6).astype(int)\n",
        "\n",
        "    activ_file_name = basepath + 'activ_' + split + '_' + timestamp + '.csv'\n",
        "    df.drop(['text'],axis=1).to_csv(activ_file_name)\n",
        "    \n",
        "  save_activations(df_train, docs_train, 'train', timestamp)\n",
        "  save_activations(df_valid, docs_valid, 'valid', timestamp)\n",
        "  save_activations(df_test, docs_test, 'test', timestamp)\n",
        "  "
      ],
      "execution_count": 0,
      "outputs": []
    },
    {
      "cell_type": "code",
      "metadata": {
        "id": "rxCvkXQDoBIX",
        "colab_type": "code",
        "colab": {
          "base_uri": "https://localhost:8080/",
          "height": 34
        },
        "outputId": "e3b1500b-3733-4a09-f934-3cccdb43fe82"
      },
      "source": [
        "timestamp"
      ],
      "execution_count": 22,
      "outputs": [
        {
          "output_type": "execute_result",
          "data": {
            "text/plain": [
              "'201907032046'"
            ]
          },
          "metadata": {
            "tags": []
          },
          "execution_count": 22
        }
      ]
    },
    {
      "cell_type": "code",
      "metadata": {
        "id": "23s_1Gw-Ig_F",
        "colab_type": "code",
        "colab": {}
      },
      "source": [
        ""
      ],
      "execution_count": 0,
      "outputs": []
    },
    {
      "cell_type": "code",
      "metadata": {
        "id": "kXtDk-vh5tmL",
        "colab_type": "code",
        "colab": {}
      },
      "source": [
        ""
      ],
      "execution_count": 0,
      "outputs": []
    }
  ]
}
