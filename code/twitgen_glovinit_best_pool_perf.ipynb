{
 "cells": [
  {
   "cell_type": "code",
   "execution_count": 1,
   "metadata": {
    "colab": {},
    "colab_type": "code",
    "id": "Hg5Y784oysWW"
   },
   "outputs": [],
   "source": [
    "TRAIN_INPUT = 'twitgen_train_201906011956.csv'\n",
    "VALID_INPUT = 'twitgen_valid_201906011956.csv'\n",
    "TEST_INPUT = 'twitgen_test_201906011956.csv'\n",
    "EMBEDDING_DIM = 200\n",
    "MAXLEN = 50  # Maximum number of words per tweet that will be processed\n",
    "MODEL_NAME = 'PoolModel_201907041941.h5'"
   ]
  },
  {
   "cell_type": "code",
   "execution_count": 2,
   "metadata": {
    "colab": {},
    "colab_type": "code",
    "id": "x-H3ypYSfqro"
   },
   "outputs": [],
   "source": [
    "basepath = '../data/'"
   ]
  },
  {
   "cell_type": "code",
   "execution_count": 3,
   "metadata": {
    "colab": {
     "base_uri": "https://localhost:8080/",
     "height": 51
    },
    "colab_type": "code",
    "id": "Ki5FWLkTycV4",
    "outputId": "7bebb843-ae65-4df7-d256-d21ba8353dc5"
   },
   "outputs": [
    {
     "name": "stderr",
     "output_type": "stream",
     "text": [
      "Using TensorFlow backend.\n"
     ]
    },
    {
     "data": {
      "text/plain": [
       "'2.2.4'"
      ]
     },
     "execution_count": 3,
     "metadata": {},
     "output_type": "execute_result"
    }
   ],
   "source": [
    "import tensorflow as tf\n",
    "import pandas as pd\n",
    "import os\n",
    "import re\n",
    "import keras\n",
    "from keras import backend as K\n",
    "import keras.layers as layers\n",
    "from keras.models import Model, load_model\n",
    "from keras.engine import Layer\n",
    "from keras.optimizers import Adam, Adagrad\n",
    "from keras.preprocessing.text import Tokenizer\n",
    "from keras.preprocessing.sequence import pad_sequences\n",
    "from sklearn.metrics import confusion_matrix\n",
    "from sklearn.metrics import accuracy_score\n",
    "from sklearn.metrics import f1_score\n",
    "from sklearn.metrics import roc_curve, auc\n",
    "import numpy as np\n",
    "import matplotlib.pyplot as plt\n",
    "from statsmodels.stats.proportion import proportion_confint\n",
    "from datetime import datetime\n",
    "import string\n",
    "\n",
    "keras.__version__"
   ]
  },
  {
   "cell_type": "code",
   "execution_count": 4,
   "metadata": {
    "colab": {
     "base_uri": "https://localhost:8080/",
     "height": 235
    },
    "colab_type": "code",
    "id": "diA4mf7rx5dG",
    "outputId": "f2df784d-6d4f-4cf8-d186-c2f9913713fe"
   },
   "outputs": [
    {
     "data": {
      "text/html": [
       "<div>\n",
       "<style scoped>\n",
       "    .dataframe tbody tr th:only-of-type {\n",
       "        vertical-align: middle;\n",
       "    }\n",
       "\n",
       "    .dataframe tbody tr th {\n",
       "        vertical-align: top;\n",
       "    }\n",
       "\n",
       "    .dataframe thead th {\n",
       "        text-align: right;\n",
       "    }\n",
       "</style>\n",
       "<table border=\"1\" class=\"dataframe\">\n",
       "  <thead>\n",
       "    <tr style=\"text-align: right;\">\n",
       "      <th></th>\n",
       "      <th></th>\n",
       "      <th>text</th>\n",
       "      <th>male</th>\n",
       "    </tr>\n",
       "    <tr>\n",
       "      <th>id</th>\n",
       "      <th>time</th>\n",
       "      <th></th>\n",
       "      <th></th>\n",
       "    </tr>\n",
       "  </thead>\n",
       "  <tbody>\n",
       "    <tr>\n",
       "      <th>1083596943807393792</th>\n",
       "      <th>2019-05-27 23:27:08+00:00</th>\n",
       "      <td>Ah, the Flat Earth gambit.\\nWell played.</td>\n",
       "      <td>True</td>\n",
       "    </tr>\n",
       "    <tr>\n",
       "      <th>815783987784187904</th>\n",
       "      <th>2019-05-24 15:36:01+00:00</th>\n",
       "      <td>Aw ily</td>\n",
       "      <td>False</td>\n",
       "    </tr>\n",
       "    <tr>\n",
       "      <th>3458239641</th>\n",
       "      <th>2019-05-24 19:00:37+00:00</th>\n",
       "      <td>I hate being sick</td>\n",
       "      <td>False</td>\n",
       "    </tr>\n",
       "    <tr>\n",
       "      <th>1003729876250226688</th>\n",
       "      <th>2019-05-26 12:53:00+00:00</th>\n",
       "      <td>You still didn't' do shit tho. Slow down the...</td>\n",
       "      <td>True</td>\n",
       "    </tr>\n",
       "    <tr>\n",
       "      <th>2360143940</th>\n",
       "      <th>2019-05-28 03:50:46+00:00</th>\n",
       "      <td>Harriet Tubman may not be on the $20 bill... f...</td>\n",
       "      <td>False</td>\n",
       "    </tr>\n",
       "  </tbody>\n",
       "</table>\n",
       "</div>"
      ],
      "text/plain": [
       "                                                                                            text  \\\n",
       "id                  time                                                                           \n",
       "1083596943807393792 2019-05-27 23:27:08+00:00           Ah, the Flat Earth gambit.\\nWell played.   \n",
       "815783987784187904  2019-05-24 15:36:01+00:00                                             Aw ily   \n",
       "3458239641          2019-05-24 19:00:37+00:00                                  I hate being sick   \n",
       "1003729876250226688 2019-05-26 12:53:00+00:00    You still didn't' do shit tho. Slow down the...   \n",
       "2360143940          2019-05-28 03:50:46+00:00  Harriet Tubman may not be on the $20 bill... f...   \n",
       "\n",
       "                                                male  \n",
       "id                  time                              \n",
       "1083596943807393792 2019-05-27 23:27:08+00:00   True  \n",
       "815783987784187904  2019-05-24 15:36:01+00:00  False  \n",
       "3458239641          2019-05-24 19:00:37+00:00  False  \n",
       "1003729876250226688 2019-05-26 12:53:00+00:00   True  \n",
       "2360143940          2019-05-28 03:50:46+00:00  False  "
      ]
     },
     "execution_count": 4,
     "metadata": {},
     "output_type": "execute_result"
    }
   ],
   "source": [
    "# Read in the data\n",
    "df_train = pd.read_csv(basepath+TRAIN_INPUT, index_col=['id','time'], parse_dates=['time'])\n",
    "df_valid = pd.read_csv(basepath+VALID_INPUT, index_col=['id','time'], parse_dates=['time'])\n",
    "df_test = pd.read_csv(basepath+TEST_INPUT, index_col=['id','time'], parse_dates=['time'])\n",
    "df_train.head()"
   ]
  },
  {
   "cell_type": "code",
   "execution_count": 5,
   "metadata": {
    "colab": {
     "base_uri": "https://localhost:8080/",
     "height": 34
    },
    "colab_type": "code",
    "id": "tiWLlkKOx_G2",
    "outputId": "fc6dbe92-cd51-44c0-980c-25fe2a6dce7d"
   },
   "outputs": [
    {
     "data": {
      "text/plain": [
       "(34, 30, 31)"
      ]
     },
     "execution_count": 5,
     "metadata": {},
     "output_type": "execute_result"
    }
   ],
   "source": [
    "# Maximum number of words per tweet in each data set\n",
    "(df_train.text.str.split().apply(len).max(), \n",
    " df_valid.text.str.split().apply(len).max(),\n",
    " df_test.text.str.split().apply(len).max())"
   ]
  },
  {
   "cell_type": "code",
   "execution_count": 6,
   "metadata": {
    "colab": {},
    "colab_type": "code",
    "id": "TYo_WNX3x_PO"
   },
   "outputs": [],
   "source": [
    "# Text Normalization function\n",
    "\n",
    "# Taken from \n",
    "# https://medium.com/@sabber/classifying-yelp-review-comments-using-lstm-and-word-embeddings-part-1-eb2275e4066b\n",
    "# which was taken from https://www.kaggle.com/lystdo/lstm-with-word2vec-embeddings\n",
    "# but this version no longer does stemming or stop word elmination\n",
    "\n",
    "# This is for general text, not Twitter-specific.\n",
    "# Maybe would get a better classifier if we used a Python transaltion of this:\n",
    "# https://nlp.stanford.edu/projects/glove/preprocess-twitter.rb\n",
    "# but that is arguably outside the scope of this project\n",
    "# and my initial attempts to use Twitter-specific preprocessing have been unsuccessful\n",
    "\n",
    "\n",
    "def clean_text(text):\n",
    "    \n",
    "    ## Remove puncuation\n",
    "    text = text.translate(string.punctuation)\n",
    "    \n",
    "    ## Convert words to lower case and split them\n",
    "    text = text.lower().split()\n",
    "    \n",
    "    text = \" \".join(text)\n",
    "    ## Clean the text\n",
    "    text = re.sub(r\"[^A-Za-z0-9^,!.\\/'+-=]\", \" \", text)\n",
    "    text = re.sub(r\"what's\", \"what is \", text)\n",
    "    text = re.sub(r\"\\'s\", \" \", text)\n",
    "    text = re.sub(r\"\\'ve\", \" have \", text)\n",
    "    text = re.sub(r\"n't\", \" not \", text)\n",
    "    text = re.sub(r\"i'm\", \"i am \", text)\n",
    "    text = re.sub(r\"\\'re\", \" are \", text)\n",
    "    text = re.sub(r\"\\'d\", \" would \", text)\n",
    "    text = re.sub(r\"\\'ll\", \" will \", text)\n",
    "    text = re.sub(r\",\", \" \", text)\n",
    "    text = re.sub(r\"\\.\", \" \", text)\n",
    "    text = re.sub(r\"!\", \" ! \", text)\n",
    "    text = re.sub(r\"\\/\", \" \", text)\n",
    "    text = re.sub(r\"\\^\", \" ^ \", text)\n",
    "    text = re.sub(r\"\\+\", \" + \", text)\n",
    "    text = re.sub(r\"\\-\", \" - \", text)\n",
    "    text = re.sub(r\"\\=\", \" = \", text)\n",
    "    text = re.sub(r\"'\", \" \", text)\n",
    "    text = re.sub(r\"(\\d+)(k)\", r\"\\g<1>000\", text)\n",
    "    text = re.sub(r\":\", \" : \", text)\n",
    "    text = re.sub(r\" e g \", \" eg \", text)\n",
    "    text = re.sub(r\" b g \", \" bg \", text)\n",
    "    text = re.sub(r\" u s \", \" american \", text)\n",
    "    text = re.sub(r\"\\0s\", \"0\", text)\n",
    "    text = re.sub(r\" 9 11 \", \"911\", text)\n",
    "    text = re.sub(r\"e - mail\", \"email\", text)\n",
    "    text = re.sub(r\"j k\", \"jk\", text)\n",
    "    text = re.sub(r\"\\s{2,}\", \" \", text)\n",
    "\n",
    "    return text\n"
   ]
  },
  {
   "cell_type": "code",
   "execution_count": 7,
   "metadata": {
    "colab": {
     "base_uri": "https://localhost:8080/",
     "height": 34
    },
    "colab_type": "code",
    "id": "d1bOaiLe-Cwq",
    "outputId": "b2045bfd-c9c6-4a2c-d4d4-0e22a03a1895"
   },
   "outputs": [
    {
     "data": {
      "text/plain": [
       "(47, 42, 42)"
      ]
     },
     "execution_count": 7,
     "metadata": {},
     "output_type": "execute_result"
    }
   ],
   "source": [
    "# Process the data for model input\n",
    "def get_texts_and_labels(df):\n",
    "  texts = df['text'].map(lambda x: clean_text(x)).tolist()\n",
    "  texts = [t.split()[0:MAXLEN] for t in texts]\n",
    "  labels = df['male'].tolist()\n",
    "  return texts, labels\n",
    "\n",
    "train_text, train_label = get_texts_and_labels(df_train)\n",
    "valid_text, valid_label = get_texts_and_labels(df_valid)\n",
    "test_text, test_label = get_texts_and_labels(df_test)\n",
    "\n",
    "max([len(x) for x in train_text]), max([len(x) for x in valid_text]), max([len(x) for x in test_text])"
   ]
  },
  {
   "cell_type": "code",
   "execution_count": 8,
   "metadata": {
    "colab": {},
    "colab_type": "code",
    "id": "HGxYN53F8chY"
   },
   "outputs": [],
   "source": [
    "# Fit tokenizer on training data\n",
    "tok = Tokenizer()\n",
    "tok.fit_on_texts(train_text)\n",
    "vocab_size = len(tok.word_index) + 1"
   ]
  },
  {
   "cell_type": "code",
   "execution_count": 9,
   "metadata": {
    "colab": {
     "base_uri": "https://localhost:8080/",
     "height": 68
    },
    "colab_type": "code",
    "id": "5FVpEPUM9M9D",
    "outputId": "54e8bb7b-1f54-4cdf-dbfa-60bf86e3d1af"
   },
   "outputs": [
    {
     "name": "stdout",
     "output_type": "stream",
     "text": [
      "<class 'numpy.ndarray'> 34146 10914 10450\n"
     ]
    },
    {
     "data": {
      "text/plain": [
       "array([  956,     1,  4035,  1154, 13312,     8,    98,   732,     0,\n",
       "           0], dtype=int32)"
      ]
     },
     "execution_count": 9,
     "metadata": {},
     "output_type": "execute_result"
    }
   ],
   "source": [
    "# Tokenize the data\n",
    "def get_tokenized_texts(texts):\n",
    "  encoded_docs = tok.texts_to_sequences(texts)\n",
    "  padded_docs = pad_sequences(encoded_docs, maxlen=MAXLEN, padding='post')\n",
    "  return padded_docs\n",
    "\n",
    "docs_train = get_tokenized_texts(train_text)\n",
    "docs_valid = get_tokenized_texts(valid_text)\n",
    "docs_test = get_tokenized_texts(test_text)\n",
    "\n",
    "print(type(docs_train), len(docs_train), len(docs_valid), len(docs_test))\n",
    "docs_train[0][:10]"
   ]
  },
  {
   "cell_type": "code",
   "execution_count": 10,
   "metadata": {},
   "outputs": [],
   "source": [
    "embedding_matrix = np.zeros((vocab_size, EMBEDDING_DIM))  # Dummy to create model; will be filled by loading from disk"
   ]
  },
  {
   "cell_type": "code",
   "execution_count": 11,
   "metadata": {
    "colab": {
     "base_uri": "https://localhost:8080/",
     "height": 1261
    },
    "colab_type": "code",
    "id": "pTM8vFvYvrBQ",
    "outputId": "aa99105b-6c81-4430-887f-c3156abff74d"
   },
   "outputs": [
    {
     "name": "stdout",
     "output_type": "stream",
     "text": [
      "WARNING:tensorflow:From /home/andy/anaconda3/envs/tf1/lib/python3.7/site-packages/tensorflow/python/framework/op_def_library.py:263: colocate_with (from tensorflow.python.framework.ops) is deprecated and will be removed in a future version.\n",
      "Instructions for updating:\n",
      "Colocations handled automatically by placer.\n",
      "WARNING:tensorflow:From /home/andy/anaconda3/envs/tf1/lib/python3.7/site-packages/keras/backend/tensorflow_backend.py:3445: calling dropout (from tensorflow.python.ops.nn_ops) with keep_prob is deprecated and will be removed in a future version.\n",
      "Instructions for updating:\n",
      "Please use `rate` instead of `keep_prob`. Rate should be set to `rate = 1 - keep_prob`.\n",
      "__________________________________________________________________________________________________\n",
      "Layer (type)                    Output Shape         Param #     Connected to                     \n",
      "==================================================================================================\n",
      "input_1 (InputLayer)            (None, 50)           0                                            \n",
      "__________________________________________________________________________________________________\n",
      "embedding_1 (Embedding)         (None, 50, 200)      6026200     input_1[0][0]                    \n",
      "__________________________________________________________________________________________________\n",
      "dropout_1 (Dropout)             (None, 50, 200)      0           embedding_1[0][0]                \n",
      "__________________________________________________________________________________________________\n",
      "dropout_2 (Dropout)             (None, 50, 200)      0           dropout_1[0][0]                  \n",
      "__________________________________________________________________________________________________\n",
      "global_max_pooling1d_1 (GlobalM (None, 200)          0           dropout_2[0][0]                  \n",
      "__________________________________________________________________________________________________\n",
      "global_average_pooling1d_1 (Glo (None, 200)          0           dropout_2[0][0]                  \n",
      "__________________________________________________________________________________________________\n",
      "pooled (Concatenate)            (None, 400)          0           global_max_pooling1d_1[0][0]     \n",
      "                                                                 global_average_pooling1d_1[0][0] \n",
      "__________________________________________________________________________________________________\n",
      "dropout_3 (Dropout)             (None, 400)          0           pooled[0][0]                     \n",
      "__________________________________________________________________________________________________\n",
      "dense_1 (Dense)                 (None, 1)            401         dropout_3[0][0]                  \n",
      "==================================================================================================\n",
      "Total params: 6,026,601\n",
      "Trainable params: 401\n",
      "Non-trainable params: 6,026,200\n",
      "__________________________________________________________________________________________________\n"
     ]
    }
   ],
   "source": [
    "# NERUAL NETWORK MODEL\n",
    "\n",
    "# PARAMETERS\n",
    "\n",
    "batchsize = 512\n",
    "\n",
    "temporal_dropout = .2\n",
    "random_dropout = .1\n",
    "flat_dropout= .3\n",
    "\n",
    "frozen_lr = 1e-3\n",
    "frozen_decay = 1e-4\n",
    "frozen_epochs = 12\n",
    "\n",
    "unfrozen_lr = 3e-4\n",
    "unfrozen_decay = 3e-5\n",
    "unfrozen_epochs = 25\n",
    "unfrozen_batchsize = batchsize\n",
    "\n",
    "\n",
    "inputs = layers.Input((MAXLEN,), dtype=\"int32\")\n",
    "\n",
    "# EMBEDDING BLOCK\n",
    "raw_embed = layers.Embedding(vocab_size, \n",
    "                           EMBEDDING_DIM, \n",
    "                           weights=[embedding_matrix], \n",
    "                           input_length=MAXLEN, \n",
    "                           trainable=False)(inputs)\n",
    "embed_random_drop = layers.Dropout(rate=random_dropout)(raw_embed)\n",
    "embed_time_drop = layers.Dropout(rate=temporal_dropout, \n",
    "                       noise_shape=(None, MAXLEN, 1))(embed_random_drop)\n",
    "\n",
    "max_pooled = layers.GlobalMaxPooling1D()(embed_time_drop)\n",
    "av_pooled = layers.GlobalAveragePooling1D()(embed_time_drop)\n",
    "pooled = layers.merge.concatenate([max_pooled,av_pooled], name='pooled')\n",
    "drop_pooled = layers.Dropout(rate=flat_dropout)(pooled)\n",
    "\n",
    "pred = layers.Dense(1, activation='sigmoid')(drop_pooled)\n",
    "\n",
    "# FINAL MODEL\n",
    "model = Model(inputs=[inputs], outputs=pred)\n",
    "model.compile(optimizer=Adam(frozen_lr, decay=frozen_decay), \n",
    "              loss='binary_crossentropy', metrics=['acc'])\n",
    "model.summary()"
   ]
  },
  {
   "cell_type": "code",
   "execution_count": 12,
   "metadata": {},
   "outputs": [],
   "source": [
    "model.load_weights(basepath + MODEL_NAME)"
   ]
  },
  {
   "cell_type": "code",
   "execution_count": 13,
   "metadata": {},
   "outputs": [
    {
     "name": "stdout",
     "output_type": "stream",
     "text": [
      "Test set confusion matrix:\n",
      "[[3156 2069]\n",
      " [2130 3095]]\n",
      "Test set F1 score: 0.5958225045721436\n",
      "Test set accuracy: 0.5981818181818181\n",
      "Test set ROC AUC: 0.6473898491334906\n"
     ]
    }
   ],
   "source": [
    "test_preds = model.predict(docs_test)\n",
    "y_test = test_label\n",
    "print('Test set confusion matrix:')\n",
    "print( confusion_matrix(y_test, (test_preds>.5)))\n",
    "print('Test set F1 score: {}'.format(f1_score(y_test, test_preds>.5)))\n",
    "print('Test set accuracy: {}'.format(accuracy_score(y_test, test_preds>.5)))\n",
    "fpr, tpr, _ = roc_curve(y_test, test_preds)\n",
    "print('Test set ROC AUC: {}'.format(auc(fpr, tpr)))"
   ]
  },
  {
   "cell_type": "code",
   "execution_count": 14,
   "metadata": {},
   "outputs": [
    {
     "name": "stdout",
     "output_type": "stream",
     "text": [
      "Test set ROC AUC: 0.6473898491334906\n"
     ]
    },
    {
     "data": {
      "image/png": "[encoded data removed]",
      "text/plain": [
       "<Figure size 432x288 with 1 Axes>"
      ]
     },
     "metadata": {
      "needs_background": "light"
     },
     "output_type": "display_data"
    }
   ],
   "source": [
    "roc_auc = auc(fpr, tpr)\n",
    "\n",
    "plt.figure()\n",
    "plt.plot(fpr, tpr, color='darkorange',\n",
    "         lw=1, label='ROC curve (area = %0.3f)' % roc_auc)\n",
    "plt.plot([0, 1], [0, 1], color='navy', lw=1, linestyle='--')\n",
    "plt.xlim([0.0, 1.0])\n",
    "plt.ylim([0.0, 1.05])\n",
    "plt.xlabel('False Positive Rate')\n",
    "plt.ylabel('True Positive Rate')\n",
    "plt.title('Receiver operating characteristic curve')\n",
    "plt.legend(loc=\"lower right\")\n",
    "print('Test set ROC AUC: {}'.format(auc(fpr, tpr)))\n",
    "plt.show()"
   ]
  },
  {
   "cell_type": "code",
   "execution_count": 15,
   "metadata": {},
   "outputs": [
    {
     "data": {
      "image/png": "[encoded data removed]",
      "text/plain": [
       "<Figure size 432x288 with 1 Axes>"
      ]
     },
     "metadata": {
      "needs_background": "light"
     },
     "output_type": "display_data"
    }
   ],
   "source": [
    "predicted = test_preds.reshape(-1)\n",
    "pd.Series(predicted).hist(bins=20)\n",
    "plt.show()"
   ]
  },
  {
   "cell_type": "code",
   "execution_count": 16,
   "metadata": {},
   "outputs": [
    {
     "data": {
      "text/html": [
       "<div>\n",
       "<style scoped>\n",
       "    .dataframe tbody tr th:only-of-type {\n",
       "        vertical-align: middle;\n",
       "    }\n",
       "\n",
       "    .dataframe tbody tr th {\n",
       "        vertical-align: top;\n",
       "    }\n",
       "\n",
       "    .dataframe thead th {\n",
       "        text-align: right;\n",
       "    }\n",
       "</style>\n",
       "<table border=\"1\" class=\"dataframe\">\n",
       "  <thead>\n",
       "    <tr style=\"text-align: right;\">\n",
       "      <th></th>\n",
       "      <th></th>\n",
       "      <th>count</th>\n",
       "      <th>accuracy</th>\n",
       "      <th>lconf95</th>\n",
       "      <th>hconf95</th>\n",
       "    </tr>\n",
       "    <tr>\n",
       "      <th>minprob</th>\n",
       "      <th>maxprob</th>\n",
       "      <th></th>\n",
       "      <th></th>\n",
       "      <th></th>\n",
       "      <th></th>\n",
       "    </tr>\n",
       "  </thead>\n",
       "  <tbody>\n",
       "    <tr>\n",
       "      <th>0.0</th>\n",
       "      <th>0.1</th>\n",
       "      <td>30</td>\n",
       "      <td>0.900000</td>\n",
       "      <td>0.792648</td>\n",
       "      <td>1.000000</td>\n",
       "    </tr>\n",
       "    <tr>\n",
       "      <th>0.1</th>\n",
       "      <th>0.2</th>\n",
       "      <td>68</td>\n",
       "      <td>0.926471</td>\n",
       "      <td>0.864435</td>\n",
       "      <td>0.988506</td>\n",
       "    </tr>\n",
       "    <tr>\n",
       "      <th>0.2</th>\n",
       "      <th>0.3</th>\n",
       "      <td>483</td>\n",
       "      <td>0.755694</td>\n",
       "      <td>0.717375</td>\n",
       "      <td>0.794013</td>\n",
       "    </tr>\n",
       "    <tr>\n",
       "      <th>0.3</th>\n",
       "      <th>0.4</th>\n",
       "      <td>1724</td>\n",
       "      <td>0.645012</td>\n",
       "      <td>0.622424</td>\n",
       "      <td>0.667599</td>\n",
       "    </tr>\n",
       "    <tr>\n",
       "      <th>0.4</th>\n",
       "      <th>0.5</th>\n",
       "      <td>2981</td>\n",
       "      <td>0.533043</td>\n",
       "      <td>0.515133</td>\n",
       "      <td>0.550952</td>\n",
       "    </tr>\n",
       "    <tr>\n",
       "      <th>0.5</th>\n",
       "      <th>0.6</th>\n",
       "      <td>2964</td>\n",
       "      <td>0.540486</td>\n",
       "      <td>0.522545</td>\n",
       "      <td>0.558427</td>\n",
       "    </tr>\n",
       "    <tr>\n",
       "      <th>0.6</th>\n",
       "      <th>0.7</th>\n",
       "      <td>1597</td>\n",
       "      <td>0.638071</td>\n",
       "      <td>0.614502</td>\n",
       "      <td>0.661640</td>\n",
       "    </tr>\n",
       "    <tr>\n",
       "      <th>0.7</th>\n",
       "      <th>0.8</th>\n",
       "      <td>523</td>\n",
       "      <td>0.774379</td>\n",
       "      <td>0.738555</td>\n",
       "      <td>0.810202</td>\n",
       "    </tr>\n",
       "    <tr>\n",
       "      <th>0.8</th>\n",
       "      <th>0.9</th>\n",
       "      <td>76</td>\n",
       "      <td>0.855263</td>\n",
       "      <td>0.776162</td>\n",
       "      <td>0.934364</td>\n",
       "    </tr>\n",
       "    <tr>\n",
       "      <th>0.9</th>\n",
       "      <th>1.0</th>\n",
       "      <td>4</td>\n",
       "      <td>1.000000</td>\n",
       "      <td>1.000000</td>\n",
       "      <td>1.000000</td>\n",
       "    </tr>\n",
       "  </tbody>\n",
       "</table>\n",
       "</div>"
      ],
      "text/plain": [
       "                count  accuracy   lconf95   hconf95\n",
       "minprob maxprob                                    \n",
       "0.0     0.1        30  0.900000  0.792648  1.000000\n",
       "0.1     0.2        68  0.926471  0.864435  0.988506\n",
       "0.2     0.3       483  0.755694  0.717375  0.794013\n",
       "0.3     0.4      1724  0.645012  0.622424  0.667599\n",
       "0.4     0.5      2981  0.533043  0.515133  0.550952\n",
       "0.5     0.6      2964  0.540486  0.522545  0.558427\n",
       "0.6     0.7      1597  0.638071  0.614502  0.661640\n",
       "0.7     0.8       523  0.774379  0.738555  0.810202\n",
       "0.8     0.9        76  0.855263  0.776162  0.934364\n",
       "0.9     1.0         4  1.000000  1.000000  1.000000"
      ]
     },
     "execution_count": 16,
     "metadata": {},
     "output_type": "execute_result"
    }
   ],
   "source": [
    "def probcats(nbins):\n",
    "    df_acc = pd.DataFrame(columns=['minprob','maxprob','count','accuracy','lconf95','hconf95'])\n",
    "    for pbot in np.linspace(0,1-1/nbins,nbins):\n",
    "        ptop = pbot+1/nbins\n",
    "        mask = (predicted>=pbot)&(predicted<ptop)\n",
    "        count = int(mask.sum())\n",
    "        if count>0:\n",
    "            actual = pd.Series(y_test)[mask].values\n",
    "            pred_prob = pd.Series(predicted)[mask].values\n",
    "            pred_bin = pred_prob>.5\n",
    "            acc = accuracy_score(actual, pred_bin)\n",
    "            nsucc = sum(actual==pred_bin)\n",
    "            confint = proportion_confint(nsucc, count)\n",
    "            minconf = confint[0]\n",
    "            maxconf = confint[1]\n",
    "        else:\n",
    "            acc = np.nan\n",
    "            minconf = np.nan\n",
    "            maxconf = np.nan\n",
    "        row = pd.DataFrame({'minprob':[pbot], 'maxprob':[ptop], 'count':[count], \n",
    "                            'accuracy':[acc], 'lconf95':[minconf], 'hconf95':[maxconf]})\n",
    "        df_acc = pd.concat([df_acc, row], sort=False)\n",
    "    return(df_acc.set_index(['minprob','maxprob']))\n",
    "df_acc = probcats(10)\n",
    "df_acc"
   ]
  },
  {
   "cell_type": "code",
   "execution_count": 17,
   "metadata": {},
   "outputs": [
    {
     "data": {
      "image/png": "[encoded data removed]",
      "text/plain": [
       "<Figure size 432x288 with 1 Axes>"
      ]
     },
     "metadata": {
      "needs_background": "light"
     },
     "output_type": "display_data"
    }
   ],
   "source": [
    "def display_perf(df):\n",
    "    df = df.reset_index()\n",
    "    df['avgprob'] = .5*(df.minprob + df.maxprob)\n",
    "    ax = df.drop(['count','minprob','maxprob'],axis=1).set_index('avgprob').plot(\n",
    "            title='Accuracy of Predictions by Range')\n",
    "    ax.legend(labels=['accuracy', '95% conf, lower', '95% conf, upper'])\n",
    "    ax.set(xlabel=\"center of probability bin\", ylabel=\"fraction of correct predicitons\")\n",
    "    plt.show()\n",
    "display_perf(df_acc)"
   ]
  },
  {
   "cell_type": "code",
   "execution_count": 18,
   "metadata": {},
   "outputs": [
    {
     "data": {
      "text/html": [
       "<div>\n",
       "<style scoped>\n",
       "    .dataframe tbody tr th:only-of-type {\n",
       "        vertical-align: middle;\n",
       "    }\n",
       "\n",
       "    .dataframe tbody tr th {\n",
       "        vertical-align: top;\n",
       "    }\n",
       "\n",
       "    .dataframe thead th {\n",
       "        text-align: right;\n",
       "    }\n",
       "</style>\n",
       "<table border=\"1\" class=\"dataframe\">\n",
       "  <thead>\n",
       "    <tr style=\"text-align: right;\">\n",
       "      <th></th>\n",
       "      <th></th>\n",
       "      <th>count</th>\n",
       "      <th>accuracy</th>\n",
       "      <th>lconf95</th>\n",
       "      <th>hconf95</th>\n",
       "    </tr>\n",
       "    <tr>\n",
       "      <th>minprob</th>\n",
       "      <th>maxprob</th>\n",
       "      <th></th>\n",
       "      <th></th>\n",
       "      <th></th>\n",
       "      <th></th>\n",
       "    </tr>\n",
       "  </thead>\n",
       "  <tbody>\n",
       "    <tr>\n",
       "      <th>0.00</th>\n",
       "      <th>0.25</th>\n",
       "      <td>242</td>\n",
       "      <td>0.842975</td>\n",
       "      <td>0.797137</td>\n",
       "      <td>0.888814</td>\n",
       "    </tr>\n",
       "    <tr>\n",
       "      <th>0.25</th>\n",
       "      <th>0.50</th>\n",
       "      <td>5044</td>\n",
       "      <td>0.585250</td>\n",
       "      <td>0.571653</td>\n",
       "      <td>0.598846</td>\n",
       "    </tr>\n",
       "    <tr>\n",
       "      <th>0.50</th>\n",
       "      <th>0.75</th>\n",
       "      <td>4935</td>\n",
       "      <td>0.588450</td>\n",
       "      <td>0.574720</td>\n",
       "      <td>0.602180</td>\n",
       "    </tr>\n",
       "    <tr>\n",
       "      <th>0.75</th>\n",
       "      <th>1.00</th>\n",
       "      <td>229</td>\n",
       "      <td>0.834061</td>\n",
       "      <td>0.785877</td>\n",
       "      <td>0.882245</td>\n",
       "    </tr>\n",
       "  </tbody>\n",
       "</table>\n",
       "</div>"
      ],
      "text/plain": [
       "                count  accuracy   lconf95   hconf95\n",
       "minprob maxprob                                    \n",
       "0.00    0.25      242  0.842975  0.797137  0.888814\n",
       "0.25    0.50     5044  0.585250  0.571653  0.598846\n",
       "0.50    0.75     4935  0.588450  0.574720  0.602180\n",
       "0.75    1.00      229  0.834061  0.785877  0.882245"
      ]
     },
     "execution_count": 18,
     "metadata": {},
     "output_type": "execute_result"
    }
   ],
   "source": [
    "probcats(4)"
   ]
  }
 ],
 "metadata": {
  "accelerator": "GPU",
  "colab": {
   "collapsed_sections": [],
   "include_colab_link": true,
   "name": "twitgen_glovinit_best_dl_model",
   "provenance": [],
   "version": "0.3.2"
  },
  "kernelspec": {
   "display_name": "tf1",
   "language": "python",
   "name": "tf1"
  },
  "language_info": {
   "codemirror_mode": {
    "name": "ipython",
    "version": 3
   },
   "file_extension": ".py",
   "mimetype": "text/x-python",
   "name": "python",
   "nbconvert_exporter": "python",
   "pygments_lexer": "ipython3",
   "version": "3.7.3"
  }
 },
 "nbformat": 4,
 "nbformat_minor": 1
}
