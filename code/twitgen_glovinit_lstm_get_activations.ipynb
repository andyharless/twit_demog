{
 "cells": [
  {
   "cell_type": "code",
   "execution_count": 1,
   "metadata": {
    "colab": {
     "base_uri": "https://localhost:8080/",
     "height": 122
    },
    "colab_type": "code",
    "id": "Ax4RdzBXu65o",
    "outputId": "f09465fa-bbd0-4338-e319-89b27fbafddb"
   },
   "outputs": [],
   "source": [
    "do_mount=False\n",
    "if do_mount:\n",
    "  from google.colab import drive\n",
    "  drive.mount('/content/gdrive')"
   ]
  },
  {
   "cell_type": "code",
   "execution_count": 2,
   "metadata": {
    "colab": {},
    "colab_type": "code",
    "id": "Hg5Y784oysWW"
   },
   "outputs": [],
   "source": [
    "# Parameters\n",
    "TRAIN_INPUT = 'twitgen_train_201906011956.csv'\n",
    "VALID_INPUT = 'twitgen_valid_201906011956.csv'\n",
    "TEST_INPUT = 'twitgen_test_201906011956.csv'\n",
    "EMBEDDING_DIM = 200\n",
    "MAXLEN = 50  # Maximum number of words per tweet that will be processed"
   ]
  },
  {
   "cell_type": "code",
   "execution_count": 3,
   "metadata": {
    "colab": {},
    "colab_type": "code",
    "id": "x-H3ypYSfqro"
   },
   "outputs": [
    {
     "data": {
      "text/plain": [
       "'201907261114'"
      ]
     },
     "execution_count": 3,
     "metadata": {},
     "output_type": "execute_result"
    }
   ],
   "source": [
    "basepath = '../data/'\n",
    "glovefile = 'glove.twitter.27B.200d.txt.gz'\n",
    "glovepath = basepath + glovefile\n",
    "model_file_name = 'twitgen_lstm_201907261114.h5'\n",
    "base_timestamp = model_file_name[-15:-3]\n",
    "base_timestamp"
   ]
  },
  {
   "cell_type": "code",
   "execution_count": 4,
   "metadata": {
    "colab": {
     "base_uri": "https://localhost:8080/",
     "height": 85
    },
    "colab_type": "code",
    "id": "ZTHMDATrw2or",
    "outputId": "8e574c7e-2ac5-4059-8d40-379f343bb3a9"
   },
   "outputs": [],
   "source": [
    "if do_mount:\n",
    "  # Get the embedding initialization file\n",
    "  !cp '$glovepath' .\n",
    "  !gunzip $glovefile\n",
    "  !ls -l"
   ]
  },
  {
   "cell_type": "code",
   "execution_count": 5,
   "metadata": {
    "colab": {
     "base_uri": "https://localhost:8080/",
     "height": 51
    },
    "colab_type": "code",
    "id": "Ki5FWLkTycV4",
    "outputId": "9974b4f1-447e-43ad-f00f-d07839d3c3a8"
   },
   "outputs": [
    {
     "name": "stderr",
     "output_type": "stream",
     "text": [
      "Using TensorFlow backend.\n"
     ]
    },
    {
     "data": {
      "text/plain": [
       "'2.2.4'"
      ]
     },
     "execution_count": 5,
     "metadata": {},
     "output_type": "execute_result"
    }
   ],
   "source": [
    "import tensorflow as tf\n",
    "import pandas as pd\n",
    "import os\n",
    "import re\n",
    "import keras\n",
    "from keras import backend as K\n",
    "import keras.layers as layers\n",
    "from keras.models import Model, load_model\n",
    "from keras.engine import Layer\n",
    "from keras.optimizers import Adam, Adagrad\n",
    "from keras.preprocessing.text import Tokenizer\n",
    "from keras.preprocessing.sequence import pad_sequences\n",
    "import numpy as np\n",
    "from datetime import datetime\n",
    "import string\n",
    "\n",
    "keras.__version__"
   ]
  },
  {
   "cell_type": "code",
   "execution_count": 6,
   "metadata": {
    "colab": {
     "base_uri": "https://localhost:8080/",
     "height": 235
    },
    "colab_type": "code",
    "id": "diA4mf7rx5dG",
    "outputId": "c89158f1-1deb-4379-94e1-1aff10661ccd"
   },
   "outputs": [
    {
     "data": {
      "text/html": [
       "<div>\n",
       "<style scoped>\n",
       "    .dataframe tbody tr th:only-of-type {\n",
       "        vertical-align: middle;\n",
       "    }\n",
       "\n",
       "    .dataframe tbody tr th {\n",
       "        vertical-align: top;\n",
       "    }\n",
       "\n",
       "    .dataframe thead th {\n",
       "        text-align: right;\n",
       "    }\n",
       "</style>\n",
       "<table border=\"1\" class=\"dataframe\">\n",
       "  <thead>\n",
       "    <tr style=\"text-align: right;\">\n",
       "      <th></th>\n",
       "      <th></th>\n",
       "      <th>text</th>\n",
       "      <th>male</th>\n",
       "    </tr>\n",
       "    <tr>\n",
       "      <th>id</th>\n",
       "      <th>time</th>\n",
       "      <th></th>\n",
       "      <th></th>\n",
       "    </tr>\n",
       "  </thead>\n",
       "  <tbody>\n",
       "    <tr>\n",
       "      <th>1083596943807393792</th>\n",
       "      <th>2019-05-27 23:27:08+00:00</th>\n",
       "      <td>Ah, the Flat Earth gambit.\\nWell played.</td>\n",
       "      <td>True</td>\n",
       "    </tr>\n",
       "    <tr>\n",
       "      <th>815783987784187904</th>\n",
       "      <th>2019-05-24 15:36:01+00:00</th>\n",
       "      <td>Aw ily</td>\n",
       "      <td>False</td>\n",
       "    </tr>\n",
       "    <tr>\n",
       "      <th>3458239641</th>\n",
       "      <th>2019-05-24 19:00:37+00:00</th>\n",
       "      <td>I hate being sick</td>\n",
       "      <td>False</td>\n",
       "    </tr>\n",
       "    <tr>\n",
       "      <th>1003729876250226688</th>\n",
       "      <th>2019-05-26 12:53:00+00:00</th>\n",
       "      <td>You still didn't' do shit tho. Slow down the...</td>\n",
       "      <td>True</td>\n",
       "    </tr>\n",
       "    <tr>\n",
       "      <th>2360143940</th>\n",
       "      <th>2019-05-28 03:50:46+00:00</th>\n",
       "      <td>Harriet Tubman may not be on the $20 bill... f...</td>\n",
       "      <td>False</td>\n",
       "    </tr>\n",
       "  </tbody>\n",
       "</table>\n",
       "</div>"
      ],
      "text/plain": [
       "                                                                                            text  \\\n",
       "id                  time                                                                           \n",
       "1083596943807393792 2019-05-27 23:27:08+00:00           Ah, the Flat Earth gambit.\\nWell played.   \n",
       "815783987784187904  2019-05-24 15:36:01+00:00                                             Aw ily   \n",
       "3458239641          2019-05-24 19:00:37+00:00                                  I hate being sick   \n",
       "1003729876250226688 2019-05-26 12:53:00+00:00    You still didn't' do shit tho. Slow down the...   \n",
       "2360143940          2019-05-28 03:50:46+00:00  Harriet Tubman may not be on the $20 bill... f...   \n",
       "\n",
       "                                                male  \n",
       "id                  time                              \n",
       "1083596943807393792 2019-05-27 23:27:08+00:00   True  \n",
       "815783987784187904  2019-05-24 15:36:01+00:00  False  \n",
       "3458239641          2019-05-24 19:00:37+00:00  False  \n",
       "1003729876250226688 2019-05-26 12:53:00+00:00   True  \n",
       "2360143940          2019-05-28 03:50:46+00:00  False  "
      ]
     },
     "execution_count": 6,
     "metadata": {},
     "output_type": "execute_result"
    }
   ],
   "source": [
    "# Read in the data\n",
    "df_train = pd.read_csv(basepath+TRAIN_INPUT, index_col=['id','time'], parse_dates=['time'])\n",
    "df_valid = pd.read_csv(basepath+VALID_INPUT, index_col=['id','time'], parse_dates=['time'])\n",
    "df_test = pd.read_csv(basepath+TEST_INPUT, index_col=['id','time'], parse_dates=['time'])\n",
    "df_train.head()"
   ]
  },
  {
   "cell_type": "code",
   "execution_count": 7,
   "metadata": {
    "colab": {
     "base_uri": "https://localhost:8080/",
     "height": 34
    },
    "colab_type": "code",
    "id": "tiWLlkKOx_G2",
    "outputId": "c0956eac-c420-47a0-981d-248b238318be"
   },
   "outputs": [
    {
     "data": {
      "text/plain": [
       "(34, 30, 31)"
      ]
     },
     "execution_count": 7,
     "metadata": {},
     "output_type": "execute_result"
    }
   ],
   "source": [
    "# Maximum number of words per tweet in each data set\n",
    "(df_train.text.str.split().apply(len).max(), \n",
    " df_valid.text.str.split().apply(len).max(),\n",
    " df_test.text.str.split().apply(len).max())"
   ]
  },
  {
   "cell_type": "code",
   "execution_count": 8,
   "metadata": {
    "colab": {},
    "colab_type": "code",
    "id": "TYo_WNX3x_PO"
   },
   "outputs": [],
   "source": [
    "# Text Normalization function\n",
    "\n",
    "# Taken from \n",
    "# https://medium.com/@sabber/classifying-yelp-review-comments-using-lstm-and-word-embeddings-part-1-eb2275e4066b\n",
    "# which was taken from https://www.kaggle.com/lystdo/lstm-with-word2vec-embeddings\n",
    "# but this version no longer does stemming or stop word elmination\n",
    "\n",
    "# This is for general text, not Twitter-specific.\n",
    "# Maybe would get a better classifier if we used a Python transaltion of this:\n",
    "# https://nlp.stanford.edu/projects/glove/preprocess-twitter.rb\n",
    "# but that is arguably outside the scope of this project\n",
    "# and my initial attempts to use Twitter-specific preprocessing have been unsuccessful\n",
    "\n",
    "\n",
    "def clean_text(text):\n",
    "    \n",
    "    ## Remove puncuation\n",
    "    text = text.translate(string.punctuation)\n",
    "    \n",
    "    ## Convert words to lower case and split them\n",
    "    text = text.lower().split()\n",
    "    \n",
    "    text = \" \".join(text)\n",
    "    ## Clean the text\n",
    "    text = re.sub(r\"[^A-Za-z0-9^,!.\\/'+-=]\", \" \", text)\n",
    "    text = re.sub(r\"what's\", \"what is \", text)\n",
    "    text = re.sub(r\"\\'s\", \" \", text)\n",
    "    text = re.sub(r\"\\'ve\", \" have \", text)\n",
    "    text = re.sub(r\"n't\", \" not \", text)\n",
    "    text = re.sub(r\"i'm\", \"i am \", text)\n",
    "    text = re.sub(r\"\\'re\", \" are \", text)\n",
    "    text = re.sub(r\"\\'d\", \" would \", text)\n",
    "    text = re.sub(r\"\\'ll\", \" will \", text)\n",
    "    text = re.sub(r\",\", \" \", text)\n",
    "    text = re.sub(r\"\\.\", \" \", text)\n",
    "    text = re.sub(r\"!\", \" ! \", text)\n",
    "    text = re.sub(r\"\\/\", \" \", text)\n",
    "    text = re.sub(r\"\\^\", \" ^ \", text)\n",
    "    text = re.sub(r\"\\+\", \" + \", text)\n",
    "    text = re.sub(r\"\\-\", \" - \", text)\n",
    "    text = re.sub(r\"\\=\", \" = \", text)\n",
    "    text = re.sub(r\"'\", \" \", text)\n",
    "    text = re.sub(r\"(\\d+)(k)\", r\"\\g<1>000\", text)\n",
    "    text = re.sub(r\":\", \" : \", text)\n",
    "    text = re.sub(r\" e g \", \" eg \", text)\n",
    "    text = re.sub(r\" b g \", \" bg \", text)\n",
    "    text = re.sub(r\" u s \", \" american \", text)\n",
    "    text = re.sub(r\"\\0s\", \"0\", text)\n",
    "    text = re.sub(r\" 9 11 \", \"911\", text)\n",
    "    text = re.sub(r\"e - mail\", \"email\", text)\n",
    "    text = re.sub(r\"j k\", \"jk\", text)\n",
    "    text = re.sub(r\"\\s{2,}\", \" \", text)\n",
    "\n",
    "    return text\n"
   ]
  },
  {
   "cell_type": "code",
   "execution_count": 9,
   "metadata": {
    "colab": {
     "base_uri": "https://localhost:8080/",
     "height": 34
    },
    "colab_type": "code",
    "id": "d1bOaiLe-Cwq",
    "outputId": "cf5f3846-6c61-4404-81d4-ed736e1c6902"
   },
   "outputs": [
    {
     "data": {
      "text/plain": [
       "(47, 42, 42)"
      ]
     },
     "execution_count": 9,
     "metadata": {},
     "output_type": "execute_result"
    }
   ],
   "source": [
    "# Process the data for model input\n",
    "def get_texts_and_labels(df):\n",
    "  texts = df['text'].map(lambda x: clean_text(x)).tolist()\n",
    "  texts = [t.split()[0:MAXLEN] for t in texts]\n",
    "  labels = df['male'].tolist()\n",
    "  return texts, labels\n",
    "\n",
    "train_text, train_label = get_texts_and_labels(df_train)\n",
    "valid_text, valid_label = get_texts_and_labels(df_valid)\n",
    "test_text, test_label = get_texts_and_labels(df_test)\n",
    "\n",
    "max([len(x) for x in train_text]), max([len(x) for x in valid_text]), max([len(x) for x in test_text])"
   ]
  },
  {
   "cell_type": "code",
   "execution_count": 10,
   "metadata": {
    "colab": {},
    "colab_type": "code",
    "id": "HGxYN53F8chY"
   },
   "outputs": [],
   "source": [
    "# Fit tokenizer on training data\n",
    "tok = Tokenizer()\n",
    "tok.fit_on_texts(train_text)\n",
    "vocab_size = len(tok.word_index) + 1"
   ]
  },
  {
   "cell_type": "code",
   "execution_count": 11,
   "metadata": {
    "colab": {
     "base_uri": "https://localhost:8080/",
     "height": 68
    },
    "colab_type": "code",
    "id": "5FVpEPUM9M9D",
    "outputId": "2f876571-be12-4897-b7b9-4e402b0565a6"
   },
   "outputs": [
    {
     "name": "stdout",
     "output_type": "stream",
     "text": [
      "<class 'numpy.ndarray'> 34146 10914 10450\n"
     ]
    },
    {
     "data": {
      "text/plain": [
       "array([  956,     1,  4035,  1154, 13312,     8,    98,   732,     0,\n",
       "           0], dtype=int32)"
      ]
     },
     "execution_count": 11,
     "metadata": {},
     "output_type": "execute_result"
    }
   ],
   "source": [
    "# Tokenize the data\n",
    "def get_tokenized_texts(texts):\n",
    "  encoded_docs = tok.texts_to_sequences(texts)\n",
    "  padded_docs = pad_sequences(encoded_docs, maxlen=MAXLEN, padding='post')\n",
    "  return padded_docs\n",
    "\n",
    "docs_train = get_tokenized_texts(train_text)\n",
    "docs_valid = get_tokenized_texts(valid_text)\n",
    "docs_test = get_tokenized_texts(test_text)\n",
    "\n",
    "print(type(docs_train), len(docs_train), len(docs_valid), len(docs_test))\n",
    "docs_train[0][:10]"
   ]
  },
  {
   "cell_type": "code",
   "execution_count": 12,
   "metadata": {
    "colab": {
     "base_uri": "https://localhost:8080/",
     "height": 34
    },
    "colab_type": "code",
    "id": "i6x12xlm8ckN",
    "outputId": "b88b8dc9-e7cd-4236-bbae-e74fa05c34b5"
   },
   "outputs": [
    {
     "name": "stdout",
     "output_type": "stream",
     "text": [
      "Loaded 1193514 word vectors.\n"
     ]
    }
   ],
   "source": [
    "# Load the whole embedding into memory\n",
    "embeddings_index = dict()\n",
    "f = open(glovefile[:-3])\n",
    "for line in f:\n",
    "\tvalues = line.split()\n",
    "\tword = values[0]\n",
    "\tcoefs = np.asarray(values[1:], dtype='float32')\n",
    "\tembeddings_index[word] = coefs\n",
    "f.close()\n",
    "print('Loaded %s word vectors.' % len(embeddings_index))"
   ]
  },
  {
   "cell_type": "code",
   "execution_count": 13,
   "metadata": {
    "colab": {},
    "colab_type": "code",
    "id": "JXkU0hx6JoXx"
   },
   "outputs": [],
   "source": [
    "# Create a weight matrix for words in training docs\n",
    "embedding_matrix = np.zeros((vocab_size, EMBEDDING_DIM))\n",
    "for word, i in tok.word_index.items():\n",
    "\tembedding_vector = embeddings_index.get(word)\n",
    "\tif embedding_vector is not None:\n",
    "\t\tembedding_matrix[i] = embedding_vector"
   ]
  },
  {
   "cell_type": "code",
   "execution_count": 14,
   "metadata": {
    "colab": {
     "base_uri": "https://localhost:8080/",
     "height": 1000
    },
    "colab_type": "code",
    "id": "pTM8vFvYvrBQ",
    "outputId": "51e94d24-4742-43eb-8b09-8f446798b63e"
   },
   "outputs": [
    {
     "name": "stdout",
     "output_type": "stream",
     "text": [
      "WARNING:tensorflow:From /home/andy/anaconda3/envs/tf1/lib/python3.7/site-packages/tensorflow/python/framework/op_def_library.py:263: colocate_with (from tensorflow.python.framework.ops) is deprecated and will be removed in a future version.\n",
      "Instructions for updating:\n",
      "Colocations handled automatically by placer.\n",
      "WARNING:tensorflow:From /home/andy/anaconda3/envs/tf1/lib/python3.7/site-packages/keras/backend/tensorflow_backend.py:3445: calling dropout (from tensorflow.python.ops.nn_ops) with keep_prob is deprecated and will be removed in a future version.\n",
      "Instructions for updating:\n",
      "Please use `rate` instead of `keep_prob`. Rate should be set to `rate = 1 - keep_prob`.\n",
      "__________________________________________________________________________________________________\n",
      "Layer (type)                    Output Shape         Param #     Connected to                     \n",
      "==================================================================================================\n",
      "input_1 (InputLayer)            (None, 50)           0                                            \n",
      "__________________________________________________________________________________________________\n",
      "embedding_1 (Embedding)         (None, 50, 200)      6026200     input_1[0][0]                    \n",
      "__________________________________________________________________________________________________\n",
      "dropout_1 (Dropout)             (None, 50, 200)      0           embedding_1[0][0]                \n",
      "__________________________________________________________________________________________________\n",
      "dropout_2 (Dropout)             (None, 50, 200)      0           dropout_1[0][0]                  \n",
      "__________________________________________________________________________________________________\n",
      "lstm_1 (LSTM)                   (None, 50, 80)       89920       dropout_2[0][0]                  \n",
      "__________________________________________________________________________________________________\n",
      "lstm_3 (LSTM)                   (None, 50, 80)       89920       dropout_2[0][0]                  \n",
      "__________________________________________________________________________________________________\n",
      "dropout_3 (Dropout)             (None, 50, 80)       0           lstm_1[0][0]                     \n",
      "__________________________________________________________________________________________________\n",
      "dropout_5 (Dropout)             (None, 50, 80)       0           lstm_3[0][0]                     \n",
      "__________________________________________________________________________________________________\n",
      "dropout_4 (Dropout)             (None, 50, 80)       0           dropout_3[0][0]                  \n",
      "__________________________________________________________________________________________________\n",
      "dropout_6 (Dropout)             (None, 50, 80)       0           dropout_5[0][0]                  \n",
      "__________________________________________________________________________________________________\n",
      "lstm_2 (LSTM)                   (None, 80)           51520       dropout_4[0][0]                  \n",
      "__________________________________________________________________________________________________\n",
      "lstm_4 (LSTM)                   (None, 80)           51520       dropout_6[0][0]                  \n",
      "__________________________________________________________________________________________________\n",
      "concatenate_1 (Concatenate)     (None, 160)          0           lstm_2[0][0]                     \n",
      "                                                                 lstm_4[0][0]                     \n",
      "__________________________________________________________________________________________________\n",
      "dropout_7 (Dropout)             (None, 160)          0           concatenate_1[0][0]              \n",
      "__________________________________________________________________________________________________\n",
      "dropout_8 (Dropout)             (None, 160)          0           concatenate_1[0][0]              \n",
      "__________________________________________________________________________________________________\n",
      "dense_1 (Dense)                 (None, 40)           6440        dropout_7[0][0]                  \n",
      "__________________________________________________________________________________________________\n",
      "dense_2 (Dense)                 (None, 40)           6440        dropout_8[0][0]                  \n",
      "__________________________________________________________________________________________________\n",
      "final_concat (Concatenate)      (None, 240)          0           concatenate_1[0][0]              \n",
      "                                                                 dense_1[0][0]                    \n",
      "                                                                 dense_2[0][0]                    \n",
      "__________________________________________________________________________________________________\n",
      "dropout_9 (Dropout)             (None, 240)          0           final_concat[0][0]               \n",
      "__________________________________________________________________________________________________\n",
      "dense_3 (Dense)                 (None, 1)            241         dropout_9[0][0]                  \n",
      "==================================================================================================\n",
      "Total params: 6,322,201\n",
      "Trainable params: 296,001\n",
      "Non-trainable params: 6,026,200\n",
      "__________________________________________________________________________________________________\n"
     ]
    }
   ],
   "source": [
    "# NERUAL NETWORK MODEL\n",
    "\n",
    "\n",
    "# PARAMETERS\n",
    "batchsize = 128\n",
    "\n",
    "lstm_dim = 80\n",
    "residual_connection_width = 40\n",
    "\n",
    "dropout_factor = 1.07\n",
    "spatiotemporal_dropout = 0.25 * dropout_factor\n",
    "lstm_dropout = 0.3 * dropout_factor\n",
    "residual_connection_dropout = 0.6 * dropout_factor\n",
    "final_dropout = 0.7 * dropout_factor\n",
    "\n",
    "base_frozen_lr = 1e-3\n",
    "base_frozen_decay = 1e-4\n",
    "frozen_epochs = 35\n",
    "frozen_batchsize = batchsize\n",
    "\n",
    "base_unfrozen_lr = 1.3e-4\n",
    "base_unfrozen_decay = 2.5e-4\n",
    "unfrozen_epochs = 29\n",
    "unfrozen_batchsize = batchsize\n",
    "\n",
    "\n",
    "base_batchsize = 512\n",
    "\n",
    "frozen_lr_factor = frozen_batchsize / base_batchsize\n",
    "unfrozen_lr_factor = unfrozen_batchsize / base_batchsize\n",
    "\n",
    "frozen_lr = base_frozen_lr * frozen_lr_factor\n",
    "frozen_decay = base_frozen_decay * frozen_lr_factor\n",
    "\n",
    "unfrozen_lr = base_unfrozen_lr * unfrozen_lr_factor\n",
    "unfrozen_decay = base_unfrozen_decay * unfrozen_lr_factor\n",
    "\n",
    "\n",
    "inputs = layers.Input((MAXLEN,), dtype=\"int32\")\n",
    "\n",
    "\n",
    "# EMBEDDING BLOCK\n",
    "raw_embed = layers.Embedding(vocab_size, \n",
    "                           EMBEDDING_DIM, \n",
    "                           weights=[embedding_matrix], \n",
    "                           input_length=MAXLEN, \n",
    "                           trainable=False)(inputs)\n",
    "embed_random_drop = layers.Dropout(rate=spatiotemporal_dropout)(raw_embed)\n",
    "embed_time_drop = layers.Dropout(rate=spatiotemporal_dropout, \n",
    "                       noise_shape=(None, MAXLEN, 1))(embed_random_drop)\n",
    "\n",
    "\n",
    "# LEFT LSTM BLOCK\n",
    "\n",
    "# Backward LSTM layer\n",
    "lstm_bottom_left = layers.LSTM(lstm_dim, return_sequences=True, \n",
    "                               go_backwards=True, dropout=lstm_dropout, \n",
    "                               recurrent_dropout=lstm_dropout)(embed_time_drop)\n",
    "lstm_random_drop_left = layers.Dropout(rate=spatiotemporal_dropout)(lstm_bottom_left)\n",
    "lstm_time_drop_left = layers.Dropout(rate=spatiotemporal_dropout, \n",
    "                            noise_shape=(None,MAXLEN,1))(lstm_random_drop_left)\n",
    "# Forward LSTM layer\n",
    "lstm_top_left = layers.LSTM(lstm_dim, return_sequences=False, dropout=lstm_dropout, \n",
    "                            recurrent_dropout=lstm_dropout)(lstm_time_drop_left)\n",
    "\n",
    "\n",
    "# RIGHT LSTM BLOCK\n",
    "\n",
    "# Forward LSTM layer\n",
    "lstm_bottom_right = layers.LSTM(lstm_dim, return_sequences=True, dropout=lstm_dropout, \n",
    "                                recurrent_dropout=lstm_dropout)(embed_time_drop)\n",
    "lstm_random_drop_right = layers.Dropout(rate=spatiotemporal_dropout)(lstm_bottom_right)\n",
    "lstm_time_drop_right = layers.Dropout(rate=spatiotemporal_dropout, \n",
    "                            noise_shape=(None,MAXLEN,1))(lstm_random_drop_right)\n",
    "# Backward LSTM layer\n",
    "lstm_top_right = layers.LSTM(80, return_sequences=False, \n",
    "                             go_backwards=True, dropout=lstm_dropout, \n",
    "                             recurrent_dropout=lstm_dropout)(lstm_time_drop_right)\n",
    "\n",
    "\n",
    "# MERGE LEFT AND RIGHT BLOCK\n",
    "merged_lstm = layers.merge.concatenate([lstm_top_left, lstm_top_right])\n",
    "\n",
    "\n",
    "# LEFT RESIDUAL BRANCH\n",
    "dropout_resid = layers.Dropout(rate=residual_connection_dropout)(merged_lstm)\n",
    "dense_resid = layers.Dense(residual_connection_width, activation='relu')(dropout_resid)\n",
    "\n",
    "# RIGHT RESIDUAL BRANCH\n",
    "dropout_resid2 = layers.Dropout(rate=residual_connection_dropout)(merged_lstm)\n",
    "dense_resid2 = layers.Dense(residual_connection_width, activation='relu')(dropout_resid2)\n",
    "\n",
    "\n",
    "# FINAL DENSE BLOCK\n",
    "merged_resid = layers.merge.concatenate([merged_lstm, dense_resid, dense_resid2],\n",
    "                                       name='final_concat')\n",
    "dropout = layers.Dropout(rate=final_dropout)(merged_resid)\n",
    "pred = layers.Dense(1, activation='sigmoid')(dropout)\n",
    "\n",
    "\n",
    "# FINAL MODEL\n",
    "model = Model(inputs=[inputs], outputs=pred)\n",
    "model.compile(optimizer=Adam(frozen_lr, decay=frozen_decay), \n",
    "              loss='binary_crossentropy', metrics=['acc'])\n",
    "model.summary()"
   ]
  },
  {
   "cell_type": "code",
   "execution_count": 15,
   "metadata": {
    "colab": {
     "base_uri": "https://localhost:8080/",
     "height": 357
    },
    "colab_type": "code",
    "id": "ahWwgKxU2BgX",
    "outputId": "b1c203f7-cd24-454f-9ced-abfed34db31f"
   },
   "outputs": [
    {
     "data": {
      "text/plain": [
       "[<keras.engine.input_layer.InputLayer at 0x7f1330f84278>,\n",
       " <keras.layers.embeddings.Embedding at 0x7f1330f842e8>,\n",
       " <keras.layers.core.Dropout at 0x7f1330f848d0>,\n",
       " <keras.layers.core.Dropout at 0x7f1344a50400>,\n",
       " <keras.layers.recurrent.LSTM at 0x7f1330f84748>,\n",
       " <keras.layers.recurrent.LSTM at 0x7f132c09bd68>,\n",
       " <keras.layers.core.Dropout at 0x7f1330f84898>,\n",
       " <keras.layers.core.Dropout at 0x7f13006ea5f8>,\n",
       " <keras.layers.core.Dropout at 0x7f132c09ba90>,\n",
       " <keras.layers.core.Dropout at 0x7f13003752e8>,\n",
       " <keras.layers.recurrent.LSTM at 0x7f132c09bef0>,\n",
       " <keras.layers.recurrent.LSTM at 0x7f13003754a8>,\n",
       " <keras.layers.merge.Concatenate at 0x7f1300313780>,\n",
       " <keras.layers.core.Dropout at 0x7f12e4484d30>,\n",
       " <keras.layers.core.Dropout at 0x7f12d47a8860>,\n",
       " <keras.layers.core.Dense at 0x7f12e4484eb8>,\n",
       " <keras.layers.core.Dense at 0x7f12e40d52e8>,\n",
       " <keras.layers.merge.Concatenate at 0x7f12e412fa20>,\n",
       " <keras.layers.core.Dropout at 0x7f12d471ac88>,\n",
       " <keras.layers.core.Dense at 0x7f12e44e20f0>]"
      ]
     },
     "execution_count": 15,
     "metadata": {},
     "output_type": "execute_result"
    }
   ],
   "source": [
    "model.layers"
   ]
  },
  {
   "cell_type": "code",
   "execution_count": 16,
   "metadata": {
    "colab": {
     "base_uri": "https://localhost:8080/",
     "height": 357
    },
    "colab_type": "code",
    "id": "MY-pnpQY3aL7",
    "outputId": "5879da08-d36e-4d31-a862-a364cca4b6e9"
   },
   "outputs": [
    {
     "data": {
      "text/plain": [
       "[('input_1', False),\n",
       " ('embedding_1', False),\n",
       " ('dropout_1', True),\n",
       " ('dropout_2', True),\n",
       " ('lstm_1', True),\n",
       " ('lstm_3', True),\n",
       " ('dropout_3', True),\n",
       " ('dropout_5', True),\n",
       " ('dropout_4', True),\n",
       " ('dropout_6', True),\n",
       " ('lstm_2', True),\n",
       " ('lstm_4', True),\n",
       " ('concatenate_1', True),\n",
       " ('dropout_7', True),\n",
       " ('dropout_8', True),\n",
       " ('dense_1', True),\n",
       " ('dense_2', True),\n",
       " ('final_concat', True),\n",
       " ('dropout_9', True),\n",
       " ('dense_3', True)]"
      ]
     },
     "execution_count": 16,
     "metadata": {},
     "output_type": "execute_result"
    }
   ],
   "source": [
    "[(l.name, l.trainable) for l in model.layers]"
   ]
  },
  {
   "cell_type": "code",
   "execution_count": 17,
   "metadata": {
    "colab": {
     "base_uri": "https://localhost:8080/",
     "height": 867
    },
    "colab_type": "code",
    "id": "MkW7g59L4RtL",
    "outputId": "5c9eb406-162c-402b-939c-b616743f9693"
   },
   "outputs": [
    {
     "name": "stdout",
     "output_type": "stream",
     "text": [
      "__________________________________________________________________________________________________\n",
      "Layer (type)                    Output Shape         Param #     Connected to                     \n",
      "==================================================================================================\n",
      "input_1 (InputLayer)            (None, 50)           0                                            \n",
      "__________________________________________________________________________________________________\n",
      "embedding_1 (Embedding)         (None, 50, 200)      6026200     input_1[0][0]                    \n",
      "__________________________________________________________________________________________________\n",
      "dropout_1 (Dropout)             (None, 50, 200)      0           embedding_1[0][0]                \n",
      "__________________________________________________________________________________________________\n",
      "dropout_2 (Dropout)             (None, 50, 200)      0           dropout_1[0][0]                  \n",
      "__________________________________________________________________________________________________\n",
      "lstm_1 (LSTM)                   (None, 50, 80)       89920       dropout_2[0][0]                  \n",
      "__________________________________________________________________________________________________\n",
      "lstm_3 (LSTM)                   (None, 50, 80)       89920       dropout_2[0][0]                  \n",
      "__________________________________________________________________________________________________\n",
      "dropout_3 (Dropout)             (None, 50, 80)       0           lstm_1[0][0]                     \n",
      "__________________________________________________________________________________________________\n",
      "dropout_5 (Dropout)             (None, 50, 80)       0           lstm_3[0][0]                     \n",
      "__________________________________________________________________________________________________\n",
      "dropout_4 (Dropout)             (None, 50, 80)       0           dropout_3[0][0]                  \n",
      "__________________________________________________________________________________________________\n",
      "dropout_6 (Dropout)             (None, 50, 80)       0           dropout_5[0][0]                  \n",
      "__________________________________________________________________________________________________\n",
      "lstm_2 (LSTM)                   (None, 80)           51520       dropout_4[0][0]                  \n",
      "__________________________________________________________________________________________________\n",
      "lstm_4 (LSTM)                   (None, 80)           51520       dropout_6[0][0]                  \n",
      "__________________________________________________________________________________________________\n",
      "concatenate_1 (Concatenate)     (None, 160)          0           lstm_2[0][0]                     \n",
      "                                                                 lstm_4[0][0]                     \n",
      "__________________________________________________________________________________________________\n",
      "dropout_7 (Dropout)             (None, 160)          0           concatenate_1[0][0]              \n",
      "__________________________________________________________________________________________________\n",
      "dropout_8 (Dropout)             (None, 160)          0           concatenate_1[0][0]              \n",
      "__________________________________________________________________________________________________\n",
      "dense_1 (Dense)                 (None, 40)           6440        dropout_7[0][0]                  \n",
      "__________________________________________________________________________________________________\n",
      "dense_2 (Dense)                 (None, 40)           6440        dropout_8[0][0]                  \n",
      "__________________________________________________________________________________________________\n",
      "final_concat (Concatenate)      (None, 240)          0           concatenate_1[0][0]              \n",
      "                                                                 dense_1[0][0]                    \n",
      "                                                                 dense_2[0][0]                    \n",
      "__________________________________________________________________________________________________\n",
      "dropout_9 (Dropout)             (None, 240)          0           final_concat[0][0]               \n",
      "__________________________________________________________________________________________________\n",
      "dense_3 (Dense)                 (None, 1)            241         dropout_9[0][0]                  \n",
      "==================================================================================================\n",
      "Total params: 6,322,201\n",
      "Trainable params: 6,322,201\n",
      "Non-trainable params: 0\n",
      "__________________________________________________________________________________________________\n"
     ]
    }
   ],
   "source": [
    "# Unfreeze the embeddings\n",
    "model.layers[1].trainable = True\n",
    "model.compile(optimizer=Adam(unfrozen_lr, decay=unfrozen_decay), \n",
    "              loss='binary_crossentropy', metrics=['acc'])\n",
    "model.summary()"
   ]
  },
  {
   "cell_type": "code",
   "execution_count": 18,
   "metadata": {},
   "outputs": [],
   "source": [
    "model.load_weights(basepath+model_file_name)"
   ]
  },
  {
   "cell_type": "code",
   "execution_count": 19,
   "metadata": {
    "colab": {},
    "colab_type": "code",
    "id": "1fW-rzCJMZQX"
   },
   "outputs": [],
   "source": [
    "timestamp = base_timestamp"
   ]
  },
  {
   "cell_type": "code",
   "execution_count": 20,
   "metadata": {
    "colab": {},
    "colab_type": "code",
    "id": "jGKTleLcixRy"
   },
   "outputs": [
    {
     "name": "stdout",
     "output_type": "stream",
     "text": [
      "../data/activ_train_201907261114.csv\n",
      "../data/activ_valid_201907261114.csv\n",
      "../data/activ_test_201907261114.csv\n"
     ]
    }
   ],
   "source": [
    "inp = model.input\n",
    "layer_name = 'final_concat'\n",
    "activations = model.get_layer(layer_name).output\n",
    "get_activations = K.function([inp, K.learning_phase()], [activations])\n",
    "\n",
    "def get_inference_activations(docs):\n",
    "    return(get_activations([docs, 0])[0])\n",
    "\n",
    "def save_activations(df, docs, split, timestamp):\n",
    "\n",
    "    split_activations = get_inference_activations(docs)\n",
    "\n",
    "    for i in range(split_activations.shape[1]):\n",
    "      df['activ'+str(i)] = (split_activations[:,i]*1e6).astype(int)\n",
    "\n",
    "    activ_file_name = basepath + 'activ_' + split + '_' + timestamp + '.csv'\n",
    "    df.drop(['text'],axis=1).to_csv(activ_file_name)\n",
    "    print(activ_file_name)\n",
    "\n",
    "save_activations(df_train, docs_train, 'train', timestamp)\n",
    "save_activations(df_valid, docs_valid, 'valid', timestamp)\n",
    "save_activations(df_test, docs_test, 'test', timestamp)\n"
   ]
  },
  {
   "cell_type": "code",
   "execution_count": null,
   "metadata": {},
   "outputs": [],
   "source": []
  }
 ],
 "metadata": {
  "accelerator": "GPU",
  "colab": {
   "collapsed_sections": [],
   "include_colab_link": true,
   "name": "twitgen_glovinit_best_dl_model",
   "provenance": [],
   "version": "0.3.2"
  },
  "kernelspec": {
   "display_name": "tf1",
   "language": "python",
   "name": "tf1"
  },
  "language_info": {
   "codemirror_mode": {
    "name": "ipython",
    "version": 3
   },
   "file_extension": ".py",
   "mimetype": "text/x-python",
   "name": "python",
   "nbconvert_exporter": "python",
   "pygments_lexer": "ipython3",
   "version": "3.7.3"
  }
 },
 "nbformat": 4,
 "nbformat_minor": 1
}
