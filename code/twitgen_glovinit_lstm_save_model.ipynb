{
 "cells": [
  {
   "cell_type": "code",
   "execution_count": 1,
   "metadata": {
    "colab": {
     "base_uri": "https://localhost:8080/",
     "height": 122
    },
    "colab_type": "code",
    "id": "Ax4RdzBXu65o",
    "outputId": "f09465fa-bbd0-4338-e319-89b27fbafddb"
   },
   "outputs": [],
   "source": [
    "do_mount=False\n",
    "if do_mount:\n",
    "  from google.colab import drive\n",
    "  drive.mount('/content/gdrive')"
   ]
  },
  {
   "cell_type": "code",
   "execution_count": 2,
   "metadata": {
    "colab": {},
    "colab_type": "code",
    "id": "Hg5Y784oysWW"
   },
   "outputs": [],
   "source": [
    "# Parameters\n",
    "TRAIN_INPUT = 'twitgen_train_201906011956.csv'\n",
    "VALID_INPUT = 'twitgen_valid_201906011956.csv'\n",
    "TEST_INPUT = 'twitgen_test_201906011956.csv'\n",
    "EMBEDDING_DIM = 200\n",
    "MAXLEN = 50  # Maximum number of words per tweet that will be processed\n",
    "\n",
    "DEBUG = False"
   ]
  },
  {
   "cell_type": "code",
   "execution_count": 3,
   "metadata": {
    "colab": {},
    "colab_type": "code",
    "id": "x-H3ypYSfqro"
   },
   "outputs": [],
   "source": [
    "#basepath = '/content/gdrive/My Drive/twitgen/'\n",
    "basepath = '../data/'\n",
    "glovefile = 'glove.twitter.27B.200d.txt.gz'\n",
    "glovepath = basepath + glovefile"
   ]
  },
  {
   "cell_type": "code",
   "execution_count": 4,
   "metadata": {
    "colab": {
     "base_uri": "https://localhost:8080/",
     "height": 85
    },
    "colab_type": "code",
    "id": "ZTHMDATrw2or",
    "outputId": "8e574c7e-2ac5-4059-8d40-379f343bb3a9"
   },
   "outputs": [],
   "source": [
    "if do_mount:\n",
    "  # Get the embedding initialization file\n",
    "  !cp '$glovepath' .\n",
    "  !gunzip $glovefile\n",
    "  !ls -l"
   ]
  },
  {
   "cell_type": "code",
   "execution_count": 5,
   "metadata": {
    "colab": {
     "base_uri": "https://localhost:8080/",
     "height": 51
    },
    "colab_type": "code",
    "id": "Ki5FWLkTycV4",
    "outputId": "9974b4f1-447e-43ad-f00f-d07839d3c3a8"
   },
   "outputs": [
    {
     "name": "stderr",
     "output_type": "stream",
     "text": [
      "/home/andy/.local/lib/python3.6/site-packages/h5py/__init__.py:36: FutureWarning: Conversion of the second argument of issubdtype from `float` to `np.floating` is deprecated. In future, it will be treated as `np.float64 == np.dtype(float).type`.\n",
      "  from ._conv import register_converters as _register_converters\n",
      "Using TensorFlow backend.\n"
     ]
    },
    {
     "data": {
      "text/plain": [
       "'2.2.4'"
      ]
     },
     "execution_count": 5,
     "metadata": {},
     "output_type": "execute_result"
    }
   ],
   "source": [
    "import tensorflow as tf\n",
    "import pandas as pd\n",
    "import os\n",
    "import re\n",
    "import keras\n",
    "from keras import backend as K\n",
    "import keras.layers as layers\n",
    "from keras.models import Model, load_model\n",
    "from keras.engine import Layer\n",
    "from keras.optimizers import Adam, Adagrad\n",
    "from keras.preprocessing.text import Tokenizer\n",
    "from keras.preprocessing.sequence import pad_sequences\n",
    "import numpy as np\n",
    "from datetime import datetime\n",
    "import string\n",
    "\n",
    "keras.__version__"
   ]
  },
  {
   "cell_type": "code",
   "execution_count": 6,
   "metadata": {
    "colab": {
     "base_uri": "https://localhost:8080/",
     "height": 235
    },
    "colab_type": "code",
    "id": "diA4mf7rx5dG",
    "outputId": "c89158f1-1deb-4379-94e1-1aff10661ccd"
   },
   "outputs": [
    {
     "data": {
      "text/html": [
       "<div>\n",
       "<style scoped>\n",
       "    .dataframe tbody tr th:only-of-type {\n",
       "        vertical-align: middle;\n",
       "    }\n",
       "\n",
       "    .dataframe tbody tr th {\n",
       "        vertical-align: top;\n",
       "    }\n",
       "\n",
       "    .dataframe thead th {\n",
       "        text-align: right;\n",
       "    }\n",
       "</style>\n",
       "<table border=\"1\" class=\"dataframe\">\n",
       "  <thead>\n",
       "    <tr style=\"text-align: right;\">\n",
       "      <th></th>\n",
       "      <th></th>\n",
       "      <th>text</th>\n",
       "      <th>male</th>\n",
       "    </tr>\n",
       "    <tr>\n",
       "      <th>id</th>\n",
       "      <th>time</th>\n",
       "      <th></th>\n",
       "      <th></th>\n",
       "    </tr>\n",
       "  </thead>\n",
       "  <tbody>\n",
       "    <tr>\n",
       "      <th>1083596943807393792</th>\n",
       "      <th>2019-05-27 23:27:08+00:00</th>\n",
       "      <td>Ah, the Flat Earth gambit.\\nWell played.</td>\n",
       "      <td>True</td>\n",
       "    </tr>\n",
       "    <tr>\n",
       "      <th>815783987784187904</th>\n",
       "      <th>2019-05-24 15:36:01+00:00</th>\n",
       "      <td>Aw ily</td>\n",
       "      <td>False</td>\n",
       "    </tr>\n",
       "    <tr>\n",
       "      <th>3458239641</th>\n",
       "      <th>2019-05-24 19:00:37+00:00</th>\n",
       "      <td>I hate being sick</td>\n",
       "      <td>False</td>\n",
       "    </tr>\n",
       "    <tr>\n",
       "      <th>1003729876250226688</th>\n",
       "      <th>2019-05-26 12:53:00+00:00</th>\n",
       "      <td>You still didn't' do shit tho. Slow down the...</td>\n",
       "      <td>True</td>\n",
       "    </tr>\n",
       "    <tr>\n",
       "      <th>2360143940</th>\n",
       "      <th>2019-05-28 03:50:46+00:00</th>\n",
       "      <td>Harriet Tubman may not be on the $20 bill... f...</td>\n",
       "      <td>False</td>\n",
       "    </tr>\n",
       "  </tbody>\n",
       "</table>\n",
       "</div>"
      ],
      "text/plain": [
       "                                                                                            text  \\\n",
       "id                  time                                                                           \n",
       "1083596943807393792 2019-05-27 23:27:08+00:00           Ah, the Flat Earth gambit.\\nWell played.   \n",
       "815783987784187904  2019-05-24 15:36:01+00:00                                             Aw ily   \n",
       "3458239641          2019-05-24 19:00:37+00:00                                  I hate being sick   \n",
       "1003729876250226688 2019-05-26 12:53:00+00:00    You still didn't' do shit tho. Slow down the...   \n",
       "2360143940          2019-05-28 03:50:46+00:00  Harriet Tubman may not be on the $20 bill... f...   \n",
       "\n",
       "                                                male  \n",
       "id                  time                              \n",
       "1083596943807393792 2019-05-27 23:27:08+00:00   True  \n",
       "815783987784187904  2019-05-24 15:36:01+00:00  False  \n",
       "3458239641          2019-05-24 19:00:37+00:00  False  \n",
       "1003729876250226688 2019-05-26 12:53:00+00:00   True  \n",
       "2360143940          2019-05-28 03:50:46+00:00  False  "
      ]
     },
     "execution_count": 6,
     "metadata": {},
     "output_type": "execute_result"
    }
   ],
   "source": [
    "# Read in the data\n",
    "df_train = pd.read_csv(basepath+TRAIN_INPUT, index_col=['id','time'], parse_dates=['time'])\n",
    "df_valid = pd.read_csv(basepath+VALID_INPUT, index_col=['id','time'], parse_dates=['time'])\n",
    "df_test = pd.read_csv(basepath+TEST_INPUT, index_col=['id','time'], parse_dates=['time'])\n",
    "df_train.head()"
   ]
  },
  {
   "cell_type": "code",
   "execution_count": 7,
   "metadata": {
    "colab": {
     "base_uri": "https://localhost:8080/",
     "height": 34
    },
    "colab_type": "code",
    "id": "tiWLlkKOx_G2",
    "outputId": "c0956eac-c420-47a0-981d-248b238318be"
   },
   "outputs": [
    {
     "data": {
      "text/plain": [
       "(34, 30, 31)"
      ]
     },
     "execution_count": 7,
     "metadata": {},
     "output_type": "execute_result"
    }
   ],
   "source": [
    "# Maximum number of words per tweet in each data set\n",
    "(df_train.text.str.split().apply(len).max(), \n",
    " df_valid.text.str.split().apply(len).max(),\n",
    " df_test.text.str.split().apply(len).max())"
   ]
  },
  {
   "cell_type": "code",
   "execution_count": 8,
   "metadata": {
    "colab": {},
    "colab_type": "code",
    "id": "TYo_WNX3x_PO"
   },
   "outputs": [],
   "source": [
    "# Text Normalization function\n",
    "\n",
    "# Taken from \n",
    "# https://medium.com/@sabber/classifying-yelp-review-comments-using-lstm-and-word-embeddings-part-1-eb2275e4066b\n",
    "# which was taken from https://www.kaggle.com/lystdo/lstm-with-word2vec-embeddings\n",
    "# but this version no longer does stemming or stop word elmination\n",
    "\n",
    "# This is for general text, not Twitter-specific.\n",
    "# Maybe would get a better classifier if we used a Python transaltion of this:\n",
    "# https://nlp.stanford.edu/projects/glove/preprocess-twitter.rb\n",
    "# but that is arguably outside the scope of this project\n",
    "# and my initial attempts to use Twitter-specific preprocessing have been unsuccessful\n",
    "\n",
    "\n",
    "def clean_text(text):\n",
    "    \n",
    "    ## Remove puncuation\n",
    "    text = text.translate(string.punctuation)\n",
    "    \n",
    "    ## Convert words to lower case and split them\n",
    "    text = text.lower().split()\n",
    "    \n",
    "    text = \" \".join(text)\n",
    "    ## Clean the text\n",
    "    text = re.sub(r\"[^A-Za-z0-9^,!.\\/'+-=]\", \" \", text)\n",
    "    text = re.sub(r\"what's\", \"what is \", text)\n",
    "    text = re.sub(r\"\\'s\", \" \", text)\n",
    "    text = re.sub(r\"\\'ve\", \" have \", text)\n",
    "    text = re.sub(r\"n't\", \" not \", text)\n",
    "    text = re.sub(r\"i'm\", \"i am \", text)\n",
    "    text = re.sub(r\"\\'re\", \" are \", text)\n",
    "    text = re.sub(r\"\\'d\", \" would \", text)\n",
    "    text = re.sub(r\"\\'ll\", \" will \", text)\n",
    "    text = re.sub(r\",\", \" \", text)\n",
    "    text = re.sub(r\"\\.\", \" \", text)\n",
    "    text = re.sub(r\"!\", \" ! \", text)\n",
    "    text = re.sub(r\"\\/\", \" \", text)\n",
    "    text = re.sub(r\"\\^\", \" ^ \", text)\n",
    "    text = re.sub(r\"\\+\", \" + \", text)\n",
    "    text = re.sub(r\"\\-\", \" - \", text)\n",
    "    text = re.sub(r\"\\=\", \" = \", text)\n",
    "    text = re.sub(r\"'\", \" \", text)\n",
    "    text = re.sub(r\"(\\d+)(k)\", r\"\\g<1>000\", text)\n",
    "    text = re.sub(r\":\", \" : \", text)\n",
    "    text = re.sub(r\" e g \", \" eg \", text)\n",
    "    text = re.sub(r\" b g \", \" bg \", text)\n",
    "    text = re.sub(r\" u s \", \" american \", text)\n",
    "    text = re.sub(r\"\\0s\", \"0\", text)\n",
    "    text = re.sub(r\" 9 11 \", \"911\", text)\n",
    "    text = re.sub(r\"e - mail\", \"email\", text)\n",
    "    text = re.sub(r\"j k\", \"jk\", text)\n",
    "    text = re.sub(r\"\\s{2,}\", \" \", text)\n",
    "\n",
    "    return text\n"
   ]
  },
  {
   "cell_type": "code",
   "execution_count": 9,
   "metadata": {
    "colab": {
     "base_uri": "https://localhost:8080/",
     "height": 34
    },
    "colab_type": "code",
    "id": "d1bOaiLe-Cwq",
    "outputId": "cf5f3846-6c61-4404-81d4-ed736e1c6902"
   },
   "outputs": [
    {
     "data": {
      "text/plain": [
       "(47, 42, 42)"
      ]
     },
     "execution_count": 9,
     "metadata": {},
     "output_type": "execute_result"
    }
   ],
   "source": [
    "# Process the data for model input\n",
    "def get_texts_and_labels(df):\n",
    "  texts = df['text'].map(lambda x: clean_text(x)).tolist()\n",
    "  texts = [t.split()[0:MAXLEN] for t in texts]\n",
    "  labels = df['male'].tolist()\n",
    "  return texts, labels\n",
    "\n",
    "train_text, train_label = get_texts_and_labels(df_train)\n",
    "valid_text, valid_label = get_texts_and_labels(df_valid)\n",
    "test_text, test_label = get_texts_and_labels(df_test)\n",
    "\n",
    "max([len(x) for x in train_text]), max([len(x) for x in valid_text]), max([len(x) for x in test_text])"
   ]
  },
  {
   "cell_type": "code",
   "execution_count": 10,
   "metadata": {
    "colab": {},
    "colab_type": "code",
    "id": "HGxYN53F8chY"
   },
   "outputs": [],
   "source": [
    "# Fit tokenizer on training data\n",
    "tok = Tokenizer()\n",
    "tok.fit_on_texts(train_text)\n",
    "vocab_size = len(tok.word_index) + 1"
   ]
  },
  {
   "cell_type": "code",
   "execution_count": 11,
   "metadata": {
    "colab": {
     "base_uri": "https://localhost:8080/",
     "height": 68
    },
    "colab_type": "code",
    "id": "5FVpEPUM9M9D",
    "outputId": "2f876571-be12-4897-b7b9-4e402b0565a6"
   },
   "outputs": [
    {
     "name": "stdout",
     "output_type": "stream",
     "text": [
      "<class 'numpy.ndarray'> 34146 10914 10450\n"
     ]
    },
    {
     "data": {
      "text/plain": [
       "array([  956,     1,  4035,  1154, 13312,     8,    98,   732,     0,\n",
       "           0], dtype=int32)"
      ]
     },
     "execution_count": 11,
     "metadata": {},
     "output_type": "execute_result"
    }
   ],
   "source": [
    "# Tokenize the data\n",
    "def get_tokenized_texts(texts):\n",
    "  encoded_docs = tok.texts_to_sequences(texts)\n",
    "  padded_docs = pad_sequences(encoded_docs, maxlen=MAXLEN, padding='post')\n",
    "  return padded_docs\n",
    "\n",
    "docs_train = get_tokenized_texts(train_text)\n",
    "docs_valid = get_tokenized_texts(valid_text)\n",
    "docs_test = get_tokenized_texts(test_text)\n",
    "\n",
    "print(type(docs_train), len(docs_train), len(docs_valid), len(docs_test))\n",
    "docs_train[0][:10]"
   ]
  },
  {
   "cell_type": "code",
   "execution_count": 12,
   "metadata": {
    "colab": {
     "base_uri": "https://localhost:8080/",
     "height": 34
    },
    "colab_type": "code",
    "id": "i6x12xlm8ckN",
    "outputId": "b88b8dc9-e7cd-4236-bbae-e74fa05c34b5"
   },
   "outputs": [
    {
     "name": "stdout",
     "output_type": "stream",
     "text": [
      "Loaded 1193514 word vectors.\n"
     ]
    }
   ],
   "source": [
    "# Load the whole embedding into memory\n",
    "embeddings_index = dict()\n",
    "f = open(glovefile[:-3])\n",
    "for line in f:\n",
    "\tvalues = line.split()\n",
    "\tword = values[0]\n",
    "\tcoefs = np.asarray(values[1:], dtype='float32')\n",
    "\tembeddings_index[word] = coefs\n",
    "f.close()\n",
    "print('Loaded %s word vectors.' % len(embeddings_index))"
   ]
  },
  {
   "cell_type": "code",
   "execution_count": 13,
   "metadata": {
    "colab": {},
    "colab_type": "code",
    "id": "JXkU0hx6JoXx"
   },
   "outputs": [],
   "source": [
    "# Create a weight matrix for words in training docs\n",
    "embedding_matrix = np.zeros((vocab_size, EMBEDDING_DIM))\n",
    "for word, i in tok.word_index.items():\n",
    "\tembedding_vector = embeddings_index.get(word)\n",
    "\tif embedding_vector is not None:\n",
    "\t\tembedding_matrix[i] = embedding_vector"
   ]
  },
  {
   "cell_type": "code",
   "execution_count": 14,
   "metadata": {
    "colab": {
     "base_uri": "https://localhost:8080/",
     "height": 1000
    },
    "colab_type": "code",
    "id": "pTM8vFvYvrBQ",
    "outputId": "51e94d24-4742-43eb-8b09-8f446798b63e"
   },
   "outputs": [
    {
     "name": "stdout",
     "output_type": "stream",
     "text": [
      "__________________________________________________________________________________________________\n",
      "Layer (type)                    Output Shape         Param #     Connected to                     \n",
      "==================================================================================================\n",
      "input_1 (InputLayer)            (None, 50)           0                                            \n",
      "__________________________________________________________________________________________________\n",
      "embedding_1 (Embedding)         (None, 50, 200)      6026200     input_1[0][0]                    \n",
      "__________________________________________________________________________________________________\n",
      "dropout_1 (Dropout)             (None, 50, 200)      0           embedding_1[0][0]                \n",
      "__________________________________________________________________________________________________\n",
      "dropout_2 (Dropout)             (None, 50, 200)      0           dropout_1[0][0]                  \n",
      "__________________________________________________________________________________________________\n",
      "lstm_1 (LSTM)                   (None, 50, 80)       89920       dropout_2[0][0]                  \n",
      "__________________________________________________________________________________________________\n",
      "lstm_3 (LSTM)                   (None, 50, 80)       89920       dropout_2[0][0]                  \n",
      "__________________________________________________________________________________________________\n",
      "dropout_3 (Dropout)             (None, 50, 80)       0           lstm_1[0][0]                     \n",
      "__________________________________________________________________________________________________\n",
      "dropout_5 (Dropout)             (None, 50, 80)       0           lstm_3[0][0]                     \n",
      "__________________________________________________________________________________________________\n",
      "dropout_4 (Dropout)             (None, 50, 80)       0           dropout_3[0][0]                  \n",
      "__________________________________________________________________________________________________\n",
      "dropout_6 (Dropout)             (None, 50, 80)       0           dropout_5[0][0]                  \n",
      "__________________________________________________________________________________________________\n",
      "lstm_2 (LSTM)                   (None, 80)           51520       dropout_4[0][0]                  \n",
      "__________________________________________________________________________________________________\n",
      "lstm_4 (LSTM)                   (None, 80)           51520       dropout_6[0][0]                  \n",
      "__________________________________________________________________________________________________\n",
      "concatenate_1 (Concatenate)     (None, 160)          0           lstm_2[0][0]                     \n",
      "                                                                 lstm_4[0][0]                     \n",
      "__________________________________________________________________________________________________\n",
      "dropout_7 (Dropout)             (None, 160)          0           concatenate_1[0][0]              \n",
      "__________________________________________________________________________________________________\n",
      "dropout_8 (Dropout)             (None, 160)          0           concatenate_1[0][0]              \n",
      "__________________________________________________________________________________________________\n",
      "dense_1 (Dense)                 (None, 40)           6440        dropout_7[0][0]                  \n",
      "__________________________________________________________________________________________________\n",
      "dense_2 (Dense)                 (None, 40)           6440        dropout_8[0][0]                  \n",
      "__________________________________________________________________________________________________\n",
      "final_concat (Concatenate)      (None, 240)          0           concatenate_1[0][0]              \n",
      "                                                                 dense_1[0][0]                    \n",
      "                                                                 dense_2[0][0]                    \n",
      "__________________________________________________________________________________________________\n",
      "dropout_9 (Dropout)             (None, 240)          0           final_concat[0][0]               \n",
      "__________________________________________________________________________________________________\n",
      "dense_3 (Dense)                 (None, 1)            241         dropout_9[0][0]                  \n",
      "==================================================================================================\n",
      "Total params: 6,322,201\n",
      "Trainable params: 296,001\n",
      "Non-trainable params: 6,026,200\n",
      "__________________________________________________________________________________________________\n"
     ]
    }
   ],
   "source": [
    "# NERUAL NETWORK MODEL\n",
    "\n",
    "\n",
    "# PARAMETERS\n",
    "batchsize = 128\n",
    "\n",
    "lstm_dim = 80\n",
    "residual_connection_width = 40\n",
    "\n",
    "dropout_factor = 1.07\n",
    "spatiotemporal_dropout = 0.25 * dropout_factor\n",
    "lstm_dropout = 0.3 * dropout_factor\n",
    "residual_connection_dropout = 0.6 * dropout_factor\n",
    "final_dropout = 0.7 * dropout_factor\n",
    "\n",
    "base_frozen_lr = 1e-3\n",
    "base_frozen_decay = 1e-4\n",
    "frozen_epochs = 35\n",
    "frozen_batchsize = batchsize\n",
    "\n",
    "base_unfrozen_lr = 1.3e-4\n",
    "base_unfrozen_decay = 2.5e-4\n",
    "unfrozen_epochs = 29\n",
    "unfrozen_batchsize = batchsize\n",
    "\n",
    "if DEBUG:\n",
    "    frozen_batchsize = 512\n",
    "    unfrozen_batchsize = 512\n",
    "    frozen_epochs = 2\n",
    "    unfrozen_epochs = 2\n",
    "\n",
    "\n",
    "base_batchsize = 512\n",
    "\n",
    "frozen_lr_factor = frozen_batchsize / base_batchsize\n",
    "unfrozen_lr_factor = unfrozen_batchsize / base_batchsize\n",
    "\n",
    "frozen_lr = base_frozen_lr * frozen_lr_factor\n",
    "frozen_decay = base_frozen_decay * frozen_lr_factor\n",
    "\n",
    "unfrozen_lr = base_unfrozen_lr * unfrozen_lr_factor\n",
    "unfrozen_decay = base_unfrozen_decay * unfrozen_lr_factor\n",
    "\n",
    "\n",
    "inputs = layers.Input((MAXLEN,), dtype=\"int32\")\n",
    "\n",
    "\n",
    "# EMBEDDING BLOCK\n",
    "raw_embed = layers.Embedding(vocab_size, \n",
    "                           EMBEDDING_DIM, \n",
    "                           weights=[embedding_matrix], \n",
    "                           input_length=MAXLEN, \n",
    "                           trainable=False)(inputs)\n",
    "embed_random_drop = layers.Dropout(rate=spatiotemporal_dropout)(raw_embed)\n",
    "embed_time_drop = layers.Dropout(rate=spatiotemporal_dropout, \n",
    "                       noise_shape=(None, MAXLEN, 1))(embed_random_drop)\n",
    "\n",
    "\n",
    "# LEFT LSTM BLOCK\n",
    "\n",
    "# Backward LSTM layer\n",
    "lstm_bottom_left = layers.LSTM(lstm_dim, return_sequences=True, \n",
    "                               go_backwards=True, dropout=lstm_dropout, \n",
    "                               recurrent_dropout=lstm_dropout)(embed_time_drop)\n",
    "lstm_random_drop_left = layers.Dropout(rate=spatiotemporal_dropout)(lstm_bottom_left)\n",
    "lstm_time_drop_left = layers.Dropout(rate=spatiotemporal_dropout, \n",
    "                            noise_shape=(None,MAXLEN,1))(lstm_random_drop_left)\n",
    "# Forward LSTM layer\n",
    "lstm_top_left = layers.LSTM(lstm_dim, return_sequences=False, dropout=lstm_dropout, \n",
    "                            recurrent_dropout=lstm_dropout)(lstm_time_drop_left)\n",
    "\n",
    "\n",
    "# RIGHT LSTM BLOCK\n",
    "\n",
    "# Forward LSTM layer\n",
    "lstm_bottom_right = layers.LSTM(lstm_dim, return_sequences=True, dropout=lstm_dropout, \n",
    "                                recurrent_dropout=lstm_dropout)(embed_time_drop)\n",
    "lstm_random_drop_right = layers.Dropout(rate=spatiotemporal_dropout)(lstm_bottom_right)\n",
    "lstm_time_drop_right = layers.Dropout(rate=spatiotemporal_dropout, \n",
    "                            noise_shape=(None,MAXLEN,1))(lstm_random_drop_right)\n",
    "# Backward LSTM layer\n",
    "lstm_top_right = layers.LSTM(80, return_sequences=False, \n",
    "                             go_backwards=True, dropout=lstm_dropout, \n",
    "                             recurrent_dropout=lstm_dropout)(lstm_time_drop_right)\n",
    "\n",
    "\n",
    "# MERGE LEFT AND RIGHT BLOCK\n",
    "merged_lstm = layers.merge.concatenate([lstm_top_left, lstm_top_right])\n",
    "\n",
    "\n",
    "# LEFT RESIDUAL BRANCH\n",
    "dropout_resid = layers.Dropout(rate=residual_connection_dropout)(merged_lstm)\n",
    "dense_resid = layers.Dense(residual_connection_width, activation='relu')(dropout_resid)\n",
    "\n",
    "# RIGHT RESIDUAL BRANCH\n",
    "dropout_resid2 = layers.Dropout(rate=residual_connection_dropout)(merged_lstm)\n",
    "dense_resid2 = layers.Dense(residual_connection_width, activation='relu')(dropout_resid2)\n",
    "\n",
    "\n",
    "# FINAL DENSE BLOCK\n",
    "merged_resid = layers.merge.concatenate([merged_lstm, dense_resid, dense_resid2],\n",
    "                                       name='final_concat')\n",
    "dropout = layers.Dropout(rate=final_dropout)(merged_resid)\n",
    "pred = layers.Dense(1, activation='sigmoid')(dropout)\n",
    "\n",
    "\n",
    "# FINAL MODEL\n",
    "model = Model(inputs=[inputs], outputs=pred)\n",
    "model.compile(optimizer=Adam(frozen_lr, decay=frozen_decay), \n",
    "              loss='binary_crossentropy', metrics=['acc'])\n",
    "model.summary()"
   ]
  },
  {
   "cell_type": "code",
   "execution_count": 15,
   "metadata": {
    "colab": {
     "base_uri": "https://localhost:8080/",
     "height": 357
    },
    "colab_type": "code",
    "id": "ahWwgKxU2BgX",
    "outputId": "b1c203f7-cd24-454f-9ced-abfed34db31f"
   },
   "outputs": [
    {
     "data": {
      "text/plain": [
       "[<keras.engine.input_layer.InputLayer at 0x7fb221285358>,\n",
       " <keras.layers.embeddings.Embedding at 0x7fb221285390>,\n",
       " <keras.layers.core.Dropout at 0x7fb221285550>,\n",
       " <keras.layers.core.Dropout at 0x7fb221285588>,\n",
       " <keras.layers.recurrent.LSTM at 0x7fb221285630>,\n",
       " <keras.layers.recurrent.LSTM at 0x7fb2207da518>,\n",
       " <keras.layers.core.Dropout at 0x7fb221285710>,\n",
       " <keras.layers.core.Dropout at 0x7fb2180e91d0>,\n",
       " <keras.layers.core.Dropout at 0x7fb22121b908>,\n",
       " <keras.layers.core.Dropout at 0x7fb1f027bda0>,\n",
       " <keras.layers.recurrent.LSTM at 0x7fb2207da4a8>,\n",
       " <keras.layers.recurrent.LSTM at 0x7faff81aebe0>,\n",
       " <keras.layers.merge.Concatenate at 0x7fb1d40edf60>,\n",
       " <keras.layers.core.Dropout at 0x7faff810af28>,\n",
       " <keras.layers.core.Dropout at 0x7faff81b6ac8>,\n",
       " <keras.layers.core.Dense at 0x7fafd2db6588>,\n",
       " <keras.layers.core.Dense at 0x7fafd2c73fd0>,\n",
       " <keras.layers.merge.Concatenate at 0x7fafd2c17a20>,\n",
       " <keras.layers.core.Dropout at 0x7fafd2bcadd8>,\n",
       " <keras.layers.core.Dense at 0x7fafd2d90898>]"
      ]
     },
     "execution_count": 15,
     "metadata": {},
     "output_type": "execute_result"
    }
   ],
   "source": [
    "model.layers"
   ]
  },
  {
   "cell_type": "code",
   "execution_count": 16,
   "metadata": {
    "colab": {
     "base_uri": "https://localhost:8080/",
     "height": 1000
    },
    "colab_type": "code",
    "id": "ATBuyXs8PIJr",
    "outputId": "b7c7d22f-74ba-4576-f94d-a843e0f74604"
   },
   "outputs": [
    {
     "name": "stdout",
     "output_type": "stream",
     "text": [
      "Train on 34146 samples, validate on 10914 samples\n",
      "Epoch 1/35\n",
      "34146/34146 [==============================] - 51s 1ms/step - loss: 0.6991 - acc: 0.5108 - val_loss: 0.6847 - val_acc: 0.5599\n",
      "Epoch 2/35\n",
      "34146/34146 [==============================] - 49s 1ms/step - loss: 0.6903 - acc: 0.5343 - val_loss: 0.6752 - val_acc: 0.5834\n",
      "Epoch 3/35\n",
      "34146/34146 [==============================] - 49s 1ms/step - loss: 0.6834 - acc: 0.5595 - val_loss: 0.6691 - val_acc: 0.5903\n",
      "Epoch 4/35\n",
      "34146/34146 [==============================] - 49s 1ms/step - loss: 0.6783 - acc: 0.5711 - val_loss: 0.6652 - val_acc: 0.5949\n",
      "Epoch 5/35\n",
      "34146/34146 [==============================] - 49s 1ms/step - loss: 0.6771 - acc: 0.5705 - val_loss: 0.6650 - val_acc: 0.5961\n",
      "Epoch 6/35\n",
      "34146/34146 [==============================] - 49s 1ms/step - loss: 0.6751 - acc: 0.5762 - val_loss: 0.6623 - val_acc: 0.5953\n",
      "Epoch 7/35\n",
      "34146/34146 [==============================] - 49s 1ms/step - loss: 0.6732 - acc: 0.5817 - val_loss: 0.6619 - val_acc: 0.5989\n",
      "Epoch 8/35\n",
      "34146/34146 [==============================] - 49s 1ms/step - loss: 0.6720 - acc: 0.5806 - val_loss: 0.6613 - val_acc: 0.6001\n",
      "Epoch 9/35\n",
      "34146/34146 [==============================] - 49s 1ms/step - loss: 0.6729 - acc: 0.5818 - val_loss: 0.6596 - val_acc: 0.6021\n",
      "Epoch 10/35\n",
      "34146/34146 [==============================] - 49s 1ms/step - loss: 0.6713 - acc: 0.5836 - val_loss: 0.6599 - val_acc: 0.6047\n",
      "Epoch 11/35\n",
      "34146/34146 [==============================] - 49s 1ms/step - loss: 0.6700 - acc: 0.5850 - val_loss: 0.6587 - val_acc: 0.6049\n",
      "Epoch 12/35\n",
      "34146/34146 [==============================] - 49s 1ms/step - loss: 0.6697 - acc: 0.5867 - val_loss: 0.6586 - val_acc: 0.6069\n",
      "Epoch 13/35\n",
      "34146/34146 [==============================] - 49s 1ms/step - loss: 0.6698 - acc: 0.5867 - val_loss: 0.6581 - val_acc: 0.6073\n",
      "Epoch 14/35\n",
      "34146/34146 [==============================] - 49s 1ms/step - loss: 0.6664 - acc: 0.5945 - val_loss: 0.6572 - val_acc: 0.6087\n",
      "Epoch 15/35\n",
      "34146/34146 [==============================] - 49s 1ms/step - loss: 0.6690 - acc: 0.5875 - val_loss: 0.6582 - val_acc: 0.6044\n",
      "Epoch 16/35\n",
      "34146/34146 [==============================] - 49s 1ms/step - loss: 0.6676 - acc: 0.5904 - val_loss: 0.6570 - val_acc: 0.6045\n",
      "Epoch 17/35\n",
      "34146/34146 [==============================] - 49s 1ms/step - loss: 0.6678 - acc: 0.5890 - val_loss: 0.6581 - val_acc: 0.6056\n",
      "Epoch 18/35\n",
      "34146/34146 [==============================] - 49s 1ms/step - loss: 0.6660 - acc: 0.5952 - val_loss: 0.6575 - val_acc: 0.6050\n",
      "Epoch 19/35\n",
      "34146/34146 [==============================] - 49s 1ms/step - loss: 0.6655 - acc: 0.5950 - val_loss: 0.6567 - val_acc: 0.6082\n",
      "Epoch 20/35\n",
      "34146/34146 [==============================] - 49s 1ms/step - loss: 0.6663 - acc: 0.5895 - val_loss: 0.6569 - val_acc: 0.6048\n",
      "Epoch 21/35\n",
      "34146/34146 [==============================] - 49s 1ms/step - loss: 0.6647 - acc: 0.5957 - val_loss: 0.6565 - val_acc: 0.6071\n",
      "Epoch 22/35\n",
      "34146/34146 [==============================] - 49s 1ms/step - loss: 0.6649 - acc: 0.5983 - val_loss: 0.6558 - val_acc: 0.6101\n",
      "Epoch 23/35\n",
      "34146/34146 [==============================] - 49s 1ms/step - loss: 0.6653 - acc: 0.5935 - val_loss: 0.6566 - val_acc: 0.6103\n",
      "Epoch 24/35\n",
      "34146/34146 [==============================] - 49s 1ms/step - loss: 0.6645 - acc: 0.5950 - val_loss: 0.6554 - val_acc: 0.6100\n",
      "Epoch 25/35\n",
      "34146/34146 [==============================] - 49s 1ms/step - loss: 0.6640 - acc: 0.5992 - val_loss: 0.6557 - val_acc: 0.6089\n",
      "Epoch 26/35\n",
      "34146/34146 [==============================] - 49s 1ms/step - loss: 0.6627 - acc: 0.5981 - val_loss: 0.6557 - val_acc: 0.6075\n",
      "Epoch 27/35\n",
      "34146/34146 [==============================] - 49s 1ms/step - loss: 0.6609 - acc: 0.5994 - val_loss: 0.6543 - val_acc: 0.6115\n",
      "Epoch 28/35\n",
      "34146/34146 [==============================] - 49s 1ms/step - loss: 0.6619 - acc: 0.5982 - val_loss: 0.6542 - val_acc: 0.6121\n",
      "Epoch 29/35\n",
      "34146/34146 [==============================] - 49s 1ms/step - loss: 0.6627 - acc: 0.5964 - val_loss: 0.6548 - val_acc: 0.6098\n",
      "Epoch 30/35\n",
      "34146/34146 [==============================] - 49s 1ms/step - loss: 0.6627 - acc: 0.5956 - val_loss: 0.6541 - val_acc: 0.6114\n",
      "Epoch 31/35\n",
      "34146/34146 [==============================] - 49s 1ms/step - loss: 0.6608 - acc: 0.5993 - val_loss: 0.6540 - val_acc: 0.6086\n",
      "Epoch 32/35\n",
      "34146/34146 [==============================] - 49s 1ms/step - loss: 0.6601 - acc: 0.5993 - val_loss: 0.6539 - val_acc: 0.6111\n",
      "Epoch 33/35\n",
      "34146/34146 [==============================] - 49s 1ms/step - loss: 0.6619 - acc: 0.5995 - val_loss: 0.6543 - val_acc: 0.6126\n",
      "Epoch 34/35\n",
      "34146/34146 [==============================] - 49s 1ms/step - loss: 0.6590 - acc: 0.6036 - val_loss: 0.6544 - val_acc: 0.6055\n",
      "Epoch 35/35\n",
      "34146/34146 [==============================] - 49s 1ms/step - loss: 0.6607 - acc: 0.6011 - val_loss: 0.6531 - val_acc: 0.6116\n"
     ]
    },
    {
     "data": {
      "text/plain": [
       "<keras.callbacks.History at 0x7fb22410b668>"
      ]
     },
     "execution_count": 16,
     "metadata": {},
     "output_type": "execute_result"
    }
   ],
   "source": [
    "# Fit the frozen model\n",
    "\n",
    "model.fit(docs_train, train_label, epochs=frozen_epochs, \n",
    "          validation_data=(docs_valid, valid_label), batch_size=batchsize)"
   ]
  },
  {
   "cell_type": "code",
   "execution_count": 17,
   "metadata": {
    "colab": {
     "base_uri": "https://localhost:8080/",
     "height": 357
    },
    "colab_type": "code",
    "id": "MY-pnpQY3aL7",
    "outputId": "5879da08-d36e-4d31-a862-a364cca4b6e9"
   },
   "outputs": [
    {
     "data": {
      "text/plain": [
       "[('input_1', False),\n",
       " ('embedding_1', False),\n",
       " ('dropout_1', True),\n",
       " ('dropout_2', True),\n",
       " ('lstm_1', True),\n",
       " ('lstm_3', True),\n",
       " ('dropout_3', True),\n",
       " ('dropout_5', True),\n",
       " ('dropout_4', True),\n",
       " ('dropout_6', True),\n",
       " ('lstm_2', True),\n",
       " ('lstm_4', True),\n",
       " ('concatenate_1', True),\n",
       " ('dropout_7', True),\n",
       " ('dropout_8', True),\n",
       " ('dense_1', True),\n",
       " ('dense_2', True),\n",
       " ('final_concat', True),\n",
       " ('dropout_9', True),\n",
       " ('dense_3', True)]"
      ]
     },
     "execution_count": 17,
     "metadata": {},
     "output_type": "execute_result"
    }
   ],
   "source": [
    "[(l.name, l.trainable) for l in model.layers]"
   ]
  },
  {
   "cell_type": "code",
   "execution_count": 18,
   "metadata": {
    "colab": {
     "base_uri": "https://localhost:8080/",
     "height": 867
    },
    "colab_type": "code",
    "id": "MkW7g59L4RtL",
    "outputId": "5c9eb406-162c-402b-939c-b616743f9693"
   },
   "outputs": [
    {
     "name": "stdout",
     "output_type": "stream",
     "text": [
      "__________________________________________________________________________________________________\n",
      "Layer (type)                    Output Shape         Param #     Connected to                     \n",
      "==================================================================================================\n",
      "input_1 (InputLayer)            (None, 50)           0                                            \n",
      "__________________________________________________________________________________________________\n",
      "embedding_1 (Embedding)         (None, 50, 200)      6026200     input_1[0][0]                    \n",
      "__________________________________________________________________________________________________\n",
      "dropout_1 (Dropout)             (None, 50, 200)      0           embedding_1[0][0]                \n",
      "__________________________________________________________________________________________________\n",
      "dropout_2 (Dropout)             (None, 50, 200)      0           dropout_1[0][0]                  \n",
      "__________________________________________________________________________________________________\n",
      "lstm_1 (LSTM)                   (None, 50, 80)       89920       dropout_2[0][0]                  \n",
      "__________________________________________________________________________________________________\n",
      "lstm_3 (LSTM)                   (None, 50, 80)       89920       dropout_2[0][0]                  \n",
      "__________________________________________________________________________________________________\n",
      "dropout_3 (Dropout)             (None, 50, 80)       0           lstm_1[0][0]                     \n",
      "__________________________________________________________________________________________________\n",
      "dropout_5 (Dropout)             (None, 50, 80)       0           lstm_3[0][0]                     \n",
      "__________________________________________________________________________________________________\n",
      "dropout_4 (Dropout)             (None, 50, 80)       0           dropout_3[0][0]                  \n",
      "__________________________________________________________________________________________________\n",
      "dropout_6 (Dropout)             (None, 50, 80)       0           dropout_5[0][0]                  \n",
      "__________________________________________________________________________________________________\n",
      "lstm_2 (LSTM)                   (None, 80)           51520       dropout_4[0][0]                  \n",
      "__________________________________________________________________________________________________\n",
      "lstm_4 (LSTM)                   (None, 80)           51520       dropout_6[0][0]                  \n",
      "__________________________________________________________________________________________________\n",
      "concatenate_1 (Concatenate)     (None, 160)          0           lstm_2[0][0]                     \n",
      "                                                                 lstm_4[0][0]                     \n",
      "__________________________________________________________________________________________________\n",
      "dropout_7 (Dropout)             (None, 160)          0           concatenate_1[0][0]              \n",
      "__________________________________________________________________________________________________\n",
      "dropout_8 (Dropout)             (None, 160)          0           concatenate_1[0][0]              \n",
      "__________________________________________________________________________________________________\n",
      "dense_1 (Dense)                 (None, 40)           6440        dropout_7[0][0]                  \n",
      "__________________________________________________________________________________________________\n",
      "dense_2 (Dense)                 (None, 40)           6440        dropout_8[0][0]                  \n",
      "__________________________________________________________________________________________________\n",
      "final_concat (Concatenate)      (None, 240)          0           concatenate_1[0][0]              \n",
      "                                                                 dense_1[0][0]                    \n",
      "                                                                 dense_2[0][0]                    \n",
      "__________________________________________________________________________________________________\n",
      "dropout_9 (Dropout)             (None, 240)          0           final_concat[0][0]               \n",
      "__________________________________________________________________________________________________\n",
      "dense_3 (Dense)                 (None, 1)            241         dropout_9[0][0]                  \n",
      "==================================================================================================\n",
      "Total params: 6,322,201\n",
      "Trainable params: 6,322,201\n",
      "Non-trainable params: 0\n",
      "__________________________________________________________________________________________________\n"
     ]
    }
   ],
   "source": [
    "# Unfreeze the embeddings\n",
    "model.layers[1].trainable = True\n",
    "model.compile(optimizer=Adam(unfrozen_lr, decay=unfrozen_decay), \n",
    "              loss='binary_crossentropy', metrics=['acc'])\n",
    "model.summary()"
   ]
  },
  {
   "cell_type": "code",
   "execution_count": 19,
   "metadata": {
    "colab": {
     "base_uri": "https://localhost:8080/",
     "height": 1000
    },
    "colab_type": "code",
    "id": "yQKYvhz5Kqw8",
    "outputId": "b9fd5f66-e957-440e-fe3c-9fa7d5ed14ab"
   },
   "outputs": [
    {
     "name": "stdout",
     "output_type": "stream",
     "text": [
      "Train on 34146 samples, validate on 10914 samples\n",
      "Epoch 1/29\n",
      "34146/34146 [==============================] - 55s 2ms/step - loss: 0.6592 - acc: 0.6020 - val_loss: 0.6530 - val_acc: 0.6130\n",
      "Epoch 2/29\n",
      "34146/34146 [==============================] - 52s 2ms/step - loss: 0.6596 - acc: 0.5994 - val_loss: 0.6527 - val_acc: 0.6137\n",
      "Epoch 3/29\n",
      "34146/34146 [==============================] - 52s 2ms/step - loss: 0.6596 - acc: 0.6007 - val_loss: 0.6528 - val_acc: 0.6129\n",
      "Epoch 4/29\n",
      "34146/34146 [==============================] - 52s 2ms/step - loss: 0.6589 - acc: 0.6040 - val_loss: 0.6525 - val_acc: 0.6144\n",
      "Epoch 5/29\n",
      "34146/34146 [==============================] - 52s 2ms/step - loss: 0.6579 - acc: 0.6067 - val_loss: 0.6524 - val_acc: 0.6147\n",
      "Epoch 6/29\n",
      "34146/34146 [==============================] - 52s 2ms/step - loss: 0.6561 - acc: 0.6054 - val_loss: 0.6522 - val_acc: 0.6153\n",
      "Epoch 7/29\n",
      "34146/34146 [==============================] - 52s 2ms/step - loss: 0.6558 - acc: 0.6067 - val_loss: 0.6521 - val_acc: 0.6154\n",
      "Epoch 8/29\n",
      "34146/34146 [==============================] - 52s 2ms/step - loss: 0.6550 - acc: 0.6052 - val_loss: 0.6522 - val_acc: 0.6145\n",
      "Epoch 9/29\n",
      "34146/34146 [==============================] - 52s 2ms/step - loss: 0.6545 - acc: 0.6080 - val_loss: 0.6522 - val_acc: 0.6143\n",
      "Epoch 10/29\n",
      "34146/34146 [==============================] - 52s 2ms/step - loss: 0.6538 - acc: 0.6117 - val_loss: 0.6521 - val_acc: 0.6153\n",
      "Epoch 11/29\n",
      "34146/34146 [==============================] - 52s 2ms/step - loss: 0.6547 - acc: 0.6085 - val_loss: 0.6520 - val_acc: 0.6132\n",
      "Epoch 12/29\n",
      "34146/34146 [==============================] - 52s 2ms/step - loss: 0.6541 - acc: 0.6106 - val_loss: 0.6519 - val_acc: 0.6146\n",
      "Epoch 13/29\n",
      "34146/34146 [==============================] - 52s 2ms/step - loss: 0.6532 - acc: 0.6122 - val_loss: 0.6518 - val_acc: 0.6149\n",
      "Epoch 14/29\n",
      "34146/34146 [==============================] - 52s 2ms/step - loss: 0.6524 - acc: 0.6129 - val_loss: 0.6519 - val_acc: 0.6141\n",
      "Epoch 15/29\n",
      "34146/34146 [==============================] - 52s 2ms/step - loss: 0.6515 - acc: 0.6131 - val_loss: 0.6516 - val_acc: 0.6161\n",
      "Epoch 16/29\n",
      "34146/34146 [==============================] - 52s 2ms/step - loss: 0.6516 - acc: 0.6132 - val_loss: 0.6517 - val_acc: 0.6156\n",
      "Epoch 17/29\n",
      "34146/34146 [==============================] - 52s 2ms/step - loss: 0.6519 - acc: 0.6129 - val_loss: 0.6517 - val_acc: 0.6146\n",
      "Epoch 18/29\n",
      "34146/34146 [==============================] - 52s 2ms/step - loss: 0.6517 - acc: 0.6146 - val_loss: 0.6515 - val_acc: 0.6142\n",
      "Epoch 19/29\n",
      "34146/34146 [==============================] - 52s 2ms/step - loss: 0.6505 - acc: 0.6165 - val_loss: 0.6515 - val_acc: 0.6160\n",
      "Epoch 20/29\n",
      "34146/34146 [==============================] - 52s 2ms/step - loss: 0.6488 - acc: 0.6170 - val_loss: 0.6515 - val_acc: 0.6137\n",
      "Epoch 21/29\n",
      "34146/34146 [==============================] - 52s 2ms/step - loss: 0.6483 - acc: 0.6185 - val_loss: 0.6517 - val_acc: 0.6147\n",
      "Epoch 22/29\n",
      "34146/34146 [==============================] - 52s 2ms/step - loss: 0.6480 - acc: 0.6198 - val_loss: 0.6517 - val_acc: 0.6159\n",
      "Epoch 23/29\n",
      "34146/34146 [==============================] - 52s 2ms/step - loss: 0.6487 - acc: 0.6201 - val_loss: 0.6515 - val_acc: 0.6154\n",
      "Epoch 24/29\n",
      "34146/34146 [==============================] - 52s 2ms/step - loss: 0.6469 - acc: 0.6195 - val_loss: 0.6519 - val_acc: 0.6145\n",
      "Epoch 25/29\n",
      "34146/34146 [==============================] - 52s 2ms/step - loss: 0.6475 - acc: 0.6191 - val_loss: 0.6518 - val_acc: 0.6161\n",
      "Epoch 26/29\n",
      "34146/34146 [==============================] - 52s 2ms/step - loss: 0.6465 - acc: 0.6236 - val_loss: 0.6516 - val_acc: 0.6148\n",
      "Epoch 27/29\n",
      "34146/34146 [==============================] - 52s 2ms/step - loss: 0.6467 - acc: 0.6202 - val_loss: 0.6516 - val_acc: 0.6165\n",
      "Epoch 28/29\n",
      "34146/34146 [==============================] - 52s 2ms/step - loss: 0.6462 - acc: 0.6211 - val_loss: 0.6517 - val_acc: 0.6159\n",
      "Epoch 29/29\n",
      "34146/34146 [==============================] - 52s 2ms/step - loss: 0.6457 - acc: 0.6224 - val_loss: 0.6517 - val_acc: 0.6152\n"
     ]
    },
    {
     "data": {
      "text/plain": [
       "<keras.callbacks.History at 0x7fb232759160>"
      ]
     },
     "execution_count": 19,
     "metadata": {},
     "output_type": "execute_result"
    }
   ],
   "source": [
    "# Fit the unfrozen model\n",
    "\n",
    "model.fit(docs_train, train_label, epochs=unfrozen_epochs, \n",
    "          validation_data=(docs_valid, valid_label), batch_size=unfrozen_batchsize)"
   ]
  },
  {
   "cell_type": "code",
   "execution_count": 20,
   "metadata": {
    "colab": {},
    "colab_type": "code",
    "id": "1fW-rzCJMZQX"
   },
   "outputs": [],
   "source": [
    "timestamp = datetime.now().strftime('%Y%m%d%H%M')"
   ]
  },
  {
   "cell_type": "code",
   "execution_count": 21,
   "metadata": {},
   "outputs": [
    {
     "data": {
      "text/plain": [
       "'../data/twitgen_lstm_201907261114.h5'"
      ]
     },
     "execution_count": 21,
     "metadata": {},
     "output_type": "execute_result"
    }
   ],
   "source": [
    "model_file = basepath + 'twitgen_lstm_' + timestamp + '.h5'\n",
    "model.save(model_file)\n",
    "model_file"
   ]
  },
  {
   "cell_type": "code",
   "execution_count": null,
   "metadata": {},
   "outputs": [],
   "source": []
  }
 ],
 "metadata": {
  "accelerator": "GPU",
  "colab": {
   "collapsed_sections": [],
   "include_colab_link": true,
   "name": "twitgen_glovinit_best_dl_model",
   "provenance": [],
   "version": "0.3.2"
  },
  "kernelspec": {
   "display_name": "Python 3",
   "language": "python",
   "name": "python3"
  },
  "language_info": {
   "codemirror_mode": {
    "name": "ipython",
    "version": 3
   },
   "file_extension": ".py",
   "mimetype": "text/x-python",
   "name": "python",
   "nbconvert_exporter": "python",
   "pygments_lexer": "ipython3",
   "version": "3.6.7"
  }
 },
 "nbformat": 4,
 "nbformat_minor": 1
}
