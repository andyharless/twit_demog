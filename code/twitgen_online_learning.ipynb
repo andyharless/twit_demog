{
 "cells": [
  {
   "cell_type": "code",
   "execution_count": 1,
   "metadata": {},
   "outputs": [],
   "source": [
    "import pandas as pd\n",
    "import numpy as np\n",
    "import joblib\n",
    "from sklearn.linear_model import SGDClassifier\n",
    "from sklearn.model_selection import ParameterGrid\n",
    "from sklearn.metrics import confusion_matrix\n",
    "from sklearn.metrics import accuracy_score\n",
    "from sklearn.metrics import f1_score\n",
    "from sklearn.metrics import roc_curve, auc\n",
    "import matplotlib.pyplot as plt\n",
    "import parfit.parfit as pf  # Hyperparameter optimization"
   ]
  },
  {
   "cell_type": "code",
   "execution_count": 2,
   "metadata": {},
   "outputs": [],
   "source": [
    "DATAPATH = '../data/'\n",
    "\n",
    "# Embeddings and/or activations created by underlying models\n",
    "USEL_FILE = 'embed_corpus_201907252332.csv'   \n",
    "LSTM_FILE = 'activ_corpus_201907301209.csv'\n",
    "POOL_FILE = 'pool_activ_corpus_201907301317.csv'\n",
    "\n",
    "# Identifiers indicating which model to use for preprocessing steps\n",
    "MODEL_TYPE_ID = 'lrp3'              \n",
    "MODEL_TIMESTAMP = '201907301454'"
   ]
  },
  {
   "cell_type": "code",
   "execution_count": 3,
   "metadata": {},
   "outputs": [],
   "source": [
    "# Read the embeddings and/or activations created by the three underlying models\n",
    "# (and labels, which are the same for all three)\n",
    "def read_data(fn):\n",
    "    return(pd.read_csv(DATAPATH+fn, index_col=['id','time'], parse_dates=['time']))\n",
    "\n",
    "df_usel = read_data(USEL_FILE)\n",
    "df_lstm = read_data(LSTM_FILE)\n",
    "df_pool = read_data(POOL_FILE)\n",
    "\n",
    "# Remove duplicate index values to avoid merge problems\n",
    "def remove_dups(df):\n",
    "    return(df[~df.index.duplicated()])\n",
    "\n",
    "df_usel = remove_dups(df_usel)\n",
    "df_lstm = remove_dups(df_lstm)\n",
    "df_pool = remove_dups(df_pool)"
   ]
  },
  {
   "cell_type": "code",
   "execution_count": 4,
   "metadata": {
    "scrolled": true
   },
   "outputs": [
    {
     "data": {
      "text/html": [
       "<div>\n",
       "<style scoped>\n",
       "    .dataframe tbody tr th:only-of-type {\n",
       "        vertical-align: middle;\n",
       "    }\n",
       "\n",
       "    .dataframe tbody tr th {\n",
       "        vertical-align: top;\n",
       "    }\n",
       "\n",
       "    .dataframe thead th {\n",
       "        text-align: right;\n",
       "    }\n",
       "</style>\n",
       "<table border=\"1\" class=\"dataframe\">\n",
       "  <thead>\n",
       "    <tr style=\"text-align: right;\">\n",
       "      <th></th>\n",
       "      <th></th>\n",
       "      <th>male</th>\n",
       "      <th>embed0</th>\n",
       "      <th>embed1</th>\n",
       "      <th>embed2</th>\n",
       "      <th>embed3</th>\n",
       "      <th>embed4</th>\n",
       "      <th>embed5</th>\n",
       "    </tr>\n",
       "    <tr>\n",
       "      <th>id</th>\n",
       "      <th>time</th>\n",
       "      <th></th>\n",
       "      <th></th>\n",
       "      <th></th>\n",
       "      <th></th>\n",
       "      <th></th>\n",
       "      <th></th>\n",
       "      <th></th>\n",
       "    </tr>\n",
       "  </thead>\n",
       "  <tbody>\n",
       "    <tr>\n",
       "      <th>1703564846</th>\n",
       "      <th>2019-05-21 17:50:48+00:00</th>\n",
       "      <td>True</td>\n",
       "      <td>-66830</td>\n",
       "      <td>11661</td>\n",
       "      <td>-32570</td>\n",
       "      <td>-37820</td>\n",
       "      <td>-21984</td>\n",
       "      <td>74883</td>\n",
       "    </tr>\n",
       "    <tr>\n",
       "      <th>211806644</th>\n",
       "      <th>2019-05-21 17:50:48+00:00</th>\n",
       "      <td>False</td>\n",
       "      <td>-8995</td>\n",
       "      <td>3055</td>\n",
       "      <td>29928</td>\n",
       "      <td>52060</td>\n",
       "      <td>-82077</td>\n",
       "      <td>-17550</td>\n",
       "    </tr>\n",
       "    <tr>\n",
       "      <th>971515498411241472</th>\n",
       "      <th>2019-05-21 17:50:48+00:00</th>\n",
       "      <td>False</td>\n",
       "      <td>-61137</td>\n",
       "      <td>-60111</td>\n",
       "      <td>-37451</td>\n",
       "      <td>7108</td>\n",
       "      <td>34800</td>\n",
       "      <td>76067</td>\n",
       "    </tr>\n",
       "    <tr>\n",
       "      <th>2430359987</th>\n",
       "      <th>2019-05-21 17:50:49+00:00</th>\n",
       "      <td>False</td>\n",
       "      <td>3522</td>\n",
       "      <td>-19081</td>\n",
       "      <td>-16808</td>\n",
       "      <td>-70327</td>\n",
       "      <td>-26245</td>\n",
       "      <td>35645</td>\n",
       "    </tr>\n",
       "    <tr>\n",
       "      <th>2860188236</th>\n",
       "      <th>2019-05-21 17:50:49+00:00</th>\n",
       "      <td>True</td>\n",
       "      <td>7274</td>\n",
       "      <td>-9629</td>\n",
       "      <td>-10552</td>\n",
       "      <td>37276</td>\n",
       "      <td>-4486</td>\n",
       "      <td>39685</td>\n",
       "    </tr>\n",
       "  </tbody>\n",
       "</table>\n",
       "</div>"
      ],
      "text/plain": [
       "                                               male  embed0  embed1  embed2  \\\n",
       "id                 time                                                       \n",
       "1703564846         2019-05-21 17:50:48+00:00   True  -66830   11661  -32570   \n",
       "211806644          2019-05-21 17:50:48+00:00  False   -8995    3055   29928   \n",
       "971515498411241472 2019-05-21 17:50:48+00:00  False  -61137  -60111  -37451   \n",
       "2430359987         2019-05-21 17:50:49+00:00  False    3522  -19081  -16808   \n",
       "2860188236         2019-05-21 17:50:49+00:00   True    7274   -9629  -10552   \n",
       "\n",
       "                                              embed3  embed4  embed5  \n",
       "id                 time                                               \n",
       "1703564846         2019-05-21 17:50:48+00:00  -37820  -21984   74883  \n",
       "211806644          2019-05-21 17:50:48+00:00   52060  -82077  -17550  \n",
       "971515498411241472 2019-05-21 17:50:48+00:00    7108   34800   76067  \n",
       "2430359987         2019-05-21 17:50:49+00:00  -70327  -26245   35645  \n",
       "2860188236         2019-05-21 17:50:49+00:00   37276   -4486   39685  "
      ]
     },
     "execution_count": 4,
     "metadata": {},
     "output_type": "execute_result"
    }
   ],
   "source": [
    "df_usel.head().iloc[:,:7]  # Left side of the head of the first file"
   ]
  },
  {
   "cell_type": "code",
   "execution_count": 5,
   "metadata": {},
   "outputs": [
    {
     "data": {
      "text/plain": [
       "((191260, 513), (191260, 241), (191260, 401))"
      ]
     },
     "execution_count": 5,
     "metadata": {},
     "output_type": "execute_result"
    }
   ],
   "source": [
    "df_usel.shape, df_lstm.shape, df_pool.shape"
   ]
  },
  {
   "cell_type": "code",
   "execution_count": 6,
   "metadata": {},
   "outputs": [],
   "source": [
    "# Optimized relative scaling factors for the three underlying models\n",
    "scaledown_lstm = 7\n",
    "scaledown_pool = 700"
   ]
  },
  {
   "cell_type": "code",
   "execution_count": 7,
   "metadata": {},
   "outputs": [
    {
     "data": {
      "text/plain": [
       "(191260, 1153)"
      ]
     },
     "execution_count": 7,
     "metadata": {},
     "output_type": "execute_result"
    }
   ],
   "source": [
    "# Combine embeddings (or activations) from the three underlying feature-generating models\n",
    "df_full = df_usel.join(df_lstm.drop(['male'],axis=1)/scaledown_lstm, rsuffix='lstm').join(\n",
    "                       df_pool.drop(['male'],axis=1)/scaledown_pool, rsuffix='pool')\n",
    "df_full.shape"
   ]
  },
  {
   "cell_type": "code",
   "execution_count": 8,
   "metadata": {},
   "outputs": [
    {
     "data": {
      "text/html": [
       "<div>\n",
       "<style scoped>\n",
       "    .dataframe tbody tr th:only-of-type {\n",
       "        vertical-align: middle;\n",
       "    }\n",
       "\n",
       "    .dataframe tbody tr th {\n",
       "        vertical-align: top;\n",
       "    }\n",
       "\n",
       "    .dataframe thead th {\n",
       "        text-align: right;\n",
       "    }\n",
       "</style>\n",
       "<table border=\"1\" class=\"dataframe\">\n",
       "  <thead>\n",
       "    <tr style=\"text-align: right;\">\n",
       "      <th></th>\n",
       "      <th></th>\n",
       "      <th>male</th>\n",
       "      <th>embed0</th>\n",
       "      <th>embed1</th>\n",
       "      <th>embed2</th>\n",
       "      <th>embed3</th>\n",
       "      <th>embed4</th>\n",
       "      <th>embed5</th>\n",
       "    </tr>\n",
       "    <tr>\n",
       "      <th>id</th>\n",
       "      <th>time</th>\n",
       "      <th></th>\n",
       "      <th></th>\n",
       "      <th></th>\n",
       "      <th></th>\n",
       "      <th></th>\n",
       "      <th></th>\n",
       "      <th></th>\n",
       "    </tr>\n",
       "  </thead>\n",
       "  <tbody>\n",
       "    <tr>\n",
       "      <th>1703564846</th>\n",
       "      <th>2019-05-21 17:50:48+00:00</th>\n",
       "      <td>True</td>\n",
       "      <td>-66830</td>\n",
       "      <td>11661</td>\n",
       "      <td>-32570</td>\n",
       "      <td>-37820</td>\n",
       "      <td>-21984</td>\n",
       "      <td>74883</td>\n",
       "    </tr>\n",
       "    <tr>\n",
       "      <th>211806644</th>\n",
       "      <th>2019-05-21 17:50:48+00:00</th>\n",
       "      <td>False</td>\n",
       "      <td>-8995</td>\n",
       "      <td>3055</td>\n",
       "      <td>29928</td>\n",
       "      <td>52060</td>\n",
       "      <td>-82077</td>\n",
       "      <td>-17550</td>\n",
       "    </tr>\n",
       "    <tr>\n",
       "      <th>971515498411241472</th>\n",
       "      <th>2019-05-21 17:50:48+00:00</th>\n",
       "      <td>False</td>\n",
       "      <td>-61137</td>\n",
       "      <td>-60111</td>\n",
       "      <td>-37451</td>\n",
       "      <td>7108</td>\n",
       "      <td>34800</td>\n",
       "      <td>76067</td>\n",
       "    </tr>\n",
       "    <tr>\n",
       "      <th>2430359987</th>\n",
       "      <th>2019-05-21 17:50:49+00:00</th>\n",
       "      <td>False</td>\n",
       "      <td>3522</td>\n",
       "      <td>-19081</td>\n",
       "      <td>-16808</td>\n",
       "      <td>-70327</td>\n",
       "      <td>-26245</td>\n",
       "      <td>35645</td>\n",
       "    </tr>\n",
       "    <tr>\n",
       "      <th>2860188236</th>\n",
       "      <th>2019-05-21 17:50:49+00:00</th>\n",
       "      <td>True</td>\n",
       "      <td>7274</td>\n",
       "      <td>-9629</td>\n",
       "      <td>-10552</td>\n",
       "      <td>37276</td>\n",
       "      <td>-4486</td>\n",
       "      <td>39685</td>\n",
       "    </tr>\n",
       "  </tbody>\n",
       "</table>\n",
       "</div>"
      ],
      "text/plain": [
       "                                               male  embed0  embed1  embed2  \\\n",
       "id                 time                                                       \n",
       "1703564846         2019-05-21 17:50:48+00:00   True  -66830   11661  -32570   \n",
       "211806644          2019-05-21 17:50:48+00:00  False   -8995    3055   29928   \n",
       "971515498411241472 2019-05-21 17:50:48+00:00  False  -61137  -60111  -37451   \n",
       "2430359987         2019-05-21 17:50:49+00:00  False    3522  -19081  -16808   \n",
       "2860188236         2019-05-21 17:50:49+00:00   True    7274   -9629  -10552   \n",
       "\n",
       "                                              embed3  embed4  embed5  \n",
       "id                 time                                               \n",
       "1703564846         2019-05-21 17:50:48+00:00  -37820  -21984   74883  \n",
       "211806644          2019-05-21 17:50:48+00:00   52060  -82077  -17550  \n",
       "971515498411241472 2019-05-21 17:50:48+00:00    7108   34800   76067  \n",
       "2430359987         2019-05-21 17:50:49+00:00  -70327  -26245   35645  \n",
       "2860188236         2019-05-21 17:50:49+00:00   37276   -4486   39685  "
      ]
     },
     "execution_count": 8,
     "metadata": {},
     "output_type": "execute_result"
    }
   ],
   "source": [
    "df_full.head().iloc[:,:7]  # Left side of the head of the combined data"
   ]
  },
  {
   "cell_type": "code",
   "execution_count": 9,
   "metadata": {},
   "outputs": [
    {
     "data": {
      "text/html": [
       "<div>\n",
       "<style scoped>\n",
       "    .dataframe tbody tr th:only-of-type {\n",
       "        vertical-align: middle;\n",
       "    }\n",
       "\n",
       "    .dataframe tbody tr th {\n",
       "        vertical-align: top;\n",
       "    }\n",
       "\n",
       "    .dataframe thead th {\n",
       "        text-align: right;\n",
       "    }\n",
       "</style>\n",
       "<table border=\"1\" class=\"dataframe\">\n",
       "  <thead>\n",
       "    <tr style=\"text-align: right;\">\n",
       "      <th></th>\n",
       "      <th></th>\n",
       "      <th>activ393</th>\n",
       "      <th>activ394</th>\n",
       "      <th>activ395</th>\n",
       "      <th>activ396</th>\n",
       "      <th>activ397</th>\n",
       "      <th>activ398</th>\n",
       "      <th>activ399</th>\n",
       "    </tr>\n",
       "    <tr>\n",
       "      <th>id</th>\n",
       "      <th>time</th>\n",
       "      <th></th>\n",
       "      <th></th>\n",
       "      <th></th>\n",
       "      <th></th>\n",
       "      <th></th>\n",
       "      <th></th>\n",
       "      <th></th>\n",
       "    </tr>\n",
       "  </thead>\n",
       "  <tbody>\n",
       "    <tr>\n",
       "      <th>1703564846</th>\n",
       "      <th>2019-05-21 17:50:48+00:00</th>\n",
       "      <td>-30.754286</td>\n",
       "      <td>-6.478571</td>\n",
       "      <td>-56.102857</td>\n",
       "      <td>4.024286</td>\n",
       "      <td>21.878571</td>\n",
       "      <td>0.444286</td>\n",
       "      <td>16.240000</td>\n",
       "    </tr>\n",
       "    <tr>\n",
       "      <th>211806644</th>\n",
       "      <th>2019-05-21 17:50:48+00:00</th>\n",
       "      <td>-27.994286</td>\n",
       "      <td>-10.384286</td>\n",
       "      <td>-28.867143</td>\n",
       "      <td>30.332857</td>\n",
       "      <td>131.617143</td>\n",
       "      <td>3.244286</td>\n",
       "      <td>-6.287143</td>\n",
       "    </tr>\n",
       "    <tr>\n",
       "      <th>971515498411241472</th>\n",
       "      <th>2019-05-21 17:50:48+00:00</th>\n",
       "      <td>-26.020000</td>\n",
       "      <td>-57.055714</td>\n",
       "      <td>-2.537143</td>\n",
       "      <td>33.070000</td>\n",
       "      <td>-41.317143</td>\n",
       "      <td>-9.217143</td>\n",
       "      <td>-30.445714</td>\n",
       "    </tr>\n",
       "    <tr>\n",
       "      <th>2430359987</th>\n",
       "      <th>2019-05-21 17:50:49+00:00</th>\n",
       "      <td>54.497143</td>\n",
       "      <td>24.624286</td>\n",
       "      <td>25.578571</td>\n",
       "      <td>21.907143</td>\n",
       "      <td>-40.584286</td>\n",
       "      <td>38.207143</td>\n",
       "      <td>-2.301429</td>\n",
       "    </tr>\n",
       "    <tr>\n",
       "      <th>2860188236</th>\n",
       "      <th>2019-05-21 17:50:49+00:00</th>\n",
       "      <td>-1.365714</td>\n",
       "      <td>-32.227143</td>\n",
       "      <td>-34.104286</td>\n",
       "      <td>42.405714</td>\n",
       "      <td>34.660000</td>\n",
       "      <td>-4.630000</td>\n",
       "      <td>23.307143</td>\n",
       "    </tr>\n",
       "  </tbody>\n",
       "</table>\n",
       "</div>"
      ],
      "text/plain": [
       "                                               activ393   activ394   activ395  \\\n",
       "id                 time                                                         \n",
       "1703564846         2019-05-21 17:50:48+00:00 -30.754286  -6.478571 -56.102857   \n",
       "211806644          2019-05-21 17:50:48+00:00 -27.994286 -10.384286 -28.867143   \n",
       "971515498411241472 2019-05-21 17:50:48+00:00 -26.020000 -57.055714  -2.537143   \n",
       "2430359987         2019-05-21 17:50:49+00:00  54.497143  24.624286  25.578571   \n",
       "2860188236         2019-05-21 17:50:49+00:00  -1.365714 -32.227143 -34.104286   \n",
       "\n",
       "                                               activ396    activ397  \\\n",
       "id                 time                                               \n",
       "1703564846         2019-05-21 17:50:48+00:00   4.024286   21.878571   \n",
       "211806644          2019-05-21 17:50:48+00:00  30.332857  131.617143   \n",
       "971515498411241472 2019-05-21 17:50:48+00:00  33.070000  -41.317143   \n",
       "2430359987         2019-05-21 17:50:49+00:00  21.907143  -40.584286   \n",
       "2860188236         2019-05-21 17:50:49+00:00  42.405714   34.660000   \n",
       "\n",
       "                                               activ398   activ399  \n",
       "id                 time                                             \n",
       "1703564846         2019-05-21 17:50:48+00:00   0.444286  16.240000  \n",
       "211806644          2019-05-21 17:50:48+00:00   3.244286  -6.287143  \n",
       "971515498411241472 2019-05-21 17:50:48+00:00  -9.217143 -30.445714  \n",
       "2430359987         2019-05-21 17:50:49+00:00  38.207143  -2.301429  \n",
       "2860188236         2019-05-21 17:50:49+00:00  -4.630000  23.307143  "
      ]
     },
     "execution_count": 9,
     "metadata": {},
     "output_type": "execute_result"
    }
   ],
   "source": [
    "df_full.head().iloc[:,-7:]  # Right side of the head of the combined data"
   ]
  },
  {
   "cell_type": "code",
   "execution_count": 10,
   "metadata": {
    "scrolled": true
   },
   "outputs": [
    {
     "data": {
      "text/html": [
       "<div>\n",
       "<style scoped>\n",
       "    .dataframe tbody tr th:only-of-type {\n",
       "        vertical-align: middle;\n",
       "    }\n",
       "\n",
       "    .dataframe tbody tr th {\n",
       "        vertical-align: top;\n",
       "    }\n",
       "\n",
       "    .dataframe thead th {\n",
       "        text-align: right;\n",
       "    }\n",
       "</style>\n",
       "<table border=\"1\" class=\"dataframe\">\n",
       "  <thead>\n",
       "    <tr style=\"text-align: right;\">\n",
       "      <th></th>\n",
       "      <th></th>\n",
       "      <th>male</th>\n",
       "      <th>embed0</th>\n",
       "      <th>embed1</th>\n",
       "      <th>embed2</th>\n",
       "      <th>embed3</th>\n",
       "      <th>embed4</th>\n",
       "      <th>embed5</th>\n",
       "    </tr>\n",
       "    <tr>\n",
       "      <th>id</th>\n",
       "      <th>time</th>\n",
       "      <th></th>\n",
       "      <th></th>\n",
       "      <th></th>\n",
       "      <th></th>\n",
       "      <th></th>\n",
       "      <th></th>\n",
       "      <th></th>\n",
       "    </tr>\n",
       "  </thead>\n",
       "  <tbody>\n",
       "    <tr>\n",
       "      <th>970657219</th>\n",
       "      <th>2019-07-06 17:01:02+00:00</th>\n",
       "      <td>False</td>\n",
       "      <td>56109</td>\n",
       "      <td>-28802</td>\n",
       "      <td>11365</td>\n",
       "      <td>-60410</td>\n",
       "      <td>-91626</td>\n",
       "      <td>23367</td>\n",
       "    </tr>\n",
       "    <tr>\n",
       "      <th>1144347639200256000</th>\n",
       "      <th>2019-07-06 17:01:03+00:00</th>\n",
       "      <td>False</td>\n",
       "      <td>58664</td>\n",
       "      <td>32438</td>\n",
       "      <td>-36149</td>\n",
       "      <td>6159</td>\n",
       "      <td>45262</td>\n",
       "      <td>45370</td>\n",
       "    </tr>\n",
       "    <tr>\n",
       "      <th>2540538534</th>\n",
       "      <th>2019-07-06 17:01:04+00:00</th>\n",
       "      <td>False</td>\n",
       "      <td>58248</td>\n",
       "      <td>11779</td>\n",
       "      <td>-29026</td>\n",
       "      <td>35231</td>\n",
       "      <td>-21648</td>\n",
       "      <td>13774</td>\n",
       "    </tr>\n",
       "    <tr>\n",
       "      <th>19669474</th>\n",
       "      <th>2019-07-06 17:01:05+00:00</th>\n",
       "      <td>True</td>\n",
       "      <td>27264</td>\n",
       "      <td>18738</td>\n",
       "      <td>4244</td>\n",
       "      <td>-12185</td>\n",
       "      <td>-101862</td>\n",
       "      <td>50964</td>\n",
       "    </tr>\n",
       "    <tr>\n",
       "      <th>891741719225565185</th>\n",
       "      <th>2019-07-06 17:01:05+00:00</th>\n",
       "      <td>False</td>\n",
       "      <td>23637</td>\n",
       "      <td>41496</td>\n",
       "      <td>9690</td>\n",
       "      <td>-10819</td>\n",
       "      <td>-7783</td>\n",
       "      <td>6373</td>\n",
       "    </tr>\n",
       "  </tbody>\n",
       "</table>\n",
       "</div>"
      ],
      "text/plain": [
       "                                                male  embed0  embed1  embed2  \\\n",
       "id                  time                                                       \n",
       "970657219           2019-07-06 17:01:02+00:00  False   56109  -28802   11365   \n",
       "1144347639200256000 2019-07-06 17:01:03+00:00  False   58664   32438  -36149   \n",
       "2540538534          2019-07-06 17:01:04+00:00  False   58248   11779  -29026   \n",
       "19669474            2019-07-06 17:01:05+00:00   True   27264   18738    4244   \n",
       "891741719225565185  2019-07-06 17:01:05+00:00  False   23637   41496    9690   \n",
       "\n",
       "                                               embed3  embed4  embed5  \n",
       "id                  time                                               \n",
       "970657219           2019-07-06 17:01:02+00:00  -60410  -91626   23367  \n",
       "1144347639200256000 2019-07-06 17:01:03+00:00    6159   45262   45370  \n",
       "2540538534          2019-07-06 17:01:04+00:00   35231  -21648   13774  \n",
       "19669474            2019-07-06 17:01:05+00:00  -12185 -101862   50964  \n",
       "891741719225565185  2019-07-06 17:01:05+00:00  -10819   -7783    6373  "
      ]
     },
     "execution_count": 10,
     "metadata": {},
     "output_type": "execute_result"
    }
   ],
   "source": [
    "df_full.tail().iloc[:,:7]  # Left side of the tail of the combined data"
   ]
  },
  {
   "cell_type": "code",
   "execution_count": 11,
   "metadata": {},
   "outputs": [
    {
     "data": {
      "text/plain": [
       "(Timedelta('0 days 00:00:00'), Timedelta('5 days 06:21:14'))"
      ]
     },
     "execution_count": 11,
     "metadata": {},
     "output_type": "execute_result"
    }
   ],
   "source": [
    "# Verifty that data are in order of time\n",
    "timediffs = df_full.reset_index().time.diff()\n",
    "timediffs.min(), timediffs.max()"
   ]
  },
  {
   "cell_type": "code",
   "execution_count": 12,
   "metadata": {},
   "outputs": [],
   "source": [
    "# Load the optimized model that includes preprocessing steps fit on the original training data\n",
    "model_path = DATAPATH + MODEL_TYPE_ID + '_model_' + MODEL_TIMESTAMP + '.joblib'\n",
    "base_model = joblib.load(model_path)"
   ]
  },
  {
   "cell_type": "code",
   "execution_count": 13,
   "metadata": {},
   "outputs": [
    {
     "data": {
      "text/plain": [
       "(191260, 25)"
      ]
     },
     "execution_count": 13,
     "metadata": {},
     "output_type": "execute_result"
    }
   ],
   "source": [
    "# Perform PCA using original fit\n",
    "X_raw_full = df_full.drop(['male'],axis=1).values / 1e6\n",
    "pca = base_model.named_steps['pca']\n",
    "X_pca_full = pca.transform(X_raw_full)\n",
    "X_pca_full.shape"
   ]
  },
  {
   "cell_type": "code",
   "execution_count": 14,
   "metadata": {},
   "outputs": [
    {
     "data": {
      "text/plain": [
       "(191260, 351)"
      ]
     },
     "execution_count": 14,
     "metadata": {},
     "output_type": "execute_result"
    }
   ],
   "source": [
    "# Calculate quadratic features\n",
    "poly = base_model.named_steps['poly']\n",
    "X_poly_full = poly.transform(X_pca_full)\n",
    "X_poly_full.shape"
   ]
  },
  {
   "cell_type": "code",
   "execution_count": 15,
   "metadata": {},
   "outputs": [
    {
     "data": {
      "text/plain": [
       "(191260,)"
      ]
     },
     "execution_count": 15,
     "metadata": {},
     "output_type": "execute_result"
    }
   ],
   "source": [
    "# Labels\n",
    "y_full = df_full.male.values\n",
    "y_full.shape"
   ]
  },
  {
   "cell_type": "code",
   "execution_count": 16,
   "metadata": {},
   "outputs": [
    {
     "data": {
      "text/plain": [
       "(114756, 153008)"
      ]
     },
     "execution_count": 16,
     "metadata": {},
     "output_type": "execute_result"
    }
   ],
   "source": [
    "# Split data (hypotehtically) into burn-in, validation, and test sections\n",
    "val_frac = .2\n",
    "test_frac = .2\n",
    "\n",
    "burn_frac = 1 - val_frac - test_frac\n",
    "burn_in = int(burn_frac*len(y_full))\n",
    "val_end = burn_in + int(val_frac*len(y_full))\n",
    "burn_in, val_end"
   ]
  },
  {
   "cell_type": "code",
   "execution_count": 17,
   "metadata": {},
   "outputs": [],
   "source": [
    "# Minibatch generator\n",
    "\n",
    "# Yields 'train' and 'test' batches at each iteration.\n",
    "# Each 'test' batch then becomes the 'train' batch for the subsequent iteration.\n",
    "\n",
    "# Also performs (constant) scaling of features.\n",
    "\n",
    "def iter_minibatches(X, y, chunksize, scale):\n",
    "    # Provide chunks one by one\n",
    "    train_start = 0\n",
    "    test_start = train_start + chunksize\n",
    "    while test_start < len(y):\n",
    "        train_rows = range(train_start, train_start+chunksize)\n",
    "        test_rows = range(test_start, min(test_start+chunksize,len(y)))\n",
    "        X_train = X[train_rows]*scale  \n",
    "        y_train = y[train_rows]\n",
    "        X_test = X[test_rows]*scale\n",
    "        y_test = y[test_rows]\n",
    "        yield X_train, y_train, X_test, y_test\n",
    "        train_start += chunksize\n",
    "        test_start += chunksize"
   ]
  },
  {
   "cell_type": "code",
   "execution_count": 18,
   "metadata": {},
   "outputs": [],
   "source": [
    "# A Scikit-learn-style class to encapsulate the model for online learning\n",
    "# Useful for optimizing hyperparameters\n",
    "\n",
    "# Unlike most Scikit-learn models, the fitting and prediction has to be done on a whole data set at once.\n",
    "# The usual train/test split and cross-validation concepts don't apply.\n",
    "# Instead, the parameter 'val_start' indicates the section of data whose results will be evaluated\n",
    "#    for hyperparameter selection and/or model testing.\n",
    "# The value of 'val_start' should be selected to allow a sufficeint amount of burn in\n",
    "#    for the online learning process.\n",
    "# Note that *all* the predictions produced by an object of this class will be *out of batch*, \n",
    "#    in constrast to the usual Scikit-learn approach\n",
    "#    where predictions can be either for the training set (in fold) or the test set (out of fold),\n",
    "\n",
    "class OnlineSGD:\n",
    "\n",
    "    def __init__(self, scale, batchsize, steps_per_batch, alpha, rand, val_start):\n",
    "        self.scale = scale\n",
    "        self.batchsize = batchsize\n",
    "        self.steps_per_batch = steps_per_batch\n",
    "        self.alpha = alpha\n",
    "        self.rand = rand\n",
    "        self.val_start = val_start\n",
    "        self.result = None\n",
    "        self.prob_cutoff = .5\n",
    "\n",
    "    def show_params(self):\n",
    "        print('scale = ', self.scale)\n",
    "        print('batchsize = ', self.batchsize)\n",
    "        print('steps_per_batch = ', self.steps_per_batch)\n",
    "        print('alpha = ', self.alpha)\n",
    "        print('rand = ', self.rand)\n",
    "        print('val_start = ', self.val_start)\n",
    "        self.result = None    \n",
    "        \n",
    "    def fit(self, X, y):\n",
    "        # Since this is online learning, we don't use a separate test set\n",
    "        # Just keep calculating and saving out-of-batch predictions for the subsequent batch\n",
    "        # The 'fitted model' is just a collection of those predictions\n",
    "        batcherator = iter_minibatches(X, y, chunksize=self.batchsize, scale=self.scale)\n",
    "        model = SGDClassifier(loss='log', alpha=self.alpha, random_state=self.rand)\n",
    "        y_pred = self.batchsize*[np.nan]\n",
    "        for X_train, y_train, X_test, y_test in batcherator:\n",
    "            for _ in range(self.steps_per_batch):\n",
    "                model.partial_fit(X_train, y_train, [0,1])\n",
    "            y_pred += model.predict_proba(X_test)[:,1].tolist()\n",
    "        self.result = np.array(y_pred)\n",
    "        return(self)\n",
    "        \n",
    "    def predict_proba(self, X):\n",
    "        # This just returns the already calculated out-of-batch predictions for the part of the data\n",
    "        #   that has been designated for validation. (The X argument is just a placeholder.)\n",
    "        return(self.result[self.val_start:])\n",
    "    \n",
    "    def predict(self, X):\n",
    "        return(self.predict_proba(X) > self.prob_cutoff)\n",
    "    "
   ]
  },
  {
   "cell_type": "code",
   "execution_count": 19,
   "metadata": {},
   "outputs": [],
   "source": [
    "# Initial grid of hyperparameter values to optimized\n",
    "grid = {\n",
    "    'scale': [.5, 1, 2],\n",
    "    'batchsize': [1000, 2000, 4000],\n",
    "    'steps_per_batch': [1, 5],\n",
    "    'alpha': [1e-3, 3e-3, 1e-2],\n",
    "    'rand': [0],            # This is a random seed\n",
    "    'val_start': [burn_in]  # This should be a fixed value\n",
    "}"
   ]
  },
  {
   "cell_type": "code",
   "execution_count": 20,
   "metadata": {},
   "outputs": [
    {
     "name": "stdout",
     "output_type": "stream",
     "text": [
      "-------------FITTING MODELS-------------\n"
     ]
    },
    {
     "name": "stderr",
     "output_type": "stream",
     "text": [
      "[Parallel(n_jobs=-1)]: Using backend LokyBackend with 12 concurrent workers.\n",
      "[Parallel(n_jobs=-1)]: Done   1 tasks      | elapsed:    9.7s\n",
      "[Parallel(n_jobs=-1)]: Done   8 tasks      | elapsed:   13.4s\n",
      "[Parallel(n_jobs=-1)]: Done  17 tasks      | elapsed:   16.2s\n",
      "[Parallel(n_jobs=-1)]: Done  26 tasks      | elapsed:   20.6s\n",
      "[Parallel(n_jobs=-1)]: Done  37 out of  54 | elapsed:   24.9s remaining:   11.4s\n",
      "[Parallel(n_jobs=-1)]: Done  43 out of  54 | elapsed:   28.3s remaining:    7.2s\n",
      "[Parallel(n_jobs=-1)]: Done  49 out of  54 | elapsed:   29.7s remaining:    3.0s\n",
      "[Parallel(n_jobs=-1)]: Done  54 out of  54 | elapsed:   30.8s finished\n",
      "[Parallel(n_jobs=-1)]: Using backend LokyBackend with 12 concurrent workers.\n"
     ]
    },
    {
     "name": "stdout",
     "output_type": "stream",
     "text": [
      "-------------SCORING MODELS-------------\n"
     ]
    },
    {
     "name": "stderr",
     "output_type": "stream",
     "text": [
      "[Parallel(n_jobs=-1)]: Done  54 out of  54 | elapsed:    0.2s finished\n",
      "[Parallel(n_jobs=-1)]: Using backend LokyBackend with 12 concurrent workers.\n"
     ]
    },
    {
     "name": "stdout",
     "output_type": "stream",
     "text": [
      "Too many dimensions to plot.\n",
      "<__main__.OnlineSGD object at 0x7f8666343940> 0.6230523894175468\n",
      "scale =  1\n",
      "batchsize =  2000\n",
      "steps_per_batch =  5\n",
      "alpha =  0.003\n",
      "rand =  0\n",
      "val_start =  114756\n",
      "-------------FITTING MODELS-------------\n"
     ]
    },
    {
     "name": "stderr",
     "output_type": "stream",
     "text": [
      "[Parallel(n_jobs=-1)]: Done   1 tasks      | elapsed:    3.1s\n",
      "[Parallel(n_jobs=-1)]: Done   8 tasks      | elapsed:    6.4s\n",
      "[Parallel(n_jobs=-1)]: Done  17 tasks      | elapsed:    9.4s\n",
      "[Parallel(n_jobs=-1)]: Done  26 tasks      | elapsed:   13.6s\n",
      "[Parallel(n_jobs=-1)]: Done  37 out of  54 | elapsed:   17.7s remaining:    8.1s\n",
      "[Parallel(n_jobs=-1)]: Done  43 out of  54 | elapsed:   20.5s remaining:    5.3s\n",
      "[Parallel(n_jobs=-1)]: Done  49 out of  54 | elapsed:   22.2s remaining:    2.3s\n",
      "[Parallel(n_jobs=-1)]: Done  54 out of  54 | elapsed:   23.6s finished\n",
      "[Parallel(n_jobs=-1)]: Using backend LokyBackend with 12 concurrent workers.\n"
     ]
    },
    {
     "name": "stdout",
     "output_type": "stream",
     "text": [
      "-------------SCORING MODELS-------------\n"
     ]
    },
    {
     "name": "stderr",
     "output_type": "stream",
     "text": [
      "[Parallel(n_jobs=-1)]: Done  54 out of  54 | elapsed:    0.2s finished\n",
      "[Parallel(n_jobs=-1)]: Using backend LokyBackend with 12 concurrent workers.\n"
     ]
    },
    {
     "name": "stdout",
     "output_type": "stream",
     "text": [
      "Too many dimensions to plot.\n",
      "<__main__.OnlineSGD object at 0x7f86662640b8> 0.6233660985046533\n",
      "scale =  2\n",
      "batchsize =  1000\n",
      "steps_per_batch =  5\n",
      "alpha =  0.001\n",
      "rand =  1\n",
      "val_start =  114756\n",
      "-------------FITTING MODELS-------------\n"
     ]
    },
    {
     "name": "stderr",
     "output_type": "stream",
     "text": [
      "[Parallel(n_jobs=-1)]: Done   1 tasks      | elapsed:    2.9s\n",
      "[Parallel(n_jobs=-1)]: Done   8 tasks      | elapsed:    6.4s\n",
      "[Parallel(n_jobs=-1)]: Done  17 tasks      | elapsed:    9.6s\n",
      "[Parallel(n_jobs=-1)]: Done  26 tasks      | elapsed:   13.9s\n",
      "[Parallel(n_jobs=-1)]: Done  37 out of  54 | elapsed:   18.5s remaining:    8.5s\n",
      "[Parallel(n_jobs=-1)]: Done  43 out of  54 | elapsed:   21.5s remaining:    5.5s\n",
      "[Parallel(n_jobs=-1)]: Done  49 out of  54 | elapsed:   22.9s remaining:    2.3s\n",
      "[Parallel(n_jobs=-1)]: Done  54 out of  54 | elapsed:   24.6s finished\n",
      "[Parallel(n_jobs=-1)]: Using backend LokyBackend with 12 concurrent workers.\n"
     ]
    },
    {
     "name": "stdout",
     "output_type": "stream",
     "text": [
      "-------------SCORING MODELS-------------\n"
     ]
    },
    {
     "name": "stderr",
     "output_type": "stream",
     "text": [
      "[Parallel(n_jobs=-1)]: Done  54 out of  54 | elapsed:    0.2s finished\n",
      "[Parallel(n_jobs=-1)]: Using backend LokyBackend with 12 concurrent workers.\n"
     ]
    },
    {
     "name": "stdout",
     "output_type": "stream",
     "text": [
      "Too many dimensions to plot.\n",
      "<__main__.OnlineSGD object at 0x7f8664912d68> 0.6233138136568023\n",
      "scale =  2\n",
      "batchsize =  2000\n",
      "steps_per_batch =  5\n",
      "alpha =  0.003\n",
      "rand =  2\n",
      "val_start =  114756\n",
      "-------------FITTING MODELS-------------\n"
     ]
    },
    {
     "name": "stderr",
     "output_type": "stream",
     "text": [
      "[Parallel(n_jobs=-1)]: Done   1 tasks      | elapsed:    2.8s\n",
      "[Parallel(n_jobs=-1)]: Done   8 tasks      | elapsed:    6.6s\n",
      "[Parallel(n_jobs=-1)]: Done  17 tasks      | elapsed:    9.8s\n",
      "[Parallel(n_jobs=-1)]: Done  26 tasks      | elapsed:   14.0s\n",
      "[Parallel(n_jobs=-1)]: Done  37 out of  54 | elapsed:   17.4s remaining:    8.0s\n",
      "[Parallel(n_jobs=-1)]: Done  43 out of  54 | elapsed:   20.7s remaining:    5.3s\n",
      "[Parallel(n_jobs=-1)]: Done  49 out of  54 | elapsed:   22.4s remaining:    2.3s\n",
      "[Parallel(n_jobs=-1)]: Done  54 out of  54 | elapsed:   23.6s finished\n",
      "[Parallel(n_jobs=-1)]: Using backend LokyBackend with 12 concurrent workers.\n"
     ]
    },
    {
     "name": "stdout",
     "output_type": "stream",
     "text": [
      "-------------SCORING MODELS-------------\n",
      "Too many dimensions to plot.\n",
      "<__main__.OnlineSGD object at 0x7f86648a5e10> 0.6236013803199832\n",
      "scale =  1\n",
      "batchsize =  4000\n",
      "steps_per_batch =  5\n",
      "alpha =  0.001\n",
      "rand =  3\n",
      "val_start =  114756\n"
     ]
    },
    {
     "name": "stderr",
     "output_type": "stream",
     "text": [
      "[Parallel(n_jobs=-1)]: Done  54 out of  54 | elapsed:    0.2s finished\n"
     ]
    }
   ],
   "source": [
    "# Intial hyperparameter optimization:  optimize all hyperparameters coarsely\n",
    "for rand in range(4):  # Run the optimization 4 times with different seeds\n",
    "    grid['rand'] = [rand]\n",
    "    paramGrid = ParameterGrid(grid)\n",
    "    bestModel, bestScore, allModels, allScores = \\\n",
    "    pf.bestFit(OnlineSGD, paramGrid,\n",
    "               X_poly_full[:val_end], y_full[:val_end], X_poly_full[burn_in:val_end], y_full[burn_in:val_end], \n",
    "               metric = accuracy_score, greater_is_better=True,\n",
    "               scoreLabel = \"accuracy\")\n",
    "    print(bestModel, bestScore)\n",
    "    bestModel.show_params()"
   ]
  },
  {
   "cell_type": "code",
   "execution_count": 21,
   "metadata": {},
   "outputs": [
    {
     "name": "stderr",
     "output_type": "stream",
     "text": [
      "[Parallel(n_jobs=-1)]: Using backend LokyBackend with 12 concurrent workers.\n"
     ]
    },
    {
     "name": "stdout",
     "output_type": "stream",
     "text": [
      "-------------FITTING MODELS-------------\n"
     ]
    },
    {
     "name": "stderr",
     "output_type": "stream",
     "text": [
      "[Parallel(n_jobs=-1)]: Done   1 tasks      | elapsed:    5.4s\n",
      "[Parallel(n_jobs=-1)]: Done   5 out of  25 | elapsed:    6.0s remaining:   24.1s\n",
      "[Parallel(n_jobs=-1)]: Done   8 out of  25 | elapsed:    6.7s remaining:   14.3s\n",
      "[Parallel(n_jobs=-1)]: Done  11 out of  25 | elapsed:    8.5s remaining:   10.8s\n",
      "[Parallel(n_jobs=-1)]: Done  14 out of  25 | elapsed:   11.6s remaining:    9.1s\n",
      "[Parallel(n_jobs=-1)]: Done  17 out of  25 | elapsed:   12.5s remaining:    5.9s\n",
      "[Parallel(n_jobs=-1)]: Done  20 out of  25 | elapsed:   13.9s remaining:    3.5s\n",
      "[Parallel(n_jobs=-1)]: Done  23 out of  25 | elapsed:   14.2s remaining:    1.2s\n",
      "[Parallel(n_jobs=-1)]: Done  25 out of  25 | elapsed:   14.8s finished\n",
      "[Parallel(n_jobs=-1)]: Using backend LokyBackend with 12 concurrent workers.\n",
      "[Parallel(n_jobs=-1)]: Done  25 out of  25 | elapsed:    0.1s finished\n"
     ]
    },
    {
     "name": "stdout",
     "output_type": "stream",
     "text": [
      "-------------SCORING MODELS-------------\n"
     ]
    },
    {
     "data": {
      "image/png": "[encoded data removed]",
      "text/plain": [
       "<Figure size 288x288 with 2 Axes>"
      ]
     },
     "metadata": {
      "needs_background": "light"
     },
     "output_type": "display_data"
    },
    {
     "name": "stdout",
     "output_type": "stream",
     "text": [
      "<__main__.OnlineSGD object at 0x7f866485c908> 0.6240458015267175\n",
      "-------------FITTING MODELS-------------\n"
     ]
    },
    {
     "name": "stderr",
     "output_type": "stream",
     "text": [
      "[Parallel(n_jobs=-1)]: Using backend LokyBackend with 12 concurrent workers.\n",
      "[Parallel(n_jobs=-1)]: Done   1 tasks      | elapsed:    5.7s\n",
      "[Parallel(n_jobs=-1)]: Done   5 out of  25 | elapsed:    6.8s remaining:   27.1s\n",
      "[Parallel(n_jobs=-1)]: Done   8 out of  25 | elapsed:    6.9s remaining:   14.7s\n",
      "[Parallel(n_jobs=-1)]: Done  11 out of  25 | elapsed:    9.0s remaining:   11.4s\n",
      "[Parallel(n_jobs=-1)]: Done  14 out of  25 | elapsed:   12.3s remaining:    9.7s\n",
      "[Parallel(n_jobs=-1)]: Done  17 out of  25 | elapsed:   13.0s remaining:    6.1s\n",
      "[Parallel(n_jobs=-1)]: Done  20 out of  25 | elapsed:   14.1s remaining:    3.5s\n",
      "[Parallel(n_jobs=-1)]: Done  23 out of  25 | elapsed:   14.5s remaining:    1.3s\n",
      "[Parallel(n_jobs=-1)]: Done  25 out of  25 | elapsed:   15.4s finished\n",
      "[Parallel(n_jobs=-1)]: Using backend LokyBackend with 12 concurrent workers.\n",
      "[Parallel(n_jobs=-1)]: Done  25 out of  25 | elapsed:    0.1s finished\n"
     ]
    },
    {
     "name": "stdout",
     "output_type": "stream",
     "text": [
      "-------------SCORING MODELS-------------\n"
     ]
    },
    {
     "data": {
      "image/png": "[encoded data removed]",
      "text/plain": [
       "<Figure size 288x288 with 2 Axes>"
      ]
     },
     "metadata": {
      "needs_background": "light"
     },
     "output_type": "display_data"
    },
    {
     "name": "stdout",
     "output_type": "stream",
     "text": [
      "<__main__.OnlineSGD object at 0x7f866477d898> 0.626843040886751\n",
      "-------------FITTING MODELS-------------\n"
     ]
    },
    {
     "name": "stderr",
     "output_type": "stream",
     "text": [
      "[Parallel(n_jobs=-1)]: Using backend LokyBackend with 12 concurrent workers.\n",
      "[Parallel(n_jobs=-1)]: Done   1 tasks      | elapsed:    6.0s\n",
      "[Parallel(n_jobs=-1)]: Done   5 out of  25 | elapsed:    6.6s remaining:   26.4s\n",
      "[Parallel(n_jobs=-1)]: Done   8 out of  25 | elapsed:    7.3s remaining:   15.4s\n",
      "[Parallel(n_jobs=-1)]: Done  11 out of  25 | elapsed:    8.7s remaining:   11.1s\n",
      "[Parallel(n_jobs=-1)]: Done  14 out of  25 | elapsed:   12.4s remaining:    9.7s\n",
      "[Parallel(n_jobs=-1)]: Done  17 out of  25 | elapsed:   13.3s remaining:    6.3s\n",
      "[Parallel(n_jobs=-1)]: Done  20 out of  25 | elapsed:   14.3s remaining:    3.6s\n",
      "[Parallel(n_jobs=-1)]: Done  23 out of  25 | elapsed:   14.6s remaining:    1.3s\n",
      "[Parallel(n_jobs=-1)]: Done  25 out of  25 | elapsed:   15.3s finished\n",
      "[Parallel(n_jobs=-1)]: Using backend LokyBackend with 12 concurrent workers.\n",
      "[Parallel(n_jobs=-1)]: Done  25 out of  25 | elapsed:    0.1s finished\n"
     ]
    },
    {
     "name": "stdout",
     "output_type": "stream",
     "text": [
      "-------------SCORING MODELS-------------\n"
     ]
    },
    {
     "data": {
      "image/png": "[encoded data removed]",
      "text/plain": [
       "<Figure size 288x288 with 2 Axes>"
      ]
     },
     "metadata": {
      "needs_background": "light"
     },
     "output_type": "display_data"
    },
    {
     "name": "stdout",
     "output_type": "stream",
     "text": [
      "<__main__.OnlineSGD object at 0x7f866464e4e0> 0.6273397469413364\n",
      "-------------FITTING MODELS-------------\n"
     ]
    },
    {
     "name": "stderr",
     "output_type": "stream",
     "text": [
      "[Parallel(n_jobs=-1)]: Using backend LokyBackend with 12 concurrent workers.\n",
      "[Parallel(n_jobs=-1)]: Done   1 tasks      | elapsed:    5.9s\n",
      "[Parallel(n_jobs=-1)]: Done   5 out of  25 | elapsed:    7.2s remaining:   28.6s\n",
      "[Parallel(n_jobs=-1)]: Done   8 out of  25 | elapsed:    7.5s remaining:   16.0s\n",
      "[Parallel(n_jobs=-1)]: Done  11 out of  25 | elapsed:    9.3s remaining:   11.8s\n",
      "[Parallel(n_jobs=-1)]: Done  14 out of  25 | elapsed:   13.1s remaining:   10.3s\n",
      "[Parallel(n_jobs=-1)]: Done  17 out of  25 | elapsed:   13.4s remaining:    6.3s\n",
      "[Parallel(n_jobs=-1)]: Done  20 out of  25 | elapsed:   14.3s remaining:    3.6s\n",
      "[Parallel(n_jobs=-1)]: Done  23 out of  25 | elapsed:   14.7s remaining:    1.3s\n",
      "[Parallel(n_jobs=-1)]: Done  25 out of  25 | elapsed:   15.5s finished\n",
      "[Parallel(n_jobs=-1)]: Using backend LokyBackend with 12 concurrent workers.\n",
      "[Parallel(n_jobs=-1)]: Done  25 out of  25 | elapsed:    0.1s finished\n"
     ]
    },
    {
     "name": "stdout",
     "output_type": "stream",
     "text": [
      "-------------SCORING MODELS-------------\n"
     ]
    },
    {
     "data": {
      "image/png": "[encoded data removed]",
      "text/plain": [
       "<Figure size 288x288 with 2 Axes>"
      ]
     },
     "metadata": {
      "needs_background": "light"
     },
     "output_type": "display_data"
    },
    {
     "name": "stdout",
     "output_type": "stream",
     "text": [
      "<__main__.OnlineSGD object at 0x7f86645a9080> 0.624594792429154\n"
     ]
    }
   ],
   "source": [
    "# Re-optimize along two dimensions (batchsize, alpha), using values suggested by the original optimization\n",
    "grid = {\n",
    "    'scale': [1.5],\n",
    "    'batchsize': [300, 1000, 3000, 10000, 30000],\n",
    "    'steps_per_batch': [5],\n",
    "    'alpha': [1e-4, 3e-4, 1e-3, 3e-3, 1e-2],\n",
    "    'rand': [rand],\n",
    "    'val_start': [burn_in]\n",
    "}\n",
    "for rand in range(4):\n",
    "    grid['rand'] = [rand]\n",
    "    paramGrid = ParameterGrid(grid)\n",
    "    bestModel, bestScore, allModels, allScores = \\\n",
    "    pf.bestFit(OnlineSGD, paramGrid,\n",
    "               X_poly_full[:val_end], y_full[:val_end], X_poly_full[burn_in:val_end], y_full[burn_in:val_end], \n",
    "               metric = accuracy_score, greater_is_better=True,\n",
    "               scoreLabel = \"accuracy\")\n",
    "    print(bestModel, bestScore)"
   ]
  },
  {
   "cell_type": "code",
   "execution_count": 22,
   "metadata": {},
   "outputs": [
    {
     "name": "stdout",
     "output_type": "stream",
     "text": [
      "-------------FITTING MODELS-------------\n"
     ]
    },
    {
     "name": "stderr",
     "output_type": "stream",
     "text": [
      "[Parallel(n_jobs=-1)]: Using backend LokyBackend with 12 concurrent workers.\n",
      "[Parallel(n_jobs=-1)]: Done   3 out of  20 | elapsed:    5.5s remaining:   31.2s\n",
      "[Parallel(n_jobs=-1)]: Done   6 out of  20 | elapsed:    6.0s remaining:   14.0s\n",
      "[Parallel(n_jobs=-1)]: Done   9 out of  20 | elapsed:    6.3s remaining:    7.7s\n",
      "[Parallel(n_jobs=-1)]: Done  12 out of  20 | elapsed:    6.5s remaining:    4.3s\n",
      "[Parallel(n_jobs=-1)]: Done  15 out of  20 | elapsed:   10.1s remaining:    3.4s\n",
      "[Parallel(n_jobs=-1)]: Done  18 out of  20 | elapsed:   10.5s remaining:    1.2s\n",
      "[Parallel(n_jobs=-1)]: Done  20 out of  20 | elapsed:   10.7s finished\n",
      "[Parallel(n_jobs=-1)]: Using backend LokyBackend with 12 concurrent workers.\n"
     ]
    },
    {
     "name": "stdout",
     "output_type": "stream",
     "text": [
      "-------------SCORING MODELS-------------\n"
     ]
    },
    {
     "name": "stderr",
     "output_type": "stream",
     "text": [
      "[Parallel(n_jobs=-1)]: Done  18 out of  20 | elapsed:    0.1s remaining:    0.0s\n",
      "[Parallel(n_jobs=-1)]: Done  20 out of  20 | elapsed:    0.1s finished\n"
     ]
    },
    {
     "data": {
      "image/png": "[encoded data removed]",
      "text/plain": [
       "<Figure size 216x288 with 2 Axes>"
      ]
     },
     "metadata": {
      "needs_background": "light"
     },
     "output_type": "display_data"
    },
    {
     "name": "stderr",
     "output_type": "stream",
     "text": [
      "[Parallel(n_jobs=-1)]: Using backend LokyBackend with 12 concurrent workers.\n"
     ]
    },
    {
     "name": "stdout",
     "output_type": "stream",
     "text": [
      "<__main__.OnlineSGD object at 0x7f86644db748> 0.625692774234027\n",
      "-------------FITTING MODELS-------------\n"
     ]
    },
    {
     "name": "stderr",
     "output_type": "stream",
     "text": [
      "[Parallel(n_jobs=-1)]: Done   3 out of  20 | elapsed:    6.2s remaining:   35.0s\n",
      "[Parallel(n_jobs=-1)]: Done   6 out of  20 | elapsed:    6.4s remaining:   15.0s\n",
      "[Parallel(n_jobs=-1)]: Done   9 out of  20 | elapsed:    6.8s remaining:    8.3s\n",
      "[Parallel(n_jobs=-1)]: Done  12 out of  20 | elapsed:    7.1s remaining:    4.7s\n",
      "[Parallel(n_jobs=-1)]: Done  15 out of  20 | elapsed:   10.7s remaining:    3.6s\n",
      "[Parallel(n_jobs=-1)]: Done  18 out of  20 | elapsed:   11.0s remaining:    1.2s\n",
      "[Parallel(n_jobs=-1)]: Done  20 out of  20 | elapsed:   11.2s finished\n",
      "[Parallel(n_jobs=-1)]: Using backend LokyBackend with 12 concurrent workers.\n"
     ]
    },
    {
     "name": "stdout",
     "output_type": "stream",
     "text": [
      "-------------SCORING MODELS-------------\n"
     ]
    },
    {
     "name": "stderr",
     "output_type": "stream",
     "text": [
      "[Parallel(n_jobs=-1)]: Done  18 out of  20 | elapsed:    0.1s remaining:    0.0s\n",
      "[Parallel(n_jobs=-1)]: Done  20 out of  20 | elapsed:    0.1s finished\n"
     ]
    },
    {
     "data": {
      "image/png": "[encoded data removed]",
      "text/plain": [
       "<Figure size 216x288 with 2 Axes>"
      ]
     },
     "metadata": {
      "needs_background": "light"
     },
     "output_type": "display_data"
    },
    {
     "name": "stderr",
     "output_type": "stream",
     "text": [
      "[Parallel(n_jobs=-1)]: Using backend LokyBackend with 12 concurrent workers.\n"
     ]
    },
    {
     "name": "stdout",
     "output_type": "stream",
     "text": [
      "<__main__.OnlineSGD object at 0x7f866442a320> 0.6261894802886123\n",
      "-------------FITTING MODELS-------------\n"
     ]
    },
    {
     "name": "stderr",
     "output_type": "stream",
     "text": [
      "[Parallel(n_jobs=-1)]: Done   3 out of  20 | elapsed:    5.8s remaining:   32.7s\n",
      "[Parallel(n_jobs=-1)]: Done   6 out of  20 | elapsed:    6.3s remaining:   14.6s\n",
      "[Parallel(n_jobs=-1)]: Done   9 out of  20 | elapsed:    6.7s remaining:    8.2s\n",
      "[Parallel(n_jobs=-1)]: Done  12 out of  20 | elapsed:    7.4s remaining:    4.9s\n",
      "[Parallel(n_jobs=-1)]: Done  15 out of  20 | elapsed:   10.6s remaining:    3.5s\n",
      "[Parallel(n_jobs=-1)]: Done  18 out of  20 | elapsed:   10.8s remaining:    1.2s\n",
      "[Parallel(n_jobs=-1)]: Done  20 out of  20 | elapsed:   10.9s finished\n",
      "[Parallel(n_jobs=-1)]: Using backend LokyBackend with 12 concurrent workers.\n"
     ]
    },
    {
     "name": "stdout",
     "output_type": "stream",
     "text": [
      "-------------SCORING MODELS-------------\n"
     ]
    },
    {
     "name": "stderr",
     "output_type": "stream",
     "text": [
      "[Parallel(n_jobs=-1)]: Done  18 out of  20 | elapsed:    0.1s remaining:    0.0s\n",
      "[Parallel(n_jobs=-1)]: Done  20 out of  20 | elapsed:    0.1s finished\n"
     ]
    },
    {
     "data": {
      "image/png": "[encoded data removed]",
      "text/plain": [
       "<Figure size 216x288 with 2 Axes>"
      ]
     },
     "metadata": {
      "needs_background": "light"
     },
     "output_type": "display_data"
    },
    {
     "name": "stderr",
     "output_type": "stream",
     "text": [
      "[Parallel(n_jobs=-1)]: Using backend LokyBackend with 12 concurrent workers.\n"
     ]
    },
    {
     "name": "stdout",
     "output_type": "stream",
     "text": [
      "<__main__.OnlineSGD object at 0x7f8664365320> 0.6248039318205584\n",
      "-------------FITTING MODELS-------------\n"
     ]
    },
    {
     "name": "stderr",
     "output_type": "stream",
     "text": [
      "[Parallel(n_jobs=-1)]: Done   3 out of  20 | elapsed:    6.1s remaining:   34.5s\n",
      "[Parallel(n_jobs=-1)]: Done   6 out of  20 | elapsed:    6.5s remaining:   15.1s\n",
      "[Parallel(n_jobs=-1)]: Done   9 out of  20 | elapsed:    6.7s remaining:    8.2s\n",
      "[Parallel(n_jobs=-1)]: Done  12 out of  20 | elapsed:    7.5s remaining:    5.0s\n",
      "[Parallel(n_jobs=-1)]: Done  15 out of  20 | elapsed:   10.5s remaining:    3.5s\n",
      "[Parallel(n_jobs=-1)]: Done  18 out of  20 | elapsed:   11.0s remaining:    1.2s\n",
      "[Parallel(n_jobs=-1)]: Done  20 out of  20 | elapsed:   11.1s finished\n",
      "[Parallel(n_jobs=-1)]: Using backend LokyBackend with 12 concurrent workers.\n"
     ]
    },
    {
     "name": "stdout",
     "output_type": "stream",
     "text": [
      "-------------SCORING MODELS-------------\n"
     ]
    },
    {
     "name": "stderr",
     "output_type": "stream",
     "text": [
      "[Parallel(n_jobs=-1)]: Done  18 out of  20 | elapsed:    0.1s remaining:    0.0s\n",
      "[Parallel(n_jobs=-1)]: Done  20 out of  20 | elapsed:    0.1s finished\n"
     ]
    },
    {
     "data": {
      "image/png": "[encoded data removed]",
      "text/plain": [
       "<Figure size 216x288 with 2 Axes>"
      ]
     },
     "metadata": {
      "needs_background": "light"
     },
     "output_type": "display_data"
    },
    {
     "name": "stdout",
     "output_type": "stream",
     "text": [
      "<__main__.OnlineSGD object at 0x7f86642a52b0> 0.6256404893861759\n"
     ]
    }
   ],
   "source": [
    "# Re-optimize batchsize and alpha again, using ranges suggested by the first re-optimization\n",
    "grid = {\n",
    "    'scale': [1.5],\n",
    "    'batchsize': [5000, 10000, 20000, 40000],\n",
    "    'steps_per_batch': [5],\n",
    "    'alpha': [2.5e-4, 5e-4, 1e-3, 2e-3, 4e-3],\n",
    "    'rand': [rand],\n",
    "    'val_start': [burn_in]\n",
    "}\n",
    "for rand in range(4,8):\n",
    "    grid['rand'] = [rand]\n",
    "    paramGrid = ParameterGrid(grid)\n",
    "    bestModel, bestScore, allModels, allScores = \\\n",
    "    pf.bestFit(OnlineSGD, paramGrid,\n",
    "               X_poly_full[:val_end], y_full[:val_end], X_poly_full[burn_in:val_end], y_full[burn_in:val_end], \n",
    "               metric = accuracy_score, greater_is_better=True,\n",
    "               scoreLabel = \"accuracy\")\n",
    "    print(bestModel, bestScore)"
   ]
  },
  {
   "cell_type": "code",
   "execution_count": 23,
   "metadata": {},
   "outputs": [
    {
     "name": "stderr",
     "output_type": "stream",
     "text": [
      "[Parallel(n_jobs=-1)]: Using backend LokyBackend with 12 concurrent workers.\n"
     ]
    },
    {
     "name": "stdout",
     "output_type": "stream",
     "text": [
      "-------------FITTING MODELS-------------\n"
     ]
    },
    {
     "name": "stderr",
     "output_type": "stream",
     "text": [
      "[Parallel(n_jobs=-1)]: Done   1 tasks      | elapsed:    4.4s\n",
      "[Parallel(n_jobs=-1)]: Done   5 out of  25 | elapsed:    5.3s remaining:   21.3s\n",
      "[Parallel(n_jobs=-1)]: Done   8 out of  25 | elapsed:    7.4s remaining:   15.7s\n",
      "[Parallel(n_jobs=-1)]: Done  11 out of  25 | elapsed:    9.4s remaining:   12.0s\n",
      "[Parallel(n_jobs=-1)]: Done  14 out of  25 | elapsed:   11.4s remaining:    8.9s\n",
      "[Parallel(n_jobs=-1)]: Done  17 out of  25 | elapsed:   13.1s remaining:    6.2s\n",
      "[Parallel(n_jobs=-1)]: Done  20 out of  25 | elapsed:   14.4s remaining:    3.6s\n",
      "[Parallel(n_jobs=-1)]: Done  23 out of  25 | elapsed:   15.6s remaining:    1.4s\n",
      "[Parallel(n_jobs=-1)]: Done  25 out of  25 | elapsed:   16.7s finished\n",
      "[Parallel(n_jobs=-1)]: Using backend LokyBackend with 12 concurrent workers.\n",
      "[Parallel(n_jobs=-1)]: Done  25 out of  25 | elapsed:    0.1s finished\n"
     ]
    },
    {
     "name": "stdout",
     "output_type": "stream",
     "text": [
      "-------------SCORING MODELS-------------\n"
     ]
    },
    {
     "data": {
      "image/png": "[encoded data removed]",
      "text/plain": [
       "<Figure size 288x288 with 2 Axes>"
      ]
     },
     "metadata": {
      "needs_background": "light"
     },
     "output_type": "display_data"
    },
    {
     "name": "stdout",
     "output_type": "stream",
     "text": [
      "<__main__.OnlineSGD object at 0x7f86641f7470> 0.6255359196904737\n",
      "-------------FITTING MODELS-------------\n"
     ]
    },
    {
     "name": "stderr",
     "output_type": "stream",
     "text": [
      "[Parallel(n_jobs=-1)]: Using backend LokyBackend with 12 concurrent workers.\n",
      "[Parallel(n_jobs=-1)]: Done   1 tasks      | elapsed:    4.4s\n",
      "[Parallel(n_jobs=-1)]: Done   5 out of  25 | elapsed:    5.3s remaining:   21.1s\n",
      "[Parallel(n_jobs=-1)]: Done   8 out of  25 | elapsed:    6.7s remaining:   14.3s\n",
      "[Parallel(n_jobs=-1)]: Done  11 out of  25 | elapsed:    9.3s remaining:   11.8s\n",
      "[Parallel(n_jobs=-1)]: Done  14 out of  25 | elapsed:   12.0s remaining:    9.4s\n",
      "[Parallel(n_jobs=-1)]: Done  17 out of  25 | elapsed:   12.6s remaining:    5.9s\n",
      "[Parallel(n_jobs=-1)]: Done  20 out of  25 | elapsed:   14.3s remaining:    3.6s\n",
      "[Parallel(n_jobs=-1)]: Done  23 out of  25 | elapsed:   15.6s remaining:    1.4s\n",
      "[Parallel(n_jobs=-1)]: Done  25 out of  25 | elapsed:   16.8s finished\n",
      "[Parallel(n_jobs=-1)]: Using backend LokyBackend with 12 concurrent workers.\n",
      "[Parallel(n_jobs=-1)]: Done  25 out of  25 | elapsed:    0.2s finished\n"
     ]
    },
    {
     "name": "stdout",
     "output_type": "stream",
     "text": [
      "-------------SCORING MODELS-------------\n"
     ]
    },
    {
     "data": {
      "image/png": "[encoded data removed]",
      "text/plain": [
       "<Figure size 288x288 with 2 Axes>"
      ]
     },
     "metadata": {
      "needs_background": "light"
     },
     "output_type": "display_data"
    },
    {
     "name": "stdout",
     "output_type": "stream",
     "text": [
      "<__main__.OnlineSGD object at 0x7f86640dbc18> 0.6263463348321656\n",
      "-------------FITTING MODELS-------------\n"
     ]
    },
    {
     "name": "stderr",
     "output_type": "stream",
     "text": [
      "[Parallel(n_jobs=-1)]: Using backend LokyBackend with 12 concurrent workers.\n",
      "[Parallel(n_jobs=-1)]: Done   1 tasks      | elapsed:    4.3s\n",
      "[Parallel(n_jobs=-1)]: Done   5 out of  25 | elapsed:    5.2s remaining:   20.7s\n",
      "[Parallel(n_jobs=-1)]: Done   8 out of  25 | elapsed:    7.2s remaining:   15.3s\n",
      "[Parallel(n_jobs=-1)]: Done  11 out of  25 | elapsed:    9.3s remaining:   11.9s\n",
      "[Parallel(n_jobs=-1)]: Done  14 out of  25 | elapsed:   11.9s remaining:    9.4s\n",
      "[Parallel(n_jobs=-1)]: Done  17 out of  25 | elapsed:   13.2s remaining:    6.2s\n",
      "[Parallel(n_jobs=-1)]: Done  20 out of  25 | elapsed:   14.2s remaining:    3.6s\n",
      "[Parallel(n_jobs=-1)]: Done  23 out of  25 | elapsed:   15.8s remaining:    1.4s\n",
      "[Parallel(n_jobs=-1)]: Done  25 out of  25 | elapsed:   16.7s finished\n",
      "[Parallel(n_jobs=-1)]: Using backend LokyBackend with 12 concurrent workers.\n",
      "[Parallel(n_jobs=-1)]: Done  25 out of  25 | elapsed:    0.1s finished\n"
     ]
    },
    {
     "name": "stdout",
     "output_type": "stream",
     "text": [
      "-------------SCORING MODELS-------------\n"
     ]
    },
    {
     "data": {
      "image/png": "[encoded data removed]",
      "text/plain": [
       "<Figure size 288x288 with 2 Axes>"
      ]
     },
     "metadata": {
      "needs_background": "light"
     },
     "output_type": "display_data"
    },
    {
     "name": "stdout",
     "output_type": "stream",
     "text": [
      "<__main__.OnlineSGD object at 0x7f865efc5fd0> 0.6247516469727074\n",
      "-------------FITTING MODELS-------------\n"
     ]
    },
    {
     "name": "stderr",
     "output_type": "stream",
     "text": [
      "[Parallel(n_jobs=-1)]: Using backend LokyBackend with 12 concurrent workers.\n",
      "[Parallel(n_jobs=-1)]: Done   1 tasks      | elapsed:    4.2s\n",
      "[Parallel(n_jobs=-1)]: Done   5 out of  25 | elapsed:    5.4s remaining:   21.6s\n",
      "[Parallel(n_jobs=-1)]: Done   8 out of  25 | elapsed:    6.9s remaining:   14.7s\n",
      "[Parallel(n_jobs=-1)]: Done  11 out of  25 | elapsed:    9.6s remaining:   12.2s\n",
      "[Parallel(n_jobs=-1)]: Done  14 out of  25 | elapsed:   11.9s remaining:    9.4s\n",
      "[Parallel(n_jobs=-1)]: Done  17 out of  25 | elapsed:   12.9s remaining:    6.1s\n",
      "[Parallel(n_jobs=-1)]: Done  20 out of  25 | elapsed:   13.9s remaining:    3.5s\n",
      "[Parallel(n_jobs=-1)]: Done  23 out of  25 | elapsed:   15.6s remaining:    1.4s\n",
      "[Parallel(n_jobs=-1)]: Done  25 out of  25 | elapsed:   16.6s finished\n",
      "[Parallel(n_jobs=-1)]: Using backend LokyBackend with 12 concurrent workers.\n",
      "[Parallel(n_jobs=-1)]: Done  25 out of  25 | elapsed:    0.1s finished\n"
     ]
    },
    {
     "name": "stdout",
     "output_type": "stream",
     "text": [
      "-------------SCORING MODELS-------------\n"
     ]
    },
    {
     "data": {
      "image/png": "[encoded data removed]",
      "text/plain": [
       "<Figure size 288x288 with 2 Axes>"
      ]
     },
     "metadata": {
      "needs_background": "light"
     },
     "output_type": "display_data"
    },
    {
     "name": "stdout",
     "output_type": "stream",
     "text": [
      "<__main__.OnlineSGD object at 0x7f865ef1bac8> 0.6250914984837395\n"
     ]
    }
   ],
   "source": [
    "# Optimize along two other dimensions (scale and steps_per_batch)\n",
    "grid = {\n",
    "    'scale': [1.0, 1.5, 2.0, 3.0, 5.0],\n",
    "    'batchsize': [20000],\n",
    "    'steps_per_batch': [2, 3, 5, 8, 12],\n",
    "    'alpha': [8e-4],\n",
    "    'rand': [rand],\n",
    "    'val_start': [burn_in]\n",
    "}\n",
    "for rand in range(4):\n",
    "    grid['rand'] = [rand]\n",
    "    paramGrid = ParameterGrid(grid)\n",
    "    bestModel, bestScore, allModels, allScores = \\\n",
    "    pf.bestFit(OnlineSGD, paramGrid,\n",
    "               X_poly_full[:val_end], y_full[:val_end], X_poly_full[burn_in:val_end], y_full[burn_in:val_end], \n",
    "               metric = accuracy_score, greater_is_better=True,\n",
    "               scoreLabel = \"accuracy\")\n",
    "    print(bestModel, bestScore)"
   ]
  },
  {
   "cell_type": "code",
   "execution_count": 24,
   "metadata": {},
   "outputs": [
    {
     "name": "stdout",
     "output_type": "stream",
     "text": [
      "-------------FITTING MODELS-------------\n"
     ]
    },
    {
     "name": "stderr",
     "output_type": "stream",
     "text": [
      "[Parallel(n_jobs=-1)]: Using backend LokyBackend with 12 concurrent workers.\n",
      "[Parallel(n_jobs=-1)]: Done   1 tasks      | elapsed:    8.5s\n",
      "[Parallel(n_jobs=-1)]: Done   5 out of  25 | elapsed:   10.0s remaining:   39.9s\n",
      "[Parallel(n_jobs=-1)]: Done   8 out of  25 | elapsed:   11.7s remaining:   24.9s\n",
      "[Parallel(n_jobs=-1)]: Done  11 out of  25 | elapsed:   16.8s remaining:   21.4s\n",
      "[Parallel(n_jobs=-1)]: Done  14 out of  25 | elapsed:   19.9s remaining:   15.7s\n",
      "[Parallel(n_jobs=-1)]: Done  17 out of  25 | elapsed:   22.0s remaining:   10.3s\n",
      "[Parallel(n_jobs=-1)]: Done  20 out of  25 | elapsed:   24.1s remaining:    6.0s\n",
      "[Parallel(n_jobs=-1)]: Done  23 out of  25 | elapsed:   25.8s remaining:    2.2s\n",
      "[Parallel(n_jobs=-1)]: Done  25 out of  25 | elapsed:   27.3s finished\n",
      "[Parallel(n_jobs=-1)]: Using backend LokyBackend with 12 concurrent workers.\n",
      "[Parallel(n_jobs=-1)]: Done  25 out of  25 | elapsed:    0.1s finished\n"
     ]
    },
    {
     "name": "stdout",
     "output_type": "stream",
     "text": [
      "-------------SCORING MODELS-------------\n"
     ]
    },
    {
     "data": {
      "image/png": "[encoded data removed]",
      "text/plain": [
       "<Figure size 288x288 with 2 Axes>"
      ]
     },
     "metadata": {
      "needs_background": "light"
     },
     "output_type": "display_data"
    },
    {
     "name": "stdout",
     "output_type": "stream",
     "text": [
      "<__main__.OnlineSGD object at 0x7f865eeb95f8> 0.6271567499738576\n",
      "-------------FITTING MODELS-------------\n"
     ]
    },
    {
     "name": "stderr",
     "output_type": "stream",
     "text": [
      "[Parallel(n_jobs=-1)]: Using backend LokyBackend with 12 concurrent workers.\n",
      "[Parallel(n_jobs=-1)]: Done   1 tasks      | elapsed:    8.3s\n",
      "[Parallel(n_jobs=-1)]: Done   5 out of  25 | elapsed:   10.1s remaining:   40.3s\n",
      "[Parallel(n_jobs=-1)]: Done   8 out of  25 | elapsed:   12.0s remaining:   25.5s\n",
      "[Parallel(n_jobs=-1)]: Done  11 out of  25 | elapsed:   17.4s remaining:   22.2s\n",
      "[Parallel(n_jobs=-1)]: Done  14 out of  25 | elapsed:   19.9s remaining:   15.6s\n",
      "[Parallel(n_jobs=-1)]: Done  17 out of  25 | elapsed:   21.9s remaining:   10.3s\n",
      "[Parallel(n_jobs=-1)]: Done  20 out of  25 | elapsed:   23.9s remaining:    6.0s\n",
      "[Parallel(n_jobs=-1)]: Done  23 out of  25 | elapsed:   25.8s remaining:    2.2s\n",
      "[Parallel(n_jobs=-1)]: Done  25 out of  25 | elapsed:   27.8s finished\n",
      "[Parallel(n_jobs=-1)]: Using backend LokyBackend with 12 concurrent workers.\n",
      "[Parallel(n_jobs=-1)]: Done  25 out of  25 | elapsed:    0.1s finished\n"
     ]
    },
    {
     "name": "stdout",
     "output_type": "stream",
     "text": [
      "-------------SCORING MODELS-------------\n"
     ]
    },
    {
     "data": {
      "image/png": "[encoded data removed]",
      "text/plain": [
       "<Figure size 288x288 with 2 Axes>"
      ]
     },
     "metadata": {
      "needs_background": "light"
     },
     "output_type": "display_data"
    },
    {
     "name": "stdout",
     "output_type": "stream",
     "text": [
      "<__main__.OnlineSGD object at 0x7f865ed90898> 0.6267646136149744\n",
      "-------------FITTING MODELS-------------\n"
     ]
    },
    {
     "name": "stderr",
     "output_type": "stream",
     "text": [
      "[Parallel(n_jobs=-1)]: Using backend LokyBackend with 12 concurrent workers.\n",
      "[Parallel(n_jobs=-1)]: Done   1 tasks      | elapsed:    8.6s\n",
      "[Parallel(n_jobs=-1)]: Done   5 out of  25 | elapsed:   10.5s remaining:   41.9s\n",
      "[Parallel(n_jobs=-1)]: Done   8 out of  25 | elapsed:   12.9s remaining:   27.3s\n",
      "[Parallel(n_jobs=-1)]: Done  11 out of  25 | elapsed:   17.1s remaining:   21.7s\n",
      "[Parallel(n_jobs=-1)]: Done  14 out of  25 | elapsed:   20.4s remaining:   16.1s\n",
      "[Parallel(n_jobs=-1)]: Done  17 out of  25 | elapsed:   22.3s remaining:   10.5s\n",
      "[Parallel(n_jobs=-1)]: Done  20 out of  25 | elapsed:   24.2s remaining:    6.1s\n",
      "[Parallel(n_jobs=-1)]: Done  23 out of  25 | elapsed:   26.1s remaining:    2.3s\n",
      "[Parallel(n_jobs=-1)]: Done  25 out of  25 | elapsed:   27.6s finished\n",
      "[Parallel(n_jobs=-1)]: Using backend LokyBackend with 12 concurrent workers.\n",
      "[Parallel(n_jobs=-1)]: Done  25 out of  25 | elapsed:    0.1s finished\n"
     ]
    },
    {
     "name": "stdout",
     "output_type": "stream",
     "text": [
      "-------------SCORING MODELS-------------\n"
     ]
    },
    {
     "data": {
      "image/png": "[encoded data removed]",
      "text/plain": [
       "<Figure size 288x288 with 2 Axes>"
      ]
     },
     "metadata": {
      "needs_background": "light"
     },
     "output_type": "display_data"
    },
    {
     "name": "stdout",
     "output_type": "stream",
     "text": [
      "<__main__.OnlineSGD object at 0x7f865ecea1d0> 0.6253529227229949\n",
      "-------------FITTING MODELS-------------\n"
     ]
    },
    {
     "name": "stderr",
     "output_type": "stream",
     "text": [
      "[Parallel(n_jobs=-1)]: Using backend LokyBackend with 12 concurrent workers.\n",
      "[Parallel(n_jobs=-1)]: Done   1 tasks      | elapsed:    8.3s\n",
      "[Parallel(n_jobs=-1)]: Done   5 out of  25 | elapsed:    9.7s remaining:   38.8s\n",
      "[Parallel(n_jobs=-1)]: Done   8 out of  25 | elapsed:   12.4s remaining:   26.4s\n",
      "[Parallel(n_jobs=-1)]: Done  11 out of  25 | elapsed:   17.1s remaining:   21.8s\n",
      "[Parallel(n_jobs=-1)]: Done  14 out of  25 | elapsed:   19.3s remaining:   15.2s\n",
      "[Parallel(n_jobs=-1)]: Done  17 out of  25 | elapsed:   21.8s remaining:   10.2s\n",
      "[Parallel(n_jobs=-1)]: Done  20 out of  25 | elapsed:   23.7s remaining:    5.9s\n",
      "[Parallel(n_jobs=-1)]: Done  23 out of  25 | elapsed:   25.6s remaining:    2.2s\n",
      "[Parallel(n_jobs=-1)]: Done  25 out of  25 | elapsed:   27.5s finished\n",
      "[Parallel(n_jobs=-1)]: Using backend LokyBackend with 12 concurrent workers.\n",
      "[Parallel(n_jobs=-1)]: Done  25 out of  25 | elapsed:    0.1s finished\n"
     ]
    },
    {
     "name": "stdout",
     "output_type": "stream",
     "text": [
      "-------------SCORING MODELS-------------\n"
     ]
    },
    {
     "data": {
      "image/png": "[encoded data removed]",
      "text/plain": [
       "<Figure size 288x288 with 2 Axes>"
      ]
     },
     "metadata": {
      "needs_background": "light"
     },
     "output_type": "display_data"
    },
    {
     "name": "stdout",
     "output_type": "stream",
     "text": [
      "<__main__.OnlineSGD object at 0x7f865ec0ab00> 0.6255359196904737\n"
     ]
    }
   ],
   "source": [
    "# Re-optimize scale and steps_per_batch, using values suggested by previous optimization\n",
    "grid = {\n",
    "    'scale': [2.0, 2.4, 3.2, 4.0, 5.0],\n",
    "    'batchsize': [20000],\n",
    "    'steps_per_batch': [8, 10, 12, 15, 20],\n",
    "    'alpha': [8e-4],\n",
    "    'rand': [rand],\n",
    "    'val_start': [burn_in]\n",
    "}\n",
    "for rand in range(4, 8):\n",
    "    grid['rand'] = [rand]\n",
    "    paramGrid = ParameterGrid(grid)\n",
    "    bestModel, bestScore, allModels, allScores = \\\n",
    "    pf.bestFit(OnlineSGD, paramGrid,\n",
    "               X_poly_full[:val_end], y_full[:val_end], X_poly_full[burn_in:val_end], y_full[burn_in:val_end], \n",
    "               metric = accuracy_score, greater_is_better=True,\n",
    "               scoreLabel = \"accuracy\")\n",
    "    print(bestModel, bestScore)"
   ]
  },
  {
   "cell_type": "code",
   "execution_count": 25,
   "metadata": {},
   "outputs": [
    {
     "name": "stdout",
     "output_type": "stream",
     "text": [
      "0.6227909651782914\n",
      "0.622294259123706\n",
      "0.6232092439611001\n",
      "0.6222681166997804\n"
     ]
    }
   ],
   "source": [
    "# Test section results for best model\n",
    "for rand in range(4):\n",
    "    sgd = OnlineSGD(3.5, 20000, 20, 8e-4, rand, val_end)\n",
    "    sgd.fit(X_poly_full, y_full)\n",
    "    print(accuracy_score(y_full[val_end:], sgd.predict(_)))"
   ]
  },
  {
   "cell_type": "code",
   "execution_count": 26,
   "metadata": {},
   "outputs": [
    {
     "data": {
      "image/png": "[encoded data removed]",
      "text/plain": [
       "<Figure size 432x288 with 1 Axes>"
      ]
     },
     "metadata": {
      "needs_background": "light"
     },
     "output_type": "display_data"
    }
   ],
   "source": [
    "alpha = 8e-4;  steps_per_batch = 20;  batchsize = 20000;  scale = 3.5 \n",
    "rand = 0\n",
    "batcherator = iter_minibatches(X_poly_full, y_full, chunksize=batchsize, scale=scale)\n",
    "model = SGDClassifier(loss='log', alpha=alpha, random_state=rand)\n",
    "progress = []\n",
    "for X_train, y_train, X_test, y_test in batcherator:\n",
    "    for _ in range(steps_per_batch):\n",
    "        model.partial_fit(X_train, y_train, [0,1])\n",
    "    y_predicted = model.predict_proba(X_test)[:,1]\n",
    "    progress.append(accuracy_score(y_test, y_predicted>.5))\n",
    "pd.DataFrame(progress).plot()\n",
    "plt.show()"
   ]
  },
  {
   "cell_type": "markdown",
   "metadata": {},
   "source": [
    "The model performs better on the early part (first two batches), because that is the original training and validation data, on which the features were optimized.  After that the performance seems more or less flat, and in particular, there is no trend of improvement and deterioration.  That means the overall procedure is working well.  If performance were improving over time, that would indicate that we still don't have enough data to get optimal results.  If performance were deteriorating over time, that would indicate that the features are becoming \"stale\" and that the full underlying models that generate those features would need to be re-fit frequently.  Flat performance suggests that we do have enough data and that the features are robust to changes over time."
   ]
  },
  {
   "cell_type": "code",
   "execution_count": null,
   "metadata": {},
   "outputs": [],
   "source": []
  },
  {
   "cell_type": "code",
   "execution_count": null,
   "metadata": {},
   "outputs": [],
   "source": []
  }
 ],
 "metadata": {
  "kernelspec": {
   "display_name": "messy",
   "language": "python",
   "name": "messy"
  },
  "language_info": {
   "codemirror_mode": {
    "name": "ipython",
    "version": 3
   },
   "file_extension": ".py",
   "mimetype": "text/x-python",
   "name": "python",
   "nbconvert_exporter": "python",
   "pygments_lexer": "ipython3",
   "version": "3.7.3"
  }
 },
 "nbformat": 4,
 "nbformat_minor": 2
}
