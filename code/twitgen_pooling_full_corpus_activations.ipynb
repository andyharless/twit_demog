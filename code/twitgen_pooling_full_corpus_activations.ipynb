{
 "cells": [
  {
   "cell_type": "code",
   "execution_count": 1,
   "metadata": {
    "colab": {
     "base_uri": "https://localhost:8080/",
     "height": 122
    },
    "colab_type": "code",
    "id": "Ax4RdzBXu65o",
    "outputId": "f09465fa-bbd0-4338-e319-89b27fbafddb"
   },
   "outputs": [],
   "source": [
    "do_mount=False\n",
    "if do_mount:\n",
    "  from google.colab import drive\n",
    "  drive.mount('/content/gdrive')"
   ]
  },
  {
   "cell_type": "code",
   "execution_count": 2,
   "metadata": {
    "colab": {},
    "colab_type": "code",
    "id": "Hg5Y784oysWW"
   },
   "outputs": [],
   "source": [
    "# Parameters\n",
    "TRAIN_INPUT = 'twitgen_train_201906011956.csv'\n",
    "CORPUS = 'twitgen_big_corpus_201907251843.csv'\n",
    "\n",
    "EMBEDDING_DIM = 200\n",
    "ACTIVATION_DIM = 400\n",
    "MAXLEN = 50  # Maximum number of words per tweet that will be processed"
   ]
  },
  {
   "cell_type": "code",
   "execution_count": 3,
   "metadata": {
    "colab": {},
    "colab_type": "code",
    "id": "x-H3ypYSfqro"
   },
   "outputs": [],
   "source": [
    "basepath = '../data/'\n",
    "glovefile = 'glove.twitter.27B.200d.txt.gz'\n",
    "glovepath = basepath + glovefile\n",
    "model_file_name = 'PoolModel_201907041941.h5'"
   ]
  },
  {
   "cell_type": "code",
   "execution_count": 4,
   "metadata": {
    "colab": {
     "base_uri": "https://localhost:8080/",
     "height": 85
    },
    "colab_type": "code",
    "id": "ZTHMDATrw2or",
    "outputId": "8e574c7e-2ac5-4059-8d40-379f343bb3a9"
   },
   "outputs": [],
   "source": [
    "if do_mount:\n",
    "  # Get the embedding initialization file\n",
    "  !cp '$glovepath' .\n",
    "  !gunzip $glovefile\n",
    "  !ls -l"
   ]
  },
  {
   "cell_type": "code",
   "execution_count": 5,
   "metadata": {
    "colab": {
     "base_uri": "https://localhost:8080/",
     "height": 51
    },
    "colab_type": "code",
    "id": "Ki5FWLkTycV4",
    "outputId": "9974b4f1-447e-43ad-f00f-d07839d3c3a8"
   },
   "outputs": [
    {
     "name": "stderr",
     "output_type": "stream",
     "text": [
      "Using TensorFlow backend.\n"
     ]
    },
    {
     "data": {
      "text/plain": [
       "'2.2.4'"
      ]
     },
     "execution_count": 5,
     "metadata": {},
     "output_type": "execute_result"
    }
   ],
   "source": [
    "import tensorflow as tf\n",
    "import pandas as pd\n",
    "import os\n",
    "import re\n",
    "import keras\n",
    "from keras import backend as K\n",
    "import keras.layers as layers\n",
    "from keras.models import Model, load_model\n",
    "from keras.engine import Layer\n",
    "from keras.optimizers import Adam, Adagrad\n",
    "from keras.preprocessing.text import Tokenizer\n",
    "from keras.preprocessing.sequence import pad_sequences\n",
    "import numpy as np\n",
    "from datetime import datetime\n",
    "import string\n",
    "\n",
    "keras.__version__"
   ]
  },
  {
   "cell_type": "code",
   "execution_count": 6,
   "metadata": {
    "colab": {
     "base_uri": "https://localhost:8080/",
     "height": 235
    },
    "colab_type": "code",
    "id": "diA4mf7rx5dG",
    "outputId": "c89158f1-1deb-4379-94e1-1aff10661ccd"
   },
   "outputs": [
    {
     "data": {
      "text/html": [
       "<div>\n",
       "<style scoped>\n",
       "    .dataframe tbody tr th:only-of-type {\n",
       "        vertical-align: middle;\n",
       "    }\n",
       "\n",
       "    .dataframe tbody tr th {\n",
       "        vertical-align: top;\n",
       "    }\n",
       "\n",
       "    .dataframe thead th {\n",
       "        text-align: right;\n",
       "    }\n",
       "</style>\n",
       "<table border=\"1\" class=\"dataframe\">\n",
       "  <thead>\n",
       "    <tr style=\"text-align: right;\">\n",
       "      <th></th>\n",
       "      <th></th>\n",
       "      <th>text</th>\n",
       "      <th>male</th>\n",
       "    </tr>\n",
       "    <tr>\n",
       "      <th>id</th>\n",
       "      <th>time</th>\n",
       "      <th></th>\n",
       "      <th></th>\n",
       "    </tr>\n",
       "  </thead>\n",
       "  <tbody>\n",
       "    <tr>\n",
       "      <th>1703564846</th>\n",
       "      <th>2019-05-21 17:50:48+00:00</th>\n",
       "      <td>I prefer tubs.. but nice try jiggly</td>\n",
       "      <td>True</td>\n",
       "    </tr>\n",
       "    <tr>\n",
       "      <th>211806644</th>\n",
       "      <th>2019-05-21 17:50:48+00:00</th>\n",
       "      <td>It's the shop. I'd never have paid for 2 year...</td>\n",
       "      <td>False</td>\n",
       "    </tr>\n",
       "    <tr>\n",
       "      <th>971515498411241472</th>\n",
       "      <th>2019-05-21 17:50:48+00:00</th>\n",
       "      <td>Why  can’t attend Cannes 🎬</td>\n",
       "      <td>False</td>\n",
       "    </tr>\n",
       "    <tr>\n",
       "      <th>2430359987</th>\n",
       "      <th>2019-05-21 17:50:49+00:00</th>\n",
       "      <td>Raspberry gin and tonic, nomnom 😋 beautiful ev...</td>\n",
       "      <td>False</td>\n",
       "    </tr>\n",
       "    <tr>\n",
       "      <th>2860188236</th>\n",
       "      <th>2019-05-21 17:50:49+00:00</th>\n",
       "      <td>This is  🏴󠁧󠁢󠁥󠁮󠁧󠁿🇬🇧🏴󠁧󠁢󠁥󠁮󠁧󠁿🇬🇧🏴󠁧󠁢󠁥󠁮󠁧󠁿 here we g...</td>\n",
       "      <td>True</td>\n",
       "    </tr>\n",
       "  </tbody>\n",
       "</table>\n",
       "</div>"
      ],
      "text/plain": [
       "                                                                                           text  \\\n",
       "id                 time                                                                           \n",
       "1703564846         2019-05-21 17:50:48+00:00                I prefer tubs.. but nice try jiggly   \n",
       "211806644          2019-05-21 17:50:48+00:00   It's the shop. I'd never have paid for 2 year...   \n",
       "971515498411241472 2019-05-21 17:50:48+00:00                        Why  can’t attend Cannes 🎬    \n",
       "2430359987         2019-05-21 17:50:49+00:00  Raspberry gin and tonic, nomnom 😋 beautiful ev...   \n",
       "2860188236         2019-05-21 17:50:49+00:00    This is  🏴󠁧󠁢󠁥󠁮󠁧󠁿🇬🇧🏴󠁧󠁢󠁥󠁮󠁧󠁿🇬🇧🏴󠁧󠁢󠁥󠁮󠁧󠁿 here we g...   \n",
       "\n",
       "                                               male  \n",
       "id                 time                              \n",
       "1703564846         2019-05-21 17:50:48+00:00   True  \n",
       "211806644          2019-05-21 17:50:48+00:00  False  \n",
       "971515498411241472 2019-05-21 17:50:48+00:00  False  \n",
       "2430359987         2019-05-21 17:50:49+00:00  False  \n",
       "2860188236         2019-05-21 17:50:49+00:00   True  "
      ]
     },
     "execution_count": 6,
     "metadata": {},
     "output_type": "execute_result"
    }
   ],
   "source": [
    "# Read in the data\n",
    "df_train = pd.read_csv(basepath+TRAIN_INPUT, index_col=['id','time'], parse_dates=['time'])\n",
    "df_corpus = pd.read_csv(basepath+CORPUS, index_col=['id','time'], parse_dates=['time'])\n",
    "df_corpus.head()"
   ]
  },
  {
   "cell_type": "code",
   "execution_count": 7,
   "metadata": {
    "colab": {
     "base_uri": "https://localhost:8080/",
     "height": 34
    },
    "colab_type": "code",
    "id": "tiWLlkKOx_G2",
    "outputId": "c0956eac-c420-47a0-981d-248b238318be"
   },
   "outputs": [
    {
     "data": {
      "text/plain": [
       "(34, 37)"
      ]
     },
     "execution_count": 7,
     "metadata": {},
     "output_type": "execute_result"
    }
   ],
   "source": [
    "# Maximum number of words per tweet in each data set\n",
    "(df_train.text.str.split().apply(len).max(), \n",
    " df_corpus.text.str.split().apply(len).max())"
   ]
  },
  {
   "cell_type": "code",
   "execution_count": 8,
   "metadata": {
    "colab": {},
    "colab_type": "code",
    "id": "TYo_WNX3x_PO"
   },
   "outputs": [],
   "source": [
    "# Text Normalization function\n",
    "\n",
    "# Taken from \n",
    "# https://medium.com/@sabber/classifying-yelp-review-comments-using-lstm-and-word-embeddings-part-1-eb2275e4066b\n",
    "# which was taken from https://www.kaggle.com/lystdo/lstm-with-word2vec-embeddings\n",
    "# but this version no longer does stemming or stop word elmination\n",
    "\n",
    "# This is for general text, not Twitter-specific.\n",
    "# Maybe would get a better classifier if we used a Python transaltion of this:\n",
    "# https://nlp.stanford.edu/projects/glove/preprocess-twitter.rb\n",
    "# but that is arguably outside the scope of this project\n",
    "# and my initial attempts to use Twitter-specific preprocessing have been unsuccessful\n",
    "\n",
    "\n",
    "def clean_text(text):\n",
    "    \n",
    "    ## Remove puncuation\n",
    "    text = text.translate(string.punctuation)\n",
    "    \n",
    "    ## Convert words to lower case and split them\n",
    "    text = text.lower().split()\n",
    "    \n",
    "    text = \" \".join(text)\n",
    "    ## Clean the text\n",
    "    text = re.sub(r\"[^A-Za-z0-9^,!.\\/'+-=]\", \" \", text)\n",
    "    text = re.sub(r\"what's\", \"what is \", text)\n",
    "    text = re.sub(r\"\\'s\", \" \", text)\n",
    "    text = re.sub(r\"\\'ve\", \" have \", text)\n",
    "    text = re.sub(r\"n't\", \" not \", text)\n",
    "    text = re.sub(r\"i'm\", \"i am \", text)\n",
    "    text = re.sub(r\"\\'re\", \" are \", text)\n",
    "    text = re.sub(r\"\\'d\", \" would \", text)\n",
    "    text = re.sub(r\"\\'ll\", \" will \", text)\n",
    "    text = re.sub(r\",\", \" \", text)\n",
    "    text = re.sub(r\"\\.\", \" \", text)\n",
    "    text = re.sub(r\"!\", \" ! \", text)\n",
    "    text = re.sub(r\"\\/\", \" \", text)\n",
    "    text = re.sub(r\"\\^\", \" ^ \", text)\n",
    "    text = re.sub(r\"\\+\", \" + \", text)\n",
    "    text = re.sub(r\"\\-\", \" - \", text)\n",
    "    text = re.sub(r\"\\=\", \" = \", text)\n",
    "    text = re.sub(r\"'\", \" \", text)\n",
    "    text = re.sub(r\"(\\d+)(k)\", r\"\\g<1>000\", text)\n",
    "    text = re.sub(r\":\", \" : \", text)\n",
    "    text = re.sub(r\" e g \", \" eg \", text)\n",
    "    text = re.sub(r\" b g \", \" bg \", text)\n",
    "    text = re.sub(r\" u s \", \" american \", text)\n",
    "    text = re.sub(r\"\\0s\", \"0\", text)\n",
    "    text = re.sub(r\" 9 11 \", \"911\", text)\n",
    "    text = re.sub(r\"e - mail\", \"email\", text)\n",
    "    text = re.sub(r\"j k\", \"jk\", text)\n",
    "    text = re.sub(r\"\\s{2,}\", \" \", text)\n",
    "\n",
    "    return text\n"
   ]
  },
  {
   "cell_type": "code",
   "execution_count": 9,
   "metadata": {
    "colab": {
     "base_uri": "https://localhost:8080/",
     "height": 34
    },
    "colab_type": "code",
    "id": "d1bOaiLe-Cwq",
    "outputId": "cf5f3846-6c61-4404-81d4-ed736e1c6902"
   },
   "outputs": [
    {
     "data": {
      "text/plain": [
       "(47, 50)"
      ]
     },
     "execution_count": 9,
     "metadata": {},
     "output_type": "execute_result"
    }
   ],
   "source": [
    "# Process the data for model input\n",
    "def get_texts_and_labels(df):\n",
    "  texts = df['text'].map(lambda x: clean_text(x)).tolist()\n",
    "  texts = [t.split()[0:MAXLEN] for t in texts]\n",
    "  labels = df['male'].tolist()\n",
    "  return texts, labels\n",
    "\n",
    "train_text, train_label = get_texts_and_labels(df_train)\n",
    "corpus_text, corpus_label = get_texts_and_labels(df_corpus)\n",
    "\n",
    "max([len(x) for x in train_text]), max([len(x) for x in corpus_text])"
   ]
  },
  {
   "cell_type": "code",
   "execution_count": 10,
   "metadata": {
    "colab": {},
    "colab_type": "code",
    "id": "HGxYN53F8chY"
   },
   "outputs": [],
   "source": [
    "# Fit tokenizer on training data\n",
    "tok = Tokenizer()\n",
    "tok.fit_on_texts(train_text)\n",
    "vocab_size = len(tok.word_index) + 1"
   ]
  },
  {
   "cell_type": "code",
   "execution_count": 11,
   "metadata": {
    "colab": {
     "base_uri": "https://localhost:8080/",
     "height": 68
    },
    "colab_type": "code",
    "id": "5FVpEPUM9M9D",
    "outputId": "2f876571-be12-4897-b7b9-4e402b0565a6"
   },
   "outputs": [
    {
     "name": "stdout",
     "output_type": "stream",
     "text": [
      "<class 'numpy.ndarray'>\n"
     ]
    },
    {
     "data": {
      "text/plain": [
       "array([    2,  1984, 24950,    31,   206,   305, 24951,     0,     0,\n",
       "           0], dtype=int32)"
      ]
     },
     "execution_count": 11,
     "metadata": {},
     "output_type": "execute_result"
    }
   ],
   "source": [
    "# Tokenize the data\n",
    "def get_tokenized_texts(texts):\n",
    "  encoded_docs = tok.texts_to_sequences(texts)\n",
    "  padded_docs = pad_sequences(encoded_docs, maxlen=MAXLEN, padding='post')\n",
    "  return padded_docs\n",
    "\n",
    "docs_corpus = get_tokenized_texts(corpus_text)\n",
    "\n",
    "print(type(docs_corpus))\n",
    "docs_corpus[0][:10]"
   ]
  },
  {
   "cell_type": "code",
   "execution_count": 12,
   "metadata": {
    "colab": {
     "base_uri": "https://localhost:8080/",
     "height": 34
    },
    "colab_type": "code",
    "id": "i6x12xlm8ckN",
    "outputId": "b88b8dc9-e7cd-4236-bbae-e74fa05c34b5"
   },
   "outputs": [
    {
     "name": "stdout",
     "output_type": "stream",
     "text": [
      "Loaded 1193514 word vectors.\n"
     ]
    }
   ],
   "source": [
    "# Load the whole embedding into memory\n",
    "embeddings_index = dict()\n",
    "f = open(glovefile[:-3])\n",
    "for line in f:\n",
    "\tvalues = line.split()\n",
    "\tword = values[0]\n",
    "\tcoefs = np.asarray(values[1:], dtype='float32')\n",
    "\tembeddings_index[word] = coefs\n",
    "f.close()\n",
    "print('Loaded %s word vectors.' % len(embeddings_index))"
   ]
  },
  {
   "cell_type": "code",
   "execution_count": 13,
   "metadata": {
    "colab": {},
    "colab_type": "code",
    "id": "JXkU0hx6JoXx"
   },
   "outputs": [],
   "source": [
    "# Create a weight matrix for words in training docs\n",
    "embedding_matrix = np.zeros((vocab_size, EMBEDDING_DIM))\n",
    "for word, i in tok.word_index.items():\n",
    "\tembedding_vector = embeddings_index.get(word)\n",
    "\tif embedding_vector is not None:\n",
    "\t\tembedding_matrix[i] = embedding_vector"
   ]
  },
  {
   "cell_type": "code",
   "execution_count": 14,
   "metadata": {
    "colab": {
     "base_uri": "https://localhost:8080/",
     "height": 1000
    },
    "colab_type": "code",
    "id": "pTM8vFvYvrBQ",
    "outputId": "51e94d24-4742-43eb-8b09-8f446798b63e"
   },
   "outputs": [
    {
     "name": "stdout",
     "output_type": "stream",
     "text": [
      "WARNING:tensorflow:From /home/andy/anaconda3/envs/tf1/lib/python3.7/site-packages/tensorflow/python/framework/op_def_library.py:263: colocate_with (from tensorflow.python.framework.ops) is deprecated and will be removed in a future version.\n",
      "Instructions for updating:\n",
      "Colocations handled automatically by placer.\n",
      "WARNING:tensorflow:From /home/andy/anaconda3/envs/tf1/lib/python3.7/site-packages/keras/backend/tensorflow_backend.py:3445: calling dropout (from tensorflow.python.ops.nn_ops) with keep_prob is deprecated and will be removed in a future version.\n",
      "Instructions for updating:\n",
      "Please use `rate` instead of `keep_prob`. Rate should be set to `rate = 1 - keep_prob`.\n",
      "__________________________________________________________________________________________________\n",
      "Layer (type)                    Output Shape         Param #     Connected to                     \n",
      "==================================================================================================\n",
      "input_1 (InputLayer)            (None, 50)           0                                            \n",
      "__________________________________________________________________________________________________\n",
      "embedding_1 (Embedding)         (None, 50, 200)      6026200     input_1[0][0]                    \n",
      "__________________________________________________________________________________________________\n",
      "dropout_1 (Dropout)             (None, 50, 200)      0           embedding_1[0][0]                \n",
      "__________________________________________________________________________________________________\n",
      "dropout_2 (Dropout)             (None, 50, 200)      0           dropout_1[0][0]                  \n",
      "__________________________________________________________________________________________________\n",
      "global_max_pooling1d_1 (GlobalM (None, 200)          0           dropout_2[0][0]                  \n",
      "__________________________________________________________________________________________________\n",
      "global_average_pooling1d_1 (Glo (None, 200)          0           dropout_2[0][0]                  \n",
      "__________________________________________________________________________________________________\n",
      "pooled (Concatenate)            (None, 400)          0           global_max_pooling1d_1[0][0]     \n",
      "                                                                 global_average_pooling1d_1[0][0] \n",
      "__________________________________________________________________________________________________\n",
      "dropout_3 (Dropout)             (None, 400)          0           pooled[0][0]                     \n",
      "__________________________________________________________________________________________________\n",
      "dense_1 (Dense)                 (None, 1)            401         dropout_3[0][0]                  \n",
      "==================================================================================================\n",
      "Total params: 6,026,601\n",
      "Trainable params: 401\n",
      "Non-trainable params: 6,026,200\n",
      "__________________________________________________________________________________________________\n"
     ]
    }
   ],
   "source": [
    "# NERUAL NETWORK MODEL\n",
    "\n",
    "# PARAMETERS\n",
    "\n",
    "batchsize = 512\n",
    "\n",
    "temporal_dropout = .2\n",
    "random_dropout = .1\n",
    "flat_dropout= .3\n",
    "\n",
    "frozen_lr = 1e-3\n",
    "frozen_decay = 1e-4\n",
    "frozen_epochs = 12\n",
    "\n",
    "unfrozen_lr = 3e-4\n",
    "unfrozen_decay = 3e-5\n",
    "unfrozen_epochs = 25\n",
    "unfrozen_batchsize = batchsize\n",
    "\n",
    "\n",
    "inputs = layers.Input((MAXLEN,), dtype=\"int32\")\n",
    "\n",
    "# EMBEDDING BLOCK\n",
    "raw_embed = layers.Embedding(vocab_size, \n",
    "                           EMBEDDING_DIM, \n",
    "                           weights=[embedding_matrix], \n",
    "                           input_length=MAXLEN, \n",
    "                           trainable=False)(inputs)\n",
    "embed_random_drop = layers.Dropout(rate=random_dropout)(raw_embed)\n",
    "embed_time_drop = layers.Dropout(rate=temporal_dropout, \n",
    "                       noise_shape=(None, MAXLEN, 1))(embed_random_drop)\n",
    "\n",
    "max_pooled = layers.GlobalMaxPooling1D()(embed_time_drop)\n",
    "av_pooled = layers.GlobalAveragePooling1D()(embed_time_drop)\n",
    "pooled = layers.merge.concatenate([max_pooled,av_pooled], name='pooled')\n",
    "drop_pooled = layers.Dropout(rate=flat_dropout)(pooled)\n",
    "\n",
    "pred = layers.Dense(1, activation='sigmoid')(drop_pooled)\n",
    "\n",
    "# FINAL MODEL\n",
    "model = Model(inputs=[inputs], outputs=pred)\n",
    "model.compile(optimizer=Adam(frozen_lr, decay=frozen_decay), \n",
    "              loss='binary_crossentropy', metrics=['acc'])\n",
    "model.summary()"
   ]
  },
  {
   "cell_type": "code",
   "execution_count": 15,
   "metadata": {
    "colab": {
     "base_uri": "https://localhost:8080/",
     "height": 357
    },
    "colab_type": "code",
    "id": "ahWwgKxU2BgX",
    "outputId": "b1c203f7-cd24-454f-9ced-abfed34db31f"
   },
   "outputs": [
    {
     "data": {
      "text/plain": [
       "[<keras.engine.input_layer.InputLayer at 0x7fcaa896f470>,\n",
       " <keras.layers.embeddings.Embedding at 0x7fcaa896fb70>,\n",
       " <keras.layers.core.Dropout at 0x7fcaa89832b0>,\n",
       " <keras.layers.core.Dropout at 0x7fcaa5345860>,\n",
       " <keras.layers.pooling.GlobalMaxPooling1D at 0x7fcaa5345518>,\n",
       " <keras.layers.pooling.GlobalAveragePooling1D at 0x7fcaa53459b0>,\n",
       " <keras.layers.merge.Concatenate at 0x7fcaa8983320>,\n",
       " <keras.layers.core.Dropout at 0x7fcaa40ed2e8>,\n",
       " <keras.layers.core.Dense at 0x7fcaa40ede48>]"
      ]
     },
     "execution_count": 15,
     "metadata": {},
     "output_type": "execute_result"
    }
   ],
   "source": [
    "model.layers"
   ]
  },
  {
   "cell_type": "code",
   "execution_count": 16,
   "metadata": {
    "colab": {
     "base_uri": "https://localhost:8080/",
     "height": 357
    },
    "colab_type": "code",
    "id": "MY-pnpQY3aL7",
    "outputId": "5879da08-d36e-4d31-a862-a364cca4b6e9"
   },
   "outputs": [
    {
     "data": {
      "text/plain": [
       "[('input_1', False),\n",
       " ('embedding_1', False),\n",
       " ('dropout_1', True),\n",
       " ('dropout_2', True),\n",
       " ('global_max_pooling1d_1', True),\n",
       " ('global_average_pooling1d_1', True),\n",
       " ('pooled', True),\n",
       " ('dropout_3', True),\n",
       " ('dense_1', True)]"
      ]
     },
     "execution_count": 16,
     "metadata": {},
     "output_type": "execute_result"
    }
   ],
   "source": [
    "[(l.name, l.trainable) for l in model.layers]"
   ]
  },
  {
   "cell_type": "code",
   "execution_count": 17,
   "metadata": {
    "colab": {
     "base_uri": "https://localhost:8080/",
     "height": 867
    },
    "colab_type": "code",
    "id": "MkW7g59L4RtL",
    "outputId": "5c9eb406-162c-402b-939c-b616743f9693"
   },
   "outputs": [
    {
     "name": "stdout",
     "output_type": "stream",
     "text": [
      "__________________________________________________________________________________________________\n",
      "Layer (type)                    Output Shape         Param #     Connected to                     \n",
      "==================================================================================================\n",
      "input_1 (InputLayer)            (None, 50)           0                                            \n",
      "__________________________________________________________________________________________________\n",
      "embedding_1 (Embedding)         (None, 50, 200)      6026200     input_1[0][0]                    \n",
      "__________________________________________________________________________________________________\n",
      "dropout_1 (Dropout)             (None, 50, 200)      0           embedding_1[0][0]                \n",
      "__________________________________________________________________________________________________\n",
      "dropout_2 (Dropout)             (None, 50, 200)      0           dropout_1[0][0]                  \n",
      "__________________________________________________________________________________________________\n",
      "global_max_pooling1d_1 (GlobalM (None, 200)          0           dropout_2[0][0]                  \n",
      "__________________________________________________________________________________________________\n",
      "global_average_pooling1d_1 (Glo (None, 200)          0           dropout_2[0][0]                  \n",
      "__________________________________________________________________________________________________\n",
      "pooled (Concatenate)            (None, 400)          0           global_max_pooling1d_1[0][0]     \n",
      "                                                                 global_average_pooling1d_1[0][0] \n",
      "__________________________________________________________________________________________________\n",
      "dropout_3 (Dropout)             (None, 400)          0           pooled[0][0]                     \n",
      "__________________________________________________________________________________________________\n",
      "dense_1 (Dense)                 (None, 1)            401         dropout_3[0][0]                  \n",
      "==================================================================================================\n",
      "Total params: 6,026,601\n",
      "Trainable params: 6,026,601\n",
      "Non-trainable params: 0\n",
      "__________________________________________________________________________________________________\n"
     ]
    }
   ],
   "source": [
    "# Unfreeze the embeddings\n",
    "model.layers[1].trainable = True\n",
    "model.compile(optimizer=Adam(unfrozen_lr, decay=unfrozen_decay), \n",
    "              loss='binary_crossentropy', metrics=['acc'])\n",
    "model.summary()"
   ]
  },
  {
   "cell_type": "code",
   "execution_count": 18,
   "metadata": {},
   "outputs": [],
   "source": [
    "model.load_weights(basepath+model_file_name)"
   ]
  },
  {
   "cell_type": "code",
   "execution_count": 19,
   "metadata": {
    "colab": {},
    "colab_type": "code",
    "id": "1fW-rzCJMZQX"
   },
   "outputs": [],
   "source": [
    "chunk_size = 2**15\n",
    "timestamp = datetime.now().strftime('%Y%m%d%H%M')"
   ]
  },
  {
   "cell_type": "code",
   "execution_count": 20,
   "metadata": {
    "colab": {},
    "colab_type": "code",
    "id": "jGKTleLcixRy"
   },
   "outputs": [
    {
     "name": "stdout",
     "output_type": "stream",
     "text": [
      "../data/pool_activ_corpus_201907301317.csv\n"
     ]
    }
   ],
   "source": [
    "inp = model.input\n",
    "layer_name = 'pooled'\n",
    "activations = model.get_layer(layer_name).output\n",
    "get_activations = K.function([inp, K.learning_phase()], [activations])\n",
    "\n",
    "def get_inference_activations(docs):\n",
    "    return(get_activations([docs, 0])[0])\n",
    "\n",
    "def save_activations(df, docs, split, timestamp):\n",
    "\n",
    "    full_len = df.shape[0]\n",
    "    tweet_activations = np.empty(shape=[0,ACTIVATION_DIM])\n",
    "\n",
    "    for start in range(0, full_len, chunk_size):\n",
    "        end = min(start+chunk_size, full_len)\n",
    "        activations_chunk = get_inference_activations(docs[start:end,:])\n",
    "        tweet_activations = np.concatenate([tweet_activations, activations_chunk])    \n",
    "    \n",
    "    for i in range(tweet_activations.shape[1]):\n",
    "      df['activ'+str(i)] = (tweet_activations[:,i]*1e6).astype(int)\n",
    "\n",
    "    activ_file_name = basepath + 'pool_activ_' + split + '_' + timestamp + '.csv'\n",
    "    df.drop(['text'],axis=1).to_csv(activ_file_name)\n",
    "    print(activ_file_name)\n",
    "\n",
    "save_activations(df_corpus, docs_corpus, 'corpus', timestamp)\n"
   ]
  },
  {
   "cell_type": "code",
   "execution_count": null,
   "metadata": {},
   "outputs": [],
   "source": []
  }
 ],
 "metadata": {
  "accelerator": "GPU",
  "colab": {
   "collapsed_sections": [],
   "include_colab_link": true,
   "name": "twitgen_glovinit_best_dl_model",
   "provenance": [],
   "version": "0.3.2"
  },
  "kernelspec": {
   "display_name": "tf1",
   "language": "python",
   "name": "tf1"
  },
  "language_info": {
   "codemirror_mode": {
    "name": "ipython",
    "version": 3
   },
   "file_extension": ".py",
   "mimetype": "text/x-python",
   "name": "python",
   "nbconvert_exporter": "python",
   "pygments_lexer": "ipython3",
   "version": "3.7.3"
  }
 },
 "nbformat": 4,
 "nbformat_minor": 1
}
