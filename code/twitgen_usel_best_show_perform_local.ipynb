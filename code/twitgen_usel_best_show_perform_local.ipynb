{
 "cells": [
  {
   "cell_type": "code",
   "execution_count": 1,
   "metadata": {
    "colab": {},
    "colab_type": "code",
    "id": "IcV34L1AIQ-6"
   },
   "outputs": [],
   "source": [
    "do_mount=False\n",
    "if do_mount:\n",
    "  from google.colab import drive\n",
    "  drive.mount('/content/gdrive')\n",
    "  !pip install \"tensorflow-gpu==1.13.1\""
   ]
  },
  {
   "cell_type": "code",
   "execution_count": 2,
   "metadata": {
    "colab": {},
    "colab_type": "code",
    "id": "qnUyilG-lMEF"
   },
   "outputs": [],
   "source": [
    "do_compare_preds = True\n",
    "do_save_embeddings = True\n",
    "do_save_model = True\n",
    "do_predict_test = True\n",
    "\n",
    "TRAIN_INPUT = 'twitgen_train_201906011956.csv'\n",
    "VALID_INPUT = 'twitgen_valid_201906011956.csv'\n",
    "TEST_INPUT = 'twitgen_test_201906011956.csv'\n",
    "MODEL_NAME = 'USELModel_201908071556.h5'\n",
    "EMBEDDING_DIM = 512"
   ]
  },
  {
   "cell_type": "code",
   "execution_count": 3,
   "metadata": {
    "colab": {},
    "colab_type": "code",
    "id": "Q-O7uvDmHVSU"
   },
   "outputs": [],
   "source": [
    "# Import our dependencies\n",
    "import tensorflow as tf\n",
    "import pandas as pd\n",
    "import tensorflow_hub as hub\n",
    "import os\n",
    "import re\n",
    "import tensorflow.keras.layers as layers\n",
    "import tensorflow.keras.backend as K\n",
    "from tensorflow.keras.models import Model, load_model\n",
    "from tensorflow.keras.layers import Layer\n",
    "from tensorflow.keras.optimizers import Adam, Adagrad\n",
    "from sklearn.metrics import confusion_matrix\n",
    "from sklearn.metrics import accuracy_score\n",
    "from sklearn.metrics import f1_score\n",
    "from sklearn.metrics import roc_curve, auc\n",
    "import numpy as np\n",
    "import matplotlib.pyplot as plt\n",
    "from statsmodels.stats.proportion import proportion_confint\n",
    "from datetime import datetime"
   ]
  },
  {
   "cell_type": "code",
   "execution_count": 4,
   "metadata": {
    "colab": {},
    "colab_type": "code",
    "id": "CTjRdHaGI2Md"
   },
   "outputs": [],
   "source": [
    "basepath = '../data/'"
   ]
  },
  {
   "cell_type": "code",
   "execution_count": 5,
   "metadata": {
    "colab": {
     "base_uri": "https://localhost:8080/",
     "height": 235
    },
    "colab_type": "code",
    "id": "j5iFCTZYJ045",
    "outputId": "27c095bb-77b9-4e76-d058-d386eaf388d7"
   },
   "outputs": [
    {
     "data": {
      "text/html": [
       "<div>\n",
       "<style scoped>\n",
       "    .dataframe tbody tr th:only-of-type {\n",
       "        vertical-align: middle;\n",
       "    }\n",
       "\n",
       "    .dataframe tbody tr th {\n",
       "        vertical-align: top;\n",
       "    }\n",
       "\n",
       "    .dataframe thead th {\n",
       "        text-align: right;\n",
       "    }\n",
       "</style>\n",
       "<table border=\"1\" class=\"dataframe\">\n",
       "  <thead>\n",
       "    <tr style=\"text-align: right;\">\n",
       "      <th></th>\n",
       "      <th></th>\n",
       "      <th>text</th>\n",
       "      <th>male</th>\n",
       "    </tr>\n",
       "    <tr>\n",
       "      <th>id</th>\n",
       "      <th>time</th>\n",
       "      <th></th>\n",
       "      <th></th>\n",
       "    </tr>\n",
       "  </thead>\n",
       "  <tbody>\n",
       "    <tr>\n",
       "      <th>1083596943807393792</th>\n",
       "      <th>2019-05-27 23:27:08+00:00</th>\n",
       "      <td>Ah, the Flat Earth gambit.\\nWell played.</td>\n",
       "      <td>True</td>\n",
       "    </tr>\n",
       "    <tr>\n",
       "      <th>815783987784187904</th>\n",
       "      <th>2019-05-24 15:36:01+00:00</th>\n",
       "      <td>Aw ily</td>\n",
       "      <td>False</td>\n",
       "    </tr>\n",
       "    <tr>\n",
       "      <th>3458239641</th>\n",
       "      <th>2019-05-24 19:00:37+00:00</th>\n",
       "      <td>I hate being sick</td>\n",
       "      <td>False</td>\n",
       "    </tr>\n",
       "    <tr>\n",
       "      <th>1003729876250226688</th>\n",
       "      <th>2019-05-26 12:53:00+00:00</th>\n",
       "      <td>You still didn't' do shit tho. Slow down the...</td>\n",
       "      <td>True</td>\n",
       "    </tr>\n",
       "    <tr>\n",
       "      <th>2360143940</th>\n",
       "      <th>2019-05-28 03:50:46+00:00</th>\n",
       "      <td>Harriet Tubman may not be on the $20 bill... f...</td>\n",
       "      <td>False</td>\n",
       "    </tr>\n",
       "  </tbody>\n",
       "</table>\n",
       "</div>"
      ],
      "text/plain": [
       "                                                                                            text  \\\n",
       "id                  time                                                                           \n",
       "1083596943807393792 2019-05-27 23:27:08+00:00           Ah, the Flat Earth gambit.\\nWell played.   \n",
       "815783987784187904  2019-05-24 15:36:01+00:00                                             Aw ily   \n",
       "3458239641          2019-05-24 19:00:37+00:00                                  I hate being sick   \n",
       "1003729876250226688 2019-05-26 12:53:00+00:00    You still didn't' do shit tho. Slow down the...   \n",
       "2360143940          2019-05-28 03:50:46+00:00  Harriet Tubman may not be on the $20 bill... f...   \n",
       "\n",
       "                                                male  \n",
       "id                  time                              \n",
       "1083596943807393792 2019-05-27 23:27:08+00:00   True  \n",
       "815783987784187904  2019-05-24 15:36:01+00:00  False  \n",
       "3458239641          2019-05-24 19:00:37+00:00  False  \n",
       "1003729876250226688 2019-05-26 12:53:00+00:00   True  \n",
       "2360143940          2019-05-28 03:50:46+00:00  False  "
      ]
     },
     "execution_count": 5,
     "metadata": {},
     "output_type": "execute_result"
    }
   ],
   "source": [
    "df_train = pd.read_csv(basepath+TRAIN_INPUT, index_col=['id','time'], parse_dates=['time'])\n",
    "df_valid = pd.read_csv(basepath+VALID_INPUT, index_col=['id','time'], parse_dates=['time'])\n",
    "df_test = pd.read_csv(basepath+TEST_INPUT, index_col=['id','time'], parse_dates=['time'])\n",
    "df_train.head()"
   ]
  },
  {
   "cell_type": "code",
   "execution_count": 6,
   "metadata": {
    "colab": {},
    "colab_type": "code",
    "id": "7uALhDlgHVSk"
   },
   "outputs": [],
   "source": [
    "# Create datasets (Only take up to 150 words for memory)\n",
    "train_text = df_train['text'].tolist()\n",
    "train_text = [' '.join(t.split()[0:150]) for t in train_text]\n",
    "train_text = np.array(train_text, dtype=object)[:, np.newaxis]\n",
    "train_label = df_train['male'].tolist()\n",
    "\n",
    "valid_text = df_valid['text'].tolist()\n",
    "valid_text = [' '.join(t.split()[0:150]) for t in valid_text]\n",
    "valid_text = np.array(valid_text, dtype=object)[:, np.newaxis]\n",
    "valid_label = df_valid['male'].tolist()"
   ]
  },
  {
   "cell_type": "code",
   "execution_count": 7,
   "metadata": {
    "colab": {},
    "colab_type": "code",
    "id": "UQ3aiS9aILav"
   },
   "outputs": [],
   "source": [
    "# Initialize session\n",
    "tf.logging.set_verbosity(tf.logging.ERROR)\n",
    "sess = tf.Session()\n",
    "K.set_session(sess)"
   ]
  },
  {
   "cell_type": "code",
   "execution_count": 8,
   "metadata": {
    "colab": {},
    "colab_type": "code",
    "id": "msrIKUwkHVSf"
   },
   "outputs": [],
   "source": [
    "# Create a custom layer that allows us to update weights (lambda layers do not have trainable parameters!)\n",
    "\n",
    "class USEEmbeddingLayer(Layer):\n",
    "    def __init__(self, trainable=True, **kwargs):\n",
    "        self.dimensions = EMBEDDING_DIM\n",
    "        super(USEEmbeddingLayer, self).__init__(**kwargs)\n",
    "        self.trainable=trainable\n",
    "\n",
    "    def build(self, input_shape):\n",
    "        self.use = hub.Module('https://tfhub.dev/google/universal-sentence-encoder-large/3', trainable=True, #self.trainable,\n",
    "                               name=\"{}_module\".format(self.name))\n",
    "        wts = tf.trainable_variables(scope=\".*{}_module/.*\".format(self.name))\n",
    "        wts = [v for v in wts if not (\"SNLI\" in v.name or \"SHARED_RANK_ANSWER\" in v.name)]\n",
    "        if len(wts)>0:\n",
    "          if self.trainable:\n",
    "            self._trainable_weights += wts\n",
    "          else:\n",
    "            self._non_trainable_weights += wts\n",
    "        else:\n",
    "          print('WARNING: No weights in Embedding Layer')\n",
    "        super(USEEmbeddingLayer, self).build(input_shape)\n",
    "\n",
    "   \n",
    "    def call(self, x, mask=None):\n",
    "        result = self.use(tf.squeeze(tf.cast(x, tf.string), axis=1))\n",
    "        return result\n",
    "\n",
    "    def compute_mask(self, inputs, mask=None):\n",
    "        return tf.not_equal(inputs, '--PAD--')\n",
    "\n",
    "    def compute_output_shape(self, input_shape):\n",
    "        return (input_shape[0], self.dimensions)\n"
   ]
  },
  {
   "cell_type": "code",
   "execution_count": 9,
   "metadata": {
    "colab": {},
    "colab_type": "code",
    "id": "U_XQHdk5HVSh"
   },
   "outputs": [],
   "source": [
    "# Function to build model\n",
    "def build_model(train_embedding=True, optimizer=Adagrad, lr=.003): \n",
    "  input_text = layers.Input(shape=(1,), dtype=\"string\")\n",
    "  embedding = USEEmbeddingLayer(trainable=train_embedding)(input_text)\n",
    "  dense1 = layers.Dense(512, activation='relu')(embedding)\n",
    "\n",
    "  dropout0 = layers.Dropout(.8)(dense1)\n",
    "  pred = layers.Dense(1, activation='sigmoid')(dropout0)\n",
    "\n",
    "  model = Model(inputs=[input_text], outputs=pred)\n",
    "\n",
    "  model.compile(loss='binary_crossentropy', optimizer=optimizer(lr), metrics=['accuracy'])\n",
    "  model.summary()\n",
    "  \n",
    "  return model"
   ]
  },
  {
   "cell_type": "code",
   "execution_count": 10,
   "metadata": {
    "colab": {
     "base_uri": "https://localhost:8080/",
     "height": 306
    },
    "colab_type": "code",
    "id": "78eTExX1-oK6",
    "outputId": "e356760e-7250-4546-c957-911a346bfaea"
   },
   "outputs": [
    {
     "name": "stdout",
     "output_type": "stream",
     "text": [
      "_________________________________________________________________\n",
      "Layer (type)                 Output Shape              Param #   \n",
      "=================================================================\n",
      "input_1 (InputLayer)         (None, 1)                 0         \n",
      "_________________________________________________________________\n",
      "use_embedding_layer (USEEmbe (None, 512)               211345728 \n",
      "_________________________________________________________________\n",
      "dense (Dense)                (None, 512)               262656    \n",
      "_________________________________________________________________\n",
      "dropout (Dropout)            (None, 512)               0         \n",
      "_________________________________________________________________\n",
      "dense_1 (Dense)              (None, 1)                 513       \n",
      "=================================================================\n",
      "Total params: 211,608,897\n",
      "Trainable params: 211,608,897\n",
      "Non-trainable params: 0\n",
      "_________________________________________________________________\n"
     ]
    }
   ],
   "source": [
    "model = build_model(train_embedding=True)"
   ]
  },
  {
   "cell_type": "code",
   "execution_count": 11,
   "metadata": {},
   "outputs": [],
   "source": [
    "init = tf.global_variables_initializer()\n",
    "table_init = tf.tables_initializer()\n",
    "sess = tf.Session()\n",
    "sess.run([init, table_init])\n",
    "K.set_session(sess)\n",
    "\n",
    "lr = 7e-5\n",
    "model.compile(loss='binary_crossentropy', optimizer=Adam(lr), metrics=['accuracy'])\n",
    "model.load_weights(basepath + MODEL_NAME)"
   ]
  },
  {
   "cell_type": "code",
   "execution_count": 12,
   "metadata": {
    "colab": {
     "base_uri": "https://localhost:8080/",
     "height": 119
    },
    "colab_type": "code",
    "id": "hMyw6GBes3UW",
    "outputId": "7d1c2567-c4c3-481f-fe7f-64f3b3ca8427"
   },
   "outputs": [
    {
     "name": "stdout",
     "output_type": "stream",
     "text": [
      "Test set confusion matrix:\n",
      "[[3205 2020]\n",
      " [1864 3361]]\n",
      "Test set F1 score: 0.6337921930982463\n",
      "Test set accuracy: 0.6283253588516746\n",
      "Test set ROC AUC: 0.6830500766923833\n"
     ]
    }
   ],
   "source": [
    "if do_predict_test:\n",
    "  test_text = df_test['text'].tolist()\n",
    "  test_text = [' '.join(t.split()[0:150]) for t in test_text]\n",
    "  test_text = np.array(test_text, dtype=object)[:, np.newaxis]\n",
    "  y_test = df_test['male']\n",
    "  test_preds = model.predict(test_text)\n",
    "  print('Test set confusion matrix:')\n",
    "  print( confusion_matrix(y_test, (test_preds>.5)))\n",
    "  print('Test set F1 score: {}'.format(f1_score(y_test, test_preds>.5)))\n",
    "  print('Test set accuracy: {}'.format(accuracy_score(y_test, test_preds>.5)))\n",
    "  fpr, tpr, _ = roc_curve(y_test, test_preds)\n",
    "  print('Test set ROC AUC: {}'.format(auc(fpr, tpr)))"
   ]
  },
  {
   "cell_type": "code",
   "execution_count": 13,
   "metadata": {
    "colab": {
     "base_uri": "https://localhost:8080/",
     "height": 312
    },
    "colab_type": "code",
    "id": "j3iXFVwznnhi",
    "outputId": "de4b68c5-cd2e-42b0-8294-056e706c98f7"
   },
   "outputs": [
    {
     "name": "stdout",
     "output_type": "stream",
     "text": [
      "Test set ROC AUC: 0.6830500766923833\n"
     ]
    },
    {
     "data": {
      "image/png": "[encoded data removed]",
      "text/plain": [
       "<Figure size 432x288 with 1 Axes>"
      ]
     },
     "metadata": {
      "needs_background": "light"
     },
     "output_type": "display_data"
    }
   ],
   "source": [
    "roc_auc = auc(fpr, tpr)\n",
    "\n",
    "plt.figure()\n",
    "plt.plot(fpr, tpr, color='darkorange',\n",
    "         lw=1, label='ROC curve (area = %0.3f)' % roc_auc)\n",
    "plt.plot([0, 1], [0, 1], color='navy', lw=1, linestyle='--')\n",
    "plt.xlim([0.0, 1.0])\n",
    "plt.ylim([0.0, 1.05])\n",
    "plt.xlabel('False Positive Rate')\n",
    "plt.ylabel('True Positive Rate')\n",
    "plt.title('Receiver operating characteristic curve')\n",
    "plt.legend(loc=\"lower right\")\n",
    "print('Test set ROC AUC: {}'.format(auc(fpr, tpr)))\n",
    "plt.show()"
   ]
  },
  {
   "cell_type": "code",
   "execution_count": 17,
   "metadata": {
    "colab": {
     "base_uri": "https://localhost:8080/",
     "height": 269
    },
    "colab_type": "code",
    "id": "NiyQFDcXoA46",
    "outputId": "79f61bb4-4cf1-4152-aa52-1d4485c49842"
   },
   "outputs": [
    {
     "data": {
      "image/png": "[encoded data removed]",
      "text/plain": [
       "<Figure size 432x288 with 1 Axes>"
      ]
     },
     "metadata": {
      "needs_background": "light"
     },
     "output_type": "display_data"
    }
   ],
   "source": [
    "predicted = test_preds.reshape(-1)\n",
    "pd.Series(predicted).hist(bins=20)\n",
    "plt.show()"
   ]
  },
  {
   "cell_type": "code",
   "execution_count": 24,
   "metadata": {
    "colab": {
     "base_uri": "https://localhost:8080/",
     "height": 390
    },
    "colab_type": "code",
    "id": "lHUWAp2foI9h",
    "outputId": "5ff1db4a-8543-4a58-8473-b9828487b573"
   },
   "outputs": [
    {
     "data": {
      "text/html": [
       "<div>\n",
       "<style scoped>\n",
       "    .dataframe tbody tr th:only-of-type {\n",
       "        vertical-align: middle;\n",
       "    }\n",
       "\n",
       "    .dataframe tbody tr th {\n",
       "        vertical-align: top;\n",
       "    }\n",
       "\n",
       "    .dataframe thead th {\n",
       "        text-align: right;\n",
       "    }\n",
       "</style>\n",
       "<table border=\"1\" class=\"dataframe\">\n",
       "  <thead>\n",
       "    <tr style=\"text-align: right;\">\n",
       "      <th></th>\n",
       "      <th></th>\n",
       "      <th>count</th>\n",
       "      <th>accuracy</th>\n",
       "      <th>lconf95</th>\n",
       "      <th>hconf95</th>\n",
       "    </tr>\n",
       "    <tr>\n",
       "      <th>minprob</th>\n",
       "      <th>maxprob</th>\n",
       "      <th></th>\n",
       "      <th></th>\n",
       "      <th></th>\n",
       "      <th></th>\n",
       "    </tr>\n",
       "  </thead>\n",
       "  <tbody>\n",
       "    <tr>\n",
       "      <th>0.00</th>\n",
       "      <th>0.05</th>\n",
       "      <td>0</td>\n",
       "      <td>NaN</td>\n",
       "      <td>NaN</td>\n",
       "      <td>NaN</td>\n",
       "    </tr>\n",
       "    <tr>\n",
       "      <th>0.05</th>\n",
       "      <th>0.10</th>\n",
       "      <td>26</td>\n",
       "      <td>0.961538</td>\n",
       "      <td>0.887619</td>\n",
       "      <td>1.000000</td>\n",
       "    </tr>\n",
       "    <tr>\n",
       "      <th>0.10</th>\n",
       "      <th>0.15</th>\n",
       "      <td>82</td>\n",
       "      <td>0.914634</td>\n",
       "      <td>0.854155</td>\n",
       "      <td>0.975113</td>\n",
       "    </tr>\n",
       "    <tr>\n",
       "      <th>0.15</th>\n",
       "      <th>0.20</th>\n",
       "      <td>220</td>\n",
       "      <td>0.850000</td>\n",
       "      <td>0.802816</td>\n",
       "      <td>0.897184</td>\n",
       "    </tr>\n",
       "    <tr>\n",
       "      <th>0.20</th>\n",
       "      <th>0.25</th>\n",
       "      <td>362</td>\n",
       "      <td>0.743094</td>\n",
       "      <td>0.698085</td>\n",
       "      <td>0.788103</td>\n",
       "    </tr>\n",
       "    <tr>\n",
       "      <th>0.25</th>\n",
       "      <th>0.30</th>\n",
       "      <td>475</td>\n",
       "      <td>0.720000</td>\n",
       "      <td>0.679622</td>\n",
       "      <td>0.760378</td>\n",
       "    </tr>\n",
       "    <tr>\n",
       "      <th>0.30</th>\n",
       "      <th>0.35</th>\n",
       "      <td>629</td>\n",
       "      <td>0.707472</td>\n",
       "      <td>0.671920</td>\n",
       "      <td>0.743024</td>\n",
       "    </tr>\n",
       "    <tr>\n",
       "      <th>0.35</th>\n",
       "      <th>0.40</th>\n",
       "      <td>762</td>\n",
       "      <td>0.639108</td>\n",
       "      <td>0.605008</td>\n",
       "      <td>0.673207</td>\n",
       "    </tr>\n",
       "    <tr>\n",
       "      <th>0.40</th>\n",
       "      <th>0.45</th>\n",
       "      <td>1189</td>\n",
       "      <td>0.571909</td>\n",
       "      <td>0.543784</td>\n",
       "      <td>0.600034</td>\n",
       "    </tr>\n",
       "    <tr>\n",
       "      <th>0.45</th>\n",
       "      <th>0.50</th>\n",
       "      <td>1324</td>\n",
       "      <td>0.524924</td>\n",
       "      <td>0.498026</td>\n",
       "      <td>0.551823</td>\n",
       "    </tr>\n",
       "    <tr>\n",
       "      <th>0.50</th>\n",
       "      <th>0.55</th>\n",
       "      <td>1361</td>\n",
       "      <td>0.525349</td>\n",
       "      <td>0.498819</td>\n",
       "      <td>0.551879</td>\n",
       "    </tr>\n",
       "    <tr>\n",
       "      <th>0.55</th>\n",
       "      <th>0.60</th>\n",
       "      <td>1302</td>\n",
       "      <td>0.567588</td>\n",
       "      <td>0.540679</td>\n",
       "      <td>0.594498</td>\n",
       "    </tr>\n",
       "    <tr>\n",
       "      <th>0.60</th>\n",
       "      <th>0.65</th>\n",
       "      <td>924</td>\n",
       "      <td>0.633117</td>\n",
       "      <td>0.602041</td>\n",
       "      <td>0.664192</td>\n",
       "    </tr>\n",
       "    <tr>\n",
       "      <th>0.65</th>\n",
       "      <th>0.70</th>\n",
       "      <td>629</td>\n",
       "      <td>0.647059</td>\n",
       "      <td>0.609713</td>\n",
       "      <td>0.684405</td>\n",
       "    </tr>\n",
       "    <tr>\n",
       "      <th>0.70</th>\n",
       "      <th>0.75</th>\n",
       "      <td>450</td>\n",
       "      <td>0.720000</td>\n",
       "      <td>0.678515</td>\n",
       "      <td>0.761485</td>\n",
       "    </tr>\n",
       "    <tr>\n",
       "      <th>0.75</th>\n",
       "      <th>0.80</th>\n",
       "      <td>238</td>\n",
       "      <td>0.764706</td>\n",
       "      <td>0.710815</td>\n",
       "      <td>0.818596</td>\n",
       "    </tr>\n",
       "    <tr>\n",
       "      <th>0.80</th>\n",
       "      <th>0.85</th>\n",
       "      <td>195</td>\n",
       "      <td>0.851282</td>\n",
       "      <td>0.801342</td>\n",
       "      <td>0.901222</td>\n",
       "    </tr>\n",
       "    <tr>\n",
       "      <th>0.85</th>\n",
       "      <th>0.90</th>\n",
       "      <td>226</td>\n",
       "      <td>0.836283</td>\n",
       "      <td>0.788042</td>\n",
       "      <td>0.884524</td>\n",
       "    </tr>\n",
       "    <tr>\n",
       "      <th>0.90</th>\n",
       "      <th>0.95</th>\n",
       "      <td>56</td>\n",
       "      <td>0.964286</td>\n",
       "      <td>0.915681</td>\n",
       "      <td>1.000000</td>\n",
       "    </tr>\n",
       "    <tr>\n",
       "      <th>0.95</th>\n",
       "      <th>1.00</th>\n",
       "      <td>0</td>\n",
       "      <td>NaN</td>\n",
       "      <td>NaN</td>\n",
       "      <td>NaN</td>\n",
       "    </tr>\n",
       "  </tbody>\n",
       "</table>\n",
       "</div>"
      ],
      "text/plain": [
       "                count  accuracy   lconf95   hconf95\n",
       "minprob maxprob                                    \n",
       "0.00    0.05        0       NaN       NaN       NaN\n",
       "0.05    0.10       26  0.961538  0.887619  1.000000\n",
       "0.10    0.15       82  0.914634  0.854155  0.975113\n",
       "0.15    0.20      220  0.850000  0.802816  0.897184\n",
       "0.20    0.25      362  0.743094  0.698085  0.788103\n",
       "0.25    0.30      475  0.720000  0.679622  0.760378\n",
       "0.30    0.35      629  0.707472  0.671920  0.743024\n",
       "0.35    0.40      762  0.639108  0.605008  0.673207\n",
       "0.40    0.45     1189  0.571909  0.543784  0.600034\n",
       "0.45    0.50     1324  0.524924  0.498026  0.551823\n",
       "0.50    0.55     1361  0.525349  0.498819  0.551879\n",
       "0.55    0.60     1302  0.567588  0.540679  0.594498\n",
       "0.60    0.65      924  0.633117  0.602041  0.664192\n",
       "0.65    0.70      629  0.647059  0.609713  0.684405\n",
       "0.70    0.75      450  0.720000  0.678515  0.761485\n",
       "0.75    0.80      238  0.764706  0.710815  0.818596\n",
       "0.80    0.85      195  0.851282  0.801342  0.901222\n",
       "0.85    0.90      226  0.836283  0.788042  0.884524\n",
       "0.90    0.95       56  0.964286  0.915681  1.000000\n",
       "0.95    1.00        0       NaN       NaN       NaN"
      ]
     },
     "execution_count": 24,
     "metadata": {},
     "output_type": "execute_result"
    }
   ],
   "source": [
    "def probcats(nbins):\n",
    "    df_acc = pd.DataFrame(columns=['minprob','maxprob','count','accuracy','lconf95','hconf95'])\n",
    "    for pbot in np.linspace(0,1-1/nbins,nbins):\n",
    "        ptop = pbot+1/nbins\n",
    "        mask = (predicted>=pbot)&(predicted<ptop)\n",
    "        count = int(mask.sum())\n",
    "        if count>0:\n",
    "            actual = pd.Series(y_test)[mask].values\n",
    "            pred_prob = pd.Series(predicted)[mask].values\n",
    "            pred_bin = pred_prob>.5\n",
    "            acc = accuracy_score(actual, pred_bin)\n",
    "            nsucc = sum(actual==pred_bin)\n",
    "            confint = proportion_confint(nsucc, count)\n",
    "            minconf = confint[0]\n",
    "            maxconf = confint[1]\n",
    "        else:\n",
    "            acc = np.nan\n",
    "            minconf = np.nan\n",
    "            maxconf = np.nan\n",
    "        row = pd.DataFrame({'minprob':[pbot], 'maxprob':[ptop], 'count':[count], \n",
    "                            'accuracy':[acc], 'lconf95':[minconf], 'hconf95':[maxconf]})\n",
    "        df_acc = pd.concat([df_acc, row], sort=False)\n",
    "    return(df_acc.set_index(['minprob','maxprob']))\n",
    "df_acc = probcats(20)\n",
    "df_acc"
   ]
  },
  {
   "cell_type": "code",
   "execution_count": 30,
   "metadata": {
    "colab": {
     "base_uri": "https://localhost:8080/",
     "height": 295
    },
    "colab_type": "code",
    "id": "N_xoGeWpxCZ6",
    "outputId": "a56f3202-f454-4987-e735-82c0f2fe132f"
   },
   "outputs": [
    {
     "data": {
      "image/png": "[encoded data removed]",
      "text/plain": [
       "<Figure size 432x288 with 1 Axes>"
      ]
     },
     "metadata": {
      "needs_background": "light"
     },
     "output_type": "display_data"
    }
   ],
   "source": [
    "def display_perf(df):\n",
    "    df = df.reset_index()\n",
    "    df['avgprob'] = .5*(df.minprob + df.maxprob)\n",
    "    ax = df.drop(['count','minprob','maxprob'],axis=1).set_index('avgprob').plot(\n",
    "            title='Accuracy of Predictions by Range')\n",
    "    ax.legend(labels=['accuracy', '95% conf, lower', '95% conf, upper'])\n",
    "    ax.set(xlabel=\"center of probability bin\", ylabel=\"fraction of correct predicitons\")\n",
    "    plt.show()\n",
    "display_perf(df_acc)"
   ]
  },
  {
   "cell_type": "code",
   "execution_count": 33,
   "metadata": {},
   "outputs": [
    {
     "data": {
      "text/html": [
       "<div>\n",
       "<style scoped>\n",
       "    .dataframe tbody tr th:only-of-type {\n",
       "        vertical-align: middle;\n",
       "    }\n",
       "\n",
       "    .dataframe tbody tr th {\n",
       "        vertical-align: top;\n",
       "    }\n",
       "\n",
       "    .dataframe thead th {\n",
       "        text-align: right;\n",
       "    }\n",
       "</style>\n",
       "<table border=\"1\" class=\"dataframe\">\n",
       "  <thead>\n",
       "    <tr style=\"text-align: right;\">\n",
       "      <th></th>\n",
       "      <th></th>\n",
       "      <th>count</th>\n",
       "      <th>accuracy</th>\n",
       "      <th>lconf95</th>\n",
       "      <th>hconf95</th>\n",
       "    </tr>\n",
       "    <tr>\n",
       "      <th>minprob</th>\n",
       "      <th>maxprob</th>\n",
       "      <th></th>\n",
       "      <th></th>\n",
       "      <th></th>\n",
       "      <th></th>\n",
       "    </tr>\n",
       "  </thead>\n",
       "  <tbody>\n",
       "    <tr>\n",
       "      <th>0.00</th>\n",
       "      <th>0.25</th>\n",
       "      <td>690</td>\n",
       "      <td>0.805797</td>\n",
       "      <td>0.776281</td>\n",
       "      <td>0.835314</td>\n",
       "    </tr>\n",
       "    <tr>\n",
       "      <th>0.25</th>\n",
       "      <th>0.50</th>\n",
       "      <td>4379</td>\n",
       "      <td>0.604933</td>\n",
       "      <td>0.590453</td>\n",
       "      <td>0.619412</td>\n",
       "    </tr>\n",
       "    <tr>\n",
       "      <th>0.50</th>\n",
       "      <th>0.75</th>\n",
       "      <td>4666</td>\n",
       "      <td>0.593656</td>\n",
       "      <td>0.579564</td>\n",
       "      <td>0.607749</td>\n",
       "    </tr>\n",
       "    <tr>\n",
       "      <th>0.75</th>\n",
       "      <th>1.00</th>\n",
       "      <td>715</td>\n",
       "      <td>0.826573</td>\n",
       "      <td>0.798821</td>\n",
       "      <td>0.854325</td>\n",
       "    </tr>\n",
       "  </tbody>\n",
       "</table>\n",
       "</div>"
      ],
      "text/plain": [
       "                count  accuracy   lconf95   hconf95\n",
       "minprob maxprob                                    \n",
       "0.00    0.25      690  0.805797  0.776281  0.835314\n",
       "0.25    0.50     4379  0.604933  0.590453  0.619412\n",
       "0.50    0.75     4666  0.593656  0.579564  0.607749\n",
       "0.75    1.00      715  0.826573  0.798821  0.854325"
      ]
     },
     "execution_count": 33,
     "metadata": {},
     "output_type": "execute_result"
    }
   ],
   "source": [
    "df4 = probcats(4)\n",
    "df4"
   ]
  },
  {
   "cell_type": "code",
   "execution_count": 34,
   "metadata": {},
   "outputs": [
    {
     "data": {
      "text/plain": [
       "10450"
      ]
     },
     "execution_count": 34,
     "metadata": {},
     "output_type": "execute_result"
    }
   ],
   "source": [
    "len(y_test)"
   ]
  },
  {
   "cell_type": "code",
   "execution_count": 1,
   "metadata": {},
   "outputs": [
    {
     "data": {
      "text/plain": [
       "0.13444976076555024"
      ]
     },
     "execution_count": 1,
     "metadata": {},
     "output_type": "execute_result"
    }
   ],
   "source": [
    "(690+715)/10450"
   ]
  },
  {
   "cell_type": "code",
   "execution_count": null,
   "metadata": {},
   "outputs": [],
   "source": []
  }
 ],
 "metadata": {
  "accelerator": "GPU",
  "colab": {
   "collapsed_sections": [],
   "include_colab_link": true,
   "name": "twitgen_usel_best_show_perform.ipynb",
   "provenance": [],
   "version": "0.3.2"
  },
  "kernelspec": {
   "display_name": "tf1",
   "language": "python",
   "name": "tf1"
  },
  "language_info": {
   "codemirror_mode": {
    "name": "ipython",
    "version": 3
   },
   "file_extension": ".py",
   "mimetype": "text/x-python",
   "name": "python",
   "nbconvert_exporter": "python",
   "pygments_lexer": "ipython3",
   "version": "3.7.3"
  }
 },
 "nbformat": 4,
 "nbformat_minor": 1
}
