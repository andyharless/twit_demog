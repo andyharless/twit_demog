{
 "cells": [
  {
   "cell_type": "code",
   "execution_count": 2,
   "metadata": {},
   "outputs": [],
   "source": [
    "DATAPATH = '../data/'\n",
    "XFERPATH = '~/downloads/'  # To transfer files from Google Colab\n",
    "FNAME = 'embeds_agg.csv'"
   ]
  },
  {
   "cell_type": "code",
   "execution_count": 3,
   "metadata": {},
   "outputs": [],
   "source": [
    "frompath = XFERPATH + FNAME\n",
    "topath = DATAPATH + FNAME\n",
    "!cp $frompath $topath"
   ]
  },
  {
   "cell_type": "code",
   "execution_count": 4,
   "metadata": {},
   "outputs": [],
   "source": [
    "import lightgbm as lgb\n",
    "import pandas as pd\n",
    "import gender_guesser.detector as gender\n",
    "import numpy as np\n",
    "from sklearn.metrics import confusion_matrix\n",
    "from sklearn.metrics import accuracy_score\n",
    "from sklearn.metrics import f1_score\n",
    "from sklearn.metrics import roc_curve, auc\n",
    "import matplotlib.pyplot as plt"
   ]
  },
  {
   "cell_type": "code",
   "execution_count": 116,
   "metadata": {},
   "outputs": [
    {
     "data": {
      "text/html": [
       "<div>\n",
       "<style scoped>\n",
       "    .dataframe tbody tr th:only-of-type {\n",
       "        vertical-align: middle;\n",
       "    }\n",
       "\n",
       "    .dataframe tbody tr th {\n",
       "        vertical-align: top;\n",
       "    }\n",
       "\n",
       "    .dataframe thead th {\n",
       "        text-align: right;\n",
       "    }\n",
       "</style>\n",
       "<table border=\"1\" class=\"dataframe\">\n",
       "  <thead>\n",
       "    <tr style=\"text-align: right;\">\n",
       "      <th></th>\n",
       "      <th></th>\n",
       "      <th>name</th>\n",
       "      <th>male</th>\n",
       "      <th>embed0</th>\n",
       "      <th>embed1</th>\n",
       "      <th>embed2</th>\n",
       "      <th>embed3</th>\n",
       "      <th>embed4</th>\n",
       "    </tr>\n",
       "    <tr>\n",
       "      <th>id</th>\n",
       "      <th>time</th>\n",
       "      <th></th>\n",
       "      <th></th>\n",
       "      <th></th>\n",
       "      <th></th>\n",
       "      <th></th>\n",
       "      <th></th>\n",
       "      <th></th>\n",
       "    </tr>\n",
       "  </thead>\n",
       "  <tbody>\n",
       "    <tr>\n",
       "      <th>425472153</th>\n",
       "      <th>2019-05-25 20:24:48+00:00</th>\n",
       "      <td>Queen K</td>\n",
       "      <td>False</td>\n",
       "      <td>9156</td>\n",
       "      <td>-31075</td>\n",
       "      <td>-21194</td>\n",
       "      <td>41023</td>\n",
       "      <td>33810</td>\n",
       "    </tr>\n",
       "    <tr>\n",
       "      <th>1081873499621273601</th>\n",
       "      <th>2019-05-25 20:24:48+00:00</th>\n",
       "      <td>Alexandru Constantin</td>\n",
       "      <td>True</td>\n",
       "      <td>-34055</td>\n",
       "      <td>62140</td>\n",
       "      <td>-33476</td>\n",
       "      <td>1849</td>\n",
       "      <td>42774</td>\n",
       "    </tr>\n",
       "    <tr>\n",
       "      <th>987721418</th>\n",
       "      <th>2019-05-25 20:24:48+00:00</th>\n",
       "      <td>Susie Carmichael</td>\n",
       "      <td>False</td>\n",
       "      <td>-38618</td>\n",
       "      <td>12734</td>\n",
       "      <td>6150</td>\n",
       "      <td>6856</td>\n",
       "      <td>29976</td>\n",
       "    </tr>\n",
       "    <tr>\n",
       "      <th>980758839770451973</th>\n",
       "      <th>2019-05-25 20:24:52+00:00</th>\n",
       "      <td>Princess Sih.</td>\n",
       "      <td>False</td>\n",
       "      <td>-19252</td>\n",
       "      <td>-1482</td>\n",
       "      <td>-14205</td>\n",
       "      <td>-25178</td>\n",
       "      <td>-47939</td>\n",
       "    </tr>\n",
       "    <tr>\n",
       "      <th>838620336367218692</th>\n",
       "      <th>2019-05-25 20:24:53+00:00</th>\n",
       "      <td>Reid Kisselback</td>\n",
       "      <td>True</td>\n",
       "      <td>-40698</td>\n",
       "      <td>32644</td>\n",
       "      <td>3243</td>\n",
       "      <td>-35412</td>\n",
       "      <td>61766</td>\n",
       "    </tr>\n",
       "  </tbody>\n",
       "</table>\n",
       "</div>"
      ],
      "text/plain": [
       "                                                               name   male  \\\n",
       "id                  time                                                     \n",
       "425472153           2019-05-25 20:24:48+00:00               Queen K  False   \n",
       "1081873499621273601 2019-05-25 20:24:48+00:00  Alexandru Constantin   True   \n",
       "987721418           2019-05-25 20:24:48+00:00      Susie Carmichael  False   \n",
       "980758839770451973  2019-05-25 20:24:52+00:00         Princess Sih.  False   \n",
       "838620336367218692  2019-05-25 20:24:53+00:00       Reid Kisselback   True   \n",
       "\n",
       "                                               embed0  embed1  embed2  embed3  \\\n",
       "id                  time                                                        \n",
       "425472153           2019-05-25 20:24:48+00:00    9156  -31075  -21194   41023   \n",
       "1081873499621273601 2019-05-25 20:24:48+00:00  -34055   62140  -33476    1849   \n",
       "987721418           2019-05-25 20:24:48+00:00  -38618   12734    6150    6856   \n",
       "980758839770451973  2019-05-25 20:24:52+00:00  -19252   -1482  -14205  -25178   \n",
       "838620336367218692  2019-05-25 20:24:53+00:00  -40698   32644    3243  -35412   \n",
       "\n",
       "                                               embed4  \n",
       "id                  time                               \n",
       "425472153           2019-05-25 20:24:48+00:00   33810  \n",
       "1081873499621273601 2019-05-25 20:24:48+00:00   42774  \n",
       "987721418           2019-05-25 20:24:48+00:00   29976  \n",
       "980758839770451973  2019-05-25 20:24:52+00:00  -47939  \n",
       "838620336367218692  2019-05-25 20:24:53+00:00   61766  "
      ]
     },
     "execution_count": 116,
     "metadata": {},
     "output_type": "execute_result"
    }
   ],
   "source": [
    "df = pd.read_csv(DATAPATH+FNAME,index_col=[0,1],parse_dates=['time']).drop(['text'],axis=1)\n",
    "df.head().iloc[:,:7]"
   ]
  },
  {
   "cell_type": "code",
   "execution_count": 117,
   "metadata": {},
   "outputs": [
    {
     "name": "stdout",
     "output_type": "stream",
     "text": [
      "(29678, 514)\n"
     ]
    },
    {
     "data": {
      "text/plain": [
       "(Timestamp('2019-05-21 17:50:48+0000', tz='UTC'),\n",
       " Timestamp('2019-05-26 12:53:53+0000', tz='UTC'))"
      ]
     },
     "execution_count": 117,
     "metadata": {},
     "output_type": "execute_result"
    }
   ],
   "source": [
    "print(df.shape)\n",
    "df.index.get_level_values(1).min(), df.index.get_level_values(1).max()"
   ]
  },
  {
   "cell_type": "code",
   "execution_count": 118,
   "metadata": {},
   "outputs": [
    {
     "data": {
      "text/html": [
       "<div>\n",
       "<style scoped>\n",
       "    .dataframe tbody tr th:only-of-type {\n",
       "        vertical-align: middle;\n",
       "    }\n",
       "\n",
       "    .dataframe tbody tr th {\n",
       "        vertical-align: top;\n",
       "    }\n",
       "\n",
       "    .dataframe thead th {\n",
       "        text-align: right;\n",
       "    }\n",
       "</style>\n",
       "<table border=\"1\" class=\"dataframe\">\n",
       "  <thead>\n",
       "    <tr style=\"text-align: right;\">\n",
       "      <th></th>\n",
       "      <th></th>\n",
       "      <th>name</th>\n",
       "      <th>male</th>\n",
       "      <th>embed0</th>\n",
       "      <th>embed1</th>\n",
       "      <th>embed2</th>\n",
       "      <th>embed3</th>\n",
       "      <th>embed4</th>\n",
       "    </tr>\n",
       "    <tr>\n",
       "      <th>id</th>\n",
       "      <th>time</th>\n",
       "      <th></th>\n",
       "      <th></th>\n",
       "      <th></th>\n",
       "      <th></th>\n",
       "      <th></th>\n",
       "      <th></th>\n",
       "      <th></th>\n",
       "    </tr>\n",
       "  </thead>\n",
       "  <tbody>\n",
       "    <tr>\n",
       "      <th>211806644</th>\n",
       "      <th>2019-05-21 17:50:48+00:00</th>\n",
       "      <td>Tabitha Rayne</td>\n",
       "      <td>False</td>\n",
       "      <td>36840</td>\n",
       "      <td>45825</td>\n",
       "      <td>-8880</td>\n",
       "      <td>20461</td>\n",
       "      <td>33486</td>\n",
       "    </tr>\n",
       "    <tr>\n",
       "      <th>1703564846</th>\n",
       "      <th>2019-05-21 17:50:48+00:00</th>\n",
       "      <td>Dimitri 🖤</td>\n",
       "      <td>True</td>\n",
       "      <td>-42156</td>\n",
       "      <td>32908</td>\n",
       "      <td>-17450</td>\n",
       "      <td>3590</td>\n",
       "      <td>-43536</td>\n",
       "    </tr>\n",
       "    <tr>\n",
       "      <th>971515498411241472</th>\n",
       "      <th>2019-05-21 17:50:48+00:00</th>\n",
       "      <td>Paola Vela</td>\n",
       "      <td>False</td>\n",
       "      <td>68532</td>\n",
       "      <td>13781</td>\n",
       "      <td>-52797</td>\n",
       "      <td>555</td>\n",
       "      <td>-125</td>\n",
       "    </tr>\n",
       "    <tr>\n",
       "      <th>21947445</th>\n",
       "      <th>2019-05-21 17:50:49+00:00</th>\n",
       "      <td>Nathalie</td>\n",
       "      <td>False</td>\n",
       "      <td>42295</td>\n",
       "      <td>-7144</td>\n",
       "      <td>-4412</td>\n",
       "      <td>-29190</td>\n",
       "      <td>31147</td>\n",
       "    </tr>\n",
       "    <tr>\n",
       "      <th>621596924</th>\n",
       "      <th>2019-05-21 17:50:49+00:00</th>\n",
       "      <td>Evan Boland</td>\n",
       "      <td>True</td>\n",
       "      <td>47176</td>\n",
       "      <td>-5129</td>\n",
       "      <td>-26225</td>\n",
       "      <td>-38181</td>\n",
       "      <td>-17701</td>\n",
       "    </tr>\n",
       "  </tbody>\n",
       "</table>\n",
       "</div>"
      ],
      "text/plain": [
       "                                                       name   male  embed0  \\\n",
       "id                 time                                                      \n",
       "211806644          2019-05-21 17:50:48+00:00  Tabitha Rayne  False   36840   \n",
       "1703564846         2019-05-21 17:50:48+00:00      Dimitri 🖤   True  -42156   \n",
       "971515498411241472 2019-05-21 17:50:48+00:00     Paola Vela  False   68532   \n",
       "21947445           2019-05-21 17:50:49+00:00       Nathalie  False   42295   \n",
       "621596924          2019-05-21 17:50:49+00:00    Evan Boland   True   47176   \n",
       "\n",
       "                                              embed1  embed2  embed3  embed4  \n",
       "id                 time                                                       \n",
       "211806644          2019-05-21 17:50:48+00:00   45825   -8880   20461   33486  \n",
       "1703564846         2019-05-21 17:50:48+00:00   32908  -17450    3590  -43536  \n",
       "971515498411241472 2019-05-21 17:50:48+00:00   13781  -52797     555    -125  \n",
       "21947445           2019-05-21 17:50:49+00:00   -7144   -4412  -29190   31147  \n",
       "621596924          2019-05-21 17:50:49+00:00   -5129  -26225  -38181  -17701  "
      ]
     },
     "execution_count": 118,
     "metadata": {},
     "output_type": "execute_result"
    }
   ],
   "source": [
    "df = df.sort_index(level='time')\n",
    "df.head().iloc[:,:7]"
   ]
  },
  {
   "cell_type": "code",
   "execution_count": 119,
   "metadata": {},
   "outputs": [],
   "source": [
    "n_train = int(.6*df.shape[0])\n",
    "n_val = int(.2*df.shape[0])\n",
    "n_test = df.shape[0] - n_val - n_train\n",
    "train_ids = set(df.index.get_level_values(0)[:n_train])\n",
    "val_ids = set(df.index.get_level_values(0)[n_train:n_train+n_val]) - train_ids\n",
    "test_ids = set(df.index.get_level_values(0)[n_train+n_val:]) - train_ids - val_ids"
   ]
  },
  {
   "cell_type": "code",
   "execution_count": 120,
   "metadata": {},
   "outputs": [
    {
     "data": {
      "text/plain": [
       "(17403, 5680, 5611)"
      ]
     },
     "execution_count": 120,
     "metadata": {},
     "output_type": "execute_result"
    }
   ],
   "source": [
    "len(train_ids), len(val_ids), len(test_ids)"
   ]
  },
  {
   "cell_type": "code",
   "execution_count": 121,
   "metadata": {},
   "outputs": [
    {
     "data": {
      "text/plain": [
       "((17806, 514), (5935, 514), (5937, 514))"
      ]
     },
     "execution_count": 121,
     "metadata": {},
     "output_type": "execute_result"
    }
   ],
   "source": [
    "df_train = df.iloc[:n_train,:].copy()\n",
    "df_valid = df.iloc[n_train:n_train+n_val,:].copy()\n",
    "df_test = df.iloc[n_train+n_val:,:].copy()\n",
    "df_train.shape, df_valid.shape, df_test.shape"
   ]
  },
  {
   "cell_type": "code",
   "execution_count": 122,
   "metadata": {},
   "outputs": [
    {
     "data": {
      "text/plain": [
       "((17806, 514), (5775, 514), (5724, 514))"
      ]
     },
     "execution_count": 122,
     "metadata": {},
     "output_type": "execute_result"
    }
   ],
   "source": [
    "train_select = [v in train_ids for v in df_train.index.get_level_values(0).values.tolist()]\n",
    "valid_select = [v in val_ids for v in df_valid.index.get_level_values(0).values.tolist()]\n",
    "test_select = [v in test_ids for v in df_test.index.get_level_values(0).values.tolist()]\n",
    "df_train = df_train[train_select]\n",
    "df_valid = df_valid[valid_select]\n",
    "df_test = df_test[test_select]\n",
    "df_train.shape, df_valid.shape, df_test.shape"
   ]
  },
  {
   "cell_type": "code",
   "execution_count": 123,
   "metadata": {},
   "outputs": [
    {
     "data": {
      "text/plain": [
       "(Timestamp('2019-05-21 17:50:48+0000', tz='UTC'),\n",
       " Timestamp('2019-05-25 11:55:21+0000', tz='UTC'))"
      ]
     },
     "execution_count": 123,
     "metadata": {},
     "output_type": "execute_result"
    }
   ],
   "source": [
    "df_train.index.get_level_values(1).min(), df_train.index.get_level_values(1).max()"
   ]
  },
  {
   "cell_type": "code",
   "execution_count": 124,
   "metadata": {},
   "outputs": [
    {
     "data": {
      "text/plain": [
       "(Timestamp('2019-05-25 11:55:22+0000', tz='UTC'),\n",
       " Timestamp('2019-05-26 06:32:23+0000', tz='UTC'))"
      ]
     },
     "execution_count": 124,
     "metadata": {},
     "output_type": "execute_result"
    }
   ],
   "source": [
    "df_valid.index.get_level_values(1).min(), df_valid.index.get_level_values(1).max()"
   ]
  },
  {
   "cell_type": "code",
   "execution_count": 125,
   "metadata": {},
   "outputs": [
    {
     "data": {
      "text/plain": [
       "(Timestamp('2019-05-26 06:32:25+0000', tz='UTC'),\n",
       " Timestamp('2019-05-26 12:53:53+0000', tz='UTC'))"
      ]
     },
     "execution_count": 125,
     "metadata": {},
     "output_type": "execute_result"
    }
   ],
   "source": [
    "df_test.index.get_level_values(1)[0], df_test.index.get_level_values(1)[-1]"
   ]
  },
  {
   "cell_type": "code",
   "execution_count": 126,
   "metadata": {},
   "outputs": [
    {
     "data": {
      "text/plain": [
       "(set(), set(), set())"
      ]
     },
     "execution_count": 126,
     "metadata": {},
     "output_type": "execute_result"
    }
   ],
   "source": [
    "ids0 = set(df_train.index.get_level_values(0))\n",
    "ids1 = set(df_valid.index.get_level_values(0))\n",
    "ids2 = set(df_test.index.get_level_values(0))\n",
    "ids0.intersection(ids1), ids1.intersection(ids2), ids0.intersection(ids2)"
   ]
  },
  {
   "cell_type": "code",
   "execution_count": 127,
   "metadata": {},
   "outputs": [
    {
     "data": {
      "text/plain": [
       "(11146, 6660)"
      ]
     },
     "execution_count": 127,
     "metadata": {},
     "output_type": "execute_result"
    }
   ],
   "source": [
    "n_males_train = df_train.male.sum()\n",
    "n_females_train = df_train.shape[0] - n_males_train\n",
    "n_males_train, n_females_train"
   ]
  },
  {
   "cell_type": "code",
   "execution_count": 128,
   "metadata": {},
   "outputs": [
    {
     "data": {
      "text/plain": [
       "(3612, 2163)"
      ]
     },
     "execution_count": 128,
     "metadata": {},
     "output_type": "execute_result"
    }
   ],
   "source": [
    "n_males_valid = df_valid.male.sum()\n",
    "n_females_valid = df_valid.shape[0] - n_males_valid\n",
    "n_males_valid, n_females_valid"
   ]
  },
  {
   "cell_type": "code",
   "execution_count": 129,
   "metadata": {},
   "outputs": [
    {
     "data": {
      "text/plain": [
       "(3643, 2081)"
      ]
     },
     "execution_count": 129,
     "metadata": {},
     "output_type": "execute_result"
    }
   ],
   "source": [
    "n_males_test = df_test.male.sum()\n",
    "n_females_test = df_test.shape[0] - n_males_test\n",
    "n_males_test, n_females_test"
   ]
  },
  {
   "cell_type": "code",
   "execution_count": 130,
   "metadata": {},
   "outputs": [
    {
     "data": {
      "text/plain": [
       "(6660, 2163, 2081)"
      ]
     },
     "execution_count": 130,
     "metadata": {},
     "output_type": "execute_result"
    }
   ],
   "source": [
    "n_each_train = min(n_males_train, n_females_train)\n",
    "n_each_valid = min(n_males_valid, n_females_valid)\n",
    "n_each_test = min(n_males_test, n_females_test)\n",
    "n_each_train, n_each_valid, n_each_test"
   ]
  },
  {
   "cell_type": "code",
   "execution_count": 131,
   "metadata": {},
   "outputs": [],
   "source": [
    "df_train_m = df_train[df_train.male].copy().sample(n_each_train)\n",
    "df_train_f = df_train[~df_train.male].copy().sample(n_each_train)\n",
    "df_valid_m = df_valid[df_valid.male].copy().sample(n_each_valid)\n",
    "df_valid_f = df_valid[~df_valid.male].copy().sample(n_each_valid)\n",
    "df_test_m = df_test[df_test.male].copy().sample(n_each_test)\n",
    "df_test_f = df_test[~df_test.male].copy().sample(n_each_test)\n",
    "xy_train = pd.concat([df_train_m, df_train_f]).sample(frac=1)\n",
    "xy_valid = pd.concat([df_valid_m, df_valid_f]).sample(frac=1)\n",
    "xy_test = pd.concat([df_test_m, df_test_f]).sample(frac=1)"
   ]
  },
  {
   "cell_type": "code",
   "execution_count": 132,
   "metadata": {},
   "outputs": [
    {
     "data": {
      "text/plain": [
       "((13320, 514), (4326, 514), (4162, 514))"
      ]
     },
     "execution_count": 132,
     "metadata": {},
     "output_type": "execute_result"
    }
   ],
   "source": [
    "xy_train.shape, xy_valid.shape, xy_test.shape"
   ]
  },
  {
   "cell_type": "code",
   "execution_count": 133,
   "metadata": {},
   "outputs": [
    {
     "data": {
      "text/plain": [
       "(6660, 2163, 2081)"
      ]
     },
     "execution_count": 133,
     "metadata": {},
     "output_type": "execute_result"
    }
   ],
   "source": [
    "xy_train.male.sum(), xy_valid.male.sum(), xy_test.male.sum()"
   ]
  },
  {
   "cell_type": "code",
   "execution_count": 134,
   "metadata": {},
   "outputs": [],
   "source": [
    "X_train = xy_train.drop(['name','male'],axis=1).values\n",
    "y_train = 1*xy_train.male.values\n",
    "X_valid = xy_valid.drop(['name','male'],axis=1).values\n",
    "y_valid = 1*xy_valid.male.values\n",
    "X_test = xy_test.drop(['name','male'],axis=1).values\n",
    "y_test = 1*xy_test.male.values"
   ]
  },
  {
   "cell_type": "code",
   "execution_count": 219,
   "metadata": {},
   "outputs": [],
   "source": [
    "d_train = lgb.Dataset(X_train, label=y_train)\n",
    "params = {}\n",
    "params['objective'] = 'binary'\n",
    "params['learning_rate'] = .02\n",
    "params['sub_feature'] = .4\n",
    "params['lambda_l1'] = 5\n",
    "params['lambda_l2'] = 1\n",
    "#params['bagging_freq'] = 10\n",
    "#params['bagging_fraction'] = 0.95\n",
    "\n",
    "#params['min_data'] = 20        # min_data_in_leaf\n",
    "params['max_depth'] = 6\n",
    "\n",
    "nboost=40\n",
    "\n",
    "reg = lgb.train(params, d_train, nboost)"
   ]
  },
  {
   "cell_type": "code",
   "execution_count": 220,
   "metadata": {},
   "outputs": [
    {
     "data": {
      "text/plain": [
       "0.6834045059637756"
      ]
     },
     "execution_count": 220,
     "metadata": {},
     "output_type": "execute_result"
    }
   ],
   "source": [
    "y_train_pred = reg.predict(X_train)\n",
    "f1_score(y_train, y_train_pred>.5)"
   ]
  },
  {
   "cell_type": "code",
   "execution_count": 221,
   "metadata": {},
   "outputs": [
    {
     "name": "stdout",
     "output_type": "stream",
     "text": [
      "[[1300  863]\n",
      " [ 813 1350]]\n"
     ]
    },
    {
     "data": {
      "text/plain": [
       "0.6170018281535649"
      ]
     },
     "execution_count": 221,
     "metadata": {},
     "output_type": "execute_result"
    }
   ],
   "source": [
    "y_pred = reg.predict(X_valid)\n",
    "print( confusion_matrix(y_valid, (y_pred>.5)) )\n",
    "f1_score(y_valid, y_pred>.5)"
   ]
  },
  {
   "cell_type": "code",
   "execution_count": 222,
   "metadata": {},
   "outputs": [],
   "source": [
    "# .61700"
   ]
  },
  {
   "cell_type": "code",
   "execution_count": 223,
   "metadata": {},
   "outputs": [
    {
     "name": "stdout",
     "output_type": "stream",
     "text": [
      "[[1282  799]\n",
      " [ 815 1266]]\n"
     ]
    },
    {
     "data": {
      "text/plain": [
       "0.6107091172214182"
      ]
     },
     "execution_count": 223,
     "metadata": {},
     "output_type": "execute_result"
    }
   ],
   "source": [
    "y_test_pred = reg.predict(X_test)\n",
    "print( confusion_matrix(y_test, (y_test_pred>.5)) )\n",
    "f1_score(y_test, y_test_pred>.5)"
   ]
  },
  {
   "cell_type": "code",
   "execution_count": 224,
   "metadata": {},
   "outputs": [
    {
     "data": {
      "text/plain": [
       "0.6122056703507929"
      ]
     },
     "execution_count": 224,
     "metadata": {},
     "output_type": "execute_result"
    }
   ],
   "source": [
    "accuracy_score(y_test, y_test_pred>.5)"
   ]
  },
  {
   "cell_type": "code",
   "execution_count": 225,
   "metadata": {},
   "outputs": [],
   "source": [
    "fpr, tpr, _ = roc_curve(y_test, y_test_pred)\n",
    "roc_auc = auc(fpr, tpr)"
   ]
  },
  {
   "cell_type": "code",
   "execution_count": 226,
   "metadata": {},
   "outputs": [
    {
     "data": {
      "image/png": "[encoded data removed]",
      "text/plain": [
       "<Figure size 432x288 with 1 Axes>"
      ]
     },
     "metadata": {
      "needs_background": "light"
     },
     "output_type": "display_data"
    }
   ],
   "source": [
    "plt.figure()\n",
    "plt.plot(fpr, tpr, color='darkorange',\n",
    "         lw=1, label='ROC curve (area = %0.2f)' % roc_auc)\n",
    "plt.plot([0, 1], [0, 1], color='navy', lw=1, linestyle='--')\n",
    "plt.xlim([0.0, 1.0])\n",
    "plt.ylim([0.0, 1.05])\n",
    "plt.xlabel('False Positive Rate')\n",
    "plt.ylabel('True Positive Rate')\n",
    "plt.title('Receiver operating characteristic example')\n",
    "plt.legend(loc=\"lower right\")\n",
    "plt.show()"
   ]
  },
  {
   "cell_type": "code",
   "execution_count": null,
   "metadata": {},
   "outputs": [],
   "source": []
  }
 ],
 "metadata": {
  "kernelspec": {
   "display_name": "Python 3",
   "language": "python",
   "name": "python3"
  },
  "language_info": {
   "codemirror_mode": {
    "name": "ipython",
    "version": 3
   },
   "file_extension": ".py",
   "mimetype": "text/x-python",
   "name": "python",
   "nbconvert_exporter": "python",
   "pygments_lexer": "ipython3",
   "version": "3.6.8"
  }
 },
 "nbformat": 4,
 "nbformat_minor": 2
}
