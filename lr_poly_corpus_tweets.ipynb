{
 "cells": [
  {
   "cell_type": "code",
   "execution_count": 1,
   "metadata": {},
   "outputs": [],
   "source": [
    "DATAPATH = '../data/'\n",
    "XFERPATH = '~/gdrive_files/twitgen/'  # To transfer files from Google Colab\n",
    "TRAIN_FNAME = 'embed_train_201906142054.csv'\n",
    "VALID_FNAME = 'embed_valid_201906142054.csv'\n",
    "TEST_FNAME = 'embed_test_201906142054.csv'\n",
    "MODEL_TYPE_ID = 'lrp'"
   ]
  },
  {
   "cell_type": "code",
   "execution_count": 2,
   "metadata": {},
   "outputs": [],
   "source": [
    "train_from = XFERPATH + TRAIN_FNAME\n",
    "valid_from = XFERPATH + VALID_FNAME\n",
    "test_from = XFERPATH + TEST_FNAME\n",
    "!cp $train_from $DATAPATH\n",
    "!cp $valid_from $DATAPATH\n",
    "!cp $test_from $DATAPATH"
   ]
  },
  {
   "cell_type": "code",
   "execution_count": 3,
   "metadata": {},
   "outputs": [],
   "source": [
    "from sklearn.linear_model import LogisticRegression\n",
    "from sklearn.preprocessing import PolynomialFeatures\n",
    "from sklearn.pipeline import Pipeline\n",
    "from sklearn.decomposition import PCA\n",
    "import pandas as pd\n",
    "import numpy as np\n",
    "from sklearn.metrics import confusion_matrix\n",
    "from sklearn.metrics import accuracy_score\n",
    "from sklearn.metrics import f1_score\n",
    "from sklearn.metrics import roc_curve, auc\n",
    "import matplotlib.pyplot as plt\n",
    "from datetime import datetime"
   ]
  },
  {
   "cell_type": "code",
   "execution_count": 4,
   "metadata": {},
   "outputs": [
    {
     "data": {
      "text/plain": [
       "'201906141723'"
      ]
     },
     "execution_count": 4,
     "metadata": {},
     "output_type": "execute_result"
    }
   ],
   "source": [
    "timestamp = datetime.now().strftime('%Y%m%d%H%M')\n",
    "timestamp"
   ]
  },
  {
   "cell_type": "code",
   "execution_count": 5,
   "metadata": {},
   "outputs": [
    {
     "data": {
      "text/html": [
       "<div>\n",
       "<style scoped>\n",
       "    .dataframe tbody tr th:only-of-type {\n",
       "        vertical-align: middle;\n",
       "    }\n",
       "\n",
       "    .dataframe tbody tr th {\n",
       "        vertical-align: top;\n",
       "    }\n",
       "\n",
       "    .dataframe thead th {\n",
       "        text-align: right;\n",
       "    }\n",
       "</style>\n",
       "<table border=\"1\" class=\"dataframe\">\n",
       "  <thead>\n",
       "    <tr style=\"text-align: right;\">\n",
       "      <th></th>\n",
       "      <th></th>\n",
       "      <th>male</th>\n",
       "      <th>embed0</th>\n",
       "      <th>embed1</th>\n",
       "      <th>embed2</th>\n",
       "      <th>embed3</th>\n",
       "      <th>embed4</th>\n",
       "      <th>embed5</th>\n",
       "    </tr>\n",
       "    <tr>\n",
       "      <th>id</th>\n",
       "      <th>time</th>\n",
       "      <th></th>\n",
       "      <th></th>\n",
       "      <th></th>\n",
       "      <th></th>\n",
       "      <th></th>\n",
       "      <th></th>\n",
       "      <th></th>\n",
       "    </tr>\n",
       "  </thead>\n",
       "  <tbody>\n",
       "    <tr>\n",
       "      <th>1083596943807393792</th>\n",
       "      <th>2019-05-27 23:27:08+00:00</th>\n",
       "      <td>True</td>\n",
       "      <td>116</td>\n",
       "      <td>77182</td>\n",
       "      <td>20189</td>\n",
       "      <td>20846</td>\n",
       "      <td>11</td>\n",
       "      <td>18693</td>\n",
       "    </tr>\n",
       "    <tr>\n",
       "      <th>815783987784187904</th>\n",
       "      <th>2019-05-24 15:36:01+00:00</th>\n",
       "      <td>False</td>\n",
       "      <td>-10180</td>\n",
       "      <td>-54973</td>\n",
       "      <td>23295</td>\n",
       "      <td>-20926</td>\n",
       "      <td>-2923</td>\n",
       "      <td>10973</td>\n",
       "    </tr>\n",
       "    <tr>\n",
       "      <th>3458239641</th>\n",
       "      <th>2019-05-24 19:00:37+00:00</th>\n",
       "      <td>False</td>\n",
       "      <td>-47975</td>\n",
       "      <td>-25760</td>\n",
       "      <td>12054</td>\n",
       "      <td>57238</td>\n",
       "      <td>18813</td>\n",
       "      <td>29521</td>\n",
       "    </tr>\n",
       "    <tr>\n",
       "      <th>1003729876250226688</th>\n",
       "      <th>2019-05-26 12:53:00+00:00</th>\n",
       "      <td>True</td>\n",
       "      <td>-13465</td>\n",
       "      <td>74146</td>\n",
       "      <td>9292</td>\n",
       "      <td>102728</td>\n",
       "      <td>7242</td>\n",
       "      <td>-46039</td>\n",
       "    </tr>\n",
       "    <tr>\n",
       "      <th>2360143940</th>\n",
       "      <th>2019-05-28 03:50:46+00:00</th>\n",
       "      <td>False</td>\n",
       "      <td>1160</td>\n",
       "      <td>-2419</td>\n",
       "      <td>-48361</td>\n",
       "      <td>36310</td>\n",
       "      <td>47470</td>\n",
       "      <td>-31694</td>\n",
       "    </tr>\n",
       "  </tbody>\n",
       "</table>\n",
       "</div>"
      ],
      "text/plain": [
       "                                                male  embed0  embed1  embed2  \\\n",
       "id                  time                                                       \n",
       "1083596943807393792 2019-05-27 23:27:08+00:00   True     116   77182   20189   \n",
       "815783987784187904  2019-05-24 15:36:01+00:00  False  -10180  -54973   23295   \n",
       "3458239641          2019-05-24 19:00:37+00:00  False  -47975  -25760   12054   \n",
       "1003729876250226688 2019-05-26 12:53:00+00:00   True  -13465   74146    9292   \n",
       "2360143940          2019-05-28 03:50:46+00:00  False    1160   -2419  -48361   \n",
       "\n",
       "                                               embed3  embed4  embed5  \n",
       "id                  time                                               \n",
       "1083596943807393792 2019-05-27 23:27:08+00:00   20846      11   18693  \n",
       "815783987784187904  2019-05-24 15:36:01+00:00  -20926   -2923   10973  \n",
       "3458239641          2019-05-24 19:00:37+00:00   57238   18813   29521  \n",
       "1003729876250226688 2019-05-26 12:53:00+00:00  102728    7242  -46039  \n",
       "2360143940          2019-05-28 03:50:46+00:00   36310   47470  -31694  "
      ]
     },
     "execution_count": 5,
     "metadata": {},
     "output_type": "execute_result"
    }
   ],
   "source": [
    "df_train = pd.read_csv(DATAPATH+TRAIN_FNAME, index_col=[0,1], parse_dates=['time'])\n",
    "df_valid = pd.read_csv(DATAPATH+VALID_FNAME, index_col=[0,1], parse_dates=['time'])\n",
    "df_test = pd.read_csv(DATAPATH+TEST_FNAME, index_col=[0,1], parse_dates=['time'])\n",
    "df_train.head().iloc[:,:7]"
   ]
  },
  {
   "cell_type": "code",
   "execution_count": 6,
   "metadata": {},
   "outputs": [
    {
     "name": "stdout",
     "output_type": "stream",
     "text": [
      "(34146, 513) (10914, 513) (10450, 513)\n",
      "2019-05-21 17:50:48+00:00 2019-05-28 12:44:26+00:00\n",
      "2019-05-28 12:44:27+00:00 2019-05-30 12:09:54+00:00\n",
      "2019-05-30 12:10:02+00:00 2019-06-01 19:55:43+00:00\n"
     ]
    }
   ],
   "source": [
    "print(df_train.shape, df_valid.shape, df_test.shape)\n",
    "print(df_train.index.get_level_values(1).min(), df_train.index.get_level_values(1).max())\n",
    "print(df_valid.index.get_level_values(1).min(), df_valid.index.get_level_values(1).max())\n",
    "print(df_test.index.get_level_values(1).min(), df_test.index.get_level_values(1).max())"
   ]
  },
  {
   "cell_type": "code",
   "execution_count": 7,
   "metadata": {},
   "outputs": [],
   "source": [
    "def getxy(df):\n",
    "    X = df.drop(['male'],axis=1).values / 1e6\n",
    "    y = 1*df.male.values\n",
    "    return(X, y)\n",
    "    \n",
    "X_train, y_train = getxy(df_train)\n",
    "X_valid, y_valid = getxy(df_valid)\n",
    "X_test, y_test = getxy(df_test)"
   ]
  },
  {
   "cell_type": "code",
   "execution_count": 8,
   "metadata": {},
   "outputs": [
    {
     "name": "stdout",
     "output_type": "stream",
     "text": [
      "[0.0767009  0.04940694 0.03212662 0.02723306 0.02694522 0.02254503\n",
      " 0.02087141 0.01886975 0.01819184 0.01773331 0.01694228 0.01547141\n",
      " 0.01519448 0.01453913 0.01386597 0.01337477 0.01296537 0.01205305\n",
      " 0.01185657 0.01154208 0.01106194 0.0108754  0.01066757 0.01058834\n",
      " 0.01018948 0.00972788 0.00956501 0.00927467 0.00898695 0.00867132\n",
      " 0.00855854 0.00817398 0.00795549 0.00791643 0.00774393 0.00759224\n",
      " 0.00751189 0.00741186 0.00725598 0.00720991 0.00700159 0.00687271\n",
      " 0.00664638 0.00656294 0.00647924 0.00630644 0.00624454 0.00616624\n",
      " 0.00604362 0.00591292 0.00580554 0.00573542 0.00569054 0.00565312\n",
      " 0.00548497 0.00545792 0.00529959 0.0052467  0.00518911 0.00506859\n",
      " 0.00491823 0.00484864 0.00478624 0.00476331]\n"
     ]
    }
   ],
   "source": [
    "pca = PCA(64)\n",
    "pca.fit(X_train)\n",
    "print(pca.explained_variance_ratio_)"
   ]
  },
  {
   "cell_type": "code",
   "execution_count": 9,
   "metadata": {},
   "outputs": [
    {
     "name": "stderr",
     "output_type": "stream",
     "text": [
      "/Users/andy/anaconda/lib/python3.6/site-packages/sklearn/linear_model/logistic.py:433: FutureWarning: Default solver will be changed to 'lbfgs' in 0.22. Specify a solver to silence this warning.\n",
      "  FutureWarning)\n"
     ]
    }
   ],
   "source": [
    "model = Pipeline([('pca',  PCA(50)),\n",
    "                  ('poly', PolynomialFeatures()),\n",
    "                  ('lr',   LogisticRegression(C=.08))])\n",
    "model = model.fit(X_train, y_train)"
   ]
  },
  {
   "cell_type": "code",
   "execution_count": 10,
   "metadata": {},
   "outputs": [],
   "source": [
    "def save_predictions(df, predictions, which_set):\n",
    "    pred_df = df[['male']].copy()\n",
    "    pred_df['pred'] = predictions\n",
    "    path = DATAPATH + MODEL_TYPE_ID + '_' + which_set + '_pred_' + timestamp + '.csv'\n",
    "    pred_df.to_csv(path)    "
   ]
  },
  {
   "cell_type": "code",
   "execution_count": 11,
   "metadata": {},
   "outputs": [
    {
     "data": {
      "text/plain": [
       "0.707300658376006"
      ]
     },
     "execution_count": 11,
     "metadata": {},
     "output_type": "execute_result"
    }
   ],
   "source": [
    "y_train_pred = model.predict_proba(X_train)[:,1]\n",
    "save_predictions(df_train, y_train_pred, 'train')\n",
    "f1_score(y_train, y_train_pred>.5)"
   ]
  },
  {
   "cell_type": "code",
   "execution_count": 12,
   "metadata": {},
   "outputs": [
    {
     "name": "stdout",
     "output_type": "stream",
     "text": [
      "[[3331 2126]\n",
      " [1929 3528]]\n"
     ]
    },
    {
     "data": {
      "text/plain": [
       "0.6350463504635048"
      ]
     },
     "execution_count": 12,
     "metadata": {},
     "output_type": "execute_result"
    }
   ],
   "source": [
    "y_pred = model.predict_proba(X_valid)[:,1]\n",
    "save_predictions(df_valid, y_pred, 'valid')\n",
    "print( confusion_matrix(y_valid, (y_pred>.5)) )\n",
    "f1_score(y_valid, y_pred>.5)"
   ]
  },
  {
   "cell_type": "code",
   "execution_count": 13,
   "metadata": {},
   "outputs": [
    {
     "data": {
      "text/plain": [
       "0.6284588601795859"
      ]
     },
     "execution_count": 13,
     "metadata": {},
     "output_type": "execute_result"
    }
   ],
   "source": [
    "accuracy_score(y_valid, y_pred>.5)"
   ]
  },
  {
   "cell_type": "code",
   "execution_count": 14,
   "metadata": {},
   "outputs": [
    {
     "name": "stdout",
     "output_type": "stream",
     "text": [
      "[[3146 2079]\n",
      " [1873 3352]]\n"
     ]
    },
    {
     "data": {
      "text/plain": [
       "0.6291291291291292"
      ]
     },
     "execution_count": 14,
     "metadata": {},
     "output_type": "execute_result"
    }
   ],
   "source": [
    "y_test_pred = model.predict_proba(X_test)[:,1]\n",
    "save_predictions(df_test, y_test_pred, 'test')\n",
    "print( confusion_matrix(y_test, (y_test_pred>.5)) )\n",
    "f1_score(y_test, y_test_pred>.5)"
   ]
  },
  {
   "cell_type": "code",
   "execution_count": 15,
   "metadata": {},
   "outputs": [
    {
     "data": {
      "text/plain": [
       "0.6218181818181818"
      ]
     },
     "execution_count": 15,
     "metadata": {},
     "output_type": "execute_result"
    }
   ],
   "source": [
    "accuracy_score(y_test, y_test_pred>.5)"
   ]
  },
  {
   "cell_type": "code",
   "execution_count": 16,
   "metadata": {},
   "outputs": [
    {
     "data": {
      "image/png": "[encoded data removed]",
      "text/plain": [
       "<Figure size 432x288 with 1 Axes>"
      ]
     },
     "metadata": {
      "needs_background": "light"
     },
     "output_type": "display_data"
    }
   ],
   "source": [
    "fpr, tpr, _ = roc_curve(y_test, y_test_pred)\n",
    "roc_auc = auc(fpr, tpr)\n",
    "\n",
    "plt.figure()\n",
    "plt.plot(fpr, tpr, color='darkorange',\n",
    "         lw=1, label='ROC curve (area = %0.2f)' % roc_auc)\n",
    "plt.plot([0, 1], [0, 1], color='navy', lw=1, linestyle='--')\n",
    "plt.xlim([0.0, 1.0])\n",
    "plt.ylim([0.0, 1.05])\n",
    "plt.xlabel('False Positive Rate')\n",
    "plt.ylabel('True Positive Rate')\n",
    "plt.title('Receiver operating characteristic curve')\n",
    "plt.legend(loc=\"lower right\")\n",
    "plt.show()"
   ]
  },
  {
   "cell_type": "code",
   "execution_count": 17,
   "metadata": {},
   "outputs": [
    {
     "data": {
      "image/png": "[encoded data removed]",
      "text/plain": [
       "<Figure size 432x288 with 1 Axes>"
      ]
     },
     "metadata": {
      "needs_background": "light"
     },
     "output_type": "display_data"
    }
   ],
   "source": [
    "pd.Series(y_test_pred).hist()\n",
    "plt.show()"
   ]
  },
  {
   "cell_type": "code",
   "execution_count": 18,
   "metadata": {},
   "outputs": [
    {
     "data": {
      "text/html": [
       "<div>\n",
       "<style scoped>\n",
       "    .dataframe tbody tr th:only-of-type {\n",
       "        vertical-align: middle;\n",
       "    }\n",
       "\n",
       "    .dataframe tbody tr th {\n",
       "        vertical-align: top;\n",
       "    }\n",
       "\n",
       "    .dataframe thead th {\n",
       "        text-align: right;\n",
       "    }\n",
       "</style>\n",
       "<table border=\"1\" class=\"dataframe\">\n",
       "  <thead>\n",
       "    <tr style=\"text-align: right;\">\n",
       "      <th></th>\n",
       "      <th></th>\n",
       "      <th>count</th>\n",
       "      <th>accuracy</th>\n",
       "    </tr>\n",
       "    <tr>\n",
       "      <th>minprob</th>\n",
       "      <th>maxprob</th>\n",
       "      <th></th>\n",
       "      <th></th>\n",
       "    </tr>\n",
       "  </thead>\n",
       "  <tbody>\n",
       "    <tr>\n",
       "      <th>0.0</th>\n",
       "      <th>0.1</th>\n",
       "      <td>300</td>\n",
       "      <td>0.856667</td>\n",
       "    </tr>\n",
       "    <tr>\n",
       "      <th>0.1</th>\n",
       "      <th>0.2</th>\n",
       "      <td>750</td>\n",
       "      <td>0.742667</td>\n",
       "    </tr>\n",
       "    <tr>\n",
       "      <th>0.2</th>\n",
       "      <th>0.3</th>\n",
       "      <td>1016</td>\n",
       "      <td>0.675197</td>\n",
       "    </tr>\n",
       "    <tr>\n",
       "      <th>0.3</th>\n",
       "      <th>0.4</th>\n",
       "      <td>1307</td>\n",
       "      <td>0.591431</td>\n",
       "    </tr>\n",
       "    <tr>\n",
       "      <th>0.4</th>\n",
       "      <th>0.5</th>\n",
       "      <td>1646</td>\n",
       "      <td>0.530377</td>\n",
       "    </tr>\n",
       "    <tr>\n",
       "      <th>0.5</th>\n",
       "      <th>0.6</th>\n",
       "      <td>1647</td>\n",
       "      <td>0.510625</td>\n",
       "    </tr>\n",
       "    <tr>\n",
       "      <th>0.6</th>\n",
       "      <th>0.7</th>\n",
       "      <td>1429</td>\n",
       "      <td>0.594122</td>\n",
       "    </tr>\n",
       "    <tr>\n",
       "      <th>0.7</th>\n",
       "      <th>0.8</th>\n",
       "      <td>1186</td>\n",
       "      <td>0.625632</td>\n",
       "    </tr>\n",
       "    <tr>\n",
       "      <th>0.8</th>\n",
       "      <th>0.9</th>\n",
       "      <td>777</td>\n",
       "      <td>0.742600</td>\n",
       "    </tr>\n",
       "    <tr>\n",
       "      <th>0.9</th>\n",
       "      <th>1.0</th>\n",
       "      <td>392</td>\n",
       "      <td>0.875000</td>\n",
       "    </tr>\n",
       "  </tbody>\n",
       "</table>\n",
       "</div>"
      ],
      "text/plain": [
       "                count  accuracy\n",
       "minprob maxprob                \n",
       "0.0     0.1       300  0.856667\n",
       "0.1     0.2       750  0.742667\n",
       "0.2     0.3      1016  0.675197\n",
       "0.3     0.4      1307  0.591431\n",
       "0.4     0.5      1646  0.530377\n",
       "0.5     0.6      1647  0.510625\n",
       "0.6     0.7      1429  0.594122\n",
       "0.7     0.8      1186  0.625632\n",
       "0.8     0.9       777  0.742600\n",
       "0.9     1.0       392  0.875000"
      ]
     },
     "execution_count": 18,
     "metadata": {},
     "output_type": "execute_result"
    }
   ],
   "source": [
    "df_acc = pd.DataFrame(columns=['minprob','maxprob','count','accuracy'])\n",
    "for pbot in np.linspace(0,.9,10):\n",
    "    ptop = pbot+.1\n",
    "    mask = (y_test_pred>=pbot)&(y_test_pred<ptop)\n",
    "    count = int(mask.sum())\n",
    "    acc = accuracy_score(y_test[mask], y_test_pred[mask]>.5)\n",
    "    row = pd.DataFrame({'minprob':[pbot], 'maxprob':[ptop], 'count':[count], 'accuracy':[acc]})\n",
    "    df_acc = pd.concat([df_acc, row])\n",
    "df_acc.set_index(['minprob','maxprob'])"
   ]
  },
  {
   "cell_type": "code",
   "execution_count": 19,
   "metadata": {},
   "outputs": [
    {
     "data": {
      "text/plain": [
       "['../data/lrp_model_201906141723.joblib']"
      ]
     },
     "execution_count": 19,
     "metadata": {},
     "output_type": "execute_result"
    }
   ],
   "source": [
    "from joblib import dump\n",
    "model_path = DATAPATH + MODEL_TYPE_ID + '_model_' + timestamp + '.joblib'\n",
    "dump(model, model_path)"
   ]
  },
  {
   "cell_type": "code",
   "execution_count": null,
   "metadata": {},
   "outputs": [],
   "source": []
  }
 ],
 "metadata": {
  "kernelspec": {
   "display_name": "Python 3",
   "language": "python",
   "name": "python3"
  },
  "language_info": {
   "codemirror_mode": {
    "name": "ipython",
    "version": 3
   },
   "file_extension": ".py",
   "mimetype": "text/x-python",
   "name": "python",
   "nbconvert_exporter": "python",
   "pygments_lexer": "ipython3",
   "version": "3.6.8"
  }
 },
 "nbformat": 4,
 "nbformat_minor": 2
}
