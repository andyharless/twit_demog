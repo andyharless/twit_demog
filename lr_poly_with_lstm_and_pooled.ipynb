{
 "cells": [
  {
   "cell_type": "code",
   "execution_count": 1,
   "metadata": {},
   "outputs": [],
   "source": [
    "COPY_DATA = False\n",
    "SAVE_MODEL = True\n",
    "\n",
    "DATAPATH = '../data/'\n",
    "XFERPATH = '~/gdrive/twitgen/'  # To transfer files from Google Colab\n",
    "TRAIN_FNAME = 'embed_train_201906142054.csv'\n",
    "VALID_FNAME = 'embed_valid_201906142054.csv'\n",
    "TEST_FNAME = 'embed_test_201906142054.csv'\n",
    "LSTM_TRAIN_FNAME = 'activ_train_201907032046.csv'\n",
    "LSTM_VALID_FNAME = 'activ_valid_201907032046.csv'\n",
    "LSTM_TEST_FNAME = 'activ_test_201907032046.csv'\n",
    "POOL_TRAIN_FNAME = 'activ_train_201907041131.csv'\n",
    "POOL_VALID_FNAME = 'activ_valid_201907041131.csv'\n",
    "POOL_TEST_FNAME = 'activ_test_201907041131.csv'\n",
    "\n",
    "MODEL_TYPE_ID = 'lrp3'"
   ]
  },
  {
   "cell_type": "code",
   "execution_count": 2,
   "metadata": {},
   "outputs": [],
   "source": [
    "train_from = XFERPATH + TRAIN_FNAME\n",
    "valid_from = XFERPATH + VALID_FNAME\n",
    "test_from = XFERPATH + TEST_FNAME\n",
    "lstm_train_from = XFERPATH + LSTM_TRAIN_FNAME\n",
    "lstm_valid_from = XFERPATH + LSTM_VALID_FNAME\n",
    "lstm_test_from = XFERPATH + LSTM_TEST_FNAME\n",
    "if COPY_DATA:\n",
    "    !cp $train_from $DATAPATH\n",
    "    !cp $valid_from $DATAPATH\n",
    "    !cp $test_from $DATAPATH\n",
    "    !cp $lstm_train_from $DATAPATH\n",
    "    !cp $lstm_valid_from $DATAPATH\n",
    "    !cp $lstm_test_from $DATAPATH"
   ]
  },
  {
   "cell_type": "code",
   "execution_count": 3,
   "metadata": {},
   "outputs": [],
   "source": [
    "from sklearn.linear_model import LogisticRegression\n",
    "from sklearn.preprocessing import PolynomialFeatures\n",
    "from sklearn.pipeline import Pipeline\n",
    "from sklearn.decomposition import PCA\n",
    "import pandas as pd\n",
    "import numpy as np\n",
    "from sklearn.metrics import confusion_matrix\n",
    "from sklearn.metrics import accuracy_score\n",
    "from sklearn.metrics import f1_score\n",
    "from sklearn.metrics import roc_curve, auc\n",
    "import matplotlib.pyplot as plt\n",
    "from datetime import datetime"
   ]
  },
  {
   "cell_type": "code",
   "execution_count": 4,
   "metadata": {},
   "outputs": [
    {
     "data": {
      "text/plain": [
       "'201907041223'"
      ]
     },
     "execution_count": 4,
     "metadata": {},
     "output_type": "execute_result"
    }
   ],
   "source": [
    "timestamp = datetime.now().strftime('%Y%m%d%H%M')\n",
    "timestamp"
   ]
  },
  {
   "cell_type": "code",
   "execution_count": 5,
   "metadata": {},
   "outputs": [
    {
     "data": {
      "text/html": [
       "<div>\n",
       "<style scoped>\n",
       "    .dataframe tbody tr th:only-of-type {\n",
       "        vertical-align: middle;\n",
       "    }\n",
       "\n",
       "    .dataframe tbody tr th {\n",
       "        vertical-align: top;\n",
       "    }\n",
       "\n",
       "    .dataframe thead th {\n",
       "        text-align: right;\n",
       "    }\n",
       "</style>\n",
       "<table border=\"1\" class=\"dataframe\">\n",
       "  <thead>\n",
       "    <tr style=\"text-align: right;\">\n",
       "      <th></th>\n",
       "      <th></th>\n",
       "      <th>male</th>\n",
       "      <th>embed0</th>\n",
       "      <th>embed1</th>\n",
       "      <th>embed2</th>\n",
       "      <th>embed3</th>\n",
       "      <th>embed4</th>\n",
       "      <th>embed5</th>\n",
       "    </tr>\n",
       "    <tr>\n",
       "      <th>id</th>\n",
       "      <th>time</th>\n",
       "      <th></th>\n",
       "      <th></th>\n",
       "      <th></th>\n",
       "      <th></th>\n",
       "      <th></th>\n",
       "      <th></th>\n",
       "      <th></th>\n",
       "    </tr>\n",
       "  </thead>\n",
       "  <tbody>\n",
       "    <tr>\n",
       "      <th>1083596943807393792</th>\n",
       "      <th>2019-05-27 23:27:08+00:00</th>\n",
       "      <td>True</td>\n",
       "      <td>116</td>\n",
       "      <td>77182</td>\n",
       "      <td>20189</td>\n",
       "      <td>20846</td>\n",
       "      <td>11</td>\n",
       "      <td>18693</td>\n",
       "    </tr>\n",
       "    <tr>\n",
       "      <th>815783987784187904</th>\n",
       "      <th>2019-05-24 15:36:01+00:00</th>\n",
       "      <td>False</td>\n",
       "      <td>-10180</td>\n",
       "      <td>-54973</td>\n",
       "      <td>23295</td>\n",
       "      <td>-20926</td>\n",
       "      <td>-2923</td>\n",
       "      <td>10973</td>\n",
       "    </tr>\n",
       "    <tr>\n",
       "      <th>3458239641</th>\n",
       "      <th>2019-05-24 19:00:37+00:00</th>\n",
       "      <td>False</td>\n",
       "      <td>-47975</td>\n",
       "      <td>-25760</td>\n",
       "      <td>12054</td>\n",
       "      <td>57238</td>\n",
       "      <td>18813</td>\n",
       "      <td>29521</td>\n",
       "    </tr>\n",
       "    <tr>\n",
       "      <th>1003729876250226688</th>\n",
       "      <th>2019-05-26 12:53:00+00:00</th>\n",
       "      <td>True</td>\n",
       "      <td>-13465</td>\n",
       "      <td>74146</td>\n",
       "      <td>9292</td>\n",
       "      <td>102728</td>\n",
       "      <td>7242</td>\n",
       "      <td>-46039</td>\n",
       "    </tr>\n",
       "    <tr>\n",
       "      <th>2360143940</th>\n",
       "      <th>2019-05-28 03:50:46+00:00</th>\n",
       "      <td>False</td>\n",
       "      <td>1160</td>\n",
       "      <td>-2419</td>\n",
       "      <td>-48361</td>\n",
       "      <td>36310</td>\n",
       "      <td>47470</td>\n",
       "      <td>-31694</td>\n",
       "    </tr>\n",
       "  </tbody>\n",
       "</table>\n",
       "</div>"
      ],
      "text/plain": [
       "                                                male  embed0  embed1  embed2  \\\n",
       "id                  time                                                       \n",
       "1083596943807393792 2019-05-27 23:27:08+00:00   True     116   77182   20189   \n",
       "815783987784187904  2019-05-24 15:36:01+00:00  False  -10180  -54973   23295   \n",
       "3458239641          2019-05-24 19:00:37+00:00  False  -47975  -25760   12054   \n",
       "1003729876250226688 2019-05-26 12:53:00+00:00   True  -13465   74146    9292   \n",
       "2360143940          2019-05-28 03:50:46+00:00  False    1160   -2419  -48361   \n",
       "\n",
       "                                               embed3  embed4  embed5  \n",
       "id                  time                                               \n",
       "1083596943807393792 2019-05-27 23:27:08+00:00   20846      11   18693  \n",
       "815783987784187904  2019-05-24 15:36:01+00:00  -20926   -2923   10973  \n",
       "3458239641          2019-05-24 19:00:37+00:00   57238   18813   29521  \n",
       "1003729876250226688 2019-05-26 12:53:00+00:00  102728    7242  -46039  \n",
       "2360143940          2019-05-28 03:50:46+00:00   36310   47470  -31694  "
      ]
     },
     "execution_count": 5,
     "metadata": {},
     "output_type": "execute_result"
    }
   ],
   "source": [
    "df_train = pd.read_csv(DATAPATH+TRAIN_FNAME, index_col=[0,1], parse_dates=['time'])\n",
    "df_valid = pd.read_csv(DATAPATH+VALID_FNAME, index_col=[0,1], parse_dates=['time'])\n",
    "df_test = pd.read_csv(DATAPATH+TEST_FNAME, index_col=[0,1], parse_dates=['time'])\n",
    "df_train.head().iloc[:,:7]"
   ]
  },
  {
   "cell_type": "code",
   "execution_count": 6,
   "metadata": {},
   "outputs": [
    {
     "name": "stdout",
     "output_type": "stream",
     "text": [
      "(34146, 513) (10914, 513) (10450, 513)\n",
      "2019-05-21 17:50:48+00:00 2019-05-28 12:44:26+00:00\n",
      "2019-05-28 12:44:27+00:00 2019-05-30 12:09:54+00:00\n",
      "2019-05-30 12:10:02+00:00 2019-06-01 19:55:43+00:00\n"
     ]
    }
   ],
   "source": [
    "print(df_train.shape, df_valid.shape, df_test.shape)\n",
    "print(df_train.index.get_level_values(1).min(), df_train.index.get_level_values(1).max())\n",
    "print(df_valid.index.get_level_values(1).min(), df_valid.index.get_level_values(1).max())\n",
    "print(df_test.index.get_level_values(1).min(), df_test.index.get_level_values(1).max())"
   ]
  },
  {
   "cell_type": "code",
   "execution_count": 7,
   "metadata": {},
   "outputs": [
    {
     "data": {
      "text/html": [
       "<div>\n",
       "<style scoped>\n",
       "    .dataframe tbody tr th:only-of-type {\n",
       "        vertical-align: middle;\n",
       "    }\n",
       "\n",
       "    .dataframe tbody tr th {\n",
       "        vertical-align: top;\n",
       "    }\n",
       "\n",
       "    .dataframe thead th {\n",
       "        text-align: right;\n",
       "    }\n",
       "</style>\n",
       "<table border=\"1\" class=\"dataframe\">\n",
       "  <thead>\n",
       "    <tr style=\"text-align: right;\">\n",
       "      <th></th>\n",
       "      <th></th>\n",
       "      <th>male</th>\n",
       "      <th>activ0</th>\n",
       "      <th>activ1</th>\n",
       "      <th>activ2</th>\n",
       "      <th>activ3</th>\n",
       "      <th>activ4</th>\n",
       "      <th>activ5</th>\n",
       "    </tr>\n",
       "    <tr>\n",
       "      <th>id</th>\n",
       "      <th>time</th>\n",
       "      <th></th>\n",
       "      <th></th>\n",
       "      <th></th>\n",
       "      <th></th>\n",
       "      <th></th>\n",
       "      <th></th>\n",
       "      <th></th>\n",
       "    </tr>\n",
       "  </thead>\n",
       "  <tbody>\n",
       "    <tr>\n",
       "      <th>1083596943807393792</th>\n",
       "      <th>2019-05-27 23:27:08+00:00</th>\n",
       "      <td>True</td>\n",
       "      <td>208329</td>\n",
       "      <td>272917</td>\n",
       "      <td>-232952</td>\n",
       "      <td>361499</td>\n",
       "      <td>114593</td>\n",
       "      <td>-280181</td>\n",
       "    </tr>\n",
       "    <tr>\n",
       "      <th>815783987784187904</th>\n",
       "      <th>2019-05-24 15:36:01+00:00</th>\n",
       "      <td>False</td>\n",
       "      <td>-17652</td>\n",
       "      <td>-21131</td>\n",
       "      <td>65560</td>\n",
       "      <td>-60671</td>\n",
       "      <td>-35859</td>\n",
       "      <td>85437</td>\n",
       "    </tr>\n",
       "    <tr>\n",
       "      <th>3458239641</th>\n",
       "      <th>2019-05-24 19:00:37+00:00</th>\n",
       "      <td>False</td>\n",
       "      <td>-10612</td>\n",
       "      <td>8708</td>\n",
       "      <td>56736</td>\n",
       "      <td>-36488</td>\n",
       "      <td>-57626</td>\n",
       "      <td>103292</td>\n",
       "    </tr>\n",
       "    <tr>\n",
       "      <th>1003729876250226688</th>\n",
       "      <th>2019-05-26 12:53:00+00:00</th>\n",
       "      <td>True</td>\n",
       "      <td>115526</td>\n",
       "      <td>234496</td>\n",
       "      <td>-143965</td>\n",
       "      <td>274234</td>\n",
       "      <td>73038</td>\n",
       "      <td>-176876</td>\n",
       "    </tr>\n",
       "    <tr>\n",
       "      <th>2360143940</th>\n",
       "      <th>2019-05-28 03:50:46+00:00</th>\n",
       "      <td>False</td>\n",
       "      <td>103081</td>\n",
       "      <td>143957</td>\n",
       "      <td>-113044</td>\n",
       "      <td>186899</td>\n",
       "      <td>56687</td>\n",
       "      <td>39322</td>\n",
       "    </tr>\n",
       "  </tbody>\n",
       "</table>\n",
       "</div>"
      ],
      "text/plain": [
       "                                                male  activ0  activ1  activ2  \\\n",
       "id                  time                                                       \n",
       "1083596943807393792 2019-05-27 23:27:08+00:00   True  208329  272917 -232952   \n",
       "815783987784187904  2019-05-24 15:36:01+00:00  False  -17652  -21131   65560   \n",
       "3458239641          2019-05-24 19:00:37+00:00  False  -10612    8708   56736   \n",
       "1003729876250226688 2019-05-26 12:53:00+00:00   True  115526  234496 -143965   \n",
       "2360143940          2019-05-28 03:50:46+00:00  False  103081  143957 -113044   \n",
       "\n",
       "                                               activ3  activ4  activ5  \n",
       "id                  time                                               \n",
       "1083596943807393792 2019-05-27 23:27:08+00:00  361499  114593 -280181  \n",
       "815783987784187904  2019-05-24 15:36:01+00:00  -60671  -35859   85437  \n",
       "3458239641          2019-05-24 19:00:37+00:00  -36488  -57626  103292  \n",
       "1003729876250226688 2019-05-26 12:53:00+00:00  274234   73038 -176876  \n",
       "2360143940          2019-05-28 03:50:46+00:00  186899   56687   39322  "
      ]
     },
     "execution_count": 7,
     "metadata": {},
     "output_type": "execute_result"
    }
   ],
   "source": [
    "df_train_lstm = pd.read_csv(DATAPATH+LSTM_TRAIN_FNAME, index_col=[0,1], parse_dates=['time'])\n",
    "df_valid_lstm = pd.read_csv(DATAPATH+LSTM_VALID_FNAME, index_col=[0,1], parse_dates=['time'])\n",
    "df_test_lstm = pd.read_csv(DATAPATH+LSTM_TEST_FNAME, index_col=[0,1], parse_dates=['time'])\n",
    "df_train_lstm.head().iloc[:,:7]"
   ]
  },
  {
   "cell_type": "code",
   "execution_count": 8,
   "metadata": {},
   "outputs": [
    {
     "name": "stdout",
     "output_type": "stream",
     "text": [
      "(34146, 241) (10914, 241) (10450, 241)\n",
      "2019-05-21 17:50:48+00:00 2019-05-28 12:44:26+00:00\n",
      "2019-05-28 12:44:27+00:00 2019-05-30 12:09:54+00:00\n",
      "2019-05-30 12:10:02+00:00 2019-06-01 19:55:43+00:00\n"
     ]
    }
   ],
   "source": [
    "print(df_train_lstm.shape, df_valid_lstm.shape, df_test_lstm.shape)\n",
    "print(df_train_lstm.index.get_level_values(1).min(), df_train_lstm.index.get_level_values(1).max())\n",
    "print(df_valid_lstm.index.get_level_values(1).min(), df_valid_lstm.index.get_level_values(1).max())\n",
    "print(df_test_lstm.index.get_level_values(1).min(), df_test_lstm.index.get_level_values(1).max())"
   ]
  },
  {
   "cell_type": "code",
   "execution_count": 9,
   "metadata": {},
   "outputs": [
    {
     "data": {
      "text/html": [
       "<div>\n",
       "<style scoped>\n",
       "    .dataframe tbody tr th:only-of-type {\n",
       "        vertical-align: middle;\n",
       "    }\n",
       "\n",
       "    .dataframe tbody tr th {\n",
       "        vertical-align: top;\n",
       "    }\n",
       "\n",
       "    .dataframe thead th {\n",
       "        text-align: right;\n",
       "    }\n",
       "</style>\n",
       "<table border=\"1\" class=\"dataframe\">\n",
       "  <thead>\n",
       "    <tr style=\"text-align: right;\">\n",
       "      <th></th>\n",
       "      <th></th>\n",
       "      <th>male</th>\n",
       "      <th>activ0</th>\n",
       "      <th>activ1</th>\n",
       "      <th>activ2</th>\n",
       "      <th>activ3</th>\n",
       "      <th>activ4</th>\n",
       "      <th>activ5</th>\n",
       "    </tr>\n",
       "    <tr>\n",
       "      <th>id</th>\n",
       "      <th>time</th>\n",
       "      <th></th>\n",
       "      <th></th>\n",
       "      <th></th>\n",
       "      <th></th>\n",
       "      <th></th>\n",
       "      <th></th>\n",
       "      <th></th>\n",
       "    </tr>\n",
       "  </thead>\n",
       "  <tbody>\n",
       "    <tr>\n",
       "      <th>1083596943807393792</th>\n",
       "      <th>2019-05-27 23:27:08+00:00</th>\n",
       "      <td>True</td>\n",
       "      <td>473435</td>\n",
       "      <td>818899</td>\n",
       "      <td>655267</td>\n",
       "      <td>386695</td>\n",
       "      <td>340486</td>\n",
       "      <td>404179</td>\n",
       "    </tr>\n",
       "    <tr>\n",
       "      <th>815783987784187904</th>\n",
       "      <th>2019-05-24 15:36:01+00:00</th>\n",
       "      <td>False</td>\n",
       "      <td>-8503</td>\n",
       "      <td>55833</td>\n",
       "      <td>248860</td>\n",
       "      <td>761147</td>\n",
       "      <td>-1345</td>\n",
       "      <td>-15644</td>\n",
       "    </tr>\n",
       "    <tr>\n",
       "      <th>3458239641</th>\n",
       "      <th>2019-05-24 19:00:37+00:00</th>\n",
       "      <td>False</td>\n",
       "      <td>278651</td>\n",
       "      <td>485597</td>\n",
       "      <td>195801</td>\n",
       "      <td>292252</td>\n",
       "      <td>-1345</td>\n",
       "      <td>349903</td>\n",
       "    </tr>\n",
       "    <tr>\n",
       "      <th>1003729876250226688</th>\n",
       "      <th>2019-05-26 12:53:00+00:00</th>\n",
       "      <td>True</td>\n",
       "      <td>473435</td>\n",
       "      <td>905348</td>\n",
       "      <td>689134</td>\n",
       "      <td>336728</td>\n",
       "      <td>604330</td>\n",
       "      <td>515917</td>\n",
       "    </tr>\n",
       "    <tr>\n",
       "      <th>2360143940</th>\n",
       "      <th>2019-05-28 03:50:46+00:00</th>\n",
       "      <td>False</td>\n",
       "      <td>597550</td>\n",
       "      <td>418546</td>\n",
       "      <td>655267</td>\n",
       "      <td>895473</td>\n",
       "      <td>547918</td>\n",
       "      <td>830661</td>\n",
       "    </tr>\n",
       "  </tbody>\n",
       "</table>\n",
       "</div>"
      ],
      "text/plain": [
       "                                                male  activ0  activ1  activ2  \\\n",
       "id                  time                                                       \n",
       "1083596943807393792 2019-05-27 23:27:08+00:00   True  473435  818899  655267   \n",
       "815783987784187904  2019-05-24 15:36:01+00:00  False   -8503   55833  248860   \n",
       "3458239641          2019-05-24 19:00:37+00:00  False  278651  485597  195801   \n",
       "1003729876250226688 2019-05-26 12:53:00+00:00   True  473435  905348  689134   \n",
       "2360143940          2019-05-28 03:50:46+00:00  False  597550  418546  655267   \n",
       "\n",
       "                                               activ3  activ4  activ5  \n",
       "id                  time                                               \n",
       "1083596943807393792 2019-05-27 23:27:08+00:00  386695  340486  404179  \n",
       "815783987784187904  2019-05-24 15:36:01+00:00  761147   -1345  -15644  \n",
       "3458239641          2019-05-24 19:00:37+00:00  292252   -1345  349903  \n",
       "1003729876250226688 2019-05-26 12:53:00+00:00  336728  604330  515917  \n",
       "2360143940          2019-05-28 03:50:46+00:00  895473  547918  830661  "
      ]
     },
     "execution_count": 9,
     "metadata": {},
     "output_type": "execute_result"
    }
   ],
   "source": [
    "df_train_pool = pd.read_csv(DATAPATH+POOL_TRAIN_FNAME, index_col=[0,1], parse_dates=['time'])\n",
    "df_valid_pool = pd.read_csv(DATAPATH+POOL_VALID_FNAME, index_col=[0,1], parse_dates=['time'])\n",
    "df_test_pool = pd.read_csv(DATAPATH+POOL_TEST_FNAME, index_col=[0,1], parse_dates=['time'])\n",
    "df_train_pool.head().iloc[:,:7]"
   ]
  },
  {
   "cell_type": "code",
   "execution_count": 10,
   "metadata": {},
   "outputs": [
    {
     "name": "stdout",
     "output_type": "stream",
     "text": [
      "(34146, 401) (10914, 401) (10450, 401)\n",
      "2019-05-21 17:50:48+00:00 2019-05-28 12:44:26+00:00\n",
      "2019-05-28 12:44:27+00:00 2019-05-30 12:09:54+00:00\n",
      "2019-05-30 12:10:02+00:00 2019-06-01 19:55:43+00:00\n"
     ]
    }
   ],
   "source": [
    "print(df_train_pool.shape, df_valid_pool.shape, df_test_pool.shape)\n",
    "print(df_train_pool.index.get_level_values(1).min(), df_train_pool.index.get_level_values(1).max())\n",
    "print(df_valid_pool.index.get_level_values(1).min(), df_valid_pool.index.get_level_values(1).max())\n",
    "print(df_test_pool.index.get_level_values(1).min(), df_test_pool.index.get_level_values(1).max())"
   ]
  },
  {
   "cell_type": "code",
   "execution_count": 11,
   "metadata": {},
   "outputs": [
    {
     "data": {
      "text/plain": [
       "221.5754129555802"
      ]
     },
     "execution_count": 11,
     "metadata": {},
     "output_type": "execute_result"
    }
   ],
   "source": [
    "df_train.drop(['male'],axis=1).mean().mean()"
   ]
  },
  {
   "cell_type": "code",
   "execution_count": 12,
   "metadata": {},
   "outputs": [
    {
     "data": {
      "text/plain": [
       "16982.058741507055"
      ]
     },
     "execution_count": 12,
     "metadata": {},
     "output_type": "execute_result"
    }
   ],
   "source": [
    "df_train_lstm.drop(['male'],axis=1).mean().mean()"
   ]
  },
  {
   "cell_type": "code",
   "execution_count": 13,
   "metadata": {},
   "outputs": [
    {
     "data": {
      "text/plain": [
       "234960.27494596734"
      ]
     },
     "execution_count": 13,
     "metadata": {},
     "output_type": "execute_result"
    }
   ],
   "source": [
    "df_train_pool.drop(['male'],axis=1).mean().mean()"
   ]
  },
  {
   "cell_type": "code",
   "execution_count": 14,
   "metadata": {},
   "outputs": [],
   "source": [
    "scaledown_lstm = 7\n",
    "scaledown_pool = 700\n",
    "npc = 30"
   ]
  },
  {
   "cell_type": "code",
   "execution_count": 15,
   "metadata": {},
   "outputs": [
    {
     "data": {
      "text/plain": [
       "((34344, 1153), (10950, 1153), (10504, 1153))"
      ]
     },
     "execution_count": 15,
     "metadata": {},
     "output_type": "execute_result"
    }
   ],
   "source": [
    "df_train_final = df_train.join(df_train_lstm.drop(['male'],axis=1)/scaledown_lstm, rsuffix='lstm').join(\n",
    "                               df_train_pool.drop(['male'],axis=1)/scaledown_pool, rsuffix='pool')\n",
    "df_valid_final = df_valid.join(df_valid_lstm.drop(['male'],axis=1)/scaledown_lstm, rsuffix='lstm').join(\n",
    "                               df_valid_pool.drop(['male'],axis=1)/scaledown_pool, rsuffix='pool')\n",
    "df_test_final = df_test.join(df_test_lstm.drop(['male'],axis=1)/scaledown_lstm, rsuffix='lstm').join(\n",
    "                               df_test_pool.drop(['male'],axis=1)/scaledown_pool, rsuffix='pool')\n",
    "df_train_final.shape, df_valid_final.shape, df_test_final.shape"
   ]
  },
  {
   "cell_type": "code",
   "execution_count": 16,
   "metadata": {},
   "outputs": [],
   "source": [
    "def getxy(df):\n",
    "    X = df.drop(['male'],axis=1).values / 1e6\n",
    "    y = 1*df.male.values\n",
    "    return(X, y)\n",
    "    \n",
    "X_train, y_train = getxy(df_train_final)\n",
    "X_valid, y_valid = getxy(df_valid_final)\n",
    "X_test, y_test = getxy(df_test_final)"
   ]
  },
  {
   "cell_type": "code",
   "execution_count": 17,
   "metadata": {},
   "outputs": [
    {
     "name": "stdout",
     "output_type": "stream",
     "text": [
      "[0.0807134  0.06568471 0.03352049 0.02719917 0.02543261 0.02134582\n",
      " 0.02013941 0.01901336 0.01744596 0.01689277 0.01605119 0.0149427\n",
      " 0.01461687 0.01375327 0.01319985 0.01264759 0.01246494 0.01171725\n",
      " 0.0114677  0.01109773 0.01086534 0.01037769 0.01027376 0.01004571\n",
      " 0.00986951 0.00959273 0.00921974 0.00899822 0.00855151 0.00828037\n",
      " 0.00813803 0.00795114 0.00772495 0.00758095 0.00741138 0.00733595\n",
      " 0.00728862 0.00716848 0.00703851 0.00691741 0.00683863 0.00652787\n",
      " 0.00646817 0.00630114 0.00627126 0.00613312 0.00600697 0.00597013\n",
      " 0.00586868 0.00576312 0.00560589 0.00554329 0.00551702 0.00545614\n",
      " 0.00535125 0.0052748  0.0052231  0.00509672 0.00508628 0.00496642\n",
      " 0.00491792 0.00483686 0.00477322 0.00470913]\n"
     ]
    }
   ],
   "source": [
    "pca = PCA(64)\n",
    "pca.fit(X_train)\n",
    "print(pca.explained_variance_ratio_)"
   ]
  },
  {
   "cell_type": "code",
   "execution_count": 18,
   "metadata": {},
   "outputs": [
    {
     "name": "stderr",
     "output_type": "stream",
     "text": [
      "/home/andy/anaconda3/lib/python3.7/site-packages/sklearn/linear_model/logistic.py:433: FutureWarning: Default solver will be changed to 'lbfgs' in 0.22. Specify a solver to silence this warning.\n",
      "  FutureWarning)\n"
     ]
    }
   ],
   "source": [
    "model = Pipeline([('pca',  PCA(npc)),\n",
    "                  ('poly', PolynomialFeatures()),\n",
    "                  ('lr',   LogisticRegression(C=.08))])\n",
    "model = model.fit(X_train, y_train)"
   ]
  },
  {
   "cell_type": "code",
   "execution_count": 19,
   "metadata": {},
   "outputs": [],
   "source": [
    "def save_predictions(df, predictions, which_set):\n",
    "    pred_df = df[['male']].copy()\n",
    "    pred_df['pred'] = predictions\n",
    "    path = DATAPATH + MODEL_TYPE_ID + '_' + which_set + '_pred_' + timestamp + '.csv'\n",
    "    pred_df.to_csv(path)    "
   ]
  },
  {
   "cell_type": "code",
   "execution_count": 20,
   "metadata": {},
   "outputs": [
    {
     "data": {
      "text/plain": [
       "0.6959847036328871"
      ]
     },
     "execution_count": 20,
     "metadata": {},
     "output_type": "execute_result"
    }
   ],
   "source": [
    "y_train_pred = model.predict_proba(X_train)[:,1]\n",
    "save_predictions(df_train_final, y_train_pred, 'train')\n",
    "f1_score(y_train, y_train_pred>.5)"
   ]
  },
  {
   "cell_type": "code",
   "execution_count": 21,
   "metadata": {},
   "outputs": [
    {
     "name": "stdout",
     "output_type": "stream",
     "text": [
      "[[3406 2057]\n",
      " [1901 3586]]\n"
     ]
    },
    {
     "data": {
      "text/plain": [
       "0.6443845462713387"
      ]
     },
     "execution_count": 21,
     "metadata": {},
     "output_type": "execute_result"
    }
   ],
   "source": [
    "y_pred = model.predict_proba(X_valid)[:,1]\n",
    "save_predictions(df_valid_final, y_pred, 'valid')\n",
    "print( confusion_matrix(y_valid, (y_pred>.5)) )\n",
    "f1_score(y_valid, y_pred>.5)"
   ]
  },
  {
   "cell_type": "code",
   "execution_count": 22,
   "metadata": {},
   "outputs": [
    {
     "data": {
      "text/plain": [
       "0.6385388127853882"
      ]
     },
     "execution_count": 22,
     "metadata": {},
     "output_type": "execute_result"
    }
   ],
   "source": [
    "accuracy_score(y_valid, y_pred>.5)"
   ]
  },
  {
   "cell_type": "code",
   "execution_count": 23,
   "metadata": {},
   "outputs": [
    {
     "name": "stdout",
     "output_type": "stream",
     "text": [
      "[[3217 2038]\n",
      " [1856 3393]]\n"
     ]
    },
    {
     "data": {
      "text/plain": [
       "0.6353932584269664"
      ]
     },
     "execution_count": 23,
     "metadata": {},
     "output_type": "execute_result"
    }
   ],
   "source": [
    "y_test_pred = model.predict_proba(X_test)[:,1]\n",
    "save_predictions(df_test_final, y_test_pred, 'test')\n",
    "print( confusion_matrix(y_test, (y_test_pred>.5)) )\n",
    "f1_score(y_test, y_test_pred>.5)"
   ]
  },
  {
   "cell_type": "code",
   "execution_count": 24,
   "metadata": {},
   "outputs": [
    {
     "data": {
      "text/plain": [
       "0.6292840822543793"
      ]
     },
     "execution_count": 24,
     "metadata": {},
     "output_type": "execute_result"
    }
   ],
   "source": [
    "accuracy_score(y_test, y_test_pred>.5)"
   ]
  },
  {
   "cell_type": "code",
   "execution_count": 25,
   "metadata": {},
   "outputs": [
    {
     "data": {
      "image/png": "[encoded data removed]",
      "text/plain": [
       "<Figure size 432x288 with 1 Axes>"
      ]
     },
     "metadata": {
      "needs_background": "light"
     },
     "output_type": "display_data"
    }
   ],
   "source": [
    "fpr, tpr, _ = roc_curve(y_test, y_test_pred)\n",
    "roc_auc = auc(fpr, tpr)\n",
    "\n",
    "plt.figure()\n",
    "plt.plot(fpr, tpr, color='darkorange',\n",
    "         lw=1, label='ROC curve (area = %0.3f)' % roc_auc)\n",
    "plt.plot([0, 1], [0, 1], color='navy', lw=1, linestyle='--')\n",
    "plt.xlim([0.0, 1.0])\n",
    "plt.ylim([0.0, 1.05])\n",
    "plt.xlabel('False Positive Rate')\n",
    "plt.ylabel('True Positive Rate')\n",
    "plt.title('Receiver operating characteristic curve')\n",
    "plt.legend(loc=\"lower right\")\n",
    "plt.show()"
   ]
  },
  {
   "cell_type": "code",
   "execution_count": 26,
   "metadata": {},
   "outputs": [
    {
     "data": {
      "image/png": "[encoded data removed]",
      "text/plain": [
       "<Figure size 432x288 with 1 Axes>"
      ]
     },
     "metadata": {
      "needs_background": "light"
     },
     "output_type": "display_data"
    }
   ],
   "source": [
    "pd.Series(y_test_pred).hist()\n",
    "plt.show()"
   ]
  },
  {
   "cell_type": "code",
   "execution_count": 27,
   "metadata": {},
   "outputs": [
    {
     "data": {
      "text/html": [
       "<div>\n",
       "<style scoped>\n",
       "    .dataframe tbody tr th:only-of-type {\n",
       "        vertical-align: middle;\n",
       "    }\n",
       "\n",
       "    .dataframe tbody tr th {\n",
       "        vertical-align: top;\n",
       "    }\n",
       "\n",
       "    .dataframe thead th {\n",
       "        text-align: right;\n",
       "    }\n",
       "</style>\n",
       "<table border=\"1\" class=\"dataframe\">\n",
       "  <thead>\n",
       "    <tr style=\"text-align: right;\">\n",
       "      <th></th>\n",
       "      <th></th>\n",
       "      <th>count</th>\n",
       "      <th>accuracy</th>\n",
       "    </tr>\n",
       "    <tr>\n",
       "      <th>minprob</th>\n",
       "      <th>maxprob</th>\n",
       "      <th></th>\n",
       "      <th></th>\n",
       "    </tr>\n",
       "  </thead>\n",
       "  <tbody>\n",
       "    <tr>\n",
       "      <th>0.0</th>\n",
       "      <th>0.1</th>\n",
       "      <td>186</td>\n",
       "      <td>0.865591</td>\n",
       "    </tr>\n",
       "    <tr>\n",
       "      <th>0.1</th>\n",
       "      <th>0.2</th>\n",
       "      <td>718</td>\n",
       "      <td>0.771588</td>\n",
       "    </tr>\n",
       "    <tr>\n",
       "      <th>0.2</th>\n",
       "      <th>0.3</th>\n",
       "      <td>1163</td>\n",
       "      <td>0.681857</td>\n",
       "    </tr>\n",
       "    <tr>\n",
       "      <th>0.3</th>\n",
       "      <th>0.4</th>\n",
       "      <td>1394</td>\n",
       "      <td>0.620516</td>\n",
       "    </tr>\n",
       "    <tr>\n",
       "      <th>0.4</th>\n",
       "      <th>0.5</th>\n",
       "      <td>1612</td>\n",
       "      <td>0.523573</td>\n",
       "    </tr>\n",
       "    <tr>\n",
       "      <th>0.5</th>\n",
       "      <th>0.6</th>\n",
       "      <td>1775</td>\n",
       "      <td>0.541972</td>\n",
       "    </tr>\n",
       "    <tr>\n",
       "      <th>0.6</th>\n",
       "      <th>0.7</th>\n",
       "      <td>1513</td>\n",
       "      <td>0.594845</td>\n",
       "    </tr>\n",
       "    <tr>\n",
       "      <th>0.7</th>\n",
       "      <th>0.8</th>\n",
       "      <td>1093</td>\n",
       "      <td>0.630375</td>\n",
       "    </tr>\n",
       "    <tr>\n",
       "      <th>0.8</th>\n",
       "      <th>0.9</th>\n",
       "      <td>686</td>\n",
       "      <td>0.768222</td>\n",
       "    </tr>\n",
       "    <tr>\n",
       "      <th>0.9</th>\n",
       "      <th>1.0</th>\n",
       "      <td>364</td>\n",
       "      <td>0.865385</td>\n",
       "    </tr>\n",
       "  </tbody>\n",
       "</table>\n",
       "</div>"
      ],
      "text/plain": [
       "                count  accuracy\n",
       "minprob maxprob                \n",
       "0.0     0.1       186  0.865591\n",
       "0.1     0.2       718  0.771588\n",
       "0.2     0.3      1163  0.681857\n",
       "0.3     0.4      1394  0.620516\n",
       "0.4     0.5      1612  0.523573\n",
       "0.5     0.6      1775  0.541972\n",
       "0.6     0.7      1513  0.594845\n",
       "0.7     0.8      1093  0.630375\n",
       "0.8     0.9       686  0.768222\n",
       "0.9     1.0       364  0.865385"
      ]
     },
     "execution_count": 27,
     "metadata": {},
     "output_type": "execute_result"
    }
   ],
   "source": [
    "df_acc = pd.DataFrame(columns=['minprob','maxprob','count','accuracy'])\n",
    "for pbot in np.linspace(0,.9,10):\n",
    "    ptop = pbot+.1\n",
    "    mask = (y_test_pred>=pbot)&(y_test_pred<ptop)\n",
    "    count = int(mask.sum())\n",
    "    acc = accuracy_score(y_test[mask], y_test_pred[mask]>.5)\n",
    "    row = pd.DataFrame({'minprob':[pbot], 'maxprob':[ptop], 'count':[count], 'accuracy':[acc]})\n",
    "    df_acc = pd.concat([df_acc, row])\n",
    "df_acc.set_index(['minprob','maxprob'])"
   ]
  },
  {
   "cell_type": "code",
   "execution_count": 28,
   "metadata": {},
   "outputs": [],
   "source": [
    "if SAVE_MODEL:\n",
    "    from joblib import dump\n",
    "    model_path = DATAPATH + MODEL_TYPE_ID + '_model_' + timestamp + '.joblib'\n",
    "    dump(model, model_path)"
   ]
  },
  {
   "cell_type": "code",
   "execution_count": 29,
   "metadata": {},
   "outputs": [
    {
     "data": {
      "text/plain": [
       "'../data/lrp3_model_201907041223.joblib'"
      ]
     },
     "execution_count": 29,
     "metadata": {},
     "output_type": "execute_result"
    }
   ],
   "source": [
    "model_path"
   ]
  },
  {
   "cell_type": "code",
   "execution_count": null,
   "metadata": {},
   "outputs": [],
   "source": []
  }
 ],
 "metadata": {
  "kernelspec": {
   "display_name": "Python 3",
   "language": "python",
   "name": "python3"
  },
  "language_info": {
   "codemirror_mode": {
    "name": "ipython",
    "version": 3
   },
   "file_extension": ".py",
   "mimetype": "text/x-python",
   "name": "python",
   "nbconvert_exporter": "python",
   "pygments_lexer": "ipython3",
   "version": "3.7.3"
  }
 },
 "nbformat": 4,
 "nbformat_minor": 2
}
