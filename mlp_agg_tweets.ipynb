{
 "cells": [
  {
   "cell_type": "code",
   "execution_count": 1,
   "metadata": {},
   "outputs": [],
   "source": [
    "DATAPATH = '../data/'\n",
    "XFERPATH = '~/downloads/'  # To transfer files from Google Colab\n",
    "FNAME = 'embeds_agg.csv'"
   ]
  },
  {
   "cell_type": "code",
   "execution_count": 2,
   "metadata": {},
   "outputs": [],
   "source": [
    "frompath = XFERPATH + FNAME\n",
    "topath = DATAPATH + FNAME\n",
    "!cp $frompath $topath"
   ]
  },
  {
   "cell_type": "code",
   "execution_count": 3,
   "metadata": {},
   "outputs": [
    {
     "name": "stderr",
     "output_type": "stream",
     "text": [
      "/home/andy/.local/lib/python3.6/site-packages/h5py/__init__.py:36: FutureWarning: Conversion of the second argument of issubdtype from `float` to `np.floating` is deprecated. In future, it will be treated as `np.float64 == np.dtype(float).type`.\n",
      "  from ._conv import register_converters as _register_converters\n",
      "Using TensorFlow backend.\n"
     ]
    }
   ],
   "source": [
    "import keras\n",
    "import lightgbm as lgb\n",
    "import pandas as pd\n",
    "import gender_guesser.detector as gender\n",
    "import numpy as np\n",
    "from sklearn.metrics import confusion_matrix\n",
    "from sklearn.metrics import accuracy_score\n",
    "from sklearn.metrics import f1_score\n",
    "from sklearn.metrics import roc_curve, auc\n",
    "from sklearn.preprocessing import MinMaxScaler\n",
    "import matplotlib.pyplot as plt"
   ]
  },
  {
   "cell_type": "code",
   "execution_count": 4,
   "metadata": {},
   "outputs": [
    {
     "data": {
      "text/html": [
       "<div>\n",
       "<style scoped>\n",
       "    .dataframe tbody tr th:only-of-type {\n",
       "        vertical-align: middle;\n",
       "    }\n",
       "\n",
       "    .dataframe tbody tr th {\n",
       "        vertical-align: top;\n",
       "    }\n",
       "\n",
       "    .dataframe thead th {\n",
       "        text-align: right;\n",
       "    }\n",
       "</style>\n",
       "<table border=\"1\" class=\"dataframe\">\n",
       "  <thead>\n",
       "    <tr style=\"text-align: right;\">\n",
       "      <th></th>\n",
       "      <th></th>\n",
       "      <th>name</th>\n",
       "      <th>male</th>\n",
       "      <th>embed0</th>\n",
       "      <th>embed1</th>\n",
       "      <th>embed2</th>\n",
       "      <th>embed3</th>\n",
       "      <th>embed4</th>\n",
       "    </tr>\n",
       "    <tr>\n",
       "      <th>id</th>\n",
       "      <th>time</th>\n",
       "      <th></th>\n",
       "      <th></th>\n",
       "      <th></th>\n",
       "      <th></th>\n",
       "      <th></th>\n",
       "      <th></th>\n",
       "      <th></th>\n",
       "    </tr>\n",
       "  </thead>\n",
       "  <tbody>\n",
       "    <tr>\n",
       "      <th>425472153</th>\n",
       "      <th>2019-05-25 20:24:48+00:00</th>\n",
       "      <td>Queen K</td>\n",
       "      <td>False</td>\n",
       "      <td>9156</td>\n",
       "      <td>-31075</td>\n",
       "      <td>-21194</td>\n",
       "      <td>41023</td>\n",
       "      <td>33810</td>\n",
       "    </tr>\n",
       "    <tr>\n",
       "      <th>1081873499621273601</th>\n",
       "      <th>2019-05-25 20:24:48+00:00</th>\n",
       "      <td>Alexandru Constantin</td>\n",
       "      <td>True</td>\n",
       "      <td>-34055</td>\n",
       "      <td>62140</td>\n",
       "      <td>-33476</td>\n",
       "      <td>1849</td>\n",
       "      <td>42774</td>\n",
       "    </tr>\n",
       "    <tr>\n",
       "      <th>987721418</th>\n",
       "      <th>2019-05-25 20:24:48+00:00</th>\n",
       "      <td>Susie Carmichael</td>\n",
       "      <td>False</td>\n",
       "      <td>-38618</td>\n",
       "      <td>12734</td>\n",
       "      <td>6150</td>\n",
       "      <td>6856</td>\n",
       "      <td>29976</td>\n",
       "    </tr>\n",
       "    <tr>\n",
       "      <th>980758839770451973</th>\n",
       "      <th>2019-05-25 20:24:52+00:00</th>\n",
       "      <td>Princess Sih.</td>\n",
       "      <td>False</td>\n",
       "      <td>-19252</td>\n",
       "      <td>-1482</td>\n",
       "      <td>-14205</td>\n",
       "      <td>-25178</td>\n",
       "      <td>-47939</td>\n",
       "    </tr>\n",
       "    <tr>\n",
       "      <th>838620336367218692</th>\n",
       "      <th>2019-05-25 20:24:53+00:00</th>\n",
       "      <td>Reid Kisselback</td>\n",
       "      <td>True</td>\n",
       "      <td>-40698</td>\n",
       "      <td>32644</td>\n",
       "      <td>3243</td>\n",
       "      <td>-35412</td>\n",
       "      <td>61766</td>\n",
       "    </tr>\n",
       "  </tbody>\n",
       "</table>\n",
       "</div>"
      ],
      "text/plain": [
       "                                                               name   male  \\\n",
       "id                  time                                                     \n",
       "425472153           2019-05-25 20:24:48+00:00               Queen K  False   \n",
       "1081873499621273601 2019-05-25 20:24:48+00:00  Alexandru Constantin   True   \n",
       "987721418           2019-05-25 20:24:48+00:00      Susie Carmichael  False   \n",
       "980758839770451973  2019-05-25 20:24:52+00:00         Princess Sih.  False   \n",
       "838620336367218692  2019-05-25 20:24:53+00:00       Reid Kisselback   True   \n",
       "\n",
       "                                               embed0  embed1  embed2  embed3  \\\n",
       "id                  time                                                        \n",
       "425472153           2019-05-25 20:24:48+00:00    9156  -31075  -21194   41023   \n",
       "1081873499621273601 2019-05-25 20:24:48+00:00  -34055   62140  -33476    1849   \n",
       "987721418           2019-05-25 20:24:48+00:00  -38618   12734    6150    6856   \n",
       "980758839770451973  2019-05-25 20:24:52+00:00  -19252   -1482  -14205  -25178   \n",
       "838620336367218692  2019-05-25 20:24:53+00:00  -40698   32644    3243  -35412   \n",
       "\n",
       "                                               embed4  \n",
       "id                  time                               \n",
       "425472153           2019-05-25 20:24:48+00:00   33810  \n",
       "1081873499621273601 2019-05-25 20:24:48+00:00   42774  \n",
       "987721418           2019-05-25 20:24:48+00:00   29976  \n",
       "980758839770451973  2019-05-25 20:24:52+00:00  -47939  \n",
       "838620336367218692  2019-05-25 20:24:53+00:00   61766  "
      ]
     },
     "execution_count": 4,
     "metadata": {},
     "output_type": "execute_result"
    }
   ],
   "source": [
    "df = pd.read_csv(DATAPATH+FNAME,index_col=[0,1],parse_dates=['time']).drop(['text'],axis=1)\n",
    "df.head().iloc[:,:7]"
   ]
  },
  {
   "cell_type": "code",
   "execution_count": 5,
   "metadata": {},
   "outputs": [
    {
     "name": "stdout",
     "output_type": "stream",
     "text": [
      "(29678, 514)\n"
     ]
    },
    {
     "data": {
      "text/plain": [
       "(Timestamp('2019-05-21 17:50:48+0000', tz='UTC'),\n",
       " Timestamp('2019-05-26 12:53:53+0000', tz='UTC'))"
      ]
     },
     "execution_count": 5,
     "metadata": {},
     "output_type": "execute_result"
    }
   ],
   "source": [
    "print(df.shape)\n",
    "df.index.get_level_values(1).min(), df.index.get_level_values(1).max()"
   ]
  },
  {
   "cell_type": "code",
   "execution_count": 6,
   "metadata": {},
   "outputs": [
    {
     "data": {
      "text/html": [
       "<div>\n",
       "<style scoped>\n",
       "    .dataframe tbody tr th:only-of-type {\n",
       "        vertical-align: middle;\n",
       "    }\n",
       "\n",
       "    .dataframe tbody tr th {\n",
       "        vertical-align: top;\n",
       "    }\n",
       "\n",
       "    .dataframe thead th {\n",
       "        text-align: right;\n",
       "    }\n",
       "</style>\n",
       "<table border=\"1\" class=\"dataframe\">\n",
       "  <thead>\n",
       "    <tr style=\"text-align: right;\">\n",
       "      <th></th>\n",
       "      <th></th>\n",
       "      <th>name</th>\n",
       "      <th>male</th>\n",
       "      <th>embed0</th>\n",
       "      <th>embed1</th>\n",
       "      <th>embed2</th>\n",
       "      <th>embed3</th>\n",
       "      <th>embed4</th>\n",
       "    </tr>\n",
       "    <tr>\n",
       "      <th>id</th>\n",
       "      <th>time</th>\n",
       "      <th></th>\n",
       "      <th></th>\n",
       "      <th></th>\n",
       "      <th></th>\n",
       "      <th></th>\n",
       "      <th></th>\n",
       "      <th></th>\n",
       "    </tr>\n",
       "  </thead>\n",
       "  <tbody>\n",
       "    <tr>\n",
       "      <th>211806644</th>\n",
       "      <th>2019-05-21 17:50:48+00:00</th>\n",
       "      <td>Tabitha Rayne</td>\n",
       "      <td>False</td>\n",
       "      <td>36840</td>\n",
       "      <td>45825</td>\n",
       "      <td>-8880</td>\n",
       "      <td>20461</td>\n",
       "      <td>33486</td>\n",
       "    </tr>\n",
       "    <tr>\n",
       "      <th>1703564846</th>\n",
       "      <th>2019-05-21 17:50:48+00:00</th>\n",
       "      <td>Dimitri 🖤</td>\n",
       "      <td>True</td>\n",
       "      <td>-42156</td>\n",
       "      <td>32908</td>\n",
       "      <td>-17450</td>\n",
       "      <td>3590</td>\n",
       "      <td>-43536</td>\n",
       "    </tr>\n",
       "    <tr>\n",
       "      <th>971515498411241472</th>\n",
       "      <th>2019-05-21 17:50:48+00:00</th>\n",
       "      <td>Paola Vela</td>\n",
       "      <td>False</td>\n",
       "      <td>68532</td>\n",
       "      <td>13781</td>\n",
       "      <td>-52797</td>\n",
       "      <td>555</td>\n",
       "      <td>-125</td>\n",
       "    </tr>\n",
       "    <tr>\n",
       "      <th>21947445</th>\n",
       "      <th>2019-05-21 17:50:49+00:00</th>\n",
       "      <td>Nathalie</td>\n",
       "      <td>False</td>\n",
       "      <td>42295</td>\n",
       "      <td>-7144</td>\n",
       "      <td>-4412</td>\n",
       "      <td>-29190</td>\n",
       "      <td>31147</td>\n",
       "    </tr>\n",
       "    <tr>\n",
       "      <th>621596924</th>\n",
       "      <th>2019-05-21 17:50:49+00:00</th>\n",
       "      <td>Evan Boland</td>\n",
       "      <td>True</td>\n",
       "      <td>47176</td>\n",
       "      <td>-5129</td>\n",
       "      <td>-26225</td>\n",
       "      <td>-38181</td>\n",
       "      <td>-17701</td>\n",
       "    </tr>\n",
       "  </tbody>\n",
       "</table>\n",
       "</div>"
      ],
      "text/plain": [
       "                                                       name   male  embed0  \\\n",
       "id                 time                                                      \n",
       "211806644          2019-05-21 17:50:48+00:00  Tabitha Rayne  False   36840   \n",
       "1703564846         2019-05-21 17:50:48+00:00      Dimitri 🖤   True  -42156   \n",
       "971515498411241472 2019-05-21 17:50:48+00:00     Paola Vela  False   68532   \n",
       "21947445           2019-05-21 17:50:49+00:00       Nathalie  False   42295   \n",
       "621596924          2019-05-21 17:50:49+00:00    Evan Boland   True   47176   \n",
       "\n",
       "                                              embed1  embed2  embed3  embed4  \n",
       "id                 time                                                       \n",
       "211806644          2019-05-21 17:50:48+00:00   45825   -8880   20461   33486  \n",
       "1703564846         2019-05-21 17:50:48+00:00   32908  -17450    3590  -43536  \n",
       "971515498411241472 2019-05-21 17:50:48+00:00   13781  -52797     555    -125  \n",
       "21947445           2019-05-21 17:50:49+00:00   -7144   -4412  -29190   31147  \n",
       "621596924          2019-05-21 17:50:49+00:00   -5129  -26225  -38181  -17701  "
      ]
     },
     "execution_count": 6,
     "metadata": {},
     "output_type": "execute_result"
    }
   ],
   "source": [
    "df = df.sort_index(level='time')\n",
    "df.head().iloc[:,:7]"
   ]
  },
  {
   "cell_type": "code",
   "execution_count": 7,
   "metadata": {},
   "outputs": [],
   "source": [
    "n_train = int(.6*df.shape[0])\n",
    "n_val = int(.2*df.shape[0])\n",
    "n_test = df.shape[0] - n_val - n_train\n",
    "train_ids = set(df.index.get_level_values(0)[:n_train])\n",
    "val_ids = set(df.index.get_level_values(0)[n_train:n_train+n_val]) - train_ids\n",
    "test_ids = set(df.index.get_level_values(0)[n_train+n_val:]) - train_ids - val_ids"
   ]
  },
  {
   "cell_type": "code",
   "execution_count": 8,
   "metadata": {},
   "outputs": [
    {
     "data": {
      "text/plain": [
       "(17403, 5680, 5611)"
      ]
     },
     "execution_count": 8,
     "metadata": {},
     "output_type": "execute_result"
    }
   ],
   "source": [
    "len(train_ids), len(val_ids), len(test_ids)"
   ]
  },
  {
   "cell_type": "code",
   "execution_count": 9,
   "metadata": {},
   "outputs": [
    {
     "data": {
      "text/plain": [
       "((17806, 514), (5935, 514), (5937, 514))"
      ]
     },
     "execution_count": 9,
     "metadata": {},
     "output_type": "execute_result"
    }
   ],
   "source": [
    "df_train = df.iloc[:n_train,:].copy()\n",
    "df_valid = df.iloc[n_train:n_train+n_val,:].copy()\n",
    "df_test = df.iloc[n_train+n_val:,:].copy()\n",
    "df_train.shape, df_valid.shape, df_test.shape"
   ]
  },
  {
   "cell_type": "code",
   "execution_count": 10,
   "metadata": {},
   "outputs": [
    {
     "data": {
      "text/plain": [
       "((17806, 514), (5775, 514), (5724, 514))"
      ]
     },
     "execution_count": 10,
     "metadata": {},
     "output_type": "execute_result"
    }
   ],
   "source": [
    "train_select = [v in train_ids for v in df_train.index.get_level_values(0).values.tolist()]\n",
    "valid_select = [v in val_ids for v in df_valid.index.get_level_values(0).values.tolist()]\n",
    "test_select = [v in test_ids for v in df_test.index.get_level_values(0).values.tolist()]\n",
    "df_train = df_train[train_select]\n",
    "df_valid = df_valid[valid_select]\n",
    "df_test = df_test[test_select]\n",
    "df_train.shape, df_valid.shape, df_test.shape"
   ]
  },
  {
   "cell_type": "code",
   "execution_count": 11,
   "metadata": {},
   "outputs": [
    {
     "data": {
      "text/plain": [
       "(Timestamp('2019-05-21 17:50:48+0000', tz='UTC'),\n",
       " Timestamp('2019-05-25 11:55:21+0000', tz='UTC'))"
      ]
     },
     "execution_count": 11,
     "metadata": {},
     "output_type": "execute_result"
    }
   ],
   "source": [
    "df_train.index.get_level_values(1).min(), df_train.index.get_level_values(1).max()"
   ]
  },
  {
   "cell_type": "code",
   "execution_count": 12,
   "metadata": {},
   "outputs": [
    {
     "data": {
      "text/plain": [
       "(Timestamp('2019-05-25 11:55:22+0000', tz='UTC'),\n",
       " Timestamp('2019-05-26 06:32:23+0000', tz='UTC'))"
      ]
     },
     "execution_count": 12,
     "metadata": {},
     "output_type": "execute_result"
    }
   ],
   "source": [
    "df_valid.index.get_level_values(1).min(), df_valid.index.get_level_values(1).max()"
   ]
  },
  {
   "cell_type": "code",
   "execution_count": 13,
   "metadata": {},
   "outputs": [
    {
     "data": {
      "text/plain": [
       "(Timestamp('2019-05-26 06:32:25+0000', tz='UTC'),\n",
       " Timestamp('2019-05-26 12:53:53+0000', tz='UTC'))"
      ]
     },
     "execution_count": 13,
     "metadata": {},
     "output_type": "execute_result"
    }
   ],
   "source": [
    "df_test.index.get_level_values(1)[0], df_test.index.get_level_values(1)[-1]"
   ]
  },
  {
   "cell_type": "code",
   "execution_count": 14,
   "metadata": {},
   "outputs": [
    {
     "data": {
      "text/plain": [
       "(set(), set(), set())"
      ]
     },
     "execution_count": 14,
     "metadata": {},
     "output_type": "execute_result"
    }
   ],
   "source": [
    "ids0 = set(df_train.index.get_level_values(0))\n",
    "ids1 = set(df_valid.index.get_level_values(0))\n",
    "ids2 = set(df_test.index.get_level_values(0))\n",
    "ids0.intersection(ids1), ids1.intersection(ids2), ids0.intersection(ids2)"
   ]
  },
  {
   "cell_type": "code",
   "execution_count": 15,
   "metadata": {},
   "outputs": [
    {
     "data": {
      "text/plain": [
       "(11146, 6660)"
      ]
     },
     "execution_count": 15,
     "metadata": {},
     "output_type": "execute_result"
    }
   ],
   "source": [
    "n_males_train = df_train.male.sum()\n",
    "n_females_train = df_train.shape[0] - n_males_train\n",
    "n_males_train, n_females_train"
   ]
  },
  {
   "cell_type": "code",
   "execution_count": 16,
   "metadata": {},
   "outputs": [
    {
     "data": {
      "text/plain": [
       "(3612, 2163)"
      ]
     },
     "execution_count": 16,
     "metadata": {},
     "output_type": "execute_result"
    }
   ],
   "source": [
    "n_males_valid = df_valid.male.sum()\n",
    "n_females_valid = df_valid.shape[0] - n_males_valid\n",
    "n_males_valid, n_females_valid"
   ]
  },
  {
   "cell_type": "code",
   "execution_count": 17,
   "metadata": {},
   "outputs": [
    {
     "data": {
      "text/plain": [
       "(3643, 2081)"
      ]
     },
     "execution_count": 17,
     "metadata": {},
     "output_type": "execute_result"
    }
   ],
   "source": [
    "n_males_test = df_test.male.sum()\n",
    "n_females_test = df_test.shape[0] - n_males_test\n",
    "n_males_test, n_females_test"
   ]
  },
  {
   "cell_type": "code",
   "execution_count": 18,
   "metadata": {},
   "outputs": [
    {
     "data": {
      "text/plain": [
       "(6660, 2163, 2081)"
      ]
     },
     "execution_count": 18,
     "metadata": {},
     "output_type": "execute_result"
    }
   ],
   "source": [
    "n_each_train = min(n_males_train, n_females_train)\n",
    "n_each_valid = min(n_males_valid, n_females_valid)\n",
    "n_each_test = min(n_males_test, n_females_test)\n",
    "n_each_train, n_each_valid, n_each_test"
   ]
  },
  {
   "cell_type": "code",
   "execution_count": 19,
   "metadata": {},
   "outputs": [],
   "source": [
    "df_train_m = df_train[df_train.male].copy().sample(n_each_train)\n",
    "df_train_f = df_train[~df_train.male].copy().sample(n_each_train)\n",
    "df_valid_m = df_valid[df_valid.male].copy().sample(n_each_valid)\n",
    "df_valid_f = df_valid[~df_valid.male].copy().sample(n_each_valid)\n",
    "df_test_m = df_test[df_test.male].copy().sample(n_each_test)\n",
    "df_test_f = df_test[~df_test.male].copy().sample(n_each_test)\n",
    "xy_train = pd.concat([df_train_m, df_train_f]).sample(frac=1)\n",
    "xy_valid = pd.concat([df_valid_m, df_valid_f]).sample(frac=1)\n",
    "xy_test = pd.concat([df_test_m, df_test_f]).sample(frac=1)"
   ]
  },
  {
   "cell_type": "code",
   "execution_count": 20,
   "metadata": {},
   "outputs": [
    {
     "data": {
      "text/plain": [
       "((13320, 514), (4326, 514), (4162, 514))"
      ]
     },
     "execution_count": 20,
     "metadata": {},
     "output_type": "execute_result"
    }
   ],
   "source": [
    "xy_train.shape, xy_valid.shape, xy_test.shape"
   ]
  },
  {
   "cell_type": "code",
   "execution_count": 21,
   "metadata": {},
   "outputs": [
    {
     "data": {
      "text/plain": [
       "(6660, 2163, 2081)"
      ]
     },
     "execution_count": 21,
     "metadata": {},
     "output_type": "execute_result"
    }
   ],
   "source": [
    "xy_train.male.sum(), xy_valid.male.sum(), xy_test.male.sum()"
   ]
  },
  {
   "cell_type": "code",
   "execution_count": 59,
   "metadata": {},
   "outputs": [
    {
     "data": {
      "text/plain": [
       "((13319, 514), (4326, 514), (4162, 514))"
      ]
     },
     "execution_count": 59,
     "metadata": {},
     "output_type": "execute_result"
    }
   ],
   "source": [
    "xy_train = xy_train.dropna()\n",
    "xy_valid = xy_valid.dropna()\n",
    "xy_test = xy_test.dropna()\n",
    "xy_train.shape, xy_valid.shape, xy_test.shape"
   ]
  },
  {
   "cell_type": "code",
   "execution_count": 60,
   "metadata": {},
   "outputs": [],
   "source": [
    "X_train = xy_train.drop(['name','male'],axis=1).values / 1e6\n",
    "y_train = 1*xy_train.male.values\n",
    "X_valid = xy_valid.drop(['name','male'],axis=1).values / 1e6\n",
    "y_valid = 1*xy_valid.male.values\n",
    "X_test = xy_test.drop(['name','male'],axis=1).values / 1e6\n",
    "y_test = 1*xy_test.male.values"
   ]
  },
  {
   "cell_type": "code",
   "execution_count": 61,
   "metadata": {},
   "outputs": [],
   "source": [
    "scaler = MinMaxScaler()\n",
    "X_train = scaler.fit_transform(X_train)\n",
    "X_valid = scaler.transform(X_valid)\n",
    "X_test = scaler.transform(X_test)"
   ]
  },
  {
   "cell_type": "code",
   "execution_count": 62,
   "metadata": {},
   "outputs": [
    {
     "data": {
      "text/plain": [
       "(13319, 512)"
      ]
     },
     "execution_count": 62,
     "metadata": {},
     "output_type": "execute_result"
    }
   ],
   "source": [
    "X_train.shape"
   ]
  },
  {
   "cell_type": "code",
   "execution_count": 101,
   "metadata": {},
   "outputs": [
    {
     "name": "stdout",
     "output_type": "stream",
     "text": [
      "_________________________________________________________________\n",
      "Layer (type)                 Output Shape              Param #   \n",
      "=================================================================\n",
      "dense_75 (Dense)             (None, 64)                32832     \n",
      "_________________________________________________________________\n",
      "batch_normalization_15 (Batc (None, 64)                256       \n",
      "_________________________________________________________________\n",
      "dense_76 (Dense)             (None, 512)               33280     \n",
      "_________________________________________________________________\n",
      "dropout_29 (Dropout)         (None, 512)               0         \n",
      "_________________________________________________________________\n",
      "dense_77 (Dense)             (None, 48)                24624     \n",
      "_________________________________________________________________\n",
      "dropout_30 (Dropout)         (None, 48)                0         \n",
      "_________________________________________________________________\n",
      "dense_78 (Dense)             (None, 8)                 392       \n",
      "_________________________________________________________________\n",
      "dense_79 (Dense)             (None, 1)                 9         \n",
      "=================================================================\n",
      "Total params: 91,393\n",
      "Trainable params: 91,265\n",
      "Non-trainable params: 128\n",
      "_________________________________________________________________\n"
     ]
    }
   ],
   "source": [
    "model = keras.models.Sequential()\n",
    "model.add(keras.layers.Dense(64, activation='relu', input_dim=512))\n",
    "model.add(keras.layers.BatchNormalization())\n",
    "model.add(keras.layers.Dense(512, activation='relu'))\n",
    "model.add(keras.layers.Dropout(.5))\n",
    "model.add(keras.layers.Dense(48, activation='relu'))\n",
    "model.add(keras.layers.Dropout(.8))\n",
    "model.add(keras.layers.Dense(8, activation='relu',))\n",
    "model.add(keras.layers.Dense(1, activation='sigmoid'))\n",
    "model.summary()"
   ]
  },
  {
   "cell_type": "code",
   "execution_count": 102,
   "metadata": {},
   "outputs": [
    {
     "name": "stdout",
     "output_type": "stream",
     "text": [
      "Train on 13319 samples, validate on 4326 samples\n",
      "Epoch 1/12\n",
      "13319/13319 [==============================] - 2s 127us/step - loss: 0.7018 - acc: 0.5063 - val_loss: 0.6904 - val_acc: 0.5411\n",
      "Epoch 2/12\n",
      "13319/13319 [==============================] - 0s 37us/step - loss: 0.6816 - acc: 0.5563 - val_loss: 0.6703 - val_acc: 0.5927\n",
      "Epoch 3/12\n",
      "13319/13319 [==============================] - 1s 38us/step - loss: 0.6728 - acc: 0.5816 - val_loss: 0.6664 - val_acc: 0.5966\n",
      "Epoch 4/12\n",
      "13319/13319 [==============================] - 0s 37us/step - loss: 0.6684 - acc: 0.5889 - val_loss: 0.6651 - val_acc: 0.5918\n",
      "Epoch 5/12\n",
      "13319/13319 [==============================] - 1s 38us/step - loss: 0.6652 - acc: 0.5981 - val_loss: 0.6594 - val_acc: 0.6112\n",
      "Epoch 6/12\n",
      "13319/13319 [==============================] - 0s 37us/step - loss: 0.6632 - acc: 0.6014 - val_loss: 0.6587 - val_acc: 0.6089\n",
      "Epoch 7/12\n",
      "13319/13319 [==============================] - 0s 37us/step - loss: 0.6582 - acc: 0.6018 - val_loss: 0.6592 - val_acc: 0.5975\n",
      "Epoch 8/12\n",
      "13319/13319 [==============================] - 0s 37us/step - loss: 0.6572 - acc: 0.6097 - val_loss: 0.6556 - val_acc: 0.6001\n",
      "Epoch 9/12\n",
      "13319/13319 [==============================] - 0s 37us/step - loss: 0.6571 - acc: 0.6097 - val_loss: 0.6591 - val_acc: 0.6024\n",
      "Epoch 10/12\n",
      "13319/13319 [==============================] - 1s 38us/step - loss: 0.6521 - acc: 0.6125 - val_loss: 0.6560 - val_acc: 0.6019\n",
      "Epoch 11/12\n",
      "13319/13319 [==============================] - 0s 37us/step - loss: 0.6561 - acc: 0.6094 - val_loss: 0.6572 - val_acc: 0.5966\n",
      "Epoch 12/12\n",
      "13319/13319 [==============================] - 1s 38us/step - loss: 0.6553 - acc: 0.6104 - val_loss: 0.6535 - val_acc: 0.6068\n"
     ]
    },
    {
     "data": {
      "text/plain": [
       "<keras.callbacks.History at 0x7f90a4a87e80>"
      ]
     },
     "execution_count": 102,
     "metadata": {},
     "output_type": "execute_result"
    }
   ],
   "source": [
    "model.compile(loss='binary_crossentropy', optimizer='adam', metrics=['accuracy'])\n",
    "model.fit(X_train, y_train,\n",
    "          epochs=12,\n",
    "          batch_size=128,\n",
    "          validation_data=[X_valid,y_valid])"
   ]
  },
  {
   "cell_type": "code",
   "execution_count": 103,
   "metadata": {},
   "outputs": [
    {
     "data": {
      "text/plain": [
       "0.6533476548514142"
      ]
     },
     "execution_count": 103,
     "metadata": {},
     "output_type": "execute_result"
    }
   ],
   "source": [
    "y_train_pred = model.predict(X_train)\n",
    "f1_score(y_train, y_train_pred>.5)"
   ]
  },
  {
   "cell_type": "code",
   "execution_count": 104,
   "metadata": {},
   "outputs": [
    {
     "name": "stdout",
     "output_type": "stream",
     "text": [
      "[[1233  930]\n",
      " [ 771 1392]]\n"
     ]
    },
    {
     "data": {
      "text/plain": [
       "0.6207357859531772"
      ]
     },
     "execution_count": 104,
     "metadata": {},
     "output_type": "execute_result"
    }
   ],
   "source": [
    "y_pred = model.predict(X_valid)\n",
    "print( confusion_matrix(y_valid, (y_pred>.5)) )\n",
    "f1_score(y_valid, y_pred>.5)"
   ]
  },
  {
   "cell_type": "code",
   "execution_count": 105,
   "metadata": {},
   "outputs": [
    {
     "name": "stdout",
     "output_type": "stream",
     "text": [
      "[[1228  853]\n",
      " [ 751 1330]]\n"
     ]
    },
    {
     "data": {
      "text/plain": [
       "0.6238273921200751"
      ]
     },
     "execution_count": 105,
     "metadata": {},
     "output_type": "execute_result"
    }
   ],
   "source": [
    "y_test_pred = model.predict(X_test)\n",
    "print( confusion_matrix(y_test, (y_test_pred>.5)) )\n",
    "f1_score(y_test, y_test_pred>.5)"
   ]
  },
  {
   "cell_type": "code",
   "execution_count": 106,
   "metadata": {},
   "outputs": [
    {
     "data": {
      "text/plain": [
       "0.6146083613647285"
      ]
     },
     "execution_count": 106,
     "metadata": {},
     "output_type": "execute_result"
    }
   ],
   "source": [
    "accuracy_score(y_test, y_test_pred>.5)"
   ]
  },
  {
   "cell_type": "code",
   "execution_count": 107,
   "metadata": {},
   "outputs": [],
   "source": [
    "fpr, tpr, _ = roc_curve(y_test, y_test_pred)\n",
    "roc_auc = auc(fpr, tpr)"
   ]
  },
  {
   "cell_type": "code",
   "execution_count": 108,
   "metadata": {},
   "outputs": [
    {
     "data": {
      "image/png": "[encoded data removed]",
      "text/plain": [
       "<Figure size 432x288 with 1 Axes>"
      ]
     },
     "metadata": {
      "needs_background": "light"
     },
     "output_type": "display_data"
    }
   ],
   "source": [
    "plt.figure()\n",
    "plt.plot(fpr, tpr, color='darkorange',\n",
    "         lw=1, label='ROC curve (area = %0.2f)' % roc_auc)\n",
    "plt.plot([0, 1], [0, 1], color='navy', lw=1, linestyle='--')\n",
    "plt.xlim([0.0, 1.0])\n",
    "plt.ylim([0.0, 1.05])\n",
    "plt.xlabel('False Positive Rate')\n",
    "plt.ylabel('True Positive Rate')\n",
    "plt.title('Receiver operating characteristic example')\n",
    "plt.legend(loc=\"lower right\")\n",
    "plt.show()"
   ]
  },
  {
   "cell_type": "code",
   "execution_count": null,
   "metadata": {},
   "outputs": [],
   "source": []
  }
 ],
 "metadata": {
  "kernelspec": {
   "display_name": "tf",
   "language": "python",
   "name": "tf"
  },
  "language_info": {
   "codemirror_mode": {
    "name": "ipython",
    "version": 3
   },
   "file_extension": ".py",
   "mimetype": "text/x-python",
   "name": "python",
   "nbconvert_exporter": "python",
   "pygments_lexer": "ipython3",
   "version": "3.6.7"
  }
 },
 "nbformat": 4,
 "nbformat_minor": 2
}
