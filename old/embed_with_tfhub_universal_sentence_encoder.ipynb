{
  "nbformat": 4,
  "nbformat_minor": 0,
  "metadata": {
    "colab": {
      "name": "embed_with_tfhub_universal_sentence_encoder",
      "version": "0.3.2",
      "provenance": [],
      "collapsed_sections": [
        "RUymE2l9GZfO"
      ]
    },
    "kernelspec": {
      "display_name": "Python 3",
      "language": "python",
      "name": "python3"
    }
  },
  "cells": [
    {
      "cell_type": "code",
      "metadata": {
        "colab_type": "code",
        "id": "lVjNK8shFKOC",
        "colab": {}
      },
      "source": [
        "# Install the latest Tensorflow version.\n",
        "!pip3 install --quiet \"tensorflow>=1.7\"\n",
        "# Install TF-Hub.\n",
        "!pip3 install --quiet tensorflow-hub\n",
        "!pip3 install --quiet seaborn"
      ],
      "execution_count": 0,
      "outputs": []
    },
    {
      "cell_type": "code",
      "metadata": {
        "colab_type": "code",
        "id": "MSeY-MUQo2Ha",
        "colab": {
          "base_uri": "https://localhost:8080/",
          "height": 71
        },
        "outputId": "e271c52d-c7a0-4f19-c15b-9812bc0cb612"
      },
      "source": [
        "import tensorflow as tf\n",
        "import tensorflow_hub as hub\n",
        "import matplotlib.pyplot as plt\n",
        "import numpy as np\n",
        "import os\n",
        "import pandas as pd\n",
        "import re\n",
        "import seaborn as sns\n",
        "from google.colab import files"
      ],
      "execution_count": 2,
      "outputs": [
        {
          "output_type": "stream",
          "text": [
            "WARNING: Logging before flag parsing goes to stderr.\n",
            "W0523 01:39:37.932060 140514063107968 __init__.py:56] Some hub symbols are not available because TensorFlow version is less than 1.14\n"
          ],
          "name": "stderr"
        }
      ]
    },
    {
      "cell_type": "code",
      "metadata": {
        "id": "jY9H4I22Em9L",
        "colab_type": "code",
        "outputId": "fdcb6be3-4194-4cde-c4c6-db3fe5afb205",
        "colab": {
          "resources": {
            "http://localhost:8080/nbextensions/google.colab/files.js": {
              "data": "Ly8gQ29weXJpZ2h0IDIwMTcgR29vZ2xlIExMQwovLwovLyBMaWNlbnNlZCB1bmRlciB0aGUgQXBhY2hlIExpY2Vuc2UsIFZlcnNpb24gMi4wICh0aGUgIkxpY2Vuc2UiKTsKLy8geW91IG1heSBub3QgdXNlIHRoaXMgZmlsZSBleGNlcHQgaW4gY29tcGxpYW5jZSB3aXRoIHRoZSBMaWNlbnNlLgovLyBZb3UgbWF5IG9idGFpbiBhIGNvcHkgb2YgdGhlIExpY2Vuc2UgYXQKLy8KLy8gICAgICBodHRwOi8vd3d3LmFwYWNoZS5vcmcvbGljZW5zZXMvTElDRU5TRS0yLjAKLy8KLy8gVW5sZXNzIHJlcXVpcmVkIGJ5IGFwcGxpY2FibGUgbGF3IG9yIGFncmVlZCB0byBpbiB3cml0aW5nLCBzb2Z0d2FyZQovLyBkaXN0cmlidXRlZCB1bmRlciB0aGUgTGljZW5zZSBpcyBkaXN0cmlidXRlZCBvbiBhbiAiQVMgSVMiIEJBU0lTLAovLyBXSVRIT1VUIFdBUlJBTlRJRVMgT1IgQ09ORElUSU9OUyBPRiBBTlkgS0lORCwgZWl0aGVyIGV4cHJlc3Mgb3IgaW1wbGllZC4KLy8gU2VlIHRoZSBMaWNlbnNlIGZvciB0aGUgc3BlY2lmaWMgbGFuZ3VhZ2UgZ292ZXJuaW5nIHBlcm1pc3Npb25zIGFuZAovLyBsaW1pdGF0aW9ucyB1bmRlciB0aGUgTGljZW5zZS4KCi8qKgogKiBAZmlsZW92ZXJ2aWV3IEhlbHBlcnMgZm9yIGdvb2dsZS5jb2xhYiBQeXRob24gbW9kdWxlLgogKi8KKGZ1bmN0aW9uKHNjb3BlKSB7CmZ1bmN0aW9uIHNwYW4odGV4dCwgc3R5bGVBdHRyaWJ1dGVzID0ge30pIHsKICBjb25zdCBlbGVtZW50ID0gZG9jdW1lbnQuY3JlYXRlRWxlbWVudCgnc3BhbicpOwogIGVsZW1lbnQudGV4dENvbnRlbnQgPSB0ZXh0OwogIGZvciAoY29uc3Qga2V5IG9mIE9iamVjdC5rZXlzKHN0eWxlQXR0cmlidXRlcykpIHsKICAgIGVsZW1lbnQuc3R5bGVba2V5XSA9IHN0eWxlQXR0cmlidXRlc1trZXldOwogIH0KICByZXR1cm4gZWxlbWVudDsKfQoKLy8gTWF4IG51bWJlciBvZiBieXRlcyB3aGljaCB3aWxsIGJlIHVwbG9hZGVkIGF0IGEgdGltZS4KY29uc3QgTUFYX1BBWUxPQURfU0laRSA9IDEwMCAqIDEwMjQ7Ci8vIE1heCBhbW91bnQgb2YgdGltZSB0byBibG9jayB3YWl0aW5nIGZvciB0aGUgdXNlci4KY29uc3QgRklMRV9DSEFOR0VfVElNRU9VVF9NUyA9IDMwICogMTAwMDsKCmZ1bmN0aW9uIF91cGxvYWRGaWxlcyhpbnB1dElkLCBvdXRwdXRJZCkgewogIGNvbnN0IHN0ZXBzID0gdXBsb2FkRmlsZXNTdGVwKGlucHV0SWQsIG91dHB1dElkKTsKICBjb25zdCBvdXRwdXRFbGVtZW50ID0gZG9jdW1lbnQuZ2V0RWxlbWVudEJ5SWQob3V0cHV0SWQpOwogIC8vIENhY2hlIHN0ZXBzIG9uIHRoZSBvdXRwdXRFbGVtZW50IHRvIG1ha2UgaXQgYXZhaWxhYmxlIGZvciB0aGUgbmV4dCBjYWxsCiAgLy8gdG8gdXBsb2FkRmlsZXNDb250aW51ZSBmcm9tIFB5dGhvbi4KICBvdXRwdXRFbGVtZW50LnN0ZXBzID0gc3RlcHM7CgogIHJldHVybiBfdXBsb2FkRmlsZXNDb250aW51ZShvdXRwdXRJZCk7Cn0KCi8vIFRoaXMgaXMgcm91Z2hseSBhbiBhc3luYyBnZW5lcmF0b3IgKG5vdCBzdXBwb3J0ZWQgaW4gdGhlIGJyb3dzZXIgeWV0KSwKLy8gd2hlcmUgdGhlcmUgYXJlIG11bHRpcGxlIGFzeW5jaHJvbm91cyBzdGVwcyBhbmQgdGhlIFB5dGhvbiBzaWRlIGlzIGdvaW5nCi8vIHRvIHBvbGwgZm9yIGNvbXBsZXRpb24gb2YgZWFjaCBzdGVwLgovLyBUaGlzIHVzZXMgYSBQcm9taXNlIHRvIGJsb2NrIHRoZSBweXRob24gc2lkZSBvbiBjb21wbGV0aW9uIG9mIGVhY2ggc3RlcCwKLy8gdGhlbiBwYXNzZXMgdGhlIHJlc3VsdCBvZiB0aGUgcHJldmlvdXMgc3RlcCBhcyB0aGUgaW5wdXQgdG8gdGhlIG5leHQgc3RlcC4KZnVuY3Rpb24gX3VwbG9hZEZpbGVzQ29udGludWUob3V0cHV0SWQpIHsKICBjb25zdCBvdXRwdXRFbGVtZW50ID0gZG9jdW1lbnQuZ2V0RWxlbWVudEJ5SWQob3V0cHV0SWQpOwogIGNvbnN0IHN0ZXBzID0gb3V0cHV0RWxlbWVudC5zdGVwczsKCiAgY29uc3QgbmV4dCA9IHN0ZXBzLm5leHQob3V0cHV0RWxlbWVudC5sYXN0UHJvbWlzZVZhbHVlKTsKICByZXR1cm4gUHJvbWlzZS5yZXNvbHZlKG5leHQudmFsdWUucHJvbWlzZSkudGhlbigodmFsdWUpID0+IHsKICAgIC8vIENhY2hlIHRoZSBsYXN0IHByb21pc2UgdmFsdWUgdG8gbWFrZSBpdCBhdmFpbGFibGUgdG8gdGhlIG5leHQKICAgIC8vIHN0ZXAgb2YgdGhlIGdlbmVyYXRvci4KICAgIG91dHB1dEVsZW1lbnQubGFzdFByb21pc2VWYWx1ZSA9IHZhbHVlOwogICAgcmV0dXJuIG5leHQudmFsdWUucmVzcG9uc2U7CiAgfSk7Cn0KCi8qKgogKiBHZW5lcmF0b3IgZnVuY3Rpb24gd2hpY2ggaXMgY2FsbGVkIGJldHdlZW4gZWFjaCBhc3luYyBzdGVwIG9mIHRoZSB1cGxvYWQKICogcHJvY2Vzcy4KICogQHBhcmFtIHtzdHJpbmd9IGlucHV0SWQgRWxlbWVudCBJRCBvZiB0aGUgaW5wdXQgZmlsZSBwaWNrZXIgZWxlbWVudC4KICogQHBhcmFtIHtzdHJpbmd9IG91dHB1dElkIEVsZW1lbnQgSUQgb2YgdGhlIG91dHB1dCBkaXNwbGF5LgogKiBAcmV0dXJuIHshSXRlcmFibGU8IU9iamVjdD59IEl0ZXJhYmxlIG9mIG5leHQgc3RlcHMuCiAqLwpmdW5jdGlvbiogdXBsb2FkRmlsZXNTdGVwKGlucHV0SWQsIG91dHB1dElkKSB7CiAgY29uc3QgaW5wdXRFbGVtZW50ID0gZG9jdW1lbnQuZ2V0RWxlbWVudEJ5SWQoaW5wdXRJZCk7CiAgaW5wdXRFbGVtZW50LmRpc2FibGVkID0gZmFsc2U7CgogIGNvbnN0IG91dHB1dEVsZW1lbnQgPSBkb2N1bWVudC5nZXRFbGVtZW50QnlJZChvdXRwdXRJZCk7CiAgb3V0cHV0RWxlbWVudC5pbm5lckhUTUwgPSAnJzsKCiAgY29uc3QgcGlja2VkUHJvbWlzZSA9IG5ldyBQcm9taXNlKChyZXNvbHZlKSA9PiB7CiAgICBpbnB1dEVsZW1lbnQuYWRkRXZlbnRMaXN0ZW5lcignY2hhbmdlJywgKGUpID0+IHsKICAgICAgcmVzb2x2ZShlLnRhcmdldC5maWxlcyk7CiAgICB9KTsKICB9KTsKCiAgY29uc3QgY2FuY2VsID0gZG9jdW1lbnQuY3JlYXRlRWxlbWVudCgnYnV0dG9uJyk7CiAgaW5wdXRFbGVtZW50LnBhcmVudEVsZW1lbnQuYXBwZW5kQ2hpbGQoY2FuY2VsKTsKICBjYW5jZWwudGV4dENvbnRlbnQgPSAnQ2FuY2VsIHVwbG9hZCc7CiAgY29uc3QgY2FuY2VsUHJvbWlzZSA9IG5ldyBQcm9taXNlKChyZXNvbHZlKSA9PiB7CiAgICBjYW5jZWwub25jbGljayA9ICgpID0+IHsKICAgICAgcmVzb2x2ZShudWxsKTsKICAgIH07CiAgfSk7CgogIC8vIENhbmNlbCB1cGxvYWQgaWYgdXNlciBoYXNuJ3QgcGlja2VkIGFueXRoaW5nIGluIHRpbWVvdXQuCiAgY29uc3QgdGltZW91dFByb21pc2UgPSBuZXcgUHJvbWlzZSgocmVzb2x2ZSkgPT4gewogICAgc2V0VGltZW91dCgoKSA9PiB7CiAgICAgIHJlc29sdmUobnVsbCk7CiAgICB9LCBGSUxFX0NIQU5HRV9USU1FT1VUX01TKTsKICB9KTsKCiAgLy8gV2FpdCBmb3IgdGhlIHVzZXIgdG8gcGljayB0aGUgZmlsZXMuCiAgY29uc3QgZmlsZXMgPSB5aWVsZCB7CiAgICBwcm9taXNlOiBQcm9taXNlLnJhY2UoW3BpY2tlZFByb21pc2UsIHRpbWVvdXRQcm9taXNlLCBjYW5jZWxQcm9taXNlXSksCiAgICByZXNwb25zZTogewogICAgICBhY3Rpb246ICdzdGFydGluZycsCiAgICB9CiAgfTsKCiAgaWYgKCFmaWxlcykgewogICAgcmV0dXJuIHsKICAgICAgcmVzcG9uc2U6IHsKICAgICAgICBhY3Rpb246ICdjb21wbGV0ZScsCiAgICAgIH0KICAgIH07CiAgfQoKICBjYW5jZWwucmVtb3ZlKCk7CgogIC8vIERpc2FibGUgdGhlIGlucHV0IGVsZW1lbnQgc2luY2UgZnVydGhlciBwaWNrcyBhcmUgbm90IGFsbG93ZWQuCiAgaW5wdXRFbGVtZW50LmRpc2FibGVkID0gdHJ1ZTsKCiAgZm9yIChjb25zdCBmaWxlIG9mIGZpbGVzKSB7CiAgICBjb25zdCBsaSA9IGRvY3VtZW50LmNyZWF0ZUVsZW1lbnQoJ2xpJyk7CiAgICBsaS5hcHBlbmQoc3BhbihmaWxlLm5hbWUsIHtmb250V2VpZ2h0OiAnYm9sZCd9KSk7CiAgICBsaS5hcHBlbmQoc3BhbigKICAgICAgICBgKCR7ZmlsZS50eXBlIHx8ICduL2EnfSkgLSAke2ZpbGUuc2l6ZX0gYnl0ZXMsIGAgKwogICAgICAgIGBsYXN0IG1vZGlmaWVkOiAkewogICAgICAgICAgICBmaWxlLmxhc3RNb2RpZmllZERhdGUgPyBmaWxlLmxhc3RNb2RpZmllZERhdGUudG9Mb2NhbGVEYXRlU3RyaW5nKCkgOgogICAgICAgICAgICAgICAgICAgICAgICAgICAgICAgICAgICAnbi9hJ30gLSBgKSk7CiAgICBjb25zdCBwZXJjZW50ID0gc3BhbignMCUgZG9uZScpOwogICAgbGkuYXBwZW5kQ2hpbGQocGVyY2VudCk7CgogICAgb3V0cHV0RWxlbWVudC5hcHBlbmRDaGlsZChsaSk7CgogICAgY29uc3QgZmlsZURhdGFQcm9taXNlID0gbmV3IFByb21pc2UoKHJlc29sdmUpID0+IHsKICAgICAgY29uc3QgcmVhZGVyID0gbmV3IEZpbGVSZWFkZXIoKTsKICAgICAgcmVhZGVyLm9ubG9hZCA9IChlKSA9PiB7CiAgICAgICAgcmVzb2x2ZShlLnRhcmdldC5yZXN1bHQpOwogICAgICB9OwogICAgICByZWFkZXIucmVhZEFzQXJyYXlCdWZmZXIoZmlsZSk7CiAgICB9KTsKICAgIC8vIFdhaXQgZm9yIHRoZSBkYXRhIHRvIGJlIHJlYWR5LgogICAgbGV0IGZpbGVEYXRhID0geWllbGQgewogICAgICBwcm9taXNlOiBmaWxlRGF0YVByb21pc2UsCiAgICAgIHJlc3BvbnNlOiB7CiAgICAgICAgYWN0aW9uOiAnY29udGludWUnLAogICAgICB9CiAgICB9OwoKICAgIC8vIFVzZSBhIGNodW5rZWQgc2VuZGluZyB0byBhdm9pZCBtZXNzYWdlIHNpemUgbGltaXRzLiBTZWUgYi82MjExNTY2MC4KICAgIGxldCBwb3NpdGlvbiA9IDA7CiAgICB3aGlsZSAocG9zaXRpb24gPCBmaWxlRGF0YS5ieXRlTGVuZ3RoKSB7CiAgICAgIGNvbnN0IGxlbmd0aCA9IE1hdGgubWluKGZpbGVEYXRhLmJ5dGVMZW5ndGggLSBwb3NpdGlvbiwgTUFYX1BBWUxPQURfU0laRSk7CiAgICAgIGNvbnN0IGNodW5rID0gbmV3IFVpbnQ4QXJyYXkoZmlsZURhdGEsIHBvc2l0aW9uLCBsZW5ndGgpOwogICAgICBwb3NpdGlvbiArPSBsZW5ndGg7CgogICAgICBjb25zdCBiYXNlNjQgPSBidG9hKFN0cmluZy5mcm9tQ2hhckNvZGUuYXBwbHkobnVsbCwgY2h1bmspKTsKICAgICAgeWllbGQgewogICAgICAgIHJlc3BvbnNlOiB7CiAgICAgICAgICBhY3Rpb246ICdhcHBlbmQnLAogICAgICAgICAgZmlsZTogZmlsZS5uYW1lLAogICAgICAgICAgZGF0YTogYmFzZTY0LAogICAgICAgIH0sCiAgICAgIH07CiAgICAgIHBlcmNlbnQudGV4dENvbnRlbnQgPQogICAgICAgICAgYCR7TWF0aC5yb3VuZCgocG9zaXRpb24gLyBmaWxlRGF0YS5ieXRlTGVuZ3RoKSAqIDEwMCl9JSBkb25lYDsKICAgIH0KICB9CgogIC8vIEFsbCBkb25lLgogIHlpZWxkIHsKICAgIHJlc3BvbnNlOiB7CiAgICAgIGFjdGlvbjogJ2NvbXBsZXRlJywKICAgIH0KICB9Owp9CgpzY29wZS5nb29nbGUgPSBzY29wZS5nb29nbGUgfHwge307CnNjb3BlLmdvb2dsZS5jb2xhYiA9IHNjb3BlLmdvb2dsZS5jb2xhYiB8fCB7fTsKc2NvcGUuZ29vZ2xlLmNvbGFiLl9maWxlcyA9IHsKICBfdXBsb2FkRmlsZXMsCiAgX3VwbG9hZEZpbGVzQ29udGludWUsCn07Cn0pKHNlbGYpOwo=",
              "ok": true,
              "headers": [
                [
                  "content-type",
                  "application/javascript"
                ]
              ],
              "status": 200,
              "status_text": ""
            }
          },
          "base_uri": "https://localhost:8080/",
          "height": 71
        }
      },
      "source": [
        "uploaded = files.upload()"
      ],
      "execution_count": 3,
      "outputs": [
        {
          "output_type": "display_data",
          "data": {
            "text/html": [
              "\n",
              "     <input type=\"file\" id=\"files-8fb98024-4439-4de5-ae48-e6fb1d2772a1\" name=\"files[]\" multiple disabled />\n",
              "     <output id=\"result-8fb98024-4439-4de5-ae48-e6fb1d2772a1\">\n",
              "      Upload widget is only available when the cell has been executed in the\n",
              "      current browser session. Please rerun this cell to enable.\n",
              "      </output>\n",
              "      <script src=\"/nbextensions/google.colab/files.js\"></script> "
            ],
            "text/plain": [
              "<IPython.core.display.HTML object>"
            ]
          },
          "metadata": {
            "tags": []
          }
        },
        {
          "output_type": "stream",
          "text": [
            "Saving males.csv to males.csv\n"
          ],
          "name": "stdout"
        }
      ]
    },
    {
      "cell_type": "code",
      "metadata": {
        "id": "0VO2Bt2ZEpAZ",
        "colab_type": "code",
        "outputId": "593e488e-017e-41a4-8f66-65e90ad323e5",
        "colab": {
          "resources": {
            "http://localhost:8080/nbextensions/google.colab/files.js": {
              "data": "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",
              "ok": true,
              "headers": [
                [
                  "content-type",
                  "application/javascript"
                ]
              ],
              "status": 200,
              "status_text": ""
            }
          },
          "base_uri": "https://localhost:8080/",
          "height": 71
        }
      },
      "source": [
        "uploaded = files.upload()"
      ],
      "execution_count": 4,
      "outputs": [
        {
          "output_type": "display_data",
          "data": {
            "text/html": [
              "\n",
              "     <input type=\"file\" id=\"files-74498d77-1f22-4ec8-b2d1-44e9b62efb18\" name=\"files[]\" multiple disabled />\n",
              "     <output id=\"result-74498d77-1f22-4ec8-b2d1-44e9b62efb18\">\n",
              "      Upload widget is only available when the cell has been executed in the\n",
              "      current browser session. Please rerun this cell to enable.\n",
              "      </output>\n",
              "      <script src=\"/nbextensions/google.colab/files.js\"></script> "
            ],
            "text/plain": [
              "<IPython.core.display.HTML object>"
            ]
          },
          "metadata": {
            "tags": []
          }
        },
        {
          "output_type": "stream",
          "text": [
            "Saving females.csv to females.csv\n"
          ],
          "name": "stdout"
        }
      ]
    },
    {
      "cell_type": "code",
      "metadata": {
        "id": "KHPK-77NEzgC",
        "colab_type": "code",
        "colab": {}
      },
      "source": [
        "fem = pd.read_csv('females.csv', index_col='id')\n",
        "mal = pd.read_csv('males.csv', index_col='id')"
      ],
      "execution_count": 0,
      "outputs": []
    },
    {
      "cell_type": "code",
      "metadata": {
        "id": "wX_naSWwmjAd",
        "colab_type": "code",
        "outputId": "582dd4cc-6423-4b65-c73f-a1c4cd934feb",
        "colab": {
          "base_uri": "https://localhost:8080/",
          "height": 34
        }
      },
      "source": [
        "fem.shape, mal.shape"
      ],
      "execution_count": 9,
      "outputs": [
        {
          "output_type": "execute_result",
          "data": {
            "text/plain": [
              "((1189, 2), (1816, 2))"
            ]
          },
          "metadata": {
            "tags": []
          },
          "execution_count": 9
        }
      ]
    },
    {
      "cell_type": "code",
      "metadata": {
        "id": "V6iPl-QeFRWv",
        "colab_type": "code",
        "colab": {}
      },
      "source": [
        "messages = [v for v in fem.text.values] + [v for v in mal.text.values]"
      ],
      "execution_count": 0,
      "outputs": []
    },
    {
      "cell_type": "code",
      "metadata": {
        "colab_type": "code",
        "id": "zwty8Z6mAkdV",
        "colab": {}
      },
      "source": [
        "module_url = \"https://tfhub.dev/google/universal-sentence-encoder/2\" #@param [\"https://tfhub.dev/google/universal-sentence-encoder/2\", \"https://tfhub.dev/google/universal-sentence-encoder-large/3\"]"
      ],
      "execution_count": 0,
      "outputs": []
    },
    {
      "cell_type": "code",
      "metadata": {
        "colab_type": "code",
        "id": "Q8F4LNGFqOiq",
        "colab": {
          "base_uri": "https://localhost:8080/",
          "height": 139
        },
        "outputId": "27af0b3d-4fde-4e81-c95a-85abf1e07dcc"
      },
      "source": [
        "# Import the Universal Sentence Encoder's TF Hub module\n",
        "embed = hub.Module(module_url)\n",
        "\n",
        "# Reduce logging output.\n",
        "tf.logging.set_verbosity(tf.logging.ERROR)\n",
        "\n",
        "with tf.Session() as session:\n",
        "  session.run([tf.global_variables_initializer(), tf.tables_initializer()])\n",
        "  message_embeddings = session.run(embed(messages))\n"
      ],
      "execution_count": 12,
      "outputs": [
        {
          "output_type": "stream",
          "text": [
            "WARNING:tensorflow:From /usr/local/lib/python3.6/dist-packages/tensorflow/python/ops/control_flow_ops.py:3632: colocate_with (from tensorflow.python.framework.ops) is deprecated and will be removed in a future version.\n",
            "Instructions for updating:\n",
            "Colocations handled automatically by placer.\n"
          ],
          "name": "stdout"
        },
        {
          "output_type": "stream",
          "text": [
            "W0523 01:42:27.793694 140514063107968 deprecation.py:323] From /usr/local/lib/python3.6/dist-packages/tensorflow/python/ops/control_flow_ops.py:3632: colocate_with (from tensorflow.python.framework.ops) is deprecated and will be removed in a future version.\n",
            "Instructions for updating:\n",
            "Colocations handled automatically by placer.\n"
          ],
          "name": "stderr"
        }
      ]
    },
    {
      "cell_type": "code",
      "metadata": {
        "id": "nJtWcG0eF-XY",
        "colab_type": "code",
        "outputId": "37178434-a085-4fdf-cd88-76f602e01a63",
        "colab": {
          "base_uri": "https://localhost:8080/",
          "height": 34
        }
      },
      "source": [
        "type(message_embeddings), message_embeddings.shape"
      ],
      "execution_count": 13,
      "outputs": [
        {
          "output_type": "execute_result",
          "data": {
            "text/plain": [
              "(numpy.ndarray, (3005, 512))"
            ]
          },
          "metadata": {
            "tags": []
          },
          "execution_count": 13
        }
      ]
    },
    {
      "cell_type": "code",
      "metadata": {
        "id": "d7C-4CmCUw9i",
        "colab_type": "code",
        "colab": {
          "base_uri": "https://localhost:8080/",
          "height": 235
        },
        "outputId": "cc1ae1c5-3d55-4247-e260-5d6520a9c08a"
      },
      "source": [
        "fem.head()"
      ],
      "execution_count": 14,
      "outputs": [
        {
          "output_type": "execute_result",
          "data": {
            "text/html": [
              "<div>\n",
              "<style scoped>\n",
              "    .dataframe tbody tr th:only-of-type {\n",
              "        vertical-align: middle;\n",
              "    }\n",
              "\n",
              "    .dataframe tbody tr th {\n",
              "        vertical-align: top;\n",
              "    }\n",
              "\n",
              "    .dataframe thead th {\n",
              "        text-align: right;\n",
              "    }\n",
              "</style>\n",
              "<table border=\"1\" class=\"dataframe\">\n",
              "  <thead>\n",
              "    <tr style=\"text-align: right;\">\n",
              "      <th></th>\n",
              "      <th>name</th>\n",
              "      <th>text</th>\n",
              "    </tr>\n",
              "    <tr>\n",
              "      <th>id</th>\n",
              "      <th></th>\n",
              "      <th></th>\n",
              "    </tr>\n",
              "  </thead>\n",
              "  <tbody>\n",
              "    <tr>\n",
              "      <th>1045196569056669704</th>\n",
              "      <td>Amanda ❤💙</td>\n",
              "      <td>Can they please get LeBron to travel back the...</td>\n",
              "    </tr>\n",
              "    <tr>\n",
              "      <th>774717684009369600</th>\n",
              "      <td>Yvonne Conte</td>\n",
              "      <td>So what happens when a Republican elected Pre...</td>\n",
              "    </tr>\n",
              "    <tr>\n",
              "      <th>334381911</th>\n",
              "      <td>Sunshine</td>\n",
              "      <td>No get rid of Mr Glass aka G. Stanton</td>\n",
              "    </tr>\n",
              "    <tr>\n",
              "      <th>17491245</th>\n",
              "      <td>Dina</td>\n",
              "      <td>Well, I think that was ONE of the plots. G...</td>\n",
              "    </tr>\n",
              "    <tr>\n",
              "      <th>360577036</th>\n",
              "      <td>Elizabeth Booker</td>\n",
              "      <td>Ive just sat and watched them all in one go. R...</td>\n",
              "    </tr>\n",
              "  </tbody>\n",
              "</table>\n",
              "</div>"
            ],
            "text/plain": [
              "                                 name                                               text\n",
              "id                                                                                      \n",
              "1045196569056669704         Amanda ❤💙   Can they please get LeBron to travel back the...\n",
              "774717684009369600       Yvonne Conte   So what happens when a Republican elected Pre...\n",
              "334381911                    Sunshine              No get rid of Mr Glass aka G. Stanton\n",
              "17491245                         Dina      Well, I think that was ONE of the plots. G...\n",
              "360577036            Elizabeth Booker  Ive just sat and watched them all in one go. R..."
            ]
          },
          "metadata": {
            "tags": []
          },
          "execution_count": 14
        }
      ]
    },
    {
      "cell_type": "code",
      "metadata": {
        "id": "a340nAsoGLiz",
        "colab_type": "code",
        "outputId": "23257f25-a5a8-4fb0-8d7a-f7ce13e06f88",
        "colab": {
          "base_uri": "https://localhost:8080/",
          "height": 304
        }
      },
      "source": [
        "index = [n for n in fem.index.values] + [n for n in mal.index.values]\n",
        "df = pd.DataFrame(message_embeddings, index=index)\n",
        "df['names'] = [n for n in fem.name.values] + [n for n in mal.name.values]\n",
        "df.head()"
      ],
      "execution_count": 15,
      "outputs": [
        {
          "output_type": "execute_result",
          "data": {
            "text/html": [
              "<div>\n",
              "<style scoped>\n",
              "    .dataframe tbody tr th:only-of-type {\n",
              "        vertical-align: middle;\n",
              "    }\n",
              "\n",
              "    .dataframe tbody tr th {\n",
              "        vertical-align: top;\n",
              "    }\n",
              "\n",
              "    .dataframe thead th {\n",
              "        text-align: right;\n",
              "    }\n",
              "</style>\n",
              "<table border=\"1\" class=\"dataframe\">\n",
              "  <thead>\n",
              "    <tr style=\"text-align: right;\">\n",
              "      <th></th>\n",
              "      <th>0</th>\n",
              "      <th>1</th>\n",
              "      <th>2</th>\n",
              "      <th>3</th>\n",
              "      <th>4</th>\n",
              "      <th>5</th>\n",
              "      <th>6</th>\n",
              "      <th>7</th>\n",
              "      <th>8</th>\n",
              "      <th>9</th>\n",
              "      <th>10</th>\n",
              "      <th>11</th>\n",
              "      <th>12</th>\n",
              "      <th>13</th>\n",
              "      <th>14</th>\n",
              "      <th>15</th>\n",
              "      <th>16</th>\n",
              "      <th>17</th>\n",
              "      <th>18</th>\n",
              "      <th>19</th>\n",
              "      <th>20</th>\n",
              "      <th>21</th>\n",
              "      <th>22</th>\n",
              "      <th>23</th>\n",
              "      <th>24</th>\n",
              "      <th>25</th>\n",
              "      <th>26</th>\n",
              "      <th>27</th>\n",
              "      <th>28</th>\n",
              "      <th>29</th>\n",
              "      <th>30</th>\n",
              "      <th>31</th>\n",
              "      <th>32</th>\n",
              "      <th>33</th>\n",
              "      <th>34</th>\n",
              "      <th>35</th>\n",
              "      <th>36</th>\n",
              "      <th>37</th>\n",
              "      <th>38</th>\n",
              "      <th>39</th>\n",
              "      <th>...</th>\n",
              "      <th>473</th>\n",
              "      <th>474</th>\n",
              "      <th>475</th>\n",
              "      <th>476</th>\n",
              "      <th>477</th>\n",
              "      <th>478</th>\n",
              "      <th>479</th>\n",
              "      <th>480</th>\n",
              "      <th>481</th>\n",
              "      <th>482</th>\n",
              "      <th>483</th>\n",
              "      <th>484</th>\n",
              "      <th>485</th>\n",
              "      <th>486</th>\n",
              "      <th>487</th>\n",
              "      <th>488</th>\n",
              "      <th>489</th>\n",
              "      <th>490</th>\n",
              "      <th>491</th>\n",
              "      <th>492</th>\n",
              "      <th>493</th>\n",
              "      <th>494</th>\n",
              "      <th>495</th>\n",
              "      <th>496</th>\n",
              "      <th>497</th>\n",
              "      <th>498</th>\n",
              "      <th>499</th>\n",
              "      <th>500</th>\n",
              "      <th>501</th>\n",
              "      <th>502</th>\n",
              "      <th>503</th>\n",
              "      <th>504</th>\n",
              "      <th>505</th>\n",
              "      <th>506</th>\n",
              "      <th>507</th>\n",
              "      <th>508</th>\n",
              "      <th>509</th>\n",
              "      <th>510</th>\n",
              "      <th>511</th>\n",
              "      <th>names</th>\n",
              "    </tr>\n",
              "  </thead>\n",
              "  <tbody>\n",
              "    <tr>\n",
              "      <th>1045196569056669704</th>\n",
              "      <td>0.058569</td>\n",
              "      <td>-0.065579</td>\n",
              "      <td>-0.091680</td>\n",
              "      <td>-0.029350</td>\n",
              "      <td>-0.082061</td>\n",
              "      <td>0.040025</td>\n",
              "      <td>0.011938</td>\n",
              "      <td>0.049602</td>\n",
              "      <td>0.014164</td>\n",
              "      <td>-0.038351</td>\n",
              "      <td>0.002580</td>\n",
              "      <td>0.073598</td>\n",
              "      <td>-0.043038</td>\n",
              "      <td>0.060973</td>\n",
              "      <td>0.035005</td>\n",
              "      <td>-0.059537</td>\n",
              "      <td>0.010795</td>\n",
              "      <td>-0.088264</td>\n",
              "      <td>-0.045886</td>\n",
              "      <td>0.036765</td>\n",
              "      <td>-0.073455</td>\n",
              "      <td>-0.080936</td>\n",
              "      <td>0.038910</td>\n",
              "      <td>-0.004207</td>\n",
              "      <td>0.037646</td>\n",
              "      <td>0.017342</td>\n",
              "      <td>0.041132</td>\n",
              "      <td>-0.034925</td>\n",
              "      <td>-0.018732</td>\n",
              "      <td>0.000820</td>\n",
              "      <td>-0.055030</td>\n",
              "      <td>0.007342</td>\n",
              "      <td>-0.063040</td>\n",
              "      <td>0.039307</td>\n",
              "      <td>-0.047043</td>\n",
              "      <td>-0.007980</td>\n",
              "      <td>0.029151</td>\n",
              "      <td>-0.003039</td>\n",
              "      <td>0.027103</td>\n",
              "      <td>0.047805</td>\n",
              "      <td>...</td>\n",
              "      <td>0.044146</td>\n",
              "      <td>0.075780</td>\n",
              "      <td>-0.024666</td>\n",
              "      <td>-0.042693</td>\n",
              "      <td>0.065748</td>\n",
              "      <td>0.072012</td>\n",
              "      <td>0.023438</td>\n",
              "      <td>0.069640</td>\n",
              "      <td>0.046911</td>\n",
              "      <td>0.046241</td>\n",
              "      <td>0.023207</td>\n",
              "      <td>-0.075455</td>\n",
              "      <td>0.023328</td>\n",
              "      <td>0.013087</td>\n",
              "      <td>0.034808</td>\n",
              "      <td>-0.045063</td>\n",
              "      <td>-0.014542</td>\n",
              "      <td>-0.076553</td>\n",
              "      <td>-0.011312</td>\n",
              "      <td>0.031087</td>\n",
              "      <td>0.002200</td>\n",
              "      <td>0.029909</td>\n",
              "      <td>0.017149</td>\n",
              "      <td>-0.068731</td>\n",
              "      <td>-0.023617</td>\n",
              "      <td>-0.022645</td>\n",
              "      <td>-0.050423</td>\n",
              "      <td>0.013238</td>\n",
              "      <td>0.081469</td>\n",
              "      <td>-0.004042</td>\n",
              "      <td>-0.030435</td>\n",
              "      <td>0.039811</td>\n",
              "      <td>-0.001934</td>\n",
              "      <td>-0.033885</td>\n",
              "      <td>-0.027129</td>\n",
              "      <td>0.032534</td>\n",
              "      <td>-0.016910</td>\n",
              "      <td>-0.041840</td>\n",
              "      <td>-0.066517</td>\n",
              "      <td>Amanda ❤💙</td>\n",
              "    </tr>\n",
              "    <tr>\n",
              "      <th>774717684009369600</th>\n",
              "      <td>-0.038947</td>\n",
              "      <td>-0.000198</td>\n",
              "      <td>-0.060618</td>\n",
              "      <td>-0.005743</td>\n",
              "      <td>-0.078363</td>\n",
              "      <td>0.021608</td>\n",
              "      <td>0.083429</td>\n",
              "      <td>0.063364</td>\n",
              "      <td>0.059811</td>\n",
              "      <td>-0.079157</td>\n",
              "      <td>0.062399</td>\n",
              "      <td>0.063567</td>\n",
              "      <td>0.012763</td>\n",
              "      <td>0.033863</td>\n",
              "      <td>0.010946</td>\n",
              "      <td>0.003626</td>\n",
              "      <td>-0.019147</td>\n",
              "      <td>-0.039022</td>\n",
              "      <td>0.018608</td>\n",
              "      <td>0.080299</td>\n",
              "      <td>-0.020109</td>\n",
              "      <td>-0.076050</td>\n",
              "      <td>0.007108</td>\n",
              "      <td>0.082708</td>\n",
              "      <td>-0.058936</td>\n",
              "      <td>-0.013551</td>\n",
              "      <td>0.062157</td>\n",
              "      <td>-0.055876</td>\n",
              "      <td>0.052360</td>\n",
              "      <td>-0.044577</td>\n",
              "      <td>0.026502</td>\n",
              "      <td>-0.022395</td>\n",
              "      <td>-0.016706</td>\n",
              "      <td>-0.041368</td>\n",
              "      <td>-0.047946</td>\n",
              "      <td>0.025112</td>\n",
              "      <td>-0.064687</td>\n",
              "      <td>0.010609</td>\n",
              "      <td>0.045639</td>\n",
              "      <td>-0.011273</td>\n",
              "      <td>...</td>\n",
              "      <td>-0.041248</td>\n",
              "      <td>0.036176</td>\n",
              "      <td>-0.039014</td>\n",
              "      <td>-0.040325</td>\n",
              "      <td>0.071845</td>\n",
              "      <td>0.036247</td>\n",
              "      <td>0.081887</td>\n",
              "      <td>-0.063211</td>\n",
              "      <td>-0.024985</td>\n",
              "      <td>0.048721</td>\n",
              "      <td>-0.076636</td>\n",
              "      <td>0.021856</td>\n",
              "      <td>0.008817</td>\n",
              "      <td>-0.056974</td>\n",
              "      <td>-0.011601</td>\n",
              "      <td>-0.043175</td>\n",
              "      <td>0.043376</td>\n",
              "      <td>-0.077759</td>\n",
              "      <td>0.010611</td>\n",
              "      <td>0.025840</td>\n",
              "      <td>0.030351</td>\n",
              "      <td>0.034275</td>\n",
              "      <td>0.039701</td>\n",
              "      <td>-0.072724</td>\n",
              "      <td>-0.021317</td>\n",
              "      <td>0.014650</td>\n",
              "      <td>0.059373</td>\n",
              "      <td>-0.028800</td>\n",
              "      <td>-0.009482</td>\n",
              "      <td>-0.032683</td>\n",
              "      <td>-0.029205</td>\n",
              "      <td>0.069821</td>\n",
              "      <td>0.017588</td>\n",
              "      <td>0.040863</td>\n",
              "      <td>-0.030275</td>\n",
              "      <td>0.047834</td>\n",
              "      <td>-0.013850</td>\n",
              "      <td>-0.064477</td>\n",
              "      <td>0.024759</td>\n",
              "      <td>Yvonne Conte</td>\n",
              "    </tr>\n",
              "    <tr>\n",
              "      <th>334381911</th>\n",
              "      <td>0.088421</td>\n",
              "      <td>-0.009570</td>\n",
              "      <td>-0.085473</td>\n",
              "      <td>0.010273</td>\n",
              "      <td>-0.093392</td>\n",
              "      <td>0.077757</td>\n",
              "      <td>-0.025262</td>\n",
              "      <td>0.042900</td>\n",
              "      <td>-0.025423</td>\n",
              "      <td>-0.007675</td>\n",
              "      <td>-0.008337</td>\n",
              "      <td>0.060840</td>\n",
              "      <td>-0.021788</td>\n",
              "      <td>-0.017261</td>\n",
              "      <td>0.062016</td>\n",
              "      <td>0.002212</td>\n",
              "      <td>0.075745</td>\n",
              "      <td>0.054111</td>\n",
              "      <td>0.019973</td>\n",
              "      <td>0.005921</td>\n",
              "      <td>-0.013216</td>\n",
              "      <td>-0.035556</td>\n",
              "      <td>-0.011965</td>\n",
              "      <td>-0.034182</td>\n",
              "      <td>0.037952</td>\n",
              "      <td>0.036164</td>\n",
              "      <td>-0.042349</td>\n",
              "      <td>-0.045229</td>\n",
              "      <td>-0.024147</td>\n",
              "      <td>-0.043017</td>\n",
              "      <td>-0.042007</td>\n",
              "      <td>-0.036111</td>\n",
              "      <td>-0.010639</td>\n",
              "      <td>-0.064219</td>\n",
              "      <td>0.011043</td>\n",
              "      <td>0.036141</td>\n",
              "      <td>0.037741</td>\n",
              "      <td>-0.001022</td>\n",
              "      <td>0.065669</td>\n",
              "      <td>-0.008722</td>\n",
              "      <td>...</td>\n",
              "      <td>0.089665</td>\n",
              "      <td>0.038273</td>\n",
              "      <td>0.006309</td>\n",
              "      <td>-0.057674</td>\n",
              "      <td>0.060225</td>\n",
              "      <td>0.011598</td>\n",
              "      <td>-0.026830</td>\n",
              "      <td>0.081314</td>\n",
              "      <td>-0.007020</td>\n",
              "      <td>-0.059651</td>\n",
              "      <td>0.047601</td>\n",
              "      <td>-0.021224</td>\n",
              "      <td>-0.027261</td>\n",
              "      <td>0.013645</td>\n",
              "      <td>0.021786</td>\n",
              "      <td>-0.070880</td>\n",
              "      <td>0.035685</td>\n",
              "      <td>0.019379</td>\n",
              "      <td>-0.051474</td>\n",
              "      <td>0.072423</td>\n",
              "      <td>-0.044067</td>\n",
              "      <td>-0.000753</td>\n",
              "      <td>-0.029506</td>\n",
              "      <td>0.020184</td>\n",
              "      <td>-0.010950</td>\n",
              "      <td>-0.050624</td>\n",
              "      <td>0.003134</td>\n",
              "      <td>-0.024515</td>\n",
              "      <td>-0.032485</td>\n",
              "      <td>0.023940</td>\n",
              "      <td>-0.002437</td>\n",
              "      <td>0.025510</td>\n",
              "      <td>-0.026548</td>\n",
              "      <td>-0.003747</td>\n",
              "      <td>-0.054380</td>\n",
              "      <td>0.070094</td>\n",
              "      <td>0.006940</td>\n",
              "      <td>-0.088164</td>\n",
              "      <td>0.024163</td>\n",
              "      <td>Sunshine</td>\n",
              "    </tr>\n",
              "    <tr>\n",
              "      <th>17491245</th>\n",
              "      <td>-0.021786</td>\n",
              "      <td>-0.024920</td>\n",
              "      <td>-0.048070</td>\n",
              "      <td>-0.063250</td>\n",
              "      <td>-0.059432</td>\n",
              "      <td>0.034641</td>\n",
              "      <td>0.031758</td>\n",
              "      <td>0.079691</td>\n",
              "      <td>0.006389</td>\n",
              "      <td>0.064993</td>\n",
              "      <td>-0.046659</td>\n",
              "      <td>-0.042280</td>\n",
              "      <td>0.098501</td>\n",
              "      <td>-0.064898</td>\n",
              "      <td>-0.084650</td>\n",
              "      <td>-0.032270</td>\n",
              "      <td>0.078228</td>\n",
              "      <td>0.081046</td>\n",
              "      <td>0.060885</td>\n",
              "      <td>-0.034475</td>\n",
              "      <td>0.022979</td>\n",
              "      <td>-0.075073</td>\n",
              "      <td>-0.014603</td>\n",
              "      <td>0.038703</td>\n",
              "      <td>0.017708</td>\n",
              "      <td>-0.002044</td>\n",
              "      <td>-0.070244</td>\n",
              "      <td>-0.029161</td>\n",
              "      <td>0.023932</td>\n",
              "      <td>0.014623</td>\n",
              "      <td>-0.041941</td>\n",
              "      <td>-0.065379</td>\n",
              "      <td>-0.040847</td>\n",
              "      <td>0.064948</td>\n",
              "      <td>0.009613</td>\n",
              "      <td>0.054622</td>\n",
              "      <td>0.043460</td>\n",
              "      <td>0.052210</td>\n",
              "      <td>0.023572</td>\n",
              "      <td>0.051224</td>\n",
              "      <td>...</td>\n",
              "      <td>-0.065037</td>\n",
              "      <td>0.031099</td>\n",
              "      <td>-0.044304</td>\n",
              "      <td>-0.035610</td>\n",
              "      <td>0.059640</td>\n",
              "      <td>-0.008806</td>\n",
              "      <td>0.018471</td>\n",
              "      <td>-0.047595</td>\n",
              "      <td>0.099724</td>\n",
              "      <td>-0.039869</td>\n",
              "      <td>-0.065231</td>\n",
              "      <td>0.046216</td>\n",
              "      <td>0.070372</td>\n",
              "      <td>-0.024285</td>\n",
              "      <td>0.040707</td>\n",
              "      <td>-0.023737</td>\n",
              "      <td>-0.036609</td>\n",
              "      <td>-0.048629</td>\n",
              "      <td>0.030558</td>\n",
              "      <td>0.036264</td>\n",
              "      <td>0.023459</td>\n",
              "      <td>0.013780</td>\n",
              "      <td>0.067338</td>\n",
              "      <td>-0.008755</td>\n",
              "      <td>0.053234</td>\n",
              "      <td>-0.004295</td>\n",
              "      <td>0.005601</td>\n",
              "      <td>-0.044332</td>\n",
              "      <td>-0.033253</td>\n",
              "      <td>-0.063996</td>\n",
              "      <td>-0.024126</td>\n",
              "      <td>0.006456</td>\n",
              "      <td>-0.019221</td>\n",
              "      <td>-0.044635</td>\n",
              "      <td>-0.073153</td>\n",
              "      <td>0.037682</td>\n",
              "      <td>-0.001223</td>\n",
              "      <td>-0.040404</td>\n",
              "      <td>-0.029900</td>\n",
              "      <td>Dina</td>\n",
              "    </tr>\n",
              "    <tr>\n",
              "      <th>360577036</th>\n",
              "      <td>-0.045635</td>\n",
              "      <td>-0.049451</td>\n",
              "      <td>-0.002246</td>\n",
              "      <td>-0.047154</td>\n",
              "      <td>0.011612</td>\n",
              "      <td>0.001651</td>\n",
              "      <td>0.010348</td>\n",
              "      <td>-0.022888</td>\n",
              "      <td>0.085357</td>\n",
              "      <td>0.056037</td>\n",
              "      <td>0.020395</td>\n",
              "      <td>0.000486</td>\n",
              "      <td>0.045669</td>\n",
              "      <td>-0.024753</td>\n",
              "      <td>-0.030551</td>\n",
              "      <td>-0.007622</td>\n",
              "      <td>0.068846</td>\n",
              "      <td>0.026182</td>\n",
              "      <td>0.002941</td>\n",
              "      <td>-0.067922</td>\n",
              "      <td>0.061444</td>\n",
              "      <td>-0.003961</td>\n",
              "      <td>-0.065039</td>\n",
              "      <td>-0.030888</td>\n",
              "      <td>-0.087191</td>\n",
              "      <td>-0.096096</td>\n",
              "      <td>-0.044789</td>\n",
              "      <td>-0.043894</td>\n",
              "      <td>-0.021889</td>\n",
              "      <td>0.078270</td>\n",
              "      <td>0.052183</td>\n",
              "      <td>0.044669</td>\n",
              "      <td>0.014601</td>\n",
              "      <td>0.003074</td>\n",
              "      <td>0.019319</td>\n",
              "      <td>0.003063</td>\n",
              "      <td>0.007424</td>\n",
              "      <td>0.050439</td>\n",
              "      <td>-0.015330</td>\n",
              "      <td>-0.038495</td>\n",
              "      <td>...</td>\n",
              "      <td>-0.013964</td>\n",
              "      <td>0.042609</td>\n",
              "      <td>0.057221</td>\n",
              "      <td>-0.063749</td>\n",
              "      <td>-0.007034</td>\n",
              "      <td>-0.027661</td>\n",
              "      <td>-0.062836</td>\n",
              "      <td>0.017668</td>\n",
              "      <td>0.007965</td>\n",
              "      <td>0.076515</td>\n",
              "      <td>-0.024381</td>\n",
              "      <td>0.021185</td>\n",
              "      <td>0.029890</td>\n",
              "      <td>0.029165</td>\n",
              "      <td>-0.047130</td>\n",
              "      <td>-0.069135</td>\n",
              "      <td>0.017794</td>\n",
              "      <td>-0.096288</td>\n",
              "      <td>-0.020320</td>\n",
              "      <td>0.050442</td>\n",
              "      <td>0.034892</td>\n",
              "      <td>-0.090380</td>\n",
              "      <td>0.022576</td>\n",
              "      <td>0.054276</td>\n",
              "      <td>0.059213</td>\n",
              "      <td>-0.042146</td>\n",
              "      <td>0.067588</td>\n",
              "      <td>-0.040782</td>\n",
              "      <td>0.005758</td>\n",
              "      <td>0.008626</td>\n",
              "      <td>0.014130</td>\n",
              "      <td>-0.010233</td>\n",
              "      <td>0.003693</td>\n",
              "      <td>-0.020414</td>\n",
              "      <td>-0.078303</td>\n",
              "      <td>0.045025</td>\n",
              "      <td>-0.025883</td>\n",
              "      <td>-0.042053</td>\n",
              "      <td>-0.068529</td>\n",
              "      <td>Elizabeth Booker</td>\n",
              "    </tr>\n",
              "  </tbody>\n",
              "</table>\n",
              "<p>5 rows × 513 columns</p>\n",
              "</div>"
            ],
            "text/plain": [
              "                            0         1  ...       511             names\n",
              "1045196569056669704  0.058569 -0.065579  ... -0.066517         Amanda ❤💙\n",
              "774717684009369600  -0.038947 -0.000198  ...  0.024759      Yvonne Conte\n",
              "334381911            0.088421 -0.009570  ...  0.024163          Sunshine\n",
              "17491245            -0.021786 -0.024920  ... -0.029900              Dina\n",
              "360577036           -0.045635 -0.049451  ... -0.068529  Elizabeth Booker\n",
              "\n",
              "[5 rows x 513 columns]"
            ]
          },
          "metadata": {
            "tags": []
          },
          "execution_count": 15
        }
      ]
    },
    {
      "cell_type": "code",
      "metadata": {
        "id": "WgiifOeqHthU",
        "colab_type": "code",
        "colab": {}
      },
      "source": [
        "df.to_csv('embeds.csv',float_format='%.8f')"
      ],
      "execution_count": 0,
      "outputs": []
    },
    {
      "cell_type": "code",
      "metadata": {
        "id": "AdqZt0PAH-Es",
        "colab_type": "code",
        "colab": {}
      },
      "source": [
        "files.download('embeds.csv')"
      ],
      "execution_count": 0,
      "outputs": []
    },
    {
      "cell_type": "code",
      "metadata": {
        "id": "7yUsJS4Xmx8p",
        "colab_type": "code",
        "colab": {}
      },
      "source": [
        ""
      ],
      "execution_count": 0,
      "outputs": []
    }
  ]
}