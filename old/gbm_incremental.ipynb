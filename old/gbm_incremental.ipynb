{
 "cells": [
  {
   "cell_type": "code",
   "execution_count": 1,
   "metadata": {},
   "outputs": [],
   "source": [
    "DATAPATH = '../data/'\n",
    "XFERPATH = '~/gdrive_files/twitgen/'  # To transfer files from Google Colab\n",
    "TRAIN_FNAME = 'embed_train_201906020021.csv'\n",
    "VALID_FNAME = 'embed_valid_201906020021.csv'\n",
    "TEST_FNAME = 'embed_test_201906020021.csv'\n",
    "LRP_TIMESTAMP = '201906021549'"
   ]
  },
  {
   "cell_type": "code",
   "execution_count": 2,
   "metadata": {},
   "outputs": [],
   "source": [
    "import lightgbm as lgb\n",
    "import pandas as pd\n",
    "import numpy as np\n",
    "from sklearn.metrics import confusion_matrix\n",
    "from sklearn.metrics import accuracy_score\n",
    "from sklearn.metrics import f1_score\n",
    "from sklearn.metrics import roc_curve, auc\n",
    "import matplotlib.pyplot as plt"
   ]
  },
  {
   "cell_type": "code",
   "execution_count": 3,
   "metadata": {},
   "outputs": [],
   "source": [
    "# Get LRP predictions\n",
    "fp_train = DATAPATH + 'lrp_train_pred_' + LRP_TIMESTAMP + '.csv'\n",
    "lrp_train_pred = pd.read_csv(fp_train, index_col=['id','time'], parse_dates=['time'])\n",
    "\n",
    "fp_valid = DATAPATH + 'lrp_valid_pred_' + LRP_TIMESTAMP + '.csv'\n",
    "valid_pred = pd.read_csv(fp_valid, index_col=['id','time'], parse_dates=['time'])\n",
    "\n",
    "fp_test = DATAPATH + 'lrp_test_pred_' + LRP_TIMESTAMP + '.csv'\n",
    "test_pred = pd.read_csv(fp_test, index_col=['id','time'], parse_dates=['time'])"
   ]
  },
  {
   "cell_type": "code",
   "execution_count": 4,
   "metadata": {},
   "outputs": [
    {
     "data": {
      "text/html": [
       "<div>\n",
       "<style scoped>\n",
       "    .dataframe tbody tr th:only-of-type {\n",
       "        vertical-align: middle;\n",
       "    }\n",
       "\n",
       "    .dataframe tbody tr th {\n",
       "        vertical-align: top;\n",
       "    }\n",
       "\n",
       "    .dataframe thead th {\n",
       "        text-align: right;\n",
       "    }\n",
       "</style>\n",
       "<table border=\"1\" class=\"dataframe\">\n",
       "  <thead>\n",
       "    <tr style=\"text-align: right;\">\n",
       "      <th></th>\n",
       "      <th></th>\n",
       "      <th>male</th>\n",
       "      <th>embed0</th>\n",
       "      <th>embed1</th>\n",
       "      <th>embed2</th>\n",
       "      <th>embed3</th>\n",
       "      <th>embed4</th>\n",
       "      <th>embed5</th>\n",
       "    </tr>\n",
       "    <tr>\n",
       "      <th>id</th>\n",
       "      <th>time</th>\n",
       "      <th></th>\n",
       "      <th></th>\n",
       "      <th></th>\n",
       "      <th></th>\n",
       "      <th></th>\n",
       "      <th></th>\n",
       "      <th></th>\n",
       "    </tr>\n",
       "  </thead>\n",
       "  <tbody>\n",
       "    <tr>\n",
       "      <th>1083596943807393792</th>\n",
       "      <th>2019-05-27 23:27:08+00:00</th>\n",
       "      <td>True</td>\n",
       "      <td>-14081</td>\n",
       "      <td>80216</td>\n",
       "      <td>26727</td>\n",
       "      <td>19969</td>\n",
       "      <td>-5932</td>\n",
       "      <td>14983</td>\n",
       "    </tr>\n",
       "    <tr>\n",
       "      <th>815783987784187904</th>\n",
       "      <th>2019-05-24 15:36:01+00:00</th>\n",
       "      <td>False</td>\n",
       "      <td>-8092</td>\n",
       "      <td>-61741</td>\n",
       "      <td>24805</td>\n",
       "      <td>-21488</td>\n",
       "      <td>-20012</td>\n",
       "      <td>6800</td>\n",
       "    </tr>\n",
       "    <tr>\n",
       "      <th>3458239641</th>\n",
       "      <th>2019-05-24 19:00:37+00:00</th>\n",
       "      <td>False</td>\n",
       "      <td>-47872</td>\n",
       "      <td>-23766</td>\n",
       "      <td>28058</td>\n",
       "      <td>63213</td>\n",
       "      <td>9773</td>\n",
       "      <td>31955</td>\n",
       "    </tr>\n",
       "    <tr>\n",
       "      <th>1003729876250226688</th>\n",
       "      <th>2019-05-26 12:53:00+00:00</th>\n",
       "      <td>True</td>\n",
       "      <td>-16403</td>\n",
       "      <td>68003</td>\n",
       "      <td>17321</td>\n",
       "      <td>110208</td>\n",
       "      <td>4481</td>\n",
       "      <td>-44518</td>\n",
       "    </tr>\n",
       "    <tr>\n",
       "      <th>2360143940</th>\n",
       "      <th>2019-05-28 03:50:46+00:00</th>\n",
       "      <td>False</td>\n",
       "      <td>-11004</td>\n",
       "      <td>-11367</td>\n",
       "      <td>-47373</td>\n",
       "      <td>58910</td>\n",
       "      <td>31987</td>\n",
       "      <td>-48830</td>\n",
       "    </tr>\n",
       "  </tbody>\n",
       "</table>\n",
       "</div>"
      ],
      "text/plain": [
       "                                                male  embed0  embed1  embed2  \\\n",
       "id                  time                                                       \n",
       "1083596943807393792 2019-05-27 23:27:08+00:00   True  -14081   80216   26727   \n",
       "815783987784187904  2019-05-24 15:36:01+00:00  False   -8092  -61741   24805   \n",
       "3458239641          2019-05-24 19:00:37+00:00  False  -47872  -23766   28058   \n",
       "1003729876250226688 2019-05-26 12:53:00+00:00   True  -16403   68003   17321   \n",
       "2360143940          2019-05-28 03:50:46+00:00  False  -11004  -11367  -47373   \n",
       "\n",
       "                                               embed3  embed4  embed5  \n",
       "id                  time                                               \n",
       "1083596943807393792 2019-05-27 23:27:08+00:00   19969   -5932   14983  \n",
       "815783987784187904  2019-05-24 15:36:01+00:00  -21488  -20012    6800  \n",
       "3458239641          2019-05-24 19:00:37+00:00   63213    9773   31955  \n",
       "1003729876250226688 2019-05-26 12:53:00+00:00  110208    4481  -44518  \n",
       "2360143940          2019-05-28 03:50:46+00:00   58910   31987  -48830  "
      ]
     },
     "execution_count": 4,
     "metadata": {},
     "output_type": "execute_result"
    }
   ],
   "source": [
    "df_train = pd.read_csv(DATAPATH+TRAIN_FNAME, index_col=[0,1], parse_dates=['time'])\n",
    "df_valid = pd.read_csv(DATAPATH+VALID_FNAME, index_col=[0,1], parse_dates=['time'])\n",
    "df_test = pd.read_csv(DATAPATH+TEST_FNAME, index_col=[0,1], parse_dates=['time'])\n",
    "df_train.head().iloc[:,:7]"
   ]
  },
  {
   "cell_type": "code",
   "execution_count": 5,
   "metadata": {},
   "outputs": [
    {
     "name": "stdout",
     "output_type": "stream",
     "text": [
      "(34146, 513) (10914, 513) (10450, 513)\n",
      "2019-05-21 17:50:48+00:00 2019-05-28 12:44:26+00:00\n",
      "2019-05-28 12:44:27+00:00 2019-05-30 12:09:54+00:00\n",
      "2019-05-30 12:10:02+00:00 2019-06-01 19:55:43+00:00\n"
     ]
    }
   ],
   "source": [
    "print(df_train.shape, df_valid.shape, df_test.shape)\n",
    "print(df_train.index.get_level_values(1).min(), df_train.index.get_level_values(1).max())\n",
    "print(df_valid.index.get_level_values(1).min(), df_valid.index.get_level_values(1).max())\n",
    "print(df_test.index.get_level_values(1).min(), df_test.index.get_level_values(1).max())"
   ]
  },
  {
   "cell_type": "code",
   "execution_count": 6,
   "metadata": {},
   "outputs": [],
   "source": [
    "def getxy(df):\n",
    "    X = df.drop(['male'],axis=1).values / 1e6\n",
    "    y = 1*df.male.values\n",
    "    return(X, y)\n",
    "    \n",
    "X_train, y_train = getxy(df_train)\n",
    "X_valid, y_valid = getxy(df_valid)\n",
    "X_test, y_test = getxy(df_test)"
   ]
  },
  {
   "cell_type": "code",
   "execution_count": 7,
   "metadata": {},
   "outputs": [],
   "source": [
    "d_train = lgb.Dataset(X_train, label=y_train)\n",
    "params = {}\n",
    "params['objective'] = 'binary'\n",
    "params['learning_rate'] = .025\n",
    "params['sub_feature'] = .3\n",
    "params['lambda_l1'] = 7\n",
    "params['lambda_l2'] = 2\n",
    "params['max_depth'] = 5\n",
    "\n",
    "nboost=50\n",
    "\n",
    "model = lgb.train(params, d_train, nboost)"
   ]
  },
  {
   "cell_type": "code",
   "execution_count": 8,
   "metadata": {},
   "outputs": [
    {
     "data": {
      "text/plain": [
       "0.7076302167110228"
      ]
     },
     "execution_count": 8,
     "metadata": {},
     "output_type": "execute_result"
    }
   ],
   "source": [
    "y_train_pred = model.predict(X_train)\n",
    "f1_score(y_train, y_train_pred>.5)"
   ]
  },
  {
   "cell_type": "code",
   "execution_count": 9,
   "metadata": {},
   "outputs": [
    {
     "name": "stdout",
     "output_type": "stream",
     "text": [
      "[[3271 2186]\n",
      " [1939 3518]]\n"
     ]
    },
    {
     "data": {
      "text/plain": [
       "0.6304094615177851"
      ]
     },
     "execution_count": 9,
     "metadata": {},
     "output_type": "execute_result"
    }
   ],
   "source": [
    "y_pred = model.predict(X_valid)\n",
    "print( confusion_matrix(y_valid, (y_pred>.5)) )\n",
    "f1_score(y_valid, y_pred>.5)"
   ]
  },
  {
   "cell_type": "code",
   "execution_count": 10,
   "metadata": {},
   "outputs": [
    {
     "data": {
      "text/plain": [
       "0.6220450797141286"
      ]
     },
     "execution_count": 10,
     "metadata": {},
     "output_type": "execute_result"
    }
   ],
   "source": [
    "accuracy_score(y_valid, y_pred>.5)"
   ]
  },
  {
   "cell_type": "code",
   "execution_count": 11,
   "metadata": {},
   "outputs": [
    {
     "data": {
      "text/plain": [
       "0.6316657504123144"
      ]
     },
     "execution_count": 11,
     "metadata": {},
     "output_type": "execute_result"
    }
   ],
   "source": [
    "frac = .5\n",
    "combo_pred = frac*valid_pred.pred+(1-frac)*y_pred\n",
    "accuracy_score(y_valid, combo_pred>.5)"
   ]
  },
  {
   "cell_type": "code",
   "execution_count": 12,
   "metadata": {},
   "outputs": [
    {
     "data": {
      "text/plain": [
       "0.6183732057416268"
      ]
     },
     "execution_count": 12,
     "metadata": {},
     "output_type": "execute_result"
    }
   ],
   "source": [
    "y_test_pred_lgb = model.predict(X_test)\n",
    "accuracy_score(y_test, y_test_pred_lgb>.5)"
   ]
  },
  {
   "cell_type": "code",
   "execution_count": 13,
   "metadata": {},
   "outputs": [
    {
     "name": "stdout",
     "output_type": "stream",
     "text": [
      "[[3138 2087]\n",
      " [1901 3324]]\n"
     ]
    },
    {
     "data": {
      "text/plain": [
       "0.6250470101541933"
      ]
     },
     "execution_count": 13,
     "metadata": {},
     "output_type": "execute_result"
    }
   ],
   "source": [
    "print( confusion_matrix(y_test, (y_test_pred_lgb>.5)) )\n",
    "f1_score(y_test, y_test_pred_lgb>.5)"
   ]
  },
  {
   "cell_type": "code",
   "execution_count": 14,
   "metadata": {},
   "outputs": [
    {
     "name": "stdout",
     "output_type": "stream",
     "text": [
      "[[3173 2052]\n",
      " [1869 3356]]\n"
     ]
    },
    {
     "data": {
      "text/plain": [
       "0.6312423586946299"
      ]
     },
     "execution_count": 14,
     "metadata": {},
     "output_type": "execute_result"
    }
   ],
   "source": [
    "test_combo_pred = frac*test_pred.pred+(1-frac)*y_test_pred_lgb\n",
    "\n",
    "print( confusion_matrix(y_test, (test_combo_pred>.5)) )\n",
    "f1_score(y_test, test_combo_pred>.5)"
   ]
  },
  {
   "cell_type": "code",
   "execution_count": 15,
   "metadata": {},
   "outputs": [
    {
     "data": {
      "text/plain": [
       "0.6247846889952153"
      ]
     },
     "execution_count": 15,
     "metadata": {},
     "output_type": "execute_result"
    }
   ],
   "source": [
    "accuracy_score(y_test, test_combo_pred>.5)"
   ]
  },
  {
   "cell_type": "code",
   "execution_count": 16,
   "metadata": {},
   "outputs": [
    {
     "data": {
      "image/png": "[encoded data removed]",
      "text/plain": [
       "<Figure size 432x288 with 1 Axes>"
      ]
     },
     "metadata": {
      "needs_background": "light"
     },
     "output_type": "display_data"
    }
   ],
   "source": [
    "fpr, tpr, _ = roc_curve(y_test, test_combo_pred)\n",
    "roc_auc = auc(fpr, tpr)\n",
    "\n",
    "plt.figure()\n",
    "plt.plot(fpr, tpr, color='darkorange',\n",
    "         lw=1, label='ROC curve (area = %0.2f)' % roc_auc)\n",
    "plt.plot([0, 1], [0, 1], color='navy', lw=1, linestyle='--')\n",
    "plt.xlim([0.0, 1.0])\n",
    "plt.ylim([0.0, 1.05])\n",
    "plt.xlabel('False Positive Rate')\n",
    "plt.ylabel('True Positive Rate')\n",
    "plt.title('Receiver operating characteristic curve')\n",
    "plt.legend(loc=\"lower right\")\n",
    "plt.show()"
   ]
  },
  {
   "cell_type": "code",
   "execution_count": 17,
   "metadata": {},
   "outputs": [
    {
     "name": "stderr",
     "output_type": "stream",
     "text": [
      "/Users/andy/anaconda/lib/python3.6/site-packages/numpy/lib/function_base.py:356: RuntimeWarning: Mean of empty slice.\n",
      "  avg = a.mean(axis)\n"
     ]
    },
    {
     "data": {
      "text/html": [
       "<div>\n",
       "<style scoped>\n",
       "    .dataframe tbody tr th:only-of-type {\n",
       "        vertical-align: middle;\n",
       "    }\n",
       "\n",
       "    .dataframe tbody tr th {\n",
       "        vertical-align: top;\n",
       "    }\n",
       "\n",
       "    .dataframe thead th {\n",
       "        text-align: right;\n",
       "    }\n",
       "</style>\n",
       "<table border=\"1\" class=\"dataframe\">\n",
       "  <thead>\n",
       "    <tr style=\"text-align: right;\">\n",
       "      <th></th>\n",
       "      <th></th>\n",
       "      <th>count</th>\n",
       "      <th>accuracy</th>\n",
       "    </tr>\n",
       "    <tr>\n",
       "      <th>minprob</th>\n",
       "      <th>maxprob</th>\n",
       "      <th></th>\n",
       "      <th></th>\n",
       "    </tr>\n",
       "  </thead>\n",
       "  <tbody>\n",
       "    <tr>\n",
       "      <th>0.0</th>\n",
       "      <th>0.1</th>\n",
       "      <td>0</td>\n",
       "      <td>NaN</td>\n",
       "    </tr>\n",
       "    <tr>\n",
       "      <th>0.1</th>\n",
       "      <th>0.2</th>\n",
       "      <td>212</td>\n",
       "      <td>0.867925</td>\n",
       "    </tr>\n",
       "    <tr>\n",
       "      <th>0.2</th>\n",
       "      <th>0.3</th>\n",
       "      <td>914</td>\n",
       "      <td>0.750547</td>\n",
       "    </tr>\n",
       "    <tr>\n",
       "      <th>0.3</th>\n",
       "      <th>0.4</th>\n",
       "      <td>1559</td>\n",
       "      <td>0.640154</td>\n",
       "    </tr>\n",
       "    <tr>\n",
       "      <th>0.4</th>\n",
       "      <th>0.5</th>\n",
       "      <td>2357</td>\n",
       "      <td>0.553670</td>\n",
       "    </tr>\n",
       "    <tr>\n",
       "      <th>0.5</th>\n",
       "      <th>0.6</th>\n",
       "      <td>2333</td>\n",
       "      <td>0.540506</td>\n",
       "    </tr>\n",
       "    <tr>\n",
       "      <th>0.6</th>\n",
       "      <th>0.7</th>\n",
       "      <td>1822</td>\n",
       "      <td>0.616905</td>\n",
       "    </tr>\n",
       "    <tr>\n",
       "      <th>0.7</th>\n",
       "      <th>0.8</th>\n",
       "      <td>879</td>\n",
       "      <td>0.732651</td>\n",
       "    </tr>\n",
       "    <tr>\n",
       "      <th>0.8</th>\n",
       "      <th>0.9</th>\n",
       "      <td>374</td>\n",
       "      <td>0.874332</td>\n",
       "    </tr>\n",
       "    <tr>\n",
       "      <th>0.9</th>\n",
       "      <th>1.0</th>\n",
       "      <td>0</td>\n",
       "      <td>NaN</td>\n",
       "    </tr>\n",
       "  </tbody>\n",
       "</table>\n",
       "</div>"
      ],
      "text/plain": [
       "                count  accuracy\n",
       "minprob maxprob                \n",
       "0.0     0.1         0       NaN\n",
       "0.1     0.2       212  0.867925\n",
       "0.2     0.3       914  0.750547\n",
       "0.3     0.4      1559  0.640154\n",
       "0.4     0.5      2357  0.553670\n",
       "0.5     0.6      2333  0.540506\n",
       "0.6     0.7      1822  0.616905\n",
       "0.7     0.8       879  0.732651\n",
       "0.8     0.9       374  0.874332\n",
       "0.9     1.0         0       NaN"
      ]
     },
     "execution_count": 17,
     "metadata": {},
     "output_type": "execute_result"
    }
   ],
   "source": [
    "df_acc = pd.DataFrame(columns=['minprob','maxprob','count','accuracy'])\n",
    "for pbot in np.linspace(0,.9,10):\n",
    "    ptop = pbot+.1\n",
    "    mask = (test_combo_pred>=pbot)&(test_combo_pred<ptop)\n",
    "    count = int(mask.sum())\n",
    "    acc = accuracy_score(y_test[mask], test_combo_pred[mask]>.5)\n",
    "    row = pd.DataFrame({'minprob':[pbot], 'maxprob':[ptop], 'count':[count], 'accuracy':[acc]})\n",
    "    df_acc = pd.concat([df_acc, row])\n",
    "df_acc.set_index(['minprob','maxprob'])"
   ]
  },
  {
   "cell_type": "code",
   "execution_count": null,
   "metadata": {},
   "outputs": [],
   "source": []
  }
 ],
 "metadata": {
  "kernelspec": {
   "display_name": "Python 3",
   "language": "python",
   "name": "python3"
  },
  "language_info": {
   "codemirror_mode": {
    "name": "ipython",
    "version": 3
   },
   "file_extension": ".py",
   "mimetype": "text/x-python",
   "name": "python",
   "nbconvert_exporter": "python",
   "pygments_lexer": "ipython3",
   "version": "3.6.8"
  }
 },
 "nbformat": 4,
 "nbformat_minor": 2
}
