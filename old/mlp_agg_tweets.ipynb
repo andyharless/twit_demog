{
 "cells": [
  {
   "cell_type": "code",
   "execution_count": 1,
   "metadata": {},
   "outputs": [],
   "source": [
    "DATAPATH = '../data/'\n",
    "XFERPATH = '~/downloads/'  # To transfer files from Google Colab\n",
    "FNAME = 'embeds_agg.csv'"
   ]
  },
  {
   "cell_type": "code",
   "execution_count": 2,
   "metadata": {},
   "outputs": [],
   "source": [
    "frompath = XFERPATH + FNAME\n",
    "topath = DATAPATH + FNAME\n",
    "!cp $frompath $topath"
   ]
  },
  {
   "cell_type": "code",
   "execution_count": 3,
   "metadata": {},
   "outputs": [
    {
     "name": "stderr",
     "output_type": "stream",
     "text": [
      "/home/andy/.local/lib/python3.6/site-packages/h5py/__init__.py:36: FutureWarning: Conversion of the second argument of issubdtype from `float` to `np.floating` is deprecated. In future, it will be treated as `np.float64 == np.dtype(float).type`.\n",
      "  from ._conv import register_converters as _register_converters\n",
      "Using TensorFlow backend.\n"
     ]
    }
   ],
   "source": [
    "import keras\n",
    "import lightgbm as lgb\n",
    "import pandas as pd\n",
    "import gender_guesser.detector as gender\n",
    "import numpy as np\n",
    "from sklearn.metrics import confusion_matrix\n",
    "from sklearn.metrics import accuracy_score\n",
    "from sklearn.metrics import f1_score\n",
    "from sklearn.metrics import roc_curve, auc\n",
    "from sklearn.preprocessing import MinMaxScaler\n",
    "import matplotlib.pyplot as plt\n",
    "from utils import get_rows, balance, balanced_split_by_time_and_id"
   ]
  },
  {
   "cell_type": "code",
   "execution_count": 4,
   "metadata": {},
   "outputs": [
    {
     "data": {
      "text/html": [
       "<div>\n",
       "<style scoped>\n",
       "    .dataframe tbody tr th:only-of-type {\n",
       "        vertical-align: middle;\n",
       "    }\n",
       "\n",
       "    .dataframe tbody tr th {\n",
       "        vertical-align: top;\n",
       "    }\n",
       "\n",
       "    .dataframe thead th {\n",
       "        text-align: right;\n",
       "    }\n",
       "</style>\n",
       "<table border=\"1\" class=\"dataframe\">\n",
       "  <thead>\n",
       "    <tr style=\"text-align: right;\">\n",
       "      <th></th>\n",
       "      <th></th>\n",
       "      <th>name</th>\n",
       "      <th>male</th>\n",
       "      <th>embed0</th>\n",
       "      <th>embed1</th>\n",
       "      <th>embed2</th>\n",
       "      <th>embed3</th>\n",
       "      <th>embed4</th>\n",
       "    </tr>\n",
       "    <tr>\n",
       "      <th>id</th>\n",
       "      <th>time</th>\n",
       "      <th></th>\n",
       "      <th></th>\n",
       "      <th></th>\n",
       "      <th></th>\n",
       "      <th></th>\n",
       "      <th></th>\n",
       "      <th></th>\n",
       "    </tr>\n",
       "  </thead>\n",
       "  <tbody>\n",
       "    <tr>\n",
       "      <th>425472153</th>\n",
       "      <th>2019-05-25 20:24:48+00:00</th>\n",
       "      <td>Queen K</td>\n",
       "      <td>False</td>\n",
       "      <td>9156</td>\n",
       "      <td>-31075</td>\n",
       "      <td>-21194</td>\n",
       "      <td>41023</td>\n",
       "      <td>33810</td>\n",
       "    </tr>\n",
       "    <tr>\n",
       "      <th>1081873499621273601</th>\n",
       "      <th>2019-05-25 20:24:48+00:00</th>\n",
       "      <td>Alexandru Constantin</td>\n",
       "      <td>True</td>\n",
       "      <td>-34055</td>\n",
       "      <td>62140</td>\n",
       "      <td>-33476</td>\n",
       "      <td>1849</td>\n",
       "      <td>42774</td>\n",
       "    </tr>\n",
       "    <tr>\n",
       "      <th>987721418</th>\n",
       "      <th>2019-05-25 20:24:48+00:00</th>\n",
       "      <td>Susie Carmichael</td>\n",
       "      <td>False</td>\n",
       "      <td>-38618</td>\n",
       "      <td>12734</td>\n",
       "      <td>6150</td>\n",
       "      <td>6856</td>\n",
       "      <td>29976</td>\n",
       "    </tr>\n",
       "    <tr>\n",
       "      <th>980758839770451973</th>\n",
       "      <th>2019-05-25 20:24:52+00:00</th>\n",
       "      <td>Princess Sih.</td>\n",
       "      <td>False</td>\n",
       "      <td>-19252</td>\n",
       "      <td>-1482</td>\n",
       "      <td>-14205</td>\n",
       "      <td>-25178</td>\n",
       "      <td>-47939</td>\n",
       "    </tr>\n",
       "    <tr>\n",
       "      <th>838620336367218692</th>\n",
       "      <th>2019-05-25 20:24:53+00:00</th>\n",
       "      <td>Reid Kisselback</td>\n",
       "      <td>True</td>\n",
       "      <td>-40698</td>\n",
       "      <td>32644</td>\n",
       "      <td>3243</td>\n",
       "      <td>-35412</td>\n",
       "      <td>61766</td>\n",
       "    </tr>\n",
       "  </tbody>\n",
       "</table>\n",
       "</div>"
      ],
      "text/plain": [
       "                                                               name   male  \\\n",
       "id                  time                                                     \n",
       "425472153           2019-05-25 20:24:48+00:00               Queen K  False   \n",
       "1081873499621273601 2019-05-25 20:24:48+00:00  Alexandru Constantin   True   \n",
       "987721418           2019-05-25 20:24:48+00:00      Susie Carmichael  False   \n",
       "980758839770451973  2019-05-25 20:24:52+00:00         Princess Sih.  False   \n",
       "838620336367218692  2019-05-25 20:24:53+00:00       Reid Kisselback   True   \n",
       "\n",
       "                                               embed0  embed1  embed2  embed3  \\\n",
       "id                  time                                                        \n",
       "425472153           2019-05-25 20:24:48+00:00    9156  -31075  -21194   41023   \n",
       "1081873499621273601 2019-05-25 20:24:48+00:00  -34055   62140  -33476    1849   \n",
       "987721418           2019-05-25 20:24:48+00:00  -38618   12734    6150    6856   \n",
       "980758839770451973  2019-05-25 20:24:52+00:00  -19252   -1482  -14205  -25178   \n",
       "838620336367218692  2019-05-25 20:24:53+00:00  -40698   32644    3243  -35412   \n",
       "\n",
       "                                               embed4  \n",
       "id                  time                               \n",
       "425472153           2019-05-25 20:24:48+00:00   33810  \n",
       "1081873499621273601 2019-05-25 20:24:48+00:00   42774  \n",
       "987721418           2019-05-25 20:24:48+00:00   29976  \n",
       "980758839770451973  2019-05-25 20:24:52+00:00  -47939  \n",
       "838620336367218692  2019-05-25 20:24:53+00:00   61766  "
      ]
     },
     "execution_count": 4,
     "metadata": {},
     "output_type": "execute_result"
    }
   ],
   "source": [
    "df = pd.read_csv(DATAPATH+FNAME,index_col=[0,1],parse_dates=['time']).drop(['text'],axis=1)\n",
    "df.head().iloc[:,:7]"
   ]
  },
  {
   "cell_type": "code",
   "execution_count": 5,
   "metadata": {},
   "outputs": [
    {
     "name": "stdout",
     "output_type": "stream",
     "text": [
      "(29678, 514)\n"
     ]
    },
    {
     "data": {
      "text/plain": [
       "(Timestamp('2019-05-21 17:50:48+0000', tz='UTC'),\n",
       " Timestamp('2019-05-26 12:53:53+0000', tz='UTC'))"
      ]
     },
     "execution_count": 5,
     "metadata": {},
     "output_type": "execute_result"
    }
   ],
   "source": [
    "print(df.shape)\n",
    "df.index.get_level_values(1).min(), df.index.get_level_values(1).max()"
   ]
  },
  {
   "cell_type": "code",
   "execution_count": 6,
   "metadata": {},
   "outputs": [],
   "source": [
    "xy_train, xy_valid, xy_test = balanced_split_by_time_and_id(df)\n",
    "\n",
    "X_train = xy_train.drop(['name','male'],axis=1).dropna().values / 1e6\n",
    "y_train = 1*xy_train.male.values\n",
    "\n",
    "X_valid = xy_valid.drop(['name','male'],axis=1).dropna().values / 1e6\n",
    "y_valid = 1*xy_valid.male.values\n",
    "\n",
    "X_test = xy_test.drop(['name','male'],axis=1).dropna().values / 1e6\n",
    "y_test = 1*xy_test.male.values"
   ]
  },
  {
   "cell_type": "code",
   "execution_count": 7,
   "metadata": {},
   "outputs": [],
   "source": [
    "scaler = MinMaxScaler()\n",
    "X_train = scaler.fit_transform(X_train)\n",
    "X_valid = scaler.transform(X_valid)\n",
    "X_test = scaler.transform(X_test)"
   ]
  },
  {
   "cell_type": "code",
   "execution_count": 8,
   "metadata": {},
   "outputs": [
    {
     "data": {
      "text/plain": [
       "(13320, 512)"
      ]
     },
     "execution_count": 8,
     "metadata": {},
     "output_type": "execute_result"
    }
   ],
   "source": [
    "X_train.shape"
   ]
  },
  {
   "cell_type": "code",
   "execution_count": 9,
   "metadata": {},
   "outputs": [
    {
     "name": "stdout",
     "output_type": "stream",
     "text": [
      "_________________________________________________________________\n",
      "Layer (type)                 Output Shape              Param #   \n",
      "=================================================================\n",
      "dense_1 (Dense)              (None, 64)                32832     \n",
      "_________________________________________________________________\n",
      "batch_normalization_1 (Batch (None, 64)                256       \n",
      "_________________________________________________________________\n",
      "dense_2 (Dense)              (None, 512)               33280     \n",
      "_________________________________________________________________\n",
      "dropout_1 (Dropout)          (None, 512)               0         \n",
      "_________________________________________________________________\n",
      "dense_3 (Dense)              (None, 48)                24624     \n",
      "_________________________________________________________________\n",
      "dropout_2 (Dropout)          (None, 48)                0         \n",
      "_________________________________________________________________\n",
      "dense_4 (Dense)              (None, 8)                 392       \n",
      "_________________________________________________________________\n",
      "dense_5 (Dense)              (None, 1)                 9         \n",
      "=================================================================\n",
      "Total params: 91,393\n",
      "Trainable params: 91,265\n",
      "Non-trainable params: 128\n",
      "_________________________________________________________________\n"
     ]
    }
   ],
   "source": [
    "model = keras.models.Sequential()\n",
    "model.add(keras.layers.Dense(64, activation='relu', input_dim=512))\n",
    "model.add(keras.layers.BatchNormalization())\n",
    "model.add(keras.layers.Dense(512, activation='relu'))\n",
    "model.add(keras.layers.Dropout(.5))\n",
    "model.add(keras.layers.Dense(48, activation='relu'))\n",
    "model.add(keras.layers.Dropout(.8))\n",
    "model.add(keras.layers.Dense(8, activation='relu',))\n",
    "model.add(keras.layers.Dense(1, activation='sigmoid'))\n",
    "model.summary()"
   ]
  },
  {
   "cell_type": "code",
   "execution_count": 10,
   "metadata": {},
   "outputs": [
    {
     "name": "stdout",
     "output_type": "stream",
     "text": [
      "Train on 13320 samples, validate on 4326 samples\n",
      "Epoch 1/14\n",
      "13320/13320 [==============================] - 1s 92us/step - loss: 0.7092 - acc: 0.5161 - val_loss: 0.6857 - val_acc: 0.5021\n",
      "Epoch 2/14\n",
      "13320/13320 [==============================] - 0s 32us/step - loss: 0.6848 - acc: 0.5520 - val_loss: 0.6750 - val_acc: 0.5911\n",
      "Epoch 3/14\n",
      "13320/13320 [==============================] - 0s 33us/step - loss: 0.6775 - acc: 0.5682 - val_loss: 0.6730 - val_acc: 0.5869\n",
      "Epoch 4/14\n",
      "13320/13320 [==============================] - 0s 35us/step - loss: 0.6721 - acc: 0.5800 - val_loss: 0.6726 - val_acc: 0.6001\n",
      "Epoch 5/14\n",
      "13320/13320 [==============================] - 0s 34us/step - loss: 0.6685 - acc: 0.5831 - val_loss: 0.6646 - val_acc: 0.6019\n",
      "Epoch 6/14\n",
      "13320/13320 [==============================] - 0s 35us/step - loss: 0.6657 - acc: 0.5971 - val_loss: 0.6652 - val_acc: 0.6112\n",
      "Epoch 7/14\n",
      "13320/13320 [==============================] - 0s 34us/step - loss: 0.6672 - acc: 0.5945 - val_loss: 0.6669 - val_acc: 0.5948\n",
      "Epoch 8/14\n",
      "13320/13320 [==============================] - 0s 34us/step - loss: 0.6613 - acc: 0.5989 - val_loss: 0.6663 - val_acc: 0.6091\n",
      "Epoch 9/14\n",
      "13320/13320 [==============================] - 0s 34us/step - loss: 0.6630 - acc: 0.5960 - val_loss: 0.6635 - val_acc: 0.6130\n",
      "Epoch 10/14\n",
      "13320/13320 [==============================] - 0s 34us/step - loss: 0.6605 - acc: 0.5932 - val_loss: 0.6636 - val_acc: 0.6033\n",
      "Epoch 11/14\n",
      "13320/13320 [==============================] - 0s 35us/step - loss: 0.6592 - acc: 0.6024 - val_loss: 0.6601 - val_acc: 0.6149\n",
      "Epoch 12/14\n",
      "13320/13320 [==============================] - 0s 34us/step - loss: 0.6569 - acc: 0.6049 - val_loss: 0.6594 - val_acc: 0.6140\n",
      "Epoch 13/14\n",
      "13320/13320 [==============================] - 0s 33us/step - loss: 0.6592 - acc: 0.6047 - val_loss: 0.6622 - val_acc: 0.6142\n",
      "Epoch 14/14\n",
      "13320/13320 [==============================] - 0s 33us/step - loss: 0.6561 - acc: 0.6100 - val_loss: 0.6599 - val_acc: 0.6137\n"
     ]
    },
    {
     "data": {
      "text/plain": [
       "<keras.callbacks.History at 0x7ff0493fac50>"
      ]
     },
     "execution_count": 10,
     "metadata": {},
     "output_type": "execute_result"
    }
   ],
   "source": [
    "model.compile(loss='binary_crossentropy', optimizer='adam', metrics=['accuracy'])\n",
    "model.fit(X_train, y_train,\n",
    "          epochs=14,\n",
    "          batch_size=128,\n",
    "          validation_data=[X_valid,y_valid])"
   ]
  },
  {
   "cell_type": "code",
   "execution_count": 11,
   "metadata": {},
   "outputs": [
    {
     "data": {
      "text/plain": [
       "0.5897605284888521"
      ]
     },
     "execution_count": 11,
     "metadata": {},
     "output_type": "execute_result"
    }
   ],
   "source": [
    "y_train_pred = model.predict(X_train)\n",
    "f1_score(y_train, y_train_pred>.5)"
   ]
  },
  {
   "cell_type": "code",
   "execution_count": 12,
   "metadata": {},
   "outputs": [
    {
     "name": "stdout",
     "output_type": "stream",
     "text": [
      "[[1536  627]\n",
      " [1044 1119]]\n"
     ]
    },
    {
     "data": {
      "text/plain": [
       "0.5725249424405219"
      ]
     },
     "execution_count": 12,
     "metadata": {},
     "output_type": "execute_result"
    }
   ],
   "source": [
    "y_pred = model.predict(X_valid)\n",
    "print( confusion_matrix(y_valid, (y_pred>.5)) )\n",
    "f1_score(y_valid, y_pred>.5)"
   ]
  },
  {
   "cell_type": "code",
   "execution_count": 13,
   "metadata": {},
   "outputs": [
    {
     "name": "stdout",
     "output_type": "stream",
     "text": [
      "[[1499  582]\n",
      " [1061 1020]]\n"
     ]
    },
    {
     "data": {
      "text/plain": [
       "0.5538962802063535"
      ]
     },
     "execution_count": 13,
     "metadata": {},
     "output_type": "execute_result"
    }
   ],
   "source": [
    "y_test_pred = model.predict(X_test)\n",
    "print( confusion_matrix(y_test, (y_test_pred>.5)) )\n",
    "f1_score(y_test, y_test_pred>.5)"
   ]
  },
  {
   "cell_type": "code",
   "execution_count": 14,
   "metadata": {},
   "outputs": [
    {
     "data": {
      "text/plain": [
       "0.6052378664103796"
      ]
     },
     "execution_count": 14,
     "metadata": {},
     "output_type": "execute_result"
    }
   ],
   "source": [
    "accuracy_score(y_test, y_test_pred>.5)"
   ]
  },
  {
   "cell_type": "code",
   "execution_count": 15,
   "metadata": {},
   "outputs": [],
   "source": [
    "fpr, tpr, _ = roc_curve(y_test, y_test_pred)\n",
    "roc_auc = auc(fpr, tpr)"
   ]
  },
  {
   "cell_type": "code",
   "execution_count": 16,
   "metadata": {},
   "outputs": [
    {
     "data": {
      "image/png": "[encoded data removed]",
      "text/plain": [
       "<Figure size 432x288 with 1 Axes>"
      ]
     },
     "metadata": {
      "needs_background": "light"
     },
     "output_type": "display_data"
    }
   ],
   "source": [
    "plt.figure()\n",
    "plt.plot(fpr, tpr, color='darkorange',\n",
    "         lw=1, label='ROC curve (area = %0.2f)' % roc_auc)\n",
    "plt.plot([0, 1], [0, 1], color='navy', lw=1, linestyle='--')\n",
    "plt.xlim([0.0, 1.0])\n",
    "plt.ylim([0.0, 1.05])\n",
    "plt.xlabel('False Positive Rate')\n",
    "plt.ylabel('True Positive Rate')\n",
    "plt.title('Receiver operating characteristic curve')\n",
    "plt.legend(loc=\"lower right\")\n",
    "plt.show()"
   ]
  },
  {
   "cell_type": "code",
   "execution_count": null,
   "metadata": {},
   "outputs": [],
   "source": []
  }
 ],
 "metadata": {
  "kernelspec": {
   "display_name": "tf",
   "language": "python",
   "name": "tf"
  },
  "language_info": {
   "codemirror_mode": {
    "name": "ipython",
    "version": 3
   },
   "file_extension": ".py",
   "mimetype": "text/x-python",
   "name": "python",
   "nbconvert_exporter": "python",
   "pygments_lexer": "ipython3",
   "version": "3.6.7"
  }
 },
 "nbformat": 4,
 "nbformat_minor": 2
}
