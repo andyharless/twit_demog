{
 "cells": [
  {
   "cell_type": "code",
   "execution_count": 29,
   "metadata": {},
   "outputs": [],
   "source": [
    "FILENAME = 'tweet_sample_20190522c.json'\n",
    "DATAPATH = '../data/'\n",
    "XFERPATH = '~/downloads'  # To transfer files to Google Colab"
   ]
  },
  {
   "cell_type": "code",
   "execution_count": 2,
   "metadata": {},
   "outputs": [],
   "source": [
    "import json\n",
    "import pandas as pd\n",
    "import gender_guesser.detector as gender"
   ]
  },
  {
   "cell_type": "code",
   "execution_count": 3,
   "metadata": {},
   "outputs": [],
   "source": [
    "# From https://gist.github.com/timothyrenner/dd487b9fd8081530509c\n",
    "\n",
    "#Gets the text, sans links, hashtags, mentions, media, and symbols.\n",
    "def get_text_cleaned(tweet):\n",
    "    text = tweet['text']\n",
    "    \n",
    "    slices = []\n",
    "    #Strip out the urls.\n",
    "    if 'urls' in tweet['entities']:\n",
    "        for url in tweet['entities']['urls']:\n",
    "            slices += [{'start': url['indices'][0], 'stop': url['indices'][1]}]\n",
    "    \n",
    "    #Strip out the hashtags.\n",
    "    if 'hashtags' in tweet['entities']:\n",
    "        for tag in tweet['entities']['hashtags']:\n",
    "            slices += [{'start': tag['indices'][0], 'stop': tag['indices'][1]}]\n",
    "    \n",
    "    #Strip out the user mentions.\n",
    "    if 'user_mentions' in tweet['entities']:\n",
    "        for men in tweet['entities']['user_mentions']:\n",
    "            slices += [{'start': men['indices'][0], 'stop': men['indices'][1]}]\n",
    "    \n",
    "    #Strip out the media.\n",
    "    if 'media' in tweet['entities']:\n",
    "        for med in tweet['entities']['media']:\n",
    "            slices += [{'start': med['indices'][0], 'stop': med['indices'][1]}]\n",
    "    \n",
    "    #Strip out the symbols.\n",
    "    if 'symbols' in tweet['entities']:\n",
    "        for sym in tweet['entities']['symbols']:\n",
    "            slices += [{'start': sym['indices'][0], 'stop': sym['indices'][1]}]\n",
    "    \n",
    "    # Sort the slices from highest start to lowest.\n",
    "    slices = sorted(slices, key=lambda x: -x['start'])\n",
    "    \n",
    "    #No offsets, since we're sorted from highest to lowest.\n",
    "    for s in slices:\n",
    "        text = text[:s['start']] + text[s['stop']:]\n",
    "        \n",
    "    return text"
   ]
  },
  {
   "cell_type": "code",
   "execution_count": 4,
   "metadata": {},
   "outputs": [],
   "source": [
    "names = []\n",
    "texts = []\n",
    "userids = []\n",
    "with open(DATAPATH+FILENAME) as twitfile:\n",
    "    for line in twitfile:\n",
    "        r = json.loads(line)\n",
    "        names.append(r['user']['name'])\n",
    "        userids.append(r['user']['id'])\n",
    "        texts.append(get_text_cleaned(r))"
   ]
  },
  {
   "cell_type": "code",
   "execution_count": 5,
   "metadata": {},
   "outputs": [
    {
     "data": {
      "text/plain": [
       "(3054, 3054, 3054)"
      ]
     },
     "execution_count": 5,
     "metadata": {},
     "output_type": "execute_result"
    }
   ],
   "source": [
    "len(names), len(texts), len(userids)"
   ]
  },
  {
   "cell_type": "code",
   "execution_count": 17,
   "metadata": {},
   "outputs": [
    {
     "data": {
      "text/html": [
       "<div>\n",
       "<style scoped>\n",
       "    .dataframe tbody tr th:only-of-type {\n",
       "        vertical-align: middle;\n",
       "    }\n",
       "\n",
       "    .dataframe tbody tr th {\n",
       "        vertical-align: top;\n",
       "    }\n",
       "\n",
       "    .dataframe thead th {\n",
       "        text-align: right;\n",
       "    }\n",
       "</style>\n",
       "<table border=\"1\" class=\"dataframe\">\n",
       "  <thead>\n",
       "    <tr style=\"text-align: right;\">\n",
       "      <th></th>\n",
       "      <th>name</th>\n",
       "      <th>text</th>\n",
       "    </tr>\n",
       "  </thead>\n",
       "  <tbody>\n",
       "    <tr>\n",
       "      <th>1125464470074142720</th>\n",
       "      <td>Jordan 🐝</td>\n",
       "      <td>We stan a flawless queen</td>\n",
       "    </tr>\n",
       "    <tr>\n",
       "      <th>1045196569056669704</th>\n",
       "      <td>Amanda ❤💙</td>\n",
       "      <td>Can they please get LeBron to travel back the...</td>\n",
       "    </tr>\n",
       "    <tr>\n",
       "      <th>774717684009369600</th>\n",
       "      <td>Yvonne Conte</td>\n",
       "      <td>So what happens when a Republican elected Pre...</td>\n",
       "    </tr>\n",
       "    <tr>\n",
       "      <th>27596224</th>\n",
       "      <td>Steve McMillan</td>\n",
       "      <td>He is simply parroting something he read whi...</td>\n",
       "    </tr>\n",
       "    <tr>\n",
       "      <th>1094628188335026176</th>\n",
       "      <td>Joe Murphy MAGA</td>\n",
       "      <td>…</td>\n",
       "    </tr>\n",
       "    <tr>\n",
       "      <th>334381911</th>\n",
       "      <td>Sunshine</td>\n",
       "      <td>No get rid of Mr Glass aka G. Stanton</td>\n",
       "    </tr>\n",
       "    <tr>\n",
       "      <th>334565594</th>\n",
       "      <td>Keith Lemon</td>\n",
       "      <td>Good job ya din’t blink!</td>\n",
       "    </tr>\n",
       "    <tr>\n",
       "      <th>17491245</th>\n",
       "      <td>Dina</td>\n",
       "      <td>Well, I think that was ONE of the plots. G...</td>\n",
       "    </tr>\n",
       "    <tr>\n",
       "      <th>43751161</th>\n",
       "      <td>Zeke D</td>\n",
       "      <td>i don’t understand tik tok</td>\n",
       "    </tr>\n",
       "    <tr>\n",
       "      <th>360577036</th>\n",
       "      <td>Elizabeth Booker</td>\n",
       "      <td>Ive just sat and watched them all in one go. R...</td>\n",
       "    </tr>\n",
       "  </tbody>\n",
       "</table>\n",
       "</div>"
      ],
      "text/plain": [
       "                                 name  \\\n",
       "1125464470074142720          Jordan 🐝   \n",
       "1045196569056669704         Amanda ❤💙   \n",
       "774717684009369600       Yvonne Conte   \n",
       "27596224               Steve McMillan   \n",
       "1094628188335026176   Joe Murphy MAGA   \n",
       "334381911                    Sunshine   \n",
       "334565594                 Keith Lemon   \n",
       "17491245                         Dina   \n",
       "43751161                       Zeke D   \n",
       "360577036            Elizabeth Booker   \n",
       "\n",
       "                                                                  text  \n",
       "1125464470074142720                           We stan a flawless queen  \n",
       "1045196569056669704   Can they please get LeBron to travel back the...  \n",
       "774717684009369600    So what happens when a Republican elected Pre...  \n",
       "27596224               He is simply parroting something he read whi...  \n",
       "1094628188335026176                                                 …   \n",
       "334381911                        No get rid of Mr Glass aka G. Stanton  \n",
       "334565594                                     Good job ya din’t blink!  \n",
       "17491245                 Well, I think that was ONE of the plots. G...  \n",
       "43751161                                    i don’t understand tik tok  \n",
       "360577036            Ive just sat and watched them all in one go. R...  "
      ]
     },
     "execution_count": 17,
     "metadata": {},
     "output_type": "execute_result"
    }
   ],
   "source": [
    "df = pd.DataFrame({'name':names, 'text':texts},index=userids)\n",
    "df = df[~df.index.duplicated(keep='first')]\n",
    "df.head(10)"
   ]
  },
  {
   "cell_type": "code",
   "execution_count": 18,
   "metadata": {},
   "outputs": [
    {
     "data": {
      "text/html": [
       "<div>\n",
       "<style scoped>\n",
       "    .dataframe tbody tr th:only-of-type {\n",
       "        vertical-align: middle;\n",
       "    }\n",
       "\n",
       "    .dataframe tbody tr th {\n",
       "        vertical-align: top;\n",
       "    }\n",
       "\n",
       "    .dataframe thead th {\n",
       "        text-align: right;\n",
       "    }\n",
       "</style>\n",
       "<table border=\"1\" class=\"dataframe\">\n",
       "  <thead>\n",
       "    <tr style=\"text-align: right;\">\n",
       "      <th></th>\n",
       "      <th>name</th>\n",
       "      <th>text</th>\n",
       "    </tr>\n",
       "  </thead>\n",
       "  <tbody>\n",
       "    <tr>\n",
       "      <th>4173790121</th>\n",
       "      <td>Ron Fulton</td>\n",
       "      <td>The only thing McConnell is bringing to the fl...</td>\n",
       "    </tr>\n",
       "    <tr>\n",
       "      <th>1216262840</th>\n",
       "      <td>Matt Joass, CFA</td>\n",
       "      <td>What's your estimate of the real number as a...</td>\n",
       "    </tr>\n",
       "    <tr>\n",
       "      <th>441839956</th>\n",
       "      <td>Chloe Smith</td>\n",
       "      <td>I don't know about you, but I'm feeling 22 ✌✌ ...</td>\n",
       "    </tr>\n",
       "    <tr>\n",
       "      <th>1341184718</th>\n",
       "      <td>Noa</td>\n",
       "      <td>My life would be so much easier if my work spa...</td>\n",
       "    </tr>\n",
       "    <tr>\n",
       "      <th>21704373</th>\n",
       "      <td>Josh Goldman</td>\n",
       "      <td>So,  liked my tweet about asking about my invi...</td>\n",
       "    </tr>\n",
       "    <tr>\n",
       "      <th>363202108</th>\n",
       "      <td>Yusuke Urameshi</td>\n",
       "      <td>She definitely needs to be in somebody's comme...</td>\n",
       "    </tr>\n",
       "    <tr>\n",
       "      <th>30445664</th>\n",
       "      <td>Sarah Cowan</td>\n",
       "      <td>yes. that's when other people should worry an...</td>\n",
       "    </tr>\n",
       "    <tr>\n",
       "      <th>1045294418184556544</th>\n",
       "      <td>Juan the Kid 🌃</td>\n",
       "      <td>Marvin’s room</td>\n",
       "    </tr>\n",
       "    <tr>\n",
       "      <th>558899882</th>\n",
       "      <td>Heather</td>\n",
       "      <td>Oh! TY.</td>\n",
       "    </tr>\n",
       "    <tr>\n",
       "      <th>44170399</th>\n",
       "      <td>Tim</td>\n",
       "      <td>I agree</td>\n",
       "    </tr>\n",
       "  </tbody>\n",
       "</table>\n",
       "</div>"
      ],
      "text/plain": [
       "                                name  \\\n",
       "4173790121                Ron Fulton   \n",
       "1216262840           Matt Joass, CFA   \n",
       "441839956                Chloe Smith   \n",
       "1341184718                       Noa   \n",
       "21704373                Josh Goldman   \n",
       "363202108            Yusuke Urameshi   \n",
       "30445664                 Sarah Cowan   \n",
       "1045294418184556544   Juan the Kid 🌃   \n",
       "558899882                    Heather   \n",
       "44170399                         Tim   \n",
       "\n",
       "                                                                  text  \n",
       "4173790121           The only thing McConnell is bringing to the fl...  \n",
       "1216262840             What's your estimate of the real number as a...  \n",
       "441839956            I don't know about you, but I'm feeling 22 ✌✌ ...  \n",
       "1341184718           My life would be so much easier if my work spa...  \n",
       "21704373             So,  liked my tweet about asking about my invi...  \n",
       "363202108            She definitely needs to be in somebody's comme...  \n",
       "30445664              yes. that's when other people should worry an...  \n",
       "1045294418184556544                                      Marvin’s room  \n",
       "558899882                                                      Oh! TY.  \n",
       "44170399                                                       I agree  "
      ]
     },
     "execution_count": 18,
     "metadata": {},
     "output_type": "execute_result"
    }
   ],
   "source": [
    "df.tail(10)"
   ]
  },
  {
   "cell_type": "code",
   "execution_count": 19,
   "metadata": {},
   "outputs": [
    {
     "data": {
      "text/plain": [
       "'  He is simply parroting something he read while on the toilet. Where most of his tweets are penned.'"
      ]
     },
     "execution_count": 19,
     "metadata": {},
     "output_type": "execute_result"
    }
   ],
   "source": [
    "texts[3]"
   ]
  },
  {
   "cell_type": "code",
   "execution_count": 20,
   "metadata": {},
   "outputs": [],
   "source": [
    "d = gender.Detector()\n",
    "\n",
    "def is_male(name):\n",
    "    return(d.get_gender(name.split()[0])=='male')\n",
    "\n",
    "def is_female(name):\n",
    "    return(d.get_gender(name.split()[0])=='female')"
   ]
  },
  {
   "cell_type": "code",
   "execution_count": 21,
   "metadata": {},
   "outputs": [
    {
     "name": "stdout",
     "output_type": "stream",
     "text": [
      "1816\n"
     ]
    },
    {
     "data": {
      "text/html": [
       "<div>\n",
       "<style scoped>\n",
       "    .dataframe tbody tr th:only-of-type {\n",
       "        vertical-align: middle;\n",
       "    }\n",
       "\n",
       "    .dataframe tbody tr th {\n",
       "        vertical-align: top;\n",
       "    }\n",
       "\n",
       "    .dataframe thead th {\n",
       "        text-align: right;\n",
       "    }\n",
       "</style>\n",
       "<table border=\"1\" class=\"dataframe\">\n",
       "  <thead>\n",
       "    <tr style=\"text-align: right;\">\n",
       "      <th></th>\n",
       "      <th>name</th>\n",
       "      <th>text</th>\n",
       "    </tr>\n",
       "  </thead>\n",
       "  <tbody>\n",
       "    <tr>\n",
       "      <th>1125464470074142720</th>\n",
       "      <td>Jordan 🐝</td>\n",
       "      <td>We stan a flawless queen</td>\n",
       "    </tr>\n",
       "    <tr>\n",
       "      <th>27596224</th>\n",
       "      <td>Steve McMillan</td>\n",
       "      <td>He is simply parroting something he read whi...</td>\n",
       "    </tr>\n",
       "    <tr>\n",
       "      <th>1094628188335026176</th>\n",
       "      <td>Joe Murphy MAGA</td>\n",
       "      <td>…</td>\n",
       "    </tr>\n",
       "    <tr>\n",
       "      <th>334565594</th>\n",
       "      <td>Keith Lemon</td>\n",
       "      <td>Good job ya din’t blink!</td>\n",
       "    </tr>\n",
       "    <tr>\n",
       "      <th>43751161</th>\n",
       "      <td>Zeke D</td>\n",
       "      <td>i don’t understand tik tok</td>\n",
       "    </tr>\n",
       "  </tbody>\n",
       "</table>\n",
       "</div>"
      ],
      "text/plain": [
       "                                name  \\\n",
       "1125464470074142720         Jordan 🐝   \n",
       "27596224              Steve McMillan   \n",
       "1094628188335026176  Joe Murphy MAGA   \n",
       "334565594                Keith Lemon   \n",
       "43751161                      Zeke D   \n",
       "\n",
       "                                                                  text  \n",
       "1125464470074142720                           We stan a flawless queen  \n",
       "27596224               He is simply parroting something he read whi...  \n",
       "1094628188335026176                                                 …   \n",
       "334565594                                     Good job ya din’t blink!  \n",
       "43751161                                    i don’t understand tik tok  "
      ]
     },
     "execution_count": 21,
     "metadata": {},
     "output_type": "execute_result"
    }
   ],
   "source": [
    "df_males = df[df.name.apply(is_male)]\n",
    "print(len(df_males))\n",
    "df_males.head()"
   ]
  },
  {
   "cell_type": "code",
   "execution_count": 22,
   "metadata": {},
   "outputs": [
    {
     "data": {
      "text/html": [
       "<div>\n",
       "<style scoped>\n",
       "    .dataframe tbody tr th:only-of-type {\n",
       "        vertical-align: middle;\n",
       "    }\n",
       "\n",
       "    .dataframe tbody tr th {\n",
       "        vertical-align: top;\n",
       "    }\n",
       "\n",
       "    .dataframe thead th {\n",
       "        text-align: right;\n",
       "    }\n",
       "</style>\n",
       "<table border=\"1\" class=\"dataframe\">\n",
       "  <thead>\n",
       "    <tr style=\"text-align: right;\">\n",
       "      <th></th>\n",
       "      <th>name</th>\n",
       "      <th>text</th>\n",
       "    </tr>\n",
       "  </thead>\n",
       "  <tbody>\n",
       "    <tr>\n",
       "      <th>1633856298</th>\n",
       "      <td>Adam</td>\n",
       "      <td>Wow look at my pure and wholesome sons</td>\n",
       "    </tr>\n",
       "    <tr>\n",
       "      <th>1630960316</th>\n",
       "      <td>Adam</td>\n",
       "      <td>It seems reasonable.</td>\n",
       "    </tr>\n",
       "    <tr>\n",
       "      <th>38929780</th>\n",
       "      <td>Alejandro</td>\n",
       "      <td>This song always hits</td>\n",
       "    </tr>\n",
       "    <tr>\n",
       "      <th>1129632855708131328</th>\n",
       "      <td>Alejandro</td>\n",
       "      <td>Down 💯🙌🏽🤙🏽</td>\n",
       "    </tr>\n",
       "    <tr>\n",
       "      <th>1073158514716147713</th>\n",
       "      <td>Alex</td>\n",
       "      <td>I just seen my 15 year old cousin put my 10 ye...</td>\n",
       "    </tr>\n",
       "    <tr>\n",
       "      <th>940692218096087047</th>\n",
       "      <td>Alex</td>\n",
       "      <td>Legit man, we should play on d2! Oh wait..</td>\n",
       "    </tr>\n",
       "    <tr>\n",
       "      <th>63766261</th>\n",
       "      <td>Alex</td>\n",
       "      <td>I thought she wanted to break the wheel...sou...</td>\n",
       "    </tr>\n",
       "    <tr>\n",
       "      <th>3386161936</th>\n",
       "      <td>Alex</td>\n",
       "      <td>Omg before it’s too late happy birthday queen</td>\n",
       "    </tr>\n",
       "    <tr>\n",
       "      <th>1095159331920715776</th>\n",
       "      <td>Alex</td>\n",
       "      <td>I’m fuckin cooler than a polar bears toe nails</td>\n",
       "    </tr>\n",
       "    <tr>\n",
       "      <th>17925470</th>\n",
       "      <td>Alex</td>\n",
       "      <td>So pleased to have my  print framed and ready ...</td>\n",
       "    </tr>\n",
       "  </tbody>\n",
       "</table>\n",
       "</div>"
      ],
      "text/plain": [
       "                          name  \\\n",
       "1633856298                Adam   \n",
       "1630960316                Adam   \n",
       "38929780             Alejandro   \n",
       "1129632855708131328  Alejandro   \n",
       "1073158514716147713       Alex   \n",
       "940692218096087047        Alex   \n",
       "63766261                  Alex   \n",
       "3386161936                Alex   \n",
       "1095159331920715776       Alex   \n",
       "17925470                  Alex   \n",
       "\n",
       "                                                                  text  \n",
       "1633856298                     Wow look at my pure and wholesome sons   \n",
       "1630960316                                        It seems reasonable.  \n",
       "38929780                                        This song always hits   \n",
       "1129632855708131328                                         Down 💯🙌🏽🤙🏽  \n",
       "1073158514716147713  I just seen my 15 year old cousin put my 10 ye...  \n",
       "940692218096087047          Legit man, we should play on d2! Oh wait..  \n",
       "63766261              I thought she wanted to break the wheel...sou...  \n",
       "3386161936              Omg before it’s too late happy birthday queen   \n",
       "1095159331920715776     I’m fuckin cooler than a polar bears toe nails  \n",
       "17925470             So pleased to have my  print framed and ready ...  "
      ]
     },
     "execution_count": 22,
     "metadata": {},
     "output_type": "execute_result"
    }
   ],
   "source": [
    "df_males[df_males.name.duplicated(keep=False)].sort_values('name').head(10)"
   ]
  },
  {
   "cell_type": "code",
   "execution_count": 24,
   "metadata": {},
   "outputs": [
    {
     "name": "stdout",
     "output_type": "stream",
     "text": [
      "1189\n"
     ]
    },
    {
     "data": {
      "text/html": [
       "<div>\n",
       "<style scoped>\n",
       "    .dataframe tbody tr th:only-of-type {\n",
       "        vertical-align: middle;\n",
       "    }\n",
       "\n",
       "    .dataframe tbody tr th {\n",
       "        vertical-align: top;\n",
       "    }\n",
       "\n",
       "    .dataframe thead th {\n",
       "        text-align: right;\n",
       "    }\n",
       "</style>\n",
       "<table border=\"1\" class=\"dataframe\">\n",
       "  <thead>\n",
       "    <tr style=\"text-align: right;\">\n",
       "      <th></th>\n",
       "      <th>name</th>\n",
       "      <th>text</th>\n",
       "    </tr>\n",
       "  </thead>\n",
       "  <tbody>\n",
       "    <tr>\n",
       "      <th>1045196569056669704</th>\n",
       "      <td>Amanda ❤💙</td>\n",
       "      <td>Can they please get LeBron to travel back the...</td>\n",
       "    </tr>\n",
       "    <tr>\n",
       "      <th>774717684009369600</th>\n",
       "      <td>Yvonne Conte</td>\n",
       "      <td>So what happens when a Republican elected Pre...</td>\n",
       "    </tr>\n",
       "    <tr>\n",
       "      <th>334381911</th>\n",
       "      <td>Sunshine</td>\n",
       "      <td>No get rid of Mr Glass aka G. Stanton</td>\n",
       "    </tr>\n",
       "    <tr>\n",
       "      <th>17491245</th>\n",
       "      <td>Dina</td>\n",
       "      <td>Well, I think that was ONE of the plots. G...</td>\n",
       "    </tr>\n",
       "    <tr>\n",
       "      <th>360577036</th>\n",
       "      <td>Elizabeth Booker</td>\n",
       "      <td>Ive just sat and watched them all in one go. R...</td>\n",
       "    </tr>\n",
       "  </tbody>\n",
       "</table>\n",
       "</div>"
      ],
      "text/plain": [
       "                                 name  \\\n",
       "1045196569056669704         Amanda ❤💙   \n",
       "774717684009369600       Yvonne Conte   \n",
       "334381911                    Sunshine   \n",
       "17491245                         Dina   \n",
       "360577036            Elizabeth Booker   \n",
       "\n",
       "                                                                  text  \n",
       "1045196569056669704   Can they please get LeBron to travel back the...  \n",
       "774717684009369600    So what happens when a Republican elected Pre...  \n",
       "334381911                        No get rid of Mr Glass aka G. Stanton  \n",
       "17491245                 Well, I think that was ONE of the plots. G...  \n",
       "360577036            Ive just sat and watched them all in one go. R...  "
      ]
     },
     "execution_count": 24,
     "metadata": {},
     "output_type": "execute_result"
    }
   ],
   "source": [
    "df_females = df[df.name.apply(is_female)]\n",
    "print(len(df_females))\n",
    "df_females.head()"
   ]
  },
  {
   "cell_type": "code",
   "execution_count": 25,
   "metadata": {},
   "outputs": [
    {
     "data": {
      "text/plain": [
       "array([' Can they please get LeBron to travel back there, then? ',\n",
       "       ' So what happens when a Republican elected Presidents wins both? The Dems will still scream foul!',\n",
       "       ' No get rid of Mr Glass aka G. Stanton',\n",
       "       '    Well, I think that was ONE of the plots. Game of Thrones has a lot of plots.',\n",
       "       'Ive just sat and watched them all in one go. Really interesting.   '],\n",
       "      dtype=object)"
      ]
     },
     "execution_count": 25,
     "metadata": {},
     "output_type": "execute_result"
    }
   ],
   "source": [
    "df_females.text.values[:5]"
   ]
  },
  {
   "cell_type": "code",
   "execution_count": 26,
   "metadata": {},
   "outputs": [
    {
     "data": {
      "text/plain": [
       "array([' We stan a flawless queen',\n",
       "       '  He is simply parroting something he read while on the toilet. Where most of his tweets are penned.',\n",
       "       '       … ', ' Good job ya din’t blink!',\n",
       "       'i don’t understand tik tok'], dtype=object)"
      ]
     },
     "execution_count": 26,
     "metadata": {},
     "output_type": "execute_result"
    }
   ],
   "source": [
    "df_males.text.values[:5]"
   ]
  },
  {
   "cell_type": "code",
   "execution_count": 33,
   "metadata": {},
   "outputs": [],
   "source": [
    "mfile = DATAPATH+'males.csv'\n",
    "ffile = DATAPATH+'females.csv'\n",
    "df_males.to_csv(mfile,index_label='id')\n",
    "df_females.to_csv(ffile,index_label='id')"
   ]
  },
  {
   "cell_type": "code",
   "execution_count": 34,
   "metadata": {},
   "outputs": [],
   "source": [
    "!cp $mfile $XFERPATH \n",
    "!cp $ffile $XFERPATH "
   ]
  },
  {
   "cell_type": "code",
   "execution_count": null,
   "metadata": {},
   "outputs": [],
   "source": []
  }
 ],
 "metadata": {
  "kernelspec": {
   "display_name": "Python 3",
   "language": "python",
   "name": "python3"
  },
  "language_info": {
   "codemirror_mode": {
    "name": "ipython",
    "version": 3
   },
   "file_extension": ".py",
   "mimetype": "text/x-python",
   "name": "python",
   "nbconvert_exporter": "python",
   "pygments_lexer": "ipython3",
   "version": "3.6.8"
  }
 },
 "nbformat": 4,
 "nbformat_minor": 2
}
