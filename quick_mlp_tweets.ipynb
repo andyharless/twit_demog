{
 "cells": [
  {
   "cell_type": "code",
   "execution_count": 1,
   "metadata": {},
   "outputs": [],
   "source": [
    "DATAPATH = '../data/'\n",
    "XFERPATH = '~/downloads/'  # To transfer files from Google Colab\n",
    "FNAME = 'embeds.csv'"
   ]
  },
  {
   "cell_type": "code",
   "execution_count": 2,
   "metadata": {},
   "outputs": [],
   "source": [
    "frompath = XFERPATH + FNAME\n",
    "topath = DATAPATH + FNAME\n",
    "!cp $frompath $topath"
   ]
  },
  {
   "cell_type": "code",
   "execution_count": 97,
   "metadata": {},
   "outputs": [],
   "source": [
    "import keras\n",
    "import pandas as pd\n",
    "import gender_guesser.detector as gender\n",
    "import numpy as np\n",
    "from sklearn.metrics import confusion_matrix\n",
    "from sklearn.metrics import accuracy_score\n",
    "from sklearn.metrics import f1_score\n",
    "from sklearn.metrics import roc_curve, auc\n",
    "from sklearn.preprocessing import MinMaxScaler\n",
    "import matplotlib.pyplot as plt"
   ]
  },
  {
   "cell_type": "code",
   "execution_count": 3,
   "metadata": {},
   "outputs": [
    {
     "data": {
      "text/html": [
       "<div>\n",
       "<style scoped>\n",
       "    .dataframe tbody tr th:only-of-type {\n",
       "        vertical-align: middle;\n",
       "    }\n",
       "\n",
       "    .dataframe tbody tr th {\n",
       "        vertical-align: top;\n",
       "    }\n",
       "\n",
       "    .dataframe thead th {\n",
       "        text-align: right;\n",
       "    }\n",
       "</style>\n",
       "<table border=\"1\" class=\"dataframe\">\n",
       "  <thead>\n",
       "    <tr style=\"text-align: right;\">\n",
       "      <th></th>\n",
       "      <th>0</th>\n",
       "      <th>1</th>\n",
       "      <th>2</th>\n",
       "      <th>3</th>\n",
       "      <th>4</th>\n",
       "      <th>5</th>\n",
       "      <th>6</th>\n",
       "      <th>7</th>\n",
       "      <th>8</th>\n",
       "      <th>9</th>\n",
       "      <th>...</th>\n",
       "      <th>503</th>\n",
       "      <th>504</th>\n",
       "      <th>505</th>\n",
       "      <th>506</th>\n",
       "      <th>507</th>\n",
       "      <th>508</th>\n",
       "      <th>509</th>\n",
       "      <th>510</th>\n",
       "      <th>511</th>\n",
       "      <th>names</th>\n",
       "    </tr>\n",
       "  </thead>\n",
       "  <tbody>\n",
       "    <tr>\n",
       "      <th>1045196569056669704</th>\n",
       "      <td>0.058569</td>\n",
       "      <td>-0.065579</td>\n",
       "      <td>-0.091680</td>\n",
       "      <td>-0.029350</td>\n",
       "      <td>-0.082061</td>\n",
       "      <td>0.040025</td>\n",
       "      <td>0.011938</td>\n",
       "      <td>0.049602</td>\n",
       "      <td>0.014164</td>\n",
       "      <td>-0.038351</td>\n",
       "      <td>...</td>\n",
       "      <td>-0.030435</td>\n",
       "      <td>0.039811</td>\n",
       "      <td>-0.001934</td>\n",
       "      <td>-0.033885</td>\n",
       "      <td>-0.027129</td>\n",
       "      <td>0.032534</td>\n",
       "      <td>-0.016910</td>\n",
       "      <td>-0.041840</td>\n",
       "      <td>-0.066517</td>\n",
       "      <td>Amanda ❤💙</td>\n",
       "    </tr>\n",
       "    <tr>\n",
       "      <th>774717684009369600</th>\n",
       "      <td>-0.038947</td>\n",
       "      <td>-0.000198</td>\n",
       "      <td>-0.060618</td>\n",
       "      <td>-0.005743</td>\n",
       "      <td>-0.078363</td>\n",
       "      <td>0.021608</td>\n",
       "      <td>0.083429</td>\n",
       "      <td>0.063364</td>\n",
       "      <td>0.059811</td>\n",
       "      <td>-0.079157</td>\n",
       "      <td>...</td>\n",
       "      <td>-0.029205</td>\n",
       "      <td>0.069821</td>\n",
       "      <td>0.017588</td>\n",
       "      <td>0.040863</td>\n",
       "      <td>-0.030275</td>\n",
       "      <td>0.047834</td>\n",
       "      <td>-0.013850</td>\n",
       "      <td>-0.064477</td>\n",
       "      <td>0.024759</td>\n",
       "      <td>Yvonne Conte</td>\n",
       "    </tr>\n",
       "    <tr>\n",
       "      <th>334381911</th>\n",
       "      <td>0.088421</td>\n",
       "      <td>-0.009570</td>\n",
       "      <td>-0.085473</td>\n",
       "      <td>0.010273</td>\n",
       "      <td>-0.093392</td>\n",
       "      <td>0.077757</td>\n",
       "      <td>-0.025262</td>\n",
       "      <td>0.042900</td>\n",
       "      <td>-0.025423</td>\n",
       "      <td>-0.007675</td>\n",
       "      <td>...</td>\n",
       "      <td>-0.002437</td>\n",
       "      <td>0.025510</td>\n",
       "      <td>-0.026548</td>\n",
       "      <td>-0.003747</td>\n",
       "      <td>-0.054380</td>\n",
       "      <td>0.070094</td>\n",
       "      <td>0.006940</td>\n",
       "      <td>-0.088164</td>\n",
       "      <td>0.024163</td>\n",
       "      <td>Sunshine</td>\n",
       "    </tr>\n",
       "    <tr>\n",
       "      <th>17491245</th>\n",
       "      <td>-0.021786</td>\n",
       "      <td>-0.024920</td>\n",
       "      <td>-0.048070</td>\n",
       "      <td>-0.063250</td>\n",
       "      <td>-0.059432</td>\n",
       "      <td>0.034641</td>\n",
       "      <td>0.031758</td>\n",
       "      <td>0.079691</td>\n",
       "      <td>0.006389</td>\n",
       "      <td>0.064993</td>\n",
       "      <td>...</td>\n",
       "      <td>-0.024126</td>\n",
       "      <td>0.006456</td>\n",
       "      <td>-0.019221</td>\n",
       "      <td>-0.044635</td>\n",
       "      <td>-0.073153</td>\n",
       "      <td>0.037682</td>\n",
       "      <td>-0.001223</td>\n",
       "      <td>-0.040404</td>\n",
       "      <td>-0.029900</td>\n",
       "      <td>Dina</td>\n",
       "    </tr>\n",
       "    <tr>\n",
       "      <th>360577036</th>\n",
       "      <td>-0.045635</td>\n",
       "      <td>-0.049451</td>\n",
       "      <td>-0.002246</td>\n",
       "      <td>-0.047154</td>\n",
       "      <td>0.011612</td>\n",
       "      <td>0.001651</td>\n",
       "      <td>0.010348</td>\n",
       "      <td>-0.022888</td>\n",
       "      <td>0.085357</td>\n",
       "      <td>0.056037</td>\n",
       "      <td>...</td>\n",
       "      <td>0.014130</td>\n",
       "      <td>-0.010233</td>\n",
       "      <td>0.003693</td>\n",
       "      <td>-0.020414</td>\n",
       "      <td>-0.078303</td>\n",
       "      <td>0.045025</td>\n",
       "      <td>-0.025883</td>\n",
       "      <td>-0.042053</td>\n",
       "      <td>-0.068529</td>\n",
       "      <td>Elizabeth Booker</td>\n",
       "    </tr>\n",
       "  </tbody>\n",
       "</table>\n",
       "<p>5 rows × 513 columns</p>\n",
       "</div>"
      ],
      "text/plain": [
       "                            0         1         2         3         4  \\\n",
       "1045196569056669704  0.058569 -0.065579 -0.091680 -0.029350 -0.082061   \n",
       "774717684009369600  -0.038947 -0.000198 -0.060618 -0.005743 -0.078363   \n",
       "334381911            0.088421 -0.009570 -0.085473  0.010273 -0.093392   \n",
       "17491245            -0.021786 -0.024920 -0.048070 -0.063250 -0.059432   \n",
       "360577036           -0.045635 -0.049451 -0.002246 -0.047154  0.011612   \n",
       "\n",
       "                            5         6         7         8         9  ...  \\\n",
       "1045196569056669704  0.040025  0.011938  0.049602  0.014164 -0.038351  ...   \n",
       "774717684009369600   0.021608  0.083429  0.063364  0.059811 -0.079157  ...   \n",
       "334381911            0.077757 -0.025262  0.042900 -0.025423 -0.007675  ...   \n",
       "17491245             0.034641  0.031758  0.079691  0.006389  0.064993  ...   \n",
       "360577036            0.001651  0.010348 -0.022888  0.085357  0.056037  ...   \n",
       "\n",
       "                          503       504       505       506       507  \\\n",
       "1045196569056669704 -0.030435  0.039811 -0.001934 -0.033885 -0.027129   \n",
       "774717684009369600  -0.029205  0.069821  0.017588  0.040863 -0.030275   \n",
       "334381911           -0.002437  0.025510 -0.026548 -0.003747 -0.054380   \n",
       "17491245            -0.024126  0.006456 -0.019221 -0.044635 -0.073153   \n",
       "360577036            0.014130 -0.010233  0.003693 -0.020414 -0.078303   \n",
       "\n",
       "                          508       509       510       511             names  \n",
       "1045196569056669704  0.032534 -0.016910 -0.041840 -0.066517         Amanda ❤💙  \n",
       "774717684009369600   0.047834 -0.013850 -0.064477  0.024759      Yvonne Conte  \n",
       "334381911            0.070094  0.006940 -0.088164  0.024163          Sunshine  \n",
       "17491245             0.037682 -0.001223 -0.040404 -0.029900              Dina  \n",
       "360577036            0.045025 -0.025883 -0.042053 -0.068529  Elizabeth Booker  \n",
       "\n",
       "[5 rows x 513 columns]"
      ]
     },
     "execution_count": 3,
     "metadata": {},
     "output_type": "execute_result"
    }
   ],
   "source": [
    "df = pd.read_csv(DATAPATH+'embeds.csv',index_col=0)\n",
    "df.head()"
   ]
  },
  {
   "cell_type": "code",
   "execution_count": 4,
   "metadata": {},
   "outputs": [
    {
     "data": {
      "text/html": [
       "<div>\n",
       "<style scoped>\n",
       "    .dataframe tbody tr th:only-of-type {\n",
       "        vertical-align: middle;\n",
       "    }\n",
       "\n",
       "    .dataframe tbody tr th {\n",
       "        vertical-align: top;\n",
       "    }\n",
       "\n",
       "    .dataframe thead th {\n",
       "        text-align: right;\n",
       "    }\n",
       "</style>\n",
       "<table border=\"1\" class=\"dataframe\">\n",
       "  <thead>\n",
       "    <tr style=\"text-align: right;\">\n",
       "      <th></th>\n",
       "      <th>0</th>\n",
       "      <th>1</th>\n",
       "      <th>2</th>\n",
       "      <th>3</th>\n",
       "      <th>4</th>\n",
       "      <th>5</th>\n",
       "      <th>6</th>\n",
       "      <th>7</th>\n",
       "      <th>8</th>\n",
       "      <th>9</th>\n",
       "      <th>...</th>\n",
       "      <th>503</th>\n",
       "      <th>504</th>\n",
       "      <th>505</th>\n",
       "      <th>506</th>\n",
       "      <th>507</th>\n",
       "      <th>508</th>\n",
       "      <th>509</th>\n",
       "      <th>510</th>\n",
       "      <th>511</th>\n",
       "      <th>name</th>\n",
       "    </tr>\n",
       "  </thead>\n",
       "  <tbody>\n",
       "    <tr>\n",
       "      <th>1045196569056669704</th>\n",
       "      <td>0.058569</td>\n",
       "      <td>-0.065579</td>\n",
       "      <td>-0.091680</td>\n",
       "      <td>-0.029350</td>\n",
       "      <td>-0.082061</td>\n",
       "      <td>0.040025</td>\n",
       "      <td>0.011938</td>\n",
       "      <td>0.049602</td>\n",
       "      <td>0.014164</td>\n",
       "      <td>-0.038351</td>\n",
       "      <td>...</td>\n",
       "      <td>-0.030435</td>\n",
       "      <td>0.039811</td>\n",
       "      <td>-0.001934</td>\n",
       "      <td>-0.033885</td>\n",
       "      <td>-0.027129</td>\n",
       "      <td>0.032534</td>\n",
       "      <td>-0.016910</td>\n",
       "      <td>-0.041840</td>\n",
       "      <td>-0.066517</td>\n",
       "      <td>Amanda ❤💙</td>\n",
       "    </tr>\n",
       "    <tr>\n",
       "      <th>774717684009369600</th>\n",
       "      <td>-0.038947</td>\n",
       "      <td>-0.000198</td>\n",
       "      <td>-0.060618</td>\n",
       "      <td>-0.005743</td>\n",
       "      <td>-0.078363</td>\n",
       "      <td>0.021608</td>\n",
       "      <td>0.083429</td>\n",
       "      <td>0.063364</td>\n",
       "      <td>0.059811</td>\n",
       "      <td>-0.079157</td>\n",
       "      <td>...</td>\n",
       "      <td>-0.029205</td>\n",
       "      <td>0.069821</td>\n",
       "      <td>0.017588</td>\n",
       "      <td>0.040863</td>\n",
       "      <td>-0.030275</td>\n",
       "      <td>0.047834</td>\n",
       "      <td>-0.013850</td>\n",
       "      <td>-0.064477</td>\n",
       "      <td>0.024759</td>\n",
       "      <td>Yvonne Conte</td>\n",
       "    </tr>\n",
       "    <tr>\n",
       "      <th>334381911</th>\n",
       "      <td>0.088421</td>\n",
       "      <td>-0.009570</td>\n",
       "      <td>-0.085473</td>\n",
       "      <td>0.010273</td>\n",
       "      <td>-0.093392</td>\n",
       "      <td>0.077757</td>\n",
       "      <td>-0.025262</td>\n",
       "      <td>0.042900</td>\n",
       "      <td>-0.025423</td>\n",
       "      <td>-0.007675</td>\n",
       "      <td>...</td>\n",
       "      <td>-0.002437</td>\n",
       "      <td>0.025510</td>\n",
       "      <td>-0.026548</td>\n",
       "      <td>-0.003747</td>\n",
       "      <td>-0.054380</td>\n",
       "      <td>0.070094</td>\n",
       "      <td>0.006940</td>\n",
       "      <td>-0.088164</td>\n",
       "      <td>0.024163</td>\n",
       "      <td>Sunshine</td>\n",
       "    </tr>\n",
       "    <tr>\n",
       "      <th>17491245</th>\n",
       "      <td>-0.021786</td>\n",
       "      <td>-0.024920</td>\n",
       "      <td>-0.048070</td>\n",
       "      <td>-0.063250</td>\n",
       "      <td>-0.059432</td>\n",
       "      <td>0.034641</td>\n",
       "      <td>0.031758</td>\n",
       "      <td>0.079691</td>\n",
       "      <td>0.006389</td>\n",
       "      <td>0.064993</td>\n",
       "      <td>...</td>\n",
       "      <td>-0.024126</td>\n",
       "      <td>0.006456</td>\n",
       "      <td>-0.019221</td>\n",
       "      <td>-0.044635</td>\n",
       "      <td>-0.073153</td>\n",
       "      <td>0.037682</td>\n",
       "      <td>-0.001223</td>\n",
       "      <td>-0.040404</td>\n",
       "      <td>-0.029900</td>\n",
       "      <td>Dina</td>\n",
       "    </tr>\n",
       "    <tr>\n",
       "      <th>360577036</th>\n",
       "      <td>-0.045635</td>\n",
       "      <td>-0.049451</td>\n",
       "      <td>-0.002246</td>\n",
       "      <td>-0.047154</td>\n",
       "      <td>0.011612</td>\n",
       "      <td>0.001651</td>\n",
       "      <td>0.010348</td>\n",
       "      <td>-0.022888</td>\n",
       "      <td>0.085357</td>\n",
       "      <td>0.056037</td>\n",
       "      <td>...</td>\n",
       "      <td>0.014130</td>\n",
       "      <td>-0.010233</td>\n",
       "      <td>0.003693</td>\n",
       "      <td>-0.020414</td>\n",
       "      <td>-0.078303</td>\n",
       "      <td>0.045025</td>\n",
       "      <td>-0.025883</td>\n",
       "      <td>-0.042053</td>\n",
       "      <td>-0.068529</td>\n",
       "      <td>Elizabeth Booker</td>\n",
       "    </tr>\n",
       "  </tbody>\n",
       "</table>\n",
       "<p>5 rows × 513 columns</p>\n",
       "</div>"
      ],
      "text/plain": [
       "                            0         1         2         3         4  \\\n",
       "1045196569056669704  0.058569 -0.065579 -0.091680 -0.029350 -0.082061   \n",
       "774717684009369600  -0.038947 -0.000198 -0.060618 -0.005743 -0.078363   \n",
       "334381911            0.088421 -0.009570 -0.085473  0.010273 -0.093392   \n",
       "17491245            -0.021786 -0.024920 -0.048070 -0.063250 -0.059432   \n",
       "360577036           -0.045635 -0.049451 -0.002246 -0.047154  0.011612   \n",
       "\n",
       "                            5         6         7         8         9  ...  \\\n",
       "1045196569056669704  0.040025  0.011938  0.049602  0.014164 -0.038351  ...   \n",
       "774717684009369600   0.021608  0.083429  0.063364  0.059811 -0.079157  ...   \n",
       "334381911            0.077757 -0.025262  0.042900 -0.025423 -0.007675  ...   \n",
       "17491245             0.034641  0.031758  0.079691  0.006389  0.064993  ...   \n",
       "360577036            0.001651  0.010348 -0.022888  0.085357  0.056037  ...   \n",
       "\n",
       "                          503       504       505       506       507  \\\n",
       "1045196569056669704 -0.030435  0.039811 -0.001934 -0.033885 -0.027129   \n",
       "774717684009369600  -0.029205  0.069821  0.017588  0.040863 -0.030275   \n",
       "334381911           -0.002437  0.025510 -0.026548 -0.003747 -0.054380   \n",
       "17491245            -0.024126  0.006456 -0.019221 -0.044635 -0.073153   \n",
       "360577036            0.014130 -0.010233  0.003693 -0.020414 -0.078303   \n",
       "\n",
       "                          508       509       510       511              name  \n",
       "1045196569056669704  0.032534 -0.016910 -0.041840 -0.066517         Amanda ❤💙  \n",
       "774717684009369600   0.047834 -0.013850 -0.064477  0.024759      Yvonne Conte  \n",
       "334381911            0.070094  0.006940 -0.088164  0.024163          Sunshine  \n",
       "17491245             0.037682 -0.001223 -0.040404 -0.029900              Dina  \n",
       "360577036            0.045025 -0.025883 -0.042053 -0.068529  Elizabeth Booker  \n",
       "\n",
       "[5 rows x 513 columns]"
      ]
     },
     "execution_count": 4,
     "metadata": {},
     "output_type": "execute_result"
    }
   ],
   "source": [
    "df = df.rename(columns={'names':'name'})\n",
    "df.head()"
   ]
  },
  {
   "cell_type": "code",
   "execution_count": 5,
   "metadata": {},
   "outputs": [],
   "source": [
    "d = gender.Detector()\n",
    "def is_male(name):\n",
    "    return(d.get_gender(name.split()[0])=='male')\n",
    "\n",
    "def is_female(name):\n",
    "    return(d.get_gender(name.split()[0])=='female')"
   ]
  },
  {
   "cell_type": "code",
   "execution_count": 6,
   "metadata": {},
   "outputs": [],
   "source": [
    "df['male'] = df.name.apply(is_male)"
   ]
  },
  {
   "cell_type": "code",
   "execution_count": 7,
   "metadata": {},
   "outputs": [
    {
     "data": {
      "text/html": [
       "<div>\n",
       "<style scoped>\n",
       "    .dataframe tbody tr th:only-of-type {\n",
       "        vertical-align: middle;\n",
       "    }\n",
       "\n",
       "    .dataframe tbody tr th {\n",
       "        vertical-align: top;\n",
       "    }\n",
       "\n",
       "    .dataframe thead th {\n",
       "        text-align: right;\n",
       "    }\n",
       "</style>\n",
       "<table border=\"1\" class=\"dataframe\">\n",
       "  <thead>\n",
       "    <tr style=\"text-align: right;\">\n",
       "      <th></th>\n",
       "      <th>0</th>\n",
       "      <th>1</th>\n",
       "      <th>2</th>\n",
       "      <th>3</th>\n",
       "      <th>4</th>\n",
       "      <th>5</th>\n",
       "      <th>6</th>\n",
       "      <th>7</th>\n",
       "      <th>8</th>\n",
       "      <th>9</th>\n",
       "      <th>...</th>\n",
       "      <th>504</th>\n",
       "      <th>505</th>\n",
       "      <th>506</th>\n",
       "      <th>507</th>\n",
       "      <th>508</th>\n",
       "      <th>509</th>\n",
       "      <th>510</th>\n",
       "      <th>511</th>\n",
       "      <th>name</th>\n",
       "      <th>male</th>\n",
       "    </tr>\n",
       "  </thead>\n",
       "  <tbody>\n",
       "    <tr>\n",
       "      <th>1045196569056669704</th>\n",
       "      <td>0.058569</td>\n",
       "      <td>-0.065579</td>\n",
       "      <td>-0.091680</td>\n",
       "      <td>-0.029350</td>\n",
       "      <td>-0.082061</td>\n",
       "      <td>0.040025</td>\n",
       "      <td>0.011938</td>\n",
       "      <td>0.049602</td>\n",
       "      <td>0.014164</td>\n",
       "      <td>-0.038351</td>\n",
       "      <td>...</td>\n",
       "      <td>0.039811</td>\n",
       "      <td>-0.001934</td>\n",
       "      <td>-0.033885</td>\n",
       "      <td>-0.027129</td>\n",
       "      <td>0.032534</td>\n",
       "      <td>-0.016910</td>\n",
       "      <td>-0.041840</td>\n",
       "      <td>-0.066517</td>\n",
       "      <td>Amanda ❤💙</td>\n",
       "      <td>False</td>\n",
       "    </tr>\n",
       "    <tr>\n",
       "      <th>774717684009369600</th>\n",
       "      <td>-0.038947</td>\n",
       "      <td>-0.000198</td>\n",
       "      <td>-0.060618</td>\n",
       "      <td>-0.005743</td>\n",
       "      <td>-0.078363</td>\n",
       "      <td>0.021608</td>\n",
       "      <td>0.083429</td>\n",
       "      <td>0.063364</td>\n",
       "      <td>0.059811</td>\n",
       "      <td>-0.079157</td>\n",
       "      <td>...</td>\n",
       "      <td>0.069821</td>\n",
       "      <td>0.017588</td>\n",
       "      <td>0.040863</td>\n",
       "      <td>-0.030275</td>\n",
       "      <td>0.047834</td>\n",
       "      <td>-0.013850</td>\n",
       "      <td>-0.064477</td>\n",
       "      <td>0.024759</td>\n",
       "      <td>Yvonne Conte</td>\n",
       "      <td>False</td>\n",
       "    </tr>\n",
       "    <tr>\n",
       "      <th>334381911</th>\n",
       "      <td>0.088421</td>\n",
       "      <td>-0.009570</td>\n",
       "      <td>-0.085473</td>\n",
       "      <td>0.010273</td>\n",
       "      <td>-0.093392</td>\n",
       "      <td>0.077757</td>\n",
       "      <td>-0.025262</td>\n",
       "      <td>0.042900</td>\n",
       "      <td>-0.025423</td>\n",
       "      <td>-0.007675</td>\n",
       "      <td>...</td>\n",
       "      <td>0.025510</td>\n",
       "      <td>-0.026548</td>\n",
       "      <td>-0.003747</td>\n",
       "      <td>-0.054380</td>\n",
       "      <td>0.070094</td>\n",
       "      <td>0.006940</td>\n",
       "      <td>-0.088164</td>\n",
       "      <td>0.024163</td>\n",
       "      <td>Sunshine</td>\n",
       "      <td>False</td>\n",
       "    </tr>\n",
       "    <tr>\n",
       "      <th>17491245</th>\n",
       "      <td>-0.021786</td>\n",
       "      <td>-0.024920</td>\n",
       "      <td>-0.048070</td>\n",
       "      <td>-0.063250</td>\n",
       "      <td>-0.059432</td>\n",
       "      <td>0.034641</td>\n",
       "      <td>0.031758</td>\n",
       "      <td>0.079691</td>\n",
       "      <td>0.006389</td>\n",
       "      <td>0.064993</td>\n",
       "      <td>...</td>\n",
       "      <td>0.006456</td>\n",
       "      <td>-0.019221</td>\n",
       "      <td>-0.044635</td>\n",
       "      <td>-0.073153</td>\n",
       "      <td>0.037682</td>\n",
       "      <td>-0.001223</td>\n",
       "      <td>-0.040404</td>\n",
       "      <td>-0.029900</td>\n",
       "      <td>Dina</td>\n",
       "      <td>False</td>\n",
       "    </tr>\n",
       "    <tr>\n",
       "      <th>360577036</th>\n",
       "      <td>-0.045635</td>\n",
       "      <td>-0.049451</td>\n",
       "      <td>-0.002246</td>\n",
       "      <td>-0.047154</td>\n",
       "      <td>0.011612</td>\n",
       "      <td>0.001651</td>\n",
       "      <td>0.010348</td>\n",
       "      <td>-0.022888</td>\n",
       "      <td>0.085357</td>\n",
       "      <td>0.056037</td>\n",
       "      <td>...</td>\n",
       "      <td>-0.010233</td>\n",
       "      <td>0.003693</td>\n",
       "      <td>-0.020414</td>\n",
       "      <td>-0.078303</td>\n",
       "      <td>0.045025</td>\n",
       "      <td>-0.025883</td>\n",
       "      <td>-0.042053</td>\n",
       "      <td>-0.068529</td>\n",
       "      <td>Elizabeth Booker</td>\n",
       "      <td>False</td>\n",
       "    </tr>\n",
       "  </tbody>\n",
       "</table>\n",
       "<p>5 rows × 514 columns</p>\n",
       "</div>"
      ],
      "text/plain": [
       "                            0         1         2         3         4  \\\n",
       "1045196569056669704  0.058569 -0.065579 -0.091680 -0.029350 -0.082061   \n",
       "774717684009369600  -0.038947 -0.000198 -0.060618 -0.005743 -0.078363   \n",
       "334381911            0.088421 -0.009570 -0.085473  0.010273 -0.093392   \n",
       "17491245            -0.021786 -0.024920 -0.048070 -0.063250 -0.059432   \n",
       "360577036           -0.045635 -0.049451 -0.002246 -0.047154  0.011612   \n",
       "\n",
       "                            5         6         7         8         9  ...  \\\n",
       "1045196569056669704  0.040025  0.011938  0.049602  0.014164 -0.038351  ...   \n",
       "774717684009369600   0.021608  0.083429  0.063364  0.059811 -0.079157  ...   \n",
       "334381911            0.077757 -0.025262  0.042900 -0.025423 -0.007675  ...   \n",
       "17491245             0.034641  0.031758  0.079691  0.006389  0.064993  ...   \n",
       "360577036            0.001651  0.010348 -0.022888  0.085357  0.056037  ...   \n",
       "\n",
       "                          504       505       506       507       508  \\\n",
       "1045196569056669704  0.039811 -0.001934 -0.033885 -0.027129  0.032534   \n",
       "774717684009369600   0.069821  0.017588  0.040863 -0.030275  0.047834   \n",
       "334381911            0.025510 -0.026548 -0.003747 -0.054380  0.070094   \n",
       "17491245             0.006456 -0.019221 -0.044635 -0.073153  0.037682   \n",
       "360577036           -0.010233  0.003693 -0.020414 -0.078303  0.045025   \n",
       "\n",
       "                          509       510       511              name   male  \n",
       "1045196569056669704 -0.016910 -0.041840 -0.066517         Amanda ❤💙  False  \n",
       "774717684009369600  -0.013850 -0.064477  0.024759      Yvonne Conte  False  \n",
       "334381911            0.006940 -0.088164  0.024163          Sunshine  False  \n",
       "17491245            -0.001223 -0.040404 -0.029900              Dina  False  \n",
       "360577036           -0.025883 -0.042053 -0.068529  Elizabeth Booker  False  \n",
       "\n",
       "[5 rows x 514 columns]"
      ]
     },
     "execution_count": 7,
     "metadata": {},
     "output_type": "execute_result"
    }
   ],
   "source": [
    "df.head()"
   ]
  },
  {
   "cell_type": "code",
   "execution_count": 8,
   "metadata": {},
   "outputs": [
    {
     "data": {
      "text/plain": [
       "(3005, 514)"
      ]
     },
     "execution_count": 8,
     "metadata": {},
     "output_type": "execute_result"
    }
   ],
   "source": [
    "df.shape"
   ]
  },
  {
   "cell_type": "code",
   "execution_count": 9,
   "metadata": {},
   "outputs": [],
   "source": [
    "X = df.drop(['name','male'],axis=1).values\n",
    "y = 1*df.male.values\n",
    "q = 512"
   ]
  },
  {
   "cell_type": "code",
   "execution_count": 10,
   "metadata": {},
   "outputs": [],
   "source": [
    "start1=800\n",
    "end1=1000\n",
    "start2=1200\n",
    "end2=2400\n",
    "start3=2700\n",
    "X_train = np.concatenate([X[:start1,:q],X[start2:end2,:q]])\n",
    "y_train = np.concatenate([y[:start1],y[start2:end2]])\n",
    "X_valid = np.concatenate([X[start1:end1,:q],X[end2:start3,:q]])\n",
    "y_valid = np.concatenate([y[start1:end1],y[end2:start3]])\n",
    "X_test = np.concatenate([X[end1:start2,:q],X[start3:,:q]])\n",
    "y_test = np.concatenate([y[end1:start2],y[start3:]])"
   ]
  },
  {
   "cell_type": "code",
   "execution_count": 11,
   "metadata": {},
   "outputs": [
    {
     "data": {
      "text/plain": [
       "(2000, 512)"
      ]
     },
     "execution_count": 11,
     "metadata": {},
     "output_type": "execute_result"
    }
   ],
   "source": [
    "X_train.shape"
   ]
  },
  {
   "cell_type": "code",
   "execution_count": 12,
   "metadata": {},
   "outputs": [
    {
     "data": {
      "image/png": "[encoded data removed]",
      "text/plain": [
       "<Figure size 432x288 with 1 Axes>"
      ]
     },
     "metadata": {
      "needs_background": "light"
     },
     "output_type": "display_data"
    }
   ],
   "source": [
    "plt.hist(X_train)\n",
    "plt.show()"
   ]
  },
  {
   "cell_type": "code",
   "execution_count": 98,
   "metadata": {},
   "outputs": [],
   "source": [
    "scaler = MinMaxScaler()\n",
    "X_train = scaler.fit_transform(X_train)\n",
    "X_valid = scaler.transform(X_valid)\n",
    "X_test = scaler.transform(X_test)"
   ]
  },
  {
   "cell_type": "code",
   "execution_count": 108,
   "metadata": {},
   "outputs": [
    {
     "data": {
      "image/png": "[encoded data removed]",
      "text/plain": [
       "<Figure size 432x288 with 1 Axes>"
      ]
     },
     "metadata": {
      "needs_background": "light"
     },
     "output_type": "display_data"
    }
   ],
   "source": [
    "plt.hist(X_train)\n",
    "plt.show()"
   ]
  },
  {
   "cell_type": "code",
   "execution_count": 204,
   "metadata": {},
   "outputs": [],
   "source": [
    "model = keras.models.Sequential()\n",
    "model.add(keras.layers.Dense(64, activation='relu', input_dim=512))\n",
    "model.add(keras.layers.BatchNormalization())\n",
    "model.add(keras.layers.Dense(256, activation='relu'))\n",
    "model.add(keras.layers.Dropout(.4))\n",
    "model.add(keras.layers.Dense(32, activation='relu'))\n",
    "model.add(keras.layers.Dropout(.8))\n",
    "model.add(keras.layers.Dense(6, activation='relu',))\n",
    "model.add(keras.layers.Dense(1, activation='sigmoid'))"
   ]
  },
  {
   "cell_type": "code",
   "execution_count": 205,
   "metadata": {},
   "outputs": [
    {
     "name": "stdout",
     "output_type": "stream",
     "text": [
      "_________________________________________________________________\n",
      "Layer (type)                 Output Shape              Param #   \n",
      "=================================================================\n",
      "dense_154 (Dense)            (None, 64)                32832     \n",
      "_________________________________________________________________\n",
      "batch_normalization_35 (Batc (None, 64)                256       \n",
      "_________________________________________________________________\n",
      "dense_155 (Dense)            (None, 256)               16640     \n",
      "_________________________________________________________________\n",
      "dropout_95 (Dropout)         (None, 256)               0         \n",
      "_________________________________________________________________\n",
      "dense_156 (Dense)            (None, 32)                8224      \n",
      "_________________________________________________________________\n",
      "dropout_96 (Dropout)         (None, 32)                0         \n",
      "_________________________________________________________________\n",
      "dense_157 (Dense)            (None, 6)                 198       \n",
      "_________________________________________________________________\n",
      "dense_158 (Dense)            (None, 1)                 7         \n",
      "=================================================================\n",
      "Total params: 58,157\n",
      "Trainable params: 58,029\n",
      "Non-trainable params: 128\n",
      "_________________________________________________________________\n"
     ]
    }
   ],
   "source": [
    "model.summary()"
   ]
  },
  {
   "cell_type": "code",
   "execution_count": 206,
   "metadata": {},
   "outputs": [],
   "source": [
    "model.compile(loss='binary_crossentropy', optimizer='adam', metrics=['accuracy'])"
   ]
  },
  {
   "cell_type": "code",
   "execution_count": 207,
   "metadata": {},
   "outputs": [
    {
     "name": "stdout",
     "output_type": "stream",
     "text": [
      "Train on 2000 samples, validate on 500 samples\n",
      "Epoch 1/20\n",
      "2000/2000 [==============================] - 2s 974us/step - loss: 0.7255 - acc: 0.5205 - val_loss: 0.6789 - val_acc: 0.5980\n",
      "Epoch 2/20\n",
      "2000/2000 [==============================] - 0s 72us/step - loss: 0.6859 - acc: 0.5640 - val_loss: 0.6717 - val_acc: 0.6000\n",
      "Epoch 3/20\n",
      "2000/2000 [==============================] - 0s 73us/step - loss: 0.6856 - acc: 0.5800 - val_loss: 0.6704 - val_acc: 0.6000\n",
      "Epoch 4/20\n",
      "2000/2000 [==============================] - 0s 75us/step - loss: 0.6740 - acc: 0.5890 - val_loss: 0.6671 - val_acc: 0.6000\n",
      "Epoch 5/20\n",
      "2000/2000 [==============================] - 0s 73us/step - loss: 0.6696 - acc: 0.5945 - val_loss: 0.6649 - val_acc: 0.6000\n",
      "Epoch 6/20\n",
      "2000/2000 [==============================] - 0s 75us/step - loss: 0.6660 - acc: 0.6025 - val_loss: 0.6655 - val_acc: 0.5980\n",
      "Epoch 7/20\n",
      "2000/2000 [==============================] - 0s 75us/step - loss: 0.6639 - acc: 0.5910 - val_loss: 0.6593 - val_acc: 0.6000\n",
      "Epoch 8/20\n",
      "2000/2000 [==============================] - 0s 77us/step - loss: 0.6495 - acc: 0.6175 - val_loss: 0.6610 - val_acc: 0.6000\n",
      "Epoch 9/20\n",
      "2000/2000 [==============================] - 0s 75us/step - loss: 0.6533 - acc: 0.6025 - val_loss: 0.6580 - val_acc: 0.5980\n",
      "Epoch 10/20\n",
      "2000/2000 [==============================] - 0s 76us/step - loss: 0.6510 - acc: 0.6140 - val_loss: 0.6575 - val_acc: 0.6000\n",
      "Epoch 11/20\n",
      "2000/2000 [==============================] - 0s 78us/step - loss: 0.6479 - acc: 0.6180 - val_loss: 0.6549 - val_acc: 0.6140\n",
      "Epoch 12/20\n",
      "2000/2000 [==============================] - 0s 80us/step - loss: 0.6525 - acc: 0.6125 - val_loss: 0.6545 - val_acc: 0.6260\n",
      "Epoch 13/20\n",
      "2000/2000 [==============================] - 0s 77us/step - loss: 0.6367 - acc: 0.6280 - val_loss: 0.6573 - val_acc: 0.6120\n",
      "Epoch 14/20\n",
      "2000/2000 [==============================] - 0s 74us/step - loss: 0.6285 - acc: 0.6315 - val_loss: 0.6536 - val_acc: 0.6280\n",
      "Epoch 15/20\n",
      "2000/2000 [==============================] - 0s 78us/step - loss: 0.6266 - acc: 0.6235 - val_loss: 0.6575 - val_acc: 0.6320\n",
      "Epoch 16/20\n",
      "2000/2000 [==============================] - 0s 79us/step - loss: 0.6338 - acc: 0.6310 - val_loss: 0.6602 - val_acc: 0.6180\n",
      "Epoch 17/20\n",
      "2000/2000 [==============================] - 0s 75us/step - loss: 0.6255 - acc: 0.6235 - val_loss: 0.6733 - val_acc: 0.6060\n",
      "Epoch 18/20\n",
      "2000/2000 [==============================] - 0s 76us/step - loss: 0.6238 - acc: 0.6275 - val_loss: 0.6776 - val_acc: 0.6140\n",
      "Epoch 19/20\n",
      "2000/2000 [==============================] - 0s 75us/step - loss: 0.6200 - acc: 0.6275 - val_loss: 0.6602 - val_acc: 0.6080\n",
      "Epoch 20/20\n",
      "2000/2000 [==============================] - 0s 80us/step - loss: 0.6034 - acc: 0.6450 - val_loss: 0.6619 - val_acc: 0.6340\n"
     ]
    },
    {
     "data": {
      "text/plain": [
       "<keras.callbacks.History at 0x7f9baebd3d30>"
      ]
     },
     "execution_count": 207,
     "metadata": {},
     "output_type": "execute_result"
    }
   ],
   "source": [
    "model.fit(X_train, y_train,\n",
    "          epochs=20,\n",
    "          batch_size=64,\n",
    "          validation_data=[X_valid,y_valid])"
   ]
  },
  {
   "cell_type": "code",
   "execution_count": 208,
   "metadata": {},
   "outputs": [
    {
     "data": {
      "text/plain": [
       "0.768220617202889"
      ]
     },
     "execution_count": 208,
     "metadata": {},
     "output_type": "execute_result"
    }
   ],
   "source": [
    "y_train_pred = model.predict(X_train)\n",
    "f1_score(y_train, y_train_pred>.5)"
   ]
  },
  {
   "cell_type": "code",
   "execution_count": 209,
   "metadata": {},
   "outputs": [
    {
     "name": "stdout",
     "output_type": "stream",
     "text": [
      "[[ 25 175]\n",
      " [  8 292]]\n"
     ]
    },
    {
     "data": {
      "text/plain": [
       "0.7614080834419816"
      ]
     },
     "execution_count": 209,
     "metadata": {},
     "output_type": "execute_result"
    }
   ],
   "source": [
    "y_pred = model.predict(X_valid)\n",
    "print( confusion_matrix(y_valid, (y_pred>.5)) )\n",
    "f1_score(y_valid, y_pred>.5)"
   ]
  },
  {
   "cell_type": "code",
   "execution_count": 210,
   "metadata": {},
   "outputs": [
    {
     "name": "stdout",
     "output_type": "stream",
     "text": [
      "[[ 15 174]\n",
      " [ 11 305]]\n"
     ]
    },
    {
     "data": {
      "text/plain": [
       "0.7672955974842767"
      ]
     },
     "execution_count": 210,
     "metadata": {},
     "output_type": "execute_result"
    }
   ],
   "source": [
    "y_test_pred = model.predict(X_test)\n",
    "print( confusion_matrix(y_test, (y_test_pred>.5)) )\n",
    "f1_score(y_test, y_test_pred>.5)"
   ]
  },
  {
   "cell_type": "code",
   "execution_count": 211,
   "metadata": {},
   "outputs": [
    {
     "data": {
      "text/plain": [
       "0.6336633663366337"
      ]
     },
     "execution_count": 211,
     "metadata": {},
     "output_type": "execute_result"
    }
   ],
   "source": [
    "accuracy_score(y_test, y_test_pred>.5)"
   ]
  },
  {
   "cell_type": "code",
   "execution_count": 212,
   "metadata": {},
   "outputs": [],
   "source": [
    "fpr, tpr, _ = roc_curve(y_test, y_test_pred)\n",
    "roc_auc = auc(fpr, tpr)"
   ]
  },
  {
   "cell_type": "code",
   "execution_count": 213,
   "metadata": {},
   "outputs": [
    {
     "data": {
      "image/png": "[encoded data removed]",
      "text/plain": [
       "<Figure size 432x288 with 1 Axes>"
      ]
     },
     "metadata": {
      "needs_background": "light"
     },
     "output_type": "display_data"
    }
   ],
   "source": [
    "plt.figure()\n",
    "plt.plot(fpr, tpr, color='darkorange',\n",
    "         lw=1, label='ROC curve (area = %0.2f)' % roc_auc)\n",
    "plt.plot([0, 1], [0, 1], color='navy', lw=1, linestyle='--')\n",
    "plt.xlim([0.0, 1.0])\n",
    "plt.ylim([0.0, 1.05])\n",
    "plt.xlabel('False Positive Rate')\n",
    "plt.ylabel('True Positive Rate')\n",
    "plt.title('Receiver operating characteristic example')\n",
    "plt.legend(loc=\"lower right\")\n",
    "plt.show()"
   ]
  },
  {
   "cell_type": "code",
   "execution_count": null,
   "metadata": {},
   "outputs": [],
   "source": []
  }
 ],
 "metadata": {
  "kernelspec": {
   "display_name": "tf",
   "language": "python",
   "name": "tf"
  },
  "language_info": {
   "codemirror_mode": {
    "name": "ipython",
    "version": 3
   },
   "file_extension": ".py",
   "mimetype": "text/x-python",
   "name": "python",
   "nbconvert_exporter": "python",
   "pygments_lexer": "ipython3",
   "version": "3.6.7"
  }
 },
 "nbformat": 4,
 "nbformat_minor": 2
}
