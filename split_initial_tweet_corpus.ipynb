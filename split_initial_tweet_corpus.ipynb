{
 "cells": [
  {
   "cell_type": "code",
   "execution_count": 1,
   "metadata": {},
   "outputs": [],
   "source": [
    "DATAPATH = '../data/'\n",
    "FILENAMES = ['aggtweets.csv', 'tweets_agg_201906011717.csv']\n",
    "XFERPATH = '~/gdrive_files/twitgen'"
   ]
  },
  {
   "cell_type": "code",
   "execution_count": 2,
   "metadata": {},
   "outputs": [],
   "source": [
    "import pandas as pd\n",
    "from datetime import datetime\n",
    "from utils import balanced_split_by_time_and_id "
   ]
  },
  {
   "cell_type": "code",
   "execution_count": 3,
   "metadata": {},
   "outputs": [
    {
     "data": {
      "text/plain": [
       "(75394, 2)"
      ]
     },
     "execution_count": 3,
     "metadata": {},
     "output_type": "execute_result"
    }
   ],
   "source": [
    "df = pd.DataFrame()\n",
    "for f in FILENAMES:\n",
    "    df = pd.concat([df, pd.read_csv(DATAPATH + f, \n",
    "                                    index_col=['id','time'],\n",
    "                                    parse_dates=['time']).drop(['name'],axis=1)]).dropna()\n",
    "df.shape"
   ]
  },
  {
   "cell_type": "code",
   "execution_count": 4,
   "metadata": {},
   "outputs": [
    {
     "data": {
      "text/html": [
       "<div>\n",
       "<style scoped>\n",
       "    .dataframe tbody tr th:only-of-type {\n",
       "        vertical-align: middle;\n",
       "    }\n",
       "\n",
       "    .dataframe tbody tr th {\n",
       "        vertical-align: top;\n",
       "    }\n",
       "\n",
       "    .dataframe thead th {\n",
       "        text-align: right;\n",
       "    }\n",
       "</style>\n",
       "<table border=\"1\" class=\"dataframe\">\n",
       "  <thead>\n",
       "    <tr style=\"text-align: right;\">\n",
       "      <th></th>\n",
       "      <th></th>\n",
       "      <th>text</th>\n",
       "      <th>male</th>\n",
       "    </tr>\n",
       "    <tr>\n",
       "      <th>id</th>\n",
       "      <th>time</th>\n",
       "      <th></th>\n",
       "      <th></th>\n",
       "    </tr>\n",
       "  </thead>\n",
       "  <tbody>\n",
       "    <tr>\n",
       "      <th>425472153</th>\n",
       "      <th>2019-05-25 20:24:48+00:00</th>\n",
       "      <td>Everything and everybody is temporary ‼️</td>\n",
       "      <td>False</td>\n",
       "    </tr>\n",
       "    <tr>\n",
       "      <th>1081873499621273601</th>\n",
       "      <th>2019-05-25 20:24:48+00:00</th>\n",
       "      <td>My poll about short stories was part of me adm...</td>\n",
       "      <td>True</td>\n",
       "    </tr>\n",
       "    <tr>\n",
       "      <th>987721418</th>\n",
       "      <th>2019-05-25 20:24:48+00:00</th>\n",
       "      <td>Wish I was in mobile right now</td>\n",
       "      <td>False</td>\n",
       "    </tr>\n",
       "    <tr>\n",
       "      <th>980758839770451973</th>\n",
       "      <th>2019-05-25 20:24:52+00:00</th>\n",
       "      <td>how much for this promo ? Put me on ?</td>\n",
       "      <td>False</td>\n",
       "    </tr>\n",
       "    <tr>\n",
       "      <th>838620336367218692</th>\n",
       "      <th>2019-05-25 20:24:53+00:00</th>\n",
       "      <td>Keep an eye on the sky this evening if you hav...</td>\n",
       "      <td>True</td>\n",
       "    </tr>\n",
       "  </tbody>\n",
       "</table>\n",
       "</div>"
      ],
      "text/plain": [
       "                                                                                            text  \\\n",
       "id                  time                                                                           \n",
       "425472153           2019-05-25 20:24:48+00:00           Everything and everybody is temporary ‼️   \n",
       "1081873499621273601 2019-05-25 20:24:48+00:00  My poll about short stories was part of me adm...   \n",
       "987721418           2019-05-25 20:24:48+00:00                     Wish I was in mobile right now   \n",
       "980758839770451973  2019-05-25 20:24:52+00:00              how much for this promo ? Put me on ?   \n",
       "838620336367218692  2019-05-25 20:24:53+00:00  Keep an eye on the sky this evening if you hav...   \n",
       "\n",
       "                                                male  \n",
       "id                  time                              \n",
       "425472153           2019-05-25 20:24:48+00:00  False  \n",
       "1081873499621273601 2019-05-25 20:24:48+00:00   True  \n",
       "987721418           2019-05-25 20:24:48+00:00  False  \n",
       "980758839770451973  2019-05-25 20:24:52+00:00  False  \n",
       "838620336367218692  2019-05-25 20:24:53+00:00   True  "
      ]
     },
     "execution_count": 4,
     "metadata": {},
     "output_type": "execute_result"
    }
   ],
   "source": [
    "df.head()"
   ]
  },
  {
   "cell_type": "code",
   "execution_count": 5,
   "metadata": {},
   "outputs": [],
   "source": [
    "xy_train, xy_valid, xy_test = balanced_split_by_time_and_id(df)"
   ]
  },
  {
   "cell_type": "code",
   "execution_count": 6,
   "metadata": {},
   "outputs": [
    {
     "data": {
      "text/html": [
       "<div>\n",
       "<style scoped>\n",
       "    .dataframe tbody tr th:only-of-type {\n",
       "        vertical-align: middle;\n",
       "    }\n",
       "\n",
       "    .dataframe tbody tr th {\n",
       "        vertical-align: top;\n",
       "    }\n",
       "\n",
       "    .dataframe thead th {\n",
       "        text-align: right;\n",
       "    }\n",
       "</style>\n",
       "<table border=\"1\" class=\"dataframe\">\n",
       "  <thead>\n",
       "    <tr style=\"text-align: right;\">\n",
       "      <th></th>\n",
       "      <th></th>\n",
       "      <th>text</th>\n",
       "      <th>male</th>\n",
       "    </tr>\n",
       "    <tr>\n",
       "      <th>id</th>\n",
       "      <th>time</th>\n",
       "      <th></th>\n",
       "      <th></th>\n",
       "    </tr>\n",
       "  </thead>\n",
       "  <tbody>\n",
       "    <tr>\n",
       "      <th>1083596943807393792</th>\n",
       "      <th>2019-05-27 23:27:08+00:00</th>\n",
       "      <td>Ah, the Flat Earth gambit.\\nWell played.</td>\n",
       "      <td>True</td>\n",
       "    </tr>\n",
       "    <tr>\n",
       "      <th>815783987784187904</th>\n",
       "      <th>2019-05-24 15:36:01+00:00</th>\n",
       "      <td>Aw ily</td>\n",
       "      <td>False</td>\n",
       "    </tr>\n",
       "    <tr>\n",
       "      <th>3458239641</th>\n",
       "      <th>2019-05-24 19:00:37+00:00</th>\n",
       "      <td>I hate being sick</td>\n",
       "      <td>False</td>\n",
       "    </tr>\n",
       "    <tr>\n",
       "      <th>1003729876250226688</th>\n",
       "      <th>2019-05-26 12:53:00+00:00</th>\n",
       "      <td>You still didn't' do shit tho. Slow down the...</td>\n",
       "      <td>True</td>\n",
       "    </tr>\n",
       "    <tr>\n",
       "      <th>2360143940</th>\n",
       "      <th>2019-05-28 03:50:46+00:00</th>\n",
       "      <td>Harriet Tubman may not be on the $20 bill... f...</td>\n",
       "      <td>False</td>\n",
       "    </tr>\n",
       "  </tbody>\n",
       "</table>\n",
       "</div>"
      ],
      "text/plain": [
       "                                                                                            text  \\\n",
       "id                  time                                                                           \n",
       "1083596943807393792 2019-05-27 23:27:08+00:00           Ah, the Flat Earth gambit.\\nWell played.   \n",
       "815783987784187904  2019-05-24 15:36:01+00:00                                             Aw ily   \n",
       "3458239641          2019-05-24 19:00:37+00:00                                  I hate being sick   \n",
       "1003729876250226688 2019-05-26 12:53:00+00:00    You still didn't' do shit tho. Slow down the...   \n",
       "2360143940          2019-05-28 03:50:46+00:00  Harriet Tubman may not be on the $20 bill... f...   \n",
       "\n",
       "                                                male  \n",
       "id                  time                              \n",
       "1083596943807393792 2019-05-27 23:27:08+00:00   True  \n",
       "815783987784187904  2019-05-24 15:36:01+00:00  False  \n",
       "3458239641          2019-05-24 19:00:37+00:00  False  \n",
       "1003729876250226688 2019-05-26 12:53:00+00:00   True  \n",
       "2360143940          2019-05-28 03:50:46+00:00  False  "
      ]
     },
     "execution_count": 6,
     "metadata": {},
     "output_type": "execute_result"
    }
   ],
   "source": [
    "xy_train.head()"
   ]
  },
  {
   "cell_type": "code",
   "execution_count": 7,
   "metadata": {},
   "outputs": [
    {
     "data": {
      "text/plain": [
       "((34146, 2), (10914, 2), (10450, 2))"
      ]
     },
     "execution_count": 7,
     "metadata": {},
     "output_type": "execute_result"
    }
   ],
   "source": [
    "xy_train.shape, xy_valid.shape, xy_test.shape"
   ]
  },
  {
   "cell_type": "code",
   "execution_count": 8,
   "metadata": {},
   "outputs": [],
   "source": [
    "timestamp = datetime.now().strftime('%Y%m%d%H%M')\n",
    "fp_train = DATAPATH + 'twitgen_train_' + timestamp + '.csv'\n",
    "fp_valid = DATAPATH + 'twitgen_valid_' + timestamp + '.csv'\n",
    "fp_test = DATAPATH + 'twitgen_test_' + timestamp + '.csv'\n",
    "xy_train.to_csv(fp_train)\n",
    "xy_valid.to_csv(fp_valid)\n",
    "xy_test.to_csv(fp_test)"
   ]
  },
  {
   "cell_type": "code",
   "execution_count": 9,
   "metadata": {},
   "outputs": [
    {
     "data": {
      "text/plain": [
       "'201906011956'"
      ]
     },
     "execution_count": 9,
     "metadata": {},
     "output_type": "execute_result"
    }
   ],
   "source": [
    "timestamp"
   ]
  },
  {
   "cell_type": "code",
   "execution_count": 10,
   "metadata": {},
   "outputs": [],
   "source": [
    "!cp $fp_train $XFERPATH\n",
    "!cp $fp_valid $XFERPATH\n",
    "!cp $fp_test $XFERPATH"
   ]
  },
  {
   "cell_type": "code",
   "execution_count": null,
   "metadata": {},
   "outputs": [],
   "source": []
  }
 ],
 "metadata": {
  "kernelspec": {
   "display_name": "Python 3",
   "language": "python",
   "name": "python3"
  },
  "language_info": {
   "codemirror_mode": {
    "name": "ipython",
    "version": 3
   },
   "file_extension": ".py",
   "mimetype": "text/x-python",
   "name": "python",
   "nbconvert_exporter": "python",
   "pygments_lexer": "ipython3",
   "version": "3.6.8"
  }
 },
 "nbformat": 4,
 "nbformat_minor": 2
}
