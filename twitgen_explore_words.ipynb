{
 "cells": [
  {
   "cell_type": "code",
   "execution_count": 1,
   "metadata": {
    "colab": {
     "base_uri": "https://localhost:8080/",
     "height": 122
    },
    "colab_type": "code",
    "id": "Ax4RdzBXu65o",
    "outputId": "7aac061f-8764-4463-8e4f-9b2cd76d083a"
   },
   "outputs": [],
   "source": [
    "do_mount=False\n",
    "have_glove_embeddings=True\n",
    "if do_mount:\n",
    "  from google.colab import drive\n",
    "  drive.mount('/content/gdrive')"
   ]
  },
  {
   "cell_type": "code",
   "execution_count": 2,
   "metadata": {
    "colab": {},
    "colab_type": "code",
    "id": "Hg5Y784oysWW"
   },
   "outputs": [],
   "source": [
    "# Parameters\n",
    "do_save_activations = False\n",
    "\n",
    "TRAIN_INPUT = 'twitgen_train_201906011956.csv'\n",
    "VALID_INPUT = 'twitgen_valid_201906011956.csv'\n",
    "TEST_INPUT = 'twitgen_test_201906011956.csv'\n",
    "EMBEDDING_DIM = 200\n",
    "MAXLEN = 25  # Maximum number of words per tweet that will be processed"
   ]
  },
  {
   "cell_type": "code",
   "execution_count": 3,
   "metadata": {
    "colab": {},
    "colab_type": "code",
    "id": "x-H3ypYSfqro"
   },
   "outputs": [],
   "source": [
    "basepath = '../data/'\n",
    "if have_glove_embeddings:\n",
    "    embed_file = 'glove_train_embeddings.pkl.gz'\n",
    "else:\n",
    "    glovepath = basepath + glovefile\n",
    "    glovefile = 'glove.twitter.27B.200d.txt.gz'"
   ]
  },
  {
   "cell_type": "code",
   "execution_count": 4,
   "metadata": {
    "colab": {
     "base_uri": "https://localhost:8080/",
     "height": 85
    },
    "colab_type": "code",
    "id": "ZTHMDATrw2or",
    "outputId": "4f5c5a98-03fe-43f9-96ef-704582e72cc8"
   },
   "outputs": [],
   "source": [
    "if do_mount and not have_glove_embeddings:\n",
    "  # Get the embedding initialization file\n",
    "  !cp '$glovepath' .\n",
    "  !gunzip $glovefile\n",
    "  !ls -l"
   ]
  },
  {
   "cell_type": "code",
   "execution_count": 5,
   "metadata": {
    "colab": {
     "base_uri": "https://localhost:8080/",
     "height": 51
    },
    "colab_type": "code",
    "id": "Ki5FWLkTycV4",
    "outputId": "7bebb843-ae65-4df7-d256-d21ba8353dc5"
   },
   "outputs": [
    {
     "name": "stderr",
     "output_type": "stream",
     "text": [
      "Using TensorFlow backend.\n"
     ]
    },
    {
     "data": {
      "text/plain": [
       "'2.2.4'"
      ]
     },
     "execution_count": 5,
     "metadata": {},
     "output_type": "execute_result"
    }
   ],
   "source": [
    "import tensorflow as tf\n",
    "import pandas as pd\n",
    "import os\n",
    "import re\n",
    "import keras\n",
    "from keras import backend as K\n",
    "import keras.layers as layers\n",
    "from keras.models import Model, load_model\n",
    "from keras.engine import Layer\n",
    "from keras.optimizers import Adam, Adagrad\n",
    "from keras.preprocessing.text import Tokenizer\n",
    "from keras.preprocessing.sequence import pad_sequences\n",
    "import numpy as np\n",
    "from datetime import datetime\n",
    "from collections import Counter\n",
    "import string\n",
    "\n",
    "keras.__version__"
   ]
  },
  {
   "cell_type": "code",
   "execution_count": 6,
   "metadata": {
    "colab": {
     "base_uri": "https://localhost:8080/",
     "height": 235
    },
    "colab_type": "code",
    "id": "diA4mf7rx5dG",
    "outputId": "f2df784d-6d4f-4cf8-d186-c2f9913713fe"
   },
   "outputs": [
    {
     "data": {
      "text/html": [
       "<div>\n",
       "<style scoped>\n",
       "    .dataframe tbody tr th:only-of-type {\n",
       "        vertical-align: middle;\n",
       "    }\n",
       "\n",
       "    .dataframe tbody tr th {\n",
       "        vertical-align: top;\n",
       "    }\n",
       "\n",
       "    .dataframe thead th {\n",
       "        text-align: right;\n",
       "    }\n",
       "</style>\n",
       "<table border=\"1\" class=\"dataframe\">\n",
       "  <thead>\n",
       "    <tr style=\"text-align: right;\">\n",
       "      <th></th>\n",
       "      <th></th>\n",
       "      <th>text</th>\n",
       "      <th>male</th>\n",
       "    </tr>\n",
       "    <tr>\n",
       "      <th>id</th>\n",
       "      <th>time</th>\n",
       "      <th></th>\n",
       "      <th></th>\n",
       "    </tr>\n",
       "  </thead>\n",
       "  <tbody>\n",
       "    <tr>\n",
       "      <th>1083596943807393792</th>\n",
       "      <th>2019-05-27 23:27:08+00:00</th>\n",
       "      <td>Ah, the Flat Earth gambit.\\nWell played.</td>\n",
       "      <td>True</td>\n",
       "    </tr>\n",
       "    <tr>\n",
       "      <th>815783987784187904</th>\n",
       "      <th>2019-05-24 15:36:01+00:00</th>\n",
       "      <td>Aw ily</td>\n",
       "      <td>False</td>\n",
       "    </tr>\n",
       "    <tr>\n",
       "      <th>3458239641</th>\n",
       "      <th>2019-05-24 19:00:37+00:00</th>\n",
       "      <td>I hate being sick</td>\n",
       "      <td>False</td>\n",
       "    </tr>\n",
       "    <tr>\n",
       "      <th>1003729876250226688</th>\n",
       "      <th>2019-05-26 12:53:00+00:00</th>\n",
       "      <td>You still didn't' do shit tho. Slow down the...</td>\n",
       "      <td>True</td>\n",
       "    </tr>\n",
       "    <tr>\n",
       "      <th>2360143940</th>\n",
       "      <th>2019-05-28 03:50:46+00:00</th>\n",
       "      <td>Harriet Tubman may not be on the $20 bill... f...</td>\n",
       "      <td>False</td>\n",
       "    </tr>\n",
       "  </tbody>\n",
       "</table>\n",
       "</div>"
      ],
      "text/plain": [
       "                                                                                            text  \\\n",
       "id                  time                                                                           \n",
       "1083596943807393792 2019-05-27 23:27:08+00:00           Ah, the Flat Earth gambit.\\nWell played.   \n",
       "815783987784187904  2019-05-24 15:36:01+00:00                                             Aw ily   \n",
       "3458239641          2019-05-24 19:00:37+00:00                                  I hate being sick   \n",
       "1003729876250226688 2019-05-26 12:53:00+00:00    You still didn't' do shit tho. Slow down the...   \n",
       "2360143940          2019-05-28 03:50:46+00:00  Harriet Tubman may not be on the $20 bill... f...   \n",
       "\n",
       "                                                male  \n",
       "id                  time                              \n",
       "1083596943807393792 2019-05-27 23:27:08+00:00   True  \n",
       "815783987784187904  2019-05-24 15:36:01+00:00  False  \n",
       "3458239641          2019-05-24 19:00:37+00:00  False  \n",
       "1003729876250226688 2019-05-26 12:53:00+00:00   True  \n",
       "2360143940          2019-05-28 03:50:46+00:00  False  "
      ]
     },
     "execution_count": 6,
     "metadata": {},
     "output_type": "execute_result"
    }
   ],
   "source": [
    "# Read in the data\n",
    "df_train = pd.read_csv(basepath+TRAIN_INPUT, index_col=['id','time'], parse_dates=['time'])\n",
    "df_valid = pd.read_csv(basepath+VALID_INPUT, index_col=['id','time'], parse_dates=['time'])\n",
    "df_test = pd.read_csv(basepath+TEST_INPUT, index_col=['id','time'], parse_dates=['time'])\n",
    "df_train.head()"
   ]
  },
  {
   "cell_type": "code",
   "execution_count": 7,
   "metadata": {
    "colab": {
     "base_uri": "https://localhost:8080/",
     "height": 34
    },
    "colab_type": "code",
    "id": "tiWLlkKOx_G2",
    "outputId": "fc6dbe92-cd51-44c0-980c-25fe2a6dce7d"
   },
   "outputs": [
    {
     "data": {
      "text/plain": [
       "(34, 30, 31)"
      ]
     },
     "execution_count": 7,
     "metadata": {},
     "output_type": "execute_result"
    }
   ],
   "source": [
    "# Maximum number of words per tweet in each data set\n",
    "(df_train.text.str.split().apply(len).max(), \n",
    " df_valid.text.str.split().apply(len).max(),\n",
    " df_test.text.str.split().apply(len).max())"
   ]
  },
  {
   "cell_type": "code",
   "execution_count": 8,
   "metadata": {
    "colab": {},
    "colab_type": "code",
    "id": "TYo_WNX3x_PO"
   },
   "outputs": [],
   "source": [
    "# Text Normalization function\n",
    "\n",
    "# Taken from \n",
    "# https://medium.com/@sabber/classifying-yelp-review-comments-using-lstm-and-word-embeddings-part-1-eb2275e4066b\n",
    "# which was taken from https://www.kaggle.com/lystdo/lstm-with-word2vec-embeddings\n",
    "# but this version no longer does stemming or stop word elmination\n",
    "\n",
    "# This is for general text, not Twitter-specific.\n",
    "# Maybe would get a better classifier if we used a Python transaltion of this:\n",
    "# https://nlp.stanford.edu/projects/glove/preprocess-twitter.rb\n",
    "# but that is arguably outside the scope of this project\n",
    "# and my initial attempts to use Twitter-specific preprocessing have been unsuccessful\n",
    "\n",
    "\n",
    "def clean_text(text):\n",
    "    \n",
    "    ## Remove puncuation\n",
    "    text = text.translate(string.punctuation)\n",
    "    \n",
    "    ## Convert words to lower case and split them\n",
    "    text = text.lower().split()\n",
    "    \n",
    "    text = \" \".join(text)\n",
    "    ## Clean the text\n",
    "    text = re.sub(r\"[^A-Za-z0-9^,!.\\/'+-=]\", \" \", text)\n",
    "    text = re.sub(r\"what's\", \"what is \", text)\n",
    "    text = re.sub(r\"\\'s\", \" \", text)\n",
    "    text = re.sub(r\"\\'ve\", \" have \", text)\n",
    "    text = re.sub(r\"n't\", \" not \", text)\n",
    "    text = re.sub(r\"i'm\", \"i am \", text)\n",
    "    text = re.sub(r\"\\'re\", \" are \", text)\n",
    "    text = re.sub(r\"\\'d\", \" would \", text)\n",
    "    text = re.sub(r\"\\'ll\", \" will \", text)\n",
    "    text = re.sub(r\",\", \" \", text)\n",
    "    text = re.sub(r\"\\.\", \" \", text)\n",
    "    text = re.sub(r\"!\", \" ! \", text)\n",
    "    text = re.sub(r\"\\/\", \" \", text)\n",
    "    text = re.sub(r\"\\^\", \" ^ \", text)\n",
    "    text = re.sub(r\"\\+\", \" + \", text)\n",
    "    text = re.sub(r\"\\-\", \" - \", text)\n",
    "    text = re.sub(r\"\\=\", \" = \", text)\n",
    "    text = re.sub(r\"'\", \" \", text)\n",
    "    text = re.sub(r\"(\\d+)(k)\", r\"\\g<1>000\", text)\n",
    "    text = re.sub(r\":\", \" : \", text)\n",
    "    text = re.sub(r\" e g \", \" eg \", text)\n",
    "    text = re.sub(r\" b g \", \" bg \", text)\n",
    "    text = re.sub(r\" u s \", \" american \", text)\n",
    "    text = re.sub(r\"\\0s\", \"0\", text)\n",
    "    text = re.sub(r\" 9 11 \", \"911\", text)\n",
    "    text = re.sub(r\"e - mail\", \"email\", text)\n",
    "    text = re.sub(r\"j k\", \"jk\", text)\n",
    "    text = re.sub(r\"\\s{2,}\", \" \", text)\n",
    "\n",
    "    return text\n"
   ]
  },
  {
   "cell_type": "code",
   "execution_count": 9,
   "metadata": {
    "colab": {
     "base_uri": "https://localhost:8080/",
     "height": 34
    },
    "colab_type": "code",
    "id": "d1bOaiLe-Cwq",
    "outputId": "b2045bfd-c9c6-4a2c-d4d4-0e22a03a1895"
   },
   "outputs": [
    {
     "data": {
      "text/plain": [
       "(25, 25, 25)"
      ]
     },
     "execution_count": 9,
     "metadata": {},
     "output_type": "execute_result"
    }
   ],
   "source": [
    "# Process the data for model input\n",
    "def get_texts_and_labels(df):\n",
    "  texts = df['text'].map(lambda x: clean_text(x)).tolist()\n",
    "  texts = [t.split()[0:MAXLEN] for t in texts]\n",
    "  labels = df['male'].tolist()\n",
    "  return texts, labels\n",
    "\n",
    "train_text, train_label = get_texts_and_labels(df_train)\n",
    "valid_text, valid_label = get_texts_and_labels(df_valid)\n",
    "test_text, test_label = get_texts_and_labels(df_test)\n",
    "\n",
    "max([len(x) for x in train_text]), max([len(x) for x in valid_text]), max([len(x) for x in test_text])"
   ]
  },
  {
   "cell_type": "code",
   "execution_count": 10,
   "metadata": {
    "colab": {},
    "colab_type": "code",
    "id": "HGxYN53F8chY"
   },
   "outputs": [
    {
     "data": {
      "text/plain": [
       "30027"
      ]
     },
     "execution_count": 10,
     "metadata": {},
     "output_type": "execute_result"
    }
   ],
   "source": [
    "# Fit tokenizer on training data\n",
    "tok = Tokenizer()\n",
    "tok.fit_on_texts(train_text)\n",
    "vocab_size = len(tok.word_index) + 1\n",
    "vocab_size"
   ]
  },
  {
   "cell_type": "code",
   "execution_count": 11,
   "metadata": {},
   "outputs": [],
   "source": [
    "def flatten_text(text):\n",
    "    return([word for doc in text for word in doc])"
   ]
  },
  {
   "cell_type": "code",
   "execution_count": 12,
   "metadata": {},
   "outputs": [
    {
     "data": {
      "text/plain": [
       "393894"
      ]
     },
     "execution_count": 12,
     "metadata": {},
     "output_type": "execute_result"
    }
   ],
   "source": [
    "flat_train = flatten_text(train_text)\n",
    "len(flat_train)"
   ]
  },
  {
   "cell_type": "code",
   "execution_count": 13,
   "metadata": {},
   "outputs": [
    {
     "data": {
      "text/plain": [
       "30026"
      ]
     },
     "execution_count": 13,
     "metadata": {},
     "output_type": "execute_result"
    }
   ],
   "source": [
    "train_counts = Counter(flat_train)\n",
    "len(train_counts)"
   ]
  },
  {
   "cell_type": "code",
   "execution_count": 41,
   "metadata": {},
   "outputs": [
    {
     "data": {
      "text/plain": [
       "[('the', 11704),\n",
       " ('i', 10906),\n",
       " ('to', 8710),\n",
       " ('!', 8138),\n",
       " ('a', 7826),\n",
       " ('you', 6848),\n",
       " ('and', 6220),\n",
       " ('+', 5574),\n",
       " ('of', 5082),\n",
       " ('is', 5052),\n",
       " ('it', 4788),\n",
       " ('in', 4439),\n",
       " ('for', 4260),\n",
       " ('that', 3679),\n",
       " ('this', 3466),\n",
       " ('my', 3315),\n",
       " ('not', 3122),\n",
       " ('on', 2946),\n",
       " ('-', 2510),\n",
       " ('are', 2506),\n",
       " ('me', 2458),\n",
       " ('have', 2301),\n",
       " ('be', 2183),\n",
       " (':', 2181),\n",
       " ('s', 2179),\n",
       " ('with', 2139),\n",
       " ('so', 2031),\n",
       " ('t', 1896),\n",
       " ('your', 1862),\n",
       " ('just', 1807),\n",
       " ('but', 1746),\n",
       " ('do', 1718),\n",
       " ('was', 1706),\n",
       " ('we', 1700),\n",
       " ('what', 1661),\n",
       " ('he', 1635),\n",
       " ('at', 1600),\n",
       " ('all', 1558),\n",
       " ('like', 1540),\n",
       " ('can', 1401),\n",
       " ('they', 1395),\n",
       " ('one', 1326),\n",
       " ('if', 1267),\n",
       " ('out', 1227),\n",
       " ('will', 1172),\n",
       " ('from', 1161),\n",
       " ('as', 1149),\n",
       " ('by', 1123),\n",
       " ('am', 1102),\n",
       " ('more', 1093)]"
      ]
     },
     "execution_count": 41,
     "metadata": {},
     "output_type": "execute_result"
    }
   ],
   "source": [
    "train_counts.most_common(50)"
   ]
  },
  {
   "cell_type": "code",
   "execution_count": 15,
   "metadata": {},
   "outputs": [
    {
     "data": {
      "text/plain": [
       "(34146, 8)"
      ]
     },
     "execution_count": 15,
     "metadata": {},
     "output_type": "execute_result"
    }
   ],
   "source": [
    "len(train_text), len(train_text[0])"
   ]
  },
  {
   "cell_type": "code",
   "execution_count": 16,
   "metadata": {},
   "outputs": [
    {
     "data": {
      "text/plain": [
       "['ah', 'the', 'flat', 'earth', 'gambit', '+', 'well', 'played']"
      ]
     },
     "execution_count": 16,
     "metadata": {},
     "output_type": "execute_result"
    }
   ],
   "source": [
    "train_text[0]"
   ]
  },
  {
   "cell_type": "code",
   "execution_count": 17,
   "metadata": {
    "colab": {
     "base_uri": "https://localhost:8080/",
     "height": 68
    },
    "colab_type": "code",
    "id": "5FVpEPUM9M9D",
    "outputId": "54e8bb7b-1f54-4cdf-dbfa-60bf86e3d1af"
   },
   "outputs": [
    {
     "name": "stdout",
     "output_type": "stream",
     "text": [
      "<class 'numpy.ndarray'> 34146 10914 10450\n"
     ]
    },
    {
     "data": {
      "text/plain": [
       "array([  952,     1,  4021,  1149, 13275,     8,    98,   731,     0,\n",
       "           0], dtype=int32)"
      ]
     },
     "execution_count": 17,
     "metadata": {},
     "output_type": "execute_result"
    }
   ],
   "source": [
    "# Tokenize the data\n",
    "def get_tokenized_texts(texts):\n",
    "  encoded_docs = tok.texts_to_sequences(texts)\n",
    "  padded_docs = pad_sequences(encoded_docs, maxlen=MAXLEN, padding='post')\n",
    "  return padded_docs\n",
    "\n",
    "docs_train = get_tokenized_texts(train_text)\n",
    "docs_valid = get_tokenized_texts(valid_text)\n",
    "docs_test = get_tokenized_texts(test_text)\n",
    "\n",
    "print(type(docs_train), len(docs_train), len(docs_valid), len(docs_test))\n",
    "docs_train[0][:10]"
   ]
  },
  {
   "cell_type": "code",
   "execution_count": 18,
   "metadata": {
    "colab": {
     "base_uri": "https://localhost:8080/",
     "height": 34
    },
    "colab_type": "code",
    "id": "i6x12xlm8ckN",
    "outputId": "e34932c9-d209-406d-9525-d5819f0537a7"
   },
   "outputs": [
    {
     "name": "stdout",
     "output_type": "stream",
     "text": [
      "Loaded 25458 word vectors.\n"
     ]
    }
   ],
   "source": [
    "if have_glove_embeddings:\n",
    "    embed_df = pd.read_pickle('../data/glove_train_embeddings.pkl.gz')\n",
    "    embeddings_index = {word:embedding.values for word,embedding in embed_df.iterrows()}\n",
    "else:\n",
    "    # Load the whole embedding into memory\n",
    "    embeddings_index = dict()\n",
    "    f = open(glovefile[:-3])\n",
    "    for line in f:\n",
    "        values = line.split()\n",
    "        word = values[0]\n",
    "        coefs = np.asarray(values[1:], dtype='float32')\n",
    "        embeddings_index[word] = coefs\n",
    "    f.close()\n",
    "print('Loaded %s word vectors.' % len(embeddings_index))"
   ]
  },
  {
   "cell_type": "code",
   "execution_count": 19,
   "metadata": {},
   "outputs": [
    {
     "data": {
      "text/plain": [
       "25458"
      ]
     },
     "execution_count": 19,
     "metadata": {},
     "output_type": "execute_result"
    }
   ],
   "source": [
    "len(embeddings_index)"
   ]
  },
  {
   "cell_type": "code",
   "execution_count": 20,
   "metadata": {},
   "outputs": [
    {
     "name": "stdout",
     "output_type": "stream",
     "text": [
      ": <class 'numpy.ndarray'> (200,)\n",
      "rt <class 'numpy.ndarray'> (200,)\n",
      "! <class 'numpy.ndarray'> (200,)\n"
     ]
    }
   ],
   "source": [
    "it = iter(embeddings_index)\n",
    "for i in range(3):\n",
    "    word = next(it)\n",
    "    emb = embeddings_index[word]\n",
    "    print(word, type(emb), emb.shape)"
   ]
  },
  {
   "cell_type": "code",
   "execution_count": null,
   "metadata": {},
   "outputs": [],
   "source": []
  },
  {
   "cell_type": "code",
   "execution_count": 21,
   "metadata": {
    "colab": {},
    "colab_type": "code",
    "id": "JXkU0hx6JoXx"
   },
   "outputs": [],
   "source": [
    "# Create a weight matrix for words in training docs\n",
    "embedding_matrix = np.zeros((vocab_size, EMBEDDING_DIM))\n",
    "for word, i in tok.word_index.items():\n",
    "    embedding_vector = embeddings_index.get(word)\n",
    "    if embedding_vector is not None:\n",
    "        embedding_matrix[i] = embedding_vector"
   ]
  },
  {
   "cell_type": "code",
   "execution_count": 22,
   "metadata": {},
   "outputs": [
    {
     "data": {
      "text/plain": [
       "(30027, 200)"
      ]
     },
     "execution_count": 22,
     "metadata": {},
     "output_type": "execute_result"
    }
   ],
   "source": [
    "embedding_matrix.shape"
   ]
  },
  {
   "cell_type": "code",
   "execution_count": 23,
   "metadata": {},
   "outputs": [
    {
     "data": {
      "text/plain": [
       "(30027,)"
      ]
     },
     "execution_count": 23,
     "metadata": {},
     "output_type": "execute_result"
    }
   ],
   "source": [
    "sums = np.sum(embedding_matrix,axis=1)\n",
    "sums.shape"
   ]
  },
  {
   "cell_type": "code",
   "execution_count": 24,
   "metadata": {},
   "outputs": [
    {
     "data": {
      "text/plain": [
       "25379"
      ]
     },
     "execution_count": 24,
     "metadata": {},
     "output_type": "execute_result"
    }
   ],
   "source": [
    "len(sums)-np.sum(sums==0.)"
   ]
  },
  {
   "cell_type": "code",
   "execution_count": 67,
   "metadata": {},
   "outputs": [
    {
     "data": {
      "text/plain": [
       "(list, 25458, [':', 'rt', '!'])"
      ]
     },
     "execution_count": 67,
     "metadata": {},
     "output_type": "execute_result"
    }
   ],
   "source": [
    "def normalize(vector):\n",
    "    norm = np.linalg.norm(vector)\n",
    "    if norm==0:\n",
    "        return(vector)\n",
    "    else:\n",
    "        return(vector/norm)\n",
    "normed_embeddings_index = {word:normalize(embeddings_index[word]) for word in embeddings_index}\n",
    "words = list(normed_embeddings_index.keys())\n",
    "type(words), len(words), words[:3]"
   ]
  },
  {
   "cell_type": "code",
   "execution_count": 68,
   "metadata": {},
   "outputs": [
    {
     "data": {
      "text/plain": [
       "(numpy.ndarray, 200, array([0.12839531, 0.07914481, 0.01314618]))"
      ]
     },
     "execution_count": 68,
     "metadata": {},
     "output_type": "execute_result"
    }
   ],
   "source": [
    "e = normed_embeddings_index[':']\n",
    "type(e), len(e), e[:3]"
   ]
  },
  {
   "cell_type": "code",
   "execution_count": 69,
   "metadata": {},
   "outputs": [
    {
     "data": {
      "text/plain": [
       "(list, 25458, numpy.ndarray, 200)"
      ]
     },
     "execution_count": 69,
     "metadata": {},
     "output_type": "execute_result"
    }
   ],
   "source": [
    "normed_embeddings = [normed_embeddings_index[word] for word in words]\n",
    "type(normed_embeddings), len(normed_embeddings), type(normed_embeddings[0]), len(normed_embeddings[0])"
   ]
  },
  {
   "cell_type": "code",
   "execution_count": 70,
   "metadata": {},
   "outputs": [
    {
     "data": {
      "text/plain": [
       "(25458, 200)"
      ]
     },
     "execution_count": 70,
     "metadata": {},
     "output_type": "execute_result"
    }
   ],
   "source": [
    "normed_embeddings_matrix = np.array([normed_embeddings_index[word] for word in words])\n",
    "normed_embeddings_matrix.shape"
   ]
  },
  {
   "cell_type": "code",
   "execution_count": 71,
   "metadata": {},
   "outputs": [
    {
     "data": {
      "text/plain": [
       "(200, 1)"
      ]
     },
     "execution_count": 71,
     "metadata": {},
     "output_type": "execute_result"
    }
   ],
   "source": [
    "normed_embedding = normed_embeddings_index[':'].reshape((-1,1))\n",
    "normed_embedding.shape"
   ]
  },
  {
   "cell_type": "code",
   "execution_count": 72,
   "metadata": {},
   "outputs": [
    {
     "data": {
      "text/plain": [
       "25458"
      ]
     },
     "execution_count": 72,
     "metadata": {},
     "output_type": "execute_result"
    }
   ],
   "source": [
    "len(words)"
   ]
  },
  {
   "cell_type": "code",
   "execution_count": null,
   "metadata": {},
   "outputs": [],
   "source": []
  },
  {
   "cell_type": "code",
   "execution_count": 87,
   "metadata": {},
   "outputs": [],
   "source": [
    "def get_cosine_similarities(word):\n",
    "    normed_embedding = normed_embeddings_index[word]\n",
    "    return(np.dot(normed_embeddings_matrix,normed_embedding))"
   ]
  },
  {
   "cell_type": "code",
   "execution_count": 53,
   "metadata": {},
   "outputs": [
    {
     "data": {
      "text/plain": [
       "25458"
      ]
     },
     "execution_count": 53,
     "metadata": {},
     "output_type": "execute_result"
    }
   ],
   "source": [
    "len(normed_embeddings_index)"
   ]
  },
  {
   "cell_type": "code",
   "execution_count": 74,
   "metadata": {},
   "outputs": [
    {
     "name": "stdout",
     "output_type": "stream",
     "text": [
      "(25458, 200) (200,)\n"
     ]
    },
    {
     "data": {
      "text/plain": [
       "(25458,)"
      ]
     },
     "execution_count": 74,
     "metadata": {},
     "output_type": "execute_result"
    }
   ],
   "source": [
    "cs1 = get_cosine_similarities(':')\n",
    "cs1.shape"
   ]
  },
  {
   "cell_type": "code",
   "execution_count": 75,
   "metadata": {},
   "outputs": [
    {
     "data": {
      "text/plain": [
       "array([1.        , 0.73673689, 0.54241606, 0.51215136, 0.49458044])"
      ]
     },
     "execution_count": 75,
     "metadata": {},
     "output_type": "execute_result"
    }
   ],
   "source": [
    "cs1[:5]"
   ]
  },
  {
   "cell_type": "code",
   "execution_count": 76,
   "metadata": {},
   "outputs": [
    {
     "data": {
      "text/plain": [
       "[':', 'rt', '!', 'i', 'a']"
      ]
     },
     "execution_count": 76,
     "metadata": {},
     "output_type": "execute_result"
    }
   ],
   "source": [
    "words[:5]"
   ]
  },
  {
   "cell_type": "code",
   "execution_count": 77,
   "metadata": {},
   "outputs": [
    {
     "data": {
      "text/plain": [
       "array([25371, 25333, 25418, 22810, 25363])"
      ]
     },
     "execution_count": 77,
     "metadata": {},
     "output_type": "execute_result"
    }
   ],
   "source": [
    "sorted = np.argsort(cs1)\n",
    "sorted[:5]"
   ]
  },
  {
   "cell_type": "code",
   "execution_count": 78,
   "metadata": {},
   "outputs": [
    {
     "data": {
      "text/plain": [
       "(25458, int)"
      ]
     },
     "execution_count": 78,
     "metadata": {},
     "output_type": "execute_result"
    }
   ],
   "source": [
    "len(sorted_list), type(sorted_list[0])"
   ]
  },
  {
   "cell_type": "code",
   "execution_count": 79,
   "metadata": {},
   "outputs": [
    {
     "data": {
      "text/plain": [
       "('rt', 0.7367368930897619)"
      ]
     },
     "execution_count": 79,
     "metadata": {},
     "output_type": "execute_result"
    }
   ],
   "source": [
    "[(words[i],cs1[i]) for i in np.argsort(cs1)][-2]"
   ]
  },
  {
   "cell_type": "code",
   "execution_count": null,
   "metadata": {},
   "outputs": [],
   "source": []
  },
  {
   "cell_type": "code",
   "execution_count": null,
   "metadata": {},
   "outputs": [],
   "source": []
  },
  {
   "cell_type": "code",
   "execution_count": null,
   "metadata": {},
   "outputs": [],
   "source": []
  },
  {
   "cell_type": "code",
   "execution_count": 80,
   "metadata": {},
   "outputs": [
    {
     "data": {
      "text/plain": [
       "(25458, 200)"
      ]
     },
     "execution_count": 80,
     "metadata": {},
     "output_type": "execute_result"
    }
   ],
   "source": [
    "normed_embeddings_matrix.shape"
   ]
  },
  {
   "cell_type": "code",
   "execution_count": 38,
   "metadata": {
    "colab": {
     "base_uri": "https://localhost:8080/",
     "height": 1261
    },
    "colab_type": "code",
    "id": "pTM8vFvYvrBQ",
    "outputId": "aa99105b-6c81-4430-887f-c3156abff74d"
   },
   "outputs": [
    {
     "name": "stdout",
     "output_type": "stream",
     "text": [
      "WARNING:tensorflow:From /home/andy/anaconda3/envs/tf1/lib/python3.7/site-packages/tensorflow/python/framework/op_def_library.py:263: colocate_with (from tensorflow.python.framework.ops) is deprecated and will be removed in a future version.\n",
      "Instructions for updating:\n",
      "Colocations handled automatically by placer.\n",
      "WARNING:tensorflow:From /home/andy/anaconda3/envs/tf1/lib/python3.7/site-packages/keras/backend/tensorflow_backend.py:3445: calling dropout (from tensorflow.python.ops.nn_ops) with keep_prob is deprecated and will be removed in a future version.\n",
      "Instructions for updating:\n",
      "Please use `rate` instead of `keep_prob`. Rate should be set to `rate = 1 - keep_prob`.\n",
      "WARNING:tensorflow:From /home/andy/anaconda3/envs/tf1/lib/python3.7/site-packages/tensorflow/python/ops/math_ops.py:3066: to_int32 (from tensorflow.python.ops.math_ops) is deprecated and will be removed in a future version.\n",
      "Instructions for updating:\n",
      "Use tf.cast instead.\n",
      "Train on 34146 samples, validate on 10914 samples\n",
      "Epoch 1/12\n",
      "34146/34146 [==============================] - 1s 16us/step - loss: 0.7224 - acc: 0.5096 - val_loss: 0.6879 - val_acc: 0.5362\n",
      "Epoch 2/12\n",
      "34146/34146 [==============================] - 0s 5us/step - loss: 0.7006 - acc: 0.5314 - val_loss: 0.6817 - val_acc: 0.5523\n",
      "Epoch 3/12\n",
      "34146/34146 [==============================] - 0s 5us/step - loss: 0.6909 - acc: 0.5450 - val_loss: 0.6770 - val_acc: 0.5711\n",
      "Epoch 4/12\n",
      "34146/34146 [==============================] - 0s 5us/step - loss: 0.6830 - acc: 0.5587 - val_loss: 0.6732 - val_acc: 0.5861\n",
      "Epoch 5/12\n",
      "34146/34146 [==============================] - 0s 5us/step - loss: 0.6792 - acc: 0.5648 - val_loss: 0.6714 - val_acc: 0.5887\n",
      "Epoch 6/12\n",
      "34146/34146 [==============================] - 0s 5us/step - loss: 0.6749 - acc: 0.5759 - val_loss: 0.6700 - val_acc: 0.5893\n",
      "Epoch 7/12\n",
      "34146/34146 [==============================] - 0s 5us/step - loss: 0.6729 - acc: 0.5802 - val_loss: 0.6690 - val_acc: 0.5876\n",
      "Epoch 8/12\n",
      "34146/34146 [==============================] - 0s 5us/step - loss: 0.6721 - acc: 0.5789 - val_loss: 0.6678 - val_acc: 0.5974\n",
      "Epoch 9/12\n",
      "34146/34146 [==============================] - 0s 5us/step - loss: 0.6713 - acc: 0.5812 - val_loss: 0.6675 - val_acc: 0.5920\n",
      "Epoch 10/12\n",
      "34146/34146 [==============================] - 0s 5us/step - loss: 0.6702 - acc: 0.5845 - val_loss: 0.6666 - val_acc: 0.6000\n",
      "Epoch 11/12\n",
      "34146/34146 [==============================] - 0s 5us/step - loss: 0.6685 - acc: 0.5871 - val_loss: 0.6666 - val_acc: 0.6000\n",
      "Epoch 12/12\n",
      "34146/34146 [==============================] - 0s 5us/step - loss: 0.6676 - acc: 0.5900 - val_loss: 0.6654 - val_acc: 0.6000\n"
     ]
    },
    {
     "data": {
      "text/plain": [
       "<keras.callbacks.History at 0x7f4d498c7438>"
      ]
     },
     "execution_count": 38,
     "metadata": {},
     "output_type": "execute_result"
    }
   ],
   "source": [
    "# NERUAL NETWORK MODEL\n",
    "\n",
    "# PARAMETERS\n",
    "\n",
    "batchsize = 512\n",
    "\n",
    "temporal_dropout = .2\n",
    "random_dropout = .1\n",
    "flat_dropout = .3\n",
    "#max_dropout= .3\n",
    "#av_dropout = .3\n",
    "\n",
    "base_frozen_lr = 1e-3\n",
    "base_frozen_decay = 1e-4\n",
    "frozen_epochs = 12\n",
    "frozen_batchsize = batchsize\n",
    "\n",
    "base_unfrozen_lr = 3e-4\n",
    "base_unfrozen_decay = 3e-5\n",
    "unfrozen_epochs = 20\n",
    "unfrozen_batchsize = batchsize\n",
    "\n",
    "\n",
    "base_batchsize = 512\n",
    "\n",
    "frozen_lr_factor = frozen_batchsize / base_batchsize\n",
    "unfrozen_lr_factor = unfrozen_batchsize / base_batchsize\n",
    "\n",
    "frozen_lr = base_frozen_lr * frozen_lr_factor\n",
    "frozen_decay = base_frozen_decay * frozen_lr_factor\n",
    "\n",
    "unfrozen_lr = base_unfrozen_lr * unfrozen_lr_factor\n",
    "unfrozen_decay = base_unfrozen_decay * unfrozen_lr_factor\n",
    "\n",
    "\n",
    "\n",
    "inputs = layers.Input((MAXLEN,), dtype=\"int32\")\n",
    "\n",
    "# EMBEDDING BLOCK\n",
    "raw_embed = layers.Embedding(vocab_size, \n",
    "                           EMBEDDING_DIM,\n",
    "                           weights=[embedding_matrix], \n",
    "                           input_length=MAXLEN, \n",
    "                           trainable=False)(inputs)\n",
    "embed_random_drop = layers.Dropout(rate=random_dropout)(raw_embed)\n",
    "embed_time_drop = layers.Dropout(rate=temporal_dropout, \n",
    "                       noise_shape=(None, MAXLEN, 1))(embed_random_drop)\n",
    "\n",
    "#inversion = layers.Lambda(lambda x: -x)(embed_time_drop)\n",
    "\n",
    "max_pooled = layers.GlobalMaxPooling1D()(embed_time_drop)\n",
    "#min_pooled = layers.GlobalMaxPooling1D()(inversion)\n",
    "av_pooled = layers.GlobalAveragePooling1D()(embed_time_drop)\n",
    "\n",
    "#drop_max_pooled = layers.Dropout(rate=max_dropout)(max_pooled)\n",
    "#drop_av_pooled = layers.Dropout(rate=av_dropout)(av_pooled)\n",
    "\n",
    "#pooled = layers.merge.concatenate([max_pooled,min_pooled,av_pooled])\n",
    "pooled = layers.merge.concatenate([max_pooled,av_pooled])\n",
    "#drop_pooled = layers.merge.concatenate([drop_max_pooled,drop_av_pooled])\n",
    "drop_pooled = layers.Dropout(rate=flat_dropout)(pooled)\n",
    "pred = layers.Dense(1, activation='sigmoid')(drop_pooled)\n",
    "\n",
    "# FINAL MODEL\n",
    "model = Model(inputs=[inputs], outputs=pred)\n",
    "model.compile(optimizer=Adam(frozen_lr, decay=frozen_decay), \n",
    "              loss='binary_crossentropy', metrics=['acc'])\n",
    "\n",
    "model.fit(docs_train, train_label, epochs=frozen_epochs, \n",
    "          validation_data=(docs_valid, valid_label), batch_size=frozen_batchsize)"
   ]
  },
  {
   "cell_type": "code",
   "execution_count": 39,
   "metadata": {
    "colab": {
     "base_uri": "https://localhost:8080/",
     "height": 867
    },
    "colab_type": "code",
    "id": "MkW7g59L4RtL",
    "outputId": "89500075-2475-444e-9f63-894b083ec74a",
    "scrolled": true
   },
   "outputs": [
    {
     "name": "stdout",
     "output_type": "stream",
     "text": [
      "WARNING:tensorflow:From /home/andy/anaconda3/envs/tf1/lib/python3.7/site-packages/tensorflow/python/ops/math_grad.py:102: div (from tensorflow.python.ops.math_ops) is deprecated and will be removed in a future version.\n",
      "Instructions for updating:\n",
      "Deprecated in favor of operator or tf.math.divide.\n",
      "Train on 34146 samples, validate on 10914 samples\n",
      "Epoch 1/20\n",
      "34146/34146 [==============================] - 1s 27us/step - loss: 0.6682 - acc: 0.5877 - val_loss: 0.6648 - val_acc: 0.5979\n",
      "Epoch 2/20\n",
      "34146/34146 [==============================] - 1s 15us/step - loss: 0.6654 - acc: 0.5932 - val_loss: 0.6642 - val_acc: 0.6003\n",
      "Epoch 3/20\n",
      "34146/34146 [==============================] - 1s 16us/step - loss: 0.6623 - acc: 0.6021 - val_loss: 0.6636 - val_acc: 0.6021\n",
      "Epoch 4/20\n",
      "34146/34146 [==============================] - 1s 15us/step - loss: 0.6601 - acc: 0.6014 - val_loss: 0.6629 - val_acc: 0.6028\n",
      "Epoch 5/20\n",
      "34146/34146 [==============================] - 1s 15us/step - loss: 0.6578 - acc: 0.6083 - val_loss: 0.6625 - val_acc: 0.6001\n",
      "Epoch 6/20\n",
      "34146/34146 [==============================] - 1s 15us/step - loss: 0.6554 - acc: 0.6112 - val_loss: 0.6616 - val_acc: 0.6056\n",
      "Epoch 7/20\n",
      "34146/34146 [==============================] - 1s 15us/step - loss: 0.6527 - acc: 0.6154 - val_loss: 0.6609 - val_acc: 0.6046\n",
      "Epoch 8/20\n",
      "34146/34146 [==============================] - 0s 15us/step - loss: 0.6501 - acc: 0.6198 - val_loss: 0.6602 - val_acc: 0.6056\n",
      "Epoch 9/20\n",
      "34146/34146 [==============================] - 1s 16us/step - loss: 0.6462 - acc: 0.6251 - val_loss: 0.6597 - val_acc: 0.6050\n",
      "Epoch 10/20\n",
      "34146/34146 [==============================] - 1s 15us/step - loss: 0.6441 - acc: 0.6248 - val_loss: 0.6591 - val_acc: 0.6055\n",
      "Epoch 11/20\n",
      "34146/34146 [==============================] - 1s 15us/step - loss: 0.6410 - acc: 0.6314 - val_loss: 0.6589 - val_acc: 0.6045\n",
      "Epoch 12/20\n",
      "34146/34146 [==============================] - 1s 17us/step - loss: 0.6378 - acc: 0.6380 - val_loss: 0.6584 - val_acc: 0.6060\n",
      "Epoch 13/20\n",
      "34146/34146 [==============================] - 1s 17us/step - loss: 0.6331 - acc: 0.6424 - val_loss: 0.6574 - val_acc: 0.6073\n",
      "Epoch 14/20\n",
      "34146/34146 [==============================] - 1s 17us/step - loss: 0.6303 - acc: 0.6458 - val_loss: 0.6570 - val_acc: 0.6059\n",
      "Epoch 15/20\n",
      "34146/34146 [==============================] - 1s 16us/step - loss: 0.6257 - acc: 0.6526 - val_loss: 0.6570 - val_acc: 0.6050\n",
      "Epoch 16/20\n",
      "34146/34146 [==============================] - 0s 15us/step - loss: 0.6234 - acc: 0.6521 - val_loss: 0.6563 - val_acc: 0.6052\n",
      "Epoch 17/20\n",
      "34146/34146 [==============================] - 1s 15us/step - loss: 0.6201 - acc: 0.6587 - val_loss: 0.6560 - val_acc: 0.6068\n",
      "Epoch 18/20\n",
      "34146/34146 [==============================] - 1s 15us/step - loss: 0.6154 - acc: 0.6590 - val_loss: 0.6559 - val_acc: 0.6069\n",
      "Epoch 19/20\n",
      "34146/34146 [==============================] - 1s 15us/step - loss: 0.6119 - acc: 0.6652 - val_loss: 0.6557 - val_acc: 0.6067\n",
      "Epoch 20/20\n",
      "34146/34146 [==============================] - 1s 15us/step - loss: 0.6058 - acc: 0.6725 - val_loss: 0.6559 - val_acc: 0.6045\n"
     ]
    },
    {
     "data": {
      "text/plain": [
       "<keras.callbacks.History at 0x7f4d499894a8>"
      ]
     },
     "execution_count": 39,
     "metadata": {},
     "output_type": "execute_result"
    }
   ],
   "source": [
    "# Unfreeze the embeddings\n",
    "model.layers[1].trainable = True\n",
    "model.compile(optimizer=Adam(unfrozen_lr, decay=unfrozen_decay), \n",
    "              loss='binary_crossentropy', metrics=['acc'])\n",
    "model.fit(docs_train, train_label, epochs=unfrozen_epochs, \n",
    "          validation_data=(docs_valid, valid_label), batch_size=unfrozen_batchsize)"
   ]
  },
  {
   "cell_type": "code",
   "execution_count": null,
   "metadata": {},
   "outputs": [],
   "source": []
  },
  {
   "cell_type": "code",
   "execution_count": null,
   "metadata": {},
   "outputs": [],
   "source": []
  },
  {
   "cell_type": "code",
   "execution_count": null,
   "metadata": {},
   "outputs": [],
   "source": []
  },
  {
   "cell_type": "code",
   "execution_count": 81,
   "metadata": {},
   "outputs": [],
   "source": [
    "embeddings = model.layers[1].get_weights()[0]\n",
    "words_embeddings = {w:embeddings[idx] for w, idx in tok.word_index.items()}"
   ]
  },
  {
   "cell_type": "code",
   "execution_count": 82,
   "metadata": {},
   "outputs": [],
   "source": [
    "normed_words_embeddings = {word:normalize(words_embeddings[word]) for word in words_embeddings}\n",
    "new_words = list(normed_words_embeddings.keys())\n",
    "new_normed_embeddings = [normed_words_embeddings[word] for word in new_words]\n",
    "normed_words_embeddings_matrix = np.array([normed_words_embeddings[word] for word in new_words])"
   ]
  },
  {
   "cell_type": "code",
   "execution_count": 83,
   "metadata": {},
   "outputs": [
    {
     "data": {
      "text/plain": [
       "(25458, 200)"
      ]
     },
     "execution_count": 83,
     "metadata": {},
     "output_type": "execute_result"
    }
   ],
   "source": [
    "normed_embeddings_matrix.shape"
   ]
  },
  {
   "cell_type": "code",
   "execution_count": null,
   "metadata": {},
   "outputs": [],
   "source": []
  },
  {
   "cell_type": "code",
   "execution_count": null,
   "metadata": {},
   "outputs": [],
   "source": []
  },
  {
   "cell_type": "code",
   "execution_count": null,
   "metadata": {},
   "outputs": [],
   "source": []
  },
  {
   "cell_type": "code",
   "execution_count": 84,
   "metadata": {},
   "outputs": [],
   "source": [
    "def get_new_cosine_similarities(word):\n",
    "    normed_embedding = normed_words_embeddings[word]\n",
    "    return(np.dot(normed_words_embeddings_matrix,normed_embedding))"
   ]
  },
  {
   "cell_type": "code",
   "execution_count": 124,
   "metadata": {},
   "outputs": [],
   "source": [
    "def get_gender_prediction_all(word):\n",
    "    t  = get_tokenized_texts([\" \".join(25*[word])])\n",
    "    return(model.predict(t)[0][0])"
   ]
  },
  {
   "cell_type": "code",
   "execution_count": 154,
   "metadata": {},
   "outputs": [
    {
     "name": "stdout",
     "output_type": "stream",
     "text": [
      "\n",
      "Word:  more          1        Closest:  than         97\n",
      "\n",
      "Word:  she           0        Closest:  said         75\n",
      "\n",
      "Word:  need          2        Closest:  get          54\n",
      "\n",
      "Word:  got          95        Closest:  get          54\n",
      "\n",
      "Word:  every        76        Closest:  this         12\n",
      "\n",
      "Word:  week         59        Closest:  weeks         6\n",
      "\n",
      "Word:  amazing       0        Closest:  awesome      40\n",
      "\n",
      "Word:  which        59        Closest:  also         36\n",
      "\n",
      "Word:  since        92        Closest:  already      13\n",
      "\n",
      "Word:  anything     22        Closest:  nothing      93\n",
      "\n",
      "Word:  tonight      61        Closest:  night         1\n",
      "\n",
      "Word:  wrong        87        Closest:  thing        38\n",
      "\n",
      "Word:  wanna         0        Closest:  gonna        49\n",
      "\n",
      "Word:  says         80        Closest:  tells        14\n",
      "\n",
      "Word:  taking        5        Closest:  take         83\n",
      "\n",
      "Word:  seems        90        Closest:  seemed       44\n",
      "\n",
      "Word:  until        18        Closest:  till         57\n",
      "\n",
      "Word:  thinking      2        Closest:  about        70\n",
      "\n",
      "Word:  yesterday     1        Closest:  earlier      39\n",
      "\n",
      "Word:  minutes      29        Closest:  mins         99\n",
      "\n",
      "Word:  played       99        Closest:  playing      76\n",
      "\n",
      "Word:  apparently   21        Closest:  obviously    85\n",
      "\n",
      "Word:  telling       5        Closest:  saying       95\n",
      "\n",
      "Word:  sister        0        Closest:  brother      75\n",
      "\n",
      "Word:  nigga        60        Closest:  niggas       95\n",
      "\n",
      "Word:  however      84        Closest:  although      5\n",
      "\n",
      "Word:  husband       0        Closest:  wife         80\n",
      "\n",
      "Word:  daughter      1        Closest:  wife         80\n",
      "\n",
      "Word:  hoping       15        Closest:  hopefully    96\n",
      "\n",
      "Word:  didnt        91        Closest:  did          35\n",
      "\n",
      "Word:  tuesday      34        Closest:  thursday      4\n",
      "\n",
      "Word:  basically    32        Closest:  literally     0\n",
      "\n",
      "Word:  annoying      5        Closest:  irritating   34\n",
      "\n",
      "Word:  wont         92        Closest:  dont         19\n",
      "\n",
      "Word:  chicago      52        Closest:  detroit      98\n",
      "\n",
      "Word:  nine         96        Closest:  five         40\n",
      "\n",
      "Word:  workout      18        Closest:  cardio       87\n",
      "\n",
      "Word:  fave          0        Closest:  favourite    45\n",
      "\n",
      "Word:  thankyou      1        Closest:  thanks       36\n",
      "\n",
      "Word:  exam         57        Closest:  exams         3\n",
      "\n",
      "Word:  nite         97        Closest:  night         1\n",
      "\n",
      "Word:  hahahahaha   79        Closest:  hahahahahaha   15\n",
      "\n",
      "Word:  stewart      75        Closest:  kristen       2\n",
      "\n",
      "Word:  december      1        Closest:  february     87\n",
      "\n",
      "Word:  appalling    39        Closest:  atrocious    94\n",
      "\n",
      "Word:  shoulda      44        Closest:  woulda       93\n",
      "\n",
      "Word:  kris         66        Closest:  chanyeol      0\n",
      "\n",
      "Word:  rihanna       1        Closest:  nicki        72\n",
      "\n",
      "Word:  dec          23        Closest:  aug          81\n",
      "\n",
      "Word:  wnw          16        Closest:  ssw          49\n",
      "\n",
      "Word:  naw          31        Closest:  yea          95\n",
      "\n",
      "Word:  frickin      14        Closest:  fricking     49\n"
     ]
    }
   ],
   "source": [
    "n = 10000\n",
    "for word, count in train_counts.most_common(n):\n",
    "    if word in embeddings_index and word in words_embeddings:\n",
    "        cs1 = get_cosine_similarities(word)\n",
    "        ordered = [(words[i],cs1[i]) for i in np.argsort(cs1)]\n",
    "        closest, cs_1 = ordered[-2]\n",
    "        others = ordered[-5:-2]\n",
    "        cs2 = get_new_cosine_similarities(word)\n",
    "        new_closest, cs_2 = [(new_words[i],cs2[i]) for i in np.argsort(cs2)][-2]\n",
    "        if closest != new_closest and cs_1 > .8:\n",
    "            pred0 = int(100*get_gender_prediction_all(word))\n",
    "            pred1 = int(100*get_gender_prediction_all(closest))\n",
    "            if (abs(pred0-pred1) > 20):\n",
    "                print( '\\nWord: ', word.ljust(10), '{:4d}'.format(pred0), \n",
    "                      '       Closest: ',  closest.ljust(10), '{:4d}'.format(pred1))\n",
    "                      #'  Closest in gender ID: ', new_closest)"
   ]
  },
  {
   "cell_type": "code",
   "execution_count": null,
   "metadata": {},
   "outputs": [],
   "source": []
  },
  {
   "cell_type": "code",
   "execution_count": 140,
   "metadata": {},
   "outputs": [
    {
     "data": {
      "text/plain": [
       "((0.40717125, 0.51067287), (0.0016183348, 0.34136224))"
      ]
     },
     "execution_count": 140,
     "metadata": {},
     "output_type": "execute_result"
    }
   ],
   "source": [
    "get_both('awesome'), get_both('amazing')"
   ]
  },
  {
   "cell_type": "code",
   "execution_count": null,
   "metadata": {},
   "outputs": [],
   "source": []
  },
  {
   "cell_type": "code",
   "execution_count": 125,
   "metadata": {},
   "outputs": [],
   "source": [
    "def get_gender_prediction_one(word):\n",
    "    t  = get_tokenized_texts([word])\n",
    "    return(model.predict(t)[0][0])"
   ]
  },
  {
   "cell_type": "code",
   "execution_count": 129,
   "metadata": {},
   "outputs": [],
   "source": [
    "def get_both(word):\n",
    "    return(get_gender_prediction_all(word), get_gender_prediction_one(word))"
   ]
  },
  {
   "cell_type": "code",
   "execution_count": null,
   "metadata": {},
   "outputs": [],
   "source": []
  },
  {
   "cell_type": "code",
   "execution_count": 130,
   "metadata": {},
   "outputs": [
    {
     "data": {
      "text/plain": [
       "(0.0018903546, 0.3798359)"
      ]
     },
     "execution_count": 130,
     "metadata": {},
     "output_type": "execute_result"
    }
   ],
   "source": [
    "get_both('love')"
   ]
  },
  {
   "cell_type": "code",
   "execution_count": 131,
   "metadata": {},
   "outputs": [
    {
     "data": {
      "text/plain": [
       "(0.18754022, 0.47223723)"
      ]
     },
     "execution_count": 131,
     "metadata": {},
     "output_type": "execute_result"
    }
   ],
   "source": [
    "get_both('until')"
   ]
  },
  {
   "cell_type": "code",
   "execution_count": 132,
   "metadata": {},
   "outputs": [
    {
     "data": {
      "text/plain": [
       "(0.78357667, 0.59650254)"
      ]
     },
     "execution_count": 132,
     "metadata": {},
     "output_type": "execute_result"
    }
   ],
   "source": [
    "get_both('honor')"
   ]
  },
  {
   "cell_type": "code",
   "execution_count": 133,
   "metadata": {},
   "outputs": [
    {
     "data": {
      "text/plain": [
       "(0.05627837, 0.4640955)"
      ]
     },
     "execution_count": 133,
     "metadata": {},
     "output_type": "execute_result"
    }
   ],
   "source": [
    "get_both('because')"
   ]
  },
  {
   "cell_type": "code",
   "execution_count": 134,
   "metadata": {},
   "outputs": [
    {
     "data": {
      "text/plain": [
       "(0.6312561, 0.5251856)"
      ]
     },
     "execution_count": 134,
     "metadata": {},
     "output_type": "execute_result"
    }
   ],
   "source": [
    "get_both('not')"
   ]
  },
  {
   "cell_type": "code",
   "execution_count": 135,
   "metadata": {},
   "outputs": [
    {
     "data": {
      "text/plain": [
       "(2.8351282e-05, 0.2348928)"
      ]
     },
     "execution_count": 135,
     "metadata": {},
     "output_type": "execute_result"
    }
   ],
   "source": [
    "get_both('omg')"
   ]
  },
  {
   "cell_type": "code",
   "execution_count": 136,
   "metadata": {},
   "outputs": [
    {
     "data": {
      "text/plain": [
       "((0.8086454, 0.5406278), (0.14933832, 0.46669975))"
      ]
     },
     "execution_count": 136,
     "metadata": {},
     "output_type": "execute_result"
    }
   ],
   "source": [
    "get_both('says'), get_both('tells')"
   ]
  },
  {
   "cell_type": "code",
   "execution_count": 137,
   "metadata": {},
   "outputs": [
    {
     "data": {
      "text/plain": [
       "((0.99757904, 0.66125166), (0.48146516, 0.48407304))"
      ]
     },
     "execution_count": 137,
     "metadata": {},
     "output_type": "execute_result"
    }
   ],
   "source": [
    "get_both('latest'), get_both('recent')"
   ]
  },
  {
   "cell_type": "code",
   "execution_count": 138,
   "metadata": {},
   "outputs": [
    {
     "data": {
      "text/plain": [
       "((0.9237992, 0.57901967), (0.13683257, 0.47456348))"
      ]
     },
     "execution_count": 138,
     "metadata": {},
     "output_type": "execute_result"
    }
   ],
   "source": [
    "get_both('since'), get_both('already')"
   ]
  },
  {
   "cell_type": "code",
   "execution_count": 139,
   "metadata": {},
   "outputs": [
    {
     "data": {
      "text/plain": [
       "((0.27680013, 0.46570095), (0.16106057, 0.47281244))"
      ]
     },
     "execution_count": 139,
     "metadata": {},
     "output_type": "execute_result"
    }
   ],
   "source": [
    "get_both('is'), get_both('was')"
   ]
  },
  {
   "cell_type": "code",
   "execution_count": null,
   "metadata": {},
   "outputs": [],
   "source": []
  }
 ],
 "metadata": {
  "accelerator": "GPU",
  "colab": {
   "collapsed_sections": [],
   "include_colab_link": true,
   "name": "twitgen_glovinit_best_dl_model",
   "provenance": [],
   "version": "0.3.2"
  },
  "kernelspec": {
   "display_name": "tf1",
   "language": "python",
   "name": "tf1"
  },
  "language_info": {
   "codemirror_mode": {
    "name": "ipython",
    "version": 3
   },
   "file_extension": ".py",
   "mimetype": "text/x-python",
   "name": "python",
   "nbconvert_exporter": "python",
   "pygments_lexer": "ipython3",
   "version": "3.7.3"
  }
 },
 "nbformat": 4,
 "nbformat_minor": 1
}
