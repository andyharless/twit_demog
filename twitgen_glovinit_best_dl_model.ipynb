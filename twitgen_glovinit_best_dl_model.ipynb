{
  "nbformat": 4,
  "nbformat_minor": 0,
  "metadata": {
    "colab": {
      "name": "twitgen_glovinit_best_dl_model",
      "version": "0.3.2",
      "provenance": [],
      "collapsed_sections": [],
      "include_colab_link": true
    },
    "kernelspec": {
      "name": "python3",
      "display_name": "Python 3"
    },
    "accelerator": "GPU"
  },
  "cells": [
    {
      "cell_type": "markdown",
      "metadata": {
        "id": "view-in-github",
        "colab_type": "text"
      },
      "source": [
        "<a href=\"https://colab.research.google.com/github/andyharless/twit_demog/blob/master/twitgen_glovinit_best_dl_model.ipynb\" target=\"_parent\"><img src=\"https://colab.research.google.com/assets/colab-badge.svg\" alt=\"Open In Colab\"/></a>"
      ]
    },
    {
      "cell_type": "code",
      "metadata": {
        "id": "Ax4RdzBXu65o",
        "colab_type": "code",
        "outputId": "d6722398-25ac-43cd-a396-ff77de54e80d",
        "colab": {
          "base_uri": "https://localhost:8080/",
          "height": 122
        }
      },
      "source": [
        "# Connect to data files\n",
        "from google.colab import drive\n",
        "drive.mount('/content/gdrive')"
      ],
      "execution_count": 1,
      "outputs": [
        {
          "output_type": "stream",
          "text": [
            "Go to this URL in a browser: https://accounts.google.com/o/oauth2/auth?client_id=947318989803-6bn6qk8qdgf4n4g3pfee6491hc0brc4i.apps.googleusercontent.com&redirect_uri=urn%3Aietf%3Awg%3Aoauth%3A2.0%3Aoob&scope=email%20https%3A%2F%2Fwww.googleapis.com%2Fauth%2Fdocs.test%20https%3A%2F%2Fwww.googleapis.com%2Fauth%2Fdrive%20https%3A%2F%2Fwww.googleapis.com%2Fauth%2Fdrive.photos.readonly%20https%3A%2F%2Fwww.googleapis.com%2Fauth%2Fpeopleapi.readonly&response_type=code\n",
            "\n",
            "Enter your authorization code:\n",
            "··········\n",
            "Mounted at /content/gdrive\n"
          ],
          "name": "stdout"
        }
      ]
    },
    {
      "cell_type": "code",
      "metadata": {
        "id": "Hg5Y784oysWW",
        "colab_type": "code",
        "colab": {}
      },
      "source": [
        "# Parameters\n",
        "TRAIN_INPUT = 'twitgen_train_201906011956.csv'\n",
        "VALID_INPUT = 'twitgen_valid_201906011956.csv'\n",
        "TEST_INPUT = 'twitgen_test_201906011956.csv'\n",
        "EMBEDDING_DIM = 200\n",
        "MAXLEN = 50  # Maximum number of words per tweet that will be processed"
      ],
      "execution_count": 0,
      "outputs": []
    },
    {
      "cell_type": "code",
      "metadata": {
        "id": "Ki5FWLkTycV4",
        "colab_type": "code",
        "outputId": "323a3796-f22b-4118-8217-f0d256437800",
        "colab": {
          "base_uri": "https://localhost:8080/",
          "height": 51
        }
      },
      "source": [
        "import tensorflow as tf\n",
        "import pandas as pd\n",
        "import os\n",
        "import re\n",
        "import keras\n",
        "from keras import backend as K\n",
        "import keras.layers as layers\n",
        "from keras.models import Model, load_model\n",
        "from keras.engine import Layer\n",
        "from keras.optimizers import Adam, Adagrad\n",
        "from keras.preprocessing.text import Tokenizer\n",
        "from keras.preprocessing.sequence import pad_sequences\n",
        "import numpy as np\n",
        "from datetime import datetime\n",
        "import nltk\n",
        "from nltk.corpus import stopwords\n",
        "from nltk.stem import SnowballStemmer\n",
        "import string\n",
        "\n",
        "keras.__version__"
      ],
      "execution_count": 3,
      "outputs": [
        {
          "output_type": "stream",
          "text": [
            "Using TensorFlow backend.\n"
          ],
          "name": "stderr"
        },
        {
          "output_type": "execute_result",
          "data": {
            "text/plain": [
              "'2.2.4'"
            ]
          },
          "metadata": {
            "tags": []
          },
          "execution_count": 3
        }
      ]
    },
    {
      "cell_type": "code",
      "metadata": {
        "id": "kufhA6sXw8x5",
        "colab_type": "code",
        "colab": {}
      },
      "source": [
        "basepath = '/content/gdrive/My Drive/twitgen/'\n",
        "glovefile = 'glove.twitter.27B.200d.txt.gz'\n",
        "glovepath = basepath + glovefile"
      ],
      "execution_count": 0,
      "outputs": []
    },
    {
      "cell_type": "code",
      "metadata": {
        "id": "ZTHMDATrw2or",
        "colab_type": "code",
        "colab": {
          "base_uri": "https://localhost:8080/",
          "height": 85
        },
        "outputId": "23788806-af1d-476e-be53-ed0c3ac2823e"
      },
      "source": [
        "# Get the embedding initialization file\n",
        "!cp '$glovepath' .\n",
        "!gunzip $glovefile\n",
        "!ls -l"
      ],
      "execution_count": 5,
      "outputs": [
        {
          "output_type": "stream",
          "text": [
            "total 2009380\n",
            "drwx------ 3 root root       4096 Jun  8 19:28 gdrive\n",
            "-rw------- 1 root root 2057590469 Jun  8 19:28 glove.twitter.27B.200d.txt\n",
            "drwxr-xr-x 1 root root       4096 May 31 16:17 sample_data\n"
          ],
          "name": "stdout"
        }
      ]
    },
    {
      "cell_type": "code",
      "metadata": {
        "id": "diA4mf7rx5dG",
        "colab_type": "code",
        "outputId": "046b8dbc-f32b-49f7-f3f3-d8cad680b9c8",
        "colab": {
          "base_uri": "https://localhost:8080/",
          "height": 235
        }
      },
      "source": [
        "# Read in the data\n",
        "df_train = pd.read_csv(basepath+TRAIN_INPUT, index_col=['id','time'], parse_dates=['time'])\n",
        "df_valid = pd.read_csv(basepath+VALID_INPUT, index_col=['id','time'], parse_dates=['time'])\n",
        "df_test = pd.read_csv(basepath+TEST_INPUT, index_col=['id','time'], parse_dates=['time'])\n",
        "df_train.head()"
      ],
      "execution_count": 6,
      "outputs": [
        {
          "output_type": "execute_result",
          "data": {
            "text/html": [
              "<div>\n",
              "<style scoped>\n",
              "    .dataframe tbody tr th:only-of-type {\n",
              "        vertical-align: middle;\n",
              "    }\n",
              "\n",
              "    .dataframe tbody tr th {\n",
              "        vertical-align: top;\n",
              "    }\n",
              "\n",
              "    .dataframe thead th {\n",
              "        text-align: right;\n",
              "    }\n",
              "</style>\n",
              "<table border=\"1\" class=\"dataframe\">\n",
              "  <thead>\n",
              "    <tr style=\"text-align: right;\">\n",
              "      <th></th>\n",
              "      <th></th>\n",
              "      <th>text</th>\n",
              "      <th>male</th>\n",
              "    </tr>\n",
              "    <tr>\n",
              "      <th>id</th>\n",
              "      <th>time</th>\n",
              "      <th></th>\n",
              "      <th></th>\n",
              "    </tr>\n",
              "  </thead>\n",
              "  <tbody>\n",
              "    <tr>\n",
              "      <th>1083596943807393792</th>\n",
              "      <th>2019-05-27 23:27:08+00:00</th>\n",
              "      <td>Ah, the Flat Earth gambit.\\nWell played.</td>\n",
              "      <td>True</td>\n",
              "    </tr>\n",
              "    <tr>\n",
              "      <th>815783987784187904</th>\n",
              "      <th>2019-05-24 15:36:01+00:00</th>\n",
              "      <td>Aw ily</td>\n",
              "      <td>False</td>\n",
              "    </tr>\n",
              "    <tr>\n",
              "      <th>3458239641</th>\n",
              "      <th>2019-05-24 19:00:37+00:00</th>\n",
              "      <td>I hate being sick</td>\n",
              "      <td>False</td>\n",
              "    </tr>\n",
              "    <tr>\n",
              "      <th>1003729876250226688</th>\n",
              "      <th>2019-05-26 12:53:00+00:00</th>\n",
              "      <td>You still didn't' do shit tho. Slow down the...</td>\n",
              "      <td>True</td>\n",
              "    </tr>\n",
              "    <tr>\n",
              "      <th>2360143940</th>\n",
              "      <th>2019-05-28 03:50:46+00:00</th>\n",
              "      <td>Harriet Tubman may not be on the $20 bill... f...</td>\n",
              "      <td>False</td>\n",
              "    </tr>\n",
              "  </tbody>\n",
              "</table>\n",
              "</div>"
            ],
            "text/plain": [
              "                                                                                            text   male\n",
              "id                  time                                                                               \n",
              "1083596943807393792 2019-05-27 23:27:08+00:00           Ah, the Flat Earth gambit.\\nWell played.   True\n",
              "815783987784187904  2019-05-24 15:36:01+00:00                                             Aw ily  False\n",
              "3458239641          2019-05-24 19:00:37+00:00                                  I hate being sick  False\n",
              "1003729876250226688 2019-05-26 12:53:00+00:00    You still didn't' do shit tho. Slow down the...   True\n",
              "2360143940          2019-05-28 03:50:46+00:00  Harriet Tubman may not be on the $20 bill... f...  False"
            ]
          },
          "metadata": {
            "tags": []
          },
          "execution_count": 6
        }
      ]
    },
    {
      "cell_type": "code",
      "metadata": {
        "id": "tiWLlkKOx_G2",
        "colab_type": "code",
        "outputId": "ddc57dfd-e98b-41ef-b0cb-5bbc2d5128a4",
        "colab": {
          "base_uri": "https://localhost:8080/",
          "height": 34
        }
      },
      "source": [
        "# Maximum number of words per tweet in each data set\n",
        "(df_train.text.str.split().apply(len).max(), \n",
        " df_valid.text.str.split().apply(len).max(),\n",
        " df_test.text.str.split().apply(len).max())"
      ],
      "execution_count": 7,
      "outputs": [
        {
          "output_type": "execute_result",
          "data": {
            "text/plain": [
              "(34, 30, 31)"
            ]
          },
          "metadata": {
            "tags": []
          },
          "execution_count": 7
        }
      ]
    },
    {
      "cell_type": "code",
      "metadata": {
        "id": "TYo_WNX3x_PO",
        "colab_type": "code",
        "colab": {}
      },
      "source": [
        "# Text Normalization function\n",
        "\n",
        "# Taken from \n",
        "# https://medium.com/@sabber/classifying-yelp-review-comments-using-lstm-and-word-embeddings-part-1-eb2275e4066b\n",
        "# which was taken from https://www.kaggle.com/lystdo/lstm-with-word2vec-embeddings\n",
        "# but this version no longer does stemming or stop word elmination\n",
        "\n",
        "# This is for general text, not Twitter-specific.\n",
        "# Probably would get a better classifier if we used a Python transaltion of this:\n",
        "# https://nlp.stanford.edu/projects/glove/preprocess-twitter.rb\n",
        "# but that is arguably outside the scope of this project\n",
        "\n",
        "def clean_text(text):\n",
        "    \n",
        "    ## Remove puncuation\n",
        "    text = text.translate(string.punctuation)\n",
        "    \n",
        "    ## Convert words to lower case and split them\n",
        "    text = text.lower().split()\n",
        "    \n",
        "    text = \" \".join(text)\n",
        "    ## Clean the text\n",
        "    text = re.sub(r\"[^A-Za-z0-9^,!.\\/'+-=]\", \" \", text)\n",
        "    text = re.sub(r\"what's\", \"what is \", text)\n",
        "    text = re.sub(r\"\\'s\", \" \", text)\n",
        "    text = re.sub(r\"\\'ve\", \" have \", text)\n",
        "    text = re.sub(r\"n't\", \" not \", text)\n",
        "    text = re.sub(r\"i'm\", \"i am \", text)\n",
        "    text = re.sub(r\"\\'re\", \" are \", text)\n",
        "    text = re.sub(r\"\\'d\", \" would \", text)\n",
        "    text = re.sub(r\"\\'ll\", \" will \", text)\n",
        "    text = re.sub(r\",\", \" \", text)\n",
        "    text = re.sub(r\"\\.\", \" \", text)\n",
        "    text = re.sub(r\"!\", \" ! \", text)\n",
        "    text = re.sub(r\"\\/\", \" \", text)\n",
        "    text = re.sub(r\"\\^\", \" ^ \", text)\n",
        "    text = re.sub(r\"\\+\", \" + \", text)\n",
        "    text = re.sub(r\"\\-\", \" - \", text)\n",
        "    text = re.sub(r\"\\=\", \" = \", text)\n",
        "    text = re.sub(r\"'\", \" \", text)\n",
        "    text = re.sub(r\"(\\d+)(k)\", r\"\\g<1>000\", text)\n",
        "    text = re.sub(r\":\", \" : \", text)\n",
        "    text = re.sub(r\" e g \", \" eg \", text)\n",
        "    text = re.sub(r\" b g \", \" bg \", text)\n",
        "    text = re.sub(r\" u s \", \" american \", text)\n",
        "    text = re.sub(r\"\\0s\", \"0\", text)\n",
        "    text = re.sub(r\" 9 11 \", \"911\", text)\n",
        "    text = re.sub(r\"e - mail\", \"email\", text)\n",
        "    text = re.sub(r\"j k\", \"jk\", text)\n",
        "    text = re.sub(r\"\\s{2,}\", \" \", text)\n",
        "\n",
        "    return text\n"
      ],
      "execution_count": 0,
      "outputs": []
    },
    {
      "cell_type": "code",
      "metadata": {
        "id": "d1bOaiLe-Cwq",
        "colab_type": "code",
        "colab": {
          "base_uri": "https://localhost:8080/",
          "height": 34
        },
        "outputId": "37282649-83da-42b0-f8e6-49c3a48044e5"
      },
      "source": [
        "# Process the data for model input\n",
        "def get_texts_and_labels(df):\n",
        "  texts = df['text'].map(lambda x: clean_text(x)).tolist()\n",
        "  texts = [t.split()[0:MAXLEN] for t in texts]\n",
        "  labels = df['male'].tolist()\n",
        "  return texts, labels\n",
        "\n",
        "train_text, train_label = get_texts_and_labels(df_train)\n",
        "valid_text, valid_label = get_texts_and_labels(df_valid)\n",
        "test_text, test_label = get_texts_and_labels(df_test)\n",
        "\n",
        "max([len(x) for x in train_text]), max([len(x) for x in valid_text]), max([len(x) for x in test_text])"
      ],
      "execution_count": 9,
      "outputs": [
        {
          "output_type": "execute_result",
          "data": {
            "text/plain": [
              "(47, 42, 42)"
            ]
          },
          "metadata": {
            "tags": []
          },
          "execution_count": 9
        }
      ]
    },
    {
      "cell_type": "code",
      "metadata": {
        "id": "HGxYN53F8chY",
        "colab_type": "code",
        "colab": {}
      },
      "source": [
        "# Fit tokenizer on training data\n",
        "tok = Tokenizer()\n",
        "tok.fit_on_texts(train_text)\n",
        "vocab_size = len(tok.word_index) + 1"
      ],
      "execution_count": 0,
      "outputs": []
    },
    {
      "cell_type": "code",
      "metadata": {
        "id": "5FVpEPUM9M9D",
        "colab_type": "code",
        "outputId": "cbbd127b-9914-4092-8f9e-d99fe8514c0a",
        "colab": {
          "base_uri": "https://localhost:8080/",
          "height": 68
        }
      },
      "source": [
        "# Tokenize the data\n",
        "def get_tokenized_texts(texts):\n",
        "  encoded_docs = tok.texts_to_sequences(texts)\n",
        "  padded_docs = pad_sequences(encoded_docs, maxlen=MAXLEN, padding='post')\n",
        "  return padded_docs\n",
        "\n",
        "docs_train = get_tokenized_texts(train_text)\n",
        "docs_valid = get_tokenized_texts(valid_text)\n",
        "docs_test = get_tokenized_texts(test_text)\n",
        "\n",
        "print(type(docs_train), len(docs_train), len(docs_valid), len(docs_test))\n",
        "docs_train[0][:10]"
      ],
      "execution_count": 11,
      "outputs": [
        {
          "output_type": "stream",
          "text": [
            "<class 'numpy.ndarray'> 34146 10914 10450\n"
          ],
          "name": "stdout"
        },
        {
          "output_type": "execute_result",
          "data": {
            "text/plain": [
              "array([  956,     1,  4035,  1154, 13312,     8,    98,   732,     0,\n",
              "           0], dtype=int32)"
            ]
          },
          "metadata": {
            "tags": []
          },
          "execution_count": 11
        }
      ]
    },
    {
      "cell_type": "code",
      "metadata": {
        "id": "i6x12xlm8ckN",
        "colab_type": "code",
        "outputId": "a6537a8b-98ad-4445-ac1e-075a4b00344a",
        "colab": {
          "base_uri": "https://localhost:8080/",
          "height": 34
        }
      },
      "source": [
        "# Load the whole embedding into memory\n",
        "embeddings_index = dict()\n",
        "f = open(glovefile[:-3])\n",
        "for line in f:\n",
        "\tvalues = line.split()\n",
        "\tword = values[0]\n",
        "\tcoefs = np.asarray(values[1:], dtype='float32')\n",
        "\tembeddings_index[word] = coefs\n",
        "f.close()\n",
        "print('Loaded %s word vectors.' % len(embeddings_index))"
      ],
      "execution_count": 12,
      "outputs": [
        {
          "output_type": "stream",
          "text": [
            "Loaded 1193514 word vectors.\n"
          ],
          "name": "stdout"
        }
      ]
    },
    {
      "cell_type": "code",
      "metadata": {
        "id": "JXkU0hx6JoXx",
        "colab_type": "code",
        "colab": {}
      },
      "source": [
        "# Create a weight matrix for words in training docs\n",
        "embedding_matrix = np.zeros((vocab_size, EMBEDDING_DIM))\n",
        "for word, i in tok.word_index.items():\n",
        "\tembedding_vector = embeddings_index.get(word)\n",
        "\tif embedding_vector is not None:\n",
        "\t\tembedding_matrix[i] = embedding_vector"
      ],
      "execution_count": 0,
      "outputs": []
    },
    {
      "cell_type": "code",
      "metadata": {
        "id": "pTM8vFvYvrBQ",
        "colab_type": "code",
        "outputId": "a77cd07d-0301-47cf-aa99-7c4c97f29078",
        "colab": {
          "base_uri": "https://localhost:8080/",
          "height": 904
        }
      },
      "source": [
        "# NERUAL NETWORK MODEL\n",
        "\n",
        "\n",
        "# PARAMETERS\n",
        "batchsize = 512\n",
        "\n",
        "lstm_dim = 80\n",
        "residual_connection_width = 40\n",
        "\n",
        "spatiotemporal_dropout = 0.20\n",
        "lstm_dropout = 0.35\n",
        "residual_connection_dropout = 0.50\n",
        "final_dropout = 0.70\n",
        "\n",
        "frozen_lr = 1e-3\n",
        "frozen_decay = 1e-5\n",
        "frozen_epochs = 2\n",
        "frozen_batchsize = batchsize\n",
        "\n",
        "unfrozen_lr = 2.7e-4\n",
        "unfrozen_decay = 5.9e-5\n",
        "unfrozen_epochs = 75 \n",
        "unfrozen_batchsize = batchsize\n",
        "\n",
        "inputs = layers.Input((MAXLEN,), dtype=\"int32\")\n",
        "\n",
        "\n",
        "# EMBEDDING BLOCK\n",
        "raw_embed = layers.Embedding(vocab_size, \n",
        "                           EMBEDDING_DIM, \n",
        "                           weights=[embedding_matrix], \n",
        "                           input_length=MAXLEN, \n",
        "                           trainable=False)(inputs)\n",
        "embed_random_drop = layers.Dropout(rate=spatiotemporal_dropout)(raw_embed)\n",
        "embed_time_drop = layers.Dropout(rate=spatiotemporal_dropout, \n",
        "                       noise_shape=(None, MAXLEN, 1))(embed_random_drop)\n",
        "\n",
        "\n",
        "# LEFT LSTM BLOCK\n",
        "\n",
        "# Backward LSTM layer\n",
        "lstm_bottom_left = layers.LSTM(lstm_dim, return_sequences=True, \n",
        "                               go_backwards=True, dropout=lstm_dropout, \n",
        "                               recurrent_dropout=lstm_dropout)(embed_time_drop)\n",
        "lstm_random_drop_left = layers.Dropout(rate=spatiotemporal_dropout)(lstm_bottom_left)\n",
        "lstm_time_drop_left = layers.Dropout(rate=spatiotemporal_dropout, \n",
        "                            noise_shape=(None,MAXLEN,1))(lstm_random_drop_left)\n",
        "# Forward LSTM layer\n",
        "lstm_top_left = layers.LSTM(lstm_dim, return_sequences=False, dropout=lstm_dropout, \n",
        "                            recurrent_dropout=lstm_dropout)(lstm_time_drop_left)\n",
        "\n",
        "\n",
        "# RIGHT LSTM BLOCK\n",
        "\n",
        "# Forward LSTM layer\n",
        "lstm_bottom_right = layers.LSTM(lstm_dim, return_sequences=True, dropout=lstm_dropout, \n",
        "                                recurrent_dropout=lstm_dropout)(embed_time_drop)\n",
        "lstm_random_drop_right = layers.Dropout(rate=spatiotemporal_dropout)(lstm_bottom_right)\n",
        "lstm_time_drop_right = layers.Dropout(rate=spatiotemporal_dropout, \n",
        "                            noise_shape=(None,MAXLEN,1))(lstm_random_drop_right)\n",
        "# Backward LSTM layer\n",
        "lstm_top_right = layers.LSTM(80, return_sequences=False, \n",
        "                             go_backwards=True, dropout=lstm_dropout, \n",
        "                             recurrent_dropout=lstm_dropout)(lstm_time_drop_right)\n",
        "\n",
        "\n",
        "# MERGE LEFT AND RIGHT BLOCK\n",
        "merged_lstm = layers.merge.concatenate([lstm_top_left, lstm_top_right])\n",
        "\n",
        "\n",
        "# RESIDUAL BLOCK\n",
        "dropout_resid = layers.Dropout(rate=residual_connection_dropout)(merged_lstm)\n",
        "dense_resid = layers.Dense(residual_connection_width, activation='relu')(dropout_resid)\n",
        "\n",
        "\n",
        "# FINAL DENSE BLOCK\n",
        "merged_resid = layers.merge.concatenate([merged_lstm, dense_resid])\n",
        "dropout = layers.Dropout(rate=final_dropout)(merged_resid)\n",
        "pred = layers.Dense(1, activation='sigmoid')(dropout)\n",
        "\n",
        "\n",
        "# FINAL MODEL\n",
        "model = Model(inputs=[inputs], outputs=pred)\n",
        "model.compile(optimizer=Adam(frozen_lr, decay=frozen_decay), \n",
        "              loss='binary_crossentropy', metrics=['acc'])\n",
        "model.summary()"
      ],
      "execution_count": 14,
      "outputs": [
        {
          "output_type": "stream",
          "text": [
            "WARNING:tensorflow:From /usr/local/lib/python3.6/dist-packages/tensorflow/python/framework/op_def_library.py:263: colocate_with (from tensorflow.python.framework.ops) is deprecated and will be removed in a future version.\n",
            "Instructions for updating:\n",
            "Colocations handled automatically by placer.\n",
            "WARNING:tensorflow:From /usr/local/lib/python3.6/dist-packages/keras/backend/tensorflow_backend.py:3445: calling dropout (from tensorflow.python.ops.nn_ops) with keep_prob is deprecated and will be removed in a future version.\n",
            "Instructions for updating:\n",
            "Please use `rate` instead of `keep_prob`. Rate should be set to `rate = 1 - keep_prob`.\n",
            "__________________________________________________________________________________________________\n",
            "Layer (type)                    Output Shape         Param #     Connected to                     \n",
            "==================================================================================================\n",
            "input_1 (InputLayer)            (None, 50)           0                                            \n",
            "__________________________________________________________________________________________________\n",
            "embedding_1 (Embedding)         (None, 50, 200)      6026200     input_1[0][0]                    \n",
            "__________________________________________________________________________________________________\n",
            "dropout_1 (Dropout)             (None, 50, 200)      0           embedding_1[0][0]                \n",
            "__________________________________________________________________________________________________\n",
            "dropout_2 (Dropout)             (None, 50, 200)      0           dropout_1[0][0]                  \n",
            "__________________________________________________________________________________________________\n",
            "lstm_1 (LSTM)                   (None, 50, 80)       89920       dropout_2[0][0]                  \n",
            "__________________________________________________________________________________________________\n",
            "lstm_3 (LSTM)                   (None, 50, 80)       89920       dropout_2[0][0]                  \n",
            "__________________________________________________________________________________________________\n",
            "dropout_3 (Dropout)             (None, 50, 80)       0           lstm_1[0][0]                     \n",
            "__________________________________________________________________________________________________\n",
            "dropout_5 (Dropout)             (None, 50, 80)       0           lstm_3[0][0]                     \n",
            "__________________________________________________________________________________________________\n",
            "dropout_4 (Dropout)             (None, 50, 80)       0           dropout_3[0][0]                  \n",
            "__________________________________________________________________________________________________\n",
            "dropout_6 (Dropout)             (None, 50, 80)       0           dropout_5[0][0]                  \n",
            "__________________________________________________________________________________________________\n",
            "lstm_2 (LSTM)                   (None, 80)           51520       dropout_4[0][0]                  \n",
            "__________________________________________________________________________________________________\n",
            "lstm_4 (LSTM)                   (None, 80)           51520       dropout_6[0][0]                  \n",
            "__________________________________________________________________________________________________\n",
            "concatenate_1 (Concatenate)     (None, 160)          0           lstm_2[0][0]                     \n",
            "                                                                 lstm_4[0][0]                     \n",
            "__________________________________________________________________________________________________\n",
            "dropout_7 (Dropout)             (None, 160)          0           concatenate_1[0][0]              \n",
            "__________________________________________________________________________________________________\n",
            "dense_1 (Dense)                 (None, 40)           6440        dropout_7[0][0]                  \n",
            "__________________________________________________________________________________________________\n",
            "concatenate_2 (Concatenate)     (None, 200)          0           concatenate_1[0][0]              \n",
            "                                                                 dense_1[0][0]                    \n",
            "__________________________________________________________________________________________________\n",
            "dropout_8 (Dropout)             (None, 200)          0           concatenate_2[0][0]              \n",
            "__________________________________________________________________________________________________\n",
            "dense_2 (Dense)                 (None, 1)            201         dropout_8[0][0]                  \n",
            "==================================================================================================\n",
            "Total params: 6,315,721\n",
            "Trainable params: 289,521\n",
            "Non-trainable params: 6,026,200\n",
            "__________________________________________________________________________________________________\n"
          ],
          "name": "stdout"
        }
      ]
    },
    {
      "cell_type": "code",
      "metadata": {
        "id": "ATBuyXs8PIJr",
        "colab_type": "code",
        "colab": {
          "base_uri": "https://localhost:8080/",
          "height": 190
        },
        "outputId": "1dd5ce22-84d5-4e8f-d318-7b97ba5f45f2"
      },
      "source": [
        "# Fit the frozen model\n",
        "\n",
        "model.fit(docs_train, train_label, epochs=frozen_epochs, \n",
        "          validation_data=(docs_valid, valid_label), batch_size=batchsize)"
      ],
      "execution_count": 15,
      "outputs": [
        {
          "output_type": "stream",
          "text": [
            "WARNING:tensorflow:From /usr/local/lib/python3.6/dist-packages/tensorflow/python/ops/math_ops.py:3066: to_int32 (from tensorflow.python.ops.math_ops) is deprecated and will be removed in a future version.\n",
            "Instructions for updating:\n",
            "Use tf.cast instead.\n",
            "Train on 34146 samples, validate on 10914 samples\n",
            "Epoch 1/2\n",
            "34146/34146 [==============================] - 30s 864us/step - loss: 0.6922 - acc: 0.5269 - val_loss: 0.6750 - val_acc: 0.5800\n",
            "Epoch 2/2\n",
            "34146/34146 [==============================] - 26s 755us/step - loss: 0.6786 - acc: 0.5720 - val_loss: 0.6640 - val_acc: 0.5960\n"
          ],
          "name": "stdout"
        },
        {
          "output_type": "execute_result",
          "data": {
            "text/plain": [
              "<keras.callbacks.History at 0x7f58932c66a0>"
            ]
          },
          "metadata": {
            "tags": []
          },
          "execution_count": 15
        }
      ]
    },
    {
      "cell_type": "code",
      "metadata": {
        "id": "yQKYvhz5Kqw8",
        "colab_type": "code",
        "outputId": "1d2b7482-e7bf-4dcb-c2c5-e57bf9730807",
        "colab": {
          "base_uri": "https://localhost:8080/",
          "height": 2621
        }
      },
      "source": [
        "# Fit the unfrozen model\n",
        "\n",
        "model.layers[0].trainable = True\n",
        "model.compile(optimizer=Adam(unfrozen_lr, decay=unfrozen_decay), \n",
        "              loss='binary_crossentropy', metrics=['acc'])\n",
        "model.fit(docs_train, train_label, epochs=unfrozen_epochs, \n",
        "          validation_data=(docs_valid, valid_label), batch_size=unfrozen_batchsize)"
      ],
      "execution_count": 16,
      "outputs": [
        {
          "output_type": "stream",
          "text": [
            "Train on 34146 samples, validate on 10914 samples\n",
            "Epoch 1/75\n",
            "34146/34146 [==============================] - 29s 859us/step - loss: 0.6740 - acc: 0.5774 - val_loss: 0.6637 - val_acc: 0.5983\n",
            "Epoch 2/75\n",
            "34146/34146 [==============================] - 26s 747us/step - loss: 0.6734 - acc: 0.5827 - val_loss: 0.6624 - val_acc: 0.6012\n",
            "Epoch 3/75\n",
            "34146/34146 [==============================] - 25s 746us/step - loss: 0.6704 - acc: 0.5842 - val_loss: 0.6610 - val_acc: 0.6002\n",
            "Epoch 4/75\n",
            "34146/34146 [==============================] - 25s 743us/step - loss: 0.6704 - acc: 0.5872 - val_loss: 0.6606 - val_acc: 0.6003\n",
            "Epoch 5/75\n",
            "34146/34146 [==============================] - 25s 742us/step - loss: 0.6700 - acc: 0.5855 - val_loss: 0.6606 - val_acc: 0.6012\n",
            "Epoch 6/75\n",
            "34146/34146 [==============================] - 26s 748us/step - loss: 0.6718 - acc: 0.5850 - val_loss: 0.6602 - val_acc: 0.6008\n",
            "Epoch 7/75\n",
            "34146/34146 [==============================] - 25s 738us/step - loss: 0.6685 - acc: 0.5885 - val_loss: 0.6600 - val_acc: 0.6026\n",
            "Epoch 8/75\n",
            "34146/34146 [==============================] - 25s 743us/step - loss: 0.6687 - acc: 0.5927 - val_loss: 0.6597 - val_acc: 0.6023\n",
            "Epoch 9/75\n",
            "34146/34146 [==============================] - 25s 745us/step - loss: 0.6676 - acc: 0.5941 - val_loss: 0.6589 - val_acc: 0.6034\n",
            "Epoch 10/75\n",
            "34146/34146 [==============================] - 25s 740us/step - loss: 0.6666 - acc: 0.5939 - val_loss: 0.6584 - val_acc: 0.6042\n",
            "Epoch 11/75\n",
            "34146/34146 [==============================] - 25s 737us/step - loss: 0.6679 - acc: 0.5919 - val_loss: 0.6597 - val_acc: 0.6016\n",
            "Epoch 12/75\n",
            "34146/34146 [==============================] - 25s 740us/step - loss: 0.6674 - acc: 0.5934 - val_loss: 0.6592 - val_acc: 0.6030\n",
            "Epoch 13/75\n",
            "34146/34146 [==============================] - 26s 749us/step - loss: 0.6674 - acc: 0.5901 - val_loss: 0.6583 - val_acc: 0.6055\n",
            "Epoch 14/75\n",
            "34146/34146 [==============================] - 26s 748us/step - loss: 0.6658 - acc: 0.5952 - val_loss: 0.6580 - val_acc: 0.6055\n",
            "Epoch 15/75\n",
            "34146/34146 [==============================] - 25s 734us/step - loss: 0.6640 - acc: 0.5983 - val_loss: 0.6576 - val_acc: 0.6071\n",
            "Epoch 16/75\n",
            "34146/34146 [==============================] - 25s 744us/step - loss: 0.6661 - acc: 0.5948 - val_loss: 0.6578 - val_acc: 0.6056\n",
            "Epoch 17/75\n",
            "34146/34146 [==============================] - 25s 734us/step - loss: 0.6645 - acc: 0.5971 - val_loss: 0.6573 - val_acc: 0.6077\n",
            "Epoch 18/75\n",
            "34146/34146 [==============================] - 25s 736us/step - loss: 0.6640 - acc: 0.5984 - val_loss: 0.6569 - val_acc: 0.6070\n",
            "Epoch 19/75\n",
            "34146/34146 [==============================] - 25s 740us/step - loss: 0.6648 - acc: 0.5947 - val_loss: 0.6573 - val_acc: 0.6069\n",
            "Epoch 20/75\n",
            "34146/34146 [==============================] - 25s 728us/step - loss: 0.6625 - acc: 0.5998 - val_loss: 0.6569 - val_acc: 0.6060\n",
            "Epoch 21/75\n",
            "34146/34146 [==============================] - 25s 722us/step - loss: 0.6641 - acc: 0.5967 - val_loss: 0.6567 - val_acc: 0.6078\n",
            "Epoch 22/75\n",
            "34146/34146 [==============================] - 25s 721us/step - loss: 0.6629 - acc: 0.6002 - val_loss: 0.6565 - val_acc: 0.6072\n",
            "Epoch 23/75\n",
            "34146/34146 [==============================] - 25s 719us/step - loss: 0.6627 - acc: 0.5978 - val_loss: 0.6563 - val_acc: 0.6055\n",
            "Epoch 24/75\n",
            "34146/34146 [==============================] - 24s 715us/step - loss: 0.6647 - acc: 0.5978 - val_loss: 0.6566 - val_acc: 0.6067\n",
            "Epoch 25/75\n",
            "34146/34146 [==============================] - 25s 724us/step - loss: 0.6633 - acc: 0.5958 - val_loss: 0.6561 - val_acc: 0.6069\n",
            "Epoch 26/75\n",
            "34146/34146 [==============================] - 25s 718us/step - loss: 0.6627 - acc: 0.5987 - val_loss: 0.6558 - val_acc: 0.6078\n",
            "Epoch 27/75\n",
            "34146/34146 [==============================] - 24s 713us/step - loss: 0.6624 - acc: 0.5971 - val_loss: 0.6560 - val_acc: 0.6046\n",
            "Epoch 28/75\n",
            "34146/34146 [==============================] - 24s 711us/step - loss: 0.6617 - acc: 0.5949 - val_loss: 0.6560 - val_acc: 0.6082\n",
            "Epoch 29/75\n",
            "34146/34146 [==============================] - 24s 712us/step - loss: 0.6637 - acc: 0.5965 - val_loss: 0.6557 - val_acc: 0.6084\n",
            "Epoch 30/75\n",
            "34146/34146 [==============================] - 24s 711us/step - loss: 0.6611 - acc: 0.5990 - val_loss: 0.6552 - val_acc: 0.6076\n",
            "Epoch 31/75\n",
            "34146/34146 [==============================] - 25s 720us/step - loss: 0.6622 - acc: 0.6031 - val_loss: 0.6558 - val_acc: 0.6081\n",
            "Epoch 32/75\n",
            "34146/34146 [==============================] - 24s 716us/step - loss: 0.6612 - acc: 0.6034 - val_loss: 0.6552 - val_acc: 0.6069\n",
            "Epoch 33/75\n",
            "34146/34146 [==============================] - 25s 718us/step - loss: 0.6614 - acc: 0.5978 - val_loss: 0.6556 - val_acc: 0.6076\n",
            "Epoch 34/75\n",
            "34146/34146 [==============================] - 24s 710us/step - loss: 0.6600 - acc: 0.6024 - val_loss: 0.6552 - val_acc: 0.6084\n",
            "Epoch 35/75\n",
            "34146/34146 [==============================] - 24s 712us/step - loss: 0.6603 - acc: 0.6035 - val_loss: 0.6547 - val_acc: 0.6090\n",
            "Epoch 36/75\n",
            "34146/34146 [==============================] - 24s 712us/step - loss: 0.6617 - acc: 0.6005 - val_loss: 0.6549 - val_acc: 0.6064\n",
            "Epoch 37/75\n",
            "34146/34146 [==============================] - 24s 710us/step - loss: 0.6590 - acc: 0.6043 - val_loss: 0.6548 - val_acc: 0.6085\n",
            "Epoch 38/75\n",
            "34146/34146 [==============================] - 24s 714us/step - loss: 0.6602 - acc: 0.6020 - val_loss: 0.6547 - val_acc: 0.6078\n",
            "Epoch 39/75\n",
            "34146/34146 [==============================] - 24s 712us/step - loss: 0.6590 - acc: 0.6022 - val_loss: 0.6545 - val_acc: 0.6105\n",
            "Epoch 40/75\n",
            "34146/34146 [==============================] - 24s 710us/step - loss: 0.6581 - acc: 0.6043 - val_loss: 0.6545 - val_acc: 0.6073\n",
            "Epoch 41/75\n",
            "34146/34146 [==============================] - 24s 706us/step - loss: 0.6579 - acc: 0.6026 - val_loss: 0.6542 - val_acc: 0.6086\n",
            "Epoch 42/75\n",
            "34146/34146 [==============================] - 24s 708us/step - loss: 0.6592 - acc: 0.6019 - val_loss: 0.6540 - val_acc: 0.6111\n",
            "Epoch 43/75\n",
            "34146/34146 [==============================] - 24s 705us/step - loss: 0.6594 - acc: 0.6029 - val_loss: 0.6540 - val_acc: 0.6095\n",
            "Epoch 44/75\n",
            "34146/34146 [==============================] - 24s 706us/step - loss: 0.6584 - acc: 0.6081 - val_loss: 0.6539 - val_acc: 0.6094\n",
            "Epoch 45/75\n",
            "34146/34146 [==============================] - 24s 703us/step - loss: 0.6590 - acc: 0.6029 - val_loss: 0.6545 - val_acc: 0.6087\n",
            "Epoch 46/75\n",
            "34146/34146 [==============================] - 24s 714us/step - loss: 0.6573 - acc: 0.6051 - val_loss: 0.6538 - val_acc: 0.6075\n",
            "Epoch 47/75\n",
            "34146/34146 [==============================] - 24s 705us/step - loss: 0.6580 - acc: 0.6046 - val_loss: 0.6543 - val_acc: 0.6094\n",
            "Epoch 48/75\n",
            "34146/34146 [==============================] - 24s 704us/step - loss: 0.6580 - acc: 0.6075 - val_loss: 0.6538 - val_acc: 0.6092\n",
            "Epoch 49/75\n",
            "34146/34146 [==============================] - 24s 708us/step - loss: 0.6579 - acc: 0.6046 - val_loss: 0.6538 - val_acc: 0.6090\n",
            "Epoch 50/75\n",
            "34146/34146 [==============================] - 24s 699us/step - loss: 0.6571 - acc: 0.6080 - val_loss: 0.6539 - val_acc: 0.6110\n",
            "Epoch 51/75\n",
            "34146/34146 [==============================] - 24s 706us/step - loss: 0.6574 - acc: 0.6060 - val_loss: 0.6539 - val_acc: 0.6118\n",
            "Epoch 52/75\n",
            "34146/34146 [==============================] - 24s 708us/step - loss: 0.6562 - acc: 0.6081 - val_loss: 0.6538 - val_acc: 0.6130\n",
            "Epoch 53/75\n",
            "34146/34146 [==============================] - 24s 706us/step - loss: 0.6562 - acc: 0.6082 - val_loss: 0.6538 - val_acc: 0.6115\n",
            "Epoch 54/75\n",
            "34146/34146 [==============================] - 24s 704us/step - loss: 0.6564 - acc: 0.6086 - val_loss: 0.6533 - val_acc: 0.6115\n",
            "Epoch 55/75\n",
            "34146/34146 [==============================] - 24s 704us/step - loss: 0.6555 - acc: 0.6097 - val_loss: 0.6534 - val_acc: 0.6121\n",
            "Epoch 56/75\n",
            "34146/34146 [==============================] - 24s 702us/step - loss: 0.6560 - acc: 0.6081 - val_loss: 0.6531 - val_acc: 0.6109\n",
            "Epoch 57/75\n",
            "34146/34146 [==============================] - 24s 696us/step - loss: 0.6564 - acc: 0.6070 - val_loss: 0.6535 - val_acc: 0.6102\n",
            "Epoch 58/75\n",
            "34146/34146 [==============================] - 24s 707us/step - loss: 0.6550 - acc: 0.6084 - val_loss: 0.6533 - val_acc: 0.6119\n",
            "Epoch 59/75\n",
            "34146/34146 [==============================] - 24s 711us/step - loss: 0.6540 - acc: 0.6111 - val_loss: 0.6531 - val_acc: 0.6130\n",
            "Epoch 60/75\n",
            "34146/34146 [==============================] - 24s 701us/step - loss: 0.6554 - acc: 0.6094 - val_loss: 0.6533 - val_acc: 0.6112\n",
            "Epoch 61/75\n",
            "34146/34146 [==============================] - 24s 705us/step - loss: 0.6551 - acc: 0.6070 - val_loss: 0.6528 - val_acc: 0.6131\n",
            "Epoch 62/75\n",
            "34146/34146 [==============================] - 24s 705us/step - loss: 0.6525 - acc: 0.6129 - val_loss: 0.6528 - val_acc: 0.6122\n",
            "Epoch 63/75\n",
            "34146/34146 [==============================] - 24s 694us/step - loss: 0.6528 - acc: 0.6144 - val_loss: 0.6527 - val_acc: 0.6131\n",
            "Epoch 64/75\n",
            "34146/34146 [==============================] - 24s 701us/step - loss: 0.6542 - acc: 0.6109 - val_loss: 0.6528 - val_acc: 0.6127\n",
            "Epoch 65/75\n",
            "34146/34146 [==============================] - 24s 709us/step - loss: 0.6520 - acc: 0.6131 - val_loss: 0.6529 - val_acc: 0.6110\n",
            "Epoch 66/75\n",
            "34146/34146 [==============================] - 24s 702us/step - loss: 0.6526 - acc: 0.6139 - val_loss: 0.6528 - val_acc: 0.6127\n",
            "Epoch 67/75\n",
            "34146/34146 [==============================] - 24s 697us/step - loss: 0.6518 - acc: 0.6131 - val_loss: 0.6527 - val_acc: 0.6138\n",
            "Epoch 68/75\n",
            "34146/34146 [==============================] - 24s 699us/step - loss: 0.6529 - acc: 0.6092 - val_loss: 0.6529 - val_acc: 0.6136\n",
            "Epoch 69/75\n",
            "34146/34146 [==============================] - 24s 708us/step - loss: 0.6505 - acc: 0.6154 - val_loss: 0.6537 - val_acc: 0.6089\n",
            "Epoch 70/75\n",
            "34146/34146 [==============================] - 24s 700us/step - loss: 0.6527 - acc: 0.6088 - val_loss: 0.6530 - val_acc: 0.6119\n",
            "Epoch 71/75\n",
            "34146/34146 [==============================] - 24s 696us/step - loss: 0.6508 - acc: 0.6142 - val_loss: 0.6523 - val_acc: 0.6132\n",
            "Epoch 72/75\n",
            "34146/34146 [==============================] - 24s 708us/step - loss: 0.6514 - acc: 0.6159 - val_loss: 0.6522 - val_acc: 0.6154\n",
            "Epoch 73/75\n",
            "34146/34146 [==============================] - 24s 699us/step - loss: 0.6500 - acc: 0.6146 - val_loss: 0.6528 - val_acc: 0.6130\n",
            "Epoch 74/75\n",
            "34146/34146 [==============================] - 24s 700us/step - loss: 0.6489 - acc: 0.6180 - val_loss: 0.6527 - val_acc: 0.6121\n",
            "Epoch 75/75\n",
            "34146/34146 [==============================] - 24s 703us/step - loss: 0.6505 - acc: 0.6154 - val_loss: 0.6525 - val_acc: 0.6113\n"
          ],
          "name": "stdout"
        },
        {
          "output_type": "execute_result",
          "data": {
            "text/plain": [
              "<keras.callbacks.History at 0x7f5858cddc18>"
            ]
          },
          "metadata": {
            "tags": []
          },
          "execution_count": 16
        }
      ]
    },
    {
      "cell_type": "code",
      "metadata": {
        "id": "jGKTleLcixRy",
        "colab_type": "code",
        "colab": {}
      },
      "source": [
        ""
      ],
      "execution_count": 0,
      "outputs": []
    }
  ]
}