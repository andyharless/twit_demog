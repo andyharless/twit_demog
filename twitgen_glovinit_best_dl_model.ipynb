{
  "nbformat": 4,
  "nbformat_minor": 0,
  "metadata": {
    "colab": {
      "name": "twitgen_glovinit_best_dl_model",
      "version": "0.3.2",
      "provenance": [],
      "collapsed_sections": [],
      "include_colab_link": true
    },
    "kernelspec": {
      "name": "python3",
      "display_name": "Python 3"
    },
    "accelerator": "GPU"
  },
  "cells": [
    {
      "cell_type": "markdown",
      "metadata": {
        "id": "view-in-github",
        "colab_type": "text"
      },
      "source": [
        "<a href=\"https://colab.research.google.com/github/andyharless/twit_demog/blob/master/twitgen_glovinit_best_dl_model.ipynb\" target=\"_parent\"><img src=\"https://colab.research.google.com/assets/colab-badge.svg\" alt=\"Open In Colab\"/></a>"
      ]
    },
    {
      "cell_type": "code",
      "metadata": {
        "id": "Ax4RdzBXu65o",
        "colab_type": "code",
        "outputId": "c693082f-fc0a-4cef-fbda-b526d2547744",
        "colab": {
          "base_uri": "https://localhost:8080/",
          "height": 122
        }
      },
      "source": [
        "do_mount=True\n",
        "if do_mount:\n",
        "  from google.colab import drive\n",
        "  drive.mount('/content/gdrive')"
      ],
      "execution_count": 1,
      "outputs": [
        {
          "output_type": "stream",
          "text": [
            "Go to this URL in a browser: https://accounts.google.com/o/oauth2/auth?client_id=947318989803-6bn6qk8qdgf4n4g3pfee6491hc0brc4i.apps.googleusercontent.com&redirect_uri=urn%3Aietf%3Awg%3Aoauth%3A2.0%3Aoob&scope=email%20https%3A%2F%2Fwww.googleapis.com%2Fauth%2Fdocs.test%20https%3A%2F%2Fwww.googleapis.com%2Fauth%2Fdrive%20https%3A%2F%2Fwww.googleapis.com%2Fauth%2Fdrive.photos.readonly%20https%3A%2F%2Fwww.googleapis.com%2Fauth%2Fpeopleapi.readonly&response_type=code\n",
            "\n",
            "Enter your authorization code:\n",
            "··········\n",
            "Mounted at /content/gdrive\n"
          ],
          "name": "stdout"
        }
      ]
    },
    {
      "cell_type": "code",
      "metadata": {
        "id": "Hg5Y784oysWW",
        "colab_type": "code",
        "colab": {}
      },
      "source": [
        "# Parameters\n",
        "do_save_activations = False\n",
        "\n",
        "TRAIN_INPUT = 'twitgen_train_201906011956.csv'\n",
        "VALID_INPUT = 'twitgen_valid_201906011956.csv'\n",
        "TEST_INPUT = 'twitgen_test_201906011956.csv'\n",
        "EMBEDDING_DIM = 200\n",
        "MAXLEN = 50  # Maximum number of words per tweet that will be processed"
      ],
      "execution_count": 0,
      "outputs": []
    },
    {
      "cell_type": "code",
      "metadata": {
        "id": "x-H3ypYSfqro",
        "colab_type": "code",
        "colab": {}
      },
      "source": [
        "basepath = '/content/gdrive/My Drive/twitgen/'\n",
        "glovefile = 'glove.twitter.27B.200d.txt.gz'\n",
        "glovepath = basepath + glovefile"
      ],
      "execution_count": 0,
      "outputs": []
    },
    {
      "cell_type": "code",
      "metadata": {
        "id": "ZTHMDATrw2or",
        "colab_type": "code",
        "outputId": "7af199eb-9593-49ce-df29-7c2cec3b456c",
        "colab": {
          "base_uri": "https://localhost:8080/",
          "height": 85
        }
      },
      "source": [
        "if do_mount:\n",
        "  # Get the embedding initialization file\n",
        "  !cp '$glovepath' .\n",
        "  !gunzip $glovefile\n",
        "  !ls -l"
      ],
      "execution_count": 4,
      "outputs": [
        {
          "output_type": "stream",
          "text": [
            "total 2009380\n",
            "drwx------ 3 root root       4096 Jun 18 22:23 gdrive\n",
            "-rw------- 1 root root 2057590469 Jun 18 22:23 glove.twitter.27B.200d.txt\n",
            "drwxr-xr-x 1 root root       4096 May 31 16:17 sample_data\n"
          ],
          "name": "stdout"
        }
      ]
    },
    {
      "cell_type": "code",
      "metadata": {
        "id": "Ki5FWLkTycV4",
        "colab_type": "code",
        "outputId": "0d9a7fb6-ddd6-45ff-e2df-374e72be1524",
        "colab": {
          "base_uri": "https://localhost:8080/",
          "height": 51
        }
      },
      "source": [
        "import tensorflow as tf\n",
        "import pandas as pd\n",
        "import os\n",
        "import re\n",
        "import keras\n",
        "from keras import backend as K\n",
        "import keras.layers as layers\n",
        "from keras.models import Model, load_model\n",
        "from keras.engine import Layer\n",
        "from keras.optimizers import Adam, Adagrad\n",
        "from keras.preprocessing.text import Tokenizer\n",
        "from keras.preprocessing.sequence import pad_sequences\n",
        "import numpy as np\n",
        "from datetime import datetime\n",
        "import string\n",
        "\n",
        "keras.__version__"
      ],
      "execution_count": 5,
      "outputs": [
        {
          "output_type": "stream",
          "text": [
            "Using TensorFlow backend.\n"
          ],
          "name": "stderr"
        },
        {
          "output_type": "execute_result",
          "data": {
            "text/plain": [
              "'2.2.4'"
            ]
          },
          "metadata": {
            "tags": []
          },
          "execution_count": 5
        }
      ]
    },
    {
      "cell_type": "code",
      "metadata": {
        "id": "diA4mf7rx5dG",
        "colab_type": "code",
        "outputId": "e80e06a2-72bd-4d5f-f79b-bcfc00c99f41",
        "colab": {
          "base_uri": "https://localhost:8080/",
          "height": 235
        }
      },
      "source": [
        "# Read in the data\n",
        "df_train = pd.read_csv(basepath+TRAIN_INPUT, index_col=['id','time'], parse_dates=['time'])\n",
        "df_valid = pd.read_csv(basepath+VALID_INPUT, index_col=['id','time'], parse_dates=['time'])\n",
        "df_test = pd.read_csv(basepath+TEST_INPUT, index_col=['id','time'], parse_dates=['time'])\n",
        "df_train.head()"
      ],
      "execution_count": 6,
      "outputs": [
        {
          "output_type": "execute_result",
          "data": {
            "text/html": [
              "<div>\n",
              "<style scoped>\n",
              "    .dataframe tbody tr th:only-of-type {\n",
              "        vertical-align: middle;\n",
              "    }\n",
              "\n",
              "    .dataframe tbody tr th {\n",
              "        vertical-align: top;\n",
              "    }\n",
              "\n",
              "    .dataframe thead th {\n",
              "        text-align: right;\n",
              "    }\n",
              "</style>\n",
              "<table border=\"1\" class=\"dataframe\">\n",
              "  <thead>\n",
              "    <tr style=\"text-align: right;\">\n",
              "      <th></th>\n",
              "      <th></th>\n",
              "      <th>text</th>\n",
              "      <th>male</th>\n",
              "    </tr>\n",
              "    <tr>\n",
              "      <th>id</th>\n",
              "      <th>time</th>\n",
              "      <th></th>\n",
              "      <th></th>\n",
              "    </tr>\n",
              "  </thead>\n",
              "  <tbody>\n",
              "    <tr>\n",
              "      <th>1083596943807393792</th>\n",
              "      <th>2019-05-27 23:27:08+00:00</th>\n",
              "      <td>Ah, the Flat Earth gambit.\\nWell played.</td>\n",
              "      <td>True</td>\n",
              "    </tr>\n",
              "    <tr>\n",
              "      <th>815783987784187904</th>\n",
              "      <th>2019-05-24 15:36:01+00:00</th>\n",
              "      <td>Aw ily</td>\n",
              "      <td>False</td>\n",
              "    </tr>\n",
              "    <tr>\n",
              "      <th>3458239641</th>\n",
              "      <th>2019-05-24 19:00:37+00:00</th>\n",
              "      <td>I hate being sick</td>\n",
              "      <td>False</td>\n",
              "    </tr>\n",
              "    <tr>\n",
              "      <th>1003729876250226688</th>\n",
              "      <th>2019-05-26 12:53:00+00:00</th>\n",
              "      <td>You still didn't' do shit tho. Slow down the...</td>\n",
              "      <td>True</td>\n",
              "    </tr>\n",
              "    <tr>\n",
              "      <th>2360143940</th>\n",
              "      <th>2019-05-28 03:50:46+00:00</th>\n",
              "      <td>Harriet Tubman may not be on the $20 bill... f...</td>\n",
              "      <td>False</td>\n",
              "    </tr>\n",
              "  </tbody>\n",
              "</table>\n",
              "</div>"
            ],
            "text/plain": [
              "                                                                                            text   male\n",
              "id                  time                                                                               \n",
              "1083596943807393792 2019-05-27 23:27:08+00:00           Ah, the Flat Earth gambit.\\nWell played.   True\n",
              "815783987784187904  2019-05-24 15:36:01+00:00                                             Aw ily  False\n",
              "3458239641          2019-05-24 19:00:37+00:00                                  I hate being sick  False\n",
              "1003729876250226688 2019-05-26 12:53:00+00:00    You still didn't' do shit tho. Slow down the...   True\n",
              "2360143940          2019-05-28 03:50:46+00:00  Harriet Tubman may not be on the $20 bill... f...  False"
            ]
          },
          "metadata": {
            "tags": []
          },
          "execution_count": 6
        }
      ]
    },
    {
      "cell_type": "code",
      "metadata": {
        "id": "tiWLlkKOx_G2",
        "colab_type": "code",
        "outputId": "2532cddb-a43d-4f13-8572-32a03b04fbc1",
        "colab": {
          "base_uri": "https://localhost:8080/",
          "height": 34
        }
      },
      "source": [
        "# Maximum number of words per tweet in each data set\n",
        "(df_train.text.str.split().apply(len).max(), \n",
        " df_valid.text.str.split().apply(len).max(),\n",
        " df_test.text.str.split().apply(len).max())"
      ],
      "execution_count": 7,
      "outputs": [
        {
          "output_type": "execute_result",
          "data": {
            "text/plain": [
              "(34, 30, 31)"
            ]
          },
          "metadata": {
            "tags": []
          },
          "execution_count": 7
        }
      ]
    },
    {
      "cell_type": "code",
      "metadata": {
        "id": "TYo_WNX3x_PO",
        "colab_type": "code",
        "colab": {}
      },
      "source": [
        "# Text Normalization function\n",
        "\n",
        "# Taken from \n",
        "# https://medium.com/@sabber/classifying-yelp-review-comments-using-lstm-and-word-embeddings-part-1-eb2275e4066b\n",
        "# which was taken from https://www.kaggle.com/lystdo/lstm-with-word2vec-embeddings\n",
        "# but this version no longer does stemming or stop word elmination\n",
        "\n",
        "# This is for general text, not Twitter-specific.\n",
        "# Maybe would get a better classifier if we used a Python transaltion of this:\n",
        "# https://nlp.stanford.edu/projects/glove/preprocess-twitter.rb\n",
        "# but that is arguably outside the scope of this project\n",
        "# and my initial attempts to use Twitter-specific preprocessing have been unsuccessful\n",
        "\n",
        "\n",
        "def clean_text(text):\n",
        "    \n",
        "    ## Remove puncuation\n",
        "    text = text.translate(string.punctuation)\n",
        "    \n",
        "    ## Convert words to lower case and split them\n",
        "    text = text.lower().split()\n",
        "    \n",
        "    text = \" \".join(text)\n",
        "    ## Clean the text\n",
        "    text = re.sub(r\"[^A-Za-z0-9^,!.\\/'+-=]\", \" \", text)\n",
        "    text = re.sub(r\"what's\", \"what is \", text)\n",
        "    text = re.sub(r\"\\'s\", \" \", text)\n",
        "    text = re.sub(r\"\\'ve\", \" have \", text)\n",
        "    text = re.sub(r\"n't\", \" not \", text)\n",
        "    text = re.sub(r\"i'm\", \"i am \", text)\n",
        "    text = re.sub(r\"\\'re\", \" are \", text)\n",
        "    text = re.sub(r\"\\'d\", \" would \", text)\n",
        "    text = re.sub(r\"\\'ll\", \" will \", text)\n",
        "    text = re.sub(r\",\", \" \", text)\n",
        "    text = re.sub(r\"\\.\", \" \", text)\n",
        "    text = re.sub(r\"!\", \" ! \", text)\n",
        "    text = re.sub(r\"\\/\", \" \", text)\n",
        "    text = re.sub(r\"\\^\", \" ^ \", text)\n",
        "    text = re.sub(r\"\\+\", \" + \", text)\n",
        "    text = re.sub(r\"\\-\", \" - \", text)\n",
        "    text = re.sub(r\"\\=\", \" = \", text)\n",
        "    text = re.sub(r\"'\", \" \", text)\n",
        "    text = re.sub(r\"(\\d+)(k)\", r\"\\g<1>000\", text)\n",
        "    text = re.sub(r\":\", \" : \", text)\n",
        "    text = re.sub(r\" e g \", \" eg \", text)\n",
        "    text = re.sub(r\" b g \", \" bg \", text)\n",
        "    text = re.sub(r\" u s \", \" american \", text)\n",
        "    text = re.sub(r\"\\0s\", \"0\", text)\n",
        "    text = re.sub(r\" 9 11 \", \"911\", text)\n",
        "    text = re.sub(r\"e - mail\", \"email\", text)\n",
        "    text = re.sub(r\"j k\", \"jk\", text)\n",
        "    text = re.sub(r\"\\s{2,}\", \" \", text)\n",
        "\n",
        "    return text\n"
      ],
      "execution_count": 0,
      "outputs": []
    },
    {
      "cell_type": "code",
      "metadata": {
        "id": "d1bOaiLe-Cwq",
        "colab_type": "code",
        "outputId": "ab7c0bd6-3bc1-4391-fd73-dd4f0b79e753",
        "colab": {
          "base_uri": "https://localhost:8080/",
          "height": 34
        }
      },
      "source": [
        "# Process the data for model input\n",
        "def get_texts_and_labels(df):\n",
        "  texts = df['text'].map(lambda x: clean_text(x)).tolist()\n",
        "  texts = [t.split()[0:MAXLEN] for t in texts]\n",
        "  labels = df['male'].tolist()\n",
        "  return texts, labels\n",
        "\n",
        "train_text, train_label = get_texts_and_labels(df_train)\n",
        "valid_text, valid_label = get_texts_and_labels(df_valid)\n",
        "test_text, test_label = get_texts_and_labels(df_test)\n",
        "\n",
        "max([len(x) for x in train_text]), max([len(x) for x in valid_text]), max([len(x) for x in test_text])"
      ],
      "execution_count": 9,
      "outputs": [
        {
          "output_type": "execute_result",
          "data": {
            "text/plain": [
              "(47, 42, 42)"
            ]
          },
          "metadata": {
            "tags": []
          },
          "execution_count": 9
        }
      ]
    },
    {
      "cell_type": "code",
      "metadata": {
        "id": "HGxYN53F8chY",
        "colab_type": "code",
        "colab": {}
      },
      "source": [
        "# Fit tokenizer on training data\n",
        "tok = Tokenizer()\n",
        "tok.fit_on_texts(train_text)\n",
        "vocab_size = len(tok.word_index) + 1"
      ],
      "execution_count": 0,
      "outputs": []
    },
    {
      "cell_type": "code",
      "metadata": {
        "id": "5FVpEPUM9M9D",
        "colab_type": "code",
        "outputId": "4225709b-6259-4690-bed4-46d905ba2cc3",
        "colab": {
          "base_uri": "https://localhost:8080/",
          "height": 68
        }
      },
      "source": [
        "# Tokenize the data\n",
        "def get_tokenized_texts(texts):\n",
        "  encoded_docs = tok.texts_to_sequences(texts)\n",
        "  padded_docs = pad_sequences(encoded_docs, maxlen=MAXLEN, padding='post')\n",
        "  return padded_docs\n",
        "\n",
        "docs_train = get_tokenized_texts(train_text)\n",
        "docs_valid = get_tokenized_texts(valid_text)\n",
        "docs_test = get_tokenized_texts(test_text)\n",
        "\n",
        "print(type(docs_train), len(docs_train), len(docs_valid), len(docs_test))\n",
        "docs_train[0][:10]"
      ],
      "execution_count": 11,
      "outputs": [
        {
          "output_type": "stream",
          "text": [
            "<class 'numpy.ndarray'> 34146 10914 10450\n"
          ],
          "name": "stdout"
        },
        {
          "output_type": "execute_result",
          "data": {
            "text/plain": [
              "array([  956,     1,  4035,  1154, 13312,     8,    98,   732,     0,\n",
              "           0], dtype=int32)"
            ]
          },
          "metadata": {
            "tags": []
          },
          "execution_count": 11
        }
      ]
    },
    {
      "cell_type": "code",
      "metadata": {
        "id": "i6x12xlm8ckN",
        "colab_type": "code",
        "outputId": "6b256320-d236-43e9-f464-4c0750ff0825",
        "colab": {
          "base_uri": "https://localhost:8080/",
          "height": 34
        }
      },
      "source": [
        "# Load the whole embedding into memory\n",
        "embeddings_index = dict()\n",
        "f = open(glovefile[:-3])\n",
        "for line in f:\n",
        "\tvalues = line.split()\n",
        "\tword = values[0]\n",
        "\tcoefs = np.asarray(values[1:], dtype='float32')\n",
        "\tembeddings_index[word] = coefs\n",
        "f.close()\n",
        "print('Loaded %s word vectors.' % len(embeddings_index))"
      ],
      "execution_count": 12,
      "outputs": [
        {
          "output_type": "stream",
          "text": [
            "Loaded 1193514 word vectors.\n"
          ],
          "name": "stdout"
        }
      ]
    },
    {
      "cell_type": "code",
      "metadata": {
        "id": "JXkU0hx6JoXx",
        "colab_type": "code",
        "colab": {}
      },
      "source": [
        "# Create a weight matrix for words in training docs\n",
        "embedding_matrix = np.zeros((vocab_size, EMBEDDING_DIM))\n",
        "for word, i in tok.word_index.items():\n",
        "\tembedding_vector = embeddings_index.get(word)\n",
        "\tif embedding_vector is not None:\n",
        "\t\tembedding_matrix[i] = embedding_vector"
      ],
      "execution_count": 0,
      "outputs": []
    },
    {
      "cell_type": "code",
      "metadata": {
        "id": "pTM8vFvYvrBQ",
        "colab_type": "code",
        "outputId": "22d2c8d4-49ba-4743-afc8-f3f544867306",
        "colab": {
          "base_uri": "https://localhost:8080/",
          "height": 1261
        }
      },
      "source": [
        "# NERUAL NETWORK MODEL\n",
        "\n",
        "\n",
        "# PARAMETERS\n",
        "batchsize = 512\n",
        "\n",
        "lstm_dim = 80\n",
        "residual_connection_width = 40\n",
        "\n",
        "dropout_factor = 1.07\n",
        "spatiotemporal_dropout = 0.25 * dropout_factor\n",
        "lstm_dropout = 0.3 * dropout_factor\n",
        "residual_connection_dropout = 0.6 * dropout_factor\n",
        "final_dropout = 0.7 * dropout_factor\n",
        "\n",
        "frozen_lr = 1e-3\n",
        "frozen_decay = 1e-4\n",
        "frozen_epochs = 25\n",
        "frozen_batchsize = batchsize\n",
        "\n",
        "unfrozen_lr = 1.3e-4\n",
        "unfrozen_decay = 2.5e-4\n",
        "unfrozen_epochs = 9\n",
        "unfrozen_batchsize = batchsize\n",
        "\n",
        "inputs = layers.Input((MAXLEN,), dtype=\"int32\")\n",
        "\n",
        "\n",
        "# EMBEDDING BLOCK\n",
        "raw_embed = layers.Embedding(vocab_size, \n",
        "                           EMBEDDING_DIM, \n",
        "                           weights=[embedding_matrix], \n",
        "                           input_length=MAXLEN, \n",
        "                           trainable=False)(inputs)\n",
        "embed_random_drop = layers.Dropout(rate=spatiotemporal_dropout)(raw_embed)\n",
        "embed_time_drop = layers.Dropout(rate=spatiotemporal_dropout, \n",
        "                       noise_shape=(None, MAXLEN, 1))(embed_random_drop)\n",
        "\n",
        "\n",
        "# LEFT LSTM BLOCK\n",
        "\n",
        "# Backward LSTM layer\n",
        "lstm_bottom_left = layers.LSTM(lstm_dim, return_sequences=True, \n",
        "                               go_backwards=True, dropout=lstm_dropout, \n",
        "                               recurrent_dropout=lstm_dropout)(embed_time_drop)\n",
        "lstm_random_drop_left = layers.Dropout(rate=spatiotemporal_dropout)(lstm_bottom_left)\n",
        "lstm_time_drop_left = layers.Dropout(rate=spatiotemporal_dropout, \n",
        "                            noise_shape=(None,MAXLEN,1))(lstm_random_drop_left)\n",
        "# Forward LSTM layer\n",
        "lstm_top_left = layers.LSTM(lstm_dim, return_sequences=False, dropout=lstm_dropout, \n",
        "                            recurrent_dropout=lstm_dropout)(lstm_time_drop_left)\n",
        "\n",
        "\n",
        "# RIGHT LSTM BLOCK\n",
        "\n",
        "# Forward LSTM layer\n",
        "lstm_bottom_right = layers.LSTM(lstm_dim, return_sequences=True, dropout=lstm_dropout, \n",
        "                                recurrent_dropout=lstm_dropout)(embed_time_drop)\n",
        "lstm_random_drop_right = layers.Dropout(rate=spatiotemporal_dropout)(lstm_bottom_right)\n",
        "lstm_time_drop_right = layers.Dropout(rate=spatiotemporal_dropout, \n",
        "                            noise_shape=(None,MAXLEN,1))(lstm_random_drop_right)\n",
        "# Backward LSTM layer\n",
        "lstm_top_right = layers.LSTM(80, return_sequences=False, \n",
        "                             go_backwards=True, dropout=lstm_dropout, \n",
        "                             recurrent_dropout=lstm_dropout)(lstm_time_drop_right)\n",
        "\n",
        "\n",
        "# MERGE LEFT AND RIGHT BLOCK\n",
        "merged_lstm = layers.merge.concatenate([lstm_top_left, lstm_top_right])\n",
        "\n",
        "\n",
        "# LEFT RESIDUAL BRANCH\n",
        "dropout_resid = layers.Dropout(rate=residual_connection_dropout)(merged_lstm)\n",
        "dense_resid = layers.Dense(residual_connection_width, activation='relu')(dropout_resid)\n",
        "\n",
        "# RIGHT RESIDUAL BRANCH\n",
        "dropout_resid2 = layers.Dropout(rate=residual_connection_dropout)(merged_lstm)\n",
        "dense_resid2 = layers.Dense(residual_connection_width, activation='relu')(dropout_resid2)\n",
        "\n",
        "\n",
        "# FINAL DENSE BLOCK\n",
        "merged_resid = layers.merge.concatenate([merged_lstm, dense_resid, dense_resid2])\n",
        "dropout = layers.Dropout(rate=final_dropout)(merged_resid)\n",
        "pred = layers.Dense(1, activation='sigmoid')(dropout)\n",
        "\n",
        "\n",
        "# FINAL MODEL\n",
        "model = Model(inputs=[inputs], outputs=pred)\n",
        "model.compile(optimizer=Adam(frozen_lr, decay=frozen_decay), \n",
        "              loss='binary_crossentropy', metrics=['acc'])\n",
        "model.summary()"
      ],
      "execution_count": 14,
      "outputs": [
        {
          "output_type": "stream",
          "text": [
            "WARNING: Logging before flag parsing goes to stderr.\n",
            "W0618 22:25:16.078497 139903692519296 deprecation_wrapper.py:119] From /usr/local/lib/python3.6/dist-packages/keras/backend/tensorflow_backend.py:74: The name tf.get_default_graph is deprecated. Please use tf.compat.v1.get_default_graph instead.\n",
            "\n",
            "W0618 22:25:16.129157 139903692519296 deprecation_wrapper.py:119] From /usr/local/lib/python3.6/dist-packages/keras/backend/tensorflow_backend.py:517: The name tf.placeholder is deprecated. Please use tf.compat.v1.placeholder instead.\n",
            "\n",
            "W0618 22:25:16.135893 139903692519296 deprecation_wrapper.py:119] From /usr/local/lib/python3.6/dist-packages/keras/backend/tensorflow_backend.py:4138: The name tf.random_uniform is deprecated. Please use tf.random.uniform instead.\n",
            "\n",
            "W0618 22:25:16.145949 139903692519296 deprecation_wrapper.py:119] From /usr/local/lib/python3.6/dist-packages/keras/backend/tensorflow_backend.py:174: The name tf.get_default_session is deprecated. Please use tf.compat.v1.get_default_session instead.\n",
            "\n",
            "W0618 22:25:16.146716 139903692519296 deprecation_wrapper.py:119] From /usr/local/lib/python3.6/dist-packages/keras/backend/tensorflow_backend.py:181: The name tf.ConfigProto is deprecated. Please use tf.compat.v1.ConfigProto instead.\n",
            "\n",
            "W0618 22:25:19.346768 139903692519296 deprecation.py:506] From /usr/local/lib/python3.6/dist-packages/keras/backend/tensorflow_backend.py:3445: calling dropout (from tensorflow.python.ops.nn_ops) with keep_prob is deprecated and will be removed in a future version.\n",
            "Instructions for updating:\n",
            "Please use `rate` instead of `keep_prob`. Rate should be set to `rate = 1 - keep_prob`.\n",
            "W0618 22:25:21.072327 139903692519296 nn_ops.py:4224] Large dropout rate: 0.642 (>0.5). In TensorFlow 2.x, dropout() uses dropout rate instead of keep_prob. Please ensure that this is intended.\n",
            "W0618 22:25:21.105563 139903692519296 nn_ops.py:4224] Large dropout rate: 0.642 (>0.5). In TensorFlow 2.x, dropout() uses dropout rate instead of keep_prob. Please ensure that this is intended.\n",
            "W0618 22:25:21.137030 139903692519296 nn_ops.py:4224] Large dropout rate: 0.749 (>0.5). In TensorFlow 2.x, dropout() uses dropout rate instead of keep_prob. Please ensure that this is intended.\n",
            "W0618 22:25:21.176102 139903692519296 deprecation_wrapper.py:119] From /usr/local/lib/python3.6/dist-packages/keras/optimizers.py:790: The name tf.train.Optimizer is deprecated. Please use tf.compat.v1.train.Optimizer instead.\n",
            "\n",
            "W0618 22:25:21.186330 139903692519296 deprecation.py:323] From /usr/local/lib/python3.6/dist-packages/tensorflow/python/ops/nn_impl.py:180: add_dispatch_support.<locals>.wrapper (from tensorflow.python.ops.array_ops) is deprecated and will be removed in a future version.\n",
            "Instructions for updating:\n",
            "Use tf.where in 2.0, which has the same broadcast rule as np.where\n"
          ],
          "name": "stderr"
        },
        {
          "output_type": "stream",
          "text": [
            "__________________________________________________________________________________________________\n",
            "Layer (type)                    Output Shape         Param #     Connected to                     \n",
            "==================================================================================================\n",
            "input_1 (InputLayer)            (None, 50)           0                                            \n",
            "__________________________________________________________________________________________________\n",
            "embedding_1 (Embedding)         (None, 50, 200)      6026200     input_1[0][0]                    \n",
            "__________________________________________________________________________________________________\n",
            "dropout_1 (Dropout)             (None, 50, 200)      0           embedding_1[0][0]                \n",
            "__________________________________________________________________________________________________\n",
            "dropout_2 (Dropout)             (None, 50, 200)      0           dropout_1[0][0]                  \n",
            "__________________________________________________________________________________________________\n",
            "lstm_1 (LSTM)                   (None, 50, 80)       89920       dropout_2[0][0]                  \n",
            "__________________________________________________________________________________________________\n",
            "lstm_3 (LSTM)                   (None, 50, 80)       89920       dropout_2[0][0]                  \n",
            "__________________________________________________________________________________________________\n",
            "dropout_3 (Dropout)             (None, 50, 80)       0           lstm_1[0][0]                     \n",
            "__________________________________________________________________________________________________\n",
            "dropout_5 (Dropout)             (None, 50, 80)       0           lstm_3[0][0]                     \n",
            "__________________________________________________________________________________________________\n",
            "dropout_4 (Dropout)             (None, 50, 80)       0           dropout_3[0][0]                  \n",
            "__________________________________________________________________________________________________\n",
            "dropout_6 (Dropout)             (None, 50, 80)       0           dropout_5[0][0]                  \n",
            "__________________________________________________________________________________________________\n",
            "lstm_2 (LSTM)                   (None, 80)           51520       dropout_4[0][0]                  \n",
            "__________________________________________________________________________________________________\n",
            "lstm_4 (LSTM)                   (None, 80)           51520       dropout_6[0][0]                  \n",
            "__________________________________________________________________________________________________\n",
            "concatenate_1 (Concatenate)     (None, 160)          0           lstm_2[0][0]                     \n",
            "                                                                 lstm_4[0][0]                     \n",
            "__________________________________________________________________________________________________\n",
            "dropout_7 (Dropout)             (None, 160)          0           concatenate_1[0][0]              \n",
            "__________________________________________________________________________________________________\n",
            "dropout_8 (Dropout)             (None, 160)          0           concatenate_1[0][0]              \n",
            "__________________________________________________________________________________________________\n",
            "dense_1 (Dense)                 (None, 40)           6440        dropout_7[0][0]                  \n",
            "__________________________________________________________________________________________________\n",
            "dense_2 (Dense)                 (None, 40)           6440        dropout_8[0][0]                  \n",
            "__________________________________________________________________________________________________\n",
            "concatenate_2 (Concatenate)     (None, 240)          0           concatenate_1[0][0]              \n",
            "                                                                 dense_1[0][0]                    \n",
            "                                                                 dense_2[0][0]                    \n",
            "__________________________________________________________________________________________________\n",
            "dropout_9 (Dropout)             (None, 240)          0           concatenate_2[0][0]              \n",
            "__________________________________________________________________________________________________\n",
            "dense_3 (Dense)                 (None, 1)            241         dropout_9[0][0]                  \n",
            "==================================================================================================\n",
            "Total params: 6,322,201\n",
            "Trainable params: 296,001\n",
            "Non-trainable params: 6,026,200\n",
            "__________________________________________________________________________________________________\n"
          ],
          "name": "stdout"
        }
      ]
    },
    {
      "cell_type": "code",
      "metadata": {
        "id": "ahWwgKxU2BgX",
        "colab_type": "code",
        "outputId": "d40fe7f9-0624-4f8c-c7fe-96fa8addd30b",
        "colab": {
          "base_uri": "https://localhost:8080/",
          "height": 357
        }
      },
      "source": [
        "model.layers"
      ],
      "execution_count": 15,
      "outputs": [
        {
          "output_type": "execute_result",
          "data": {
            "text/plain": [
              "[<keras.engine.input_layer.InputLayer at 0x7f3d85cfc2e8>,\n",
              " <keras.layers.embeddings.Embedding at 0x7f3d85cfc320>,\n",
              " <keras.layers.core.Dropout at 0x7f3d85cfc828>,\n",
              " <keras.layers.core.Dropout at 0x7f3d85cfc2b0>,\n",
              " <keras.layers.recurrent.LSTM at 0x7f3d85cfc710>,\n",
              " <keras.layers.recurrent.LSTM at 0x7f3d7815bf60>,\n",
              " <keras.layers.core.Dropout at 0x7f3d85cfc4e0>,\n",
              " <keras.layers.core.Dropout at 0x7f3d704e5fd0>,\n",
              " <keras.layers.core.Dropout at 0x7f3d78129f98>,\n",
              " <keras.layers.core.Dropout at 0x7f3d7012f748>,\n",
              " <keras.layers.recurrent.LSTM at 0x7f3d78175d68>,\n",
              " <keras.layers.recurrent.LSTM at 0x7f3d7012fef0>,\n",
              " <keras.layers.merge.Concatenate at 0x7f3d7012feb8>,\n",
              " <keras.layers.core.Dropout at 0x7f3d2c356c18>,\n",
              " <keras.layers.core.Dropout at 0x7f3d196db0b8>,\n",
              " <keras.layers.core.Dense at 0x7f3d7052c0f0>,\n",
              " <keras.layers.core.Dense at 0x7f3d197ec5c0>,\n",
              " <keras.layers.merge.Concatenate at 0x7f3d197ec588>,\n",
              " <keras.layers.core.Dropout at 0x7f3d196b6cc0>,\n",
              " <keras.layers.core.Dense at 0x7f3d2c392be0>]"
            ]
          },
          "metadata": {
            "tags": []
          },
          "execution_count": 15
        }
      ]
    },
    {
      "cell_type": "code",
      "metadata": {
        "id": "ATBuyXs8PIJr",
        "colab_type": "code",
        "outputId": "373598eb-7f52-44d8-c2c9-d45729291177",
        "colab": {
          "base_uri": "https://localhost:8080/",
          "height": 921
        }
      },
      "source": [
        "# Fit the frozen model\n",
        "\n",
        "model.fit(docs_train, train_label, epochs=frozen_epochs, \n",
        "          validation_data=(docs_valid, valid_label), batch_size=batchsize)"
      ],
      "execution_count": 16,
      "outputs": [
        {
          "output_type": "stream",
          "text": [
            "Train on 34146 samples, validate on 10914 samples\n",
            "Epoch 1/25\n",
            "34146/34146 [==============================] - 30s 877us/step - loss: 0.6957 - acc: 0.5254 - val_loss: 0.6762 - val_acc: 0.5754\n",
            "Epoch 2/25\n",
            "34146/34146 [==============================] - 26s 753us/step - loss: 0.6826 - acc: 0.5613 - val_loss: 0.6662 - val_acc: 0.5926\n",
            "Epoch 3/25\n",
            "34146/34146 [==============================] - 25s 746us/step - loss: 0.6779 - acc: 0.5744 - val_loss: 0.6626 - val_acc: 0.5983\n",
            "Epoch 4/25\n",
            "34146/34146 [==============================] - 25s 744us/step - loss: 0.6738 - acc: 0.5799 - val_loss: 0.6608 - val_acc: 0.5995\n",
            "Epoch 5/25\n",
            "34146/34146 [==============================] - 26s 748us/step - loss: 0.6718 - acc: 0.5867 - val_loss: 0.6610 - val_acc: 0.6023\n",
            "Epoch 6/25\n",
            "34146/34146 [==============================] - 25s 742us/step - loss: 0.6704 - acc: 0.5862 - val_loss: 0.6613 - val_acc: 0.5996\n",
            "Epoch 7/25\n",
            "34146/34146 [==============================] - 25s 735us/step - loss: 0.6704 - acc: 0.5886 - val_loss: 0.6597 - val_acc: 0.6012\n",
            "Epoch 8/25\n",
            "34146/34146 [==============================] - 25s 732us/step - loss: 0.6696 - acc: 0.5875 - val_loss: 0.6586 - val_acc: 0.6046\n",
            "Epoch 9/25\n",
            "34146/34146 [==============================] - 25s 740us/step - loss: 0.6686 - acc: 0.5904 - val_loss: 0.6604 - val_acc: 0.6003\n",
            "Epoch 10/25\n",
            "34146/34146 [==============================] - 25s 732us/step - loss: 0.6680 - acc: 0.5880 - val_loss: 0.6573 - val_acc: 0.6083\n",
            "Epoch 11/25\n",
            "34146/34146 [==============================] - 25s 730us/step - loss: 0.6666 - acc: 0.5935 - val_loss: 0.6575 - val_acc: 0.6070\n",
            "Epoch 12/25\n",
            "34146/34146 [==============================] - 25s 741us/step - loss: 0.6656 - acc: 0.5912 - val_loss: 0.6561 - val_acc: 0.6067\n",
            "Epoch 13/25\n",
            "34146/34146 [==============================] - 25s 737us/step - loss: 0.6658 - acc: 0.5936 - val_loss: 0.6562 - val_acc: 0.6092\n",
            "Epoch 14/25\n",
            "34146/34146 [==============================] - 26s 749us/step - loss: 0.6652 - acc: 0.5949 - val_loss: 0.6561 - val_acc: 0.6077\n",
            "Epoch 15/25\n",
            "34146/34146 [==============================] - 26s 751us/step - loss: 0.6649 - acc: 0.5948 - val_loss: 0.6557 - val_acc: 0.6084\n",
            "Epoch 16/25\n",
            "34146/34146 [==============================] - 25s 747us/step - loss: 0.6623 - acc: 0.5985 - val_loss: 0.6566 - val_acc: 0.6065\n",
            "Epoch 17/25\n",
            "34146/34146 [==============================] - 25s 745us/step - loss: 0.6625 - acc: 0.5982 - val_loss: 0.6544 - val_acc: 0.6066\n",
            "Epoch 18/25\n",
            "34146/34146 [==============================] - 26s 756us/step - loss: 0.6644 - acc: 0.5940 - val_loss: 0.6539 - val_acc: 0.6108\n",
            "Epoch 19/25\n",
            "34146/34146 [==============================] - 26s 761us/step - loss: 0.6626 - acc: 0.5993 - val_loss: 0.6551 - val_acc: 0.6117\n",
            "Epoch 20/25\n",
            "34146/34146 [==============================] - 26s 754us/step - loss: 0.6610 - acc: 0.6022 - val_loss: 0.6529 - val_acc: 0.6130\n",
            "Epoch 21/25\n",
            "34146/34146 [==============================] - 26s 760us/step - loss: 0.6611 - acc: 0.5995 - val_loss: 0.6541 - val_acc: 0.6134\n",
            "Epoch 22/25\n",
            "34146/34146 [==============================] - 26s 762us/step - loss: 0.6593 - acc: 0.6054 - val_loss: 0.6550 - val_acc: 0.6073\n",
            "Epoch 23/25\n",
            "34146/34146 [==============================] - 26s 757us/step - loss: 0.6613 - acc: 0.5991 - val_loss: 0.6549 - val_acc: 0.6094\n",
            "Epoch 24/25\n",
            "34146/34146 [==============================] - 26s 760us/step - loss: 0.6601 - acc: 0.6007 - val_loss: 0.6539 - val_acc: 0.6107\n",
            "Epoch 25/25\n",
            "34146/34146 [==============================] - 26s 764us/step - loss: 0.6586 - acc: 0.6036 - val_loss: 0.6531 - val_acc: 0.6120\n"
          ],
          "name": "stdout"
        },
        {
          "output_type": "execute_result",
          "data": {
            "text/plain": [
              "<keras.callbacks.History at 0x7f3d91194358>"
            ]
          },
          "metadata": {
            "tags": []
          },
          "execution_count": 16
        }
      ]
    },
    {
      "cell_type": "code",
      "metadata": {
        "id": "MY-pnpQY3aL7",
        "colab_type": "code",
        "outputId": "1182cb70-f22c-4cd4-f691-1fddd57881e8",
        "colab": {
          "base_uri": "https://localhost:8080/",
          "height": 357
        }
      },
      "source": [
        "[(l.name, l.trainable) for l in model.layers]"
      ],
      "execution_count": 17,
      "outputs": [
        {
          "output_type": "execute_result",
          "data": {
            "text/plain": [
              "[('input_1', False),\n",
              " ('embedding_1', False),\n",
              " ('dropout_1', True),\n",
              " ('dropout_2', True),\n",
              " ('lstm_1', True),\n",
              " ('lstm_3', True),\n",
              " ('dropout_3', True),\n",
              " ('dropout_5', True),\n",
              " ('dropout_4', True),\n",
              " ('dropout_6', True),\n",
              " ('lstm_2', True),\n",
              " ('lstm_4', True),\n",
              " ('concatenate_1', True),\n",
              " ('dropout_7', True),\n",
              " ('dropout_8', True),\n",
              " ('dense_1', True),\n",
              " ('dense_2', True),\n",
              " ('concatenate_2', True),\n",
              " ('dropout_9', True),\n",
              " ('dense_3', True)]"
            ]
          },
          "metadata": {
            "tags": []
          },
          "execution_count": 17
        }
      ]
    },
    {
      "cell_type": "code",
      "metadata": {
        "id": "MkW7g59L4RtL",
        "colab_type": "code",
        "outputId": "36313ed0-c4da-41df-e13c-06eab232e3be",
        "colab": {
          "base_uri": "https://localhost:8080/",
          "height": 867
        }
      },
      "source": [
        "# Unfreeze the embeddings\n",
        "model.layers[1].trainable = True\n",
        "model.compile(optimizer=Adam(unfrozen_lr, decay=unfrozen_decay), \n",
        "              loss='binary_crossentropy', metrics=['acc'])\n",
        "model.summary()"
      ],
      "execution_count": 18,
      "outputs": [
        {
          "output_type": "stream",
          "text": [
            "__________________________________________________________________________________________________\n",
            "Layer (type)                    Output Shape         Param #     Connected to                     \n",
            "==================================================================================================\n",
            "input_1 (InputLayer)            (None, 50)           0                                            \n",
            "__________________________________________________________________________________________________\n",
            "embedding_1 (Embedding)         (None, 50, 200)      6026200     input_1[0][0]                    \n",
            "__________________________________________________________________________________________________\n",
            "dropout_1 (Dropout)             (None, 50, 200)      0           embedding_1[0][0]                \n",
            "__________________________________________________________________________________________________\n",
            "dropout_2 (Dropout)             (None, 50, 200)      0           dropout_1[0][0]                  \n",
            "__________________________________________________________________________________________________\n",
            "lstm_1 (LSTM)                   (None, 50, 80)       89920       dropout_2[0][0]                  \n",
            "__________________________________________________________________________________________________\n",
            "lstm_3 (LSTM)                   (None, 50, 80)       89920       dropout_2[0][0]                  \n",
            "__________________________________________________________________________________________________\n",
            "dropout_3 (Dropout)             (None, 50, 80)       0           lstm_1[0][0]                     \n",
            "__________________________________________________________________________________________________\n",
            "dropout_5 (Dropout)             (None, 50, 80)       0           lstm_3[0][0]                     \n",
            "__________________________________________________________________________________________________\n",
            "dropout_4 (Dropout)             (None, 50, 80)       0           dropout_3[0][0]                  \n",
            "__________________________________________________________________________________________________\n",
            "dropout_6 (Dropout)             (None, 50, 80)       0           dropout_5[0][0]                  \n",
            "__________________________________________________________________________________________________\n",
            "lstm_2 (LSTM)                   (None, 80)           51520       dropout_4[0][0]                  \n",
            "__________________________________________________________________________________________________\n",
            "lstm_4 (LSTM)                   (None, 80)           51520       dropout_6[0][0]                  \n",
            "__________________________________________________________________________________________________\n",
            "concatenate_1 (Concatenate)     (None, 160)          0           lstm_2[0][0]                     \n",
            "                                                                 lstm_4[0][0]                     \n",
            "__________________________________________________________________________________________________\n",
            "dropout_7 (Dropout)             (None, 160)          0           concatenate_1[0][0]              \n",
            "__________________________________________________________________________________________________\n",
            "dropout_8 (Dropout)             (None, 160)          0           concatenate_1[0][0]              \n",
            "__________________________________________________________________________________________________\n",
            "dense_1 (Dense)                 (None, 40)           6440        dropout_7[0][0]                  \n",
            "__________________________________________________________________________________________________\n",
            "dense_2 (Dense)                 (None, 40)           6440        dropout_8[0][0]                  \n",
            "__________________________________________________________________________________________________\n",
            "concatenate_2 (Concatenate)     (None, 240)          0           concatenate_1[0][0]              \n",
            "                                                                 dense_1[0][0]                    \n",
            "                                                                 dense_2[0][0]                    \n",
            "__________________________________________________________________________________________________\n",
            "dropout_9 (Dropout)             (None, 240)          0           concatenate_2[0][0]              \n",
            "__________________________________________________________________________________________________\n",
            "dense_3 (Dense)                 (None, 1)            241         dropout_9[0][0]                  \n",
            "==================================================================================================\n",
            "Total params: 6,322,201\n",
            "Trainable params: 6,322,201\n",
            "Non-trainable params: 0\n",
            "__________________________________________________________________________________________________\n"
          ],
          "name": "stdout"
        }
      ]
    },
    {
      "cell_type": "code",
      "metadata": {
        "id": "yQKYvhz5Kqw8",
        "colab_type": "code",
        "outputId": "8ced6826-cd05-4f88-a9b9-efc08316d3cd",
        "colab": {
          "base_uri": "https://localhost:8080/",
          "height": 377
        }
      },
      "source": [
        "# Fit the unfrozen model\n",
        "\n",
        "model.fit(docs_train, train_label, epochs=unfrozen_epochs, \n",
        "          validation_data=(docs_valid, valid_label), batch_size=unfrozen_batchsize)"
      ],
      "execution_count": 19,
      "outputs": [
        {
          "output_type": "stream",
          "text": [
            "Train on 34146 samples, validate on 10914 samples\n",
            "Epoch 1/9\n",
            "34146/34146 [==============================] - 32s 937us/step - loss: 0.6578 - acc: 0.6033 - val_loss: 0.6530 - val_acc: 0.6116\n",
            "Epoch 2/9\n",
            "34146/34146 [==============================] - 28s 814us/step - loss: 0.6552 - acc: 0.6090 - val_loss: 0.6535 - val_acc: 0.6095\n",
            "Epoch 3/9\n",
            "34146/34146 [==============================] - 28s 810us/step - loss: 0.6554 - acc: 0.6080 - val_loss: 0.6529 - val_acc: 0.6119\n",
            "Epoch 4/9\n",
            "34146/34146 [==============================] - 27s 802us/step - loss: 0.6538 - acc: 0.6093 - val_loss: 0.6526 - val_acc: 0.6127\n",
            "Epoch 5/9\n",
            "34146/34146 [==============================] - 28s 808us/step - loss: 0.6529 - acc: 0.6112 - val_loss: 0.6526 - val_acc: 0.6147\n",
            "Epoch 6/9\n",
            "34146/34146 [==============================] - 27s 803us/step - loss: 0.6502 - acc: 0.6175 - val_loss: 0.6533 - val_acc: 0.6130\n",
            "Epoch 7/9\n",
            "34146/34146 [==============================] - 28s 806us/step - loss: 0.6503 - acc: 0.6157 - val_loss: 0.6525 - val_acc: 0.6163\n",
            "Epoch 8/9\n",
            "34146/34146 [==============================] - 28s 812us/step - loss: 0.6490 - acc: 0.6157 - val_loss: 0.6529 - val_acc: 0.6164\n",
            "Epoch 9/9\n",
            "34146/34146 [==============================] - 27s 803us/step - loss: 0.6505 - acc: 0.6179 - val_loss: 0.6520 - val_acc: 0.6136\n"
          ],
          "name": "stdout"
        },
        {
          "output_type": "execute_result",
          "data": {
            "text/plain": [
              "<keras.callbacks.History at 0x7f3d16c937f0>"
            ]
          },
          "metadata": {
            "tags": []
          },
          "execution_count": 19
        }
      ]
    },
    {
      "cell_type": "code",
      "metadata": {
        "id": "jGKTleLcixRy",
        "colab_type": "code",
        "colab": {}
      },
      "source": [
        "if do_save_activations:\n",
        "  # Not fully implemented yet\n",
        "  inp = model.input\n",
        "  embeddings = model.layers[1].output\n",
        "  get_embeddings = K.function([inp],[embeddings])"
      ],
      "execution_count": 0,
      "outputs": []
    },
    {
      "cell_type": "code",
      "metadata": {
        "id": "kXtDk-vh5tmL",
        "colab_type": "code",
        "colab": {}
      },
      "source": [
        ""
      ],
      "execution_count": 0,
      "outputs": []
    }
  ]
}