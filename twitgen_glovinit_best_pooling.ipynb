{
 "cells": [
  {
   "cell_type": "code",
   "execution_count": 1,
   "metadata": {
    "colab": {
     "base_uri": "https://localhost:8080/",
     "height": 122
    },
    "colab_type": "code",
    "id": "Ax4RdzBXu65o",
    "outputId": "7aac061f-8764-4463-8e4f-9b2cd76d083a"
   },
   "outputs": [],
   "source": [
    "do_mount=False\n",
    "if do_mount:\n",
    "  from google.colab import drive\n",
    "  drive.mount('/content/gdrive')"
   ]
  },
  {
   "cell_type": "code",
   "execution_count": 2,
   "metadata": {
    "colab": {},
    "colab_type": "code",
    "id": "Hg5Y784oysWW"
   },
   "outputs": [],
   "source": [
    "# Parameters\n",
    "do_save_activations = True\n",
    "do_save_model = True\n",
    "\n",
    "TRAIN_INPUT = 'twitgen_train_201906011956.csv'\n",
    "VALID_INPUT = 'twitgen_valid_201906011956.csv'\n",
    "TEST_INPUT = 'twitgen_test_201906011956.csv'\n",
    "EMBEDDING_DIM = 200\n",
    "MAXLEN = 50  # Maximum number of words per tweet that will be processed"
   ]
  },
  {
   "cell_type": "code",
   "execution_count": 3,
   "metadata": {
    "colab": {},
    "colab_type": "code",
    "id": "x-H3ypYSfqro"
   },
   "outputs": [],
   "source": [
    "basepath = '../data/'\n",
    "glovefile = 'glove.twitter.27B.200d.txt.gz'\n",
    "glovepath = basepath + glovefile"
   ]
  },
  {
   "cell_type": "code",
   "execution_count": 4,
   "metadata": {
    "colab": {
     "base_uri": "https://localhost:8080/",
     "height": 85
    },
    "colab_type": "code",
    "id": "ZTHMDATrw2or",
    "outputId": "4f5c5a98-03fe-43f9-96ef-704582e72cc8"
   },
   "outputs": [],
   "source": [
    "if do_mount:\n",
    "  # Get the embedding initialization file\n",
    "  !cp '$glovepath' .\n",
    "  !gunzip $glovefile\n",
    "  !ls -l"
   ]
  },
  {
   "cell_type": "code",
   "execution_count": 5,
   "metadata": {
    "colab": {
     "base_uri": "https://localhost:8080/",
     "height": 51
    },
    "colab_type": "code",
    "id": "Ki5FWLkTycV4",
    "outputId": "7bebb843-ae65-4df7-d256-d21ba8353dc5"
   },
   "outputs": [
    {
     "name": "stderr",
     "output_type": "stream",
     "text": [
      "Using TensorFlow backend.\n"
     ]
    },
    {
     "data": {
      "text/plain": [
       "'2.2.4'"
      ]
     },
     "execution_count": 5,
     "metadata": {},
     "output_type": "execute_result"
    }
   ],
   "source": [
    "import tensorflow as tf\n",
    "import pandas as pd\n",
    "import os\n",
    "import re\n",
    "import keras\n",
    "from keras import backend as K\n",
    "import keras.layers as layers\n",
    "from keras.models import Model, load_model\n",
    "from keras.engine import Layer\n",
    "from keras.optimizers import Adam, Adagrad\n",
    "from keras.preprocessing.text import Tokenizer\n",
    "from keras.preprocessing.sequence import pad_sequences\n",
    "import numpy as np\n",
    "from datetime import datetime\n",
    "import string\n",
    "\n",
    "keras.__version__"
   ]
  },
  {
   "cell_type": "code",
   "execution_count": 6,
   "metadata": {
    "colab": {
     "base_uri": "https://localhost:8080/",
     "height": 235
    },
    "colab_type": "code",
    "id": "diA4mf7rx5dG",
    "outputId": "f2df784d-6d4f-4cf8-d186-c2f9913713fe"
   },
   "outputs": [
    {
     "data": {
      "text/html": [
       "<div>\n",
       "<style scoped>\n",
       "    .dataframe tbody tr th:only-of-type {\n",
       "        vertical-align: middle;\n",
       "    }\n",
       "\n",
       "    .dataframe tbody tr th {\n",
       "        vertical-align: top;\n",
       "    }\n",
       "\n",
       "    .dataframe thead th {\n",
       "        text-align: right;\n",
       "    }\n",
       "</style>\n",
       "<table border=\"1\" class=\"dataframe\">\n",
       "  <thead>\n",
       "    <tr style=\"text-align: right;\">\n",
       "      <th></th>\n",
       "      <th></th>\n",
       "      <th>text</th>\n",
       "      <th>male</th>\n",
       "    </tr>\n",
       "    <tr>\n",
       "      <th>id</th>\n",
       "      <th>time</th>\n",
       "      <th></th>\n",
       "      <th></th>\n",
       "    </tr>\n",
       "  </thead>\n",
       "  <tbody>\n",
       "    <tr>\n",
       "      <th>1083596943807393792</th>\n",
       "      <th>2019-05-27 23:27:08+00:00</th>\n",
       "      <td>Ah, the Flat Earth gambit.\\nWell played.</td>\n",
       "      <td>True</td>\n",
       "    </tr>\n",
       "    <tr>\n",
       "      <th>815783987784187904</th>\n",
       "      <th>2019-05-24 15:36:01+00:00</th>\n",
       "      <td>Aw ily</td>\n",
       "      <td>False</td>\n",
       "    </tr>\n",
       "    <tr>\n",
       "      <th>3458239641</th>\n",
       "      <th>2019-05-24 19:00:37+00:00</th>\n",
       "      <td>I hate being sick</td>\n",
       "      <td>False</td>\n",
       "    </tr>\n",
       "    <tr>\n",
       "      <th>1003729876250226688</th>\n",
       "      <th>2019-05-26 12:53:00+00:00</th>\n",
       "      <td>You still didn't' do shit tho. Slow down the...</td>\n",
       "      <td>True</td>\n",
       "    </tr>\n",
       "    <tr>\n",
       "      <th>2360143940</th>\n",
       "      <th>2019-05-28 03:50:46+00:00</th>\n",
       "      <td>Harriet Tubman may not be on the $20 bill... f...</td>\n",
       "      <td>False</td>\n",
       "    </tr>\n",
       "  </tbody>\n",
       "</table>\n",
       "</div>"
      ],
      "text/plain": [
       "                                                                                            text  \\\n",
       "id                  time                                                                           \n",
       "1083596943807393792 2019-05-27 23:27:08+00:00           Ah, the Flat Earth gambit.\\nWell played.   \n",
       "815783987784187904  2019-05-24 15:36:01+00:00                                             Aw ily   \n",
       "3458239641          2019-05-24 19:00:37+00:00                                  I hate being sick   \n",
       "1003729876250226688 2019-05-26 12:53:00+00:00    You still didn't' do shit tho. Slow down the...   \n",
       "2360143940          2019-05-28 03:50:46+00:00  Harriet Tubman may not be on the $20 bill... f...   \n",
       "\n",
       "                                                male  \n",
       "id                  time                              \n",
       "1083596943807393792 2019-05-27 23:27:08+00:00   True  \n",
       "815783987784187904  2019-05-24 15:36:01+00:00  False  \n",
       "3458239641          2019-05-24 19:00:37+00:00  False  \n",
       "1003729876250226688 2019-05-26 12:53:00+00:00   True  \n",
       "2360143940          2019-05-28 03:50:46+00:00  False  "
      ]
     },
     "execution_count": 6,
     "metadata": {},
     "output_type": "execute_result"
    }
   ],
   "source": [
    "# Read in the data\n",
    "df_train = pd.read_csv(basepath+TRAIN_INPUT, index_col=['id','time'], parse_dates=['time'])\n",
    "df_valid = pd.read_csv(basepath+VALID_INPUT, index_col=['id','time'], parse_dates=['time'])\n",
    "df_test = pd.read_csv(basepath+TEST_INPUT, index_col=['id','time'], parse_dates=['time'])\n",
    "df_train.head()"
   ]
  },
  {
   "cell_type": "code",
   "execution_count": 7,
   "metadata": {
    "colab": {
     "base_uri": "https://localhost:8080/",
     "height": 34
    },
    "colab_type": "code",
    "id": "tiWLlkKOx_G2",
    "outputId": "fc6dbe92-cd51-44c0-980c-25fe2a6dce7d"
   },
   "outputs": [
    {
     "data": {
      "text/plain": [
       "(34, 30, 31)"
      ]
     },
     "execution_count": 7,
     "metadata": {},
     "output_type": "execute_result"
    }
   ],
   "source": [
    "# Maximum number of words per tweet in each data set\n",
    "(df_train.text.str.split().apply(len).max(), \n",
    " df_valid.text.str.split().apply(len).max(),\n",
    " df_test.text.str.split().apply(len).max())"
   ]
  },
  {
   "cell_type": "code",
   "execution_count": 8,
   "metadata": {
    "colab": {},
    "colab_type": "code",
    "id": "TYo_WNX3x_PO"
   },
   "outputs": [],
   "source": [
    "# Text Normalization function\n",
    "\n",
    "# Taken from \n",
    "# https://medium.com/@sabber/classifying-yelp-review-comments-using-lstm-and-word-embeddings-part-1-eb2275e4066b\n",
    "# which was taken from https://www.kaggle.com/lystdo/lstm-with-word2vec-embeddings\n",
    "# but this version no longer does stemming or stop word elmination\n",
    "\n",
    "# This is for general text, not Twitter-specific.\n",
    "# Maybe would get a better classifier if we used a Python transaltion of this:\n",
    "# https://nlp.stanford.edu/projects/glove/preprocess-twitter.rb\n",
    "# but that is arguably outside the scope of this project\n",
    "# and my initial attempts to use Twitter-specific preprocessing have been unsuccessful\n",
    "\n",
    "\n",
    "def clean_text(text):\n",
    "    \n",
    "    ## Remove puncuation\n",
    "    text = text.translate(string.punctuation)\n",
    "    \n",
    "    ## Convert words to lower case and split them\n",
    "    text = text.lower().split()\n",
    "    \n",
    "    text = \" \".join(text)\n",
    "    ## Clean the text\n",
    "    text = re.sub(r\"[^A-Za-z0-9^,!.\\/'+-=]\", \" \", text)\n",
    "    text = re.sub(r\"what's\", \"what is \", text)\n",
    "    text = re.sub(r\"\\'s\", \" \", text)\n",
    "    text = re.sub(r\"\\'ve\", \" have \", text)\n",
    "    text = re.sub(r\"n't\", \" not \", text)\n",
    "    text = re.sub(r\"i'm\", \"i am \", text)\n",
    "    text = re.sub(r\"\\'re\", \" are \", text)\n",
    "    text = re.sub(r\"\\'d\", \" would \", text)\n",
    "    text = re.sub(r\"\\'ll\", \" will \", text)\n",
    "    text = re.sub(r\",\", \" \", text)\n",
    "    text = re.sub(r\"\\.\", \" \", text)\n",
    "    text = re.sub(r\"!\", \" ! \", text)\n",
    "    text = re.sub(r\"\\/\", \" \", text)\n",
    "    text = re.sub(r\"\\^\", \" ^ \", text)\n",
    "    text = re.sub(r\"\\+\", \" + \", text)\n",
    "    text = re.sub(r\"\\-\", \" - \", text)\n",
    "    text = re.sub(r\"\\=\", \" = \", text)\n",
    "    text = re.sub(r\"'\", \" \", text)\n",
    "    text = re.sub(r\"(\\d+)(k)\", r\"\\g<1>000\", text)\n",
    "    text = re.sub(r\":\", \" : \", text)\n",
    "    text = re.sub(r\" e g \", \" eg \", text)\n",
    "    text = re.sub(r\" b g \", \" bg \", text)\n",
    "    text = re.sub(r\" u s \", \" american \", text)\n",
    "    text = re.sub(r\"\\0s\", \"0\", text)\n",
    "    text = re.sub(r\" 9 11 \", \"911\", text)\n",
    "    text = re.sub(r\"e - mail\", \"email\", text)\n",
    "    text = re.sub(r\"j k\", \"jk\", text)\n",
    "    text = re.sub(r\"\\s{2,}\", \" \", text)\n",
    "\n",
    "    return text\n"
   ]
  },
  {
   "cell_type": "code",
   "execution_count": 9,
   "metadata": {
    "colab": {
     "base_uri": "https://localhost:8080/",
     "height": 34
    },
    "colab_type": "code",
    "id": "d1bOaiLe-Cwq",
    "outputId": "b2045bfd-c9c6-4a2c-d4d4-0e22a03a1895"
   },
   "outputs": [
    {
     "data": {
      "text/plain": [
       "(47, 42, 42)"
      ]
     },
     "execution_count": 9,
     "metadata": {},
     "output_type": "execute_result"
    }
   ],
   "source": [
    "# Process the data for model input\n",
    "def get_texts_and_labels(df):\n",
    "  texts = df['text'].map(lambda x: clean_text(x)).tolist()\n",
    "  texts = [t.split()[0:MAXLEN] for t in texts]\n",
    "  labels = df['male'].tolist()\n",
    "  return texts, labels\n",
    "\n",
    "train_text, train_label = get_texts_and_labels(df_train)\n",
    "valid_text, valid_label = get_texts_and_labels(df_valid)\n",
    "test_text, test_label = get_texts_and_labels(df_test)\n",
    "\n",
    "max([len(x) for x in train_text]), max([len(x) for x in valid_text]), max([len(x) for x in test_text])"
   ]
  },
  {
   "cell_type": "code",
   "execution_count": 10,
   "metadata": {
    "colab": {},
    "colab_type": "code",
    "id": "HGxYN53F8chY"
   },
   "outputs": [],
   "source": [
    "# Fit tokenizer on training data\n",
    "tok = Tokenizer()\n",
    "tok.fit_on_texts(train_text)\n",
    "vocab_size = len(tok.word_index) + 1"
   ]
  },
  {
   "cell_type": "code",
   "execution_count": 11,
   "metadata": {
    "colab": {
     "base_uri": "https://localhost:8080/",
     "height": 68
    },
    "colab_type": "code",
    "id": "5FVpEPUM9M9D",
    "outputId": "54e8bb7b-1f54-4cdf-dbfa-60bf86e3d1af"
   },
   "outputs": [
    {
     "name": "stdout",
     "output_type": "stream",
     "text": [
      "<class 'numpy.ndarray'> 34146 10914 10450\n"
     ]
    },
    {
     "data": {
      "text/plain": [
       "array([  956,     1,  4035,  1154, 13312,     8,    98,   732,     0,\n",
       "           0], dtype=int32)"
      ]
     },
     "execution_count": 11,
     "metadata": {},
     "output_type": "execute_result"
    }
   ],
   "source": [
    "# Tokenize the data\n",
    "def get_tokenized_texts(texts):\n",
    "  encoded_docs = tok.texts_to_sequences(texts)\n",
    "  padded_docs = pad_sequences(encoded_docs, maxlen=MAXLEN, padding='post')\n",
    "  return padded_docs\n",
    "\n",
    "docs_train = get_tokenized_texts(train_text)\n",
    "docs_valid = get_tokenized_texts(valid_text)\n",
    "docs_test = get_tokenized_texts(test_text)\n",
    "\n",
    "print(type(docs_train), len(docs_train), len(docs_valid), len(docs_test))\n",
    "docs_train[0][:10]"
   ]
  },
  {
   "cell_type": "code",
   "execution_count": 12,
   "metadata": {
    "colab": {
     "base_uri": "https://localhost:8080/",
     "height": 34
    },
    "colab_type": "code",
    "id": "i6x12xlm8ckN",
    "outputId": "e34932c9-d209-406d-9525-d5819f0537a7"
   },
   "outputs": [
    {
     "name": "stdout",
     "output_type": "stream",
     "text": [
      "Loaded 1193514 word vectors.\n"
     ]
    }
   ],
   "source": [
    "# Load the whole embedding into memory\n",
    "embeddings_index = dict()\n",
    "f = open(glovefile[:-3])\n",
    "for line in f:\n",
    "\tvalues = line.split()\n",
    "\tword = values[0]\n",
    "\tcoefs = np.asarray(values[1:], dtype='float32')\n",
    "\tembeddings_index[word] = coefs\n",
    "f.close()\n",
    "print('Loaded %s word vectors.' % len(embeddings_index))"
   ]
  },
  {
   "cell_type": "code",
   "execution_count": 13,
   "metadata": {
    "colab": {},
    "colab_type": "code",
    "id": "JXkU0hx6JoXx"
   },
   "outputs": [],
   "source": [
    "# Create a weight matrix for words in training docs\n",
    "embedding_matrix = np.zeros((vocab_size, EMBEDDING_DIM))\n",
    "for word, i in tok.word_index.items():\n",
    "\tembedding_vector = embeddings_index.get(word)\n",
    "\tif embedding_vector is not None:\n",
    "\t\tembedding_matrix[i] = embedding_vector"
   ]
  },
  {
   "cell_type": "code",
   "execution_count": 14,
   "metadata": {
    "colab": {
     "base_uri": "https://localhost:8080/",
     "height": 1261
    },
    "colab_type": "code",
    "id": "pTM8vFvYvrBQ",
    "outputId": "aa99105b-6c81-4430-887f-c3156abff74d"
   },
   "outputs": [
    {
     "name": "stdout",
     "output_type": "stream",
     "text": [
      "WARNING:tensorflow:From /home/andy/anaconda3/envs/tf1/lib/python3.7/site-packages/tensorflow/python/framework/op_def_library.py:263: colocate_with (from tensorflow.python.framework.ops) is deprecated and will be removed in a future version.\n",
      "Instructions for updating:\n",
      "Colocations handled automatically by placer.\n",
      "WARNING:tensorflow:From /home/andy/anaconda3/envs/tf1/lib/python3.7/site-packages/keras/backend/tensorflow_backend.py:3445: calling dropout (from tensorflow.python.ops.nn_ops) with keep_prob is deprecated and will be removed in a future version.\n",
      "Instructions for updating:\n",
      "Please use `rate` instead of `keep_prob`. Rate should be set to `rate = 1 - keep_prob`.\n",
      "__________________________________________________________________________________________________\n",
      "Layer (type)                    Output Shape         Param #     Connected to                     \n",
      "==================================================================================================\n",
      "input_1 (InputLayer)            (None, 50)           0                                            \n",
      "__________________________________________________________________________________________________\n",
      "embedding_1 (Embedding)         (None, 50, 200)      6026200     input_1[0][0]                    \n",
      "__________________________________________________________________________________________________\n",
      "dropout_1 (Dropout)             (None, 50, 200)      0           embedding_1[0][0]                \n",
      "__________________________________________________________________________________________________\n",
      "dropout_2 (Dropout)             (None, 50, 200)      0           dropout_1[0][0]                  \n",
      "__________________________________________________________________________________________________\n",
      "lambda_1 (Lambda)               (None, 50, 200)      0           dropout_2[0][0]                  \n",
      "__________________________________________________________________________________________________\n",
      "global_max_pooling1d_1 (GlobalM (None, 200)          0           dropout_2[0][0]                  \n",
      "__________________________________________________________________________________________________\n",
      "global_max_pooling1d_2 (GlobalM (None, 200)          0           lambda_1[0][0]                   \n",
      "__________________________________________________________________________________________________\n",
      "global_average_pooling1d_1 (Glo (None, 200)          0           dropout_2[0][0]                  \n",
      "__________________________________________________________________________________________________\n",
      "pooled (Concatenate)            (None, 600)          0           global_max_pooling1d_1[0][0]     \n",
      "                                                                 global_max_pooling1d_2[0][0]     \n",
      "                                                                 global_average_pooling1d_1[0][0] \n",
      "__________________________________________________________________________________________________\n",
      "dropout_3 (Dropout)             (None, 600)          0           pooled[0][0]                     \n",
      "__________________________________________________________________________________________________\n",
      "dense_1 (Dense)                 (None, 1)            601         dropout_3[0][0]                  \n",
      "==================================================================================================\n",
      "Total params: 6,026,801\n",
      "Trainable params: 601\n",
      "Non-trainable params: 6,026,200\n",
      "__________________________________________________________________________________________________\n"
     ]
    }
   ],
   "source": [
    "# NERUAL NETWORK MODEL\n",
    "\n",
    "# PARAMETERS\n",
    "\n",
    "batchsize = 512\n",
    "\n",
    "temporal_dropout = .2\n",
    "random_dropout = .1\n",
    "flat_dropout= .4\n",
    "\n",
    "frozen_lr = 1e-3\n",
    "frozen_decay = 1e-4\n",
    "frozen_epochs = 12\n",
    "\n",
    "unfrozen_lr = 3e-4\n",
    "unfrozen_decay = 3e-5\n",
    "unfrozen_epochs = 25\n",
    "unfrozen_batchsize = batchsize\n",
    "\n",
    "\n",
    "inputs = layers.Input((MAXLEN,), dtype=\"int32\")\n",
    "\n",
    "# EMBEDDING BLOCK\n",
    "raw_embed = layers.Embedding(vocab_size, \n",
    "                           EMBEDDING_DIM, \n",
    "                           weights=[embedding_matrix], \n",
    "                           input_length=MAXLEN, \n",
    "                           trainable=False)(inputs)\n",
    "embed_random_drop = layers.Dropout(rate=random_dropout)(raw_embed)\n",
    "embed_time_drop = layers.Dropout(rate=temporal_dropout, \n",
    "                       noise_shape=(None, MAXLEN, 1))(embed_random_drop)\n",
    "\n",
    "inversion = layers.Lambda(lambda x: -x)(embed_time_drop)\n",
    "max_pooled = layers.GlobalMaxPooling1D()(embed_time_drop)\n",
    "min_pooled = layers.GlobalMaxPooling1D()(inversion)\n",
    "av_pooled = layers.GlobalAveragePooling1D()(embed_time_drop)\n",
    "pooled = layers.merge.concatenate([max_pooled,min_pooled,av_pooled], name='pooled')\n",
    "drop_pooled = layers.Dropout(rate=flat_dropout)(pooled)\n",
    "\n",
    "pred = layers.Dense(1, activation='sigmoid')(drop_pooled)\n",
    "\n",
    "# FINAL MODEL\n",
    "model = Model(inputs=[inputs], outputs=pred)\n",
    "model.compile(optimizer=Adam(frozen_lr, decay=frozen_decay), \n",
    "              loss='binary_crossentropy', metrics=['acc'])\n",
    "model.summary()"
   ]
  },
  {
   "cell_type": "code",
   "execution_count": 15,
   "metadata": {
    "colab": {
     "base_uri": "https://localhost:8080/",
     "height": 357
    },
    "colab_type": "code",
    "id": "ahWwgKxU2BgX",
    "outputId": "45716a25-9711-4202-df2b-8802f90e1749"
   },
   "outputs": [
    {
     "data": {
      "text/plain": [
       "[<keras.engine.input_layer.InputLayer at 0x7f035cf167b8>,\n",
       " <keras.layers.embeddings.Embedding at 0x7f035cf16828>,\n",
       " <keras.layers.core.Dropout at 0x7f035cf16b38>,\n",
       " <keras.layers.core.Dropout at 0x7f035cf16c50>,\n",
       " <keras.layers.core.Lambda at 0x7f035cf16be0>,\n",
       " <keras.layers.pooling.GlobalMaxPooling1D at 0x7f035cf16c18>,\n",
       " <keras.layers.pooling.GlobalMaxPooling1D at 0x7f035cf16ef0>,\n",
       " <keras.layers.pooling.GlobalAveragePooling1D at 0x7f03598c04e0>,\n",
       " <keras.layers.merge.Concatenate at 0x7f035804e940>,\n",
       " <keras.layers.core.Dropout at 0x7f035804e400>,\n",
       " <keras.layers.core.Dense at 0x7f03598c0b38>]"
      ]
     },
     "execution_count": 15,
     "metadata": {},
     "output_type": "execute_result"
    }
   ],
   "source": [
    "model.layers"
   ]
  },
  {
   "cell_type": "code",
   "execution_count": 16,
   "metadata": {
    "colab": {
     "base_uri": "https://localhost:8080/",
     "height": 1261
    },
    "colab_type": "code",
    "id": "ATBuyXs8PIJr",
    "outputId": "aa7ee716-f92d-41c0-ee5f-711c42135071"
   },
   "outputs": [
    {
     "name": "stdout",
     "output_type": "stream",
     "text": [
      "WARNING:tensorflow:From /home/andy/anaconda3/envs/tf1/lib/python3.7/site-packages/tensorflow/python/ops/math_ops.py:3066: to_int32 (from tensorflow.python.ops.math_ops) is deprecated and will be removed in a future version.\n",
      "Instructions for updating:\n",
      "Use tf.cast instead.\n",
      "Train on 34146 samples, validate on 10914 samples\n",
      "Epoch 1/12\n",
      "34146/34146 [==============================] - 1s 23us/step - loss: 0.7505 - acc: 0.5078 - val_loss: 0.6880 - val_acc: 0.5398\n",
      "Epoch 2/12\n",
      "34146/34146 [==============================] - 0s 7us/step - loss: 0.7150 - acc: 0.5307 - val_loss: 0.6800 - val_acc: 0.5673\n",
      "Epoch 3/12\n",
      "34146/34146 [==============================] - 0s 10us/step - loss: 0.7011 - acc: 0.5445 - val_loss: 0.6760 - val_acc: 0.5802\n",
      "Epoch 4/12\n",
      "34146/34146 [==============================] - 0s 12us/step - loss: 0.6886 - acc: 0.5542 - val_loss: 0.6742 - val_acc: 0.5856\n",
      "Epoch 5/12\n",
      "34146/34146 [==============================] - 0s 9us/step - loss: 0.6836 - acc: 0.5606 - val_loss: 0.6725 - val_acc: 0.5892\n",
      "Epoch 6/12\n",
      "34146/34146 [==============================] - 0s 8us/step - loss: 0.6798 - acc: 0.5633 - val_loss: 0.6709 - val_acc: 0.5937\n",
      "Epoch 7/12\n",
      "34146/34146 [==============================] - 0s 9us/step - loss: 0.6763 - acc: 0.5716 - val_loss: 0.6701 - val_acc: 0.5957\n",
      "Epoch 8/12\n",
      "34146/34146 [==============================] - 0s 9us/step - loss: 0.6755 - acc: 0.5742 - val_loss: 0.6698 - val_acc: 0.5975\n",
      "Epoch 9/12\n",
      "34146/34146 [==============================] - 0s 9us/step - loss: 0.6747 - acc: 0.5766 - val_loss: 0.6694 - val_acc: 0.5963\n",
      "Epoch 10/12\n",
      "34146/34146 [==============================] - 0s 10us/step - loss: 0.6728 - acc: 0.5778 - val_loss: 0.6689 - val_acc: 0.6001\n",
      "Epoch 11/12\n",
      "34146/34146 [==============================] - 0s 9us/step - loss: 0.6723 - acc: 0.5812 - val_loss: 0.6686 - val_acc: 0.6016\n",
      "Epoch 12/12\n",
      "34146/34146 [==============================] - 0s 9us/step - loss: 0.6712 - acc: 0.5837 - val_loss: 0.6682 - val_acc: 0.5993\n"
     ]
    },
    {
     "data": {
      "text/plain": [
       "<keras.callbacks.History at 0x7f035cefe5c0>"
      ]
     },
     "execution_count": 16,
     "metadata": {},
     "output_type": "execute_result"
    }
   ],
   "source": [
    "# Fit the frozen model\n",
    "\n",
    "model.fit(docs_train, train_label, epochs=frozen_epochs, \n",
    "          validation_data=(docs_valid, valid_label), batch_size=batchsize)"
   ]
  },
  {
   "cell_type": "code",
   "execution_count": 17,
   "metadata": {
    "colab": {
     "base_uri": "https://localhost:8080/",
     "height": 357
    },
    "colab_type": "code",
    "id": "MY-pnpQY3aL7",
    "outputId": "4f828591-df4c-4b92-9391-b63ec834e7ad"
   },
   "outputs": [
    {
     "data": {
      "text/plain": [
       "[('input_1', False),\n",
       " ('embedding_1', False),\n",
       " ('dropout_1', True),\n",
       " ('dropout_2', True),\n",
       " ('lambda_1', True),\n",
       " ('global_max_pooling1d_1', True),\n",
       " ('global_max_pooling1d_2', True),\n",
       " ('global_average_pooling1d_1', True),\n",
       " ('pooled', True),\n",
       " ('dropout_3', True),\n",
       " ('dense_1', True)]"
      ]
     },
     "execution_count": 17,
     "metadata": {},
     "output_type": "execute_result"
    }
   ],
   "source": [
    "[(l.name, l.trainable) for l in model.layers]"
   ]
  },
  {
   "cell_type": "code",
   "execution_count": 18,
   "metadata": {
    "colab": {
     "base_uri": "https://localhost:8080/",
     "height": 867
    },
    "colab_type": "code",
    "id": "MkW7g59L4RtL",
    "outputId": "89500075-2475-444e-9f63-894b083ec74a"
   },
   "outputs": [
    {
     "name": "stdout",
     "output_type": "stream",
     "text": [
      "__________________________________________________________________________________________________\n",
      "Layer (type)                    Output Shape         Param #     Connected to                     \n",
      "==================================================================================================\n",
      "input_1 (InputLayer)            (None, 50)           0                                            \n",
      "__________________________________________________________________________________________________\n",
      "embedding_1 (Embedding)         (None, 50, 200)      6026200     input_1[0][0]                    \n",
      "__________________________________________________________________________________________________\n",
      "dropout_1 (Dropout)             (None, 50, 200)      0           embedding_1[0][0]                \n",
      "__________________________________________________________________________________________________\n",
      "dropout_2 (Dropout)             (None, 50, 200)      0           dropout_1[0][0]                  \n",
      "__________________________________________________________________________________________________\n",
      "lambda_1 (Lambda)               (None, 50, 200)      0           dropout_2[0][0]                  \n",
      "__________________________________________________________________________________________________\n",
      "global_max_pooling1d_1 (GlobalM (None, 200)          0           dropout_2[0][0]                  \n",
      "__________________________________________________________________________________________________\n",
      "global_max_pooling1d_2 (GlobalM (None, 200)          0           lambda_1[0][0]                   \n",
      "__________________________________________________________________________________________________\n",
      "global_average_pooling1d_1 (Glo (None, 200)          0           dropout_2[0][0]                  \n",
      "__________________________________________________________________________________________________\n",
      "pooled (Concatenate)            (None, 600)          0           global_max_pooling1d_1[0][0]     \n",
      "                                                                 global_max_pooling1d_2[0][0]     \n",
      "                                                                 global_average_pooling1d_1[0][0] \n",
      "__________________________________________________________________________________________________\n",
      "dropout_3 (Dropout)             (None, 600)          0           pooled[0][0]                     \n",
      "__________________________________________________________________________________________________\n",
      "dense_1 (Dense)                 (None, 1)            601         dropout_3[0][0]                  \n",
      "==================================================================================================\n",
      "Total params: 6,026,801\n",
      "Trainable params: 6,026,801\n",
      "Non-trainable params: 0\n",
      "__________________________________________________________________________________________________\n"
     ]
    }
   ],
   "source": [
    "# Unfreeze the embeddings\n",
    "model.layers[1].trainable = True\n",
    "model.compile(optimizer=Adam(unfrozen_lr, decay=unfrozen_decay), \n",
    "              loss='binary_crossentropy', metrics=['acc'])\n",
    "model.summary()"
   ]
  },
  {
   "cell_type": "code",
   "execution_count": 19,
   "metadata": {
    "colab": {
     "base_uri": "https://localhost:8080/",
     "height": 1057
    },
    "colab_type": "code",
    "id": "yQKYvhz5Kqw8",
    "outputId": "cc1c0fc1-6390-4fa5-a065-e7e0453967f8"
   },
   "outputs": [
    {
     "name": "stdout",
     "output_type": "stream",
     "text": [
      "WARNING:tensorflow:From /home/andy/anaconda3/envs/tf1/lib/python3.7/site-packages/tensorflow/python/ops/math_grad.py:102: div (from tensorflow.python.ops.math_ops) is deprecated and will be removed in a future version.\n",
      "Instructions for updating:\n",
      "Deprecated in favor of operator or tf.math.divide.\n",
      "Train on 34146 samples, validate on 10914 samples\n",
      "Epoch 1/25\n",
      "34146/34146 [==============================] - 2s 46us/step - loss: 0.6702 - acc: 0.5848 - val_loss: 0.6678 - val_acc: 0.6013\n",
      "Epoch 2/25\n",
      "34146/34146 [==============================] - 1s 23us/step - loss: 0.6696 - acc: 0.5841 - val_loss: 0.6672 - val_acc: 0.5994\n",
      "Epoch 3/25\n",
      "34146/34146 [==============================] - 1s 24us/step - loss: 0.6663 - acc: 0.5901 - val_loss: 0.6667 - val_acc: 0.6008\n",
      "Epoch 4/25\n",
      "34146/34146 [==============================] - 1s 23us/step - loss: 0.6640 - acc: 0.5945 - val_loss: 0.6658 - val_acc: 0.6010\n",
      "Epoch 5/25\n",
      "34146/34146 [==============================] - 1s 23us/step - loss: 0.6623 - acc: 0.5980 - val_loss: 0.6653 - val_acc: 0.6011\n",
      "Epoch 6/25\n",
      "34146/34146 [==============================] - 1s 23us/step - loss: 0.6590 - acc: 0.6058 - val_loss: 0.6646 - val_acc: 0.6008\n",
      "Epoch 7/25\n",
      "34146/34146 [==============================] - 1s 23us/step - loss: 0.6568 - acc: 0.6101 - val_loss: 0.6637 - val_acc: 0.6030\n",
      "Epoch 8/25\n",
      "34146/34146 [==============================] - 1s 23us/step - loss: 0.6547 - acc: 0.6119 - val_loss: 0.6630 - val_acc: 0.6012\n",
      "Epoch 9/25\n",
      "34146/34146 [==============================] - 1s 23us/step - loss: 0.6529 - acc: 0.6147 - val_loss: 0.6622 - val_acc: 0.6021\n",
      "Epoch 10/25\n",
      "34146/34146 [==============================] - 1s 23us/step - loss: 0.6483 - acc: 0.6223 - val_loss: 0.6616 - val_acc: 0.6037\n",
      "Epoch 11/25\n",
      "34146/34146 [==============================] - 1s 23us/step - loss: 0.6478 - acc: 0.6232 - val_loss: 0.6610 - val_acc: 0.6055\n",
      "Epoch 12/25\n",
      "34146/34146 [==============================] - 1s 23us/step - loss: 0.6443 - acc: 0.6263 - val_loss: 0.6604 - val_acc: 0.6054\n",
      "Epoch 13/25\n",
      "34146/34146 [==============================] - 1s 23us/step - loss: 0.6409 - acc: 0.6322 - val_loss: 0.6596 - val_acc: 0.6071\n",
      "Epoch 14/25\n",
      "34146/34146 [==============================] - 1s 23us/step - loss: 0.6374 - acc: 0.6359 - val_loss: 0.6592 - val_acc: 0.6055\n",
      "Epoch 15/25\n",
      "34146/34146 [==============================] - 1s 23us/step - loss: 0.6349 - acc: 0.6342 - val_loss: 0.6589 - val_acc: 0.6034\n",
      "Epoch 16/25\n",
      "34146/34146 [==============================] - 1s 23us/step - loss: 0.6319 - acc: 0.6428 - val_loss: 0.6585 - val_acc: 0.6076\n",
      "Epoch 17/25\n",
      "34146/34146 [==============================] - 1s 23us/step - loss: 0.6276 - acc: 0.6473 - val_loss: 0.6591 - val_acc: 0.6066\n",
      "Epoch 18/25\n",
      "34146/34146 [==============================] - 1s 22us/step - loss: 0.6254 - acc: 0.6473 - val_loss: 0.6576 - val_acc: 0.6048\n",
      "Epoch 19/25\n",
      "34146/34146 [==============================] - 1s 22us/step - loss: 0.6216 - acc: 0.6523 - val_loss: 0.6576 - val_acc: 0.6030\n",
      "Epoch 20/25\n",
      "34146/34146 [==============================] - 1s 22us/step - loss: 0.6178 - acc: 0.6569 - val_loss: 0.6574 - val_acc: 0.6029\n",
      "Epoch 21/25\n",
      "34146/34146 [==============================] - 1s 22us/step - loss: 0.6145 - acc: 0.6603 - val_loss: 0.6565 - val_acc: 0.6048\n",
      "Epoch 22/25\n",
      "34146/34146 [==============================] - 1s 22us/step - loss: 0.6092 - acc: 0.6668 - val_loss: 0.6565 - val_acc: 0.6047\n",
      "Epoch 23/25\n",
      "34146/34146 [==============================] - 1s 22us/step - loss: 0.6068 - acc: 0.6678 - val_loss: 0.6584 - val_acc: 0.5988\n",
      "Epoch 24/25\n",
      "34146/34146 [==============================] - 1s 23us/step - loss: 0.6026 - acc: 0.6704 - val_loss: 0.6566 - val_acc: 0.6050\n",
      "Epoch 25/25\n",
      "34146/34146 [==============================] - 1s 22us/step - loss: 0.5992 - acc: 0.6771 - val_loss: 0.6565 - val_acc: 0.6053\n"
     ]
    },
    {
     "data": {
      "text/plain": [
       "<keras.callbacks.History at 0x7f0350204470>"
      ]
     },
     "execution_count": 19,
     "metadata": {},
     "output_type": "execute_result"
    }
   ],
   "source": [
    "# Fit the unfrozen model\n",
    "\n",
    "model.fit(docs_train, train_label, epochs=unfrozen_epochs, \n",
    "          validation_data=(docs_valid, valid_label), batch_size=unfrozen_batchsize)"
   ]
  },
  {
   "cell_type": "code",
   "execution_count": 20,
   "metadata": {},
   "outputs": [],
   "source": [
    "timestamp = datetime.now().strftime('%Y%m%d%H%M')"
   ]
  },
  {
   "cell_type": "code",
   "execution_count": 21,
   "metadata": {},
   "outputs": [
    {
     "name": "stdout",
     "output_type": "stream",
     "text": [
      "../data/activ_train_201907041710.csv\n",
      "../data/activ_valid_201907041710.csv\n",
      "../data/activ_test_201907041710.csv\n"
     ]
    }
   ],
   "source": [
    "if do_save_activations:\n",
    "\n",
    "  inp = model.input\n",
    "  layer_name = 'pooled'\n",
    "  activations = model.get_layer(layer_name).output\n",
    "  get_activations = K.function([inp, K.learning_phase()], [activations])\n",
    "\n",
    "  def get_inference_activations(docs):\n",
    "    return(get_activations([docs, 0])[0])\n",
    "  \n",
    "  def save_activations(df, docs, split, timestamp):\n",
    "\n",
    "    split_activations = get_inference_activations(docs)\n",
    "\n",
    "    for i in range(split_activations.shape[1]):\n",
    "      df['activ'+str(i)] = (split_activations[:,i]*1e6).astype(int)\n",
    "\n",
    "    activ_file_name = basepath + 'activ_' + split + '_' + timestamp + '.csv'\n",
    "    print(activ_file_name)\n",
    "    df.drop(['text'],axis=1).to_csv(activ_file_name)\n",
    "    \n",
    "  save_activations(df_train, docs_train, 'train', timestamp)\n",
    "  save_activations(df_valid, docs_valid, 'valid', timestamp)\n",
    "  save_activations(df_test, docs_test, 'test', timestamp)\n",
    "  "
   ]
  },
  {
   "cell_type": "code",
   "execution_count": 22,
   "metadata": {},
   "outputs": [
    {
     "name": "stdout",
     "output_type": "stream",
     "text": [
      "../data/PoolModel_201907041710.h5\n"
     ]
    }
   ],
   "source": [
    "if do_save_model:\n",
    "    model_file_name = basepath + 'PoolModel_' + timestamp + '.h5'\n",
    "    model.save(model_file_name)\n",
    "    print(model_file_name)"
   ]
  }
 ],
 "metadata": {
  "accelerator": "GPU",
  "colab": {
   "collapsed_sections": [],
   "include_colab_link": true,
   "name": "twitgen_glovinit_best_dl_model",
   "provenance": [],
   "version": "0.3.2"
  },
  "kernelspec": {
   "display_name": "tf1",
   "language": "python",
   "name": "tf1"
  },
  "language_info": {
   "codemirror_mode": {
    "name": "ipython",
    "version": 3
   },
   "file_extension": ".py",
   "mimetype": "text/x-python",
   "name": "python",
   "nbconvert_exporter": "python",
   "pygments_lexer": "ipython3",
   "version": "3.7.3"
  }
 },
 "nbformat": 4,
 "nbformat_minor": 1
}
