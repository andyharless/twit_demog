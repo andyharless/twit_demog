{
  "nbformat": 4,
  "nbformat_minor": 0,
  "metadata": {
    "colab": {
      "name": "twitgen_keras_init_with_glove_new_baseline",
      "version": "0.3.2",
      "provenance": [],
      "collapsed_sections": [],
      "include_colab_link": true
    },
    "kernelspec": {
      "name": "python3",
      "display_name": "Python 3"
    },
    "accelerator": "GPU"
  },
  "cells": [
    {
      "cell_type": "markdown",
      "metadata": {
        "id": "view-in-github",
        "colab_type": "text"
      },
      "source": [
        "<a href=\"https://colab.research.google.com/github/andyharless/twit_demog/blob/master/twitgen_keras_init_with_glove_new_baseline.ipynb\" target=\"_parent\"><img src=\"https://colab.research.google.com/assets/colab-badge.svg\" alt=\"Open In Colab\"/></a>"
      ]
    },
    {
      "cell_type": "code",
      "metadata": {
        "id": "Ax4RdzBXu65o",
        "colab_type": "code",
        "outputId": "5d47a0a4-f5a7-4c57-cc22-14e2133f9d2e",
        "colab": {
          "base_uri": "https://localhost:8080/",
          "height": 122
        }
      },
      "source": [
        "from google.colab import drive\n",
        "drive.mount('/content/gdrive')"
      ],
      "execution_count": 0,
      "outputs": [
        {
          "output_type": "stream",
          "text": [
            "Go to this URL in a browser: https://accounts.google.com/o/oauth2/auth?client_id=947318989803-6bn6qk8qdgf4n4g3pfee6491hc0brc4i.apps.googleusercontent.com&redirect_uri=urn%3Aietf%3Awg%3Aoauth%3A2.0%3Aoob&scope=email%20https%3A%2F%2Fwww.googleapis.com%2Fauth%2Fdocs.test%20https%3A%2F%2Fwww.googleapis.com%2Fauth%2Fdrive%20https%3A%2F%2Fwww.googleapis.com%2Fauth%2Fdrive.photos.readonly%20https%3A%2F%2Fwww.googleapis.com%2Fauth%2Fpeopleapi.readonly&response_type=code\n",
            "\n",
            "Enter your authorization code:\n",
            "··········\n",
            "Mounted at /content/gdrive\n"
          ],
          "name": "stdout"
        }
      ]
    },
    {
      "cell_type": "code",
      "metadata": {
        "id": "Hg5Y784oysWW",
        "colab_type": "code",
        "colab": {}
      },
      "source": [
        "compare_preds = True\n",
        "\n",
        "TRAIN_INPUT = 'twitgen_train_201906011956.csv'\n",
        "VALID_INPUT = 'twitgen_valid_201906011956.csv'\n",
        "TEST_INPUT = 'twitgen_test_201906011956.csv'\n",
        "EMBEDDING_DIM = 200\n",
        "MAXLEN = 50"
      ],
      "execution_count": 0,
      "outputs": []
    },
    {
      "cell_type": "code",
      "metadata": {
        "id": "Ki5FWLkTycV4",
        "colab_type": "code",
        "outputId": "4dc4b6ec-7ad5-4831-8504-b47f9cccc95b",
        "colab": {
          "base_uri": "https://localhost:8080/",
          "height": 34
        }
      },
      "source": [
        "import tensorflow as tf\n",
        "import pandas as pd\n",
        "import os\n",
        "import re\n",
        "import keras\n",
        "from keras import backend as K\n",
        "import keras.layers as layers\n",
        "from keras.models import Model, load_model\n",
        "from keras.engine import Layer\n",
        "from keras.optimizers import Adam, Adagrad\n",
        "from keras.preprocessing.text import Tokenizer\n",
        "from keras.preprocessing.sequence import pad_sequences\n",
        "import numpy as np\n",
        "from datetime import datetime\n",
        "import nltk\n",
        "from nltk.corpus import stopwords\n",
        "from nltk.stem import SnowballStemmer\n",
        "import string"
      ],
      "execution_count": 0,
      "outputs": [
        {
          "output_type": "stream",
          "text": [
            "Using TensorFlow backend.\n"
          ],
          "name": "stderr"
        }
      ]
    },
    {
      "cell_type": "code",
      "metadata": {
        "id": "kufhA6sXw8x5",
        "colab_type": "code",
        "colab": {}
      },
      "source": [
        "basepath = '/content/gdrive/My Drive/twitgen/'\n",
        "glovefile = 'glove.twitter.27B.200d.txt.gz'"
      ],
      "execution_count": 0,
      "outputs": []
    },
    {
      "cell_type": "code",
      "metadata": {
        "id": "hdF-l6KOw2lH",
        "colab_type": "code",
        "colab": {}
      },
      "source": [
        "glovepath = basepath + glovefile\n",
        "!cp '$glovepath' ."
      ],
      "execution_count": 0,
      "outputs": []
    },
    {
      "cell_type": "code",
      "metadata": {
        "id": "ZTHMDATrw2or",
        "colab_type": "code",
        "colab": {}
      },
      "source": [
        "!gunzip $glovefile"
      ],
      "execution_count": 0,
      "outputs": []
    },
    {
      "cell_type": "code",
      "metadata": {
        "id": "aWRB93aQw2tK",
        "colab_type": "code",
        "outputId": "492da3e5-8f26-4abc-eb28-6bb5f2637ae5",
        "colab": {
          "base_uri": "https://localhost:8080/",
          "height": 85
        }
      },
      "source": [
        "!ls -l"
      ],
      "execution_count": 0,
      "outputs": [
        {
          "output_type": "stream",
          "text": [
            "total 2009380\n",
            "drwx------ 3 root root       4096 Jun  7 13:46 gdrive\n",
            "-rw------- 1 root root 2057590469 Jun  7 13:46 glove.twitter.27B.200d.txt\n",
            "drwxr-xr-x 1 root root       4096 May 31 16:17 sample_data\n"
          ],
          "name": "stdout"
        }
      ]
    },
    {
      "cell_type": "code",
      "metadata": {
        "id": "diA4mf7rx5dG",
        "colab_type": "code",
        "outputId": "ad9e4dbe-e41f-4de6-de9a-ce53ea2b5462",
        "colab": {
          "base_uri": "https://localhost:8080/",
          "height": 235
        }
      },
      "source": [
        "df_train = pd.read_csv(basepath+TRAIN_INPUT, index_col=['id','time'], parse_dates=['time'])\n",
        "df_valid = pd.read_csv(basepath+VALID_INPUT, index_col=['id','time'], parse_dates=['time'])\n",
        "df_test = pd.read_csv(basepath+TEST_INPUT, index_col=['id','time'], parse_dates=['time'])\n",
        "df_train.head()"
      ],
      "execution_count": 0,
      "outputs": [
        {
          "output_type": "execute_result",
          "data": {
            "text/html": [
              "<div>\n",
              "<style scoped>\n",
              "    .dataframe tbody tr th:only-of-type {\n",
              "        vertical-align: middle;\n",
              "    }\n",
              "\n",
              "    .dataframe tbody tr th {\n",
              "        vertical-align: top;\n",
              "    }\n",
              "\n",
              "    .dataframe thead th {\n",
              "        text-align: right;\n",
              "    }\n",
              "</style>\n",
              "<table border=\"1\" class=\"dataframe\">\n",
              "  <thead>\n",
              "    <tr style=\"text-align: right;\">\n",
              "      <th></th>\n",
              "      <th></th>\n",
              "      <th>text</th>\n",
              "      <th>male</th>\n",
              "    </tr>\n",
              "    <tr>\n",
              "      <th>id</th>\n",
              "      <th>time</th>\n",
              "      <th></th>\n",
              "      <th></th>\n",
              "    </tr>\n",
              "  </thead>\n",
              "  <tbody>\n",
              "    <tr>\n",
              "      <th>1083596943807393792</th>\n",
              "      <th>2019-05-27 23:27:08+00:00</th>\n",
              "      <td>Ah, the Flat Earth gambit.\\nWell played.</td>\n",
              "      <td>True</td>\n",
              "    </tr>\n",
              "    <tr>\n",
              "      <th>815783987784187904</th>\n",
              "      <th>2019-05-24 15:36:01+00:00</th>\n",
              "      <td>Aw ily</td>\n",
              "      <td>False</td>\n",
              "    </tr>\n",
              "    <tr>\n",
              "      <th>3458239641</th>\n",
              "      <th>2019-05-24 19:00:37+00:00</th>\n",
              "      <td>I hate being sick</td>\n",
              "      <td>False</td>\n",
              "    </tr>\n",
              "    <tr>\n",
              "      <th>1003729876250226688</th>\n",
              "      <th>2019-05-26 12:53:00+00:00</th>\n",
              "      <td>You still didn't' do shit tho. Slow down the...</td>\n",
              "      <td>True</td>\n",
              "    </tr>\n",
              "    <tr>\n",
              "      <th>2360143940</th>\n",
              "      <th>2019-05-28 03:50:46+00:00</th>\n",
              "      <td>Harriet Tubman may not be on the $20 bill... f...</td>\n",
              "      <td>False</td>\n",
              "    </tr>\n",
              "  </tbody>\n",
              "</table>\n",
              "</div>"
            ],
            "text/plain": [
              "                                                                                            text   male\n",
              "id                  time                                                                               \n",
              "1083596943807393792 2019-05-27 23:27:08+00:00           Ah, the Flat Earth gambit.\\nWell played.   True\n",
              "815783987784187904  2019-05-24 15:36:01+00:00                                             Aw ily  False\n",
              "3458239641          2019-05-24 19:00:37+00:00                                  I hate being sick  False\n",
              "1003729876250226688 2019-05-26 12:53:00+00:00    You still didn't' do shit tho. Slow down the...   True\n",
              "2360143940          2019-05-28 03:50:46+00:00  Harriet Tubman may not be on the $20 bill... f...  False"
            ]
          },
          "metadata": {
            "tags": []
          },
          "execution_count": 8
        }
      ]
    },
    {
      "cell_type": "code",
      "metadata": {
        "id": "tiWLlkKOx_G2",
        "colab_type": "code",
        "outputId": "e9bc8020-80d8-42bb-a681-a376da4c014c",
        "colab": {
          "base_uri": "https://localhost:8080/",
          "height": 34
        }
      },
      "source": [
        "(df_train.text.str.split().apply(len).max(), \n",
        " df_valid.text.str.split().apply(len).max(),\n",
        " df_test.text.str.split().apply(len).max())"
      ],
      "execution_count": 0,
      "outputs": [
        {
          "output_type": "execute_result",
          "data": {
            "text/plain": [
              "(34, 30, 31)"
            ]
          },
          "metadata": {
            "tags": []
          },
          "execution_count": 9
        }
      ]
    },
    {
      "cell_type": "code",
      "metadata": {
        "id": "TYo_WNX3x_PO",
        "colab_type": "code",
        "colab": {}
      },
      "source": [
        "# Text Normalizing function. \n",
        "# Taken from \n",
        "# https://medium.com/@sabber/classifying-yelp-review-comments-using-lstm-and-word-embeddings-part-1-eb2275e4066b\n",
        "# which was taken from https://www.kaggle.com/lystdo/lstm-with-word2vec-embeddings\n",
        "\n",
        "# This is for general text, not Twitter-specific.\n",
        "# Probably would get a better classifier if we used a Python transaltion of this:\n",
        "# https://nlp.stanford.edu/projects/glove/preprocess-twitter.rb\n",
        "# but that is arguably outside the scope of this project\n",
        "\n",
        "def clean_text(text):\n",
        "    \n",
        "    ## Remove puncuation\n",
        "    text = text.translate(string.punctuation)\n",
        "    \n",
        "    ## Convert words to lower case and split them\n",
        "    text = text.lower().split()\n",
        "    \n",
        "    ## Remove stop words\n",
        "   # stops = set(stopwords.words(\"english\"))\n",
        "   # text = [w for w in text if not w in stops and len(w) >= 3]\n",
        "    \n",
        "    text = \" \".join(text)\n",
        "    ## Clean the text\n",
        "    text = re.sub(r\"[^A-Za-z0-9^,!.\\/'+-=]\", \" \", text)\n",
        "    text = re.sub(r\"what's\", \"what is \", text)\n",
        "    text = re.sub(r\"\\'s\", \" \", text)\n",
        "    text = re.sub(r\"\\'ve\", \" have \", text)\n",
        "    text = re.sub(r\"n't\", \" not \", text)\n",
        "    text = re.sub(r\"i'm\", \"i am \", text)\n",
        "    text = re.sub(r\"\\'re\", \" are \", text)\n",
        "    text = re.sub(r\"\\'d\", \" would \", text)\n",
        "    text = re.sub(r\"\\'ll\", \" will \", text)\n",
        "    text = re.sub(r\",\", \" \", text)\n",
        "    text = re.sub(r\"\\.\", \" \", text)\n",
        "    text = re.sub(r\"!\", \" ! \", text)\n",
        "    text = re.sub(r\"\\/\", \" \", text)\n",
        "    text = re.sub(r\"\\^\", \" ^ \", text)\n",
        "    text = re.sub(r\"\\+\", \" + \", text)\n",
        "    text = re.sub(r\"\\-\", \" - \", text)\n",
        "    text = re.sub(r\"\\=\", \" = \", text)\n",
        "    text = re.sub(r\"'\", \" \", text)\n",
        "    text = re.sub(r\"(\\d+)(k)\", r\"\\g<1>000\", text)\n",
        "    text = re.sub(r\":\", \" : \", text)\n",
        "    text = re.sub(r\" e g \", \" eg \", text)\n",
        "    text = re.sub(r\" b g \", \" bg \", text)\n",
        "    text = re.sub(r\" u s \", \" american \", text)\n",
        "    text = re.sub(r\"\\0s\", \"0\", text)\n",
        "    text = re.sub(r\" 9 11 \", \"911\", text)\n",
        "    text = re.sub(r\"e - mail\", \"email\", text)\n",
        "    text = re.sub(r\"j k\", \"jk\", text)\n",
        "    text = re.sub(r\"\\s{2,}\", \" \", text)\n",
        "    ## Stemming\n",
        "#    text = text.split()\n",
        "#    stemmer = SnowballStemmer('english')\n",
        "#    stemmed_words = [stemmer.stem(word) for word in text]\n",
        "#    text = \" \".join(stemmed_words)\n",
        "    return text\n"
      ],
      "execution_count": 0,
      "outputs": []
    },
    {
      "cell_type": "code",
      "metadata": {
        "id": "d1bOaiLe-Cwq",
        "colab_type": "code",
        "colab": {}
      },
      "source": [
        "def get_texts_and_labels(df):\n",
        "  texts = df['text'].map(lambda x: clean_text(x)).tolist()\n",
        "  texts = [t.split()[0:MAXLEN] for t in texts]\n",
        "  labels = df['male'].tolist()\n",
        "  return texts, labels"
      ],
      "execution_count": 0,
      "outputs": []
    },
    {
      "cell_type": "code",
      "metadata": {
        "id": "4UjqoRgd9QFA",
        "colab_type": "code",
        "colab": {}
      },
      "source": [
        "train_text, train_label = get_texts_and_labels(df_train)\n",
        "valid_text, valid_label = get_texts_and_labels(df_valid)\n",
        "test_text, test_label = get_texts_and_labels(df_test)"
      ],
      "execution_count": 0,
      "outputs": []
    },
    {
      "cell_type": "code",
      "metadata": {
        "id": "abOV3YaZx5wz",
        "colab_type": "code",
        "outputId": "46b8188e-bf84-42a1-b831-ce647a16f3f7",
        "colab": {
          "base_uri": "https://localhost:8080/",
          "height": 34
        }
      },
      "source": [
        "type(train_text), len(train_text), type(train_text[0]), len(train_text[0]), type(train_text[0][0])"
      ],
      "execution_count": 0,
      "outputs": [
        {
          "output_type": "execute_result",
          "data": {
            "text/plain": [
              "(list, 34146, list, 8, str)"
            ]
          },
          "metadata": {
            "tags": []
          },
          "execution_count": 13
        }
      ]
    },
    {
      "cell_type": "code",
      "metadata": {
        "id": "X5xDUJALCVkh",
        "colab_type": "code",
        "outputId": "0eb7963a-fca2-4206-ad8a-176ac0d8afe7",
        "colab": {
          "base_uri": "https://localhost:8080/",
          "height": 34
        }
      },
      "source": [
        "max([len(x) for x in train_text]), max([len(x) for x in valid_text]), max([len(x) for x in test_text])"
      ],
      "execution_count": 0,
      "outputs": [
        {
          "output_type": "execute_result",
          "data": {
            "text/plain": [
              "(47, 42, 42)"
            ]
          },
          "metadata": {
            "tags": []
          },
          "execution_count": 14
        }
      ]
    },
    {
      "cell_type": "code",
      "metadata": {
        "id": "HGxYN53F8chY",
        "colab_type": "code",
        "colab": {}
      },
      "source": [
        "# Fit tokenizer on training data\n",
        "tok = Tokenizer()\n",
        "tok.fit_on_texts(train_text)\n",
        "vocab_size = len(tok.word_index) + 1"
      ],
      "execution_count": 0,
      "outputs": []
    },
    {
      "cell_type": "code",
      "metadata": {
        "id": "1CauOL3-9M5l",
        "colab_type": "code",
        "colab": {}
      },
      "source": [
        "def get_tokenized_texts(texts):\n",
        "  encoded_docs = tok.texts_to_sequences(texts)\n",
        "  padded_docs = pad_sequences(encoded_docs, maxlen=MAXLEN, padding='post')\n",
        "  return padded_docs"
      ],
      "execution_count": 0,
      "outputs": []
    },
    {
      "cell_type": "code",
      "metadata": {
        "id": "5FVpEPUM9M9D",
        "colab_type": "code",
        "outputId": "50175b9b-d479-40c5-c954-30aa8ea57f0e",
        "colab": {
          "base_uri": "https://localhost:8080/",
          "height": 68
        }
      },
      "source": [
        "docs_train = get_tokenized_texts(train_text)\n",
        "docs_valid = get_tokenized_texts(valid_text)\n",
        "docs_test = get_tokenized_texts(test_text)\n",
        "print(type(docs_train), len(docs_train), len(docs_valid), len(docs_test))\n",
        "docs_train[0][:10]"
      ],
      "execution_count": 0,
      "outputs": [
        {
          "output_type": "stream",
          "text": [
            "<class 'numpy.ndarray'> 34146 10914 10450\n"
          ],
          "name": "stdout"
        },
        {
          "output_type": "execute_result",
          "data": {
            "text/plain": [
              "array([  956,     1,  4035,  1154, 13312,     8,    98,   732,     0,\n",
              "           0], dtype=int32)"
            ]
          },
          "metadata": {
            "tags": []
          },
          "execution_count": 17
        }
      ]
    },
    {
      "cell_type": "code",
      "metadata": {
        "id": "i6x12xlm8ckN",
        "colab_type": "code",
        "outputId": "68e2b35f-47fe-42fb-d3bc-f62ddafebf5c",
        "colab": {
          "base_uri": "https://localhost:8080/",
          "height": 34
        }
      },
      "source": [
        "# load the whole embedding into memory\n",
        "embeddings_index = dict()\n",
        "f = open(glovefile[:-3])\n",
        "for line in f:\n",
        "\tvalues = line.split()\n",
        "\tword = values[0]\n",
        "\tcoefs = np.asarray(values[1:], dtype='float32')\n",
        "\tembeddings_index[word] = coefs\n",
        "f.close()\n",
        "print('Loaded %s word vectors.' % len(embeddings_index))"
      ],
      "execution_count": 0,
      "outputs": [
        {
          "output_type": "stream",
          "text": [
            "Loaded 1193514 word vectors.\n"
          ],
          "name": "stdout"
        }
      ]
    },
    {
      "cell_type": "code",
      "metadata": {
        "id": "JXkU0hx6JoXx",
        "colab_type": "code",
        "colab": {}
      },
      "source": [
        "# create a weight matrix for words in training docs\n",
        "embedding_matrix = np.zeros((vocab_size, EMBEDDING_DIM))\n",
        "for word, i in tok.word_index.items():\n",
        "\tembedding_vector = embeddings_index.get(word)\n",
        "\tif embedding_vector is not None:\n",
        "\t\tembedding_matrix[i] = embedding_vector"
      ],
      "execution_count": 0,
      "outputs": []
    },
    {
      "cell_type": "code",
      "metadata": {
        "id": "_3A3kSFhfklV",
        "colab_type": "code",
        "outputId": "354ba784-30f4-4dee-ea9e-9978aadb461b",
        "colab": {
          "base_uri": "https://localhost:8080/",
          "height": 34
        }
      },
      "source": [
        "docs_train.shape, docs_train.dtype"
      ],
      "execution_count": 0,
      "outputs": [
        {
          "output_type": "execute_result",
          "data": {
            "text/plain": [
              "((34146, 50), dtype('int32'))"
            ]
          },
          "metadata": {
            "tags": []
          },
          "execution_count": 20
        }
      ]
    },
    {
      "cell_type": "code",
      "metadata": {
        "id": "pTM8vFvYvrBQ",
        "colab_type": "code",
        "outputId": "9c41fa39-d1f2-4281-83d0-32eb2c5cfae7",
        "colab": {
          "base_uri": "https://localhost:8080/",
          "height": 972
        }
      },
      "source": [
        "batchsize = 512\n",
        "\n",
        "inputs = layers.Input((MAXLEN,), dtype=\"int32\")\n",
        "raw = layers.Embedding(vocab_size, \n",
        "                           EMBEDDING_DIM, \n",
        "                           weights=[embedding_matrix], \n",
        "                           input_length=MAXLEN, \n",
        "                           trainable=False)(inputs)\n",
        "\n",
        "embed = layers.Dropout(.3)(raw)\n",
        "lstm1 = layers.LSTM(80, return_sequences=True, go_backwards=True, \n",
        "                    dropout=.35, recurrent_dropout=.35)(embed)\n",
        "dropl = layers.Dropout(.3)(lstm1)\n",
        "lstm2 = layers.LSTM(80, return_sequences=False, \n",
        "                    dropout=.35, recurrent_dropout=.35)(dropl)\n",
        "\n",
        "lstm1a = layers.LSTM(80, return_sequences=True, \n",
        "                     dropout=.35, recurrent_dropout=.35)(embed)\n",
        "dropla = layers.Dropout(.3)(lstm1a)\n",
        "lstm2a = layers.LSTM(80, return_sequences=False, go_backwards=True, \n",
        "                     dropout=.35, recurrent_dropout=.35)(dropla)\n",
        "\n",
        "merged = layers.merge.concatenate([lstm2, lstm2a])\n",
        "dropout0 = layers.Dropout(rate=.5)(merged)\n",
        "dense = layers.Dense(40, activation='relu')(dropout0)\n",
        "\n",
        "merged2 = layers.merge.concatenate([merged,dense])\n",
        "dropout1 = layers.Dropout(rate=.7)(merged2)\n",
        "\n",
        "pred = layers.Dense(1, activation='sigmoid')(dropout1)\n",
        "\n",
        "model = Model(inputs=[inputs], outputs=pred)\n",
        "\n",
        "lr = 1e-3\n",
        "decay=1e-5\n",
        "model.compile(optimizer=Adam(lr, decay=decay), loss='binary_crossentropy', metrics=['acc'])\n",
        "print(model.summary())\n",
        "\n",
        "model.fit(docs_train, train_label, epochs=2, validation_data=(docs_valid, valid_label), batch_size=batchsize)"
      ],
      "execution_count": 0,
      "outputs": [
        {
          "output_type": "stream",
          "text": [
            "WARNING:tensorflow:From /usr/local/lib/python3.6/dist-packages/tensorflow/python/framework/op_def_library.py:263: colocate_with (from tensorflow.python.framework.ops) is deprecated and will be removed in a future version.\n",
            "Instructions for updating:\n",
            "Colocations handled automatically by placer.\n",
            "WARNING:tensorflow:From /usr/local/lib/python3.6/dist-packages/keras/backend/tensorflow_backend.py:3445: calling dropout (from tensorflow.python.ops.nn_ops) with keep_prob is deprecated and will be removed in a future version.\n",
            "Instructions for updating:\n",
            "Please use `rate` instead of `keep_prob`. Rate should be set to `rate = 1 - keep_prob`.\n",
            "__________________________________________________________________________________________________\n",
            "Layer (type)                    Output Shape         Param #     Connected to                     \n",
            "==================================================================================================\n",
            "input_1 (InputLayer)            (None, 50)           0                                            \n",
            "__________________________________________________________________________________________________\n",
            "embedding_1 (Embedding)         (None, 50, 200)      6026200     input_1[0][0]                    \n",
            "__________________________________________________________________________________________________\n",
            "dropout_1 (Dropout)             (None, 50, 200)      0           embedding_1[0][0]                \n",
            "__________________________________________________________________________________________________\n",
            "lstm_1 (LSTM)                   (None, 50, 80)       89920       dropout_1[0][0]                  \n",
            "__________________________________________________________________________________________________\n",
            "lstm_3 (LSTM)                   (None, 50, 80)       89920       dropout_1[0][0]                  \n",
            "__________________________________________________________________________________________________\n",
            "dropout_2 (Dropout)             (None, 50, 80)       0           lstm_1[0][0]                     \n",
            "__________________________________________________________________________________________________\n",
            "dropout_3 (Dropout)             (None, 50, 80)       0           lstm_3[0][0]                     \n",
            "__________________________________________________________________________________________________\n",
            "lstm_2 (LSTM)                   (None, 80)           51520       dropout_2[0][0]                  \n",
            "__________________________________________________________________________________________________\n",
            "lstm_4 (LSTM)                   (None, 80)           51520       dropout_3[0][0]                  \n",
            "__________________________________________________________________________________________________\n",
            "concatenate_1 (Concatenate)     (None, 160)          0           lstm_2[0][0]                     \n",
            "                                                                 lstm_4[0][0]                     \n",
            "__________________________________________________________________________________________________\n",
            "dropout_4 (Dropout)             (None, 160)          0           concatenate_1[0][0]              \n",
            "__________________________________________________________________________________________________\n",
            "dense_1 (Dense)                 (None, 40)           6440        dropout_4[0][0]                  \n",
            "__________________________________________________________________________________________________\n",
            "concatenate_2 (Concatenate)     (None, 200)          0           concatenate_1[0][0]              \n",
            "                                                                 dense_1[0][0]                    \n",
            "__________________________________________________________________________________________________\n",
            "dropout_5 (Dropout)             (None, 200)          0           concatenate_2[0][0]              \n",
            "__________________________________________________________________________________________________\n",
            "dense_2 (Dense)                 (None, 1)            201         dropout_5[0][0]                  \n",
            "==================================================================================================\n",
            "Total params: 6,315,721\n",
            "Trainable params: 289,521\n",
            "Non-trainable params: 6,026,200\n",
            "__________________________________________________________________________________________________\n",
            "None\n",
            "WARNING:tensorflow:From /usr/local/lib/python3.6/dist-packages/tensorflow/python/ops/math_ops.py:3066: to_int32 (from tensorflow.python.ops.math_ops) is deprecated and will be removed in a future version.\n",
            "Instructions for updating:\n",
            "Use tf.cast instead.\n",
            "Train on 34146 samples, validate on 10914 samples\n",
            "Epoch 1/2\n",
            "34146/34146 [==============================] - 30s 870us/step - loss: 0.6922 - acc: 0.5333 - val_loss: 0.6744 - val_acc: 0.5805\n",
            "Epoch 2/2\n",
            "34146/34146 [==============================] - 26s 755us/step - loss: 0.6768 - acc: 0.5759 - val_loss: 0.6652 - val_acc: 0.5917\n"
          ],
          "name": "stdout"
        },
        {
          "output_type": "execute_result",
          "data": {
            "text/plain": [
              "<keras.callbacks.History at 0x7f258eff2908>"
            ]
          },
          "metadata": {
            "tags": []
          },
          "execution_count": 21
        }
      ]
    },
    {
      "cell_type": "code",
      "metadata": {
        "id": "E1r5cmrcaNOq",
        "colab_type": "code",
        "colab": {}
      },
      "source": [
        "model.layers[0].trainable = True"
      ],
      "execution_count": 0,
      "outputs": []
    },
    {
      "cell_type": "code",
      "metadata": {
        "id": "yQKYvhz5Kqw8",
        "colab_type": "code",
        "outputId": "af498d69-6fa3-4f96-a856-e29e0ae5fe97",
        "colab": {
          "base_uri": "https://localhost:8080/",
          "height": 2111
        }
      },
      "source": [
        "lr = 2.7e-4\n",
        "decay = 5.9e-5\n",
        "model.compile(optimizer=Adam(lr, decay=decay), loss='binary_crossentropy', metrics=['acc'])\n",
        "model.fit(docs_train, train_label, epochs=60, validation_data=(docs_valid, valid_label), batch_size=batchsize)"
      ],
      "execution_count": 0,
      "outputs": [
        {
          "output_type": "stream",
          "text": [
            "Train on 34146 samples, validate on 10914 samples\n",
            "Epoch 1/60\n",
            "34146/34146 [==============================] - 29s 845us/step - loss: 0.6710 - acc: 0.5865 - val_loss: 0.6623 - val_acc: 0.5989\n",
            "Epoch 2/60\n",
            "34146/34146 [==============================] - 25s 742us/step - loss: 0.6699 - acc: 0.5886 - val_loss: 0.6613 - val_acc: 0.5991\n",
            "Epoch 3/60\n",
            "34146/34146 [==============================] - 26s 752us/step - loss: 0.6686 - acc: 0.5913 - val_loss: 0.6603 - val_acc: 0.5995\n",
            "Epoch 4/60\n",
            "34146/34146 [==============================] - 26s 760us/step - loss: 0.6671 - acc: 0.5916 - val_loss: 0.6599 - val_acc: 0.6013\n",
            "Epoch 5/60\n",
            "34146/34146 [==============================] - 26s 760us/step - loss: 0.6677 - acc: 0.5926 - val_loss: 0.6594 - val_acc: 0.6023\n",
            "Epoch 6/60\n",
            "34146/34146 [==============================] - 26s 763us/step - loss: 0.6649 - acc: 0.5933 - val_loss: 0.6593 - val_acc: 0.6011\n",
            "Epoch 7/60\n",
            "34146/34146 [==============================] - 26s 759us/step - loss: 0.6677 - acc: 0.5923 - val_loss: 0.6592 - val_acc: 0.6021\n",
            "Epoch 8/60\n",
            "34146/34146 [==============================] - 26s 752us/step - loss: 0.6657 - acc: 0.5951 - val_loss: 0.6595 - val_acc: 0.6033\n",
            "Epoch 9/60\n",
            "34146/34146 [==============================] - 26s 767us/step - loss: 0.6653 - acc: 0.5951 - val_loss: 0.6594 - val_acc: 0.6038\n",
            "Epoch 10/60\n",
            "34146/34146 [==============================] - 26s 757us/step - loss: 0.6657 - acc: 0.5950 - val_loss: 0.6597 - val_acc: 0.6029\n",
            "Epoch 11/60\n",
            "34146/34146 [==============================] - 26s 766us/step - loss: 0.6643 - acc: 0.5961 - val_loss: 0.6584 - val_acc: 0.6032\n",
            "Epoch 12/60\n",
            "34146/34146 [==============================] - 26s 767us/step - loss: 0.6637 - acc: 0.5959 - val_loss: 0.6583 - val_acc: 0.6060\n",
            "Epoch 13/60\n",
            "34146/34146 [==============================] - 26s 761us/step - loss: 0.6637 - acc: 0.6006 - val_loss: 0.6576 - val_acc: 0.6062\n",
            "Epoch 14/60\n",
            "34146/34146 [==============================] - 26s 758us/step - loss: 0.6642 - acc: 0.5961 - val_loss: 0.6572 - val_acc: 0.6064\n",
            "Epoch 15/60\n",
            "34146/34146 [==============================] - 26s 771us/step - loss: 0.6645 - acc: 0.5972 - val_loss: 0.6571 - val_acc: 0.6056\n",
            "Epoch 16/60\n",
            "34146/34146 [==============================] - 26s 766us/step - loss: 0.6637 - acc: 0.5972 - val_loss: 0.6573 - val_acc: 0.6070\n",
            "Epoch 17/60\n",
            "34146/34146 [==============================] - 26s 761us/step - loss: 0.6629 - acc: 0.5980 - val_loss: 0.6573 - val_acc: 0.6085\n",
            "Epoch 18/60\n",
            "34146/34146 [==============================] - 26s 765us/step - loss: 0.6612 - acc: 0.6023 - val_loss: 0.6564 - val_acc: 0.6079\n",
            "Epoch 19/60\n",
            "34146/34146 [==============================] - 26s 758us/step - loss: 0.6604 - acc: 0.5979 - val_loss: 0.6564 - val_acc: 0.6081\n",
            "Epoch 20/60\n",
            "34146/34146 [==============================] - 26s 765us/step - loss: 0.6624 - acc: 0.5985 - val_loss: 0.6561 - val_acc: 0.6089\n",
            "Epoch 21/60\n",
            "34146/34146 [==============================] - 26s 764us/step - loss: 0.6602 - acc: 0.6000 - val_loss: 0.6562 - val_acc: 0.6080\n",
            "Epoch 22/60\n",
            "34146/34146 [==============================] - 26s 765us/step - loss: 0.6604 - acc: 0.6005 - val_loss: 0.6555 - val_acc: 0.6084\n",
            "Epoch 23/60\n",
            "34146/34146 [==============================] - 26s 761us/step - loss: 0.6598 - acc: 0.6041 - val_loss: 0.6555 - val_acc: 0.6083\n",
            "Epoch 24/60\n",
            "34146/34146 [==============================] - 27s 776us/step - loss: 0.6590 - acc: 0.6031 - val_loss: 0.6553 - val_acc: 0.6088\n",
            "Epoch 25/60\n",
            "34146/34146 [==============================] - 26s 773us/step - loss: 0.6599 - acc: 0.6043 - val_loss: 0.6551 - val_acc: 0.6068\n",
            "Epoch 26/60\n",
            "34146/34146 [==============================] - 26s 771us/step - loss: 0.6592 - acc: 0.6047 - val_loss: 0.6546 - val_acc: 0.6079\n",
            "Epoch 27/60\n",
            "34146/34146 [==============================] - 26s 772us/step - loss: 0.6596 - acc: 0.6050 - val_loss: 0.6545 - val_acc: 0.6093\n",
            "Epoch 28/60\n",
            "34146/34146 [==============================] - 26s 768us/step - loss: 0.6583 - acc: 0.6056 - val_loss: 0.6551 - val_acc: 0.6105\n",
            "Epoch 29/60\n",
            "34146/34146 [==============================] - 27s 784us/step - loss: 0.6597 - acc: 0.6023 - val_loss: 0.6549 - val_acc: 0.6108\n",
            "Epoch 30/60\n",
            "34146/34146 [==============================] - 26s 770us/step - loss: 0.6593 - acc: 0.6041 - val_loss: 0.6547 - val_acc: 0.6081\n",
            "Epoch 31/60\n",
            "34146/34146 [==============================] - 26s 772us/step - loss: 0.6570 - acc: 0.6080 - val_loss: 0.6548 - val_acc: 0.6090\n",
            "Epoch 32/60\n",
            "34146/34146 [==============================] - 26s 761us/step - loss: 0.6571 - acc: 0.6062 - val_loss: 0.6545 - val_acc: 0.6102\n",
            "Epoch 33/60\n",
            "34146/34146 [==============================] - 26s 761us/step - loss: 0.6577 - acc: 0.6049 - val_loss: 0.6545 - val_acc: 0.6085\n",
            "Epoch 34/60\n",
            "34146/34146 [==============================] - 26s 765us/step - loss: 0.6576 - acc: 0.6058 - val_loss: 0.6544 - val_acc: 0.6067\n",
            "Epoch 35/60\n",
            "34146/34146 [==============================] - 26s 769us/step - loss: 0.6577 - acc: 0.6053 - val_loss: 0.6544 - val_acc: 0.6069\n",
            "Epoch 36/60\n",
            "34146/34146 [==============================] - 26s 774us/step - loss: 0.6570 - acc: 0.6050 - val_loss: 0.6540 - val_acc: 0.6062\n",
            "Epoch 37/60\n",
            "34146/34146 [==============================] - 26s 776us/step - loss: 0.6555 - acc: 0.6071 - val_loss: 0.6541 - val_acc: 0.6100\n",
            "Epoch 38/60\n",
            "34146/34146 [==============================] - 27s 779us/step - loss: 0.6565 - acc: 0.6060 - val_loss: 0.6541 - val_acc: 0.6087\n",
            "Epoch 39/60\n",
            "34146/34146 [==============================] - 26s 767us/step - loss: 0.6564 - acc: 0.6070 - val_loss: 0.6534 - val_acc: 0.6079\n",
            "Epoch 40/60\n",
            "34146/34146 [==============================] - 26s 755us/step - loss: 0.6548 - acc: 0.6096 - val_loss: 0.6534 - val_acc: 0.6078\n",
            "Epoch 41/60\n",
            "34146/34146 [==============================] - 25s 744us/step - loss: 0.6554 - acc: 0.6068 - val_loss: 0.6536 - val_acc: 0.6086\n",
            "Epoch 42/60\n",
            "34146/34146 [==============================] - 25s 742us/step - loss: 0.6566 - acc: 0.6094 - val_loss: 0.6534 - val_acc: 0.6081\n",
            "Epoch 43/60\n",
            "34146/34146 [==============================] - 26s 749us/step - loss: 0.6530 - acc: 0.6108 - val_loss: 0.6540 - val_acc: 0.6075\n",
            "Epoch 44/60\n",
            "34146/34146 [==============================] - 25s 736us/step - loss: 0.6551 - acc: 0.6118 - val_loss: 0.6541 - val_acc: 0.6101\n",
            "Epoch 45/60\n",
            "34146/34146 [==============================] - 26s 751us/step - loss: 0.6547 - acc: 0.6076 - val_loss: 0.6535 - val_acc: 0.6082\n",
            "Epoch 46/60\n",
            "34146/34146 [==============================] - 26s 751us/step - loss: 0.6544 - acc: 0.6103 - val_loss: 0.6530 - val_acc: 0.6109\n",
            "Epoch 47/60\n",
            "34146/34146 [==============================] - 26s 752us/step - loss: 0.6530 - acc: 0.6154 - val_loss: 0.6540 - val_acc: 0.6079\n",
            "Epoch 48/60\n",
            "34146/34146 [==============================] - 25s 735us/step - loss: 0.6528 - acc: 0.6120 - val_loss: 0.6533 - val_acc: 0.6075\n",
            "Epoch 49/60\n",
            "34146/34146 [==============================] - 25s 741us/step - loss: 0.6524 - acc: 0.6134 - val_loss: 0.6548 - val_acc: 0.6083\n",
            "Epoch 50/60\n",
            "34146/34146 [==============================] - 25s 735us/step - loss: 0.6525 - acc: 0.6125 - val_loss: 0.6529 - val_acc: 0.6091\n",
            "Epoch 51/60\n",
            "34146/34146 [==============================] - 25s 743us/step - loss: 0.6523 - acc: 0.6136 - val_loss: 0.6534 - val_acc: 0.6099\n",
            "Epoch 52/60\n",
            "34146/34146 [==============================] - 26s 747us/step - loss: 0.6538 - acc: 0.6111 - val_loss: 0.6527 - val_acc: 0.6100\n",
            "Epoch 53/60\n",
            "34146/34146 [==============================] - 25s 743us/step - loss: 0.6523 - acc: 0.6119 - val_loss: 0.6525 - val_acc: 0.6116\n",
            "Epoch 54/60\n",
            "34146/34146 [==============================] - 25s 741us/step - loss: 0.6512 - acc: 0.6154 - val_loss: 0.6526 - val_acc: 0.6101\n",
            "Epoch 55/60\n",
            "34146/34146 [==============================] - 25s 736us/step - loss: 0.6507 - acc: 0.6118 - val_loss: 0.6532 - val_acc: 0.6087\n",
            "Epoch 56/60\n",
            "34146/34146 [==============================] - 25s 745us/step - loss: 0.6510 - acc: 0.6150 - val_loss: 0.6524 - val_acc: 0.6119\n",
            "Epoch 57/60\n",
            "34146/34146 [==============================] - 26s 747us/step - loss: 0.6508 - acc: 0.6120 - val_loss: 0.6523 - val_acc: 0.6111\n",
            "Epoch 58/60\n",
            "34146/34146 [==============================] - 25s 740us/step - loss: 0.6511 - acc: 0.6167 - val_loss: 0.6523 - val_acc: 0.6106\n",
            "Epoch 59/60\n",
            "34146/34146 [==============================] - 26s 761us/step - loss: 0.6507 - acc: 0.6131 - val_loss: 0.6524 - val_acc: 0.6100\n",
            "Epoch 60/60\n",
            "34146/34146 [==============================] - 26s 750us/step - loss: 0.6487 - acc: 0.6171 - val_loss: 0.6526 - val_acc: 0.6113\n"
          ],
          "name": "stdout"
        },
        {
          "output_type": "execute_result",
          "data": {
            "text/plain": [
              "<keras.callbacks.History at 0x7f25bcaec908>"
            ]
          },
          "metadata": {
            "tags": []
          },
          "execution_count": 23
        }
      ]
    },
    {
      "cell_type": "code",
      "metadata": {
        "id": "V9EMaCyfWZIy",
        "colab_type": "code",
        "colab": {}
      },
      "source": [
        ""
      ],
      "execution_count": 0,
      "outputs": []
    },
    {
      "cell_type": "code",
      "metadata": {
        "id": "W2oKwJ2Lb4hE",
        "colab_type": "code",
        "colab": {}
      },
      "source": [
        ""
      ],
      "execution_count": 0,
      "outputs": []
    }
  ]
}