{
  "nbformat": 4,
  "nbformat_minor": 0,
  "metadata": {
    "colab": {
      "name": "twitgen_use_large_best.ipynb",
      "version": "0.3.2",
      "provenance": [],
      "collapsed_sections": [],
      "include_colab_link": true
    },
    "language_info": {
      "codemirror_mode": {
        "name": "ipython",
        "version": 3
      },
      "file_extension": ".py",
      "mimetype": "text/x-python",
      "name": "python",
      "nbconvert_exporter": "python",
      "pygments_lexer": "ipython3",
      "version": "3.6.7"
    },
    "kernelspec": {
      "name": "python3",
      "display_name": "Python 3"
    },
    "accelerator": "GPU"
  },
  "cells": [
    {
      "cell_type": "markdown",
      "metadata": {
        "id": "view-in-github",
        "colab_type": "text"
      },
      "source": [
        "<a href=\"https://colab.research.google.com/github/andyharless/twit_demog/blob/master/twitgen_use_large_best.ipynb\" target=\"_parent\"><img src=\"https://colab.research.google.com/assets/colab-badge.svg\" alt=\"Open In Colab\"/></a>"
      ]
    },
    {
      "cell_type": "code",
      "metadata": {
        "id": "IcV34L1AIQ-6",
        "colab_type": "code",
        "outputId": "4f35a36a-c60e-4213-9d95-6bed4674ae61",
        "colab": {
          "base_uri": "https://localhost:8080/",
          "height": 632
        }
      },
      "source": [
        "do_mount=True\n",
        "if do_mount:\n",
        "  from google.colab import drive\n",
        "  drive.mount('/content/gdrive')\n",
        "  !pip install \"tensorflow-gpu==1.13.1\""
      ],
      "execution_count": 1,
      "outputs": [
        {
          "output_type": "stream",
          "text": [
            "Go to this URL in a browser: https://accounts.google.com/o/oauth2/auth?client_id=947318989803-6bn6qk8qdgf4n4g3pfee6491hc0brc4i.apps.googleusercontent.com&redirect_uri=urn%3Aietf%3Awg%3Aoauth%3A2.0%3Aoob&scope=email%20https%3A%2F%2Fwww.googleapis.com%2Fauth%2Fdocs.test%20https%3A%2F%2Fwww.googleapis.com%2Fauth%2Fdrive%20https%3A%2F%2Fwww.googleapis.com%2Fauth%2Fdrive.photos.readonly%20https%3A%2F%2Fwww.googleapis.com%2Fauth%2Fpeopleapi.readonly&response_type=code\n",
            "\n",
            "Enter your authorization code:\n",
            "··········\n",
            "Mounted at /content/gdrive\n",
            "Collecting tensorflow-gpu==1.13.1\n",
            "\u001b[?25l  Downloading https://files.pythonhosted.org/packages/7b/b1/0ad4ae02e17ddd62109cd54c291e311c4b5fd09b4d0678d3d6ce4159b0f0/tensorflow_gpu-1.13.1-cp36-cp36m-manylinux1_x86_64.whl (345.2MB)\n",
            "\u001b[K     |████████████████████████████████| 345.2MB 47kB/s \n",
            "\u001b[?25hRequirement already satisfied: wheel>=0.26 in /usr/local/lib/python3.6/dist-packages (from tensorflow-gpu==1.13.1) (0.33.4)\n",
            "Requirement already satisfied: numpy>=1.13.3 in /usr/local/lib/python3.6/dist-packages (from tensorflow-gpu==1.13.1) (1.16.4)\n",
            "Requirement already satisfied: keras-preprocessing>=1.0.5 in /usr/local/lib/python3.6/dist-packages (from tensorflow-gpu==1.13.1) (1.1.0)\n",
            "Requirement already satisfied: absl-py>=0.1.6 in /usr/local/lib/python3.6/dist-packages (from tensorflow-gpu==1.13.1) (0.7.1)\n",
            "Requirement already satisfied: astor>=0.6.0 in /usr/local/lib/python3.6/dist-packages (from tensorflow-gpu==1.13.1) (0.8.0)\n",
            "Requirement already satisfied: six>=1.10.0 in /usr/local/lib/python3.6/dist-packages (from tensorflow-gpu==1.13.1) (1.12.0)\n",
            "Requirement already satisfied: tensorboard<1.14.0,>=1.13.0 in /usr/local/lib/python3.6/dist-packages (from tensorflow-gpu==1.13.1) (1.13.1)\n",
            "Collecting tensorflow-estimator<1.14.0rc0,>=1.13.0 (from tensorflow-gpu==1.13.1)\n",
            "\u001b[?25l  Downloading https://files.pythonhosted.org/packages/bb/48/13f49fc3fa0fdf916aa1419013bb8f2ad09674c275b4046d5ee669a46873/tensorflow_estimator-1.13.0-py2.py3-none-any.whl (367kB)\n",
            "\u001b[K     |████████████████████████████████| 368kB 44.0MB/s \n",
            "\u001b[?25hRequirement already satisfied: termcolor>=1.1.0 in /usr/local/lib/python3.6/dist-packages (from tensorflow-gpu==1.13.1) (1.1.0)\n",
            "Requirement already satisfied: protobuf>=3.6.1 in /usr/local/lib/python3.6/dist-packages (from tensorflow-gpu==1.13.1) (3.7.1)\n",
            "Requirement already satisfied: gast>=0.2.0 in /usr/local/lib/python3.6/dist-packages (from tensorflow-gpu==1.13.1) (0.2.2)\n",
            "Requirement already satisfied: grpcio>=1.8.6 in /usr/local/lib/python3.6/dist-packages (from tensorflow-gpu==1.13.1) (1.15.0)\n",
            "Requirement already satisfied: keras-applications>=1.0.6 in /usr/local/lib/python3.6/dist-packages (from tensorflow-gpu==1.13.1) (1.0.8)\n",
            "Requirement already satisfied: werkzeug>=0.11.15 in /usr/local/lib/python3.6/dist-packages (from tensorboard<1.14.0,>=1.13.0->tensorflow-gpu==1.13.1) (0.15.4)\n",
            "Requirement already satisfied: markdown>=2.6.8 in /usr/local/lib/python3.6/dist-packages (from tensorboard<1.14.0,>=1.13.0->tensorflow-gpu==1.13.1) (3.1.1)\n",
            "Collecting mock>=2.0.0 (from tensorflow-estimator<1.14.0rc0,>=1.13.0->tensorflow-gpu==1.13.1)\n",
            "  Downloading https://files.pythonhosted.org/packages/05/d2/f94e68be6b17f46d2c353564da56e6fb89ef09faeeff3313a046cb810ca9/mock-3.0.5-py2.py3-none-any.whl\n",
            "Requirement already satisfied: setuptools in /usr/local/lib/python3.6/dist-packages (from protobuf>=3.6.1->tensorflow-gpu==1.13.1) (41.0.1)\n",
            "Requirement already satisfied: h5py in /usr/local/lib/python3.6/dist-packages (from keras-applications>=1.0.6->tensorflow-gpu==1.13.1) (2.8.0)\n",
            "\u001b[31mERROR: tensorflow 1.14.0rc1 has requirement tensorflow-estimator<1.15.0rc0,>=1.14.0rc0, but you'll have tensorflow-estimator 1.13.0 which is incompatible.\u001b[0m\n",
            "Installing collected packages: mock, tensorflow-estimator, tensorflow-gpu\n",
            "  Found existing installation: tensorflow-estimator 1.14.0rc0\n",
            "    Uninstalling tensorflow-estimator-1.14.0rc0:\n",
            "      Successfully uninstalled tensorflow-estimator-1.14.0rc0\n",
            "Successfully installed mock-3.0.5 tensorflow-estimator-1.13.0 tensorflow-gpu-1.13.1\n"
          ],
          "name": "stdout"
        }
      ]
    },
    {
      "cell_type": "code",
      "metadata": {
        "id": "qnUyilG-lMEF",
        "colab_type": "code",
        "colab": {}
      },
      "source": [
        "do_compare_preds = True\n",
        "do_save_embeddings = True\n",
        "do_save_model = True\n",
        "do_predict_test = True\n",
        "\n",
        "TRAIN_INPUT = 'twitgen_train_201906011956.csv'\n",
        "VALID_INPUT = 'twitgen_valid_201906011956.csv'\n",
        "TEST_INPUT = 'twitgen_test_201906011956.csv'\n",
        "EMBEDDING_DIM = 512"
      ],
      "execution_count": 0,
      "outputs": []
    },
    {
      "cell_type": "code",
      "metadata": {
        "id": "Q-O7uvDmHVSU",
        "colab_type": "code",
        "colab": {}
      },
      "source": [
        "# Import our dependencies\n",
        "import tensorflow as tf\n",
        "import pandas as pd\n",
        "import tensorflow_hub as hub\n",
        "import os\n",
        "import re\n",
        "import tensorflow.keras.layers as layers\n",
        "import tensorflow.keras.backend as K\n",
        "from tensorflow.keras.models import Model, load_model\n",
        "from tensorflow.keras.layers import Layer\n",
        "from tensorflow.keras.optimizers import Adam, Adagrad\n",
        "from sklearn.metrics import confusion_matrix\n",
        "from sklearn.metrics import accuracy_score\n",
        "from sklearn.metrics import f1_score\n",
        "from sklearn.metrics import roc_curve, auc\n",
        "import numpy as np\n",
        "from datetime import datetime"
      ],
      "execution_count": 0,
      "outputs": []
    },
    {
      "cell_type": "code",
      "metadata": {
        "id": "CTjRdHaGI2Md",
        "colab_type": "code",
        "colab": {}
      },
      "source": [
        "basepath = '/content/gdrive/My Drive/twitgen/'"
      ],
      "execution_count": 0,
      "outputs": []
    },
    {
      "cell_type": "code",
      "metadata": {
        "id": "j5iFCTZYJ045",
        "colab_type": "code",
        "outputId": "d0e6b6b7-4297-4123-e5f1-51768981f5e4",
        "colab": {
          "base_uri": "https://localhost:8080/",
          "height": 235
        }
      },
      "source": [
        "df_train = pd.read_csv(basepath+TRAIN_INPUT, index_col=['id','time'], parse_dates=['time'])\n",
        "df_valid = pd.read_csv(basepath+VALID_INPUT, index_col=['id','time'], parse_dates=['time'])\n",
        "df_test = pd.read_csv(basepath+TEST_INPUT, index_col=['id','time'], parse_dates=['time'])\n",
        "df_train.head()"
      ],
      "execution_count": 5,
      "outputs": [
        {
          "output_type": "execute_result",
          "data": {
            "text/html": [
              "<div>\n",
              "<style scoped>\n",
              "    .dataframe tbody tr th:only-of-type {\n",
              "        vertical-align: middle;\n",
              "    }\n",
              "\n",
              "    .dataframe tbody tr th {\n",
              "        vertical-align: top;\n",
              "    }\n",
              "\n",
              "    .dataframe thead th {\n",
              "        text-align: right;\n",
              "    }\n",
              "</style>\n",
              "<table border=\"1\" class=\"dataframe\">\n",
              "  <thead>\n",
              "    <tr style=\"text-align: right;\">\n",
              "      <th></th>\n",
              "      <th></th>\n",
              "      <th>text</th>\n",
              "      <th>male</th>\n",
              "    </tr>\n",
              "    <tr>\n",
              "      <th>id</th>\n",
              "      <th>time</th>\n",
              "      <th></th>\n",
              "      <th></th>\n",
              "    </tr>\n",
              "  </thead>\n",
              "  <tbody>\n",
              "    <tr>\n",
              "      <th>1083596943807393792</th>\n",
              "      <th>2019-05-27 23:27:08+00:00</th>\n",
              "      <td>Ah, the Flat Earth gambit.\\nWell played.</td>\n",
              "      <td>True</td>\n",
              "    </tr>\n",
              "    <tr>\n",
              "      <th>815783987784187904</th>\n",
              "      <th>2019-05-24 15:36:01+00:00</th>\n",
              "      <td>Aw ily</td>\n",
              "      <td>False</td>\n",
              "    </tr>\n",
              "    <tr>\n",
              "      <th>3458239641</th>\n",
              "      <th>2019-05-24 19:00:37+00:00</th>\n",
              "      <td>I hate being sick</td>\n",
              "      <td>False</td>\n",
              "    </tr>\n",
              "    <tr>\n",
              "      <th>1003729876250226688</th>\n",
              "      <th>2019-05-26 12:53:00+00:00</th>\n",
              "      <td>You still didn't' do shit tho. Slow down the...</td>\n",
              "      <td>True</td>\n",
              "    </tr>\n",
              "    <tr>\n",
              "      <th>2360143940</th>\n",
              "      <th>2019-05-28 03:50:46+00:00</th>\n",
              "      <td>Harriet Tubman may not be on the $20 bill... f...</td>\n",
              "      <td>False</td>\n",
              "    </tr>\n",
              "  </tbody>\n",
              "</table>\n",
              "</div>"
            ],
            "text/plain": [
              "                                                                                            text   male\n",
              "id                  time                                                                               \n",
              "1083596943807393792 2019-05-27 23:27:08+00:00           Ah, the Flat Earth gambit.\\nWell played.   True\n",
              "815783987784187904  2019-05-24 15:36:01+00:00                                             Aw ily  False\n",
              "3458239641          2019-05-24 19:00:37+00:00                                  I hate being sick  False\n",
              "1003729876250226688 2019-05-26 12:53:00+00:00    You still didn't' do shit tho. Slow down the...   True\n",
              "2360143940          2019-05-28 03:50:46+00:00  Harriet Tubman may not be on the $20 bill... f...  False"
            ]
          },
          "metadata": {
            "tags": []
          },
          "execution_count": 5
        }
      ]
    },
    {
      "cell_type": "code",
      "metadata": {
        "id": "7uALhDlgHVSk",
        "colab_type": "code",
        "colab": {}
      },
      "source": [
        "# Create datasets (Only take up to 150 words for memory)\n",
        "train_text = df_train['text'].tolist()\n",
        "train_text = [' '.join(t.split()[0:150]) for t in train_text]\n",
        "train_text = np.array(train_text, dtype=object)[:, np.newaxis]\n",
        "train_label = df_train['male'].tolist()\n",
        "\n",
        "valid_text = df_valid['text'].tolist()\n",
        "valid_text = [' '.join(t.split()[0:150]) for t in valid_text]\n",
        "valid_text = np.array(valid_text, dtype=object)[:, np.newaxis]\n",
        "valid_label = df_valid['male'].tolist()"
      ],
      "execution_count": 0,
      "outputs": []
    },
    {
      "cell_type": "code",
      "metadata": {
        "id": "UQ3aiS9aILav",
        "colab_type": "code",
        "colab": {}
      },
      "source": [
        "# Initialize session\n",
        "tf.logging.set_verbosity(tf.logging.ERROR)\n",
        "sess = tf.Session()\n",
        "K.set_session(sess)"
      ],
      "execution_count": 0,
      "outputs": []
    },
    {
      "cell_type": "code",
      "metadata": {
        "id": "msrIKUwkHVSf",
        "colab_type": "code",
        "colab": {}
      },
      "source": [
        "# Create a custom layer that allows us to update weights (lambda layers do not have trainable parameters!)\n",
        "\n",
        "class USEEmbeddingLayer(Layer):\n",
        "    def __init__(self, trainable=True, **kwargs):\n",
        "        self.dimensions = EMBEDDING_DIM\n",
        "        super(USEEmbeddingLayer, self).__init__(**kwargs)\n",
        "        self.trainable=trainable\n",
        "\n",
        "    def build(self, input_shape):\n",
        "        self.use = hub.Module('https://tfhub.dev/google/universal-sentence-encoder-large/3', trainable=True, #self.trainable,\n",
        "                               name=\"{}_module\".format(self.name))\n",
        "        wts = tf.trainable_variables(scope=\".*{}_module/.*\".format(self.name))\n",
        "        wts = [v for v in wts if not (\"SNLI\" in v.name or \"SHARED_RANK_ANSWER\" in v.name)]\n",
        "        if len(wts)>0:\n",
        "          if self.trainable:\n",
        "            self._trainable_weights += wts\n",
        "          else:\n",
        "            self._non_trainable_weights += wts\n",
        "        else:\n",
        "          print('WARNING: No weights in Embedding Layer')\n",
        "        super(USEEmbeddingLayer, self).build(input_shape)\n",
        "\n",
        "   \n",
        "    def call(self, x, mask=None):\n",
        "        result = self.use(tf.squeeze(tf.cast(x, tf.string), axis=1))\n",
        "        return result\n",
        "\n",
        "    def compute_mask(self, inputs, mask=None):\n",
        "        return tf.not_equal(inputs, '--PAD--')\n",
        "\n",
        "    def compute_output_shape(self, input_shape):\n",
        "        return (input_shape[0], self.dimensions)\n"
      ],
      "execution_count": 0,
      "outputs": []
    },
    {
      "cell_type": "code",
      "metadata": {
        "id": "U_XQHdk5HVSh",
        "colab_type": "code",
        "colab": {}
      },
      "source": [
        "# Function to build model\n",
        "def build_model(train_embedding=True, optimizer=Adagrad, lr=.003): \n",
        "  input_text = layers.Input(shape=(1,), dtype=\"string\")\n",
        "  embedding = USEEmbeddingLayer(trainable=train_embedding)(input_text)\n",
        "  dense1 = layers.Dense(512, activation='relu')(embedding)\n",
        "\n",
        "  dropout0 = layers.Dropout(.8)(dense1)\n",
        "  pred = layers.Dense(1, activation='sigmoid')(dropout0)\n",
        "\n",
        "  model = Model(inputs=[input_text], outputs=pred)\n",
        "\n",
        "  model.compile(loss='binary_crossentropy', optimizer=optimizer(lr), metrics=['accuracy'])\n",
        "  model.summary()\n",
        "  \n",
        "  return model"
      ],
      "execution_count": 0,
      "outputs": []
    },
    {
      "cell_type": "code",
      "metadata": {
        "id": "78eTExX1-oK6",
        "colab_type": "code",
        "outputId": "1ccdf6f1-b6b6-48c3-8d52-58de48e15a3f",
        "colab": {
          "base_uri": "https://localhost:8080/",
          "height": 306
        }
      },
      "source": [
        "model = build_model(train_embedding=False)"
      ],
      "execution_count": 10,
      "outputs": [
        {
          "output_type": "stream",
          "text": [
            "_________________________________________________________________\n",
            "Layer (type)                 Output Shape              Param #   \n",
            "=================================================================\n",
            "input_1 (InputLayer)         (None, 1)                 0         \n",
            "_________________________________________________________________\n",
            "use_embedding_layer (USEEmbe (None, 512)               211345728 \n",
            "_________________________________________________________________\n",
            "dense (Dense)                (None, 512)               262656    \n",
            "_________________________________________________________________\n",
            "dropout (Dropout)            (None, 512)               0         \n",
            "_________________________________________________________________\n",
            "dense_1 (Dense)              (None, 1)                 513       \n",
            "=================================================================\n",
            "Total params: 211,608,897\n",
            "Trainable params: 263,169\n",
            "Non-trainable params: 211,345,728\n",
            "_________________________________________________________________\n"
          ],
          "name": "stdout"
        }
      ]
    },
    {
      "cell_type": "code",
      "metadata": {
        "id": "M_yGiv18KrrP",
        "colab_type": "code",
        "colab": {}
      },
      "source": [
        "init = tf.global_variables_initializer()\n",
        "table_init = tf.tables_initializer()\n",
        "sess = tf.Session()\n",
        "sess.run([init, table_init])\n",
        "K.set_session(sess)"
      ],
      "execution_count": 0,
      "outputs": []
    },
    {
      "cell_type": "code",
      "metadata": {
        "id": "6BdLIwtnB_Oo",
        "colab_type": "code",
        "colab": {}
      },
      "source": [
        "lr = .0003\n",
        "model.compile(loss='binary_crossentropy', optimizer=Adam(lr), metrics=['accuracy'])"
      ],
      "execution_count": 0,
      "outputs": []
    },
    {
      "cell_type": "code",
      "metadata": {
        "id": "MhXRetrLHVSm",
        "colab_type": "code",
        "outputId": "d5160612-106a-45db-8c60-81acdd5f3772",
        "colab": {
          "base_uri": "https://localhost:8080/",
          "height": 207
        }
      },
      "source": [
        "model.fit(train_text, \n",
        "          train_label,\n",
        "          validation_data=(valid_text, valid_label),\n",
        "          epochs=4 ,\n",
        "          batch_size=128)"
      ],
      "execution_count": 13,
      "outputs": [
        {
          "output_type": "stream",
          "text": [
            "Train on 34146 samples, validate on 10914 samples\n",
            "Epoch 1/4\n",
            "34146/34146 [==============================] - 24s 710us/sample - loss: 0.6686 - acc: 0.5926 - val_loss: 0.6506 - val_acc: 0.6250\n",
            "Epoch 2/4\n",
            "34146/34146 [==============================] - 21s 617us/sample - loss: 0.6519 - acc: 0.6163 - val_loss: 0.6449 - val_acc: 0.6253\n",
            "Epoch 3/4\n",
            "34146/34146 [==============================] - 21s 622us/sample - loss: 0.6483 - acc: 0.6175 - val_loss: 0.6435 - val_acc: 0.6256\n",
            "Epoch 4/4\n",
            "34146/34146 [==============================] - 21s 629us/sample - loss: 0.6460 - acc: 0.6199 - val_loss: 0.6428 - val_acc: 0.6250\n"
          ],
          "name": "stdout"
        },
        {
          "output_type": "execute_result",
          "data": {
            "text/plain": [
              "<tensorflow.python.keras.callbacks.History at 0x7f37f858cc88>"
            ]
          },
          "metadata": {
            "tags": []
          },
          "execution_count": 13
        }
      ]
    },
    {
      "cell_type": "code",
      "metadata": {
        "id": "TP8FcchN7Q7p",
        "colab_type": "code",
        "colab": {}
      },
      "source": [
        "if do_compare_preds:\n",
        "  pre_save_weights = model.get_weights()\n",
        "  pre_save_preds = model.predict(valid_text[0:100]) # predictions before we clear and reload model\n",
        "model.save('USELModel.h5')"
      ],
      "execution_count": 0,
      "outputs": []
    },
    {
      "cell_type": "code",
      "metadata": {
        "scrolled": true,
        "id": "PI2EpQc4HVSp",
        "colab_type": "code",
        "colab": {}
      },
      "source": [
        "model = None\n",
        "sess.close()"
      ],
      "execution_count": 0,
      "outputs": []
    },
    {
      "cell_type": "code",
      "metadata": {
        "id": "nA9lOQzE9a2r",
        "colab_type": "code",
        "outputId": "80aed7e3-1de3-42c5-bb09-8fff8e87ea57",
        "colab": {
          "base_uri": "https://localhost:8080/",
          "height": 306
        }
      },
      "source": [
        "sess = tf.Session()\n",
        "K.set_session(sess)\n",
        "model = build_model(train_embedding=True)"
      ],
      "execution_count": 16,
      "outputs": [
        {
          "output_type": "stream",
          "text": [
            "_________________________________________________________________\n",
            "Layer (type)                 Output Shape              Param #   \n",
            "=================================================================\n",
            "input_2 (InputLayer)         (None, 1)                 0         \n",
            "_________________________________________________________________\n",
            "use_embedding_layer_1 (USEEm (None, 512)               211345728 \n",
            "_________________________________________________________________\n",
            "dense_2 (Dense)              (None, 512)               262656    \n",
            "_________________________________________________________________\n",
            "dropout_1 (Dropout)          (None, 512)               0         \n",
            "_________________________________________________________________\n",
            "dense_3 (Dense)              (None, 1)                 513       \n",
            "=================================================================\n",
            "Total params: 211,608,897\n",
            "Trainable params: 211,608,897\n",
            "Non-trainable params: 0\n",
            "_________________________________________________________________\n"
          ],
          "name": "stdout"
        }
      ]
    },
    {
      "cell_type": "code",
      "metadata": {
        "id": "wy4EyLtU63uz",
        "colab_type": "code",
        "outputId": "eb7449b3-22c9-47a7-c386-ac12e941c83d",
        "colab": {
          "base_uri": "https://localhost:8080/",
          "height": 34
        }
      },
      "source": [
        "init = tf.global_variables_initializer()\n",
        "table_init = tf.tables_initializer()\n",
        "sess = tf.Session()\n",
        "sess.run([init, table_init])\n",
        "K.set_session(sess)\n",
        "\n",
        "lr = 7e-5\n",
        "model.compile(loss='binary_crossentropy', optimizer=Adam(lr), metrics=['accuracy'])\n",
        "model.load_weights('USELModel.h5')\n",
        "if do_compare_preds:\n",
        "  post_save_weights = model.get_weights()\n",
        "  post_save_preds = model.predict(valid_text[0:100]) # predictions after we clear and reload model\n",
        "  print(all(pre_save_preds == post_save_preds)) # Are they the same?"
      ],
      "execution_count": 17,
      "outputs": [
        {
          "output_type": "stream",
          "text": [
            "True\n"
          ],
          "name": "stdout"
        }
      ]
    },
    {
      "cell_type": "code",
      "metadata": {
        "id": "v1WsGVqGHVSs",
        "colab_type": "code",
        "outputId": "c8684a9a-3d31-4b6a-f6eb-501e1f323c47",
        "colab": {
          "base_uri": "https://localhost:8080/",
          "height": 122
        }
      },
      "source": [
        "model.fit(train_text, \n",
        "          train_label,\n",
        "          validation_data=(valid_text, valid_label),\n",
        "          epochs=1,\n",
        "          batch_size=128)"
      ],
      "execution_count": 18,
      "outputs": [
        {
          "output_type": "stream",
          "text": [
            "Train on 34146 samples, validate on 10914 samples\n"
          ],
          "name": "stdout"
        },
        {
          "output_type": "stream",
          "text": [
            "/usr/local/lib/python3.6/dist-packages/tensorflow/python/ops/gradients_impl.py:110: UserWarning: Converting sparse IndexedSlices to a dense Tensor of unknown shape. This may consume a large amount of memory.\n",
            "  \"Converting sparse IndexedSlices to a dense Tensor of unknown shape. \"\n"
          ],
          "name": "stderr"
        },
        {
          "output_type": "stream",
          "text": [
            "34146/34146 [==============================] - 81s 2ms/sample - loss: 0.6441 - acc: 0.6240 - val_loss: 0.6368 - val_acc: 0.6288\n"
          ],
          "name": "stdout"
        },
        {
          "output_type": "execute_result",
          "data": {
            "text/plain": [
              "<tensorflow.python.keras.callbacks.History at 0x7f36e35f5668>"
            ]
          },
          "metadata": {
            "tags": []
          },
          "execution_count": 18
        }
      ]
    },
    {
      "cell_type": "code",
      "metadata": {
        "id": "J_WJL0y2K7SK",
        "colab_type": "code",
        "colab": {}
      },
      "source": [
        "if do_save_model or do_save_embeddings:\n",
        "  model.save('USELModel_full.h5')"
      ],
      "execution_count": 0,
      "outputs": []
    },
    {
      "cell_type": "code",
      "metadata": {
        "id": "06O-5UjUOqlv",
        "colab_type": "code",
        "outputId": "70e9af2f-f4da-4445-85e9-9f6425497a02",
        "colab": {
          "base_uri": "https://localhost:8080/",
          "height": 306
        }
      },
      "source": [
        "model = None\n",
        "sess.close()\n",
        "\n",
        "if do_save_embeddings:\n",
        "  sess = tf.Session()\n",
        "  K.set_session(sess)\n",
        "  model = build_model(train_embedding=True)\n",
        "\n",
        "  init = tf.global_variables_initializer()\n",
        "  table_init = tf.tables_initializer()\n",
        "  sess = tf.Session()\n",
        "  sess.run([init, table_init])\n",
        "  K.set_session(sess)\n",
        "\n",
        "  lr = 7e-5\n",
        "  model.compile(loss='binary_crossentropy', optimizer=Adam(lr), metrics=['accuracy'])\n",
        "  model.load_weights('USELModel_full.h5')\n",
        "\n",
        "  inp = model.input\n",
        "  embeddings = model.layers[1].output\n",
        "  get_embeddings = K.function([inp],[embeddings])"
      ],
      "execution_count": 20,
      "outputs": [
        {
          "output_type": "stream",
          "text": [
            "_________________________________________________________________\n",
            "Layer (type)                 Output Shape              Param #   \n",
            "=================================================================\n",
            "input_3 (InputLayer)         (None, 1)                 0         \n",
            "_________________________________________________________________\n",
            "use_embedding_layer_2 (USEEm (None, 512)               211345728 \n",
            "_________________________________________________________________\n",
            "dense_4 (Dense)              (None, 512)               262656    \n",
            "_________________________________________________________________\n",
            "dropout_2 (Dropout)          (None, 512)               0         \n",
            "_________________________________________________________________\n",
            "dense_5 (Dense)              (None, 1)                 513       \n",
            "=================================================================\n",
            "Total params: 211,608,897\n",
            "Trainable params: 211,608,897\n",
            "Non-trainable params: 0\n",
            "_________________________________________________________________\n"
          ],
          "name": "stdout"
        }
      ]
    },
    {
      "cell_type": "code",
      "metadata": {
        "id": "WlaDAjgLNfMV",
        "colab_type": "code",
        "colab": {}
      },
      "source": [
        "chunk_size = 2**13\n",
        "timestamp = datetime.now().strftime('%Y%m%d%H%M')"
      ],
      "execution_count": 0,
      "outputs": []
    },
    {
      "cell_type": "code",
      "metadata": {
        "id": "m_pojthwNfXW",
        "colab_type": "code",
        "colab": {}
      },
      "source": [
        "def save_embeddings(df, split, timestamp):\n",
        "\n",
        "  full_len = df.shape[0]\n",
        "  tweet_embeddings = np.empty(shape=[0,EMBEDDING_DIM])\n",
        "\n",
        "  for start in range(0, full_len, chunk_size):\n",
        "    end = min(start+chunk_size, full_len)\n",
        "    embeddings_chunk = get_embeddings([df[['text']].values[start:end]])[0]\n",
        "    tweet_embeddings = np.concatenate([tweet_embeddings, embeddings_chunk])\n",
        "\n",
        "  for i in range(tweet_embeddings.shape[1]):\n",
        "    df['embed'+str(i)] = (tweet_embeddings[:,i]*1e6).astype(int)\n",
        "  \n",
        "  embed_file_name = basepath + 'embed_' + split + '_' + timestamp + '.csv'\n",
        "  df.drop(['text'],axis=1).to_csv(embed_file_name)"
      ],
      "execution_count": 0,
      "outputs": []
    },
    {
      "cell_type": "code",
      "metadata": {
        "id": "uQA76_JrTS_f",
        "colab_type": "code",
        "colab": {}
      },
      "source": [
        "if do_save_embeddings:\n",
        "  save_embeddings(df_train, 'train', timestamp)\n",
        "  save_embeddings(df_valid, 'valid', timestamp)\n",
        "  save_embeddings(df_test, 'test', timestamp)"
      ],
      "execution_count": 0,
      "outputs": []
    },
    {
      "cell_type": "code",
      "metadata": {
        "id": "OJlCXXxKdMwN",
        "colab_type": "code",
        "outputId": "9b9f5894-389a-4924-b59d-eb69430d7fad",
        "colab": {
          "base_uri": "https://localhost:8080/",
          "height": 34
        }
      },
      "source": [
        "df_valid.isna().sum().sum()"
      ],
      "execution_count": 24,
      "outputs": [
        {
          "output_type": "execute_result",
          "data": {
            "text/plain": [
              "0"
            ]
          },
          "metadata": {
            "tags": []
          },
          "execution_count": 24
        }
      ]
    },
    {
      "cell_type": "code",
      "metadata": {
        "id": "hMyw6GBes3UW",
        "colab_type": "code",
        "outputId": "70d345f5-0830-4ee6-c67c-7fc0b83f9346",
        "colab": {
          "base_uri": "https://localhost:8080/",
          "height": 119
        }
      },
      "source": [
        "if do_predict_test:\n",
        "  test_text = df_test['text'].tolist()\n",
        "  test_text = [' '.join(t.split()[0:150]) for t in test_text]\n",
        "  test_text = np.array(test_text, dtype=object)[:, np.newaxis]\n",
        "  y_test = df_test['male']\n",
        "  test_preds = model.predict(test_text)\n",
        "  print('Test set confusion matrix:')\n",
        "  print( confusion_matrix(y_test, (test_preds>.5)))\n",
        "  print('Test set F1 score: {}'.format(f1_score(y_test, test_preds>.5)))\n",
        "  print('Test set accuracy: {}'.format(accuracy_score(y_test, test_preds>.5)))\n",
        "  fpr, tpr, _ = roc_curve(y_test, test_preds)\n",
        "  print('Test set ROC AUC: {}'.format(auc(fpr, tpr)))"
      ],
      "execution_count": 25,
      "outputs": [
        {
          "output_type": "stream",
          "text": [
            "Test set confusion matrix:\n",
            "[[3176 2049]\n",
            " [1835 3390]]\n",
            "Test set F1 score: 0.6357839459864967\n",
            "Test set accuracy: 0.6283253588516746\n",
            "Test set ROC AUC: 0.6791038666697191\n"
          ],
          "name": "stdout"
        }
      ]
    },
    {
      "cell_type": "code",
      "metadata": {
        "id": "gv-vWO9WIFtw",
        "colab_type": "code",
        "outputId": "5a592416-861d-4ef4-d5e0-49aa54f7ee87",
        "colab": {
          "base_uri": "https://localhost:8080/",
          "height": 390
        }
      },
      "source": [
        "df_acc = pd.DataFrame(columns=['minprob','maxprob','count','accuracy'])\n",
        "predicted = test_preds.reshape(-1)\n",
        "for pbot in np.linspace(0,.9,10):\n",
        "    ptop = pbot+.1\n",
        "    mask = (predicted>=pbot)&(predicted<ptop)\n",
        "    count = int(mask.sum())\n",
        "    actual = pd.Series(y_test)[mask].values\n",
        "    pred_prob = pd.Series(predicted)[mask].values\n",
        "    pred_bin = pred_prob>.5\n",
        "    acc = accuracy_score(actual, pred_bin)\n",
        "    row = pd.DataFrame({'minprob':[pbot], 'maxprob':[ptop], 'count':[count], 'accuracy':[acc]})\n",
        "    df_acc = pd.concat([df_acc, row])\n",
        "df_acc.set_index(['minprob','maxprob'])"
      ],
      "execution_count": 26,
      "outputs": [
        {
          "output_type": "execute_result",
          "data": {
            "text/html": [
              "<div>\n",
              "<style scoped>\n",
              "    .dataframe tbody tr th:only-of-type {\n",
              "        vertical-align: middle;\n",
              "    }\n",
              "\n",
              "    .dataframe tbody tr th {\n",
              "        vertical-align: top;\n",
              "    }\n",
              "\n",
              "    .dataframe thead th {\n",
              "        text-align: right;\n",
              "    }\n",
              "</style>\n",
              "<table border=\"1\" class=\"dataframe\">\n",
              "  <thead>\n",
              "    <tr style=\"text-align: right;\">\n",
              "      <th></th>\n",
              "      <th></th>\n",
              "      <th>count</th>\n",
              "      <th>accuracy</th>\n",
              "    </tr>\n",
              "    <tr>\n",
              "      <th>minprob</th>\n",
              "      <th>maxprob</th>\n",
              "      <th></th>\n",
              "      <th></th>\n",
              "    </tr>\n",
              "  </thead>\n",
              "  <tbody>\n",
              "    <tr>\n",
              "      <th>0.0</th>\n",
              "      <th>0.1</th>\n",
              "      <td>26</td>\n",
              "      <td>0.961538</td>\n",
              "    </tr>\n",
              "    <tr>\n",
              "      <th>0.1</th>\n",
              "      <th>0.2</th>\n",
              "      <td>196</td>\n",
              "      <td>0.846939</td>\n",
              "    </tr>\n",
              "    <tr>\n",
              "      <th>0.2</th>\n",
              "      <th>0.3</th>\n",
              "      <td>792</td>\n",
              "      <td>0.757576</td>\n",
              "    </tr>\n",
              "    <tr>\n",
              "      <th>0.3</th>\n",
              "      <th>0.4</th>\n",
              "      <td>1524</td>\n",
              "      <td>0.643045</td>\n",
              "    </tr>\n",
              "    <tr>\n",
              "      <th>0.4</th>\n",
              "      <th>0.5</th>\n",
              "      <td>2473</td>\n",
              "      <td>0.568136</td>\n",
              "    </tr>\n",
              "    <tr>\n",
              "      <th>0.5</th>\n",
              "      <th>0.6</th>\n",
              "      <td>2550</td>\n",
              "      <td>0.545098</td>\n",
              "    </tr>\n",
              "    <tr>\n",
              "      <th>0.6</th>\n",
              "      <th>0.7</th>\n",
              "      <td>1650</td>\n",
              "      <td>0.627273</td>\n",
              "    </tr>\n",
              "    <tr>\n",
              "      <th>0.7</th>\n",
              "      <th>0.8</th>\n",
              "      <td>736</td>\n",
              "      <td>0.732337</td>\n",
              "    </tr>\n",
              "    <tr>\n",
              "      <th>0.8</th>\n",
              "      <th>0.9</th>\n",
              "      <td>470</td>\n",
              "      <td>0.840426</td>\n",
              "    </tr>\n",
              "    <tr>\n",
              "      <th>0.9</th>\n",
              "      <th>1.0</th>\n",
              "      <td>33</td>\n",
              "      <td>0.939394</td>\n",
              "    </tr>\n",
              "  </tbody>\n",
              "</table>\n",
              "</div>"
            ],
            "text/plain": [
              "                count  accuracy\n",
              "minprob maxprob                \n",
              "0.0     0.1        26  0.961538\n",
              "0.1     0.2       196  0.846939\n",
              "0.2     0.3       792  0.757576\n",
              "0.3     0.4      1524  0.643045\n",
              "0.4     0.5      2473  0.568136\n",
              "0.5     0.6      2550  0.545098\n",
              "0.6     0.7      1650  0.627273\n",
              "0.7     0.8       736  0.732337\n",
              "0.8     0.9       470  0.840426\n",
              "0.9     1.0        33  0.939394"
            ]
          },
          "metadata": {
            "tags": []
          },
          "execution_count": 26
        }
      ]
    },
    {
      "cell_type": "code",
      "metadata": {
        "id": "ec_smx1jTTC7",
        "colab_type": "code",
        "outputId": "e4903919-d6f9-4938-8e2e-712308a66373",
        "colab": {
          "base_uri": "https://localhost:8080/",
          "height": 34
        }
      },
      "source": [
        "model_file_name = 'not saved'\n",
        "if do_save_model:\n",
        "  model_file_name = basepath + 'USELModel_' + timestamp + '.h5'\n",
        "  !cp USELModel_full.h5 '$model_file_name'\n",
        "model_file_name"
      ],
      "execution_count": 27,
      "outputs": [
        {
          "output_type": "execute_result",
          "data": {
            "text/plain": [
              "'/content/gdrive/My Drive/twitgen/USELModel_201906161241.h5'"
            ]
          },
          "metadata": {
            "tags": []
          },
          "execution_count": 27
        }
      ]
    },
    {
      "cell_type": "code",
      "metadata": {
        "id": "QMZAIonXN6Wb",
        "colab_type": "code",
        "colab": {}
      },
      "source": [
        ""
      ],
      "execution_count": 0,
      "outputs": []
    }
  ]
}